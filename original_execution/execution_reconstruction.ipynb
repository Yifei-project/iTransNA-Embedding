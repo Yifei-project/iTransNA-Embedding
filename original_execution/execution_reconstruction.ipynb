{
 "cells": [
  {
   "cell_type": "code",
   "execution_count": 1,
   "metadata": {},
   "outputs": [],
   "source": [
    "using DynamicalSystems\n",
    "using DelayEmbeddings\n",
    "using HDF5"
   ]
  },
  {
   "cell_type": "markdown",
   "metadata": {},
   "source": [
    "### Lorenz system"
   ]
  },
  {
   "cell_type": "code",
   "execution_count": 2,
   "metadata": {},
   "outputs": [
    {
     "name": "stdout",
     "output_type": "stream",
     "text": [
      "Initializing PECUZAL algorithm for univariate input...\n",
      "Starting 1-th embedding cycle...\n"
     ]
    },
    {
     "name": "stdout",
     "output_type": "stream",
     "text": [
      "Starting 2-th embedding cycle...\n"
     ]
    },
    {
     "name": "stdout",
     "output_type": "stream",
     "text": [
      "Starting 3-th embedding cycle..."
     ]
    },
    {
     "name": "stdout",
     "output_type": "stream",
     "text": [
      "\n"
     ]
    },
    {
     "name": "stdout",
     "output_type": "stream",
     "text": [
      "Starting 4-th embedding cycle...\n",
      "Starting 5-th embedding cycle...\n"
     ]
    },
    {
     "name": "stdout",
     "output_type": "stream",
     "text": [
      "Starting 6-th embedding cycle...\n"
     ]
    },
    {
     "name": "stdout",
     "output_type": "stream",
     "text": [
      "Starting 7-th embedding cycle...\n"
     ]
    },
    {
     "name": "stdout",
     "output_type": "stream",
     "text": [
      "Algorithm stopped due to increasing L-values. VALID embedding achieved ✓.\n"
     ]
    },
    {
     "name": "stdout",
     "output_type": "stream",
     "text": [
      "[0, 3, 22, 24, 13, 15, 6"
     ]
    },
    {
     "name": "stdout",
     "output_type": "stream",
     "text": [
      "][-0.2991321489708003, -0.08468813059986285, -0.3065731436391981, -0.05330629652673213, -0.0698439691452466, -0.017204172927193784]\n"
     ]
    }
   ],
   "source": [
    "for i = 1:1\n",
    "    # fid = h5open(\"E:/LearningEmbedding/data_collection/3D-lorenz/lorenz_no\"*string(i)*\".h5\", \"r\")\n",
    "    fid = h5open(\"E:/LearningEmbedding/data_collection/3D-lorenz/noisy_lorenz_no\"*string(i)*\".h5\", \"r\")\n",
    "    Y = fid[\"xM\"]\n",
    "\n",
    "    s = vec(Y[:, 2]) # input timeseries = y-component of Lorenz\n",
    "    theiler = estimate_delay(s, \"mi_min\") # estimate a Theiler window\n",
    "    Tmax = 50 # maximum possible delay\n",
    "    close(fid)\n",
    "\n",
    "    Recon_pec, τ_vals, ts_vals, Ls, εs = pecuzal_embedding(s; τs = 0:Tmax , w = theiler, L_threshold=0, econ = true)\n",
    "    println(τ_vals, Ls)\n",
    "    # ff = h5open(\"e:/LearningEmbedding/results/PECUZAL/3D-lorenz/lorenz_uni_no\"*string(i)*\".h5\", \"w\")\n",
    "    ff = h5open(\"e:/LearningEmbedding/results/PECUZAL/3D-lorenz/noisy_lorenz_uni_no\"*string(i)*\".h5\", \"w\")\n",
    "    ff[\"Embedding\"] = Matrix(Recon_pec)\n",
    "    ff[\"delays\"] = τ_vals\n",
    "    close(ff)\n",
    "    \n",
    "end"
   ]
  },
  {
   "cell_type": "code",
   "execution_count": 3,
   "metadata": {},
   "outputs": [
    {
     "name": "stdout",
     "output_type": "stream",
     "text": [
      "Algorithm stopped due to sufficiently small FNNs. Valid embedding achieved ✓.\n",
      "[0, 18, 11, 20, 2]\n"
     ]
    },
    {
     "name": "stdout",
     "output_type": "stream",
     "text": [
      "Algorithm stopped due to sufficiently small FNNs. Valid embedding achieved ✓.\n",
      "[0, 18, 11, 21, 3]"
     ]
    },
    {
     "name": "stdout",
     "output_type": "stream",
     "text": [
      "\n",
      "Algorithm stopped due to sufficiently small FNNs. Valid embedding achieved ✓.\n",
      "[0, 18, 11, 21, 9]"
     ]
    },
    {
     "name": "stdout",
     "output_type": "stream",
     "text": [
      "\n",
      "Algorithm stopped due to sufficiently small FNNs. Valid embedding achieved ✓.\n",
      "[0, 18, 11, 20, 2]\n"
     ]
    },
    {
     "name": "stdout",
     "output_type": "stream",
     "text": [
      "Algorithm stopped due to sufficiently small FNNs. Valid embedding achieved ✓.\n",
      "[0, 18, 11, 23, 3]"
     ]
    },
    {
     "name": "stdout",
     "output_type": "stream",
     "text": [
      "\n",
      "Algorithm stopped due to sufficiently small FNNs. Valid embedding achieved ✓.\n",
      "[0, 18, 11, 21, 3]\n"
     ]
    },
    {
     "name": "stdout",
     "output_type": "stream",
     "text": [
      "Algorithm stopped due to sufficiently small FNNs. Valid embedding achieved ✓.\n",
      "[0, 18, 10, 23, 2]\n"
     ]
    },
    {
     "name": "stdout",
     "output_type": "stream",
     "text": [
      "Algorithm stopped due to sufficiently small FNNs. Valid embedding achieved ✓.\n",
      "[0, 18, 11, 20, 3]"
     ]
    },
    {
     "name": "stdout",
     "output_type": "stream",
     "text": [
      "\n",
      "Algorithm stopped due to sufficiently small FNNs. Valid embedding achieved ✓.\n",
      "[0, 18, 11, 22, 2]"
     ]
    },
    {
     "name": "stdout",
     "output_type": "stream",
     "text": [
      "\n",
      "Algorithm stopped due to sufficiently small FNNs. Valid embedding achieved ✓.\n",
      "[0, 19, 12, 22, 3]\n"
     ]
    },
    {
     "name": "stdout",
     "output_type": "stream",
     "text": [
      "Algorithm stopped due to sufficiently small FNNs. Valid embedding achieved ✓.\n",
      "[0, 24, 12, 21, 3]\n"
     ]
    },
    {
     "name": "stdout",
     "output_type": "stream",
     "text": [
      "Algorithm stopped due to sufficiently small FNNs. Valid embedding achieved ✓.\n",
      "[0, 18, 10, 23, 21]\n"
     ]
    },
    {
     "name": "stdout",
     "output_type": "stream",
     "text": [
      "Algorithm stopped due to sufficiently small FNNs. Valid embedding achieved ✓.\n",
      "[0, 18, 10, 20, 7]"
     ]
    },
    {
     "name": "stdout",
     "output_type": "stream",
     "text": [
      "\n",
      "Algorithm stopped due to sufficiently small FNNs. Valid embedding achieved ✓.\n",
      "[0, 11, 20, 18, 2]\n"
     ]
    },
    {
     "name": "stdout",
     "output_type": "stream",
     "text": [
      "Algorithm stopped due to sufficiently small FNNs. Valid embedding achieved ✓.\n",
      "[0, 18, 11, 20, 2]\n"
     ]
    },
    {
     "name": "stdout",
     "output_type": "stream",
     "text": [
      "Algorithm stopped due to sufficiently small FNNs. Valid embedding achieved ✓.\n",
      "[0, 18, 12, 20, 9]"
     ]
    },
    {
     "name": "stdout",
     "output_type": "stream",
     "text": [
      "\n",
      "Algorithm stopped due to sufficiently small FNNs. Valid embedding achieved ✓.\n",
      "[0, 18, 11, 21, 3]\n"
     ]
    },
    {
     "name": "stdout",
     "output_type": "stream",
     "text": [
      "Algorithm stopped due to sufficiently small FNNs. Valid embedding achieved ✓.\n",
      "[0, 18, 11, 20, 3]"
     ]
    },
    {
     "name": "stdout",
     "output_type": "stream",
     "text": [
      "\n",
      "Algorithm stopped due to sufficiently small FNNs. Valid embedding achieved ✓.\n",
      "[0, 18, 11, 21, 2]"
     ]
    },
    {
     "name": "stdout",
     "output_type": "stream",
     "text": [
      "\n",
      "Algorithm stopped due to sufficiently small FNNs. Valid embedding achieved ✓.\n",
      "[0, 18, 11, 20, 2]\n"
     ]
    },
    {
     "name": "stdout",
     "output_type": "stream",
     "text": [
      "Algorithm stopped due to sufficiently small FNNs. Valid embedding achieved ✓.\n",
      "[0, 18, 11, 20, 2]\n"
     ]
    },
    {
     "name": "stdout",
     "output_type": "stream",
     "text": [
      "Algorithm stopped due to sufficiently small FNNs. Valid embedding achieved ✓.\n",
      "[0, 18, 11, 20, 3]\n"
     ]
    },
    {
     "name": "stdout",
     "output_type": "stream",
     "text": [
      "Algorithm stopped due to sufficiently small FNNs. Valid embedding achieved ✓.\n",
      "[0, 18, 11, 20, 2]"
     ]
    },
    {
     "name": "stdout",
     "output_type": "stream",
     "text": [
      "\n",
      "Algorithm stopped due to sufficiently small FNNs. Valid embedding achieved ✓.\n",
      "[0, 18, 11, 20, 3]"
     ]
    },
    {
     "name": "stdout",
     "output_type": "stream",
     "text": [
      "\n",
      "Algorithm stopped due to sufficiently small FNNs. Valid embedding achieved ✓.\n",
      "[0, 18, 11, 23, 3]\n"
     ]
    },
    {
     "name": "stdout",
     "output_type": "stream",
     "text": [
      "Algorithm stopped due to sufficiently small FNNs. Valid embedding achieved ✓.\n",
      "[0, 18, 12, 20, 3]\n"
     ]
    },
    {
     "name": "stdout",
     "output_type": "stream",
     "text": [
      "Algorithm stopped due to sufficiently small FNNs. Valid embedding achieved ✓.\n",
      "[0, 18, 11, 20, 2]\n"
     ]
    },
    {
     "name": "stdout",
     "output_type": "stream",
     "text": [
      "Algorithm stopped due to sufficiently small FNNs. Valid embedding achieved ✓.\n",
      "[0, 18, 11, 21, 2]\n"
     ]
    },
    {
     "name": "stdout",
     "output_type": "stream",
     "text": [
      "Algorithm stopped due to sufficiently small FNNs. Valid embedding achieved ✓.\n",
      "[0, 18, 11, 21, 3]"
     ]
    },
    {
     "name": "stdout",
     "output_type": "stream",
     "text": [
      "\n",
      "Algorithm stopped due to sufficiently small FNNs. Valid embedding achieved ✓.\n",
      "[0, 18, 11, 21, 2]"
     ]
    },
    {
     "name": "stdout",
     "output_type": "stream",
     "text": [
      "\n",
      "Algorithm stopped due to sufficiently small FNNs. Valid embedding achieved ✓.\n",
      "[0, 18, 11, 20, 3]\n"
     ]
    },
    {
     "name": "stdout",
     "output_type": "stream",
     "text": [
      "Algorithm stopped due to sufficiently small FNNs. Valid embedding achieved ✓.\n",
      "[0, 11, 20, 18, 2]"
     ]
    },
    {
     "name": "stdout",
     "output_type": "stream",
     "text": [
      "\n",
      "Algorithm stopped due to sufficiently small FNNs. Valid embedding achieved ✓.\n",
      "[0, 18, 11, 20, 8]\n"
     ]
    },
    {
     "name": "stdout",
     "output_type": "stream",
     "text": [
      "Algorithm stopped due to sufficiently small FNNs. Valid embedding achieved ✓.\n",
      "[0, 18, 11, 21, 2]"
     ]
    },
    {
     "name": "stdout",
     "output_type": "stream",
     "text": [
      "\n",
      "Algorithm stopped due to sufficiently small FNNs. Valid embedding achieved ✓.\n",
      "[0, 18, 11, 20, 3]"
     ]
    },
    {
     "name": "stdout",
     "output_type": "stream",
     "text": [
      "\n",
      "Algorithm stopped due to sufficiently small FNNs. Valid embedding achieved ✓.\n",
      "[0, 18, 11, 20, 8]\n"
     ]
    },
    {
     "name": "stdout",
     "output_type": "stream",
     "text": [
      "Algorithm stopped due to sufficiently small FNNs. Valid embedding achieved ✓.\n",
      "[0, 18, 11, 20, 2]\n"
     ]
    },
    {
     "name": "stdout",
     "output_type": "stream",
     "text": [
      "Algorithm stopped due to sufficiently small FNNs. Valid embedding achieved ✓.\n",
      "[0, 18, 11, 20, 2]"
     ]
    },
    {
     "name": "stdout",
     "output_type": "stream",
     "text": [
      "\n",
      "Algorithm stopped due to sufficiently small FNNs. Valid embedding achieved ✓.\n",
      "[0, 19, 11, 8, 20]"
     ]
    },
    {
     "name": "stdout",
     "output_type": "stream",
     "text": [
      "\n",
      "Algorithm stopped due to sufficiently small FNNs. Valid embedding achieved ✓.\n",
      "[0, 18, 11, 20, 3]"
     ]
    },
    {
     "name": "stdout",
     "output_type": "stream",
     "text": [
      "\n",
      "Algorithm stopped due to sufficiently small FNNs. Valid embedding achieved ✓.\n",
      "[0, 18, 11, 20, 2]"
     ]
    },
    {
     "name": "stdout",
     "output_type": "stream",
     "text": [
      "\n",
      "Algorithm stopped due to sufficiently small FNNs. Valid embedding achieved ✓.\n",
      "[0, 18, 11, 20, 8]"
     ]
    },
    {
     "name": "stdout",
     "output_type": "stream",
     "text": [
      "\n",
      "Algorithm stopped due to sufficiently small FNNs. Valid embedding achieved ✓.\n",
      "[0, 18, 11, 20, 3]\n"
     ]
    },
    {
     "name": "stdout",
     "output_type": "stream",
     "text": [
      "Algorithm stopped due to sufficiently small FNNs. Valid embedding achieved ✓.\n",
      "[0, 18, 11, 23, 2]"
     ]
    },
    {
     "name": "stdout",
     "output_type": "stream",
     "text": [
      "\n",
      "Algorithm stopped due to sufficiently small FNNs. Valid embedding achieved ✓.\n",
      "[0, 18, 11, 20, 2]"
     ]
    },
    {
     "name": "stdout",
     "output_type": "stream",
     "text": [
      "\n",
      "Algorithm stopped due to sufficiently small FNNs. Valid embedding achieved ✓.\n",
      "[0, 18, 11, 21, 2]\n"
     ]
    },
    {
     "name": "stdout",
     "output_type": "stream",
     "text": [
      "Algorithm stopped due to sufficiently small FNNs. Valid embedding achieved ✓.\n",
      "[0, 18, 11, 20, 9]\n"
     ]
    },
    {
     "name": "stdout",
     "output_type": "stream",
     "text": [
      "Algorithm stopped due to sufficiently small FNNs. Valid embedding achieved ✓.\n",
      "[0, 18, 11, 23, 3]\n"
     ]
    },
    {
     "name": "stdout",
     "output_type": "stream",
     "text": [
      "Algorithm stopped due to sufficiently small FNNs. Valid embedding achieved ✓.\n",
      "[0, 11, 20, 18, 8]"
     ]
    },
    {
     "name": "stdout",
     "output_type": "stream",
     "text": [
      "\n",
      "Algorithm stopped due to sufficiently small FNNs. Valid embedding achieved ✓.\n",
      "[0, 18, 11, 20, 2]"
     ]
    },
    {
     "name": "stdout",
     "output_type": "stream",
     "text": [
      "\n",
      "Algorithm stopped due to sufficiently small FNNs. Valid embedding achieved ✓.\n",
      "[0, 18, 11, 20, 2]\n"
     ]
    },
    {
     "name": "stdout",
     "output_type": "stream",
     "text": [
      "Algorithm stopped due to sufficiently small FNNs. Valid embedding achieved ✓.\n",
      "[0, 18, 10, 20, 8]\n"
     ]
    },
    {
     "name": "stdout",
     "output_type": "stream",
     "text": [
      "Algorithm stopped due to sufficiently small FNNs. Valid embedding achieved ✓.\n",
      "[0, 18, 11, 21, 3]\n"
     ]
    },
    {
     "name": "stdout",
     "output_type": "stream",
     "text": [
      "Algorithm stopped due to sufficiently small FNNs. Valid embedding achieved ✓.\n",
      "[0, 18, 11, 20, 9]\n"
     ]
    },
    {
     "name": "stdout",
     "output_type": "stream",
     "text": [
      "Algorithm stopped due to sufficiently small FNNs. Valid embedding achieved ✓.\n",
      "[0, 18, 10, 21, 2]"
     ]
    },
    {
     "name": "stdout",
     "output_type": "stream",
     "text": [
      "\n",
      "Algorithm stopped due to sufficiently small FNNs. Valid embedding achieved ✓.\n",
      "[0, 18, 11, 20, 2]\n"
     ]
    },
    {
     "name": "stdout",
     "output_type": "stream",
     "text": [
      "Algorithm stopped due to sufficiently small FNNs. Valid embedding achieved ✓.\n",
      "[0, 18, 11, 20, 9]"
     ]
    },
    {
     "name": "stdout",
     "output_type": "stream",
     "text": [
      "\n",
      "Algorithm stopped due to sufficiently small FNNs. Valid embedding achieved ✓.\n",
      "[0, 18, 11, 23, 2]\n"
     ]
    },
    {
     "name": "stdout",
     "output_type": "stream",
     "text": [
      "Algorithm stopped due to sufficiently small FNNs. Valid embedding achieved ✓.\n",
      "[0, 18, 10, 20, 2]"
     ]
    },
    {
     "name": "stdout",
     "output_type": "stream",
     "text": [
      "\n",
      "Algorithm stopped due to sufficiently small FNNs. Valid embedding achieved ✓.\n",
      "[0, 18, 11, 20, 2]\n"
     ]
    },
    {
     "name": "stdout",
     "output_type": "stream",
     "text": [
      "Algorithm stopped due to sufficiently small FNNs. Valid embedding achieved ✓.\n",
      "[0, 18, 11, 20, 2]"
     ]
    },
    {
     "name": "stdout",
     "output_type": "stream",
     "text": [
      "\n",
      "Algorithm stopped due to sufficiently small FNNs. Valid embedding achieved ✓.\n",
      "[0, 19, 11, 21, 2]\n"
     ]
    },
    {
     "name": "stdout",
     "output_type": "stream",
     "text": [
      "Algorithm stopped due to sufficiently small FNNs. Valid embedding achieved ✓.\n",
      "[0, 18, 11, 21, 2]"
     ]
    },
    {
     "name": "stdout",
     "output_type": "stream",
     "text": [
      "\n",
      "Algorithm stopped due to sufficiently small FNNs. Valid embedding achieved ✓.\n",
      "[0, 18, 11, 20, 3]"
     ]
    },
    {
     "name": "stdout",
     "output_type": "stream",
     "text": [
      "\n",
      "Algorithm stopped due to sufficiently small FNNs. Valid embedding achieved ✓.\n",
      "[0, 18, 11, 20, 2]"
     ]
    },
    {
     "name": "stdout",
     "output_type": "stream",
     "text": [
      "\n",
      "Algorithm stopped due to sufficiently small FNNs. Valid embedding achieved ✓.\n",
      "[0, 18, 11, 23, 2]"
     ]
    },
    {
     "name": "stdout",
     "output_type": "stream",
     "text": [
      "\n",
      "Algorithm stopped due to sufficiently small FNNs. Valid embedding achieved ✓.\n",
      "[0, 11, 20, 9, 18]\n"
     ]
    },
    {
     "name": "stdout",
     "output_type": "stream",
     "text": [
      "Algorithm stopped due to sufficiently small FNNs. Valid embedding achieved ✓.\n",
      "[0, 18, 11, 20, 3]\n"
     ]
    },
    {
     "name": "stdout",
     "output_type": "stream",
     "text": [
      "Algorithm stopped due to sufficiently small FNNs. Valid embedding achieved ✓.\n",
      "[0, 19, 11, 22, 3]"
     ]
    },
    {
     "name": "stdout",
     "output_type": "stream",
     "text": [
      "\n",
      "Algorithm stopped due to sufficiently small FNNs. Valid embedding achieved ✓.\n",
      "[0, 18, 11, 23, 2]\n"
     ]
    },
    {
     "name": "stdout",
     "output_type": "stream",
     "text": [
      "Algorithm stopped due to sufficiently small FNNs. Valid embedding achieved ✓.\n",
      "[0, 19, 11, 21, 2]"
     ]
    },
    {
     "name": "stdout",
     "output_type": "stream",
     "text": [
      "\n",
      "Algorithm stopped due to sufficiently small FNNs. Valid embedding achieved ✓.\n",
      "[0, 18, 11, 20, 8]\n"
     ]
    },
    {
     "name": "stdout",
     "output_type": "stream",
     "text": [
      "Algorithm stopped due to sufficiently small FNNs. Valid embedding achieved ✓.\n",
      "[0, 18, 11, 23, 2]\n"
     ]
    },
    {
     "name": "stdout",
     "output_type": "stream",
     "text": [
      "Algorithm stopped due to sufficiently small FNNs. Valid embedding achieved ✓.\n",
      "[0, 19, 11, 8, 20]\n"
     ]
    },
    {
     "name": "stdout",
     "output_type": "stream",
     "text": [
      "Algorithm stopped due to sufficiently small FNNs. Valid embedding achieved ✓.\n",
      "[0, 19, 11, 22, 2]\n"
     ]
    },
    {
     "name": "stdout",
     "output_type": "stream",
     "text": [
      "Algorithm stopped due to sufficiently small FNNs. Valid embedding achieved ✓.\n",
      "[0, 18, 11, 20, 2]"
     ]
    },
    {
     "name": "stdout",
     "output_type": "stream",
     "text": [
      "\n",
      "Algorithm stopped due to sufficiently small FNNs. Valid embedding achieved ✓.\n",
      "[0, 18, 11, 20, 8]\n"
     ]
    },
    {
     "name": "stdout",
     "output_type": "stream",
     "text": [
      "Algorithm stopped due to sufficiently small FNNs. Valid embedding achieved ✓.\n",
      "[0, 12, 20, 9, 18]\n"
     ]
    },
    {
     "name": "stdout",
     "output_type": "stream",
     "text": [
      "Algorithm stopped due to sufficiently small FNNs. Valid embedding achieved ✓.\n",
      "[0, 18, 11, 20, 3]\n"
     ]
    },
    {
     "name": "stdout",
     "output_type": "stream",
     "text": [
      "Algorithm stopped due to sufficiently small FNNs. Valid embedding achieved ✓.\n",
      "[0, 18, 11, 20, 2]\n"
     ]
    },
    {
     "name": "stdout",
     "output_type": "stream",
     "text": [
      "Algorithm stopped due to sufficiently small FNNs. Valid embedding achieved ✓.\n",
      "[0, 18, 11, 20, 3]"
     ]
    },
    {
     "name": "stdout",
     "output_type": "stream",
     "text": [
      "\n",
      "Algorithm stopped due to sufficiently small FNNs. Valid embedding achieved ✓.\n",
      "[0, 18, 11, 20, 2]\n"
     ]
    },
    {
     "name": "stdout",
     "output_type": "stream",
     "text": [
      "Algorithm stopped due to sufficiently small FNNs. Valid embedding achieved ✓.\n",
      "[0, 18, 11, 21, 2]\n"
     ]
    },
    {
     "name": "stdout",
     "output_type": "stream",
     "text": [
      "Algorithm stopped due to sufficiently small FNNs. Valid embedding achieved ✓.\n",
      "[0, 18, 11, 20, 2]"
     ]
    },
    {
     "name": "stdout",
     "output_type": "stream",
     "text": [
      "\n",
      "Algorithm stopped due to sufficiently small FNNs. Valid embedding achieved ✓.\n",
      "[0, 18, 11, 20, 3]"
     ]
    },
    {
     "name": "stdout",
     "output_type": "stream",
     "text": [
      "\n",
      "Algorithm stopped due to sufficiently small FNNs. Valid embedding achieved ✓.\n",
      "[0, 18, 11, 23, 2]"
     ]
    },
    {
     "name": "stdout",
     "output_type": "stream",
     "text": [
      "\n",
      "Algorithm stopped due to sufficiently small FNNs. Valid embedding achieved ✓.\n",
      "[0, 19, 11, 8, 20]"
     ]
    },
    {
     "name": "stdout",
     "output_type": "stream",
     "text": [
      "\n",
      "Algorithm stopped due to sufficiently small FNNs. Valid embedding achieved ✓.\n",
      "[0, 18, 11, 20, 2]\n"
     ]
    },
    {
     "name": "stdout",
     "output_type": "stream",
     "text": [
      "Algorithm stopped due to sufficiently small FNNs. Valid embedding achieved ✓.\n",
      "[0, 18, 11, 20, 2]"
     ]
    },
    {
     "name": "stdout",
     "output_type": "stream",
     "text": [
      "\n",
      "Algorithm stopped due to sufficiently small FNNs. Valid embedding achieved ✓.\n",
      "[0, 18, 11, 21, 2]\n"
     ]
    },
    {
     "name": "stdout",
     "output_type": "stream",
     "text": [
      "Algorithm stopped due to sufficiently small FNNs. Valid embedding achieved ✓.\n",
      "[0, 18, 11, 22, 2]\n"
     ]
    },
    {
     "name": "stdout",
     "output_type": "stream",
     "text": [
      "Algorithm stopped due to sufficiently small FNNs. Valid embedding achieved ✓.\n",
      "[0, 18, 11, 20, 2]"
     ]
    },
    {
     "name": "stdout",
     "output_type": "stream",
     "text": [
      "\n",
      "Algorithm stopped due to sufficiently small FNNs. Valid embedding achieved ✓.\n",
      "[0, 18, 11, 20, 2]\n"
     ]
    },
    {
     "name": "stdout",
     "output_type": "stream",
     "text": [
      "Algorithm stopped due to sufficiently small FNNs. Valid embedding achieved ✓.\n",
      "[0, 18, 11, 20, 2]"
     ]
    },
    {
     "name": "stdout",
     "output_type": "stream",
     "text": [
      "\n",
      "Algorithm stopped due to sufficiently small FNNs. Valid embedding achieved ✓.\n",
      "[0, 19, 11, 20, 8]\n"
     ]
    },
    {
     "name": "stdout",
     "output_type": "stream",
     "text": [
      "Algorithm stopped due to sufficiently small FNNs. Valid embedding achieved ✓.\n",
      "[0, 18, 11, 20, 2]"
     ]
    },
    {
     "name": "stdout",
     "output_type": "stream",
     "text": [
      "\n",
      "Algorithm stopped due to sufficiently small FNNs. Valid embedding achieved ✓.\n",
      "[0, 18, 11, 20, 3]"
     ]
    },
    {
     "name": "stdout",
     "output_type": "stream",
     "text": [
      "\n",
      "Algorithm stopped due to sufficiently small FNNs. Valid embedding achieved ✓.\n",
      "[0, 18, 11, 20, 3]"
     ]
    },
    {
     "name": "stdout",
     "output_type": "stream",
     "text": [
      "\n",
      "Algorithm stopped due to sufficiently small FNNs. Valid embedding achieved ✓.\n",
      "[0, 18, 11, 20, 2]"
     ]
    },
    {
     "name": "stdout",
     "output_type": "stream",
     "text": [
      "\n",
      "Algorithm stopped due to sufficiently small FNNs. Valid embedding achieved ✓.\n",
      "[0, 11, 22, 20, 2]\n"
     ]
    }
   ],
   "source": [
    "for i = 1:100\n",
    "    # fid = h5open(\"E:/LearningEmbedding/data_collection/3D-lorenz/lorenz_no\"*string(i)*\".h5\", \"r\")\n",
    "    fid = h5open(\"E:/LearningEmbedding/data_collection/3D-lorenz/noisy_lorenz_no\"*string(i)*\".h5\", \"r\")\n",
    "    Y = fid[\"xM\"]\n",
    "\n",
    "    s = vec(Y[:, 2]) # input timeseries = y-component of Lorenz\n",
    "    w = estimate_delay(s, \"mi_min\") #\n",
    "    tw = mdop_maximum_delay(s) #\n",
    "    lm = findlocalminima(tw[2])\n",
    "    # println(lm)\n",
    "    if lm[1] ≤ 2\n",
    "        lmm = try lm[2]\n",
    "        catch\n",
    "            lm[1]\n",
    "        end\n",
    "    else\n",
    "        lmm = lm[1]\n",
    "    end\n",
    "    if lmm < 20\n",
    "        lmm = 20\n",
    "    end\n",
    "    taus_mdop = 0:lmm\n",
    "    # taus_mdop = 1:50\n",
    "    # println(lm)\n",
    "    close(fid)\n",
    "\n",
    "    Recon_mdop, τ_vals_mdop, ts_vals_mdop, FNNs_mdop , βs_mdop = mdop_embedding(s; τs = taus_mdop , w = w)\n",
    "    println(τ_vals_mdop)\n",
    "    ff = h5open(\"e:/LearningEmbedding/results/MDOP/3D-lorenz/noisy_lorenz_uni_no\"*string(i)*\".h5\", \"w\")\n",
    "    ff[\"Embedding\"] = Matrix(Recon_mdop)\n",
    "    ff[\"delays\"] = τ_vals_mdop\n",
    "    close(ff)\n",
    "    \n",
    "end"
   ]
  },
  {
   "cell_type": "code",
   "execution_count": 4,
   "metadata": {},
   "outputs": [
    {
     "name": "stdout",
     "output_type": "stream",
     "text": [
      "Algorithm stopped due to sufficiently small FNNs. Valid embedding achieved ✓.\n",
      "[0, 3, 1, 2, 6]"
     ]
    },
    {
     "name": "stdout",
     "output_type": "stream",
     "text": [
      "\n",
      "Algorithm stopped due to sufficiently small FNNs. Valid embedding achieved ✓.\n",
      "[0, 3, 1, 2, 6]\n"
     ]
    },
    {
     "name": "stdout",
     "output_type": "stream",
     "text": [
      "Algorithm stopped due to rising FNNs. Valid embedding achieved ✓.\n",
      "[0, 3, 1, 2, 6, 4]\n"
     ]
    },
    {
     "name": "stdout",
     "output_type": "stream",
     "text": [
      "Algorithm stopped due to rising FNNs. Valid embedding achieved ✓.\n",
      "[0, 3, 1, 2, 6, 4]"
     ]
    },
    {
     "name": "stdout",
     "output_type": "stream",
     "text": [
      "\n",
      "Algorithm stopped due to rising FNNs. Valid embedding achieved ✓.\n",
      "[0, 3, 1, 2, 6, 4]"
     ]
    },
    {
     "name": "stdout",
     "output_type": "stream",
     "text": [
      "\n",
      "Algorithm stopped due to rising FNNs. Valid embedding achieved ✓.\n",
      "[0, 3, 1, 2, 6, 4]"
     ]
    },
    {
     "name": "stdout",
     "output_type": "stream",
     "text": [
      "\n",
      "Algorithm stopped due to sufficiently small FNNs. Valid embedding achieved ✓.\n",
      "[0, 3, 1, 2, 6]"
     ]
    },
    {
     "name": "stdout",
     "output_type": "stream",
     "text": [
      "\n",
      "Algorithm stopped due to sufficiently small FNNs. Valid embedding achieved ✓.\n",
      "[0, 3, 1, 2, 6]\n"
     ]
    },
    {
     "name": "stdout",
     "output_type": "stream",
     "text": [
      "Algorithm stopped due to sufficiently small FNNs. Valid embedding achieved ✓.\n",
      "[0, 3, 1, 2, 6]"
     ]
    },
    {
     "name": "stdout",
     "output_type": "stream",
     "text": [
      "\n",
      "Algorithm stopped due to sufficiently small FNNs. Valid embedding achieved ✓.\n",
      "[0, 3, 1, 2, 6]\n"
     ]
    }
   ],
   "source": [
    "for i = 1:10\n",
    "    fid = h5open(\"E:/LearningEmbedding/data_collection/3D-lorenz/noisy_lorenz_no\"*string(i)*\".h5\", \"r\")\n",
    "    Y = fid[\"xM\"]\n",
    "\n",
    "    s = vec(Y[:, 2]) # input timeseries = y-component of Lorenz\n",
    "    theiler = estimate_delay(s, \"mi_min\") # estimate a Theiler window\n",
    "    Tmax = 50 # maximum possible delay\n",
    "    close(fid)\n",
    "\n",
    "    Recon_GA, τ_vals_GA, ts_vals_GA, FNNs_GA , ns_GA = garcia_almeida_embedding(s; τs = 0:Tmax , w = theiler, T = theiler)\n",
    "    println(τ_vals_GA)\n",
    "    ff = h5open(\"e:/LearningEmbedding/results/GA/3D-lorenz/noisy_lorenz_uni_no\"*string(i)*\".h5\", \"cw\")\n",
    "    ff[\"Embedding\"] = Matrix(Recon_GA)\n",
    "    ff[\"delays\"] = τ_vals_GA\n",
    "    close(ff)\n",
    "    \n",
    "end\n"
   ]
  },
  {
   "cell_type": "markdown",
   "metadata": {},
   "source": [
    "### Rossler system"
   ]
  },
  {
   "cell_type": "code",
   "execution_count": 3,
   "metadata": {},
   "outputs": [
    {
     "name": "stdout",
     "output_type": "stream",
     "text": [
      "Initializing PECUZAL algorithm for univariate input...\n",
      "Starting 1-th embedding cycle...\n"
     ]
    },
    {
     "name": "stdout",
     "output_type": "stream",
     "text": [
      "Starting 2-th embedding cycle...\n"
     ]
    },
    {
     "name": "stdout",
     "output_type": "stream",
     "text": [
      "Starting 3-th embedding cycle..."
     ]
    },
    {
     "name": "stdout",
     "output_type": "stream",
     "text": [
      "\n",
      "Algorithm stopped due to increasing L-values. VALID embedding achieved ✓.\n"
     ]
    },
    {
     "name": "stdout",
     "output_type": "stream",
     "text": [
      "[0, 50, 24"
     ]
    },
    {
     "name": "stdout",
     "output_type": "stream",
     "text": [
      "][-0.40623034353693566, -0.21268143288255714]\n"
     ]
    },
    {
     "name": "stdout",
     "output_type": "stream",
     "text": [
      "Initializing PECUZAL algorithm for univariate input...\n",
      "Starting 1-th embedding cycle..."
     ]
    },
    {
     "name": "stdout",
     "output_type": "stream",
     "text": [
      "\n"
     ]
    },
    {
     "name": "stdout",
     "output_type": "stream",
     "text": [
      "Starting 2-th embedding cycle...\n",
      "Starting 3-th embedding cycle...\n"
     ]
    },
    {
     "name": "stdout",
     "output_type": "stream",
     "text": [
      "Algorithm stopped due to increasing L-values. VALID embedding achieved ✓.\n",
      "[0, 50, 23][-0.3860207707518791, -0.21878594490563674]\n",
      "Initializing PECUZAL algorithm for univariate input...\n",
      "Starting 1-th embedding cycle..."
     ]
    },
    {
     "name": "stdout",
     "output_type": "stream",
     "text": [
      "\n",
      "Starting 2-th embedding cycle..."
     ]
    },
    {
     "name": "stdout",
     "output_type": "stream",
     "text": [
      "\n",
      "Starting 3-th embedding cycle..."
     ]
    },
    {
     "name": "stdout",
     "output_type": "stream",
     "text": [
      "\n",
      "Algorithm stopped due to increasing L-values. VALID embedding achieved ✓.\n",
      "[0, 50, 25][-0.4247378650850321, -0.24844514049907696]\n",
      "Initializing PECUZAL algorithm for univariate input...\n",
      "Starting 1-th embedding cycle...\n"
     ]
    },
    {
     "name": "stdout",
     "output_type": "stream",
     "text": [
      "Starting 2-th embedding cycle...\n"
     ]
    },
    {
     "name": "stdout",
     "output_type": "stream",
     "text": [
      "Starting 3-th embedding cycle...\n"
     ]
    },
    {
     "name": "stdout",
     "output_type": "stream",
     "text": [
      "Algorithm stopped due to increasing L-values. VALID embedding achieved ✓.\n",
      "[0, 50, 20][-0.42364607222336553, -0.19351208988128332]\n",
      "Initializing PECUZAL algorithm for univariate input...\n",
      "Starting 1-th embedding cycle...\n"
     ]
    },
    {
     "name": "stdout",
     "output_type": "stream",
     "text": [
      "Starting 2-th embedding cycle...\n"
     ]
    },
    {
     "name": "stdout",
     "output_type": "stream",
     "text": [
      "Starting 3-th embedding cycle...\n"
     ]
    },
    {
     "name": "stdout",
     "output_type": "stream",
     "text": [
      "Starting 4-th embedding cycle..."
     ]
    },
    {
     "name": "stdout",
     "output_type": "stream",
     "text": [
      "\n",
      "Algorithm stopped due to increasing L-values. VALID embedding achieved ✓.\n",
      "[0, 50, 22, 48][-0.3976342580500743, -0.23833855422899064, -0.00010255041248996566]\n",
      "Initializing PECUZAL algorithm for univariate input...\n"
     ]
    },
    {
     "name": "stdout",
     "output_type": "stream",
     "text": [
      "Starting 1-th embedding cycle...\n",
      "Starting 2-th embedding cycle...\n"
     ]
    },
    {
     "name": "stdout",
     "output_type": "stream",
     "text": [
      "Starting 3-th embedding cycle...\n"
     ]
    },
    {
     "name": "stdout",
     "output_type": "stream",
     "text": [
      "Algorithm stopped due to increasing L-values. VALID embedding achieved ✓.\n",
      "[0, 50, 24][-0.4272064051347978, -0.2370565584545884]\n",
      "Initializing PECUZAL algorithm for univariate input...\n"
     ]
    },
    {
     "name": "stdout",
     "output_type": "stream",
     "text": [
      "Starting 1-th embedding cycle...\n",
      "Starting 2-th embedding cycle...\n"
     ]
    },
    {
     "name": "stdout",
     "output_type": "stream",
     "text": [
      "Starting 3-th embedding cycle...\n"
     ]
    },
    {
     "name": "stdout",
     "output_type": "stream",
     "text": [
      "Algorithm stopped due to increasing L-values. VALID embedding achieved ✓.\n",
      "[0, 50, 22][-0.3823281124966441, -0.2554261347665733]\n",
      "Initializing PECUZAL algorithm for univariate input...\n",
      "Starting 1-th embedding cycle..."
     ]
    },
    {
     "name": "stdout",
     "output_type": "stream",
     "text": [
      "\n",
      "Starting 2-th embedding cycle...\n"
     ]
    },
    {
     "name": "stdout",
     "output_type": "stream",
     "text": [
      "Starting 3-th embedding cycle...\n"
     ]
    },
    {
     "name": "stdout",
     "output_type": "stream",
     "text": [
      "Algorithm stopped due to increasing L-values. VALID embedding achieved ✓.\n",
      "[0, 50, 24][-0.4343048616793741, -0.25861337715113397]\n",
      "Initializing PECUZAL algorithm for univariate input...\n",
      "Starting 1-th embedding cycle..."
     ]
    },
    {
     "name": "stdout",
     "output_type": "stream",
     "text": [
      "\n",
      "Starting 2-th embedding cycle...\n"
     ]
    },
    {
     "name": "stdout",
     "output_type": "stream",
     "text": [
      "Starting 3-th embedding cycle...\n"
     ]
    },
    {
     "name": "stdout",
     "output_type": "stream",
     "text": [
      "Algorithm stopped due to increasing L-values. VALID embedding achieved ✓.\n",
      "[0, 50, 24][-0.40946207033816645, -0.24608870216174217]\n",
      "Initializing PECUZAL algorithm for univariate input...\n",
      "Starting 1-th embedding cycle...\n"
     ]
    },
    {
     "name": "stdout",
     "output_type": "stream",
     "text": [
      "Starting 2-th embedding cycle...\n"
     ]
    },
    {
     "name": "stdout",
     "output_type": "stream",
     "text": [
      "Starting 3-th embedding cycle...\n"
     ]
    },
    {
     "name": "stdout",
     "output_type": "stream",
     "text": [
      "Algorithm stopped due to increasing L-values. VALID embedding achieved ✓.\n",
      "[0, 50, 22][-0.4732853345105534, -0.21341783921574198]\n",
      "Initializing PECUZAL algorithm for univariate input...\n",
      "Starting 1-th embedding cycle..."
     ]
    },
    {
     "name": "stdout",
     "output_type": "stream",
     "text": [
      "\n",
      "Starting 2-th embedding cycle...\n"
     ]
    },
    {
     "name": "stdout",
     "output_type": "stream",
     "text": [
      "Starting 3-th embedding cycle..."
     ]
    },
    {
     "name": "stdout",
     "output_type": "stream",
     "text": [
      "\n",
      "Starting 4-th embedding cycle...\n"
     ]
    },
    {
     "name": "stdout",
     "output_type": "stream",
     "text": [
      "Algorithm stopped due to increasing L-values. VALID embedding achieved ✓.\n",
      "[0, 50, 24, 48][-0.4383790826050278, -0.22607353183917478, -0.002366398722339458]\n",
      "Initializing PECUZAL algorithm for univariate input...\n",
      "Starting 1-th embedding cycle...\n"
     ]
    },
    {
     "name": "stdout",
     "output_type": "stream",
     "text": [
      "Starting 2-th embedding cycle..."
     ]
    },
    {
     "name": "stdout",
     "output_type": "stream",
     "text": [
      "\n",
      "Starting 3-th embedding cycle...\n"
     ]
    },
    {
     "name": "stdout",
     "output_type": "stream",
     "text": [
      "Algorithm stopped due to increasing L-values. VALID embedding achieved ✓.\n",
      "[0, 50, 22][-0.3470592057012004, -0.2513603510321466]\n",
      "Initializing PECUZAL algorithm for univariate input...\n",
      "Starting 1-th embedding cycle..."
     ]
    },
    {
     "name": "stdout",
     "output_type": "stream",
     "text": [
      "\n",
      "Starting 2-th embedding cycle...\n"
     ]
    },
    {
     "name": "stdout",
     "output_type": "stream",
     "text": [
      "Starting 3-th embedding cycle...\n"
     ]
    },
    {
     "name": "stdout",
     "output_type": "stream",
     "text": [
      "Algorithm stopped due to increasing L-values. VALID embedding achieved ✓.\n",
      "[0, 50, 24][-0.44977269793702146, -0.2470299452168896]\n",
      "Initializing PECUZAL algorithm for univariate input...\n",
      "Starting 1-th embedding cycle..."
     ]
    },
    {
     "name": "stdout",
     "output_type": "stream",
     "text": [
      "\n",
      "Starting 2-th embedding cycle...\n"
     ]
    },
    {
     "name": "stdout",
     "output_type": "stream",
     "text": [
      "Starting 3-th embedding cycle..."
     ]
    },
    {
     "name": "stdout",
     "output_type": "stream",
     "text": [
      "\n",
      "Algorithm stopped due to increasing L-values. VALID embedding achieved ✓.\n",
      "[0, 50, 24][-0.42549330607294344, -0.23698586930641008]\n",
      "Initializing PECUZAL algorithm for univariate input...\n",
      "Starting 1-th embedding cycle...\n"
     ]
    },
    {
     "name": "stdout",
     "output_type": "stream",
     "text": [
      "Starting 2-th embedding cycle...\n"
     ]
    },
    {
     "name": "stdout",
     "output_type": "stream",
     "text": [
      "Starting 3-th embedding cycle..."
     ]
    },
    {
     "name": "stdout",
     "output_type": "stream",
     "text": [
      "\n",
      "Algorithm stopped due to increasing L-values. VALID embedding achieved ✓.\n",
      "[0, 50, 23][-0.4318109292775751, -0.25039034995104725]\n",
      "Initializing PECUZAL algorithm for univariate input...\n",
      "Starting 1-th embedding cycle...\n"
     ]
    },
    {
     "name": "stdout",
     "output_type": "stream",
     "text": [
      "Starting 2-th embedding cycle...\n"
     ]
    },
    {
     "name": "stdout",
     "output_type": "stream",
     "text": [
      "Starting 3-th embedding cycle...\n"
     ]
    },
    {
     "name": "stdout",
     "output_type": "stream",
     "text": [
      "Algorithm stopped due to increasing L-values. VALID embedding achieved ✓.\n",
      "[0, 50, 25][-0.4235007354712331, -0.23022132434407316]\n",
      "Initializing PECUZAL algorithm for univariate input...\n",
      "Starting 1-th embedding cycle...\n"
     ]
    },
    {
     "name": "stdout",
     "output_type": "stream",
     "text": [
      "Starting 2-th embedding cycle...\n"
     ]
    },
    {
     "name": "stdout",
     "output_type": "stream",
     "text": [
      "Starting 3-th embedding cycle..."
     ]
    },
    {
     "name": "stdout",
     "output_type": "stream",
     "text": [
      "\n",
      "Algorithm stopped due to increasing L-values. VALID embedding achieved ✓.\n",
      "[0, 50, 23][-0.4265207736440179, -0.23503189911261035]\n",
      "Initializing PECUZAL algorithm for univariate input...\n",
      "Starting 1-th embedding cycle...\n"
     ]
    },
    {
     "name": "stdout",
     "output_type": "stream",
     "text": [
      "Starting 2-th embedding cycle...\n"
     ]
    },
    {
     "name": "stdout",
     "output_type": "stream",
     "text": [
      "Starting 3-th embedding cycle...\n"
     ]
    },
    {
     "name": "stdout",
     "output_type": "stream",
     "text": [
      "Algorithm stopped due to increasing L-values. VALID embedding achieved ✓.\n",
      "[0, 50, 26][-0.39374595882632485, -0.2363612090661823]\n",
      "Initializing PECUZAL algorithm for univariate input...\n",
      "Starting 1-th embedding cycle..."
     ]
    },
    {
     "name": "stdout",
     "output_type": "stream",
     "text": [
      "\n"
     ]
    },
    {
     "name": "stdout",
     "output_type": "stream",
     "text": [
      "Starting 2-th embedding cycle...\n",
      "Starting 3-th embedding cycle...\n"
     ]
    },
    {
     "name": "stdout",
     "output_type": "stream",
     "text": [
      "Algorithm stopped due to increasing L-values. VALID embedding achieved ✓.\n",
      "[0, 50, 24][-0.4178710265835853, -0.24183969338554512]\n",
      "Initializing PECUZAL algorithm for univariate input...\n",
      "Starting 1-th embedding cycle..."
     ]
    },
    {
     "name": "stdout",
     "output_type": "stream",
     "text": [
      "\n",
      "Starting 2-th embedding cycle...\n"
     ]
    },
    {
     "name": "stdout",
     "output_type": "stream",
     "text": [
      "Starting 3-th embedding cycle...\n"
     ]
    },
    {
     "name": "stdout",
     "output_type": "stream",
     "text": [
      "Algorithm stopped due to increasing L-values. VALID embedding achieved ✓.\n",
      "[0, 50, 24][-0.44607423618953274, -0.23642623870015145]\n",
      "Initializing PECUZAL algorithm for univariate input...\n",
      "Starting 1-th embedding cycle..."
     ]
    },
    {
     "name": "stdout",
     "output_type": "stream",
     "text": [
      "\n",
      "Starting 2-th embedding cycle...\n"
     ]
    },
    {
     "name": "stdout",
     "output_type": "stream",
     "text": [
      "Starting 3-th embedding cycle...\n"
     ]
    },
    {
     "name": "stdout",
     "output_type": "stream",
     "text": [
      "Starting 4-th embedding cycle...\n",
      "Algorithm stopped due to increasing L-values. VALID embedding achieved ✓.\n",
      "[0, 50, 20, 48][-0.400633783635009, -0.21060887014974994, -9.832845587831596e-5]\n",
      "Initializing PECUZAL algorithm for univariate input...\n",
      "Starting 1-th embedding cycle..."
     ]
    },
    {
     "name": "stdout",
     "output_type": "stream",
     "text": [
      "\n",
      "Starting 2-th embedding cycle...\n"
     ]
    },
    {
     "name": "stdout",
     "output_type": "stream",
     "text": [
      "Starting 3-th embedding cycle...\n"
     ]
    },
    {
     "name": "stdout",
     "output_type": "stream",
     "text": [
      "Algorithm stopped due to increasing L-values. VALID embedding achieved ✓.\n",
      "[0, 50, 22][-0.4183102738954677, -0.2352544351997493]\n",
      "Initializing PECUZAL algorithm for univariate input...\n",
      "Starting 1-th embedding cycle...\n"
     ]
    },
    {
     "name": "stdout",
     "output_type": "stream",
     "text": [
      "Starting 2-th embedding cycle...\n"
     ]
    },
    {
     "name": "stdout",
     "output_type": "stream",
     "text": [
      "Starting 3-th embedding cycle...\n"
     ]
    },
    {
     "name": "stdout",
     "output_type": "stream",
     "text": [
      "Algorithm stopped due to increasing L-values. VALID embedding achieved ✓.\n",
      "[0, 50, 24][-0.3891671797556569, -0.22637302740871101]\n",
      "Initializing PECUZAL algorithm for univariate input...\n",
      "Starting 1-th embedding cycle...\n"
     ]
    },
    {
     "name": "stdout",
     "output_type": "stream",
     "text": [
      "Starting 2-th embedding cycle...\n"
     ]
    },
    {
     "name": "stdout",
     "output_type": "stream",
     "text": [
      "Starting 3-th embedding cycle..."
     ]
    },
    {
     "name": "stdout",
     "output_type": "stream",
     "text": [
      "\n",
      "Algorithm stopped due to increasing L-values. VALID embedding achieved ✓.\n",
      "[0, 50, 22][-0.41491744563907906, -0.24280963258381683]\n",
      "Initializing PECUZAL algorithm for univariate input...\n",
      "Starting 1-th embedding cycle..."
     ]
    },
    {
     "name": "stdout",
     "output_type": "stream",
     "text": [
      "\n",
      "Starting 2-th embedding cycle...\n",
      "Starting 3-th embedding cycle..."
     ]
    },
    {
     "name": "stdout",
     "output_type": "stream",
     "text": [
      "\n"
     ]
    },
    {
     "name": "stdout",
     "output_type": "stream",
     "text": [
      "Algorithm stopped due to increasing L-values. VALID embedding achieved ✓.\n",
      "[0, 50, 20][-0.482839612059042, -0.19431783307900297]\n",
      "Initializing PECUZAL algorithm for univariate input...\n",
      "Starting 1-th embedding cycle...\n"
     ]
    },
    {
     "name": "stdout",
     "output_type": "stream",
     "text": [
      "Starting 2-th embedding cycle...\n"
     ]
    },
    {
     "name": "stdout",
     "output_type": "stream",
     "text": [
      "Starting 3-th embedding cycle...\n"
     ]
    },
    {
     "name": "stdout",
     "output_type": "stream",
     "text": [
      "Algorithm stopped due to increasing L-values. VALID embedding achieved ✓.\n",
      "[0, 50, 23][-0.38337863514306203, -0.2729939974839459]\n",
      "Initializing PECUZAL algorithm for univariate input...\n",
      "Starting 1-th embedding cycle..."
     ]
    },
    {
     "name": "stdout",
     "output_type": "stream",
     "text": [
      "\n",
      "Starting 2-th embedding cycle...\n"
     ]
    },
    {
     "name": "stdout",
     "output_type": "stream",
     "text": [
      "Starting 3-th embedding cycle...\n"
     ]
    },
    {
     "name": "stdout",
     "output_type": "stream",
     "text": [
      "Algorithm stopped due to increasing L-values. VALID embedding achieved ✓.\n",
      "[0, 50, 24][-0.4176080033797829, -0.2300900038563184]\n",
      "Initializing PECUZAL algorithm for univariate input...\n",
      "Starting 1-th embedding cycle...\n"
     ]
    },
    {
     "name": "stdout",
     "output_type": "stream",
     "text": [
      "Starting 2-th embedding cycle...\n"
     ]
    },
    {
     "name": "stdout",
     "output_type": "stream",
     "text": [
      "Starting 3-th embedding cycle..."
     ]
    },
    {
     "name": "stdout",
     "output_type": "stream",
     "text": [
      "\n",
      "Algorithm stopped due to increasing L-values. VALID embedding achieved ✓.\n",
      "[0, 50, 22][-0.4209166992320583, -0.2090058217925157]\n",
      "Initializing PECUZAL algorithm for univariate input...\n",
      "Starting 1-th embedding cycle..."
     ]
    },
    {
     "name": "stdout",
     "output_type": "stream",
     "text": [
      "\n",
      "Starting 2-th embedding cycle...\n"
     ]
    },
    {
     "name": "stdout",
     "output_type": "stream",
     "text": [
      "Starting 3-th embedding cycle...\n"
     ]
    },
    {
     "name": "stdout",
     "output_type": "stream",
     "text": [
      "Algorithm stopped due to increasing L-values. VALID embedding achieved ✓.\n",
      "[0, 50, 25][-0.4154607639883684, -0.2436000798503689]\n",
      "Initializing PECUZAL algorithm for univariate input...\n",
      "Starting 1-th embedding cycle..."
     ]
    },
    {
     "name": "stdout",
     "output_type": "stream",
     "text": [
      "\n",
      "Starting 2-th embedding cycle...\n"
     ]
    },
    {
     "name": "stdout",
     "output_type": "stream",
     "text": [
      "Starting 3-th embedding cycle...\n"
     ]
    },
    {
     "name": "stdout",
     "output_type": "stream",
     "text": [
      "Algorithm stopped due to increasing L-values. VALID embedding achieved ✓.\n",
      "[0, 50, 25][-0.38661845981217646, -0.21472789787849478]\n",
      "Initializing PECUZAL algorithm for univariate input...\n",
      "Starting 1-th embedding cycle...\n"
     ]
    },
    {
     "name": "stdout",
     "output_type": "stream",
     "text": [
      "Starting 2-th embedding cycle...\n"
     ]
    },
    {
     "name": "stdout",
     "output_type": "stream",
     "text": [
      "Starting 3-th embedding cycle...\n"
     ]
    },
    {
     "name": "stdout",
     "output_type": "stream",
     "text": [
      "Algorithm stopped due to increasing L-values. VALID embedding achieved ✓.\n",
      "[0, 50, 20][-0.39926933528616804, -0.2512759110864652]\n",
      "Initializing PECUZAL algorithm for univariate input...\n",
      "Starting 1-th embedding cycle...\n"
     ]
    },
    {
     "name": "stdout",
     "output_type": "stream",
     "text": [
      "Starting 2-th embedding cycle...\n"
     ]
    },
    {
     "name": "stdout",
     "output_type": "stream",
     "text": [
      "Starting 3-th embedding cycle..."
     ]
    },
    {
     "name": "stdout",
     "output_type": "stream",
     "text": [
      "\n",
      "Algorithm stopped due to increasing L-values. VALID embedding achieved ✓.\n",
      "[0, 50, 21][-0.3994467453311807, -0.22646983747775673]\n",
      "Initializing PECUZAL algorithm for univariate input...\n",
      "Starting 1-th embedding cycle..."
     ]
    },
    {
     "name": "stdout",
     "output_type": "stream",
     "text": [
      "\n",
      "Starting 2-th embedding cycle...\n"
     ]
    },
    {
     "name": "stdout",
     "output_type": "stream",
     "text": [
      "Starting 3-th embedding cycle...\n"
     ]
    },
    {
     "name": "stdout",
     "output_type": "stream",
     "text": [
      "Algorithm stopped due to increasing L-values. VALID embedding achieved ✓.\n",
      "[0, 50, 24][-0.3965929093373085, -0.25897871808886264]\n",
      "Initializing PECUZAL algorithm for univariate input...\n",
      "Starting 1-th embedding cycle...\n"
     ]
    },
    {
     "name": "stdout",
     "output_type": "stream",
     "text": [
      "Starting 2-th embedding cycle..."
     ]
    },
    {
     "name": "stdout",
     "output_type": "stream",
     "text": [
      "\n",
      "Starting 3-th embedding cycle...\n"
     ]
    },
    {
     "name": "stdout",
     "output_type": "stream",
     "text": [
      "Starting 4-th embedding cycle...\n"
     ]
    },
    {
     "name": "stdout",
     "output_type": "stream",
     "text": [
      "Algorithm stopped due to increasing L-values. VALID embedding achieved ✓.\n",
      "[0, 50, 24, 48][-0.43655907822853035, -0.2196233404629916, -0.003998641413798687]\n",
      "Initializing PECUZAL algorithm for univariate input...\n",
      "Starting 1-th embedding cycle...\n"
     ]
    },
    {
     "name": "stdout",
     "output_type": "stream",
     "text": [
      "Starting 2-th embedding cycle...\n"
     ]
    },
    {
     "name": "stdout",
     "output_type": "stream",
     "text": [
      "Starting 3-th embedding cycle..."
     ]
    },
    {
     "name": "stdout",
     "output_type": "stream",
     "text": [
      "\n",
      "Algorithm stopped due to increasing L-values. VALID embedding achieved ✓.\n",
      "[0, 50, 24][-0.4227874322814307, -0.24888106996112114]\n",
      "Initializing PECUZAL algorithm for univariate input...\n",
      "Starting 1-th embedding cycle..."
     ]
    },
    {
     "name": "stdout",
     "output_type": "stream",
     "text": [
      "\n",
      "Starting 2-th embedding cycle...\n"
     ]
    },
    {
     "name": "stdout",
     "output_type": "stream",
     "text": [
      "Starting 3-th embedding cycle...\n"
     ]
    },
    {
     "name": "stdout",
     "output_type": "stream",
     "text": [
      "Algorithm stopped due to increasing L-values. VALID embedding achieved ✓.\n",
      "[0, 50, 24][-0.3778745407744418, -0.22150278108441623]\n",
      "Initializing PECUZAL algorithm for univariate input...\n",
      "Starting 1-th embedding cycle...\n"
     ]
    },
    {
     "name": "stdout",
     "output_type": "stream",
     "text": [
      "Starting 2-th embedding cycle...\n"
     ]
    },
    {
     "name": "stdout",
     "output_type": "stream",
     "text": [
      "Starting 3-th embedding cycle...\n"
     ]
    },
    {
     "name": "stdout",
     "output_type": "stream",
     "text": [
      "Algorithm stopped due to increasing L-values. VALID embedding achieved ✓.\n",
      "[0, 50, 23][-0.4162148739969759, -0.2530246841503828]\n",
      "Initializing PECUZAL algorithm for univariate input...\n",
      "Starting 1-th embedding cycle..."
     ]
    },
    {
     "name": "stdout",
     "output_type": "stream",
     "text": [
      "\n",
      "Starting 2-th embedding cycle...\n"
     ]
    },
    {
     "name": "stdout",
     "output_type": "stream",
     "text": [
      "Starting 3-th embedding cycle...\n"
     ]
    },
    {
     "name": "stdout",
     "output_type": "stream",
     "text": [
      "Algorithm stopped due to increasing L-values. VALID embedding achieved ✓.\n",
      "[0, 50, 22][-0.32348318661128433, -0.2297679238433995]\n",
      "Initializing PECUZAL algorithm for univariate input...\n",
      "Starting 1-th embedding cycle...\n"
     ]
    },
    {
     "name": "stdout",
     "output_type": "stream",
     "text": [
      "Starting 2-th embedding cycle...\n"
     ]
    },
    {
     "name": "stdout",
     "output_type": "stream",
     "text": [
      "Starting 3-th embedding cycle...\n"
     ]
    },
    {
     "name": "stdout",
     "output_type": "stream",
     "text": [
      "Algorithm stopped due to increasing L-values. VALID embedding achieved ✓.\n",
      "[0, 50, 21][-0.40127124407333886, -0.23071713716055897]\n",
      "Initializing PECUZAL algorithm for univariate input...\n",
      "Starting 1-th embedding cycle..."
     ]
    },
    {
     "name": "stdout",
     "output_type": "stream",
     "text": [
      "\n",
      "Starting 2-th embedding cycle..."
     ]
    },
    {
     "name": "stdout",
     "output_type": "stream",
     "text": [
      "\n",
      "Starting 3-th embedding cycle...\n"
     ]
    },
    {
     "name": "stdout",
     "output_type": "stream",
     "text": [
      "Algorithm stopped due to increasing L-values. VALID embedding achieved ✓.\n",
      "[0, 50, 22][-0.4201366778100297, -0.2485732723476375]\n",
      "Initializing PECUZAL algorithm for univariate input...\n",
      "Starting 1-th embedding cycle...\n"
     ]
    },
    {
     "name": "stdout",
     "output_type": "stream",
     "text": [
      "Starting 2-th embedding cycle...\n"
     ]
    },
    {
     "name": "stdout",
     "output_type": "stream",
     "text": [
      "Starting 3-th embedding cycle...\n"
     ]
    },
    {
     "name": "stdout",
     "output_type": "stream",
     "text": [
      "Starting 4-th embedding cycle...\n"
     ]
    },
    {
     "name": "stdout",
     "output_type": "stream",
     "text": [
      "Algorithm stopped due to increasing L-values. VALID embedding achieved ✓.\n",
      "[0, 50, 23, 48][-0.44039339580003756, -0.2379135715393177, -0.00034749986950866063]\n",
      "Initializing PECUZAL algorithm for univariate input...\n",
      "Starting 1-th embedding cycle..."
     ]
    },
    {
     "name": "stdout",
     "output_type": "stream",
     "text": [
      "\n",
      "Starting 2-th embedding cycle...\n"
     ]
    },
    {
     "name": "stdout",
     "output_type": "stream",
     "text": [
      "Starting 3-th embedding cycle...\n"
     ]
    },
    {
     "name": "stdout",
     "output_type": "stream",
     "text": [
      "Algorithm stopped due to increasing L-values. VALID embedding achieved ✓.\n",
      "[0, 50, 22][-0.4191832763407629, -0.21925258670910475]\n",
      "Initializing PECUZAL algorithm for univariate input...\n",
      "Starting 1-th embedding cycle...\n"
     ]
    },
    {
     "name": "stdout",
     "output_type": "stream",
     "text": [
      "Starting 2-th embedding cycle...\n"
     ]
    },
    {
     "name": "stdout",
     "output_type": "stream",
     "text": [
      "Starting 3-th embedding cycle...\n"
     ]
    },
    {
     "name": "stdout",
     "output_type": "stream",
     "text": [
      "Algorithm stopped due to increasing L-values. VALID embedding achieved ✓.\n",
      "[0, 50, 22][-0.4039411975863799, -0.25811915230521143]\n",
      "Initializing PECUZAL algorithm for univariate input...\n",
      "Starting 1-th embedding cycle..."
     ]
    },
    {
     "name": "stdout",
     "output_type": "stream",
     "text": [
      "\n",
      "Starting 2-th embedding cycle...\n"
     ]
    },
    {
     "name": "stdout",
     "output_type": "stream",
     "text": [
      "Starting 3-th embedding cycle...\n"
     ]
    },
    {
     "name": "stdout",
     "output_type": "stream",
     "text": [
      "Starting 4-th embedding cycle...\n"
     ]
    },
    {
     "name": "stdout",
     "output_type": "stream",
     "text": [
      "Algorithm stopped due to increasing L-values. VALID embedding achieved ✓.\n",
      "[0, 50, 23, 2][-0.39540102016437106, -0.25862478162564306, -0.0004038908232294469]\n",
      "Initializing PECUZAL algorithm for univariate input...\n",
      "Starting 1-th embedding cycle...\n"
     ]
    },
    {
     "name": "stdout",
     "output_type": "stream",
     "text": [
      "Starting 2-th embedding cycle..."
     ]
    },
    {
     "name": "stdout",
     "output_type": "stream",
     "text": [
      "\n",
      "Starting 3-th embedding cycle...\n"
     ]
    },
    {
     "name": "stdout",
     "output_type": "stream",
     "text": [
      "Algorithm stopped due to increasing L-values. VALID embedding achieved ✓.\n",
      "[0, 50, 23][-0.3937288123011469, -0.22146178612649536]\n",
      "Initializing PECUZAL algorithm for univariate input...\n",
      "Starting 1-th embedding cycle..."
     ]
    },
    {
     "name": "stdout",
     "output_type": "stream",
     "text": [
      "\n"
     ]
    },
    {
     "name": "stdout",
     "output_type": "stream",
     "text": [
      "Starting 2-th embedding cycle...\n",
      "Starting 3-th embedding cycle...\n"
     ]
    },
    {
     "name": "stdout",
     "output_type": "stream",
     "text": [
      "Algorithm stopped due to increasing L-values. VALID embedding achieved ✓.\n",
      "[0, 50, 24][-0.4999637125275592, -0.2007508367545241]\n",
      "Initializing PECUZAL algorithm for univariate input...\n",
      "Starting 1-th embedding cycle...\n"
     ]
    },
    {
     "name": "stdout",
     "output_type": "stream",
     "text": [
      "Starting 2-th embedding cycle..."
     ]
    },
    {
     "name": "stdout",
     "output_type": "stream",
     "text": [
      "\n",
      "Starting 3-th embedding cycle...\n"
     ]
    },
    {
     "name": "stdout",
     "output_type": "stream",
     "text": [
      "Algorithm stopped due to increasing L-values. VALID embedding achieved ✓.\n",
      "[0, 50, 23][-0.42427046595773277, -0.18109509299144688]\n",
      "Initializing PECUZAL algorithm for univariate input...\n",
      "Starting 1-th embedding cycle...\n"
     ]
    },
    {
     "name": "stdout",
     "output_type": "stream",
     "text": [
      "Starting 2-th embedding cycle...\n"
     ]
    },
    {
     "name": "stdout",
     "output_type": "stream",
     "text": [
      "Starting 3-th embedding cycle...\n"
     ]
    },
    {
     "name": "stdout",
     "output_type": "stream",
     "text": [
      "Algorithm stopped due to increasing L-values. VALID embedding achieved ✓.\n",
      "[0, 50, 21][-0.47706477040713224, -0.21768573173082906]\n",
      "Initializing PECUZAL algorithm for univariate input...\n",
      "Starting 1-th embedding cycle..."
     ]
    },
    {
     "name": "stdout",
     "output_type": "stream",
     "text": [
      "\n",
      "Starting 2-th embedding cycle..."
     ]
    },
    {
     "name": "stdout",
     "output_type": "stream",
     "text": [
      "\n",
      "Starting 3-th embedding cycle...\n"
     ]
    },
    {
     "name": "stdout",
     "output_type": "stream",
     "text": [
      "Algorithm stopped due to increasing L-values. VALID embedding achieved ✓.\n",
      "[0, 50, 25][-0.4166244732883558, -0.20621141553671296]\n",
      "Initializing PECUZAL algorithm for univariate input...\n",
      "Starting 1-th embedding cycle...\n"
     ]
    },
    {
     "name": "stdout",
     "output_type": "stream",
     "text": [
      "Starting 2-th embedding cycle..."
     ]
    },
    {
     "name": "stdout",
     "output_type": "stream",
     "text": [
      "\n",
      "Starting 3-th embedding cycle...\n"
     ]
    },
    {
     "name": "stdout",
     "output_type": "stream",
     "text": [
      "Algorithm stopped due to increasing L-values. VALID embedding achieved ✓.\n",
      "[0, 50, 25][-0.4348283098899547, -0.2211075470049063]\n",
      "Initializing PECUZAL algorithm for univariate input...\n",
      "Starting 1-th embedding cycle..."
     ]
    },
    {
     "name": "stdout",
     "output_type": "stream",
     "text": [
      "\n",
      "Starting 2-th embedding cycle..."
     ]
    },
    {
     "name": "stdout",
     "output_type": "stream",
     "text": [
      "\n",
      "Starting 3-th embedding cycle..."
     ]
    },
    {
     "name": "stdout",
     "output_type": "stream",
     "text": [
      "\n",
      "Algorithm stopped due to increasing L-values. VALID embedding achieved ✓.\n",
      "[0, 50, 24][-0.39742595711836437, -0.2501444288590591]\n",
      "Initializing PECUZAL algorithm for univariate input...\n",
      "Starting 1-th embedding cycle..."
     ]
    },
    {
     "name": "stdout",
     "output_type": "stream",
     "text": [
      "\n",
      "Starting 2-th embedding cycle...\n"
     ]
    },
    {
     "name": "stdout",
     "output_type": "stream",
     "text": [
      "Starting 3-th embedding cycle...\n"
     ]
    },
    {
     "name": "stdout",
     "output_type": "stream",
     "text": [
      "Algorithm stopped due to increasing L-values. VALID embedding achieved ✓.\n",
      "[0, 50, 22][-0.40348654276852747, -0.23288119514314176]\n",
      "Initializing PECUZAL algorithm for univariate input...\n",
      "Starting 1-th embedding cycle..."
     ]
    },
    {
     "name": "stdout",
     "output_type": "stream",
     "text": [
      "\n",
      "Starting 2-th embedding cycle...\n"
     ]
    },
    {
     "name": "stdout",
     "output_type": "stream",
     "text": [
      "Starting 3-th embedding cycle...\n"
     ]
    },
    {
     "name": "stdout",
     "output_type": "stream",
     "text": [
      "Algorithm stopped due to increasing L-values. VALID embedding achieved ✓.\n",
      "[0, 50, 22][-0.39994607778921976, -0.25581870259194106]\n",
      "Initializing PECUZAL algorithm for univariate input...\n",
      "Starting 1-th embedding cycle...\n"
     ]
    },
    {
     "name": "stdout",
     "output_type": "stream",
     "text": [
      "Starting 2-th embedding cycle...\n"
     ]
    },
    {
     "name": "stdout",
     "output_type": "stream",
     "text": [
      "Starting 3-th embedding cycle..."
     ]
    },
    {
     "name": "stdout",
     "output_type": "stream",
     "text": [
      "\n",
      "Algorithm stopped due to increasing L-values. VALID embedding achieved ✓.\n",
      "[0, 50, 23][-0.4122893903513273, -0.2433240805131428]\n",
      "Initializing PECUZAL algorithm for univariate input...\n",
      "Starting 1-th embedding cycle..."
     ]
    },
    {
     "name": "stdout",
     "output_type": "stream",
     "text": [
      "\n",
      "Starting 2-th embedding cycle...\n"
     ]
    },
    {
     "name": "stdout",
     "output_type": "stream",
     "text": [
      "Starting 3-th embedding cycle...\n"
     ]
    },
    {
     "name": "stdout",
     "output_type": "stream",
     "text": [
      "Algorithm stopped due to increasing L-values. VALID embedding achieved ✓.\n",
      "[0, 50, 20][-0.41084352090633347, -0.22882380606910524]\n",
      "Initializing PECUZAL algorithm for univariate input...\n",
      "Starting 1-th embedding cycle...\n"
     ]
    },
    {
     "name": "stdout",
     "output_type": "stream",
     "text": [
      "Starting 2-th embedding cycle...\n"
     ]
    },
    {
     "name": "stdout",
     "output_type": "stream",
     "text": [
      "Starting 3-th embedding cycle...\n"
     ]
    },
    {
     "name": "stdout",
     "output_type": "stream",
     "text": [
      "Algorithm stopped due to increasing L-values. VALID embedding achieved ✓.\n",
      "[0, 50, 26][-0.38902352861942746, -0.2284318297267004]\n",
      "Initializing PECUZAL algorithm for univariate input...\n",
      "Starting 1-th embedding cycle..."
     ]
    },
    {
     "name": "stdout",
     "output_type": "stream",
     "text": [
      "\n",
      "Starting 2-th embedding cycle...\n"
     ]
    },
    {
     "name": "stdout",
     "output_type": "stream",
     "text": [
      "Starting 3-th embedding cycle...\n"
     ]
    },
    {
     "name": "stdout",
     "output_type": "stream",
     "text": [
      "Algorithm stopped due to increasing L-values. VALID embedding achieved ✓.\n",
      "[0, 50, 23][-0.3990752931452746, -0.24865609794706045]\n",
      "Initializing PECUZAL algorithm for univariate input...\n",
      "Starting 1-th embedding cycle...\n"
     ]
    },
    {
     "name": "stdout",
     "output_type": "stream",
     "text": [
      "Starting 2-th embedding cycle...\n"
     ]
    },
    {
     "name": "stdout",
     "output_type": "stream",
     "text": [
      "Starting 3-th embedding cycle...\n"
     ]
    },
    {
     "name": "stdout",
     "output_type": "stream",
     "text": [
      "Algorithm stopped due to increasing L-values. VALID embedding achieved ✓.\n",
      "[0, 50, 22][-0.3958485345491203, -0.2639960002090137]\n",
      "Initializing PECUZAL algorithm for univariate input...\n",
      "Starting 1-th embedding cycle...\n"
     ]
    },
    {
     "name": "stdout",
     "output_type": "stream",
     "text": [
      "Starting 2-th embedding cycle...\n"
     ]
    },
    {
     "name": "stdout",
     "output_type": "stream",
     "text": [
      "Starting 3-th embedding cycle..."
     ]
    },
    {
     "name": "stdout",
     "output_type": "stream",
     "text": [
      "\n",
      "Algorithm stopped due to increasing L-values. VALID embedding achieved ✓.\n",
      "[0, 50, 25][-0.40527033297608506, -0.24236085525785056]\n",
      "Initializing PECUZAL algorithm for univariate input...\n",
      "Starting 1-th embedding cycle...\n"
     ]
    },
    {
     "name": "stdout",
     "output_type": "stream",
     "text": [
      "Starting 2-th embedding cycle...\n"
     ]
    },
    {
     "name": "stdout",
     "output_type": "stream",
     "text": [
      "Starting 3-th embedding cycle...\n"
     ]
    },
    {
     "name": "stdout",
     "output_type": "stream",
     "text": [
      "Algorithm stopped due to increasing L-values. VALID embedding achieved ✓.\n",
      "[0, 50, 21][-0.41709436566802793, -0.2182263350487419]\n",
      "Initializing PECUZAL algorithm for univariate input...\n",
      "Starting 1-th embedding cycle..."
     ]
    },
    {
     "name": "stdout",
     "output_type": "stream",
     "text": [
      "\n",
      "Starting 2-th embedding cycle...\n"
     ]
    },
    {
     "name": "stdout",
     "output_type": "stream",
     "text": [
      "Starting 3-th embedding cycle...\n"
     ]
    },
    {
     "name": "stdout",
     "output_type": "stream",
     "text": [
      "Algorithm stopped due to increasing L-values. VALID embedding achieved ✓.\n",
      "[0, 50, 24][-0.3948470996156956, -0.2503137098330004]\n",
      "Initializing PECUZAL algorithm for univariate input...\n",
      "Starting 1-th embedding cycle...\n"
     ]
    },
    {
     "name": "stdout",
     "output_type": "stream",
     "text": [
      "Starting 2-th embedding cycle...\n"
     ]
    },
    {
     "name": "stdout",
     "output_type": "stream",
     "text": [
      "Starting 3-th embedding cycle...\n"
     ]
    },
    {
     "name": "stdout",
     "output_type": "stream",
     "text": [
      "Algorithm stopped due to increasing L-values. VALID embedding achieved ✓.\n",
      "[0, 50, 24][-0.36830943687665363, -0.2692299478291783]\n",
      "Initializing PECUZAL algorithm for univariate input...\n",
      "Starting 1-th embedding cycle..."
     ]
    },
    {
     "name": "stdout",
     "output_type": "stream",
     "text": [
      "\n",
      "Starting 2-th embedding cycle...\n"
     ]
    },
    {
     "name": "stdout",
     "output_type": "stream",
     "text": [
      "Starting 3-th embedding cycle..."
     ]
    },
    {
     "name": "stdout",
     "output_type": "stream",
     "text": [
      "\n",
      "Algorithm stopped due to increasing L-values. VALID embedding achieved ✓.\n",
      "[0, 50, 22][-0.43923049984888674, -0.2115896252029369]\n",
      "Initializing PECUZAL algorithm for univariate input...\n",
      "Starting 1-th embedding cycle..."
     ]
    },
    {
     "name": "stdout",
     "output_type": "stream",
     "text": [
      "\n",
      "Starting 2-th embedding cycle...\n"
     ]
    },
    {
     "name": "stdout",
     "output_type": "stream",
     "text": [
      "Starting 3-th embedding cycle...\n"
     ]
    },
    {
     "name": "stdout",
     "output_type": "stream",
     "text": [
      "Algorithm stopped due to increasing L-values. VALID embedding achieved ✓.\n",
      "[0, 50, 23][-0.39335676381550144, -0.23740131647432505]\n",
      "Initializing PECUZAL algorithm for univariate input...\n",
      "Starting 1-th embedding cycle...\n"
     ]
    },
    {
     "name": "stdout",
     "output_type": "stream",
     "text": [
      "Starting 2-th embedding cycle...\n"
     ]
    },
    {
     "name": "stdout",
     "output_type": "stream",
     "text": [
      "Starting 3-th embedding cycle..."
     ]
    },
    {
     "name": "stdout",
     "output_type": "stream",
     "text": [
      "\n",
      "Algorithm stopped due to increasing L-values. VALID embedding achieved ✓.\n",
      "[0, 50, 23][-0.42011074092988776, -0.22647481381694068]\n",
      "Initializing PECUZAL algorithm for univariate input...\n",
      "Starting 1-th embedding cycle...\n"
     ]
    },
    {
     "name": "stdout",
     "output_type": "stream",
     "text": [
      "Starting 2-th embedding cycle...\n"
     ]
    },
    {
     "name": "stdout",
     "output_type": "stream",
     "text": [
      "Starting 3-th embedding cycle...\n"
     ]
    },
    {
     "name": "stdout",
     "output_type": "stream",
     "text": [
      "Algorithm stopped due to increasing L-values. VALID embedding achieved ✓.\n",
      "[0, 50, 24][-0.4133034444908537, -0.23949798808451295]\n",
      "Initializing PECUZAL algorithm for univariate input...\n",
      "Starting 1-th embedding cycle...\n"
     ]
    },
    {
     "name": "stdout",
     "output_type": "stream",
     "text": [
      "Starting 2-th embedding cycle...\n"
     ]
    },
    {
     "name": "stdout",
     "output_type": "stream",
     "text": [
      "Starting 3-th embedding cycle...\n"
     ]
    },
    {
     "name": "stdout",
     "output_type": "stream",
     "text": [
      "Algorithm stopped due to increasing L-values. VALID embedding achieved ✓.\n",
      "[0, 50, 21][-0.39865110190863534, -0.2151258427807925]\n",
      "Initializing PECUZAL algorithm for univariate input...\n",
      "Starting 1-th embedding cycle...\n"
     ]
    },
    {
     "name": "stdout",
     "output_type": "stream",
     "text": [
      "Starting 2-th embedding cycle...\n"
     ]
    },
    {
     "name": "stdout",
     "output_type": "stream",
     "text": [
      "Starting 3-th embedding cycle...\n"
     ]
    },
    {
     "name": "stdout",
     "output_type": "stream",
     "text": [
      "Algorithm stopped due to increasing L-values. VALID embedding achieved ✓.\n",
      "[0, 50, 25][-0.4263395590852643, -0.18781877251783718]\n",
      "Initializing PECUZAL algorithm for univariate input...\n",
      "Starting 1-th embedding cycle..."
     ]
    },
    {
     "name": "stdout",
     "output_type": "stream",
     "text": [
      "\n",
      "Starting 2-th embedding cycle..."
     ]
    },
    {
     "name": "stdout",
     "output_type": "stream",
     "text": [
      "\n",
      "Starting 3-th embedding cycle...\n"
     ]
    },
    {
     "name": "stdout",
     "output_type": "stream",
     "text": [
      "Algorithm stopped due to increasing L-values. VALID embedding achieved ✓.\n",
      "[0, 50, 21][-0.4229322574025608, -0.2435524493057606]\n",
      "Initializing PECUZAL algorithm for univariate input...\n",
      "Starting 1-th embedding cycle..."
     ]
    },
    {
     "name": "stdout",
     "output_type": "stream",
     "text": [
      "\n",
      "Starting 2-th embedding cycle...\n"
     ]
    },
    {
     "name": "stdout",
     "output_type": "stream",
     "text": [
      "Starting 3-th embedding cycle...\n"
     ]
    },
    {
     "name": "stdout",
     "output_type": "stream",
     "text": [
      "Algorithm stopped due to increasing L-values. VALID embedding achieved ✓.\n",
      "[0, 50, 22][-0.39704094680481034, -0.2130446083029034]\n",
      "Initializing PECUZAL algorithm for univariate input...\n",
      "Starting 1-th embedding cycle..."
     ]
    },
    {
     "name": "stdout",
     "output_type": "stream",
     "text": [
      "\n",
      "Starting 2-th embedding cycle...\n"
     ]
    },
    {
     "name": "stdout",
     "output_type": "stream",
     "text": [
      "Starting 3-th embedding cycle..."
     ]
    },
    {
     "name": "stdout",
     "output_type": "stream",
     "text": [
      "\n",
      "Algorithm stopped due to increasing L-values. VALID embedding achieved ✓.\n",
      "[0, 50, 26][-0.4301634633657257, -0.23026592177913585]\n",
      "Initializing PECUZAL algorithm for univariate input...\n",
      "Starting 1-th embedding cycle...\n"
     ]
    },
    {
     "name": "stdout",
     "output_type": "stream",
     "text": [
      "Starting 2-th embedding cycle...\n"
     ]
    },
    {
     "name": "stdout",
     "output_type": "stream",
     "text": [
      "Starting 3-th embedding cycle...\n"
     ]
    },
    {
     "name": "stdout",
     "output_type": "stream",
     "text": [
      "Algorithm stopped due to increasing L-values. VALID embedding achieved ✓.\n",
      "[0, 50, 26][-0.3347863615639809, -0.2906114762575537]\n",
      "Initializing PECUZAL algorithm for univariate input...\n",
      "Starting 1-th embedding cycle..."
     ]
    },
    {
     "name": "stdout",
     "output_type": "stream",
     "text": [
      "\n",
      "Starting 2-th embedding cycle...\n"
     ]
    },
    {
     "name": "stdout",
     "output_type": "stream",
     "text": [
      "Starting 3-th embedding cycle...\n"
     ]
    },
    {
     "name": "stdout",
     "output_type": "stream",
     "text": [
      "Algorithm stopped due to increasing L-values. VALID embedding achieved ✓.\n",
      "[0, 50, 21][-0.40027832377837697, -0.2501778452594966]\n",
      "Initializing PECUZAL algorithm for univariate input...\n",
      "Starting 1-th embedding cycle..."
     ]
    },
    {
     "name": "stdout",
     "output_type": "stream",
     "text": [
      "\n",
      "Starting 2-th embedding cycle..."
     ]
    },
    {
     "name": "stdout",
     "output_type": "stream",
     "text": [
      "\n",
      "Starting 3-th embedding cycle...\n"
     ]
    },
    {
     "name": "stdout",
     "output_type": "stream",
     "text": [
      "Algorithm stopped due to increasing L-values. VALID embedding achieved ✓.\n",
      "[0, 50, 24][-0.41797112069797737, -0.2345284479250469]\n",
      "Initializing PECUZAL algorithm for univariate input...\n",
      "Starting 1-th embedding cycle...\n"
     ]
    },
    {
     "name": "stdout",
     "output_type": "stream",
     "text": [
      "Starting 2-th embedding cycle..."
     ]
    },
    {
     "name": "stdout",
     "output_type": "stream",
     "text": [
      "\n",
      "Starting 3-th embedding cycle..."
     ]
    },
    {
     "name": "stdout",
     "output_type": "stream",
     "text": [
      "\n",
      "Algorithm stopped due to increasing L-values. VALID embedding achieved ✓.\n",
      "[0, 50, 24][-0.3753334541195427, -0.21528434272747532]\n",
      "Initializing PECUZAL algorithm for univariate input...\n",
      "Starting 1-th embedding cycle...\n"
     ]
    },
    {
     "name": "stdout",
     "output_type": "stream",
     "text": [
      "Starting 2-th embedding cycle...\n"
     ]
    },
    {
     "name": "stdout",
     "output_type": "stream",
     "text": [
      "Starting 3-th embedding cycle...\n"
     ]
    },
    {
     "name": "stdout",
     "output_type": "stream",
     "text": [
      "Algorithm stopped due to increasing L-values. VALID embedding achieved ✓.\n",
      "[0, 50, 23][-0.43979047451405745, -0.19717741475634198]\n",
      "Initializing PECUZAL algorithm for univariate input...\n",
      "Starting 1-th embedding cycle..."
     ]
    },
    {
     "name": "stdout",
     "output_type": "stream",
     "text": [
      "\n",
      "Starting 2-th embedding cycle...\n"
     ]
    },
    {
     "name": "stdout",
     "output_type": "stream",
     "text": [
      "Starting 3-th embedding cycle...\n"
     ]
    },
    {
     "name": "stdout",
     "output_type": "stream",
     "text": [
      "Algorithm stopped due to increasing L-values. VALID embedding achieved ✓.\n",
      "[0, 50, 25][-0.41883049648395, -0.21872922443002196]\n",
      "Initializing PECUZAL algorithm for univariate input...\n",
      "Starting 1-th embedding cycle...\n"
     ]
    },
    {
     "name": "stdout",
     "output_type": "stream",
     "text": [
      "Starting 2-th embedding cycle...\n"
     ]
    },
    {
     "name": "stdout",
     "output_type": "stream",
     "text": [
      "Starting 3-th embedding cycle...\n"
     ]
    },
    {
     "name": "stdout",
     "output_type": "stream",
     "text": [
      "Algorithm stopped due to increasing L-values. VALID embedding achieved ✓.\n",
      "[0, 50, 26][-0.45572818844858154, -0.23572600943245392]\n",
      "Initializing PECUZAL algorithm for univariate input...\n",
      "Starting 1-th embedding cycle...\n"
     ]
    },
    {
     "name": "stdout",
     "output_type": "stream",
     "text": [
      "Starting 2-th embedding cycle..."
     ]
    },
    {
     "name": "stdout",
     "output_type": "stream",
     "text": [
      "\n",
      "Starting 3-th embedding cycle...\n"
     ]
    },
    {
     "name": "stdout",
     "output_type": "stream",
     "text": [
      "Algorithm stopped due to increasing L-values. VALID embedding achieved ✓.\n",
      "[0, 50, 24][-0.3842010510187195, -0.2614233550811046]\n",
      "Initializing PECUZAL algorithm for univariate input...\n",
      "Starting 1-th embedding cycle..."
     ]
    },
    {
     "name": "stdout",
     "output_type": "stream",
     "text": [
      "\n",
      "Starting 2-th embedding cycle...\n"
     ]
    },
    {
     "name": "stdout",
     "output_type": "stream",
     "text": [
      "Starting 3-th embedding cycle...\n"
     ]
    },
    {
     "name": "stdout",
     "output_type": "stream",
     "text": [
      "Algorithm stopped due to increasing L-values. VALID embedding achieved ✓.\n",
      "[0, 50, 26][-0.4026572777996782, -0.23324447368672174]\n",
      "Initializing PECUZAL algorithm for univariate input...\n",
      "Starting 1-th embedding cycle...\n"
     ]
    },
    {
     "name": "stdout",
     "output_type": "stream",
     "text": [
      "Starting 2-th embedding cycle..."
     ]
    },
    {
     "name": "stdout",
     "output_type": "stream",
     "text": [
      "\n",
      "Starting 3-th embedding cycle...\n"
     ]
    },
    {
     "name": "stdout",
     "output_type": "stream",
     "text": [
      "Algorithm stopped due to increasing L-values. VALID embedding achieved ✓.\n",
      "[0, 50, 25][-0.39143874790137273, -0.2213275878496892]\n",
      "Initializing PECUZAL algorithm for univariate input...\n",
      "Starting 1-th embedding cycle...\n"
     ]
    },
    {
     "name": "stdout",
     "output_type": "stream",
     "text": [
      "Starting 2-th embedding cycle...\n"
     ]
    },
    {
     "name": "stdout",
     "output_type": "stream",
     "text": [
      "Starting 3-th embedding cycle..."
     ]
    },
    {
     "name": "stdout",
     "output_type": "stream",
     "text": [
      "\n",
      "Algorithm stopped due to increasing L-values. VALID embedding achieved ✓.\n",
      "[0, 50, 25][-0.4037078692586322, -0.22257380373209867]\n",
      "Initializing PECUZAL algorithm for univariate input...\n",
      "Starting 1-th embedding cycle..."
     ]
    },
    {
     "name": "stdout",
     "output_type": "stream",
     "text": [
      "\n",
      "Starting 2-th embedding cycle...\n"
     ]
    },
    {
     "name": "stdout",
     "output_type": "stream",
     "text": [
      "Starting 3-th embedding cycle...\n"
     ]
    },
    {
     "name": "stdout",
     "output_type": "stream",
     "text": [
      "Algorithm stopped due to increasing L-values. VALID embedding achieved ✓.\n",
      "[0, 50, 22][-0.41087210266048046, -0.22534232529364973]\n",
      "Initializing PECUZAL algorithm for univariate input...\n",
      "Starting 1-th embedding cycle...\n"
     ]
    },
    {
     "name": "stdout",
     "output_type": "stream",
     "text": [
      "Starting 2-th embedding cycle...\n"
     ]
    },
    {
     "name": "stdout",
     "output_type": "stream",
     "text": [
      "Starting 3-th embedding cycle...\n",
      "Algorithm stopped due to increasing L-values. VALID embedding achieved ✓."
     ]
    },
    {
     "name": "stdout",
     "output_type": "stream",
     "text": [
      "\n",
      "[0, 50, 23][-0.4022871484850955, -0.23513663687781095]\n",
      "Initializing PECUZAL algorithm for univariate input...\n",
      "Starting 1-th embedding cycle...\n"
     ]
    },
    {
     "name": "stdout",
     "output_type": "stream",
     "text": [
      "Starting 2-th embedding cycle...\n"
     ]
    },
    {
     "name": "stdout",
     "output_type": "stream",
     "text": [
      "Starting 3-th embedding cycle...\n"
     ]
    },
    {
     "name": "stdout",
     "output_type": "stream",
     "text": [
      "Algorithm stopped due to increasing L-values. VALID embedding achieved ✓.\n",
      "[0, 50, 24][-0.389929043927085, -0.24808135074789606]\n",
      "Initializing PECUZAL algorithm for univariate input...\n",
      "Starting 1-th embedding cycle..."
     ]
    },
    {
     "name": "stdout",
     "output_type": "stream",
     "text": [
      "\n",
      "Starting 2-th embedding cycle...\n"
     ]
    },
    {
     "name": "stdout",
     "output_type": "stream",
     "text": [
      "Starting 3-th embedding cycle...\n"
     ]
    },
    {
     "name": "stdout",
     "output_type": "stream",
     "text": [
      "Starting 4-th embedding cycle...\n"
     ]
    },
    {
     "name": "stdout",
     "output_type": "stream",
     "text": [
      "Algorithm stopped due to increasing L-values. VALID embedding achieved ✓.\n",
      "[0, 50, 24, 48][-0.4003554233909936, -0.25514792320445434, -0.0015645156393715443]\n",
      "Initializing PECUZAL algorithm for univariate input...\n",
      "Starting 1-th embedding cycle..."
     ]
    },
    {
     "name": "stdout",
     "output_type": "stream",
     "text": [
      "\n",
      "Starting 2-th embedding cycle...\n"
     ]
    },
    {
     "name": "stdout",
     "output_type": "stream",
     "text": [
      "Starting 3-th embedding cycle...\n"
     ]
    },
    {
     "name": "stdout",
     "output_type": "stream",
     "text": [
      "Algorithm stopped due to increasing L-values. VALID embedding achieved ✓.\n",
      "[0, 50, 25][-0.4047280107450253, -0.21368207897438796]\n",
      "Initializing PECUZAL algorithm for univariate input...\n",
      "Starting 1-th embedding cycle..."
     ]
    },
    {
     "name": "stdout",
     "output_type": "stream",
     "text": [
      "\n",
      "Starting 2-th embedding cycle...\n"
     ]
    },
    {
     "name": "stdout",
     "output_type": "stream",
     "text": [
      "Starting 3-th embedding cycle..."
     ]
    },
    {
     "name": "stdout",
     "output_type": "stream",
     "text": [
      "\n",
      "Algorithm stopped due to increasing L-values. VALID embedding achieved ✓.\n",
      "[0, 50, 23][-0.3457966240924443, -0.22208349050313891]\n",
      "Initializing PECUZAL algorithm for univariate input...\n",
      "Starting 1-th embedding cycle...\n"
     ]
    },
    {
     "name": "stdout",
     "output_type": "stream",
     "text": [
      "Starting 2-th embedding cycle...\n"
     ]
    },
    {
     "name": "stdout",
     "output_type": "stream",
     "text": [
      "Starting 3-th embedding cycle...\n"
     ]
    },
    {
     "name": "stdout",
     "output_type": "stream",
     "text": [
      "Algorithm stopped due to increasing L-values. VALID embedding achieved ✓.\n",
      "[0, 50, 23][-0.42741865964822146, -0.23191467993120485]\n",
      "Initializing PECUZAL algorithm for univariate input...\n",
      "Starting 1-th embedding cycle...\n"
     ]
    },
    {
     "name": "stdout",
     "output_type": "stream",
     "text": [
      "Starting 2-th embedding cycle...\n"
     ]
    },
    {
     "name": "stdout",
     "output_type": "stream",
     "text": [
      "Starting 3-th embedding cycle...\n"
     ]
    },
    {
     "name": "stdout",
     "output_type": "stream",
     "text": [
      "Algorithm stopped due to increasing L-values. VALID embedding achieved ✓.\n",
      "[0, 50, 24][-0.4250322491722972, -0.2417841092360784]\n",
      "Initializing PECUZAL algorithm for univariate input...\n",
      "Starting 1-th embedding cycle...\n"
     ]
    },
    {
     "name": "stdout",
     "output_type": "stream",
     "text": [
      "Starting 2-th embedding cycle..."
     ]
    },
    {
     "name": "stdout",
     "output_type": "stream",
     "text": [
      "\n",
      "Starting 3-th embedding cycle...\n"
     ]
    },
    {
     "name": "stdout",
     "output_type": "stream",
     "text": [
      "Algorithm stopped due to increasing L-values. VALID embedding achieved ✓.\n",
      "[0, 50, 23][-0.3681563714848287, -0.27101491779036957]\n",
      "Initializing PECUZAL algorithm for univariate input...\n",
      "Starting 1-th embedding cycle...\n"
     ]
    },
    {
     "name": "stdout",
     "output_type": "stream",
     "text": [
      "Starting 2-th embedding cycle..."
     ]
    },
    {
     "name": "stdout",
     "output_type": "stream",
     "text": [
      "\n",
      "Starting 3-th embedding cycle...\n"
     ]
    },
    {
     "name": "stdout",
     "output_type": "stream",
     "text": [
      "Algorithm stopped due to increasing L-values. VALID embedding achieved ✓.\n",
      "[0, 50, 24][-0.38238007563380433, -0.2601220327040328]\n",
      "Initializing PECUZAL algorithm for univariate input...\n",
      "Starting 1-th embedding cycle...\n"
     ]
    },
    {
     "name": "stdout",
     "output_type": "stream",
     "text": [
      "Starting 2-th embedding cycle..."
     ]
    },
    {
     "name": "stdout",
     "output_type": "stream",
     "text": [
      "\n",
      "Starting 3-th embedding cycle...\n"
     ]
    },
    {
     "name": "stdout",
     "output_type": "stream",
     "text": [
      "Algorithm stopped due to increasing L-values. VALID embedding achieved ✓.\n",
      "[0, 50, 22][-0.43346327727867673, -0.24364151893388142]\n",
      "Initializing PECUZAL algorithm for univariate input...\n",
      "Starting 1-th embedding cycle...\n"
     ]
    },
    {
     "name": "stdout",
     "output_type": "stream",
     "text": [
      "Starting 2-th embedding cycle..."
     ]
    },
    {
     "name": "stdout",
     "output_type": "stream",
     "text": [
      "\n",
      "Starting 3-th embedding cycle...\n"
     ]
    },
    {
     "name": "stdout",
     "output_type": "stream",
     "text": [
      "Algorithm stopped due to increasing L-values. VALID embedding achieved ✓.\n",
      "[0, 50, 24][-0.404392094704194, -0.24458791340462993]\n",
      "Initializing PECUZAL algorithm for univariate input...\n",
      "Starting 1-th embedding cycle...\n"
     ]
    },
    {
     "name": "stdout",
     "output_type": "stream",
     "text": [
      "Starting 2-th embedding cycle..."
     ]
    },
    {
     "name": "stdout",
     "output_type": "stream",
     "text": [
      "\n",
      "Starting 3-th embedding cycle..."
     ]
    },
    {
     "name": "stdout",
     "output_type": "stream",
     "text": [
      "\n",
      "Algorithm stopped due to increasing L-values. VALID embedding achieved ✓.\n",
      "[0, 50, 27][-0.43790975967979723, -0.2460619556763194]\n",
      "Initializing PECUZAL algorithm for univariate input...\n",
      "Starting 1-th embedding cycle...\n"
     ]
    },
    {
     "name": "stdout",
     "output_type": "stream",
     "text": [
      "Starting 2-th embedding cycle...\n"
     ]
    },
    {
     "name": "stdout",
     "output_type": "stream",
     "text": [
      "Starting 3-th embedding cycle..."
     ]
    },
    {
     "name": "stdout",
     "output_type": "stream",
     "text": [
      "\n",
      "Algorithm stopped due to increasing L-values. VALID embedding achieved ✓.\n",
      "[0, 50, 26][-0.40513475999185655, -0.25718209047938234]\n",
      "Initializing PECUZAL algorithm for univariate input...\n",
      "Starting 1-th embedding cycle..."
     ]
    },
    {
     "name": "stdout",
     "output_type": "stream",
     "text": [
      "\n",
      "Starting 2-th embedding cycle...\n"
     ]
    },
    {
     "name": "stdout",
     "output_type": "stream",
     "text": [
      "Starting 3-th embedding cycle...\n"
     ]
    },
    {
     "name": "stdout",
     "output_type": "stream",
     "text": [
      "Algorithm stopped due to increasing L-values. VALID embedding achieved ✓.\n",
      "[0, 50, 24][-0.4235582050355964, -0.21570025386518799]\n",
      "Initializing PECUZAL algorithm for univariate input...\n",
      "Starting 1-th embedding cycle...\n"
     ]
    },
    {
     "name": "stdout",
     "output_type": "stream",
     "text": [
      "Starting 2-th embedding cycle...\n"
     ]
    },
    {
     "name": "stdout",
     "output_type": "stream",
     "text": [
      "Starting 3-th embedding cycle..."
     ]
    },
    {
     "name": "stdout",
     "output_type": "stream",
     "text": [
      "\n",
      "Algorithm stopped due to increasing L-values. VALID embedding achieved ✓.\n",
      "[0, 50, 22][-0.43253201063183877, -0.24441504874002284]\n",
      "Initializing PECUZAL algorithm for univariate input...\n",
      "Starting 1-th embedding cycle..."
     ]
    },
    {
     "name": "stdout",
     "output_type": "stream",
     "text": [
      "\n",
      "Starting 2-th embedding cycle..."
     ]
    },
    {
     "name": "stdout",
     "output_type": "stream",
     "text": [
      "\n",
      "Starting 3-th embedding cycle..."
     ]
    },
    {
     "name": "stdout",
     "output_type": "stream",
     "text": [
      "\n",
      "Algorithm stopped due to increasing L-values. VALID embedding achieved ✓.\n",
      "[0, 50, 26][-0.4290317992970188, -0.240512972638404]\n",
      "Initializing PECUZAL algorithm for univariate input...\n",
      "Starting 1-th embedding cycle..."
     ]
    },
    {
     "name": "stdout",
     "output_type": "stream",
     "text": [
      "\n",
      "Starting 2-th embedding cycle...\n"
     ]
    },
    {
     "name": "stdout",
     "output_type": "stream",
     "text": [
      "Starting 3-th embedding cycle..."
     ]
    },
    {
     "name": "stdout",
     "output_type": "stream",
     "text": [
      "\n",
      "Algorithm stopped due to increasing L-values. VALID embedding achieved ✓.\n",
      "[0, 50, 24][-0.41798157842375516, -0.22223271722400573]\n"
     ]
    }
   ],
   "source": [
    "# global s\n",
    "for i = 1:100\n",
    "    fid = h5open(\"E:/LearningEmbedding/data_collection/Rossler/noisy_rossler_no\"*string(i)*\".h5\", \"r\")\n",
    "    Y = fid[\"xM\"]\n",
    "\n",
    "    s = vec(Y[:, 2]) # input timeseries = y-component of Lorenz\n",
    "    theiler = estimate_delay(s, \"mi_min\") # estimate a Theiler window\n",
    "    Tmax = 50 # maximum possible delay\n",
    "    close(fid)\n",
    "\n",
    "    Recon_pec, τ_vals, ts_vals, Ls, εs = pecuzal_embedding(s; τs = 0:Tmax , w = theiler, L_threshold=0, econ = true)\n",
    "    println(τ_vals, Ls)\n",
    "    ff = h5open(\"e:/LearningEmbedding/results/PECUZAL/Rossler/noisy_rossler_uni_no\"*string(i)*\".h5\", \"w\")\n",
    "    ff[\"Embedding\"] = Matrix(Recon_pec)\n",
    "    ff[\"delays\"] = τ_vals\n",
    "    close(ff)\n",
    "    \n",
    "end"
   ]
  },
  {
   "cell_type": "code",
   "execution_count": 4,
   "metadata": {},
   "outputs": [
    {
     "name": "stdout",
     "output_type": "stream",
     "text": [
      "Algorithm stopped due to sufficiently small FNNs. Valid embedding achieved ✓.\n",
      "[0, 50, 21, 49, 1]\n"
     ]
    },
    {
     "name": "stdout",
     "output_type": "stream",
     "text": [
      "Algorithm stopped due to sufficiently small FNNs. Valid embedding achieved ✓.\n",
      "[0, 50, 20, 49, 2]\n"
     ]
    },
    {
     "name": "stdout",
     "output_type": "stream",
     "text": [
      "Algorithm stopped due to sufficiently small FNNs. Valid embedding achieved ✓.\n",
      "[0, 50, 24, 49, 4]\n"
     ]
    },
    {
     "name": "stdout",
     "output_type": "stream",
     "text": [
      "Algorithm stopped due to sufficiently small FNNs. Valid embedding achieved ✓.\n",
      "[0, 50, 25, 49, 5]\n"
     ]
    },
    {
     "name": "stdout",
     "output_type": "stream",
     "text": [
      "Algorithm stopped due to sufficiently small FNNs. Valid embedding achieved ✓.\n",
      "[0, 49, 20, 50, 3]"
     ]
    },
    {
     "name": "stdout",
     "output_type": "stream",
     "text": [
      "\n",
      "Algorithm stopped due to sufficiently small FNNs. Valid embedding achieved ✓.\n",
      "[0, 50, 26, 49, 2]"
     ]
    },
    {
     "name": "stdout",
     "output_type": "stream",
     "text": [
      "\n",
      "Algorithm stopped due to sufficiently small FNNs. Valid embedding achieved ✓.\n",
      "[0, 49, 23, 50, 5]"
     ]
    },
    {
     "name": "stdout",
     "output_type": "stream",
     "text": [
      "\n",
      "Algorithm stopped due to sufficiently small FNNs. Valid embedding achieved ✓.\n",
      "[0, 50, 21, 49, 1]\n"
     ]
    },
    {
     "name": "stdout",
     "output_type": "stream",
     "text": [
      "Algorithm stopped due to sufficiently small FNNs. Valid embedding achieved ✓.\n",
      "[0, 50, 21, 49, 1]\n"
     ]
    },
    {
     "name": "stdout",
     "output_type": "stream",
     "text": [
      "Algorithm stopped due to sufficiently small FNNs. Valid embedding achieved ✓.\n",
      "[0, 49, 21, 45, 1]\n"
     ]
    },
    {
     "name": "stdout",
     "output_type": "stream",
     "text": [
      "Algorithm stopped due to sufficiently small FNNs. Valid embedding achieved ✓.\n",
      "[0, 48, 23, 49, 1]\n"
     ]
    },
    {
     "name": "stdout",
     "output_type": "stream",
     "text": [
      "Algorithm stopped due to sufficiently small FNNs. Valid embedding achieved ✓.\n",
      "[0, 50, 24, 49, 9]\n"
     ]
    },
    {
     "name": "stdout",
     "output_type": "stream",
     "text": [
      "Algorithm stopped due to sufficiently small FNNs. Valid embedding achieved ✓.\n",
      "[0, 50, 19, 48, 11]\n"
     ]
    },
    {
     "name": "stdout",
     "output_type": "stream",
     "text": [
      "Algorithm stopped due to sufficiently small FNNs. Valid embedding achieved ✓.\n",
      "[0, 50, 32, 11, 49]\n"
     ]
    },
    {
     "name": "stdout",
     "output_type": "stream",
     "text": [
      "Algorithm stopped due to sufficiently small FNNs. Valid embedding achieved ✓.\n",
      "[0, 50, 21, 48, 8]\n"
     ]
    },
    {
     "name": "stdout",
     "output_type": "stream",
     "text": [
      "Algorithm stopped due to sufficiently small FNNs. Valid embedding achieved ✓.\n",
      "[0, 50, 23, 49, 4]"
     ]
    },
    {
     "name": "stdout",
     "output_type": "stream",
     "text": [
      "\n",
      "Algorithm stopped due to sufficiently small FNNs. Valid embedding achieved ✓.\n",
      "[0, 49, 23, 50, 1]\n"
     ]
    },
    {
     "name": "stdout",
     "output_type": "stream",
     "text": [
      "Algorithm stopped due to sufficiently small FNNs. Valid embedding achieved ✓.\n",
      "[0, 49, 24, 50, 1]\n"
     ]
    },
    {
     "name": "stdout",
     "output_type": "stream",
     "text": [
      "Algorithm stopped due to sufficiently small FNNs. Valid embedding achieved ✓.\n",
      "[0, 50, 24, 49, 1]"
     ]
    },
    {
     "name": "stdout",
     "output_type": "stream",
     "text": [
      "\n",
      "Algorithm stopped due to sufficiently small FNNs. Valid embedding achieved ✓.\n",
      "[0, 50, 20, 46, 2]\n"
     ]
    },
    {
     "name": "stdout",
     "output_type": "stream",
     "text": [
      "Algorithm stopped due to sufficiently small FNNs. Valid embedding achieved ✓.\n",
      "[0, 49, 24, 46, 3]\n"
     ]
    },
    {
     "name": "stdout",
     "output_type": "stream",
     "text": [
      "Algorithm stopped due to sufficiently small FNNs. Valid embedding achieved ✓.\n",
      "[0, 48, 23, 47, 1]\n"
     ]
    },
    {
     "name": "stdout",
     "output_type": "stream",
     "text": [
      "Algorithm stopped due to sufficiently small FNNs. Valid embedding achieved ✓.\n",
      "[0, 49, 19, 50, 1]"
     ]
    },
    {
     "name": "stdout",
     "output_type": "stream",
     "text": [
      "\n",
      "Algorithm stopped due to sufficiently small FNNs. Valid embedding achieved ✓.\n",
      "[0, 50, 24, 44, 1]\n"
     ]
    },
    {
     "name": "stdout",
     "output_type": "stream",
     "text": [
      "Algorithm stopped due to sufficiently small FNNs. Valid embedding achieved ✓.\n",
      "[0, 48, 22, 50, 7]\n"
     ]
    },
    {
     "name": "stdout",
     "output_type": "stream",
     "text": [
      "Algorithm stopped due to sufficiently small FNNs. Valid embedding achieved ✓.\n",
      "[0, 50, 23, 48, 4]\n"
     ]
    },
    {
     "name": "stdout",
     "output_type": "stream",
     "text": [
      "Algorithm stopped due to sufficiently small FNNs. Valid embedding achieved ✓.\n",
      "[0, 48, 22, 49, 1]"
     ]
    },
    {
     "name": "stdout",
     "output_type": "stream",
     "text": [
      "\n",
      "Algorithm stopped due to sufficiently small FNNs. Valid embedding achieved ✓.\n",
      "[0, 49, 21, 50, 1]\n"
     ]
    },
    {
     "name": "stdout",
     "output_type": "stream",
     "text": [
      "Algorithm stopped due to sufficiently small FNNs. Valid embedding achieved ✓.\n",
      "[0, 50, 25, 49, 5]\n"
     ]
    },
    {
     "name": "stdout",
     "output_type": "stream",
     "text": [
      "Algorithm stopped due to sufficiently small FNNs. Valid embedding achieved ✓.\n",
      "[0, 50, 22, 48, 1]\n"
     ]
    },
    {
     "name": "stdout",
     "output_type": "stream",
     "text": [
      "Algorithm stopped due to sufficiently small FNNs. Valid embedding achieved ✓.\n",
      "[0, 50, 17, 49, 1]\n"
     ]
    },
    {
     "name": "stdout",
     "output_type": "stream",
     "text": [
      "Algorithm stopped due to sufficiently small FNNs. Valid embedding achieved ✓.\n",
      "[0, 50, 27, 49, 4]\n"
     ]
    },
    {
     "name": "stdout",
     "output_type": "stream",
     "text": [
      "Algorithm stopped due to sufficiently small FNNs. Valid embedding achieved ✓.\n",
      "[0, 50, 20, 49, 1]\n"
     ]
    },
    {
     "name": "stdout",
     "output_type": "stream",
     "text": [
      "Algorithm stopped due to sufficiently small FNNs. Valid embedding achieved ✓.\n",
      "[0, 47, 23, 50, 3]\n"
     ]
    },
    {
     "name": "stdout",
     "output_type": "stream",
     "text": [
      "Algorithm stopped due to sufficiently small FNNs. Valid embedding achieved ✓.\n",
      "[0, 49, 23, 50, 1]\n"
     ]
    },
    {
     "name": "stdout",
     "output_type": "stream",
     "text": [
      "Algorithm stopped due to sufficiently small FNNs. Valid embedding achieved ✓.\n",
      "[0, 50, 22, 48, 6]\n"
     ]
    },
    {
     "name": "stdout",
     "output_type": "stream",
     "text": [
      "Algorithm stopped due to sufficiently small FNNs. Valid embedding achieved ✓.\n",
      "[0, 50, 23, 48, 1]\n"
     ]
    },
    {
     "name": "stdout",
     "output_type": "stream",
     "text": [
      "Algorithm stopped due to sufficiently small FNNs. Valid embedding achieved ✓.\n",
      "[0, 48, 29, 1, 49]"
     ]
    },
    {
     "name": "stdout",
     "output_type": "stream",
     "text": [
      "\n",
      "Algorithm stopped due to sufficiently small FNNs. Valid embedding achieved ✓.\n",
      "[0, 49, 25, 48, 8]\n"
     ]
    },
    {
     "name": "stdout",
     "output_type": "stream",
     "text": [
      "Algorithm stopped due to sufficiently small FNNs. Valid embedding achieved ✓.\n",
      "[0, 50, 20, 47, 1]"
     ]
    },
    {
     "name": "stdout",
     "output_type": "stream",
     "text": [
      "\n",
      "Algorithm stopped due to sufficiently small FNNs. Valid embedding achieved ✓.\n",
      "[0, 50, 25, 48, 3]\n"
     ]
    },
    {
     "name": "stdout",
     "output_type": "stream",
     "text": [
      "Algorithm stopped due to sufficiently small FNNs. Valid embedding achieved ✓.\n",
      "[0, 50, 18, 48, 3]\n"
     ]
    },
    {
     "name": "stdout",
     "output_type": "stream",
     "text": [
      "Algorithm stopped due to sufficiently small FNNs. Valid embedding achieved ✓.\n",
      "[0, 50, 23, 48, 1]\n"
     ]
    },
    {
     "name": "stdout",
     "output_type": "stream",
     "text": [
      "Algorithm stopped due to sufficiently small FNNs. Valid embedding achieved ✓.\n",
      "[0, 49, 22, 50, 12]\n"
     ]
    },
    {
     "name": "stdout",
     "output_type": "stream",
     "text": [
      "Algorithm stopped due to sufficiently small FNNs. Valid embedding achieved ✓.\n",
      "[0, 50, 18, 49, 2]\n"
     ]
    },
    {
     "name": "stdout",
     "output_type": "stream",
     "text": [
      "Algorithm stopped due to sufficiently small FNNs. Valid embedding achieved ✓.\n",
      "[0, 49, 20, 48, 1]\n"
     ]
    },
    {
     "name": "stdout",
     "output_type": "stream",
     "text": [
      "Algorithm stopped due to sufficiently small FNNs. Valid embedding achieved ✓.\n",
      "[0, 50, 24, 48, 1]\n"
     ]
    },
    {
     "name": "stdout",
     "output_type": "stream",
     "text": [
      "Algorithm stopped due to sufficiently small FNNs. Valid embedding achieved ✓.\n",
      "[0, 48, 19, 49, 2]\n"
     ]
    },
    {
     "name": "stdout",
     "output_type": "stream",
     "text": [
      "Algorithm stopped due to sufficiently small FNNs. Valid embedding achieved ✓.\n",
      "[0, 49, 16, 50, 1]\n"
     ]
    },
    {
     "name": "stdout",
     "output_type": "stream",
     "text": [
      "Algorithm stopped due to sufficiently small FNNs. Valid embedding achieved ✓.\n",
      "[0, 50, 20, 49, 1]\n"
     ]
    },
    {
     "name": "stdout",
     "output_type": "stream",
     "text": [
      "Algorithm stopped due to sufficiently small FNNs. Valid embedding achieved ✓.\n",
      "[0, 49, 20, 50, 1]\n"
     ]
    },
    {
     "name": "stdout",
     "output_type": "stream",
     "text": [
      "Algorithm stopped due to sufficiently small FNNs. Valid embedding achieved ✓.\n",
      "[0, 48, 26, 50, 1]\n"
     ]
    },
    {
     "name": "stdout",
     "output_type": "stream",
     "text": [
      "Algorithm stopped due to sufficiently small FNNs. Valid embedding achieved ✓.\n",
      "[0, 48, 20, 50, 3]\n"
     ]
    },
    {
     "name": "stdout",
     "output_type": "stream",
     "text": [
      "Algorithm stopped due to sufficiently small FNNs. Valid embedding achieved ✓.\n",
      "[0, 49, 22, 50, 2]"
     ]
    },
    {
     "name": "stdout",
     "output_type": "stream",
     "text": [
      "\n",
      "Algorithm stopped due to sufficiently small FNNs. Valid embedding achieved ✓.\n",
      "[0, 48, 26, 50, 6]\n"
     ]
    },
    {
     "name": "stdout",
     "output_type": "stream",
     "text": [
      "Algorithm stopped due to sufficiently small FNNs. Valid embedding achieved ✓.\n",
      "[0, 49, 21, 50, 1]"
     ]
    },
    {
     "name": "stdout",
     "output_type": "stream",
     "text": [
      "\n",
      "Algorithm stopped due to sufficiently small FNNs. Valid embedding achieved ✓.\n",
      "[0, 49, 27, 50, 1]\n"
     ]
    },
    {
     "name": "stdout",
     "output_type": "stream",
     "text": [
      "Algorithm stopped due to sufficiently small FNNs. Valid embedding achieved ✓.\n",
      "[0, 49, 18, 48, 6]"
     ]
    },
    {
     "name": "stdout",
     "output_type": "stream",
     "text": [
      "\n",
      "Algorithm stopped due to sufficiently small FNNs. Valid embedding achieved ✓.\n",
      "[0, 50, 25, 49, 1]\n"
     ]
    },
    {
     "name": "stdout",
     "output_type": "stream",
     "text": [
      "Algorithm stopped due to sufficiently small FNNs. Valid embedding achieved ✓.\n",
      "[0, 49, 23, 50, 2]\n"
     ]
    },
    {
     "name": "stdout",
     "output_type": "stream",
     "text": [
      "Algorithm stopped due to sufficiently small FNNs. Valid embedding achieved ✓.\n",
      "[0, 50, 19, 49, 1]\n"
     ]
    },
    {
     "name": "stdout",
     "output_type": "stream",
     "text": [
      "Algorithm stopped due to sufficiently small FNNs. Valid embedding achieved ✓.\n",
      "[0, 49, 25, 50, 1]\n"
     ]
    },
    {
     "name": "stdout",
     "output_type": "stream",
     "text": [
      "Algorithm stopped due to sufficiently small FNNs. Valid embedding achieved ✓.\n",
      "[0, 50, 21, 49, 15]"
     ]
    },
    {
     "name": "stdout",
     "output_type": "stream",
     "text": [
      "\n",
      "Algorithm stopped due to sufficiently small FNNs. Valid embedding achieved ✓.\n",
      "[0, 50, 23, 49, 5]\n"
     ]
    },
    {
     "name": "stdout",
     "output_type": "stream",
     "text": [
      "Algorithm stopped due to sufficiently small FNNs. Valid embedding achieved ✓.\n",
      "[0, 50, 22, 49, 8]\n"
     ]
    },
    {
     "name": "stdout",
     "output_type": "stream",
     "text": [
      "Algorithm stopped due to sufficiently small FNNs. Valid embedding achieved ✓.\n",
      "[0, 49, 17, 47, 1]\n"
     ]
    },
    {
     "name": "stdout",
     "output_type": "stream",
     "text": [
      "Algorithm stopped due to sufficiently small FNNs. Valid embedding achieved ✓.\n",
      "[0, 49, 23, 50, 1]\n"
     ]
    },
    {
     "name": "stdout",
     "output_type": "stream",
     "text": [
      "Algorithm stopped due to sufficiently small FNNs. Valid embedding achieved ✓.\n",
      "[0, 50, 22, 49, 3]\n"
     ]
    },
    {
     "name": "stdout",
     "output_type": "stream",
     "text": [
      "Algorithm stopped due to sufficiently small FNNs. Valid embedding achieved ✓.\n",
      "[0, 50, 25, 43, 7]\n"
     ]
    },
    {
     "name": "stdout",
     "output_type": "stream",
     "text": [
      "Algorithm stopped due to sufficiently small FNNs. Valid embedding achieved ✓.\n",
      "[0, 49, 21, 50, 2]\n"
     ]
    },
    {
     "name": "stdout",
     "output_type": "stream",
     "text": [
      "Algorithm stopped due to sufficiently small FNNs. Valid embedding achieved ✓.\n",
      "[0, 49, 27, 50, 6]"
     ]
    },
    {
     "name": "stdout",
     "output_type": "stream",
     "text": [
      "\n",
      "Algorithm stopped due to sufficiently small FNNs. Valid embedding achieved ✓.\n",
      "[0, 50, 26, 49, 9]\n"
     ]
    },
    {
     "name": "stdout",
     "output_type": "stream",
     "text": [
      "Algorithm stopped due to sufficiently small FNNs. Valid embedding achieved ✓.\n",
      "[0, 50, 21, 47, 2]\n"
     ]
    },
    {
     "name": "stdout",
     "output_type": "stream",
     "text": [
      "Algorithm stopped due to sufficiently small FNNs. Valid embedding achieved ✓.\n",
      "[0, 50, 22, 48, 4]\n"
     ]
    },
    {
     "name": "stdout",
     "output_type": "stream",
     "text": [
      "Algorithm stopped due to sufficiently small FNNs. Valid embedding achieved ✓.\n",
      "[0, 50, 30, 4, 47]\n"
     ]
    },
    {
     "name": "stdout",
     "output_type": "stream",
     "text": [
      "Algorithm stopped due to sufficiently small FNNs. Valid embedding achieved ✓.\n",
      "[0, 50, 22, 49, 4]\n"
     ]
    },
    {
     "name": "stdout",
     "output_type": "stream",
     "text": [
      "Algorithm stopped due to sufficiently small FNNs. Valid embedding achieved ✓.\n",
      "[0, 47, 21, 49, 4]\n"
     ]
    },
    {
     "name": "stdout",
     "output_type": "stream",
     "text": [
      "Algorithm stopped due to sufficiently small FNNs. Valid embedding achieved ✓.\n",
      "[0, 49, 25, 50, 1]"
     ]
    },
    {
     "name": "stdout",
     "output_type": "stream",
     "text": [
      "\n",
      "Algorithm stopped due to sufficiently small FNNs. Valid embedding achieved ✓.\n",
      "[0, 50, 21, 48, 1]\n"
     ]
    },
    {
     "name": "stdout",
     "output_type": "stream",
     "text": [
      "Algorithm stopped due to sufficiently small FNNs. Valid embedding achieved ✓.\n",
      "[0, 49, 26, 50, 6]"
     ]
    },
    {
     "name": "stdout",
     "output_type": "stream",
     "text": [
      "\n",
      "Algorithm stopped due to sufficiently small FNNs. Valid embedding achieved ✓.\n",
      "[0, 50, 22, 48, 1]\n"
     ]
    },
    {
     "name": "stdout",
     "output_type": "stream",
     "text": [
      "Algorithm stopped due to sufficiently small FNNs. Valid embedding achieved ✓.\n",
      "[0, 50, 19, 49, 1]\n"
     ]
    },
    {
     "name": "stdout",
     "output_type": "stream",
     "text": [
      "Algorithm stopped due to sufficiently small FNNs. Valid embedding achieved ✓.\n",
      "[0, 48, 23, 49, 1]"
     ]
    },
    {
     "name": "stdout",
     "output_type": "stream",
     "text": [
      "\n",
      "Algorithm stopped due to sufficiently small FNNs. Valid embedding achieved ✓.\n",
      "[0, 50, 18, 49, 1]"
     ]
    },
    {
     "name": "stdout",
     "output_type": "stream",
     "text": [
      "\n",
      "Algorithm stopped due to sufficiently small FNNs. Valid embedding achieved ✓.\n",
      "[0, 50, 28, 10, 49]\n"
     ]
    },
    {
     "name": "stdout",
     "output_type": "stream",
     "text": [
      "Algorithm stopped due to sufficiently small FNNs. Valid embedding achieved ✓.\n",
      "[0, 50, 27, 49, 6]\n"
     ]
    },
    {
     "name": "stdout",
     "output_type": "stream",
     "text": [
      "Algorithm stopped due to sufficiently small FNNs. Valid embedding achieved ✓.\n",
      "[0, 50, 20, 49, 1]\n"
     ]
    },
    {
     "name": "stdout",
     "output_type": "stream",
     "text": [
      "Algorithm stopped due to sufficiently small FNNs. Valid embedding achieved ✓.\n",
      "[0, 50, 28, 49, 6]\n"
     ]
    },
    {
     "name": "stdout",
     "output_type": "stream",
     "text": [
      "Algorithm stopped due to sufficiently small FNNs. Valid embedding achieved ✓.\n",
      "[0, 49, 22, 47, 3]"
     ]
    },
    {
     "name": "stdout",
     "output_type": "stream",
     "text": [
      "\n",
      "Algorithm stopped due to sufficiently small FNNs. Valid embedding achieved ✓.\n",
      "[0, 49, 28, 4, 50]"
     ]
    },
    {
     "name": "stdout",
     "output_type": "stream",
     "text": [
      "\n",
      "Algorithm stopped due to sufficiently small FNNs. Valid embedding achieved ✓.\n",
      "[0, 49, 24, 50, 2]\n"
     ]
    },
    {
     "name": "stdout",
     "output_type": "stream",
     "text": [
      "Algorithm stopped due to sufficiently small FNNs. Valid embedding achieved ✓.\n",
      "[0, 50, 24, 47, 1]\n"
     ]
    },
    {
     "name": "stdout",
     "output_type": "stream",
     "text": [
      "Algorithm stopped due to sufficiently small FNNs. Valid embedding achieved ✓.\n",
      "[0, 46, 22, 50, 1]\n"
     ]
    },
    {
     "name": "stdout",
     "output_type": "stream",
     "text": [
      "Algorithm stopped due to sufficiently small FNNs. Valid embedding achieved ✓.\n",
      "[0, 50, 18, 49, 1]\n"
     ]
    },
    {
     "name": "stdout",
     "output_type": "stream",
     "text": [
      "Algorithm stopped due to sufficiently small FNNs. Valid embedding achieved ✓.\n",
      "[0, 50, 25, 46, 1]\n"
     ]
    },
    {
     "name": "stdout",
     "output_type": "stream",
     "text": [
      "Algorithm stopped due to sufficiently small FNNs. Valid embedding achieved ✓.\n",
      "[0, 49, 24, 50, 1]"
     ]
    },
    {
     "name": "stdout",
     "output_type": "stream",
     "text": [
      "\n",
      "Algorithm stopped due to sufficiently small FNNs. Valid embedding achieved ✓.\n",
      "[0, 50, 20, 49, 7]\n"
     ]
    },
    {
     "name": "stdout",
     "output_type": "stream",
     "text": [
      "Algorithm stopped due to sufficiently small FNNs. Valid embedding achieved ✓.\n",
      "[0, 50, 22, 49, 1]\n"
     ]
    },
    {
     "name": "stdout",
     "output_type": "stream",
     "text": [
      "Algorithm stopped due to sufficiently small FNNs. Valid embedding achieved ✓.\n",
      "[0, 50, 26, 49, 1]\n"
     ]
    },
    {
     "name": "stdout",
     "output_type": "stream",
     "text": [
      "Algorithm stopped due to sufficiently small FNNs. Valid embedding achieved ✓.\n",
      "[0, 47, 16, 50, 1]\n"
     ]
    }
   ],
   "source": [
    "# global s\n",
    "for i = 1:100\n",
    "    fid = h5open(\"E:/LearningEmbedding/data_collection/Rossler/noisy_rossler_no\"*string(i)*\".h5\", \"r\")\n",
    "    Y = fid[\"xM\"]\n",
    "\n",
    "    s = vec(Y[:, 2]) # input timeseries = y-component of Lorenz\n",
    "    w = estimate_delay(s, \"mi_min\") #\n",
    "    # tw = mdop_maximum_delay(s, 1:50) #\n",
    "    # lm = findlocalminima(tw[2])\n",
    "    # if lm[1] ≤ 2\n",
    "    #     lmm = try lm[2]\n",
    "    #     catch\n",
    "    #         lm[1]\n",
    "    #     end\n",
    "    # else\n",
    "    #     lmm = lm[1]\n",
    "    # end\n",
    "    # taus_mdop = 0:lmm\n",
    "    taus_mdop = 0:50\n",
    "    # println(tw)\n",
    "    # println(lm)\n",
    "    close(fid)\n",
    "\n",
    "    Recon_mdop, τ_vals_mdop, ts_vals_mdop, FNNs_mdop , βs_mdop = mdop_embedding(s; τs = taus_mdop , w = w)\n",
    "    println(τ_vals_mdop)\n",
    "    ff = h5open(\"e:/LearningEmbedding/results/MDOP/Rossler-simple50/noisy_rossler_uni_no\"*string(i)*\".h5\", \"cw\")\n",
    "    ff[\"Embedding\"] = Matrix(Recon_mdop)\n",
    "    ff[\"delays\"] = τ_vals_mdop\n",
    "    close(ff)\n",
    "    \n",
    "end"
   ]
  },
  {
   "cell_type": "code",
   "execution_count": 2,
   "metadata": {},
   "outputs": [
    {
     "name": "stdout",
     "output_type": "stream",
     "text": [
      "Algorithm stopped due to sufficiently small FNNs. Valid embedding achieved ✓.\n"
     ]
    },
    {
     "name": "stdout",
     "output_type": "stream",
     "text": [
      "[0, 22, 4, 3, 1]\n"
     ]
    },
    {
     "name": "stdout",
     "output_type": "stream",
     "text": [
      "Algorithm stopped due to sufficiently small FNNs. Valid embedding achieved ✓.\n",
      "[0, 30, 4, 2, 1]"
     ]
    },
    {
     "name": "stdout",
     "output_type": "stream",
     "text": [
      "\n",
      "Algorithm stopped due to sufficiently small FNNs. Valid embedding achieved ✓.\n",
      "[0, 21, 1, 3, 2]\n"
     ]
    },
    {
     "name": "stdout",
     "output_type": "stream",
     "text": [
      "Algorithm stopped due to sufficiently small FNNs. Valid embedding achieved ✓.\n",
      "[0, 28, 6, 1, 4]\n"
     ]
    },
    {
     "name": "stdout",
     "output_type": "stream",
     "text": [
      "Algorithm stopped due to sufficiently small FNNs. Valid embedding achieved ✓.\n",
      "[0, 35, 5, 1, 2]\n"
     ]
    },
    {
     "name": "stdout",
     "output_type": "stream",
     "text": [
      "Algorithm stopped due to sufficiently small FNNs. Valid embedding achieved ✓.\n",
      "[0, 18, 1, 4, 3]\n"
     ]
    },
    {
     "name": "stdout",
     "output_type": "stream",
     "text": [
      "Algorithm stopped due to sufficiently small FNNs. Valid embedding achieved ✓.\n",
      "[0, 15, 1, 3, 2, 14]"
     ]
    },
    {
     "name": "stdout",
     "output_type": "stream",
     "text": [
      "\n",
      "Algorithm stopped due to rising FNNs. Valid embedding achieved ✓.\n",
      "[0, 35, 2, 1]\n"
     ]
    },
    {
     "name": "stdout",
     "output_type": "stream",
     "text": [
      "Algorithm stopped due to sufficiently small FNNs. Valid embedding achieved ✓.\n",
      "[0, 27, 5, 3, 1]"
     ]
    },
    {
     "name": "stdout",
     "output_type": "stream",
     "text": [
      "\n",
      "Algorithm stopped due to sufficiently small FNNs. Valid embedding achieved ✓.\n",
      "[0, 30, 5, 1, 4]\n"
     ]
    },
    {
     "name": "stdout",
     "output_type": "stream",
     "text": [
      "Algorithm stopped due to rising FNNs. Valid embedding achieved ✓.\n",
      "[0, 25, 1, 9, 2]\n"
     ]
    },
    {
     "name": "stdout",
     "output_type": "stream",
     "text": [
      "Algorithm stopped due to rising FNNs. Valid embedding achieved ✓.\n",
      "[0, 33, 1, 6, 2]\n"
     ]
    },
    {
     "name": "stdout",
     "output_type": "stream",
     "text": [
      "Algorithm stopped due to sufficiently small FNNs. Valid embedding achieved ✓.\n",
      "[0, 27, 1, 5, 4]\n"
     ]
    },
    {
     "name": "stdout",
     "output_type": "stream",
     "text": [
      "Algorithm stopped due to sufficiently small FNNs. Valid embedding achieved ✓.\n",
      "[0, 26, 3, 1, 2, 9]\n"
     ]
    },
    {
     "name": "stdout",
     "output_type": "stream",
     "text": [
      "Algorithm stopped due to sufficiently small FNNs. Valid embedding achieved ✓.\n",
      "[0, 33, 8, 1, 3]\n"
     ]
    },
    {
     "name": "stdout",
     "output_type": "stream",
     "text": [
      "Algorithm stopped due to sufficiently small FNNs. Valid embedding achieved ✓.\n",
      "[0, 21, 5, 2, 1]"
     ]
    },
    {
     "name": "stdout",
     "output_type": "stream",
     "text": [
      "\n",
      "Algorithm stopped due to sufficiently small FNNs. Valid embedding achieved ✓.\n",
      "[0, 27, 5, 1, 2]"
     ]
    },
    {
     "name": "stdout",
     "output_type": "stream",
     "text": [
      "\n",
      "Algorithm stopped due to rising FNNs. Valid embedding achieved ✓.\n",
      "[0, 27, 2, 1, 9]\n"
     ]
    },
    {
     "name": "stdout",
     "output_type": "stream",
     "text": [
      "Algorithm stopped due to rising FNNs. Valid embedding achieved ✓.\n",
      "[0, 32, 5, 1, 2]\n"
     ]
    },
    {
     "name": "stdout",
     "output_type": "stream",
     "text": [
      "Algorithm stopped due to sufficiently small FNNs. Valid embedding achieved ✓.\n",
      "[0, 31, 1, 8, 3]\n"
     ]
    }
   ],
   "source": [
    "# global s\n",
    "for i = 81:100\n",
    "    fid = h5open(\"E:/LearningEmbedding/data_collection/Rossler/noisy_rossler_no\"*string(i)*\".h5\", \"r\")\n",
    "    Y = fid[\"xM\"]\n",
    "\n",
    "    s = vec(Y[:, 2]) # input timeseries = y-component of Lorenz\n",
    "    theiler = estimate_delay(s, \"mi_min\") # estimate a Theiler window\n",
    "    Tmax = 50 # maximum possible delay\n",
    "    close(fid)\n",
    "\n",
    "    Recon_GA, τ_vals_GA, ts_vals_GA, FNNs_GA , ns_GA = garcia_almeida_embedding(s; τs = 0:Tmax , w = theiler, T = theiler)\n",
    "    println(τ_vals_GA)\n",
    "    ff = h5open(\"e:/LearningEmbedding/results/GA/Rossler/noisy_rossler_uni_no\"*string(i)*\".h5\", \"cw\")\n",
    "    ff[\"Embedding\"] = Matrix(Recon_GA)\n",
    "    ff[\"delays\"] = τ_vals_GA\n",
    "    close(ff)\n",
    "    \n",
    "end\n"
   ]
  },
  {
   "cell_type": "code",
   "execution_count": 14,
   "metadata": {},
   "outputs": [
    {
     "data": {
      "text/plain": [
       "3-dimensional StateSpaceSet{Float64} with 9997 points\n",
       "  14.0994    14.2855    18.8879\n",
       "  18.8879     4.65438   20.2596\n",
       "  20.2596    -1.24623   14.2855\n",
       "  14.2855    -2.91469    4.65438\n",
       "   4.65438   -2.92047   -1.24623\n",
       "  -1.24623   -2.73322   -2.91469\n",
       "  -2.91469   -2.85226   -2.92047\n",
       "  -2.92047   -3.41058   -2.73322\n",
       "  -2.73322   -4.48896   -2.85226\n",
       "  -2.85226   -6.22136   -3.41058\n",
       "   ⋮                   \n",
       " -10.6371   -13.2096   -12.8209\n",
       " -12.8209   -10.2235   -14.0488\n",
       " -14.0488    -6.63348  -13.2096\n",
       " -13.2096    -4.11859  -10.2235\n",
       " -10.2235    -3.07601   -6.63348\n",
       "  -6.63348   -3.05459   -4.11859\n",
       "  -4.11859   -3.63148   -3.07601\n",
       "  -3.07601   -4.61438   -3.05459\n",
       "  -3.05459   -5.99829   -3.63148"
      ]
     },
     "metadata": {},
     "output_type": "display_data"
    }
   ],
   "source": [
    "# fid = h5open(\"E:/LearningEmbedding/results/GA/3D-lorenz/lorenz_uni_no\"*string(1)*\".h5\", \"r\")\n",
    "# tau = fid[\"delays\"]\n",
    "# Y = fid[\"Embedding\"]\n",
    "# Dataset(read(Y))\n",
    "# println(read(tau))\n",
    "# close(fid)"
   ]
  },
  {
   "cell_type": "markdown",
   "metadata": {},
   "source": [
    "### Lorenz96 system"
   ]
  },
  {
   "cell_type": "code",
   "execution_count": 3,
   "metadata": {},
   "outputs": [
    {
     "name": "stdout",
     "output_type": "stream",
     "text": [
      "Initializing PECUZAL algorithm for univariate input...\n",
      "Starting 1-th embedding cycle...\n"
     ]
    },
    {
     "name": "stdout",
     "output_type": "stream",
     "text": [
      "Algorithm stopped due to increasing L-values in the first embedding cycle. Valid embedding NOT achieved ⨉.\n",
      "[0]Float64[]\n",
      "Initializing PECUZAL algorithm for univariate input...\n",
      "Starting 1-th embedding cycle...\n"
     ]
    },
    {
     "name": "stdout",
     "output_type": "stream",
     "text": [
      "Starting 2-th embedding cycle...\n"
     ]
    },
    {
     "name": "stdout",
     "output_type": "stream",
     "text": [
      "Starting 3-th embedding cycle..."
     ]
    },
    {
     "name": "stdout",
     "output_type": "stream",
     "text": [
      "\n",
      "Starting 4-th embedding cycle..."
     ]
    },
    {
     "name": "stdout",
     "output_type": "stream",
     "text": [
      "\n",
      "Starting 5-th embedding cycle..."
     ]
    },
    {
     "name": "stdout",
     "output_type": "stream",
     "text": [
      "\n",
      "Starting 6-th embedding cycle...\n"
     ]
    },
    {
     "name": "stdout",
     "output_type": "stream",
     "text": [
      "Starting 7-th embedding cycle...\n"
     ]
    },
    {
     "name": "stdout",
     "output_type": "stream",
     "text": [
      "Starting 8-th embedding cycle...\n"
     ]
    },
    {
     "name": "stdout",
     "output_type": "stream",
     "text": [
      "Starting 9-th embedding cycle...\n"
     ]
    },
    {
     "name": "stdout",
     "output_type": "stream",
     "text": [
      "Starting 10-th embedding cycle...\n"
     ]
    },
    {
     "name": "stdout",
     "output_type": "stream",
     "text": [
      "Starting 11-th embedding cycle...\n"
     ]
    },
    {
     "name": "stdout",
     "output_type": "stream",
     "text": [
      "Starting 12-th embedding cycle...\n"
     ]
    },
    {
     "name": "stdout",
     "output_type": "stream",
     "text": [
      "Algorithm stopped due to increasing L-values. VALID embedding achieved ✓.\n",
      "[0, 6, 3, 13, 10, 8, 18, 15, 4, 33, 28, 23][-0.0031100571663409127, -0.03673066636375874, -0.040464467618282006, -0.04474390893894381, -0.030852737253737744, -0.028971871237966906, -0.004290908601957605, -9.742331943760063e-5, -0.0014508950547845595, -0.004324516502746081, -0.00989680642782811]\n",
      "Initializing PECUZAL algorithm for univariate input...\n",
      "Starting 1-th embedding cycle..."
     ]
    },
    {
     "name": "stdout",
     "output_type": "stream",
     "text": [
      "\n",
      "Starting 2-th embedding cycle...\n"
     ]
    },
    {
     "name": "stdout",
     "output_type": "stream",
     "text": [
      "Starting 3-th embedding cycle...\n"
     ]
    },
    {
     "name": "stdout",
     "output_type": "stream",
     "text": [
      "Starting 4-th embedding cycle...\n"
     ]
    },
    {
     "name": "stdout",
     "output_type": "stream",
     "text": [
      "Starting 5-th embedding cycle..."
     ]
    },
    {
     "name": "stdout",
     "output_type": "stream",
     "text": [
      "\n",
      "Starting 6-th embedding cycle...\n"
     ]
    },
    {
     "name": "stdout",
     "output_type": "stream",
     "text": [
      "Starting 7-th embedding cycle...\n"
     ]
    },
    {
     "name": "stdout",
     "output_type": "stream",
     "text": [
      "Starting 8-th embedding cycle...\n"
     ]
    },
    {
     "name": "stdout",
     "output_type": "stream",
     "text": [
      "Starting 9-th embedding cycle...\n"
     ]
    },
    {
     "name": "stdout",
     "output_type": "stream",
     "text": [
      "Starting 10-th embedding cycle..."
     ]
    },
    {
     "name": "stdout",
     "output_type": "stream",
     "text": [
      "\n",
      "Starting 11-th embedding cycle...\n"
     ]
    },
    {
     "name": "stdout",
     "output_type": "stream",
     "text": [
      "Starting 12-th embedding cycle...\n"
     ]
    },
    {
     "name": "stdout",
     "output_type": "stream",
     "text": [
      "Starting 13-th embedding cycle...\n"
     ]
    },
    {
     "name": "stdout",
     "output_type": "stream",
     "text": [
      "Starting 14-th embedding cycle...\n"
     ]
    },
    {
     "name": "stdout",
     "output_type": "stream",
     "text": [
      "Starting 15-th embedding cycle...\n"
     ]
    },
    {
     "name": "stdout",
     "output_type": "stream",
     "text": [
      "Algorithm stopped due to increasing L-values. VALID embedding achieved ✓.\n",
      "[0, 6, 3, 13, 10, 8, 18, 4, 32, 15, 28, 24, 26, 30, 41][-0.04568678701071979, -0.04219189996066003, -0.040404732091552466, -0.04564852140182871, -0.03343464716755243, -0.030576810568205604, -0.001907227999449479, -0.002752342296748825, -0.0023492084281022535, -0.003511333920979482, -0.006997859556898758, -0.0022007584003092273, -0.0005803912886770818, -0.001667774201406208]\n",
      "Initializing PECUZAL algorithm for univariate input...\n",
      "Starting 1-th embedding cycle...\n"
     ]
    },
    {
     "name": "stdout",
     "output_type": "stream",
     "text": [
      "Starting 2-th embedding cycle...\n"
     ]
    },
    {
     "name": "stdout",
     "output_type": "stream",
     "text": [
      "Starting 3-th embedding cycle...\n"
     ]
    },
    {
     "name": "stdout",
     "output_type": "stream",
     "text": [
      "Starting 4-th embedding cycle..."
     ]
    },
    {
     "name": "stdout",
     "output_type": "stream",
     "text": [
      "\n",
      "Starting 5-th embedding cycle...\n"
     ]
    },
    {
     "name": "stdout",
     "output_type": "stream",
     "text": [
      "Starting 6-th embedding cycle...\n"
     ]
    },
    {
     "name": "stdout",
     "output_type": "stream",
     "text": [
      "Starting 7-th embedding cycle...\n"
     ]
    },
    {
     "name": "stdout",
     "output_type": "stream",
     "text": [
      "Starting 8-th embedding cycle...\n"
     ]
    },
    {
     "name": "stdout",
     "output_type": "stream",
     "text": [
      "Algorithm stopped due to increasing L-values. VALID embedding achieved ✓.\n",
      "[0, 6, 3, 13, 10, 8, 18, 15][-0.06029432744377021, -0.040611036767365466, -0.04857387957519712, -0.05200273446472069, -0.029404275953062914, -0.03608602805615174, -0.004365534168801033]\n",
      "Initializing PECUZAL algorithm for univariate input...\n",
      "Starting 1-th embedding cycle..."
     ]
    },
    {
     "name": "stdout",
     "output_type": "stream",
     "text": [
      "\n",
      "Starting 2-th embedding cycle...\n"
     ]
    },
    {
     "name": "stdout",
     "output_type": "stream",
     "text": [
      "Starting 3-th embedding cycle...\n"
     ]
    },
    {
     "name": "stdout",
     "output_type": "stream",
     "text": [
      "Starting 4-th embedding cycle...\n"
     ]
    },
    {
     "name": "stdout",
     "output_type": "stream",
     "text": [
      "Starting 5-th embedding cycle...\n"
     ]
    },
    {
     "name": "stdout",
     "output_type": "stream",
     "text": [
      "Starting 6-th embedding cycle..."
     ]
    },
    {
     "name": "stdout",
     "output_type": "stream",
     "text": [
      "\n",
      "Starting 7-th embedding cycle..."
     ]
    },
    {
     "name": "stdout",
     "output_type": "stream",
     "text": [
      "\n",
      "Starting 8-th embedding cycle...\n"
     ]
    },
    {
     "name": "stdout",
     "output_type": "stream",
     "text": [
      "Algorithm stopped due to increasing L-values. VALID embedding achieved ✓.\n",
      "[0, 6, 3, 13, 10, 8, 19, 4][-0.023179429132735102, -0.03855943764602768, -0.047950886113119186, -0.05257758787425887, -0.0274271368308113, -0.026522338796238283, -0.002343764288236516]\n",
      "Initializing PECUZAL algorithm for univariate input...\n",
      "Starting 1-th embedding cycle..."
     ]
    },
    {
     "name": "stdout",
     "output_type": "stream",
     "text": [
      "\n",
      "Starting 2-th embedding cycle...\n"
     ]
    },
    {
     "name": "stdout",
     "output_type": "stream",
     "text": [
      "Starting 3-th embedding cycle...\n"
     ]
    },
    {
     "name": "stdout",
     "output_type": "stream",
     "text": [
      "Starting 4-th embedding cycle...\n"
     ]
    },
    {
     "name": "stdout",
     "output_type": "stream",
     "text": [
      "Starting 5-th embedding cycle...\n"
     ]
    },
    {
     "name": "stdout",
     "output_type": "stream",
     "text": [
      "Starting 6-th embedding cycle...\n"
     ]
    },
    {
     "name": "stdout",
     "output_type": "stream",
     "text": [
      "Starting 7-th embedding cycle...\n"
     ]
    },
    {
     "name": "stdout",
     "output_type": "stream",
     "text": [
      "Starting 8-th embedding cycle...\n"
     ]
    },
    {
     "name": "stdout",
     "output_type": "stream",
     "text": [
      "Algorithm stopped due to increasing L-values. VALID embedding achieved ✓.\n",
      "[0, 6, 3, 13, 10, 8, 19, 4][-0.06138519908453337, -0.03419147395161823, -0.04775071136867432, -0.04602572429828777, -0.031254985077363795, -0.021741367090704455, -0.0057551786805750405]\n",
      "Initializing PECUZAL algorithm for univariate input...\n",
      "Starting 1-th embedding cycle..."
     ]
    },
    {
     "name": "stdout",
     "output_type": "stream",
     "text": [
      "\n",
      "Starting 2-th embedding cycle...\n"
     ]
    },
    {
     "name": "stdout",
     "output_type": "stream",
     "text": [
      "Starting 3-th embedding cycle...\n"
     ]
    },
    {
     "name": "stdout",
     "output_type": "stream",
     "text": [
      "Starting 4-th embedding cycle...\n"
     ]
    },
    {
     "name": "stdout",
     "output_type": "stream",
     "text": [
      "Starting 5-th embedding cycle...\n"
     ]
    },
    {
     "name": "stdout",
     "output_type": "stream",
     "text": [
      "Starting 6-th embedding cycle..."
     ]
    },
    {
     "name": "stdout",
     "output_type": "stream",
     "text": [
      "\n",
      "Starting 7-th embedding cycle...\n"
     ]
    },
    {
     "name": "stdout",
     "output_type": "stream",
     "text": [
      "Starting 8-th embedding cycle...\n"
     ]
    },
    {
     "name": "stdout",
     "output_type": "stream",
     "text": [
      "Algorithm stopped due to increasing L-values. VALID embedding achieved ✓.\n",
      "[0, 6, 3, 13, 10, 8, 18, 4][-0.013418891170545677, -0.03791073907075576, -0.05279702166765056, -0.05294712060419124, -0.0304238133169219, -0.029825797647516333, -0.003071919258288064]\n",
      "Initializing PECUZAL algorithm for univariate input...\n",
      "Starting 1-th embedding cycle..."
     ]
    },
    {
     "name": "stdout",
     "output_type": "stream",
     "text": [
      "\n",
      "Starting 2-th embedding cycle...\n"
     ]
    },
    {
     "name": "stdout",
     "output_type": "stream",
     "text": [
      "Starting 3-th embedding cycle...\n"
     ]
    },
    {
     "name": "stdout",
     "output_type": "stream",
     "text": [
      "Starting 4-th embedding cycle..."
     ]
    },
    {
     "name": "stdout",
     "output_type": "stream",
     "text": [
      "\n",
      "Starting 5-th embedding cycle...\n"
     ]
    },
    {
     "name": "stdout",
     "output_type": "stream",
     "text": [
      "Starting 6-th embedding cycle...\n"
     ]
    },
    {
     "name": "stdout",
     "output_type": "stream",
     "text": [
      "Starting 7-th embedding cycle...\n"
     ]
    },
    {
     "name": "stdout",
     "output_type": "stream",
     "text": [
      "Starting 8-th embedding cycle...\n"
     ]
    },
    {
     "name": "stdout",
     "output_type": "stream",
     "text": [
      "Algorithm stopped due to increasing L-values. VALID embedding achieved ✓.\n",
      "[0, 6, 3, 12, 9, 17, 15, 13][-0.026270199623798507, -0.034945240930016996, -0.059006523848516804, -0.013225548669803244, -0.03499107963708216, -0.007346068885570378, -0.004438767515577091]\n",
      "Initializing PECUZAL algorithm for univariate input...\n",
      "Starting 1-th embedding cycle..."
     ]
    },
    {
     "name": "stdout",
     "output_type": "stream",
     "text": [
      "\n",
      "Starting 2-th embedding cycle...\n"
     ]
    },
    {
     "name": "stdout",
     "output_type": "stream",
     "text": [
      "Starting 3-th embedding cycle...\n"
     ]
    },
    {
     "name": "stdout",
     "output_type": "stream",
     "text": [
      "Starting 4-th embedding cycle...\n"
     ]
    },
    {
     "name": "stdout",
     "output_type": "stream",
     "text": [
      "Starting 5-th embedding cycle...\n"
     ]
    },
    {
     "name": "stdout",
     "output_type": "stream",
     "text": [
      "Starting 6-th embedding cycle...\n"
     ]
    },
    {
     "name": "stdout",
     "output_type": "stream",
     "text": [
      "Starting 7-th embedding cycle...\n"
     ]
    },
    {
     "name": "stdout",
     "output_type": "stream",
     "text": [
      "Starting 8-th embedding cycle...\n"
     ]
    },
    {
     "name": "stdout",
     "output_type": "stream",
     "text": [
      "Starting 9-th embedding cycle...\n"
     ]
    },
    {
     "name": "stdout",
     "output_type": "stream",
     "text": [
      "Starting 10-th embedding cycle...\n"
     ]
    },
    {
     "name": "stdout",
     "output_type": "stream",
     "text": [
      "Starting 11-th embedding cycle...\n"
     ]
    },
    {
     "name": "stdout",
     "output_type": "stream",
     "text": [
      "Starting 12-th embedding cycle...\n"
     ]
    },
    {
     "name": "stdout",
     "output_type": "stream",
     "text": [
      "Starting 13-th embedding cycle...\n"
     ]
    },
    {
     "name": "stdout",
     "output_type": "stream",
     "text": [
      "Algorithm stopped due to increasing L-values. VALID embedding achieved ✓.\n",
      "[0, 6, 3, 14, 10, 12, 8, 4, 40, 28, 24, 18, 26][-0.0688636908253496, -0.03372698583464484, -0.05088518373081513, -0.07685958411974783, -0.03210379229608512, -0.02584860015431431, -0.003997973433306268, -0.0010580369199596623, -0.014757280862076297, -0.016339448576880113, -0.021348980965091108, -0.003956052631010516]\n",
      "Initializing PECUZAL algorithm for univariate input...\n",
      "Starting 1-th embedding cycle...\n"
     ]
    },
    {
     "name": "stdout",
     "output_type": "stream",
     "text": [
      "Starting 2-th embedding cycle...\n"
     ]
    },
    {
     "name": "stdout",
     "output_type": "stream",
     "text": [
      "Starting 3-th embedding cycle...\n"
     ]
    },
    {
     "name": "stdout",
     "output_type": "stream",
     "text": [
      "Starting 4-th embedding cycle...\n"
     ]
    },
    {
     "name": "stdout",
     "output_type": "stream",
     "text": [
      "Starting 5-th embedding cycle...\n"
     ]
    },
    {
     "name": "stdout",
     "output_type": "stream",
     "text": [
      "Starting 6-th embedding cycle...\n"
     ]
    },
    {
     "name": "stdout",
     "output_type": "stream",
     "text": [
      "Starting 7-th embedding cycle...\n"
     ]
    },
    {
     "name": "stdout",
     "output_type": "stream",
     "text": [
      "Starting 8-th embedding cycle...\n"
     ]
    },
    {
     "name": "stdout",
     "output_type": "stream",
     "text": [
      "Algorithm stopped due to increasing L-values. VALID embedding achieved ✓.\n",
      "[0, 6, 3, 13, 10, 8, 19, 4][-0.018060104057907173, -0.043059528240966205, -0.050160867533877766, -0.048012847504915995, -0.03052449011483796, -0.02144041544746867, -0.004080085056209992]\n",
      "Initializing PECUZAL algorithm for univariate input...\n",
      "Starting 1-th embedding cycle...\n"
     ]
    },
    {
     "name": "stdout",
     "output_type": "stream",
     "text": [
      "Starting 2-th embedding cycle...\n"
     ]
    },
    {
     "name": "stdout",
     "output_type": "stream",
     "text": [
      "Starting 3-th embedding cycle...\n"
     ]
    },
    {
     "name": "stdout",
     "output_type": "stream",
     "text": [
      "Starting 4-th embedding cycle...\n"
     ]
    },
    {
     "name": "stdout",
     "output_type": "stream",
     "text": [
      "Starting 5-th embedding cycle...\n"
     ]
    },
    {
     "name": "stdout",
     "output_type": "stream",
     "text": [
      "Starting 6-th embedding cycle...\n"
     ]
    },
    {
     "name": "stdout",
     "output_type": "stream",
     "text": [
      "Starting 7-th embedding cycle..."
     ]
    },
    {
     "name": "stdout",
     "output_type": "stream",
     "text": [
      "\n",
      "Starting 8-th embedding cycle...\n"
     ]
    },
    {
     "name": "stdout",
     "output_type": "stream",
     "text": [
      "Starting 9-th embedding cycle...\n"
     ]
    },
    {
     "name": "stdout",
     "output_type": "stream",
     "text": [
      "Algorithm stopped due to increasing L-values. VALID embedding achieved ✓.\n",
      "[0, 6, 3, 13, 10, 8, 18, 16, 12][-0.0704438843714815, -0.04194221905198017, -0.05689380814335983, -0.04354946538230933, -0.03092219895462811, -0.032599783998373016, -0.004212668007771481, -0.0028003939592544658]\n"
     ]
    },
    {
     "name": "stdout",
     "output_type": "stream",
     "text": [
      "Initializing PECUZAL algorithm for univariate input...\n",
      "Starting 1-th embedding cycle...\n",
      "Starting 2-th embedding cycle..."
     ]
    },
    {
     "name": "stdout",
     "output_type": "stream",
     "text": [
      "\n",
      "Starting 3-th embedding cycle...\n"
     ]
    },
    {
     "name": "stdout",
     "output_type": "stream",
     "text": [
      "Starting 4-th embedding cycle...\n"
     ]
    },
    {
     "name": "stdout",
     "output_type": "stream",
     "text": [
      "Starting 5-th embedding cycle...\n"
     ]
    },
    {
     "name": "stdout",
     "output_type": "stream",
     "text": [
      "Starting 6-th embedding cycle...\n"
     ]
    },
    {
     "name": "stdout",
     "output_type": "stream",
     "text": [
      "Starting 7-th embedding cycle...\n"
     ]
    },
    {
     "name": "stdout",
     "output_type": "stream",
     "text": [
      "Starting 8-th embedding cycle..."
     ]
    },
    {
     "name": "stdout",
     "output_type": "stream",
     "text": [
      "\n",
      "Algorithm stopped due to increasing L-values. VALID embedding achieved ✓.\n",
      "[0, 6, 3, 13, 10, 8, 18, 4][-0.03450482371010877, -0.036935739929280925, -0.05263906856528365, -0.04758144595295749, -0.029308427982566887, -0.032044443121390265, -0.0034147500836098077]\n",
      "Initializing PECUZAL algorithm for univariate input...\n",
      "Starting 1-th embedding cycle...\n"
     ]
    },
    {
     "name": "stdout",
     "output_type": "stream",
     "text": [
      "Starting 2-th embedding cycle...\n"
     ]
    },
    {
     "name": "stdout",
     "output_type": "stream",
     "text": [
      "Starting 3-th embedding cycle...\n"
     ]
    },
    {
     "name": "stdout",
     "output_type": "stream",
     "text": [
      "Starting 4-th embedding cycle...\n"
     ]
    },
    {
     "name": "stdout",
     "output_type": "stream",
     "text": [
      "Starting 5-th embedding cycle...\n"
     ]
    },
    {
     "name": "stdout",
     "output_type": "stream",
     "text": [
      "Starting 6-th embedding cycle...\n"
     ]
    },
    {
     "name": "stdout",
     "output_type": "stream",
     "text": [
      "Starting 7-th embedding cycle...\n"
     ]
    },
    {
     "name": "stdout",
     "output_type": "stream",
     "text": [
      "Starting 8-th embedding cycle...\n"
     ]
    },
    {
     "name": "stdout",
     "output_type": "stream",
     "text": [
      "Algorithm stopped due to increasing L-values. VALID embedding achieved ✓.\n",
      "[0, 6, 3, 13, 10, 8, 18, 4][-0.04023720085964244, -0.0364987410206756, -0.055666497201089946, -0.04393749685221868, -0.03302004496850264, -0.03340621883330647, -0.004010246078691715]\n",
      "Initializing PECUZAL algorithm for univariate input...\n",
      "Starting 1-th embedding cycle...\n"
     ]
    },
    {
     "name": "stdout",
     "output_type": "stream",
     "text": [
      "Starting 2-th embedding cycle...\n"
     ]
    },
    {
     "name": "stdout",
     "output_type": "stream",
     "text": [
      "Starting 3-th embedding cycle...\n"
     ]
    },
    {
     "name": "stdout",
     "output_type": "stream",
     "text": [
      "Starting 4-th embedding cycle...\n"
     ]
    },
    {
     "name": "stdout",
     "output_type": "stream",
     "text": [
      "Starting 5-th embedding cycle...\n"
     ]
    },
    {
     "name": "stdout",
     "output_type": "stream",
     "text": [
      "Starting 6-th embedding cycle..."
     ]
    },
    {
     "name": "stdout",
     "output_type": "stream",
     "text": [
      "\n",
      "Starting 7-th embedding cycle...\n"
     ]
    },
    {
     "name": "stdout",
     "output_type": "stream",
     "text": [
      "Starting 8-th embedding cycle...\n"
     ]
    },
    {
     "name": "stdout",
     "output_type": "stream",
     "text": [
      "Algorithm stopped due to increasing L-values. VALID embedding achieved ✓.\n",
      "[0, 6, 3, 14, 10, 12, 8, 20][-0.03235743537438196, -0.030822203455742464, -0.046179946445698075, -0.07791286782816917, -0.035429278859676006, -0.024018832517821803, -0.02404878080851494]\n",
      "Initializing PECUZAL algorithm for univariate input...\n",
      "Starting 1-th embedding cycle...\n"
     ]
    },
    {
     "name": "stdout",
     "output_type": "stream",
     "text": [
      "Starting 2-th embedding cycle...\n"
     ]
    },
    {
     "name": "stdout",
     "output_type": "stream",
     "text": [
      "Starting 3-th embedding cycle...\n"
     ]
    },
    {
     "name": "stdout",
     "output_type": "stream",
     "text": [
      "Starting 4-th embedding cycle...\n"
     ]
    },
    {
     "name": "stdout",
     "output_type": "stream",
     "text": [
      "Starting 5-th embedding cycle...\n"
     ]
    },
    {
     "name": "stdout",
     "output_type": "stream",
     "text": [
      "Starting 6-th embedding cycle...\n"
     ]
    },
    {
     "name": "stdout",
     "output_type": "stream",
     "text": [
      "Starting 7-th embedding cycle...\n"
     ]
    },
    {
     "name": "stdout",
     "output_type": "stream",
     "text": [
      "Starting 8-th embedding cycle...\n"
     ]
    },
    {
     "name": "stdout",
     "output_type": "stream",
     "text": [
      "Algorithm stopped due to increasing L-values. VALID embedding achieved ✓.\n",
      "[0, 6, 3, 13, 10, 8, 18, 4][-0.0375619835873961, -0.03526102667897643, -0.052438455642024824, -0.043200075716605724, -0.030663556967258726, -0.03379290233016695, -0.0021433165449454006]\n",
      "Initializing PECUZAL algorithm for univariate input...\n",
      "Starting 1-th embedding cycle...\n"
     ]
    },
    {
     "name": "stdout",
     "output_type": "stream",
     "text": [
      "Starting 2-th embedding cycle...\n"
     ]
    },
    {
     "name": "stdout",
     "output_type": "stream",
     "text": [
      "Starting 3-th embedding cycle...\n"
     ]
    },
    {
     "name": "stdout",
     "output_type": "stream",
     "text": [
      "Starting 4-th embedding cycle..."
     ]
    },
    {
     "name": "stdout",
     "output_type": "stream",
     "text": [
      "\n",
      "Starting 5-th embedding cycle...\n"
     ]
    },
    {
     "name": "stdout",
     "output_type": "stream",
     "text": [
      "Starting 6-th embedding cycle...\n"
     ]
    },
    {
     "name": "stdout",
     "output_type": "stream",
     "text": [
      "Algorithm stopped due to increasing L-values. VALID embedding achieved ✓.\n",
      "[0, 6, 12, 9, 18, 3][-0.054735066858786444, -0.03087522337046837, -0.02093426291155373, -0.024546839991240355, -0.008780857727221952]\n"
     ]
    },
    {
     "name": "stdout",
     "output_type": "stream",
     "text": [
      "Initializing PECUZAL algorithm for univariate input...\n",
      "Starting 1-th embedding cycle...\n"
     ]
    },
    {
     "name": "stdout",
     "output_type": "stream",
     "text": [
      "Starting 2-th embedding cycle...\n"
     ]
    },
    {
     "name": "stdout",
     "output_type": "stream",
     "text": [
      "Starting 3-th embedding cycle...\n"
     ]
    },
    {
     "name": "stdout",
     "output_type": "stream",
     "text": [
      "Starting 4-th embedding cycle...\n"
     ]
    },
    {
     "name": "stdout",
     "output_type": "stream",
     "text": [
      "Starting 5-th embedding cycle...\n"
     ]
    },
    {
     "name": "stdout",
     "output_type": "stream",
     "text": [
      "Starting 6-th embedding cycle...\n"
     ]
    },
    {
     "name": "stdout",
     "output_type": "stream",
     "text": [
      "Starting 7-th embedding cycle...\n"
     ]
    },
    {
     "name": "stdout",
     "output_type": "stream",
     "text": [
      "Starting 8-th embedding cycle...\n"
     ]
    },
    {
     "name": "stdout",
     "output_type": "stream",
     "text": [
      "Algorithm stopped due to increasing L-values. VALID embedding achieved ✓.\n",
      "[0, 6, 3, 13, 10, 8, 19, 4][-0.04802629871719699, -0.03375509189965903, -0.05704349309364982, -0.04528792614919655, -0.030819834086821873, -0.02154691812613234, -0.0053799570229149385]\n",
      "Initializing PECUZAL algorithm for univariate input...\n",
      "Starting 1-th embedding cycle..."
     ]
    },
    {
     "name": "stdout",
     "output_type": "stream",
     "text": [
      "\n",
      "Starting 2-th embedding cycle...\n"
     ]
    },
    {
     "name": "stdout",
     "output_type": "stream",
     "text": [
      "Starting 3-th embedding cycle...\n"
     ]
    },
    {
     "name": "stdout",
     "output_type": "stream",
     "text": [
      "Starting 4-th embedding cycle...\n"
     ]
    },
    {
     "name": "stdout",
     "output_type": "stream",
     "text": [
      "Starting 5-th embedding cycle...\n"
     ]
    },
    {
     "name": "stdout",
     "output_type": "stream",
     "text": [
      "Starting 6-th embedding cycle...\n"
     ]
    },
    {
     "name": "stdout",
     "output_type": "stream",
     "text": [
      "Starting 7-th embedding cycle...\n"
     ]
    },
    {
     "name": "stdout",
     "output_type": "stream",
     "text": [
      "Starting 8-th embedding cycle...\n"
     ]
    },
    {
     "name": "stdout",
     "output_type": "stream",
     "text": [
      "Algorithm stopped due to increasing L-values. VALID embedding achieved ✓.\n",
      "[0, 6, 3, 13, 10, 8, 19, 4][-0.015767325578303487, -0.04425181307150888, -0.05585783456354061, -0.04521136194485728, -0.03165060819161797, -0.024838928895572522, -0.004438029989698555]\n",
      "Initializing PECUZAL algorithm for univariate input...\n",
      "Starting 1-th embedding cycle...\n"
     ]
    },
    {
     "name": "stdout",
     "output_type": "stream",
     "text": [
      "Starting 2-th embedding cycle...\n"
     ]
    },
    {
     "name": "stdout",
     "output_type": "stream",
     "text": [
      "Starting 3-th embedding cycle..."
     ]
    },
    {
     "name": "stdout",
     "output_type": "stream",
     "text": [
      "\n",
      "Starting 4-th embedding cycle...\n"
     ]
    },
    {
     "name": "stdout",
     "output_type": "stream",
     "text": [
      "Starting 5-th embedding cycle...\n"
     ]
    },
    {
     "name": "stdout",
     "output_type": "stream",
     "text": [
      "Starting 6-th embedding cycle...\n"
     ]
    },
    {
     "name": "stdout",
     "output_type": "stream",
     "text": [
      "Starting 7-th embedding cycle...\n"
     ]
    },
    {
     "name": "stdout",
     "output_type": "stream",
     "text": [
      "Starting 8-th embedding cycle...\n"
     ]
    },
    {
     "name": "stdout",
     "output_type": "stream",
     "text": [
      "Starting 9-th embedding cycle...\n"
     ]
    },
    {
     "name": "stdout",
     "output_type": "stream",
     "text": [
      "Starting 10-th embedding cycle...\n"
     ]
    },
    {
     "name": "stdout",
     "output_type": "stream",
     "text": [
      "Starting 11-th embedding cycle...\n"
     ]
    },
    {
     "name": "stdout",
     "output_type": "stream",
     "text": [
      "Starting 12-th embedding cycle...\n"
     ]
    },
    {
     "name": "stdout",
     "output_type": "stream",
     "text": [
      "Starting 13-th embedding cycle...\n"
     ]
    },
    {
     "name": "stdout",
     "output_type": "stream",
     "text": [
      "Starting 14-th embedding cycle..."
     ]
    },
    {
     "name": "stdout",
     "output_type": "stream",
     "text": [
      "\n",
      "Starting 15-th embedding cycle..."
     ]
    },
    {
     "name": "stdout",
     "output_type": "stream",
     "text": [
      "\n",
      "Algorithm stopped due to increasing L-values. VALID embedding achieved ✓.\n",
      "[0, 6, 3, 13, 10, 8, 18, 16, 12, 31, 27, 23, 29, 42, 25][-0.0429359134129258, -0.04317954929642459, -0.049790966217694306, -0.04823783658235559, -0.031204358558812595, -0.030689959984742735, -0.004694876284465022, -0.004640693737638951, -0.00355262342236759, -0.0024718696572784103, -0.01223366569980961, -0.0021519815233307787, -0.0013998329751365446, -9.768987072986124e-5]\n",
      "Initializing PECUZAL algorithm for univariate input...\n",
      "Starting 1-th embedding cycle..."
     ]
    },
    {
     "name": "stdout",
     "output_type": "stream",
     "text": [
      "\n",
      "Starting 2-th embedding cycle...\n"
     ]
    },
    {
     "name": "stdout",
     "output_type": "stream",
     "text": [
      "Starting 3-th embedding cycle...\n"
     ]
    },
    {
     "name": "stdout",
     "output_type": "stream",
     "text": [
      "Starting 4-th embedding cycle...\n"
     ]
    },
    {
     "name": "stdout",
     "output_type": "stream",
     "text": [
      "Starting 5-th embedding cycle...\n"
     ]
    },
    {
     "name": "stdout",
     "output_type": "stream",
     "text": [
      "Starting 6-th embedding cycle...\n"
     ]
    },
    {
     "name": "stdout",
     "output_type": "stream",
     "text": [
      "Algorithm stopped due to increasing L-values. VALID embedding achieved ✓.\n",
      "[0, 6, 3, 12, 9, 18][-0.027397573009367654, -0.03276348404308624, -0.06228498398699041, -0.014707530152602066, -0.031438260342495715]\n",
      "Initializing PECUZAL algorithm for univariate input...\n",
      "Starting 1-th embedding cycle...\n"
     ]
    },
    {
     "name": "stdout",
     "output_type": "stream",
     "text": [
      "Starting 2-th embedding cycle...\n"
     ]
    },
    {
     "name": "stdout",
     "output_type": "stream",
     "text": [
      "Starting 3-th embedding cycle...\n"
     ]
    },
    {
     "name": "stdout",
     "output_type": "stream",
     "text": [
      "Starting 4-th embedding cycle...\n"
     ]
    },
    {
     "name": "stdout",
     "output_type": "stream",
     "text": [
      "Starting 5-th embedding cycle...\n"
     ]
    },
    {
     "name": "stdout",
     "output_type": "stream",
     "text": [
      "Starting 6-th embedding cycle...\n"
     ]
    },
    {
     "name": "stdout",
     "output_type": "stream",
     "text": [
      "Starting 7-th embedding cycle...\n"
     ]
    },
    {
     "name": "stdout",
     "output_type": "stream",
     "text": [
      "Starting 8-th embedding cycle...\n"
     ]
    },
    {
     "name": "stdout",
     "output_type": "stream",
     "text": [
      "Algorithm stopped due to increasing L-values. VALID embedding achieved ✓.\n",
      "[0, 6, 3, 12, 17, 15, 9, 13][-0.005344830370373643, -0.03606610552923878, -0.0593817212677619, -0.02095808065328139, -0.018870148278213456, -0.016455296532938757, -0.00392465605049408]\n",
      "Initializing PECUZAL algorithm for univariate input...\n"
     ]
    },
    {
     "name": "stdout",
     "output_type": "stream",
     "text": [
      "Starting 1-th embedding cycle...\n",
      "Starting 2-th embedding cycle...\n"
     ]
    },
    {
     "name": "stdout",
     "output_type": "stream",
     "text": [
      "Starting 3-th embedding cycle...\n"
     ]
    },
    {
     "name": "stdout",
     "output_type": "stream",
     "text": [
      "Starting 4-th embedding cycle...\n"
     ]
    },
    {
     "name": "stdout",
     "output_type": "stream",
     "text": [
      "Starting 5-th embedding cycle...\n"
     ]
    },
    {
     "name": "stdout",
     "output_type": "stream",
     "text": [
      "Starting 6-th embedding cycle...\n"
     ]
    },
    {
     "name": "stdout",
     "output_type": "stream",
     "text": [
      "Starting 7-th embedding cycle...\n"
     ]
    },
    {
     "name": "stdout",
     "output_type": "stream",
     "text": [
      "Starting 8-th embedding cycle...\n"
     ]
    },
    {
     "name": "stdout",
     "output_type": "stream",
     "text": [
      "Algorithm stopped due to increasing L-values. VALID embedding achieved ✓.\n",
      "[0, 6, 3, 13, 10, 8, 19, 4][-0.08338001599295779, -0.033414841504695286, -0.049649006530697426, -0.04269458023397951, -0.0319522356950557, -0.02503537189612924, -0.004719918316833438]\n",
      "Initializing PECUZAL algorithm for univariate input...\n",
      "Starting 1-th embedding cycle..."
     ]
    },
    {
     "name": "stdout",
     "output_type": "stream",
     "text": [
      "\n",
      "Starting 2-th embedding cycle...\n"
     ]
    },
    {
     "name": "stdout",
     "output_type": "stream",
     "text": [
      "Starting 3-th embedding cycle...\n"
     ]
    },
    {
     "name": "stdout",
     "output_type": "stream",
     "text": [
      "Starting 4-th embedding cycle...\n"
     ]
    },
    {
     "name": "stdout",
     "output_type": "stream",
     "text": [
      "Starting 5-th embedding cycle...\n"
     ]
    },
    {
     "name": "stdout",
     "output_type": "stream",
     "text": [
      "Starting 6-th embedding cycle..."
     ]
    },
    {
     "name": "stdout",
     "output_type": "stream",
     "text": [
      "\n",
      "Starting 7-th embedding cycle..."
     ]
    },
    {
     "name": "stdout",
     "output_type": "stream",
     "text": [
      "\n",
      "Starting 8-th embedding cycle..."
     ]
    },
    {
     "name": "stdout",
     "output_type": "stream",
     "text": [
      "\n",
      "Starting 9-th embedding cycle...\n"
     ]
    },
    {
     "name": "stdout",
     "output_type": "stream",
     "text": [
      "Starting 10-th embedding cycle...\n"
     ]
    },
    {
     "name": "stdout",
     "output_type": "stream",
     "text": [
      "Starting 11-th embedding cycle...\n"
     ]
    },
    {
     "name": "stdout",
     "output_type": "stream",
     "text": [
      "Starting 12-th embedding cycle...\n"
     ]
    },
    {
     "name": "stdout",
     "output_type": "stream",
     "text": [
      "Starting 13-th embedding cycle...\n"
     ]
    },
    {
     "name": "stdout",
     "output_type": "stream",
     "text": [
      "Starting 14-th embedding cycle..."
     ]
    },
    {
     "name": "stdout",
     "output_type": "stream",
     "text": [
      "\n",
      "Algorithm stopped due to increasing L-values. VALID embedding achieved ✓.\n",
      "[0, 6, 3, 14, 10, 12, 8, 4, 20, 38, 30, 34, 26, 28][-0.05294166285188927, -0.028044574044103848, -0.048661888844723215, -0.07974785058533393, -0.031210092279876783, -0.027244066099381986, -0.0027524619273102957, -0.029876947917351453, -0.001124287133996149, -0.0033702730017710902, -0.00735653051132671, -0.006837698559582969, -0.0012920351748106698]\n",
      "Initializing PECUZAL algorithm for univariate input..."
     ]
    },
    {
     "name": "stdout",
     "output_type": "stream",
     "text": [
      "\n",
      "Starting 1-th embedding cycle...\n"
     ]
    },
    {
     "name": "stdout",
     "output_type": "stream",
     "text": [
      "Starting 2-th embedding cycle...\n"
     ]
    },
    {
     "name": "stdout",
     "output_type": "stream",
     "text": [
      "Starting 3-th embedding cycle..."
     ]
    },
    {
     "name": "stdout",
     "output_type": "stream",
     "text": [
      "\n",
      "Starting 4-th embedding cycle..."
     ]
    },
    {
     "name": "stdout",
     "output_type": "stream",
     "text": [
      "\n",
      "Starting 5-th embedding cycle...\n"
     ]
    },
    {
     "name": "stdout",
     "output_type": "stream",
     "text": [
      "Starting 6-th embedding cycle...\n"
     ]
    },
    {
     "name": "stdout",
     "output_type": "stream",
     "text": [
      "Starting 7-th embedding cycle...\n"
     ]
    },
    {
     "name": "stdout",
     "output_type": "stream",
     "text": [
      "Starting 8-th embedding cycle..."
     ]
    },
    {
     "name": "stdout",
     "output_type": "stream",
     "text": [
      "\n",
      "Starting 9-th embedding cycle..."
     ]
    },
    {
     "name": "stdout",
     "output_type": "stream",
     "text": [
      "\n",
      "Starting 10-th embedding cycle..."
     ]
    },
    {
     "name": "stdout",
     "output_type": "stream",
     "text": [
      "\n",
      "Starting 11-th embedding cycle...\n"
     ]
    },
    {
     "name": "stdout",
     "output_type": "stream",
     "text": [
      "Starting 12-th embedding cycle...\n"
     ]
    },
    {
     "name": "stdout",
     "output_type": "stream",
     "text": [
      "Starting 13-th embedding cycle...\n"
     ]
    },
    {
     "name": "stdout",
     "output_type": "stream",
     "text": [
      "Starting 14-th embedding cycle...\n"
     ]
    },
    {
     "name": "stdout",
     "output_type": "stream",
     "text": [
      "Starting 15-th embedding cycle...\n"
     ]
    },
    {
     "name": "stdout",
     "output_type": "stream",
     "text": [
      "Starting 16-th embedding cycle...\n"
     ]
    },
    {
     "name": "stdout",
     "output_type": "stream",
     "text": [
      "Starting 17-th embedding cycle...\n"
     ]
    },
    {
     "name": "stdout",
     "output_type": "stream",
     "text": [
      "Algorithm stopped due to increasing L-values. VALID embedding achieved ✓.\n",
      "[0, 6, 3, 15, 11, 13, 9, 7, 39, 30, 23, 19, 21, 17, 49, 35, 27][-0.05872118556738201, -0.03306187938774391, -0.03761894031263933, -0.06871086642138348, -0.031566269567407684, -0.01443756856250425, -0.0008405349394349504, -0.0015067676179237738, -0.003177861069970013, -0.025044889901440368, -0.007698109003724411, -0.0029909028291839057, -0.0028763010160242665, -0.0017544514411150514, -0.0003193514652417573, -0.0015850891490978292]\n",
      "Initializing PECUZAL algorithm for univariate input...\n",
      "Starting 1-th embedding cycle..."
     ]
    },
    {
     "name": "stdout",
     "output_type": "stream",
     "text": [
      "\n",
      "Starting 2-th embedding cycle..."
     ]
    },
    {
     "name": "stdout",
     "output_type": "stream",
     "text": [
      "\n",
      "Starting 3-th embedding cycle...\n"
     ]
    },
    {
     "name": "stdout",
     "output_type": "stream",
     "text": [
      "Starting 4-th embedding cycle...\n"
     ]
    },
    {
     "name": "stdout",
     "output_type": "stream",
     "text": [
      "Starting 5-th embedding cycle...\n"
     ]
    },
    {
     "name": "stdout",
     "output_type": "stream",
     "text": [
      "Starting 6-th embedding cycle...\n"
     ]
    },
    {
     "name": "stdout",
     "output_type": "stream",
     "text": [
      "Starting 7-th embedding cycle...\n"
     ]
    },
    {
     "name": "stdout",
     "output_type": "stream",
     "text": [
      "Starting 8-th embedding cycle...\n"
     ]
    },
    {
     "name": "stdout",
     "output_type": "stream",
     "text": [
      "Starting 9-th embedding cycle..."
     ]
    },
    {
     "name": "stdout",
     "output_type": "stream",
     "text": [
      "\n",
      "Starting 10-th embedding cycle...\n"
     ]
    },
    {
     "name": "stdout",
     "output_type": "stream",
     "text": [
      "Starting 11-th embedding cycle...\n"
     ]
    },
    {
     "name": "stdout",
     "output_type": "stream",
     "text": [
      "Starting 12-th embedding cycle..."
     ]
    },
    {
     "name": "stdout",
     "output_type": "stream",
     "text": [
      "\n",
      "Starting 13-th embedding cycle...\n"
     ]
    },
    {
     "name": "stdout",
     "output_type": "stream",
     "text": [
      "Starting 14-th embedding cycle...\n"
     ]
    },
    {
     "name": "stdout",
     "output_type": "stream",
     "text": [
      "Algorithm stopped due to increasing L-values. VALID embedding achieved ✓.\n",
      "[0, 6, 3, 14, 10, 12, 8, 4, 20, 29, 25, 27, 37, 33][-0.0329089728510667, -0.03852866612688993, -0.04748564562673348, -0.07939983750866261, -0.030203786211333378, -0.02414381586923614, -0.0034439987844263054, -0.02994867918454889, -0.0015454593905935982, -0.0005239494152132207, -0.004901266150650993, -0.005896319878183953, -0.006440401944074848]\n",
      "Initializing PECUZAL algorithm for univariate input...\n",
      "Starting 1-th embedding cycle...\n"
     ]
    },
    {
     "name": "stdout",
     "output_type": "stream",
     "text": [
      "Starting 2-th embedding cycle..."
     ]
    },
    {
     "name": "stdout",
     "output_type": "stream",
     "text": [
      "\n",
      "Starting 3-th embedding cycle...\n",
      "Starting 4-th embedding cycle..."
     ]
    },
    {
     "name": "stdout",
     "output_type": "stream",
     "text": [
      "\n"
     ]
    },
    {
     "name": "stdout",
     "output_type": "stream",
     "text": [
      "Starting 5-th embedding cycle...\n"
     ]
    },
    {
     "name": "stdout",
     "output_type": "stream",
     "text": [
      "Starting 6-th embedding cycle...\n"
     ]
    },
    {
     "name": "stdout",
     "output_type": "stream",
     "text": [
      "Starting 7-th embedding cycle...\n"
     ]
    },
    {
     "name": "stdout",
     "output_type": "stream",
     "text": [
      "Starting 8-th embedding cycle..."
     ]
    },
    {
     "name": "stdout",
     "output_type": "stream",
     "text": [
      "\n",
      "Algorithm stopped due to increasing L-values. VALID embedding achieved ✓.\n",
      "[0, 6, 3, 14, 10, 12, 8, 20][-0.04553976824511627, -0.045706933288104434, -0.0493030309347518, -0.07484587956722563, -0.0355544695049505, -0.024134854969888764, -0.02613252035059533]\n",
      "Initializing PECUZAL algorithm for univariate input...\n",
      "Starting 1-th embedding cycle...\n"
     ]
    },
    {
     "name": "stdout",
     "output_type": "stream",
     "text": [
      "Starting 2-th embedding cycle...\n"
     ]
    },
    {
     "name": "stdout",
     "output_type": "stream",
     "text": [
      "Starting 3-th embedding cycle...\n"
     ]
    },
    {
     "name": "stdout",
     "output_type": "stream",
     "text": [
      "Starting 4-th embedding cycle...\n"
     ]
    },
    {
     "name": "stdout",
     "output_type": "stream",
     "text": [
      "Starting 5-th embedding cycle...\n"
     ]
    },
    {
     "name": "stdout",
     "output_type": "stream",
     "text": [
      "Starting 6-th embedding cycle...\n"
     ]
    },
    {
     "name": "stdout",
     "output_type": "stream",
     "text": [
      "Starting 7-th embedding cycle...\n"
     ]
    },
    {
     "name": "stdout",
     "output_type": "stream",
     "text": [
      "Starting 8-th embedding cycle...\n"
     ]
    },
    {
     "name": "stdout",
     "output_type": "stream",
     "text": [
      "Starting 9-th embedding cycle..."
     ]
    },
    {
     "name": "stdout",
     "output_type": "stream",
     "text": [
      "\n",
      "Starting 10-th embedding cycle..."
     ]
    },
    {
     "name": "stdout",
     "output_type": "stream",
     "text": [
      "\n",
      "Starting 11-th embedding cycle...\n"
     ]
    },
    {
     "name": "stdout",
     "output_type": "stream",
     "text": [
      "Starting 12-th embedding cycle...\n"
     ]
    },
    {
     "name": "stdout",
     "output_type": "stream",
     "text": [
      "Starting 13-th embedding cycle...\n"
     ]
    },
    {
     "name": "stdout",
     "output_type": "stream",
     "text": [
      "Starting 14-th embedding cycle...\n"
     ]
    },
    {
     "name": "stdout",
     "output_type": "stream",
     "text": [
      "Starting 15-th embedding cycle...\n"
     ]
    },
    {
     "name": "stdout",
     "output_type": "stream",
     "text": [
      "Starting 16-th embedding cycle..."
     ]
    },
    {
     "name": "stdout",
     "output_type": "stream",
     "text": [
      "\n",
      "Algorithm stopped due to increasing L-values. VALID embedding achieved ✓.\n",
      "[0, 6, 3, 13, 10, 8, 18, 4, 16, 12, 43, 35, 30, 26, 22, 28][-0.01855765543902002, -0.036920388816977595, -0.046892462243221744, -0.04379118759434977, -0.02737878903705515, -0.02735193703787546, -0.0027031977241816496, -0.0010452500265600018, -0.0022902285037336018, -0.00020589828102093866, -0.004301417332240598, -0.008753310506661796, -0.008540362683297921, -0.004550587015631127, -0.0006033092588339699]\n"
     ]
    },
    {
     "name": "stdout",
     "output_type": "stream",
     "text": [
      "Initializing PECUZAL algorithm for univariate input...\n",
      "Starting 1-th embedding cycle...\n"
     ]
    },
    {
     "name": "stdout",
     "output_type": "stream",
     "text": [
      "Starting 2-th embedding cycle...\n"
     ]
    },
    {
     "name": "stdout",
     "output_type": "stream",
     "text": [
      "Starting 3-th embedding cycle...\n"
     ]
    },
    {
     "name": "stdout",
     "output_type": "stream",
     "text": [
      "Starting 4-th embedding cycle...\n"
     ]
    },
    {
     "name": "stdout",
     "output_type": "stream",
     "text": [
      "Starting 5-th embedding cycle...\n"
     ]
    },
    {
     "name": "stdout",
     "output_type": "stream",
     "text": [
      "Starting 6-th embedding cycle...\n"
     ]
    },
    {
     "name": "stdout",
     "output_type": "stream",
     "text": [
      "Starting 7-th embedding cycle...\n"
     ]
    },
    {
     "name": "stdout",
     "output_type": "stream",
     "text": [
      "Starting 8-th embedding cycle...\n"
     ]
    },
    {
     "name": "stdout",
     "output_type": "stream",
     "text": [
      "Starting 9-th embedding cycle...\n"
     ]
    },
    {
     "name": "stdout",
     "output_type": "stream",
     "text": [
      "Starting 10-th embedding cycle...\n"
     ]
    },
    {
     "name": "stdout",
     "output_type": "stream",
     "text": [
      "Starting 11-th embedding cycle...\n"
     ]
    },
    {
     "name": "stdout",
     "output_type": "stream",
     "text": [
      "Starting 12-th embedding cycle...\n"
     ]
    },
    {
     "name": "stdout",
     "output_type": "stream",
     "text": [
      "Starting 13-th embedding cycle...\n"
     ]
    },
    {
     "name": "stdout",
     "output_type": "stream",
     "text": [
      "Starting 14-th embedding cycle...\n"
     ]
    },
    {
     "name": "stdout",
     "output_type": "stream",
     "text": [
      "Starting 15-th embedding cycle..."
     ]
    },
    {
     "name": "stdout",
     "output_type": "stream",
     "text": [
      "\n",
      "Algorithm stopped due to increasing L-values. VALID embedding achieved ✓.\n",
      "[0, 6, 3, 13, 10, 8, 18, 4, 16, 12, 36, 32, 28, 24, 34][-0.03782129624431155, -0.029980700933448817, -0.04715956483565585, -0.04373236035999467, -0.033493743740050264, -0.030746967448291904, -0.002122275835222287, -0.0009246994675369824, -0.0022392778615386716, -0.0027323016390380095, -0.0028739704569427926, -0.004752577461727088, -0.012107007898911318, -0.001192770990798401]\n",
      "Initializing PECUZAL algorithm for univariate input...\n",
      "Starting 1-th embedding cycle...\n"
     ]
    },
    {
     "name": "stdout",
     "output_type": "stream",
     "text": [
      "Starting 2-th embedding cycle...\n"
     ]
    },
    {
     "name": "stdout",
     "output_type": "stream",
     "text": [
      "Starting 3-th embedding cycle...\n"
     ]
    },
    {
     "name": "stdout",
     "output_type": "stream",
     "text": [
      "Starting 4-th embedding cycle...\n"
     ]
    },
    {
     "name": "stdout",
     "output_type": "stream",
     "text": [
      "Starting 5-th embedding cycle...\n"
     ]
    },
    {
     "name": "stdout",
     "output_type": "stream",
     "text": [
      "Starting 6-th embedding cycle...\n"
     ]
    },
    {
     "name": "stdout",
     "output_type": "stream",
     "text": [
      "Starting 7-th embedding cycle...\n"
     ]
    },
    {
     "name": "stdout",
     "output_type": "stream",
     "text": [
      "Starting 8-th embedding cycle...\n"
     ]
    },
    {
     "name": "stdout",
     "output_type": "stream",
     "text": [
      "Algorithm stopped due to increasing L-values. VALID embedding achieved ✓.\n",
      "[0, 6, 3, 12, 9, 17, 15, 13][-0.02387786213118584, -0.0332619430903022, -0.048770395166892286, -0.01799263764293113, -0.03053450479984106, -0.0069148937167377855, -0.005051801310937409]\n",
      "Initializing PECUZAL algorithm for univariate input...\n",
      "Starting 1-th embedding cycle...\n"
     ]
    },
    {
     "name": "stdout",
     "output_type": "stream",
     "text": [
      "Algorithm stopped due to increasing L-values in the first embedding cycle. Valid embedding NOT achieved ⨉.\n",
      "[0]Float64[]\n",
      "Initializing PECUZAL algorithm for univariate input...\n",
      "Starting 1-th embedding cycle..."
     ]
    },
    {
     "name": "stdout",
     "output_type": "stream",
     "text": [
      "\n",
      "Starting 2-th embedding cycle...\n"
     ]
    },
    {
     "name": "stdout",
     "output_type": "stream",
     "text": [
      "Starting 3-th embedding cycle...\n"
     ]
    },
    {
     "name": "stdout",
     "output_type": "stream",
     "text": [
      "Starting 4-th embedding cycle...\n"
     ]
    },
    {
     "name": "stdout",
     "output_type": "stream",
     "text": [
      "Starting 5-th embedding cycle...\n"
     ]
    },
    {
     "name": "stdout",
     "output_type": "stream",
     "text": [
      "Starting 6-th embedding cycle...\n"
     ]
    },
    {
     "name": "stdout",
     "output_type": "stream",
     "text": [
      "Starting 7-th embedding cycle...\n"
     ]
    },
    {
     "name": "stdout",
     "output_type": "stream",
     "text": [
      "Starting 8-th embedding cycle..."
     ]
    },
    {
     "name": "stdout",
     "output_type": "stream",
     "text": [
      "\n",
      "Starting 9-th embedding cycle...\n"
     ]
    },
    {
     "name": "stdout",
     "output_type": "stream",
     "text": [
      "Algorithm stopped due to increasing L-values. VALID embedding achieved ✓.\n",
      "[0, 6, 3, 14, 10, 12, 8, 19, 4][-0.057538350777291886, -0.033017185508830704, -0.04088715504855893, -0.08169945858274967, -0.03196002042684884, -0.026059629080889768, -0.01897234221472865, -0.001388292679694647]\n",
      "Initializing PECUZAL algorithm for univariate input...\n",
      "Starting 1-th embedding cycle..."
     ]
    },
    {
     "name": "stdout",
     "output_type": "stream",
     "text": [
      "\n",
      "Starting 2-th embedding cycle...\n"
     ]
    },
    {
     "name": "stdout",
     "output_type": "stream",
     "text": [
      "Starting 3-th embedding cycle...\n"
     ]
    },
    {
     "name": "stdout",
     "output_type": "stream",
     "text": [
      "Starting 4-th embedding cycle...\n"
     ]
    },
    {
     "name": "stdout",
     "output_type": "stream",
     "text": [
      "Starting 5-th embedding cycle..."
     ]
    },
    {
     "name": "stdout",
     "output_type": "stream",
     "text": [
      "\n",
      "Starting 6-th embedding cycle...\n"
     ]
    },
    {
     "name": "stdout",
     "output_type": "stream",
     "text": [
      "Starting 7-th embedding cycle...\n"
     ]
    },
    {
     "name": "stdout",
     "output_type": "stream",
     "text": [
      "Starting 8-th embedding cycle...\n"
     ]
    },
    {
     "name": "stdout",
     "output_type": "stream",
     "text": [
      "Starting 9-th embedding cycle...\n"
     ]
    },
    {
     "name": "stdout",
     "output_type": "stream",
     "text": [
      "Starting 10-th embedding cycle...\n"
     ]
    },
    {
     "name": "stdout",
     "output_type": "stream",
     "text": [
      "Starting 11-th embedding cycle..."
     ]
    },
    {
     "name": "stdout",
     "output_type": "stream",
     "text": [
      "\n",
      "Starting 12-th embedding cycle..."
     ]
    },
    {
     "name": "stdout",
     "output_type": "stream",
     "text": [
      "\n",
      "Starting 13-th embedding cycle..."
     ]
    },
    {
     "name": "stdout",
     "output_type": "stream",
     "text": [
      "\n",
      "Starting 14-th embedding cycle..."
     ]
    },
    {
     "name": "stdout",
     "output_type": "stream",
     "text": [
      "\n",
      "Starting 15-th embedding cycle..."
     ]
    },
    {
     "name": "stdout",
     "output_type": "stream",
     "text": [
      "\n",
      "Algorithm stopped due to increasing L-values. VALID embedding achieved ✓.\n",
      "[0, 6, 3, 13, 10, 8, 19, 4, 37, 27, 23, 21, 25, 33, 35][-0.005983361004201243, -0.03841493634309184, -0.0546426162226065, -0.04340733723828716, -0.031381828525838984, -0.029260847169725747, -0.001484821106536388, -0.0009314611263498696, -0.005971973368261361, -0.012879962485951343, -0.003728964457567416, -0.0022591121090920208, -0.0017749992292976184, -0.00011797075864139472]\n",
      "Initializing PECUZAL algorithm for univariate input...\n",
      "Starting 1-th embedding cycle..."
     ]
    },
    {
     "name": "stdout",
     "output_type": "stream",
     "text": [
      "\n",
      "Starting 2-th embedding cycle..."
     ]
    },
    {
     "name": "stdout",
     "output_type": "stream",
     "text": [
      "\n",
      "Starting 3-th embedding cycle..."
     ]
    },
    {
     "name": "stdout",
     "output_type": "stream",
     "text": [
      "\n",
      "Starting 4-th embedding cycle...\n"
     ]
    },
    {
     "name": "stdout",
     "output_type": "stream",
     "text": [
      "Starting 5-th embedding cycle...\n"
     ]
    },
    {
     "name": "stdout",
     "output_type": "stream",
     "text": [
      "Starting 6-th embedding cycle...\n"
     ]
    },
    {
     "name": "stdout",
     "output_type": "stream",
     "text": [
      "Starting 7-th embedding cycle...\n"
     ]
    },
    {
     "name": "stdout",
     "output_type": "stream",
     "text": [
      "Starting 8-th embedding cycle...\n"
     ]
    },
    {
     "name": "stdout",
     "output_type": "stream",
     "text": [
      "Starting 9-th embedding cycle...\n"
     ]
    },
    {
     "name": "stdout",
     "output_type": "stream",
     "text": [
      "Starting 10-th embedding cycle...\n"
     ]
    },
    {
     "name": "stdout",
     "output_type": "stream",
     "text": [
      "Starting 11-th embedding cycle...\n"
     ]
    },
    {
     "name": "stdout",
     "output_type": "stream",
     "text": [
      "Starting 12-th embedding cycle...\n"
     ]
    },
    {
     "name": "stdout",
     "output_type": "stream",
     "text": [
      "Starting 13-th embedding cycle..."
     ]
    },
    {
     "name": "stdout",
     "output_type": "stream",
     "text": [
      "\n",
      "Starting 14-th embedding cycle..."
     ]
    },
    {
     "name": "stdout",
     "output_type": "stream",
     "text": [
      "\n",
      "Starting 15-th embedding cycle..."
     ]
    },
    {
     "name": "stdout",
     "output_type": "stream",
     "text": [
      "\n",
      "Algorithm stopped due to increasing L-values. VALID embedding achieved ✓.\n",
      "[0, 6, 3, 14, 10, 12, 8, 4, 33, 22, 18, 16, 20, 49, 29][-0.03650662497441989, -0.035638075559393634, -0.05024065460018803, -0.07847191309099077, -0.035272413505534034, -0.026472495909936444, -0.006220776282396506, -0.0029045969944979655, -0.02293426980125516, -0.024339746343101556, -0.004925171049365185, -0.0013035661544734956, -0.0028280555771960925, -0.002128646137302334]\n",
      "Initializing PECUZAL algorithm for univariate input...\n",
      "Starting 1-th embedding cycle...\n"
     ]
    },
    {
     "name": "stdout",
     "output_type": "stream",
     "text": [
      "Starting 2-th embedding cycle...\n"
     ]
    },
    {
     "name": "stdout",
     "output_type": "stream",
     "text": [
      "Starting 3-th embedding cycle...\n"
     ]
    },
    {
     "name": "stdout",
     "output_type": "stream",
     "text": [
      "Starting 4-th embedding cycle...\n"
     ]
    },
    {
     "name": "stdout",
     "output_type": "stream",
     "text": [
      "Starting 5-th embedding cycle...\n"
     ]
    },
    {
     "name": "stdout",
     "output_type": "stream",
     "text": [
      "Starting 6-th embedding cycle...\n"
     ]
    },
    {
     "name": "stdout",
     "output_type": "stream",
     "text": [
      "Starting 7-th embedding cycle...\n"
     ]
    },
    {
     "name": "stdout",
     "output_type": "stream",
     "text": [
      "Starting 8-th embedding cycle...\n"
     ]
    },
    {
     "name": "stdout",
     "output_type": "stream",
     "text": [
      "Starting 9-th embedding cycle...\n"
     ]
    },
    {
     "name": "stdout",
     "output_type": "stream",
     "text": [
      "Starting 10-th embedding cycle...\n"
     ]
    },
    {
     "name": "stdout",
     "output_type": "stream",
     "text": [
      "Starting 11-th embedding cycle...\n"
     ]
    },
    {
     "name": "stdout",
     "output_type": "stream",
     "text": [
      "Starting 12-th embedding cycle...\n"
     ]
    },
    {
     "name": "stdout",
     "output_type": "stream",
     "text": [
      "Starting 13-th embedding cycle...\n"
     ]
    },
    {
     "name": "stdout",
     "output_type": "stream",
     "text": [
      "Starting 14-th embedding cycle...\n"
     ]
    },
    {
     "name": "stdout",
     "output_type": "stream",
     "text": [
      "Algorithm stopped due to increasing L-values. VALID embedding achieved ✓.\n",
      "[0, 6, 3, 14, 10, 12, 8, 31, 27, 19, 29, 23, 21, 25][-0.03406346789611936, -0.039445538859726154, -0.04918455024556418, -0.07998461632228429, -0.031914759735395454, -0.029313044570353913, -0.0033857639968625786, -0.002119258831911431, -0.02405939099505916, -0.007028954896092288, -0.007217594300101188, -0.0016310432683228765, -0.0014210280343714965]\n",
      "Initializing PECUZAL algorithm for univariate input...\n",
      "Starting 1-th embedding cycle...\n"
     ]
    },
    {
     "name": "stdout",
     "output_type": "stream",
     "text": [
      "Starting 2-th embedding cycle...\n"
     ]
    },
    {
     "name": "stdout",
     "output_type": "stream",
     "text": [
      "Starting 3-th embedding cycle...\n"
     ]
    },
    {
     "name": "stdout",
     "output_type": "stream",
     "text": [
      "Starting 4-th embedding cycle...\n"
     ]
    },
    {
     "name": "stdout",
     "output_type": "stream",
     "text": [
      "Starting 5-th embedding cycle..."
     ]
    },
    {
     "name": "stdout",
     "output_type": "stream",
     "text": [
      "\n",
      "Starting 6-th embedding cycle...\n"
     ]
    },
    {
     "name": "stdout",
     "output_type": "stream",
     "text": [
      "Starting 7-th embedding cycle...\n"
     ]
    },
    {
     "name": "stdout",
     "output_type": "stream",
     "text": [
      "Starting 8-th embedding cycle...\n"
     ]
    },
    {
     "name": "stdout",
     "output_type": "stream",
     "text": [
      "Starting 9-th embedding cycle...\n"
     ]
    },
    {
     "name": "stdout",
     "output_type": "stream",
     "text": [
      "Starting 10-th embedding cycle...\n"
     ]
    },
    {
     "name": "stdout",
     "output_type": "stream",
     "text": [
      "Algorithm stopped due to increasing L-values. VALID embedding achieved ✓.\n",
      "[0, 6, 3, 14, 10, 12, 8, 21, 17, 19][-0.030048441882491256, -0.037293568025879104, -0.04690037192764296, -0.07264212160248917, -0.03473426203878241, -0.024946805142628342, -0.013660240313770167, -0.014004557745493584, -0.008809965518566498]\n",
      "Initializing PECUZAL algorithm for univariate input...\n",
      "Starting 1-th embedding cycle..."
     ]
    },
    {
     "name": "stdout",
     "output_type": "stream",
     "text": [
      "\n",
      "Starting 2-th embedding cycle..."
     ]
    },
    {
     "name": "stdout",
     "output_type": "stream",
     "text": [
      "\n",
      "Starting 3-th embedding cycle...\n"
     ]
    },
    {
     "name": "stdout",
     "output_type": "stream",
     "text": [
      "Starting 4-th embedding cycle...\n"
     ]
    },
    {
     "name": "stdout",
     "output_type": "stream",
     "text": [
      "Starting 5-th embedding cycle...\n"
     ]
    },
    {
     "name": "stdout",
     "output_type": "stream",
     "text": [
      "Starting 6-th embedding cycle...\n"
     ]
    },
    {
     "name": "stdout",
     "output_type": "stream",
     "text": [
      "Starting 7-th embedding cycle...\n"
     ]
    },
    {
     "name": "stdout",
     "output_type": "stream",
     "text": [
      "Starting 8-th embedding cycle...\n"
     ]
    },
    {
     "name": "stdout",
     "output_type": "stream",
     "text": [
      "Starting 9-th embedding cycle...\n"
     ]
    },
    {
     "name": "stdout",
     "output_type": "stream",
     "text": [
      "Starting 10-th embedding cycle...\n"
     ]
    },
    {
     "name": "stdout",
     "output_type": "stream",
     "text": [
      "Algorithm stopped due to increasing L-values. VALID embedding achieved ✓.\n",
      "[0, 6, 3, 13, 10, 8, 18, 4, 16, 12][-0.032607980021495675, -0.040806050365270685, -0.05432797983595662, -0.049913639420123196, -0.031256302980748024, -0.02977543965408916, -0.0028614450707456496, -0.00018764033938725722, -0.004865659644619685]\n",
      "Initializing PECUZAL algorithm for univariate input...\n",
      "Starting 1-th embedding cycle...\n"
     ]
    },
    {
     "name": "stdout",
     "output_type": "stream",
     "text": [
      "Starting 2-th embedding cycle...\n"
     ]
    },
    {
     "name": "stdout",
     "output_type": "stream",
     "text": [
      "Starting 3-th embedding cycle...\n"
     ]
    },
    {
     "name": "stdout",
     "output_type": "stream",
     "text": [
      "Starting 4-th embedding cycle...\n"
     ]
    },
    {
     "name": "stdout",
     "output_type": "stream",
     "text": [
      "Starting 5-th embedding cycle..."
     ]
    },
    {
     "name": "stdout",
     "output_type": "stream",
     "text": [
      "\n",
      "Starting 6-th embedding cycle...\n"
     ]
    },
    {
     "name": "stdout",
     "output_type": "stream",
     "text": [
      "Starting 7-th embedding cycle...\n"
     ]
    },
    {
     "name": "stdout",
     "output_type": "stream",
     "text": [
      "Starting 8-th embedding cycle...\n"
     ]
    },
    {
     "name": "stdout",
     "output_type": "stream",
     "text": [
      "Starting 9-th embedding cycle...\n"
     ]
    },
    {
     "name": "stdout",
     "output_type": "stream",
     "text": [
      "Starting 10-th embedding cycle...\n"
     ]
    },
    {
     "name": "stdout",
     "output_type": "stream",
     "text": [
      "Algorithm stopped due to increasing L-values. VALID embedding achieved ✓.\n",
      "[0, 6, 3, 13, 10, 8, 18, 4, 16, 12][-0.023677151286902398, -0.026489369873186147, -0.061239579015238126, -0.03984797206602511, -0.030252618454954666, -0.031699839407555344, -0.003236367062057599, -0.0002889307618607062, -0.002639658054904584]\n",
      "Initializing PECUZAL algorithm for univariate input...\n",
      "Starting 1-th embedding cycle..."
     ]
    },
    {
     "name": "stdout",
     "output_type": "stream",
     "text": [
      "\n",
      "Starting 2-th embedding cycle..."
     ]
    },
    {
     "name": "stdout",
     "output_type": "stream",
     "text": [
      "\n",
      "Starting 3-th embedding cycle..."
     ]
    },
    {
     "name": "stdout",
     "output_type": "stream",
     "text": [
      "\n",
      "Starting 4-th embedding cycle..."
     ]
    },
    {
     "name": "stdout",
     "output_type": "stream",
     "text": [
      "\n",
      "Starting 5-th embedding cycle...\n"
     ]
    },
    {
     "name": "stdout",
     "output_type": "stream",
     "text": [
      "Starting 6-th embedding cycle...\n"
     ]
    },
    {
     "name": "stdout",
     "output_type": "stream",
     "text": [
      "Starting 7-th embedding cycle...\n"
     ]
    },
    {
     "name": "stdout",
     "output_type": "stream",
     "text": [
      "Starting 8-th embedding cycle...\n"
     ]
    },
    {
     "name": "stdout",
     "output_type": "stream",
     "text": [
      "Starting 9-th embedding cycle..."
     ]
    },
    {
     "name": "stdout",
     "output_type": "stream",
     "text": [
      "\n",
      "Starting 10-th embedding cycle...\n"
     ]
    },
    {
     "name": "stdout",
     "output_type": "stream",
     "text": [
      "Starting 11-th embedding cycle...\n"
     ]
    },
    {
     "name": "stdout",
     "output_type": "stream",
     "text": [
      "Starting 12-th embedding cycle...\n"
     ]
    },
    {
     "name": "stdout",
     "output_type": "stream",
     "text": [
      "Starting 13-th embedding cycle..."
     ]
    },
    {
     "name": "stdout",
     "output_type": "stream",
     "text": [
      "\n",
      "Starting 14-th embedding cycle...\n"
     ]
    },
    {
     "name": "stdout",
     "output_type": "stream",
     "text": [
      "Starting 15-th embedding cycle..."
     ]
    },
    {
     "name": "stdout",
     "output_type": "stream",
     "text": [
      "\n",
      "Starting 16-th embedding cycle..."
     ]
    },
    {
     "name": "stdout",
     "output_type": "stream",
     "text": [
      "\n",
      "Algorithm stopped due to increasing L-values. VALID embedding achieved ✓.\n",
      "[0, 6, 3, 13, 10, 8, 18, 4, 16, 12, 44, 35, 30, 26, 22, 28][-0.03456728054433558, -0.040106741164462806, -0.0620493047651131, -0.039559913109107725, -0.03073030285725406, -0.031048252061253473, -0.0029805976899064113, -0.00029941428951849036, -0.003398610334192448, -0.0038259759206729083, -0.005983726396459138, -0.009762882146543653, -0.006006897199499477, -0.004682804543051821, -0.0002835318326175492]\n",
      "Initializing PECUZAL algorithm for univariate input...\n",
      "Starting 1-th embedding cycle...\n"
     ]
    },
    {
     "name": "stdout",
     "output_type": "stream",
     "text": [
      "Starting 2-th embedding cycle...\n"
     ]
    },
    {
     "name": "stdout",
     "output_type": "stream",
     "text": [
      "Starting 3-th embedding cycle...\n"
     ]
    },
    {
     "name": "stdout",
     "output_type": "stream",
     "text": [
      "Starting 4-th embedding cycle...\n"
     ]
    },
    {
     "name": "stdout",
     "output_type": "stream",
     "text": [
      "Starting 5-th embedding cycle...\n"
     ]
    },
    {
     "name": "stdout",
     "output_type": "stream",
     "text": [
      "Starting 6-th embedding cycle...\n"
     ]
    },
    {
     "name": "stdout",
     "output_type": "stream",
     "text": [
      "Starting 7-th embedding cycle..."
     ]
    },
    {
     "name": "stdout",
     "output_type": "stream",
     "text": [
      "\n",
      "Starting 8-th embedding cycle...\n"
     ]
    },
    {
     "name": "stdout",
     "output_type": "stream",
     "text": [
      "Algorithm stopped due to increasing L-values. VALID embedding achieved ✓.\n",
      "[0, 6, 3, 13, 10, 8, 18, 4][-0.038805073065994525, -0.03223909542291187, -0.04939230945626658, -0.04860850683015408, -0.03275924556559073, -0.03890220090097461, -0.004529612629893098]\n",
      "Initializing PECUZAL algorithm for univariate input...\n",
      "Starting 1-th embedding cycle..."
     ]
    },
    {
     "name": "stdout",
     "output_type": "stream",
     "text": [
      "\n"
     ]
    },
    {
     "name": "stdout",
     "output_type": "stream",
     "text": [
      "Starting 2-th embedding cycle...\n",
      "Starting 3-th embedding cycle...\n"
     ]
    },
    {
     "name": "stdout",
     "output_type": "stream",
     "text": [
      "Starting 4-th embedding cycle...\n"
     ]
    },
    {
     "name": "stdout",
     "output_type": "stream",
     "text": [
      "Starting 5-th embedding cycle...\n"
     ]
    },
    {
     "name": "stdout",
     "output_type": "stream",
     "text": [
      "Starting 6-th embedding cycle...\n"
     ]
    },
    {
     "name": "stdout",
     "output_type": "stream",
     "text": [
      "Starting 7-th embedding cycle...\n"
     ]
    },
    {
     "name": "stdout",
     "output_type": "stream",
     "text": [
      "Starting 8-th embedding cycle...\n"
     ]
    },
    {
     "name": "stdout",
     "output_type": "stream",
     "text": [
      "Algorithm stopped due to increasing L-values. VALID embedding achieved ✓.\n",
      "[0, 6, 3, 13, 10, 8, 19, 4][-0.07968387910107558, -0.023102265164043068, -0.05647465218490378, -0.040026792047011706, -0.03157799678979864, -0.02571059919920579, -0.0033864089841996736]\n",
      "Initializing PECUZAL algorithm for univariate input...\n",
      "Starting 1-th embedding cycle...\n"
     ]
    },
    {
     "name": "stdout",
     "output_type": "stream",
     "text": [
      "Starting 2-th embedding cycle...\n"
     ]
    },
    {
     "name": "stdout",
     "output_type": "stream",
     "text": [
      "Starting 3-th embedding cycle...\n"
     ]
    },
    {
     "name": "stdout",
     "output_type": "stream",
     "text": [
      "Starting 4-th embedding cycle...\n"
     ]
    },
    {
     "name": "stdout",
     "output_type": "stream",
     "text": [
      "Starting 5-th embedding cycle...\n"
     ]
    },
    {
     "name": "stdout",
     "output_type": "stream",
     "text": [
      "Starting 6-th embedding cycle...\n"
     ]
    },
    {
     "name": "stdout",
     "output_type": "stream",
     "text": [
      "Starting 7-th embedding cycle...\n"
     ]
    },
    {
     "name": "stdout",
     "output_type": "stream",
     "text": [
      "Starting 8-th embedding cycle...\n"
     ]
    },
    {
     "name": "stdout",
     "output_type": "stream",
     "text": [
      "Starting 9-th embedding cycle...\n"
     ]
    },
    {
     "name": "stdout",
     "output_type": "stream",
     "text": [
      "Starting 10-th embedding cycle...\n"
     ]
    },
    {
     "name": "stdout",
     "output_type": "stream",
     "text": [
      "Starting 11-th embedding cycle...\n"
     ]
    },
    {
     "name": "stdout",
     "output_type": "stream",
     "text": [
      "Starting 12-th embedding cycle...\n"
     ]
    },
    {
     "name": "stdout",
     "output_type": "stream",
     "text": [
      "Starting 13-th embedding cycle...\n"
     ]
    },
    {
     "name": "stdout",
     "output_type": "stream",
     "text": [
      "Starting 14-th embedding cycle...\n"
     ]
    },
    {
     "name": "stdout",
     "output_type": "stream",
     "text": [
      "Algorithm stopped due to increasing L-values. VALID embedding achieved ✓.\n",
      "[0, 6, 3, 14, 10, 12, 8, 4, 39, 30, 25, 21, 17, 23][-0.026793880685253735, -0.04545417529115911, -0.03912306318532002, -0.08536300662247386, -0.033619300026954124, -0.027774952021017374, -0.0008980870292593923, -0.0016945803093521422, -0.008267208469083395, -0.010949374482570572, -0.00772097190132166, -0.003323940842779559, -0.001094364765262472]\n",
      "Initializing PECUZAL algorithm for univariate input...\n",
      "Starting 1-th embedding cycle...\n"
     ]
    },
    {
     "name": "stdout",
     "output_type": "stream",
     "text": [
      "Starting 2-th embedding cycle..."
     ]
    },
    {
     "name": "stdout",
     "output_type": "stream",
     "text": [
      "\n",
      "Starting 3-th embedding cycle...\n"
     ]
    },
    {
     "name": "stdout",
     "output_type": "stream",
     "text": [
      "Starting 4-th embedding cycle...\n"
     ]
    },
    {
     "name": "stdout",
     "output_type": "stream",
     "text": [
      "Starting 5-th embedding cycle...\n"
     ]
    },
    {
     "name": "stdout",
     "output_type": "stream",
     "text": [
      "Starting 6-th embedding cycle...\n"
     ]
    },
    {
     "name": "stdout",
     "output_type": "stream",
     "text": [
      "Starting 7-th embedding cycle...\n"
     ]
    },
    {
     "name": "stdout",
     "output_type": "stream",
     "text": [
      "Starting 8-th embedding cycle...\n"
     ]
    },
    {
     "name": "stdout",
     "output_type": "stream",
     "text": [
      "Algorithm stopped due to increasing L-values. VALID embedding achieved ✓.\n",
      "[0, 6, 3, 13, 10, 8, 18, 4][-0.024433111037026334, -0.03736132663093222, -0.04921389988623746, -0.04604393360519973, -0.031021921691953502, -0.034713291789250394, -0.004968049100921579]\n",
      "Initializing PECUZAL algorithm for univariate input...\n",
      "Starting 1-th embedding cycle...\n"
     ]
    },
    {
     "name": "stdout",
     "output_type": "stream",
     "text": [
      "Starting 2-th embedding cycle...\n"
     ]
    },
    {
     "name": "stdout",
     "output_type": "stream",
     "text": [
      "Starting 3-th embedding cycle...\n"
     ]
    },
    {
     "name": "stdout",
     "output_type": "stream",
     "text": [
      "Starting 4-th embedding cycle...\n"
     ]
    },
    {
     "name": "stdout",
     "output_type": "stream",
     "text": [
      "Starting 5-th embedding cycle..."
     ]
    },
    {
     "name": "stdout",
     "output_type": "stream",
     "text": [
      "\n",
      "Starting 6-th embedding cycle...\n"
     ]
    },
    {
     "name": "stdout",
     "output_type": "stream",
     "text": [
      "Starting 7-th embedding cycle...\n"
     ]
    },
    {
     "name": "stdout",
     "output_type": "stream",
     "text": [
      "Starting 8-th embedding cycle...\n"
     ]
    },
    {
     "name": "stdout",
     "output_type": "stream",
     "text": [
      "Starting 9-th embedding cycle...\n"
     ]
    },
    {
     "name": "stdout",
     "output_type": "stream",
     "text": [
      "Starting 10-th embedding cycle...\n"
     ]
    },
    {
     "name": "stdout",
     "output_type": "stream",
     "text": [
      "Starting 11-th embedding cycle...\n"
     ]
    },
    {
     "name": "stdout",
     "output_type": "stream",
     "text": [
      "Starting 12-th embedding cycle...\n"
     ]
    },
    {
     "name": "stdout",
     "output_type": "stream",
     "text": [
      "Starting 13-th embedding cycle..."
     ]
    },
    {
     "name": "stdout",
     "output_type": "stream",
     "text": [
      "\n",
      "Starting 14-th embedding cycle..."
     ]
    },
    {
     "name": "stdout",
     "output_type": "stream",
     "text": [
      "\n",
      "Starting 15-th embedding cycle..."
     ]
    },
    {
     "name": "stdout",
     "output_type": "stream",
     "text": [
      "\n",
      "Algorithm stopped due to increasing L-values. VALID embedding achieved ✓.\n",
      "[0, 6, 3, 14, 10, 12, 8, 20, 4, 30, 26, 28, 17, 44, 37][-0.05524061893427598, -0.03790540818832283, -0.048884461185125905, -0.0722864277032918, -0.033668707059124836, -0.02334593096225207, -0.030442238948335004, -0.0016994838636102405, -0.002545775165798528, -0.0035549706332880736, -0.004692543937358837, -0.0017349577240698254, -0.000756834291904207, -0.00039193944455356844]\n",
      "Initializing PECUZAL algorithm for univariate input...\n",
      "Starting 1-th embedding cycle...\n"
     ]
    },
    {
     "name": "stdout",
     "output_type": "stream",
     "text": [
      "Starting 2-th embedding cycle...\n"
     ]
    },
    {
     "name": "stdout",
     "output_type": "stream",
     "text": [
      "Starting 3-th embedding cycle...\n"
     ]
    },
    {
     "name": "stdout",
     "output_type": "stream",
     "text": [
      "Starting 4-th embedding cycle...\n"
     ]
    },
    {
     "name": "stdout",
     "output_type": "stream",
     "text": [
      "Starting 5-th embedding cycle...\n"
     ]
    },
    {
     "name": "stdout",
     "output_type": "stream",
     "text": [
      "Starting 6-th embedding cycle...\n"
     ]
    },
    {
     "name": "stdout",
     "output_type": "stream",
     "text": [
      "Starting 7-th embedding cycle...\n"
     ]
    },
    {
     "name": "stdout",
     "output_type": "stream",
     "text": [
      "Starting 8-th embedding cycle...\n"
     ]
    },
    {
     "name": "stdout",
     "output_type": "stream",
     "text": [
      "Algorithm stopped due to increasing L-values. VALID embedding achieved ✓.\n",
      "[0, 6, 3, 13, 10, 8, 18, 4][-0.05151563512393503, -0.03250544240737804, -0.06518655079388824, -0.043276059972369996, -0.03305281488388734, -0.032102051177354526, -0.002954659026803197]\n",
      "Initializing PECUZAL algorithm for univariate input...\n",
      "Starting 1-th embedding cycle...\n"
     ]
    },
    {
     "name": "stdout",
     "output_type": "stream",
     "text": [
      "Starting 2-th embedding cycle..."
     ]
    },
    {
     "name": "stdout",
     "output_type": "stream",
     "text": [
      "\n",
      "Starting 3-th embedding cycle...\n"
     ]
    },
    {
     "name": "stdout",
     "output_type": "stream",
     "text": [
      "Starting 4-th embedding cycle...\n"
     ]
    },
    {
     "name": "stdout",
     "output_type": "stream",
     "text": [
      "Starting 5-th embedding cycle...\n"
     ]
    },
    {
     "name": "stdout",
     "output_type": "stream",
     "text": [
      "Starting 6-th embedding cycle...\n"
     ]
    },
    {
     "name": "stdout",
     "output_type": "stream",
     "text": [
      "Starting 7-th embedding cycle..."
     ]
    },
    {
     "name": "stdout",
     "output_type": "stream",
     "text": [
      "\n",
      "Algorithm stopped due to increasing L-values. VALID embedding achieved ✓.\n",
      "[0, 6, 3, 14, 10, 12, 8][-0.05084917840799723, -0.04475456974546066, -0.04626649946292953, -0.07579896406719762, -0.035750634398512976, -0.02799544876146101]\n",
      "Initializing PECUZAL algorithm for univariate input...\n",
      "Starting 1-th embedding cycle...\n"
     ]
    },
    {
     "name": "stdout",
     "output_type": "stream",
     "text": [
      "Starting 2-th embedding cycle..."
     ]
    },
    {
     "name": "stdout",
     "output_type": "stream",
     "text": [
      "\n",
      "Starting 3-th embedding cycle...\n"
     ]
    },
    {
     "name": "stdout",
     "output_type": "stream",
     "text": [
      "Starting 4-th embedding cycle...\n"
     ]
    },
    {
     "name": "stdout",
     "output_type": "stream",
     "text": [
      "Starting 5-th embedding cycle...\n"
     ]
    },
    {
     "name": "stdout",
     "output_type": "stream",
     "text": [
      "Starting 6-th embedding cycle...\n"
     ]
    },
    {
     "name": "stdout",
     "output_type": "stream",
     "text": [
      "Starting 7-th embedding cycle...\n"
     ]
    },
    {
     "name": "stdout",
     "output_type": "stream",
     "text": [
      "Starting 8-th embedding cycle..."
     ]
    },
    {
     "name": "stdout",
     "output_type": "stream",
     "text": [
      "\n",
      "Algorithm stopped due to increasing L-values. VALID embedding achieved ✓.\n",
      "[0, 6, 3, 13, 10, 8, 19, 4][-0.03825511811268209, -0.033498769517451454, -0.05673191565026869, -0.04540639302763022, -0.032078464785710636, -0.025085193366420143, -0.0012432833752151207]\n",
      "Initializing PECUZAL algorithm for univariate input...\n",
      "Starting 1-th embedding cycle...\n"
     ]
    },
    {
     "name": "stdout",
     "output_type": "stream",
     "text": [
      "Starting 2-th embedding cycle...\n"
     ]
    },
    {
     "name": "stdout",
     "output_type": "stream",
     "text": [
      "Starting 3-th embedding cycle...\n"
     ]
    },
    {
     "name": "stdout",
     "output_type": "stream",
     "text": [
      "Starting 4-th embedding cycle...\n"
     ]
    },
    {
     "name": "stdout",
     "output_type": "stream",
     "text": [
      "Starting 5-th embedding cycle...\n"
     ]
    },
    {
     "name": "stdout",
     "output_type": "stream",
     "text": [
      "Starting 6-th embedding cycle...\n"
     ]
    },
    {
     "name": "stdout",
     "output_type": "stream",
     "text": [
      "Starting 7-th embedding cycle...\n"
     ]
    },
    {
     "name": "stdout",
     "output_type": "stream",
     "text": [
      "Starting 8-th embedding cycle...\n"
     ]
    },
    {
     "name": "stdout",
     "output_type": "stream",
     "text": [
      "Starting 9-th embedding cycle..."
     ]
    },
    {
     "name": "stdout",
     "output_type": "stream",
     "text": [
      "\n",
      "Starting 10-th embedding cycle...\n"
     ]
    },
    {
     "name": "stdout",
     "output_type": "stream",
     "text": [
      "Starting 11-th embedding cycle...\n"
     ]
    },
    {
     "name": "stdout",
     "output_type": "stream",
     "text": [
      "Starting 12-th embedding cycle...\n"
     ]
    },
    {
     "name": "stdout",
     "output_type": "stream",
     "text": [
      "Starting 13-th embedding cycle...\n"
     ]
    },
    {
     "name": "stdout",
     "output_type": "stream",
     "text": [
      "Starting 14-th embedding cycle..."
     ]
    },
    {
     "name": "stdout",
     "output_type": "stream",
     "text": [
      "\n",
      "Starting 15-th embedding cycle..."
     ]
    },
    {
     "name": "stdout",
     "output_type": "stream",
     "text": [
      "\n",
      "Algorithm stopped due to increasing L-values. VALID embedding achieved ✓.\n",
      "[0, 6, 3, 13, 10, 8, 18, 4, 16, 12, 44, 35, 30, 26, 22][-0.029754360028677262, -0.035629977157337206, -0.05987936072789478, -0.04237884702258407, -0.03128346980682442, -0.03515150290064557, -0.0025680887471201397, -6.171179733893695e-6, -0.0023347466858012755, -0.004758698432834968, -0.0025273533726697522, -0.009859360432148342, -0.007896345023809787, -0.00540212565873496]\n",
      "Initializing PECUZAL algorithm for univariate input...\n",
      "Starting 1-th embedding cycle...\n"
     ]
    },
    {
     "name": "stdout",
     "output_type": "stream",
     "text": [
      "Starting 2-th embedding cycle...\n"
     ]
    },
    {
     "name": "stdout",
     "output_type": "stream",
     "text": [
      "Starting 3-th embedding cycle...\n"
     ]
    },
    {
     "name": "stdout",
     "output_type": "stream",
     "text": [
      "Starting 4-th embedding cycle...\n"
     ]
    },
    {
     "name": "stdout",
     "output_type": "stream",
     "text": [
      "Starting 5-th embedding cycle...\n"
     ]
    },
    {
     "name": "stdout",
     "output_type": "stream",
     "text": [
      "Starting 6-th embedding cycle...\n"
     ]
    },
    {
     "name": "stdout",
     "output_type": "stream",
     "text": [
      "Starting 7-th embedding cycle...\n"
     ]
    },
    {
     "name": "stdout",
     "output_type": "stream",
     "text": [
      "Starting 8-th embedding cycle...\n"
     ]
    },
    {
     "name": "stdout",
     "output_type": "stream",
     "text": [
      "Starting 9-th embedding cycle...\n"
     ]
    },
    {
     "name": "stdout",
     "output_type": "stream",
     "text": [
      "Starting 10-th embedding cycle...\n"
     ]
    },
    {
     "name": "stdout",
     "output_type": "stream",
     "text": [
      "Algorithm stopped due to increasing L-values. VALID embedding achieved ✓.\n",
      "[0, 6, 3, 13, 10, 8, 18, 4, 16, 12][-0.04141113909406999, -0.03099946447302518, -0.05735241313559937, -0.04349241495948861, -0.03244986833011981, -0.033885007264931766, -0.0032045764131949095, -0.0002658819996492756, -0.005010659736218254]\n",
      "Initializing PECUZAL algorithm for univariate input...\n",
      "Starting 1-th embedding cycle..."
     ]
    },
    {
     "name": "stdout",
     "output_type": "stream",
     "text": [
      "\n",
      "Starting 2-th embedding cycle...\n"
     ]
    },
    {
     "name": "stdout",
     "output_type": "stream",
     "text": [
      "Starting 3-th embedding cycle...\n"
     ]
    },
    {
     "name": "stdout",
     "output_type": "stream",
     "text": [
      "Starting 4-th embedding cycle...\n"
     ]
    },
    {
     "name": "stdout",
     "output_type": "stream",
     "text": [
      "Starting 5-th embedding cycle...\n"
     ]
    },
    {
     "name": "stdout",
     "output_type": "stream",
     "text": [
      "Starting 6-th embedding cycle...\n"
     ]
    },
    {
     "name": "stdout",
     "output_type": "stream",
     "text": [
      "Starting 7-th embedding cycle..."
     ]
    },
    {
     "name": "stdout",
     "output_type": "stream",
     "text": [
      "\n",
      "Starting 8-th embedding cycle...\n"
     ]
    },
    {
     "name": "stdout",
     "output_type": "stream",
     "text": [
      "Starting 9-th embedding cycle...\n"
     ]
    },
    {
     "name": "stdout",
     "output_type": "stream",
     "text": [
      "Starting 10-th embedding cycle...\n",
      "Algorithm stopped due to increasing L-values. VALID embedding achieved ✓.\n",
      "[0, 6, 3, 14, 10, 12, 8, 20, 4, 38][-0.009539823613733123, -0.03442141242077196, -0.042674401840368484, -0.07759867625338572, -0.03411774994694605, -0.029800489201476543, -0.02567780413956052, -0.000843166966990383, -0.0008314973627822492]\n",
      "Initializing PECUZAL algorithm for univariate input...\n",
      "Starting 1-th embedding cycle..."
     ]
    },
    {
     "name": "stdout",
     "output_type": "stream",
     "text": [
      "\n",
      "Starting 2-th embedding cycle...\n"
     ]
    },
    {
     "name": "stdout",
     "output_type": "stream",
     "text": [
      "Starting 3-th embedding cycle...\n"
     ]
    },
    {
     "name": "stdout",
     "output_type": "stream",
     "text": [
      "Starting 4-th embedding cycle..."
     ]
    },
    {
     "name": "stdout",
     "output_type": "stream",
     "text": [
      "\n",
      "Starting 5-th embedding cycle...\n"
     ]
    },
    {
     "name": "stdout",
     "output_type": "stream",
     "text": [
      "Starting 6-th embedding cycle...\n"
     ]
    },
    {
     "name": "stdout",
     "output_type": "stream",
     "text": [
      "Starting 7-th embedding cycle..."
     ]
    },
    {
     "name": "stdout",
     "output_type": "stream",
     "text": [
      "\n",
      "Starting 8-th embedding cycle...\n"
     ]
    },
    {
     "name": "stdout",
     "output_type": "stream",
     "text": [
      "Starting 9-th embedding cycle...\n"
     ]
    },
    {
     "name": "stdout",
     "output_type": "stream",
     "text": [
      "Starting 10-th embedding cycle...\n"
     ]
    },
    {
     "name": "stdout",
     "output_type": "stream",
     "text": [
      "Starting 11-th embedding cycle...\n"
     ]
    },
    {
     "name": "stdout",
     "output_type": "stream",
     "text": [
      "Starting 12-th embedding cycle...\n"
     ]
    },
    {
     "name": "stdout",
     "output_type": "stream",
     "text": [
      "Algorithm stopped due to increasing L-values. VALID embedding achieved ✓.\n",
      "[0, 6, 3, 14, 10, 12, 8, 4, 38, 28, 23, 19][-0.04341847145537758, -0.029649438302737613, -0.046345185825992403, -0.0825329677380455, -0.03302005756178955, -0.02626137227570502, -0.002524117838574841, -0.007551139788482125, -0.014611412966684362, -0.013974603496077473, -0.007942964331480444]\n",
      "Initializing PECUZAL algorithm for univariate input...\n",
      "Starting 1-th embedding cycle..."
     ]
    },
    {
     "name": "stdout",
     "output_type": "stream",
     "text": [
      "\n",
      "Starting 2-th embedding cycle...\n"
     ]
    },
    {
     "name": "stdout",
     "output_type": "stream",
     "text": [
      "Starting 3-th embedding cycle...\n"
     ]
    },
    {
     "name": "stdout",
     "output_type": "stream",
     "text": [
      "Starting 4-th embedding cycle...\n"
     ]
    },
    {
     "name": "stdout",
     "output_type": "stream",
     "text": [
      "Starting 5-th embedding cycle...\n"
     ]
    },
    {
     "name": "stdout",
     "output_type": "stream",
     "text": [
      "Starting 6-th embedding cycle...\n"
     ]
    },
    {
     "name": "stdout",
     "output_type": "stream",
     "text": [
      "Starting 7-th embedding cycle...\n"
     ]
    },
    {
     "name": "stdout",
     "output_type": "stream",
     "text": [
      "Starting 8-th embedding cycle...\n"
     ]
    },
    {
     "name": "stdout",
     "output_type": "stream",
     "text": [
      "Starting 9-th embedding cycle...\n"
     ]
    },
    {
     "name": "stdout",
     "output_type": "stream",
     "text": [
      "Starting 10-th embedding cycle...\n"
     ]
    },
    {
     "name": "stdout",
     "output_type": "stream",
     "text": [
      "Starting 11-th embedding cycle...\n"
     ]
    },
    {
     "name": "stdout",
     "output_type": "stream",
     "text": [
      "Starting 12-th embedding cycle...\n"
     ]
    },
    {
     "name": "stdout",
     "output_type": "stream",
     "text": [
      "Algorithm stopped due to increasing L-values. VALID embedding achieved ✓.\n",
      "[0, 6, 3, 13, 10, 8, 18, 16, 26, 22, 24, 20][-0.02445442641423584, -0.036236682387268015, -0.05195786381758516, -0.05093806286773159, -0.03240082789260476, -0.02934972713907999, -0.0036185734806174763, -0.00646270535201449, -0.015810660228582907, -0.006913716082291146, -0.003990729810121496]\n",
      "Initializing PECUZAL algorithm for univariate input...\n",
      "Starting 1-th embedding cycle...\n"
     ]
    },
    {
     "name": "stdout",
     "output_type": "stream",
     "text": [
      "Starting 2-th embedding cycle...\n"
     ]
    },
    {
     "name": "stdout",
     "output_type": "stream",
     "text": [
      "Starting 3-th embedding cycle...\n"
     ]
    },
    {
     "name": "stdout",
     "output_type": "stream",
     "text": [
      "Starting 4-th embedding cycle...\n"
     ]
    },
    {
     "name": "stdout",
     "output_type": "stream",
     "text": [
      "Starting 5-th embedding cycle...\n"
     ]
    },
    {
     "name": "stdout",
     "output_type": "stream",
     "text": [
      "Starting 6-th embedding cycle...\n"
     ]
    },
    {
     "name": "stdout",
     "output_type": "stream",
     "text": [
      "Starting 7-th embedding cycle..."
     ]
    },
    {
     "name": "stdout",
     "output_type": "stream",
     "text": [
      "\n",
      "Starting 8-th embedding cycle...\n"
     ]
    },
    {
     "name": "stdout",
     "output_type": "stream",
     "text": [
      "Starting 9-th embedding cycle..."
     ]
    },
    {
     "name": "stdout",
     "output_type": "stream",
     "text": [
      "\n",
      "Starting 10-th embedding cycle...\n"
     ]
    },
    {
     "name": "stdout",
     "output_type": "stream",
     "text": [
      "Algorithm stopped due to increasing L-values. VALID embedding achieved ✓.\n",
      "[0, 6, 3, 13, 10, 8, 18, 4, 16, 12][-0.041738596042307785, -0.037861216983182316, -0.05213174049606535, -0.04820325594546543, -0.029655107418396554, -0.03589285614881006, -0.0028008178062701727, -0.00022871464045204348, -0.0018800358024970432]\n",
      "Initializing PECUZAL algorithm for univariate input...\n",
      "Starting 1-th embedding cycle...\n"
     ]
    },
    {
     "name": "stdout",
     "output_type": "stream",
     "text": [
      "Starting 2-th embedding cycle...\n"
     ]
    },
    {
     "name": "stdout",
     "output_type": "stream",
     "text": [
      "Starting 3-th embedding cycle...\n"
     ]
    },
    {
     "name": "stdout",
     "output_type": "stream",
     "text": [
      "Starting 4-th embedding cycle...\n"
     ]
    },
    {
     "name": "stdout",
     "output_type": "stream",
     "text": [
      "Starting 5-th embedding cycle..."
     ]
    },
    {
     "name": "stdout",
     "output_type": "stream",
     "text": [
      "\n",
      "Starting 6-th embedding cycle..."
     ]
    },
    {
     "name": "stdout",
     "output_type": "stream",
     "text": [
      "\n",
      "Starting 7-th embedding cycle..."
     ]
    },
    {
     "name": "stdout",
     "output_type": "stream",
     "text": [
      "\n",
      "Starting 8-th embedding cycle...\n"
     ]
    },
    {
     "name": "stdout",
     "output_type": "stream",
     "text": [
      "Algorithm stopped due to increasing L-values. VALID embedding achieved ✓.\n",
      "[0, 6, 3, 13, 10, 8, 19, 4][-0.022140834037852775, -0.05514508201714011, -0.04883121621859181, -0.04933413227387831, -0.03313844722817488, -0.025671095356539567, -0.0032992024851608015]\n",
      "Initializing PECUZAL algorithm for univariate input...\n",
      "Starting 1-th embedding cycle...\n"
     ]
    },
    {
     "name": "stdout",
     "output_type": "stream",
     "text": [
      "Starting 2-th embedding cycle...\n"
     ]
    },
    {
     "name": "stdout",
     "output_type": "stream",
     "text": [
      "Starting 3-th embedding cycle...\n"
     ]
    },
    {
     "name": "stdout",
     "output_type": "stream",
     "text": [
      "Starting 4-th embedding cycle...\n"
     ]
    },
    {
     "name": "stdout",
     "output_type": "stream",
     "text": [
      "Starting 5-th embedding cycle...\n"
     ]
    },
    {
     "name": "stdout",
     "output_type": "stream",
     "text": [
      "Starting 6-th embedding cycle...\n"
     ]
    },
    {
     "name": "stdout",
     "output_type": "stream",
     "text": [
      "Starting 7-th embedding cycle..."
     ]
    },
    {
     "name": "stdout",
     "output_type": "stream",
     "text": [
      "\n",
      "Starting 8-th embedding cycle..."
     ]
    },
    {
     "name": "stdout",
     "output_type": "stream",
     "text": [
      "\n",
      "Starting 9-th embedding cycle..."
     ]
    },
    {
     "name": "stdout",
     "output_type": "stream",
     "text": [
      "\n",
      "Starting 10-th embedding cycle..."
     ]
    },
    {
     "name": "stdout",
     "output_type": "stream",
     "text": [
      "\n",
      "Starting 11-th embedding cycle..."
     ]
    },
    {
     "name": "stdout",
     "output_type": "stream",
     "text": [
      "\n",
      "Starting 12-th embedding cycle...\n"
     ]
    },
    {
     "name": "stdout",
     "output_type": "stream",
     "text": [
      "Starting 13-th embedding cycle...\n"
     ]
    },
    {
     "name": "stdout",
     "output_type": "stream",
     "text": [
      "Starting 14-th embedding cycle...\n"
     ]
    },
    {
     "name": "stdout",
     "output_type": "stream",
     "text": [
      "Starting 15-th embedding cycle...\n"
     ]
    },
    {
     "name": "stdout",
     "output_type": "stream",
     "text": [
      "Algorithm stopped due to increasing L-values. VALID embedding achieved ✓.\n",
      "[0, 6, 3, 14, 10, 12, 8, 4, 38, 30, 26, 22, 18, 28, 34][-0.0765334524170748, -0.03536118323121998, -0.04939788023952196, -0.08019230772439567, -0.03131590421175673, -0.026823549073244884, -0.0016661769569189522, -0.0036640817833800965, -0.009422567698553319, -0.015293592529299502, -0.01770825343935267, -0.009275914089030737, -0.001615382588728377, -0.004972168680994989]\n",
      "Initializing PECUZAL algorithm for univariate input...\n",
      "Starting 1-th embedding cycle...\n"
     ]
    },
    {
     "name": "stdout",
     "output_type": "stream",
     "text": [
      "Starting 2-th embedding cycle...\n"
     ]
    },
    {
     "name": "stdout",
     "output_type": "stream",
     "text": [
      "Starting 3-th embedding cycle..."
     ]
    },
    {
     "name": "stdout",
     "output_type": "stream",
     "text": [
      "\n",
      "Starting 4-th embedding cycle...\n"
     ]
    },
    {
     "name": "stdout",
     "output_type": "stream",
     "text": [
      "Starting 5-th embedding cycle...\n"
     ]
    },
    {
     "name": "stdout",
     "output_type": "stream",
     "text": [
      "Starting 6-th embedding cycle...\n"
     ]
    },
    {
     "name": "stdout",
     "output_type": "stream",
     "text": [
      "Starting 7-th embedding cycle...\n"
     ]
    },
    {
     "name": "stdout",
     "output_type": "stream",
     "text": [
      "Starting 8-th embedding cycle...\n"
     ]
    },
    {
     "name": "stdout",
     "output_type": "stream",
     "text": [
      "Algorithm stopped due to increasing L-values. VALID embedding achieved ✓.\n",
      "[0, 6, 3, 13, 10, 8, 19, 4][-0.036500805590299445, -0.05386300739626626, -0.04962602247421126, -0.04655230080977921, -0.030196541323688236, -0.02693881201592834, -0.003163312779015909]\n",
      "Initializing PECUZAL algorithm for univariate input...\n",
      "Starting 1-th embedding cycle..."
     ]
    },
    {
     "name": "stdout",
     "output_type": "stream",
     "text": [
      "\n",
      "Starting 2-th embedding cycle...\n"
     ]
    },
    {
     "name": "stdout",
     "output_type": "stream",
     "text": [
      "Starting 3-th embedding cycle...\n"
     ]
    },
    {
     "name": "stdout",
     "output_type": "stream",
     "text": [
      "Starting 4-th embedding cycle...\n"
     ]
    },
    {
     "name": "stdout",
     "output_type": "stream",
     "text": [
      "Starting 5-th embedding cycle...\n"
     ]
    },
    {
     "name": "stdout",
     "output_type": "stream",
     "text": [
      "Starting 6-th embedding cycle...\n"
     ]
    },
    {
     "name": "stdout",
     "output_type": "stream",
     "text": [
      "Starting 7-th embedding cycle...\n"
     ]
    },
    {
     "name": "stdout",
     "output_type": "stream",
     "text": [
      "Starting 8-th embedding cycle..."
     ]
    },
    {
     "name": "stdout",
     "output_type": "stream",
     "text": [
      "\n",
      "Starting 9-th embedding cycle...\n"
     ]
    },
    {
     "name": "stdout",
     "output_type": "stream",
     "text": [
      "Starting 10-th embedding cycle...\n"
     ]
    },
    {
     "name": "stdout",
     "output_type": "stream",
     "text": [
      "Starting 11-th embedding cycle..."
     ]
    },
    {
     "name": "stdout",
     "output_type": "stream",
     "text": [
      "\n",
      "Starting 12-th embedding cycle...\n"
     ]
    },
    {
     "name": "stdout",
     "output_type": "stream",
     "text": [
      "Starting 13-th embedding cycle..."
     ]
    },
    {
     "name": "stdout",
     "output_type": "stream",
     "text": [
      "\n",
      "Starting 14-th embedding cycle...\n"
     ]
    },
    {
     "name": "stdout",
     "output_type": "stream",
     "text": [
      "Starting 15-th embedding cycle...\n"
     ]
    },
    {
     "name": "stdout",
     "output_type": "stream",
     "text": [
      "Starting 16-th embedding cycle..."
     ]
    },
    {
     "name": "stdout",
     "output_type": "stream",
     "text": [
      "\n",
      "Algorithm stopped due to increasing L-values. VALID embedding achieved ✓.\n",
      "[0, 6, 3, 13, 10, 8, 18, 4, 16, 12, 35, 43, 39, 31, 27, 23][-0.03387118893807814, -0.033564221820263224, -0.041499780708390284, -0.04295997898833892, -0.030498557615686622, -0.03228109020881874, -0.00460620270704562, -0.0017154421565073463, -0.0022403687154669005, -0.002508508473727647, -0.0028388522694628437, -0.0065606904080227416, -0.004999330209721944, -0.009422785467685602, -0.0016725826516814368]\n",
      "Initializing PECUZAL algorithm for univariate input...\n",
      "Starting 1-th embedding cycle...\n"
     ]
    },
    {
     "name": "stdout",
     "output_type": "stream",
     "text": [
      "Starting 2-th embedding cycle...\n"
     ]
    },
    {
     "name": "stdout",
     "output_type": "stream",
     "text": [
      "Starting 3-th embedding cycle...\n"
     ]
    },
    {
     "name": "stdout",
     "output_type": "stream",
     "text": [
      "Starting 4-th embedding cycle..."
     ]
    },
    {
     "name": "stdout",
     "output_type": "stream",
     "text": [
      "\n",
      "Starting 5-th embedding cycle...\n"
     ]
    },
    {
     "name": "stdout",
     "output_type": "stream",
     "text": [
      "Starting 6-th embedding cycle...\n"
     ]
    },
    {
     "name": "stdout",
     "output_type": "stream",
     "text": [
      "Starting 7-th embedding cycle...\n"
     ]
    },
    {
     "name": "stdout",
     "output_type": "stream",
     "text": [
      "Algorithm stopped due to increasing L-values. VALID embedding achieved ✓.\n",
      "[0, 6, 3, 12, 9, 17, 14][-0.029547566879550208, -0.04303544417528046, -0.05368326559812881, -0.014542802483167527, -0.03635017569303117, -0.008392748973953257]\n",
      "Initializing PECUZAL algorithm for univariate input...\n",
      "Starting 1-th embedding cycle...\n"
     ]
    },
    {
     "name": "stdout",
     "output_type": "stream",
     "text": [
      "Starting 2-th embedding cycle...\n"
     ]
    },
    {
     "name": "stdout",
     "output_type": "stream",
     "text": [
      "Starting 3-th embedding cycle...\n"
     ]
    },
    {
     "name": "stdout",
     "output_type": "stream",
     "text": [
      "Starting 4-th embedding cycle...\n"
     ]
    },
    {
     "name": "stdout",
     "output_type": "stream",
     "text": [
      "Starting 5-th embedding cycle...\n"
     ]
    },
    {
     "name": "stdout",
     "output_type": "stream",
     "text": [
      "Starting 6-th embedding cycle..."
     ]
    },
    {
     "name": "stdout",
     "output_type": "stream",
     "text": [
      "\n",
      "Starting 7-th embedding cycle..."
     ]
    },
    {
     "name": "stdout",
     "output_type": "stream",
     "text": [
      "\n",
      "Starting 8-th embedding cycle...\n"
     ]
    },
    {
     "name": "stdout",
     "output_type": "stream",
     "text": [
      "Starting 9-th embedding cycle...\n"
     ]
    },
    {
     "name": "stdout",
     "output_type": "stream",
     "text": [
      "Starting 10-th embedding cycle..."
     ]
    },
    {
     "name": "stdout",
     "output_type": "stream",
     "text": [
      "\n",
      "Starting 11-th embedding cycle..."
     ]
    },
    {
     "name": "stdout",
     "output_type": "stream",
     "text": [
      "\n",
      "Starting 12-th embedding cycle...\n"
     ]
    },
    {
     "name": "stdout",
     "output_type": "stream",
     "text": [
      "Starting 13-th embedding cycle..."
     ]
    },
    {
     "name": "stdout",
     "output_type": "stream",
     "text": [
      "\n",
      "Starting 14-th embedding cycle...\n"
     ]
    },
    {
     "name": "stdout",
     "output_type": "stream",
     "text": [
      "Algorithm stopped due to increasing L-values. VALID embedding achieved ✓.\n",
      "[0, 6, 3, 13, 10, 8, 18, 4, 16, 12, 33, 29, 25, 21][-0.10207009147132845, -0.03334945688278587, -0.04440813085575445, -0.04666321228605627, -0.03146852581883808, -0.03080362761241469, -0.004832483937631471, -0.00197227116160667, -0.0021879322347251873, -0.00211114402100121, -0.0042017458264521634, -0.004575256599610719, -0.00407349365025355]\n",
      "Initializing PECUZAL algorithm for univariate input...\n",
      "Starting 1-th embedding cycle...\n"
     ]
    },
    {
     "name": "stdout",
     "output_type": "stream",
     "text": [
      "Starting 2-th embedding cycle...\n"
     ]
    },
    {
     "name": "stdout",
     "output_type": "stream",
     "text": [
      "Starting 3-th embedding cycle...\n"
     ]
    },
    {
     "name": "stdout",
     "output_type": "stream",
     "text": [
      "Starting 4-th embedding cycle...\n"
     ]
    },
    {
     "name": "stdout",
     "output_type": "stream",
     "text": [
      "Starting 5-th embedding cycle...\n"
     ]
    },
    {
     "name": "stdout",
     "output_type": "stream",
     "text": [
      "Starting 6-th embedding cycle...\n"
     ]
    },
    {
     "name": "stdout",
     "output_type": "stream",
     "text": [
      "Starting 7-th embedding cycle...\n"
     ]
    },
    {
     "name": "stdout",
     "output_type": "stream",
     "text": [
      "Starting 8-th embedding cycle..."
     ]
    },
    {
     "name": "stdout",
     "output_type": "stream",
     "text": [
      "\n",
      "Starting 9-th embedding cycle...\n"
     ]
    },
    {
     "name": "stdout",
     "output_type": "stream",
     "text": [
      "Starting 10-th embedding cycle...\n"
     ]
    },
    {
     "name": "stdout",
     "output_type": "stream",
     "text": [
      "Starting 11-th embedding cycle...\n"
     ]
    },
    {
     "name": "stdout",
     "output_type": "stream",
     "text": [
      "Starting 12-th embedding cycle...\n"
     ]
    },
    {
     "name": "stdout",
     "output_type": "stream",
     "text": [
      "Starting 13-th embedding cycle...\n"
     ]
    },
    {
     "name": "stdout",
     "output_type": "stream",
     "text": [
      "Starting 14-th embedding cycle...\n"
     ]
    },
    {
     "name": "stdout",
     "output_type": "stream",
     "text": [
      "Algorithm stopped due to increasing L-values. VALID embedding achieved ✓.\n",
      "[0, 6, 3, 14, 10, 12, 8, 4, 31, 19, 27, 29, 23, 17][-0.0351615320791748, -0.03778751214939843, -0.04892712166727798, -0.07884012323441647, -0.033352750841590756, -0.027077708005024487, -0.0013216169076568918, -0.0025210190489383943, -0.031729749122446804, -0.00047749265426590484, -0.006881262802943225, -0.0028289363825158564, -0.0005950529738190217]\n",
      "Initializing PECUZAL algorithm for univariate input...\n",
      "Starting 1-th embedding cycle..."
     ]
    },
    {
     "name": "stdout",
     "output_type": "stream",
     "text": [
      "\n",
      "Starting 2-th embedding cycle...\n"
     ]
    },
    {
     "name": "stdout",
     "output_type": "stream",
     "text": [
      "Starting 3-th embedding cycle...\n"
     ]
    },
    {
     "name": "stdout",
     "output_type": "stream",
     "text": [
      "Starting 4-th embedding cycle..."
     ]
    },
    {
     "name": "stdout",
     "output_type": "stream",
     "text": [
      "\n",
      "Starting 5-th embedding cycle...\n"
     ]
    },
    {
     "name": "stdout",
     "output_type": "stream",
     "text": [
      "Starting 6-th embedding cycle...\n"
     ]
    },
    {
     "name": "stdout",
     "output_type": "stream",
     "text": [
      "Starting 7-th embedding cycle...\n"
     ]
    },
    {
     "name": "stdout",
     "output_type": "stream",
     "text": [
      "Starting 8-th embedding cycle..."
     ]
    },
    {
     "name": "stdout",
     "output_type": "stream",
     "text": [
      "\n",
      "Algorithm stopped due to increasing L-values. VALID embedding achieved ✓.\n",
      "[0, 6, 3, 12, 9, 17, 15, 13][-0.03310170928445205, -0.041554606764578506, -0.06080741609390724, -0.015813436206677245, -0.03328818888889267, -0.009258846199934417, -0.0032747814121271146]\n",
      "Initializing PECUZAL algorithm for univariate input...\n",
      "Starting 1-th embedding cycle..."
     ]
    },
    {
     "name": "stdout",
     "output_type": "stream",
     "text": [
      "\n",
      "Starting 2-th embedding cycle..."
     ]
    },
    {
     "name": "stdout",
     "output_type": "stream",
     "text": [
      "\n",
      "Starting 3-th embedding cycle...\n"
     ]
    },
    {
     "name": "stdout",
     "output_type": "stream",
     "text": [
      "Starting 4-th embedding cycle...\n"
     ]
    },
    {
     "name": "stdout",
     "output_type": "stream",
     "text": [
      "Starting 5-th embedding cycle...\n"
     ]
    },
    {
     "name": "stdout",
     "output_type": "stream",
     "text": [
      "Starting 6-th embedding cycle...\n"
     ]
    },
    {
     "name": "stdout",
     "output_type": "stream",
     "text": [
      "Starting 7-th embedding cycle...\n"
     ]
    },
    {
     "name": "stdout",
     "output_type": "stream",
     "text": [
      "Starting 8-th embedding cycle..."
     ]
    },
    {
     "name": "stdout",
     "output_type": "stream",
     "text": [
      "\n",
      "Starting 9-th embedding cycle...\n"
     ]
    },
    {
     "name": "stdout",
     "output_type": "stream",
     "text": [
      "Starting 10-th embedding cycle...\n"
     ]
    },
    {
     "name": "stdout",
     "output_type": "stream",
     "text": [
      "Algorithm stopped due to increasing L-values. VALID embedding achieved ✓.\n",
      "[0, 6, 3, 14, 10, 8, 12, 20, 4, 38][-0.03288129764396178, -0.033157477268855456, -0.05019243321937898, -0.07814502596663281, -0.028146857351466492, -0.026462640480614225, -0.03440918998221085, -0.00035988282293092366, -0.0029447468726834652]\n",
      "Initializing PECUZAL algorithm for univariate input...\n",
      "Starting 1-th embedding cycle..."
     ]
    },
    {
     "name": "stdout",
     "output_type": "stream",
     "text": [
      "\n",
      "Starting 2-th embedding cycle...\n"
     ]
    },
    {
     "name": "stdout",
     "output_type": "stream",
     "text": [
      "Starting 3-th embedding cycle...\n"
     ]
    },
    {
     "name": "stdout",
     "output_type": "stream",
     "text": [
      "Starting 4-th embedding cycle...\n"
     ]
    },
    {
     "name": "stdout",
     "output_type": "stream",
     "text": [
      "Starting 5-th embedding cycle...\n"
     ]
    },
    {
     "name": "stdout",
     "output_type": "stream",
     "text": [
      "Starting 6-th embedding cycle..."
     ]
    },
    {
     "name": "stdout",
     "output_type": "stream",
     "text": [
      "\n",
      "Starting 7-th embedding cycle...\n"
     ]
    },
    {
     "name": "stdout",
     "output_type": "stream",
     "text": [
      "Starting 8-th embedding cycle...\n"
     ]
    },
    {
     "name": "stdout",
     "output_type": "stream",
     "text": [
      "Starting 9-th embedding cycle...\n"
     ]
    },
    {
     "name": "stdout",
     "output_type": "stream",
     "text": [
      "Starting 10-th embedding cycle...\n"
     ]
    },
    {
     "name": "stdout",
     "output_type": "stream",
     "text": [
      "Starting 11-th embedding cycle...\n"
     ]
    },
    {
     "name": "stdout",
     "output_type": "stream",
     "text": [
      "Starting 12-th embedding cycle...\n"
     ]
    },
    {
     "name": "stdout",
     "output_type": "stream",
     "text": [
      "Starting 13-th embedding cycle...\n"
     ]
    },
    {
     "name": "stdout",
     "output_type": "stream",
     "text": [
      "Starting 14-th embedding cycle..."
     ]
    },
    {
     "name": "stdout",
     "output_type": "stream",
     "text": [
      "\n",
      "Starting 15-th embedding cycle..."
     ]
    },
    {
     "name": "stdout",
     "output_type": "stream",
     "text": [
      "\n",
      "Starting 16-th embedding cycle..."
     ]
    },
    {
     "name": "stdout",
     "output_type": "stream",
     "text": [
      "\n",
      "Algorithm stopped due to increasing L-values. VALID embedding achieved ✓.\n",
      "[0, 6, 3, 14, 10, 12, 8, 4, 39, 30, 26, 22, 18, 28, 24, 16][-0.02954094193578874, -0.023251100138720088, -0.05094075491366995, -0.0801512591251611, -0.03229609648118567, -0.026581876942414512, -0.002088843781623939, -0.006360651207271695, -0.00949951557372343, -0.014742551775651258, -0.016034754914329114, -0.012743450350654335, -0.0019922752011817535, -0.00025045227547763893, -0.0001393879032835759]\n",
      "Initializing PECUZAL algorithm for univariate input...\n",
      "Starting 1-th embedding cycle...\n"
     ]
    },
    {
     "name": "stdout",
     "output_type": "stream",
     "text": [
      "Algorithm stopped due to increasing L-values in the first embedding cycle. Valid embedding NOT achieved ⨉.\n",
      "[0]Float64[]\n",
      "Initializing PECUZAL algorithm for univariate input...\n",
      "Starting 1-th embedding cycle...\n"
     ]
    },
    {
     "name": "stdout",
     "output_type": "stream",
     "text": [
      "Starting 2-th embedding cycle...\n"
     ]
    },
    {
     "name": "stdout",
     "output_type": "stream",
     "text": [
      "Starting 3-th embedding cycle...\n"
     ]
    },
    {
     "name": "stdout",
     "output_type": "stream",
     "text": [
      "Starting 4-th embedding cycle...\n"
     ]
    },
    {
     "name": "stdout",
     "output_type": "stream",
     "text": [
      "Starting 5-th embedding cycle...\n"
     ]
    },
    {
     "name": "stdout",
     "output_type": "stream",
     "text": [
      "Starting 6-th embedding cycle..."
     ]
    },
    {
     "name": "stdout",
     "output_type": "stream",
     "text": [
      "\n",
      "Starting 7-th embedding cycle...\n"
     ]
    },
    {
     "name": "stdout",
     "output_type": "stream",
     "text": [
      "Starting 8-th embedding cycle...\n"
     ]
    },
    {
     "name": "stdout",
     "output_type": "stream",
     "text": [
      "Algorithm stopped due to increasing L-values. VALID embedding achieved ✓.\n",
      "[0, 6, 3, 13, 10, 8, 18, 4][-0.008993926485790615, -0.02797260984145425, -0.052740620621052586, -0.04293060542994373, -0.029027779194254866, -0.03290296819416466, -0.002806262557161765]\n",
      "Initializing PECUZAL algorithm for univariate input...\n",
      "Starting 1-th embedding cycle...\n"
     ]
    },
    {
     "name": "stdout",
     "output_type": "stream",
     "text": [
      "Starting 2-th embedding cycle...\n"
     ]
    },
    {
     "name": "stdout",
     "output_type": "stream",
     "text": [
      "Starting 3-th embedding cycle...\n"
     ]
    },
    {
     "name": "stdout",
     "output_type": "stream",
     "text": [
      "Starting 4-th embedding cycle...\n"
     ]
    },
    {
     "name": "stdout",
     "output_type": "stream",
     "text": [
      "Starting 5-th embedding cycle...\n"
     ]
    },
    {
     "name": "stdout",
     "output_type": "stream",
     "text": [
      "Starting 6-th embedding cycle...\n"
     ]
    },
    {
     "name": "stdout",
     "output_type": "stream",
     "text": [
      "Starting 7-th embedding cycle...\n"
     ]
    },
    {
     "name": "stdout",
     "output_type": "stream",
     "text": [
      "Starting 8-th embedding cycle...\n"
     ]
    },
    {
     "name": "stdout",
     "output_type": "stream",
     "text": [
      "Algorithm stopped due to increasing L-values. VALID embedding achieved ✓.\n",
      "[0, 6, 3, 13, 10, 8, 18, 4][-0.01662301761034629, -0.04436621246869146, -0.050002174335474985, -0.04504623734210805, -0.030501055288165907, -0.030086704296801048, -0.004161443077977334]\n",
      "Initializing PECUZAL algorithm for univariate input...\n",
      "Starting 1-th embedding cycle..."
     ]
    },
    {
     "name": "stdout",
     "output_type": "stream",
     "text": [
      "\n",
      "Starting 2-th embedding cycle...\n"
     ]
    },
    {
     "name": "stdout",
     "output_type": "stream",
     "text": [
      "Starting 3-th embedding cycle..."
     ]
    },
    {
     "name": "stdout",
     "output_type": "stream",
     "text": [
      "\n",
      "Starting 4-th embedding cycle..."
     ]
    },
    {
     "name": "stdout",
     "output_type": "stream",
     "text": [
      "\n",
      "Starting 5-th embedding cycle...\n"
     ]
    },
    {
     "name": "stdout",
     "output_type": "stream",
     "text": [
      "Starting 6-th embedding cycle...\n",
      "Starting 7-th embedding cycle..."
     ]
    },
    {
     "name": "stdout",
     "output_type": "stream",
     "text": [
      "\n"
     ]
    },
    {
     "name": "stdout",
     "output_type": "stream",
     "text": [
      "Starting 8-th embedding cycle...\n"
     ]
    },
    {
     "name": "stdout",
     "output_type": "stream",
     "text": [
      "Algorithm stopped due to increasing L-values. VALID embedding achieved ✓.\n",
      "[0, 6, 3, 13, 10, 8, 18, 4][-0.07102045086562024, -0.03672201302010342, -0.05221953106387269, -0.042188649319840704, -0.030899997902378074, -0.034622098679087096, -0.002792372594278336]\n",
      "Initializing PECUZAL algorithm for univariate input...\n",
      "Starting 1-th embedding cycle..."
     ]
    },
    {
     "name": "stdout",
     "output_type": "stream",
     "text": [
      "\n",
      "Starting 2-th embedding cycle...\n"
     ]
    },
    {
     "name": "stdout",
     "output_type": "stream",
     "text": [
      "Starting 3-th embedding cycle...\n"
     ]
    },
    {
     "name": "stdout",
     "output_type": "stream",
     "text": [
      "Starting 4-th embedding cycle...\n"
     ]
    },
    {
     "name": "stdout",
     "output_type": "stream",
     "text": [
      "Starting 5-th embedding cycle...\n"
     ]
    },
    {
     "name": "stdout",
     "output_type": "stream",
     "text": [
      "Starting 6-th embedding cycle...\n"
     ]
    },
    {
     "name": "stdout",
     "output_type": "stream",
     "text": [
      "Starting 7-th embedding cycle...\n"
     ]
    },
    {
     "name": "stdout",
     "output_type": "stream",
     "text": [
      "Starting 8-th embedding cycle...\n"
     ]
    },
    {
     "name": "stdout",
     "output_type": "stream",
     "text": [
      "Starting 9-th embedding cycle...\n"
     ]
    },
    {
     "name": "stdout",
     "output_type": "stream",
     "text": [
      "Starting 10-th embedding cycle..."
     ]
    },
    {
     "name": "stdout",
     "output_type": "stream",
     "text": [
      "\n",
      "Starting 11-th embedding cycle..."
     ]
    },
    {
     "name": "stdout",
     "output_type": "stream",
     "text": [
      "\n",
      "Starting 12-th embedding cycle...\n"
     ]
    },
    {
     "name": "stdout",
     "output_type": "stream",
     "text": [
      "Starting 13-th embedding cycle...\n"
     ]
    },
    {
     "name": "stdout",
     "output_type": "stream",
     "text": [
      "Starting 14-th embedding cycle...\n"
     ]
    },
    {
     "name": "stdout",
     "output_type": "stream",
     "text": [
      "Algorithm stopped due to increasing L-values. VALID embedding achieved ✓.\n",
      "[0, 6, 3, 13, 10, 8, 18, 4, 16, 35, 30, 25, 22, 20][-0.01636074384904168, -0.02955916462788538, -0.05627953043505145, -0.04432197791291709, -0.03190081234536005, -0.03411245479517086, -0.004384002031702028, -0.00027763653006906974, -0.0015794043052704265, -0.0022853328951485258, -0.006104971976295967, -0.003540557049397864, -0.0009711117281685777]\n",
      "Initializing PECUZAL algorithm for univariate input...\n",
      "Starting 1-th embedding cycle..."
     ]
    },
    {
     "name": "stdout",
     "output_type": "stream",
     "text": [
      "\n",
      "Starting 2-th embedding cycle...\n"
     ]
    },
    {
     "name": "stdout",
     "output_type": "stream",
     "text": [
      "Starting 3-th embedding cycle...\n"
     ]
    },
    {
     "name": "stdout",
     "output_type": "stream",
     "text": [
      "Starting 4-th embedding cycle...\n"
     ]
    },
    {
     "name": "stdout",
     "output_type": "stream",
     "text": [
      "Starting 5-th embedding cycle...\n"
     ]
    },
    {
     "name": "stdout",
     "output_type": "stream",
     "text": [
      "Starting 6-th embedding cycle...\n"
     ]
    },
    {
     "name": "stdout",
     "output_type": "stream",
     "text": [
      "Starting 7-th embedding cycle...\n"
     ]
    },
    {
     "name": "stdout",
     "output_type": "stream",
     "text": [
      "Starting 8-th embedding cycle..."
     ]
    },
    {
     "name": "stdout",
     "output_type": "stream",
     "text": [
      "\n",
      "Algorithm stopped due to increasing L-values. VALID embedding achieved ✓.\n",
      "[0, 6, 3, 12, 17, 14, 9, 10][-0.061975468139859796, -0.029351960086512557, -0.057816321172067885, -0.023481843596958693, -0.012408904917456248, -0.011463136235356344, -0.0037709841326490634]\n",
      "Initializing PECUZAL algorithm for univariate input...\n",
      "Starting 1-th embedding cycle...\n"
     ]
    },
    {
     "name": "stdout",
     "output_type": "stream",
     "text": [
      "Starting 2-th embedding cycle...\n"
     ]
    },
    {
     "name": "stdout",
     "output_type": "stream",
     "text": [
      "Starting 3-th embedding cycle...\n"
     ]
    },
    {
     "name": "stdout",
     "output_type": "stream",
     "text": [
      "Starting 4-th embedding cycle...\n"
     ]
    },
    {
     "name": "stdout",
     "output_type": "stream",
     "text": [
      "Starting 5-th embedding cycle...\n"
     ]
    },
    {
     "name": "stdout",
     "output_type": "stream",
     "text": [
      "Starting 6-th embedding cycle..."
     ]
    },
    {
     "name": "stdout",
     "output_type": "stream",
     "text": [
      "\n",
      "Starting 7-th embedding cycle..."
     ]
    },
    {
     "name": "stdout",
     "output_type": "stream",
     "text": [
      "\n",
      "Starting 8-th embedding cycle..."
     ]
    },
    {
     "name": "stdout",
     "output_type": "stream",
     "text": [
      "\n",
      "Starting 9-th embedding cycle...\n"
     ]
    },
    {
     "name": "stdout",
     "output_type": "stream",
     "text": [
      "Starting 10-th embedding cycle...\n"
     ]
    },
    {
     "name": "stdout",
     "output_type": "stream",
     "text": [
      "Starting 11-th embedding cycle...\n"
     ]
    },
    {
     "name": "stdout",
     "output_type": "stream",
     "text": [
      "Starting 12-th embedding cycle...\n"
     ]
    },
    {
     "name": "stdout",
     "output_type": "stream",
     "text": [
      "Starting 13-th embedding cycle..."
     ]
    },
    {
     "name": "stdout",
     "output_type": "stream",
     "text": [
      "\n",
      "Starting 14-th embedding cycle..."
     ]
    },
    {
     "name": "stdout",
     "output_type": "stream",
     "text": [
      "\n",
      "Starting 15-th embedding cycle..."
     ]
    },
    {
     "name": "stdout",
     "output_type": "stream",
     "text": [
      "\n",
      "Algorithm stopped due to increasing L-values. VALID embedding achieved ✓.\n",
      "[0, 6, 3, 15, 11, 13, 9, 7, 39, 30, 26, 22, 19, 24, 28][-0.0517698785193849, -0.04249402581445472, -0.03672256215553864, -0.07094698698817963, -0.03181205361122752, -0.015161666770691695, -0.002845839008943002, -0.0014373762924494438, -0.005426372850684716, -0.010481996334797385, -0.012160693888816057, -0.0037628872175862983, -0.0005840107434315761, -0.0001928727136310815]\n",
      "Initializing PECUZAL algorithm for univariate input...\n",
      "Starting 1-th embedding cycle...\n"
     ]
    },
    {
     "name": "stdout",
     "output_type": "stream",
     "text": [
      "Starting 2-th embedding cycle...\n"
     ]
    },
    {
     "name": "stdout",
     "output_type": "stream",
     "text": [
      "Starting 3-th embedding cycle...\n"
     ]
    },
    {
     "name": "stdout",
     "output_type": "stream",
     "text": [
      "Starting 4-th embedding cycle...\n"
     ]
    },
    {
     "name": "stdout",
     "output_type": "stream",
     "text": [
      "Starting 5-th embedding cycle...\n"
     ]
    },
    {
     "name": "stdout",
     "output_type": "stream",
     "text": [
      "Starting 6-th embedding cycle...\n"
     ]
    },
    {
     "name": "stdout",
     "output_type": "stream",
     "text": [
      "Starting 7-th embedding cycle...\n"
     ]
    },
    {
     "name": "stdout",
     "output_type": "stream",
     "text": [
      "Starting 8-th embedding cycle...\n"
     ]
    },
    {
     "name": "stdout",
     "output_type": "stream",
     "text": [
      "Starting 9-th embedding cycle...\n"
     ]
    },
    {
     "name": "stdout",
     "output_type": "stream",
     "text": [
      "Starting 10-th embedding cycle...\n"
     ]
    },
    {
     "name": "stdout",
     "output_type": "stream",
     "text": [
      "Starting 11-th embedding cycle...\n"
     ]
    },
    {
     "name": "stdout",
     "output_type": "stream",
     "text": [
      "Starting 12-th embedding cycle...\n"
     ]
    },
    {
     "name": "stdout",
     "output_type": "stream",
     "text": [
      "Algorithm stopped due to increasing L-values. VALID embedding achieved ✓.\n",
      "[0, 6, 3, 12, 9, 17, 15, 13, 31, 24, 21, 19][-0.04034609540251696, -0.03195988071323064, -0.05919759551441837, -0.014813196356351116, -0.0365729836969881, -0.0069144443585511806, -0.002582431670477253, -0.0007748537785070495, -0.012515687130043095, -0.00751415314595346, -0.003637726598308827]\n",
      "Initializing PECUZAL algorithm for univariate input...\n",
      "Starting 1-th embedding cycle...\n"
     ]
    },
    {
     "name": "stdout",
     "output_type": "stream",
     "text": [
      "Starting 2-th embedding cycle..."
     ]
    },
    {
     "name": "stdout",
     "output_type": "stream",
     "text": [
      "\n",
      "Starting 3-th embedding cycle..."
     ]
    },
    {
     "name": "stdout",
     "output_type": "stream",
     "text": [
      "\n",
      "Starting 4-th embedding cycle...\n"
     ]
    },
    {
     "name": "stdout",
     "output_type": "stream",
     "text": [
      "Starting 5-th embedding cycle...\n"
     ]
    },
    {
     "name": "stdout",
     "output_type": "stream",
     "text": [
      "Starting 6-th embedding cycle...\n"
     ]
    },
    {
     "name": "stdout",
     "output_type": "stream",
     "text": [
      "Starting 7-th embedding cycle...\n"
     ]
    },
    {
     "name": "stdout",
     "output_type": "stream",
     "text": [
      "Starting 8-th embedding cycle...\n"
     ]
    },
    {
     "name": "stdout",
     "output_type": "stream",
     "text": [
      "Algorithm stopped due to increasing L-values. VALID embedding achieved ✓.\n",
      "[0, 6, 3, 13, 10, 8, 19, 4][-0.007736750949771831, -0.031337912093208714, -0.054827321636515075, -0.049474713564349904, -0.0343040037526442, -0.025728214801476794, -0.0042265542439968995]\n",
      "Initializing PECUZAL algorithm for univariate input...\n",
      "Starting 1-th embedding cycle..."
     ]
    },
    {
     "name": "stdout",
     "output_type": "stream",
     "text": [
      "\n",
      "Starting 2-th embedding cycle...\n",
      "Starting 3-th embedding cycle..."
     ]
    },
    {
     "name": "stdout",
     "output_type": "stream",
     "text": [
      "\n"
     ]
    },
    {
     "name": "stdout",
     "output_type": "stream",
     "text": [
      "Starting 4-th embedding cycle...\n"
     ]
    },
    {
     "name": "stdout",
     "output_type": "stream",
     "text": [
      "Starting 5-th embedding cycle...\n"
     ]
    },
    {
     "name": "stdout",
     "output_type": "stream",
     "text": [
      "Starting 6-th embedding cycle...\n"
     ]
    },
    {
     "name": "stdout",
     "output_type": "stream",
     "text": [
      "Starting 7-th embedding cycle...\n"
     ]
    },
    {
     "name": "stdout",
     "output_type": "stream",
     "text": [
      "Starting 8-th embedding cycle...\n"
     ]
    },
    {
     "name": "stdout",
     "output_type": "stream",
     "text": [
      "Algorithm stopped due to increasing L-values. VALID embedding achieved ✓.\n",
      "[0, 6, 3, 12, 17, 14, 9, 10][-0.02811091127918705, -0.03172603882328978, -0.057014321175297734, -0.016958132509249588, -0.019695724664580444, -0.010667370892213743, -0.0035104536059443747]\n",
      "Initializing PECUZAL algorithm for univariate input...\n",
      "Starting 1-th embedding cycle...\n"
     ]
    },
    {
     "name": "stdout",
     "output_type": "stream",
     "text": [
      "Starting 2-th embedding cycle...\n"
     ]
    },
    {
     "name": "stdout",
     "output_type": "stream",
     "text": [
      "Starting 3-th embedding cycle...\n"
     ]
    },
    {
     "name": "stdout",
     "output_type": "stream",
     "text": [
      "Starting 4-th embedding cycle...\n"
     ]
    },
    {
     "name": "stdout",
     "output_type": "stream",
     "text": [
      "Starting 5-th embedding cycle...\n"
     ]
    },
    {
     "name": "stdout",
     "output_type": "stream",
     "text": [
      "Starting 6-th embedding cycle...\n"
     ]
    },
    {
     "name": "stdout",
     "output_type": "stream",
     "text": [
      "Starting 7-th embedding cycle...\n"
     ]
    },
    {
     "name": "stdout",
     "output_type": "stream",
     "text": [
      "Starting 8-th embedding cycle...\n"
     ]
    },
    {
     "name": "stdout",
     "output_type": "stream",
     "text": [
      "Algorithm stopped due to increasing L-values. VALID embedding achieved ✓.\n",
      "[0, 6, 3, 13, 10, 8, 19, 4][-0.06252392702585896, -0.026970949972647623, -0.057271261419159, -0.04383414736707447, -0.030285055354927648, -0.02703537491384289, -0.0028979603750552974]\n",
      "Initializing PECUZAL algorithm for univariate input...\n",
      "Starting 1-th embedding cycle..."
     ]
    },
    {
     "name": "stdout",
     "output_type": "stream",
     "text": [
      "\n",
      "Algorithm stopped due to increasing L-values in the first embedding cycle. Valid embedding NOT achieved ⨉.\n",
      "[0]Float64[]\n",
      "Initializing PECUZAL algorithm for univariate input...\n",
      "Starting 1-th embedding cycle..."
     ]
    },
    {
     "name": "stdout",
     "output_type": "stream",
     "text": [
      "\n",
      "Starting 2-th embedding cycle..."
     ]
    },
    {
     "name": "stdout",
     "output_type": "stream",
     "text": [
      "\n",
      "Starting 3-th embedding cycle..."
     ]
    },
    {
     "name": "stdout",
     "output_type": "stream",
     "text": [
      "\n",
      "Starting 4-th embedding cycle..."
     ]
    },
    {
     "name": "stdout",
     "output_type": "stream",
     "text": [
      "\n",
      "Starting 5-th embedding cycle...\n"
     ]
    },
    {
     "name": "stdout",
     "output_type": "stream",
     "text": [
      "Starting 6-th embedding cycle...\n"
     ]
    },
    {
     "name": "stdout",
     "output_type": "stream",
     "text": [
      "Algorithm stopped due to increasing L-values. VALID embedding achieved ✓.\n",
      "[0, 6, 3, 12, 9, 18][-0.024606830417600895, -0.040353486403030464, -0.056165666499740675, -0.01487439784401004, -0.035661296260327414]\n"
     ]
    }
   ],
   "source": [
    "for i = 26:100\n",
    "    # fid = h5open(\"E:/LearningEmbedding/data_collection/Lorenz96/lorenz96_N8_no\"*string(i)*\".h5\", \"r\")\n",
    "    fid = h5open(\"E:/LearningEmbedding/data_collection/Lorenz96/noisy_lorenz96_N8_no\"*string(i)*\".h5\", \"r\")\n",
    "    Y = fid[\"xM\"]\n",
    "\n",
    "    s = vec(Y[:, 2]) # input timeseries = y-component of Lorenz\n",
    "    theiler = estimate_delay(s, \"mi_min\") # estimate a Theiler window\n",
    "    Tmax = 50 # maximum possible delay\n",
    "    close(fid)\n",
    "\n",
    "    Recon_pec, τ_vals, ts_vals, Ls, εs = pecuzal_embedding(s; τs = 0:Tmax , w = theiler, L_threshold=0.0, econ = true)\n",
    "    println(τ_vals, Ls)\n",
    "    ff = h5open(\"e:/LearningEmbedding/results/PECUZAL/Lorenz96/noisy_lorenz96_uni_no\"*string(i)*\".h5\", \"w\")\n",
    "    N = size(Recon_pec,1)\n",
    "    if length(size(Recon_pec)) > 1\n",
    "        ff[\"Embedding\"] = Matrix(Recon_pec)\n",
    "    else\n",
    "        Recon_pec = reshape(Recon_pec,N,1)\n",
    "        ff[\"Embedding\"] = Matrix(Recon_pec)\n",
    "    end\n",
    "    # ff[\"Embedding\"] = Matrix(Recon_pec)\n",
    "    ff[\"delays\"] = τ_vals\n",
    "    close(ff)\n",
    "    \n",
    "end"
   ]
  },
  {
   "cell_type": "code",
   "execution_count": 6,
   "metadata": {},
   "outputs": [
    {
     "name": "stdout",
     "output_type": "stream",
     "text": [
      "Algorithm stopped due to sufficiently small FNNs. Valid embedding achieved ✓.\n",
      "[0, 36, 47, 11, 23, 50, 5]\n"
     ]
    },
    {
     "name": "stdout",
     "output_type": "stream",
     "text": [
      "Algorithm stopped due to sufficiently small FNNs. Valid embedding achieved ✓.\n",
      "[0, 36, 11, 48, 24, 42, 6]\n"
     ]
    },
    {
     "name": "stdout",
     "output_type": "stream",
     "text": [
      "Algorithm stopped due to sufficiently small FNNs. Valid embedding achieved ✓.\n",
      "[0, 37, 25, 11, 49, 42]\n"
     ]
    },
    {
     "name": "stdout",
     "output_type": "stream",
     "text": [
      "Algorithm stopped due to sufficiently small FNNs. Valid embedding achieved ✓.\n",
      "[0, 37, 13, 49, 24, 8]\n"
     ]
    },
    {
     "name": "stdout",
     "output_type": "stream",
     "text": [
      "Algorithm stopped due to sufficiently small FNNs. Valid embedding achieved ✓.\n",
      "[0, 37, 12, 48, 24, 42]\n"
     ]
    },
    {
     "name": "stdout",
     "output_type": "stream",
     "text": [
      "Algorithm stopped due to sufficiently small FNNs. Valid embedding achieved ✓.\n",
      "[0, 6, 36, 50, 45, 12, 40]\n"
     ]
    },
    {
     "name": "stdout",
     "output_type": "stream",
     "text": [
      "Algorithm stopped due to sufficiently small FNNs. Valid embedding achieved ✓.\n",
      "[0, 36, 24, 50, 12, 40, 8]\n"
     ]
    },
    {
     "name": "stdout",
     "output_type": "stream",
     "text": [
      "Algorithm stopped due to sufficiently small FNNs. Valid embedding achieved ✓.\n",
      "[0, 24, 36, 50, 12, 46, 4]"
     ]
    },
    {
     "name": "stdout",
     "output_type": "stream",
     "text": [
      "\n",
      "Algorithm stopped due to sufficiently small FNNs. Valid embedding achieved ✓.\n",
      "[0, 6, 35, 50, 46, 18, 10]"
     ]
    },
    {
     "name": "stdout",
     "output_type": "stream",
     "text": [
      "\n",
      "Algorithm stopped due to sufficiently small FNNs. Valid embedding achieved ✓.\n",
      "[0, 36, 11, 47, 22, 5, 50]\n"
     ]
    },
    {
     "name": "stdout",
     "output_type": "stream",
     "text": [
      "Algorithm stopped due to sufficiently small FNNs. Valid embedding achieved ✓.\n",
      "[0, 25, 50, 36, 12, 41, 8]"
     ]
    },
    {
     "name": "stdout",
     "output_type": "stream",
     "text": [
      "\n",
      "Algorithm stopped due to sufficiently small FNNs. Valid embedding achieved ✓.\n",
      "[0, 25, 50, 14, 39, 9]\n"
     ]
    },
    {
     "name": "stdout",
     "output_type": "stream",
     "text": [
      "Algorithm stopped due to sufficiently small FNNs. Valid embedding achieved ✓.\n",
      "[0, 36, 11, 46, 50, 5]\n"
     ]
    },
    {
     "name": "stdout",
     "output_type": "stream",
     "text": [
      "Algorithm stopped due to sufficiently small FNNs. Valid embedding achieved ✓.\n",
      "[0, 37, 25, 50, 12, 41]\n"
     ]
    },
    {
     "name": "stdout",
     "output_type": "stream",
     "text": [
      "Algorithm stopped due to sufficiently small FNNs. Valid embedding achieved ✓.\n",
      "[0, 25, 35, 49, 10, 41, 4]\n"
     ]
    },
    {
     "name": "stdout",
     "output_type": "stream",
     "text": [
      "Algorithm stopped due to sufficiently small FNNs. Valid embedding achieved ✓.\n",
      "[0, 37, 25, 50, 13, 42]\n"
     ]
    },
    {
     "name": "stdout",
     "output_type": "stream",
     "text": [
      "Algorithm stopped due to sufficiently small FNNs. Valid embedding achieved ✓.\n",
      "[0, 36, 12, 48, 4, 42, 18]\n"
     ]
    },
    {
     "name": "stdout",
     "output_type": "stream",
     "text": [
      "Algorithm stopped due to sufficiently small FNNs. Valid embedding achieved ✓.\n",
      "[0, 37, 25, 50, 13, 41, 7]"
     ]
    },
    {
     "name": "stdout",
     "output_type": "stream",
     "text": [
      "\n",
      "Algorithm stopped due to sufficiently small FNNs. Valid embedding achieved ✓.\n",
      "[0, 25, 37, 49, 12, 42]"
     ]
    },
    {
     "name": "stdout",
     "output_type": "stream",
     "text": [
      "\n",
      "Algorithm stopped due to sufficiently small FNNs. Valid embedding achieved ✓.\n",
      "[0, 25, 36, 50, 12, 41, 4]"
     ]
    },
    {
     "name": "stdout",
     "output_type": "stream",
     "text": [
      "\n",
      "Algorithm stopped due to sufficiently small FNNs. Valid embedding achieved ✓.\n",
      "[0, 37, 12, 48, 24, 4]\n"
     ]
    },
    {
     "name": "stdout",
     "output_type": "stream",
     "text": [
      "Algorithm stopped due to sufficiently small FNNs. Valid embedding achieved ✓.\n",
      "[0, 36, 12, 48, 23, 40]\n"
     ]
    },
    {
     "name": "stdout",
     "output_type": "stream",
     "text": [
      "Algorithm stopped due to sufficiently small FNNs. Valid embedding achieved ✓.\n",
      "[0, 25, 35, 50, 10, 40, 4]"
     ]
    },
    {
     "name": "stdout",
     "output_type": "stream",
     "text": [
      "\n",
      "Algorithm stopped due to sufficiently small FNNs. Valid embedding achieved ✓.\n",
      "[0, 36, 11, 48, 24, 40]\n"
     ]
    },
    {
     "name": "stdout",
     "output_type": "stream",
     "text": [
      "Algorithm stopped due to sufficiently small FNNs. Valid embedding achieved ✓.\n",
      "[0, 25, 50, 14, 38, 10]"
     ]
    },
    {
     "name": "stdout",
     "output_type": "stream",
     "text": [
      "\n",
      "Algorithm stopped due to sufficiently small FNNs. Valid embedding achieved ✓.\n",
      "[0, 37, 12, 48, 23, 7]"
     ]
    },
    {
     "name": "stdout",
     "output_type": "stream",
     "text": [
      "\n",
      "Algorithm stopped due to sufficiently small FNNs. Valid embedding achieved ✓.\n",
      "[0, 36, 12, 47, 23, 50]"
     ]
    },
    {
     "name": "stdout",
     "output_type": "stream",
     "text": [
      "\n",
      "Algorithm stopped due to sufficiently small FNNs. Valid embedding achieved ✓.\n",
      "[0, 36, 11, 48, 24, 44]\n"
     ]
    },
    {
     "name": "stdout",
     "output_type": "stream",
     "text": [
      "Algorithm stopped due to sufficiently small FNNs. Valid embedding achieved ✓.\n",
      "[0, 36, 11, 47, 24, 41, 7]"
     ]
    },
    {
     "name": "stdout",
     "output_type": "stream",
     "text": [
      "\n",
      "Algorithm stopped due to sufficiently small FNNs. Valid embedding achieved ✓.\n",
      "[0, 36, 11, 47, 24, 50, 5]\n"
     ]
    },
    {
     "name": "stdout",
     "output_type": "stream",
     "text": [
      "Algorithm stopped due to sufficiently small FNNs. Valid embedding achieved ✓.\n",
      "[0, 36, 11, 48, 23, 40]\n"
     ]
    },
    {
     "name": "stdout",
     "output_type": "stream",
     "text": [
      "Algorithm stopped due to sufficiently small FNNs. Valid embedding achieved ✓.\n",
      "[0, 36, 10, 47, 22, 50, 5]\n"
     ]
    },
    {
     "name": "stdout",
     "output_type": "stream",
     "text": [
      "Algorithm stopped due to sufficiently small FNNs. Valid embedding achieved ✓.\n",
      "[0, 36, 11, 47, 22, 5]\n"
     ]
    },
    {
     "name": "stdout",
     "output_type": "stream",
     "text": [
      "Algorithm stopped due to sufficiently small FNNs. Valid embedding achieved ✓.\n",
      "[0, 37, 13, 48, 25, 9]\n"
     ]
    },
    {
     "name": "stdout",
     "output_type": "stream",
     "text": [
      "Algorithm stopped due to sufficiently small FNNs. Valid embedding achieved ✓.\n",
      "[0, 37, 13, 49, 24, 45, 9]"
     ]
    },
    {
     "name": "stdout",
     "output_type": "stream",
     "text": [
      "\n",
      "Algorithm stopped due to sufficiently small FNNs. Valid embedding achieved ✓.\n",
      "[0, 6, 13, 49, 38, 24]\n"
     ]
    },
    {
     "name": "stdout",
     "output_type": "stream",
     "text": [
      "Algorithm stopped due to sufficiently small FNNs. Valid embedding achieved ✓.\n",
      "[0, 36, 11, 48, 23, 40]\n"
     ]
    },
    {
     "name": "stdout",
     "output_type": "stream",
     "text": [
      "Algorithm stopped due to sufficiently small FNNs. Valid embedding achieved ✓.\n",
      "[0, 37, 12, 47, 42, 4, 28]"
     ]
    },
    {
     "name": "stdout",
     "output_type": "stream",
     "text": [
      "\n",
      "Algorithm stopped due to sufficiently small FNNs. Valid embedding achieved ✓.\n",
      "[0, 36, 11, 47, 24, 50, 4]\n"
     ]
    },
    {
     "name": "stdout",
     "output_type": "stream",
     "text": [
      "Algorithm stopped due to sufficiently small FNNs. Valid embedding achieved ✓.\n",
      "[0, 37, 12, 47, 23, 7, 50]"
     ]
    },
    {
     "name": "stdout",
     "output_type": "stream",
     "text": [
      "\n",
      "Algorithm stopped due to sufficiently small FNNs. Valid embedding achieved ✓.\n",
      "[0, 37, 26, 50, 12, 43, 5]\n"
     ]
    },
    {
     "name": "stdout",
     "output_type": "stream",
     "text": [
      "Algorithm stopped due to sufficiently small FNNs. Valid embedding achieved ✓.\n",
      "[0, 36, 11, 48, 24, 40]\n"
     ]
    },
    {
     "name": "stdout",
     "output_type": "stream",
     "text": [
      "Algorithm stopped due to sufficiently small FNNs. Valid embedding achieved ✓.\n",
      "[0, 6, 37, 50, 13, 46]"
     ]
    },
    {
     "name": "stdout",
     "output_type": "stream",
     "text": [
      "\n",
      "Algorithm stopped due to sufficiently small FNNs. Valid embedding achieved ✓.\n",
      "[0, 36, 10, 47, 22, 32]"
     ]
    },
    {
     "name": "stdout",
     "output_type": "stream",
     "text": [
      "\n",
      "Algorithm stopped due to sufficiently small FNNs. Valid embedding achieved ✓.\n",
      "[0, 36, 11, 48, 24, 41]\n"
     ]
    },
    {
     "name": "stdout",
     "output_type": "stream",
     "text": [
      "Algorithm stopped due to sufficiently small FNNs. Valid embedding achieved ✓.\n",
      "[0, 24, 49, 35, 12, 40, 8]\n"
     ]
    },
    {
     "name": "stdout",
     "output_type": "stream",
     "text": [
      "Algorithm stopped due to sufficiently small FNNs. Valid embedding achieved ✓.\n",
      "[0, 25, 50, 36, 12, 40, 5]\n"
     ]
    },
    {
     "name": "stdout",
     "output_type": "stream",
     "text": [
      "Algorithm stopped due to sufficiently small FNNs. Valid embedding achieved ✓.\n",
      "[0, 37, 11, 25, 50, 43]\n"
     ]
    },
    {
     "name": "stdout",
     "output_type": "stream",
     "text": [
      "Algorithm stopped due to sufficiently small FNNs. Valid embedding achieved ✓.\n",
      "[0, 36, 25, 50, 11, 42]\n"
     ]
    },
    {
     "name": "stdout",
     "output_type": "stream",
     "text": [
      "Algorithm stopped due to sufficiently small FNNs. Valid embedding achieved ✓.\n",
      "[0, 36, 12, 48, 24, 40]"
     ]
    },
    {
     "name": "stdout",
     "output_type": "stream",
     "text": [
      "\n",
      "Algorithm stopped due to sufficiently small FNNs. Valid embedding achieved ✓.\n",
      "[0, 25, 50, 35, 11, 40, 7]"
     ]
    },
    {
     "name": "stdout",
     "output_type": "stream",
     "text": [
      "\n",
      "Algorithm stopped due to sufficiently small FNNs. Valid embedding achieved ✓.\n",
      "[0, 25, 50, 14, 38, 45, 5]\n"
     ]
    },
    {
     "name": "stdout",
     "output_type": "stream",
     "text": [
      "Algorithm stopped due to sufficiently small FNNs. Valid embedding achieved ✓.\n",
      "[0, 6, 37, 50, 13, 46]\n"
     ]
    },
    {
     "name": "stdout",
     "output_type": "stream",
     "text": [
      "Algorithm stopped due to sufficiently small FNNs. Valid embedding achieved ✓.\n",
      "[0, 37, 12, 49, 24, 8, 45]\n"
     ]
    },
    {
     "name": "stdout",
     "output_type": "stream",
     "text": [
      "Algorithm stopped due to sufficiently small FNNs. Valid embedding achieved ✓.\n",
      "[0, 36, 11, 47, 24, 41]\n"
     ]
    },
    {
     "name": "stdout",
     "output_type": "stream",
     "text": [
      "Algorithm stopped due to sufficiently small FNNs. Valid embedding achieved ✓.\n",
      "[0, 36, 24, 49, 12, 40]\n"
     ]
    },
    {
     "name": "stdout",
     "output_type": "stream",
     "text": [
      "Algorithm stopped due to sufficiently small FNNs. Valid embedding achieved ✓.\n",
      "[0, 36, 11, 47, 24, 41, 4]\n"
     ]
    },
    {
     "name": "stdout",
     "output_type": "stream",
     "text": [
      "Algorithm stopped due to sufficiently small FNNs. Valid embedding achieved ✓.\n",
      "[0, 26, 50, 14, 39, 9]\n"
     ]
    },
    {
     "name": "stdout",
     "output_type": "stream",
     "text": [
      "Algorithm stopped due to sufficiently small FNNs. Valid embedding achieved ✓.\n",
      "[0, 36, 11, 47, 23, 50]\n"
     ]
    },
    {
     "name": "stdout",
     "output_type": "stream",
     "text": [
      "Algorithm stopped due to sufficiently small FNNs. Valid embedding achieved ✓.\n",
      "[0, 25, 36, 50, 11, 43, 5]\n"
     ]
    },
    {
     "name": "stdout",
     "output_type": "stream",
     "text": [
      "Algorithm stopped due to sufficiently small FNNs. Valid embedding achieved ✓.\n",
      "[0, 24, 36, 50, 11, 40]\n"
     ]
    },
    {
     "name": "stdout",
     "output_type": "stream",
     "text": [
      "Algorithm stopped due to sufficiently small FNNs. Valid embedding achieved ✓.\n",
      "[0, 37, 12, 48, 25, 7, 43]\n"
     ]
    },
    {
     "name": "stdout",
     "output_type": "stream",
     "text": [
      "Algorithm stopped due to sufficiently small FNNs. Valid embedding achieved ✓.\n",
      "[0, 36, 11, 46, 50, 5, 32]\n"
     ]
    },
    {
     "name": "stdout",
     "output_type": "stream",
     "text": [
      "Algorithm stopped due to sufficiently small FNNs. Valid embedding achieved ✓.\n",
      "[0, 36, 25, 50, 12, 40]\n"
     ]
    },
    {
     "name": "stdout",
     "output_type": "stream",
     "text": [
      "Algorithm stopped due to sufficiently small FNNs. Valid embedding achieved ✓.\n",
      "[0, 6, 36, 50, 11, 45]\n"
     ]
    },
    {
     "name": "stdout",
     "output_type": "stream",
     "text": [
      "Algorithm stopped due to sufficiently small FNNs. Valid embedding achieved ✓.\n",
      "[0, 37, 24, 11, 49, 42, 6]"
     ]
    },
    {
     "name": "stdout",
     "output_type": "stream",
     "text": [
      "\n",
      "Algorithm stopped due to sufficiently small FNNs. Valid embedding achieved ✓.\n",
      "[0, 36, 12, 48, 24, 40, 7]\n"
     ]
    },
    {
     "name": "stdout",
     "output_type": "stream",
     "text": [
      "Algorithm stopped due to sufficiently small FNNs. Valid embedding achieved ✓.\n",
      "[0, 37, 12, 48, 25, 42]"
     ]
    },
    {
     "name": "stdout",
     "output_type": "stream",
     "text": [
      "\n",
      "Algorithm stopped due to sufficiently small FNNs. Valid embedding achieved ✓.\n",
      "[0, 25, 36, 50, 12, 42]\n"
     ]
    },
    {
     "name": "stdout",
     "output_type": "stream",
     "text": [
      "Algorithm stopped due to sufficiently small FNNs. Valid embedding achieved ✓.\n",
      "[0, 6, 37, 31, 47, 13, 42]\n"
     ]
    },
    {
     "name": "stdout",
     "output_type": "stream",
     "text": [
      "Algorithm stopped due to sufficiently small FNNs. Valid embedding achieved ✓.\n",
      "[0, 36, 12, 48, 23, 41]\n"
     ]
    },
    {
     "name": "stdout",
     "output_type": "stream",
     "text": [
      "Algorithm stopped due to sufficiently small FNNs. Valid embedding achieved ✓.\n",
      "[0, 37, 47, 12, 24, 50]"
     ]
    },
    {
     "name": "stdout",
     "output_type": "stream",
     "text": [
      "\n",
      "Algorithm stopped due to sufficiently small FNNs. Valid embedding achieved ✓.\n",
      "[0, 37, 11, 48, 25, 43]\n"
     ]
    },
    {
     "name": "stdout",
     "output_type": "stream",
     "text": [
      "Algorithm stopped due to sufficiently small FNNs. Valid embedding achieved ✓.\n",
      "[0, 25, 50, 36, 11, 40]"
     ]
    },
    {
     "name": "stdout",
     "output_type": "stream",
     "text": [
      "\n",
      "Algorithm stopped due to sufficiently small FNNs. Valid embedding achieved ✓.\n",
      "[0, 36, 11, 47, 22, 5, 50]"
     ]
    },
    {
     "name": "stdout",
     "output_type": "stream",
     "text": [
      "\n",
      "Algorithm stopped due to sufficiently small FNNs. Valid embedding achieved ✓.\n",
      "[0, 37, 12, 48, 23, 8]\n"
     ]
    },
    {
     "name": "stdout",
     "output_type": "stream",
     "text": [
      "Algorithm stopped due to sufficiently small FNNs. Valid embedding achieved ✓.\n",
      "[0, 37, 25, 50, 12, 42, 6]"
     ]
    },
    {
     "name": "stdout",
     "output_type": "stream",
     "text": [
      "\n",
      "Algorithm stopped due to sufficiently small FNNs. Valid embedding achieved ✓.\n",
      "[0, 36, 24, 50, 12, 40, 5]"
     ]
    },
    {
     "name": "stdout",
     "output_type": "stream",
     "text": [
      "\n",
      "Algorithm stopped due to sufficiently small FNNs. Valid embedding achieved ✓.\n",
      "[0, 37, 13, 48, 4, 44]\n"
     ]
    },
    {
     "name": "stdout",
     "output_type": "stream",
     "text": [
      "Algorithm stopped due to sufficiently small FNNs. Valid embedding achieved ✓.\n",
      "[0, 37, 11, 47, 24, 32]"
     ]
    },
    {
     "name": "stdout",
     "output_type": "stream",
     "text": [
      "\n",
      "Algorithm stopped due to sufficiently small FNNs. Valid embedding achieved ✓.\n",
      "[0, 36, 24, 50, 12, 40, 7]\n"
     ]
    },
    {
     "name": "stdout",
     "output_type": "stream",
     "text": [
      "Algorithm stopped due to sufficiently small FNNs. Valid embedding achieved ✓.\n",
      "[0, 36, 24, 50, 12, 7, 41]"
     ]
    },
    {
     "name": "stdout",
     "output_type": "stream",
     "text": [
      "\n",
      "Algorithm stopped due to sufficiently small FNNs. Valid embedding achieved ✓.\n",
      "[0, 24, 36, 50, 11, 41, 7]\n"
     ]
    },
    {
     "name": "stdout",
     "output_type": "stream",
     "text": [
      "Algorithm stopped due to sufficiently small FNNs. Valid embedding achieved ✓.\n",
      "[0, 37, 12, 48, 23, 7, 42]\n"
     ]
    },
    {
     "name": "stdout",
     "output_type": "stream",
     "text": [
      "Algorithm stopped due to sufficiently small FNNs. Valid embedding achieved ✓.\n",
      "[0, 37, 12, 49, 24, 42, 7]\n"
     ]
    },
    {
     "name": "stdout",
     "output_type": "stream",
     "text": [
      "Algorithm stopped due to sufficiently small FNNs. Valid embedding achieved ✓.\n",
      "[0, 37, 25, 50, 11, 42, 6]"
     ]
    },
    {
     "name": "stdout",
     "output_type": "stream",
     "text": [
      "\n",
      "Algorithm stopped due to sufficiently small FNNs. Valid embedding achieved ✓.\n",
      "[0, 36, 11, 48, 24, 41, 5]\n"
     ]
    },
    {
     "name": "stdout",
     "output_type": "stream",
     "text": [
      "Algorithm stopped due to sufficiently small FNNs. Valid embedding achieved ✓.\n",
      "[0, 37, 12, 48, 24, 7, 42]\n"
     ]
    },
    {
     "name": "stdout",
     "output_type": "stream",
     "text": [
      "Algorithm stopped due to sufficiently small FNNs. Valid embedding achieved ✓.\n",
      "[0, 36, 11, 46, 50, 5]\n"
     ]
    },
    {
     "name": "stdout",
     "output_type": "stream",
     "text": [
      "Algorithm stopped due to sufficiently small FNNs. Valid embedding achieved ✓.\n",
      "[0, 36, 11, 48, 23, 40]\n"
     ]
    },
    {
     "name": "stdout",
     "output_type": "stream",
     "text": [
      "Algorithm stopped due to sufficiently small FNNs. Valid embedding achieved ✓.\n",
      "[0, 36, 10, 47, 23, 40, 6]"
     ]
    },
    {
     "name": "stdout",
     "output_type": "stream",
     "text": [
      "\n",
      "Algorithm stopped due to sufficiently small FNNs. Valid embedding achieved ✓.\n",
      "[0, 37, 24, 50, 12, 46]\n"
     ]
    },
    {
     "name": "stdout",
     "output_type": "stream",
     "text": [
      "Algorithm stopped due to sufficiently small FNNs. Valid embedding achieved ✓.\n",
      "[0, 25, 35, 50, 11, 41]\n"
     ]
    },
    {
     "name": "stdout",
     "output_type": "stream",
     "text": [
      "Algorithm stopped due to sufficiently small FNNs. Valid embedding achieved ✓.\n",
      "[0, 37, 12, 49, 25, 42]\n"
     ]
    },
    {
     "name": "stdout",
     "output_type": "stream",
     "text": [
      "Algorithm stopped due to sufficiently small FNNs. Valid embedding achieved ✓.\n",
      "[0, 25, 50, 36, 12, 41]\n"
     ]
    },
    {
     "name": "stdout",
     "output_type": "stream",
     "text": [
      "Algorithm stopped due to sufficiently small FNNs. Valid embedding achieved ✓.\n",
      "[0, 36, 12, 49, 24, 41, 7]\n"
     ]
    },
    {
     "name": "stdout",
     "output_type": "stream",
     "text": [
      "Algorithm stopped due to sufficiently small FNNs. Valid embedding achieved ✓.\n",
      "[0, 36, 11, 47, 23, 50, 5]\n"
     ]
    },
    {
     "name": "stdout",
     "output_type": "stream",
     "text": [
      "Algorithm stopped due to sufficiently small FNNs. Valid embedding achieved ✓.\n",
      "[0, 37, 12, 47, 23, 42]\n"
     ]
    },
    {
     "name": "stdout",
     "output_type": "stream",
     "text": [
      "Algorithm stopped due to sufficiently small FNNs. Valid embedding achieved ✓.\n",
      "[0, 36, 11, 47, 24, 42, 5]"
     ]
    },
    {
     "name": "stdout",
     "output_type": "stream",
     "text": [
      "\n",
      "Algorithm stopped due to sufficiently small FNNs. Valid embedding achieved ✓.\n",
      "[0, 24, 48, 35, 10, 40]\n"
     ]
    }
   ],
   "source": [
    "for i = 1:100\n",
    "    # fid = h5open(\"E:/LearningEmbedding/data_collection/Lorenz96/lorenz96_N8_no\"*string(i)*\".h5\", \"r\")\n",
    "    fid = h5open(\"E:/LearningEmbedding/data_collection/Lorenz96/noisy_lorenz96_N8_no\"*string(i)*\".h5\", \"r\")\n",
    "    Y = fid[\"xM\"]\n",
    "\n",
    "    s = vec(Y[:, 2]) # input timeseries = y-component of Lorenz\n",
    "    w = estimate_delay(s, \"mi_min\") #\n",
    "    # tw = mdop_maximum_delay(s, 1:50) #\n",
    "    # lm = findlocalminima(tw[2])\n",
    "    # if lm[1] ≤ 2\n",
    "    #     lmm = try lm[2]\n",
    "    #     catch\n",
    "    #         lm[1]\n",
    "    #     end\n",
    "    # else\n",
    "    #     lmm = lm[1]\n",
    "    # end\n",
    "    taus_mdop = 0:50\n",
    "    # taus_mdop = 0:lmm\n",
    "    # println(lm)\n",
    "    close(fid)\n",
    "\n",
    "    Recon_mdop, τ_vals_mdop, ts_vals_mdop, FNNs_mdop , βs_mdop = mdop_embedding(s; τs = taus_mdop , w = w)\n",
    "    println(τ_vals_mdop)\n",
    "    ff = h5open(\"e:/LearningEmbedding/results/MDOP/Lorenz96/noisy_lorenz96_uni_no\"*string(i)*\".h5\", \"w\")\n",
    "    N = size(Recon_mdop,1)\n",
    "    if length(size(Recon_mdop)) > 1\n",
    "        ff[\"Embedding\"] = Matrix(Recon_mdop)\n",
    "    else\n",
    "        Recon_mdop = reshape(Recon_mdop,N,1)\n",
    "        ff[\"Embedding\"] = Matrix(Recon_mdop)\n",
    "    end\n",
    "    ff[\"delays\"] = τ_vals_mdop\n",
    "    close(ff)\n",
    "    \n",
    "end"
   ]
  },
  {
   "cell_type": "code",
   "execution_count": 2,
   "metadata": {},
   "outputs": [
    {
     "name": "stdout",
     "output_type": "stream",
     "text": [
      "Algorithm stopped due to sufficiently small FNNs. Valid embedding achieved ✓.\n"
     ]
    },
    {
     "name": "stdout",
     "output_type": "stream",
     "text": [
      "[0, 6, 2, 1, 3, 4]\n"
     ]
    },
    {
     "name": "stdout",
     "output_type": "stream",
     "text": [
      "Algorithm stopped due to sufficiently small FNNs. Valid embedding achieved ✓.\n",
      "[0, 6, 3, 1, 2, 4]"
     ]
    },
    {
     "name": "stdout",
     "output_type": "stream",
     "text": [
      "\n",
      "Algorithm stopped due to sufficiently small FNNs. Valid embedding achieved ✓.\n",
      "[0, 6, 2, 1, 3, 5]\n"
     ]
    },
    {
     "name": "stdout",
     "output_type": "stream",
     "text": [
      "Algorithm stopped due to sufficiently small FNNs. Valid embedding achieved ✓.\n",
      "[0, 6, 2, 1, 3, 4]\n"
     ]
    },
    {
     "name": "stdout",
     "output_type": "stream",
     "text": [
      "Algorithm stopped due to sufficiently small FNNs. Valid embedding achieved ✓.\n",
      "[0, 6, 2, 1, 3, 4]\n"
     ]
    },
    {
     "name": "stdout",
     "output_type": "stream",
     "text": [
      "Algorithm stopped due to sufficiently small FNNs. Valid embedding achieved ✓.\n",
      "[0, 6, 1, 3, 2, 4]\n"
     ]
    },
    {
     "name": "stdout",
     "output_type": "stream",
     "text": [
      "Algorithm stopped due to rising FNNs. Valid embedding achieved ✓.\n",
      "[0, 5, 2, 1, 3, 4]\n"
     ]
    },
    {
     "name": "stdout",
     "output_type": "stream",
     "text": [
      "Algorithm stopped due to sufficiently small FNNs. Valid embedding achieved ✓.\n",
      "[0, 6, 3, 1, 2, 4]\n"
     ]
    },
    {
     "name": "stdout",
     "output_type": "stream",
     "text": [
      "Algorithm stopped due to sufficiently small FNNs. Valid embedding achieved ✓.\n",
      "[0, 6, 1, 2, 3, 4]\n"
     ]
    },
    {
     "name": "stdout",
     "output_type": "stream",
     "text": [
      "Algorithm stopped due to sufficiently small FNNs. Valid embedding achieved ✓.\n",
      "[0, 6, 2, 1, 3, 4]\n"
     ]
    },
    {
     "name": "stdout",
     "output_type": "stream",
     "text": [
      "Algorithm stopped due to rising FNNs. Valid embedding achieved ✓.\n",
      "[0, 5, 2, 1, 3, 4]"
     ]
    },
    {
     "name": "stdout",
     "output_type": "stream",
     "text": [
      "\n",
      "Algorithm stopped due to sufficiently small FNNs. Valid embedding achieved ✓.\n",
      "[0, 6, 2, 1, 3, 4]\n"
     ]
    },
    {
     "name": "stdout",
     "output_type": "stream",
     "text": [
      "Algorithm stopped due to rising FNNs. Valid embedding achieved ✓.\n",
      "[0, 5, 1, 2, 3, 4]\n"
     ]
    },
    {
     "name": "stdout",
     "output_type": "stream",
     "text": [
      "Algorithm stopped due to sufficiently small FNNs. Valid embedding achieved ✓.\n",
      "[0, 6, 3, 1, 2, 4]"
     ]
    },
    {
     "name": "stdout",
     "output_type": "stream",
     "text": [
      "\n",
      "Algorithm stopped due to sufficiently small FNNs. Valid embedding achieved ✓.\n",
      "[0, 6, 2, 1, 4, 3]\n"
     ]
    },
    {
     "name": "stdout",
     "output_type": "stream",
     "text": [
      "Algorithm stopped due to sufficiently small FNNs. Valid embedding achieved ✓.\n",
      "[0, 6, 2, 1, 3, 4"
     ]
    },
    {
     "name": "stdout",
     "output_type": "stream",
     "text": [
      "]\n",
      "Algorithm stopped due to sufficiently small FNNs. Valid embedding achieved ✓.\n",
      "[0, 6, 1, 3, 2, 4]"
     ]
    },
    {
     "name": "stdout",
     "output_type": "stream",
     "text": [
      "\n",
      "Algorithm stopped due to rising FNNs. Valid embedding achieved ✓.\n",
      "[0, 2, 1]\n"
     ]
    },
    {
     "name": "stdout",
     "output_type": "stream",
     "text": [
      "Algorithm stopped due to sufficiently small FNNs. Valid embedding achieved ✓.\n",
      "[0, 6, 2, 1, 3, 4]\n"
     ]
    },
    {
     "name": "stdout",
     "output_type": "stream",
     "text": [
      "Algorithm stopped due to sufficiently small FNNs. Valid embedding achieved ✓.\n",
      "[0, 6, 2, 1, 3, 4]\n"
     ]
    },
    {
     "name": "stdout",
     "output_type": "stream",
     "text": [
      "Algorithm stopped due to sufficiently small FNNs. Valid embedding achieved ✓.\n",
      "[0, 6, 2, 1, 3, 4]\n"
     ]
    },
    {
     "name": "stdout",
     "output_type": "stream",
     "text": [
      "Algorithm stopped due to sufficiently small FNNs. Valid embedding achieved ✓.\n",
      "[0, 6, 2, 1, 3, 4]\n"
     ]
    },
    {
     "name": "stdout",
     "output_type": "stream",
     "text": [
      "Algorithm stopped due to sufficiently small FNNs. Valid embedding achieved ✓.\n",
      "[0, 6, 2, 1, 3, 4]\n"
     ]
    },
    {
     "name": "stdout",
     "output_type": "stream",
     "text": [
      "Algorithm stopped due to sufficiently small FNNs. Valid embedding achieved ✓.\n",
      "[0, 6, 2, 1, 3, 4]"
     ]
    },
    {
     "name": "stdout",
     "output_type": "stream",
     "text": [
      "\n",
      "Algorithm stopped due to sufficiently small FNNs. Valid embedding achieved ✓.\n",
      "[0, 6, 2, 1, 3, 4]\n"
     ]
    },
    {
     "name": "stdout",
     "output_type": "stream",
     "text": [
      "Algorithm stopped due to sufficiently small FNNs. Valid embedding achieved ✓.\n",
      "[0, 6, 3, 1, 2, 4]\n"
     ]
    },
    {
     "name": "stdout",
     "output_type": "stream",
     "text": [
      "Algorithm stopped due to sufficiently small FNNs. Valid embedding achieved ✓.\n",
      "[0, 6, 2, 1, 3, 4]\n"
     ]
    },
    {
     "name": "stdout",
     "output_type": "stream",
     "text": [
      "Algorithm stopped due to sufficiently small FNNs. Valid embedding achieved ✓.\n",
      "[0, 6, 2, 1, 3, 4]\n"
     ]
    },
    {
     "name": "stdout",
     "output_type": "stream",
     "text": [
      "Algorithm stopped due to rising FNNs. Valid embedding achieved ✓.\n",
      "[0, 3, 1, 2]\n"
     ]
    },
    {
     "name": "stdout",
     "output_type": "stream",
     "text": [
      "Algorithm stopped due to sufficiently small FNNs. Valid embedding achieved ✓.\n",
      "[0, 6, 2, 1, 3, 4]\n"
     ]
    },
    {
     "name": "stdout",
     "output_type": "stream",
     "text": [
      "Algorithm stopped due to sufficiently small FNNs. Valid embedding achieved ✓.\n",
      "[0, 6, 3, 1, 2, 4]"
     ]
    },
    {
     "name": "stdout",
     "output_type": "stream",
     "text": [
      "\n",
      "Algorithm stopped due to sufficiently small FNNs. Valid embedding achieved ✓.\n",
      "[0, 6, 2, 1, 3, 4]\n"
     ]
    },
    {
     "name": "stdout",
     "output_type": "stream",
     "text": [
      "Algorithm stopped due to sufficiently small FNNs. Valid embedding achieved ✓.\n",
      "[0, 6, 2, 1, 3, 4]\n"
     ]
    },
    {
     "name": "stdout",
     "output_type": "stream",
     "text": [
      "Algorithm stopped due to sufficiently small FNNs. Valid embedding achieved ✓.\n",
      "[0, 6, 3, 1, 2, 4]\n"
     ]
    },
    {
     "name": "stdout",
     "output_type": "stream",
     "text": [
      "Algorithm stopped due to sufficiently small FNNs. Valid embedding achieved ✓.\n",
      "[0, 6, 3, 1, 2, 4]\n"
     ]
    },
    {
     "name": "stdout",
     "output_type": "stream",
     "text": [
      "Algorithm stopped due to sufficiently small FNNs. Valid embedding achieved ✓.\n",
      "[0, 6, 2, 1, 3, 4]\n"
     ]
    },
    {
     "name": "stdout",
     "output_type": "stream",
     "text": [
      "Algorithm stopped due to sufficiently small FNNs. Valid embedding achieved ✓.\n",
      "[0, 6, 3, 1, 2, 4]\n"
     ]
    },
    {
     "name": "stdout",
     "output_type": "stream",
     "text": [
      "Algorithm stopped due to sufficiently small FNNs. Valid embedding achieved ✓.\n",
      "[0, 6, 1, 3, 2, 4]\n"
     ]
    },
    {
     "name": "stdout",
     "output_type": "stream",
     "text": [
      "Algorithm stopped due to sufficiently small FNNs. Valid embedding achieved ✓.\n",
      "[0, 6, 3, 1, 2, 4]\n"
     ]
    },
    {
     "name": "stdout",
     "output_type": "stream",
     "text": [
      "Algorithm stopped due to sufficiently small FNNs. Valid embedding achieved ✓.\n",
      "[0, 6, 3, 1, 2, 4]\n"
     ]
    },
    {
     "name": "stdout",
     "output_type": "stream",
     "text": [
      "Algorithm stopped due to sufficiently small FNNs. Valid embedding achieved ✓.\n",
      "[0, 6, 3, 1, 2, 4]\n"
     ]
    }
   ],
   "source": [
    "for i = 60:100\n",
    "    # fid = h5open(\"E:/LearningEmbedding/data_collection/Lorenz96/lorenz96_N8_no\"*string(i)*\".h5\", \"r\")\n",
    "    fid = h5open(\"E:/LearningEmbedding/data_collection/Lorenz96/noisy_lorenz96_N8_no\"*string(i)*\".h5\", \"r\")\n",
    "    Y = fid[\"xM\"]\n",
    "\n",
    "    s = vec(Y[:, 2]) # input timeseries = y-component of Lorenz\n",
    "    theiler = estimate_delay(s, \"mi_min\") # estimate a Theiler window\n",
    "    Tmax = 50 # maximum possible delay\n",
    "    close(fid)\n",
    "\n",
    "    Recon_GA, τ_vals_GA, ts_vals_GA, FNNs_GA , ns_GA = garcia_almeida_embedding(s; τs = 0:Tmax , w = theiler, T = theiler)\n",
    "    println(τ_vals_GA)\n",
    "    ff = h5open(\"e:/LearningEmbedding/results/GA/Lorenz96/noisy_lorenz96_uni_no\"*string(i)*\".h5\", \"cw\")\n",
    "    N = size(Recon_GA,1)\n",
    "    if length(size(Recon_GA)) > 1\n",
    "        ff[\"Embedding\"] = Matrix(Recon_GA)\n",
    "    else\n",
    "        Recon_GA = reshape(Recon_GA,N,1)\n",
    "        ff[\"Embedding\"] = Matrix(Recon_GA)\n",
    "    end\n",
    "    ff[\"delays\"] = τ_vals_GA\n",
    "    close(ff)\n",
    "    \n",
    "end\n"
   ]
  }
 ],
 "metadata": {
  "kernelspec": {
   "display_name": "Julia 1.9.3",
   "language": "julia",
   "name": "julia-1.9"
  },
  "language_info": {
   "file_extension": ".jl",
   "mimetype": "application/julia",
   "name": "julia",
   "version": "1.9.3"
  }
 },
 "nbformat": 4,
 "nbformat_minor": 2
}
