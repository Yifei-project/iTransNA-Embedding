{
 "cells": [
  {
   "cell_type": "code",
   "execution_count": 1,
   "metadata": {},
   "outputs": [],
   "source": [
    "using DynamicalSystems\n",
    "using DelayEmbeddings\n",
    "using HDF5"
   ]
  },
  {
   "cell_type": "markdown",
   "metadata": {},
   "source": [
    "### Lorenz system"
   ]
  },
  {
   "cell_type": "code",
   "execution_count": 3,
   "metadata": {},
   "outputs": [
    {
     "name": "stdout",
     "output_type": "stream",
     "text": [
      "Initializing PECUZAL algorithm for multivariate input...\n",
      "Starting 1-th embedding cycle...\n"
     ]
    },
    {
     "name": "stdout",
     "output_type": "stream",
     "text": [
      "Starting 2-th embedding cycle...\n"
     ]
    },
    {
     "name": "stdout",
     "output_type": "stream",
     "text": [
      "Starting 3-th embedding cycle...\n"
     ]
    },
    {
     "name": "stdout",
     "output_type": "stream",
     "text": [
      "Starting 4-th embedding cycle...\n"
     ]
    },
    {
     "name": "stdout",
     "output_type": "stream",
     "text": [
      "Starting 5-th embedding cycle...\n"
     ]
    },
    {
     "name": "stdout",
     "output_type": "stream",
     "text": [
      "Starting 6-th embedding cycle...\n"
     ]
    },
    {
     "name": "stdout",
     "output_type": "stream",
     "text": [
      "Algorithm stopped due to increasing L-values. VALID embedding achieved ✓.\n",
      "[0, 1, 12, 14, 7, 5][2, 1, 1, 1, 2, 2]\n"
     ]
    },
    {
     "name": "stdout",
     "output_type": "stream",
     "text": [
      "Initializing PECUZAL algorithm for multivariate input...\n",
      "Starting 1-th embedding cycle...\n"
     ]
    },
    {
     "name": "stdout",
     "output_type": "stream",
     "text": [
      "Starting 2-th embedding cycle...\n"
     ]
    },
    {
     "name": "stdout",
     "output_type": "stream",
     "text": [
      "Starting 3-th embedding cycle...\n"
     ]
    },
    {
     "name": "stdout",
     "output_type": "stream",
     "text": [
      "Starting 4-th embedding cycle...\n"
     ]
    },
    {
     "name": "stdout",
     "output_type": "stream",
     "text": [
      "Starting 5-th embedding cycle...\n"
     ]
    },
    {
     "name": "stdout",
     "output_type": "stream",
     "text": [
      "Starting 6-th embedding cycle...\n"
     ]
    },
    {
     "name": "stdout",
     "output_type": "stream",
     "text": [
      "Starting 7-th embedding cycle...\n"
     ]
    },
    {
     "name": "stdout",
     "output_type": "stream",
     "text": [
      "Algorithm stopped due to increasing L-values. VALID embedding achieved ✓.\n",
      "[0, 1, 12, 10, 8, 2, 4][2, 1, 1, 1, 1, 2, 2]\n"
     ]
    },
    {
     "name": "stdout",
     "output_type": "stream",
     "text": [
      "Initializing PECUZAL algorithm for multivariate input...\n",
      "Starting 1-th embedding cycle...\n"
     ]
    },
    {
     "name": "stdout",
     "output_type": "stream",
     "text": [
      "Starting 2-th embedding cycle...\n"
     ]
    },
    {
     "name": "stdout",
     "output_type": "stream",
     "text": [
      "Starting 3-th embedding cycle...\n"
     ]
    },
    {
     "name": "stdout",
     "output_type": "stream",
     "text": [
      "Starting 4-th embedding cycle...\n",
      "Starting 5-th embedding cycle..."
     ]
    },
    {
     "name": "stdout",
     "output_type": "stream",
     "text": [
      "\n"
     ]
    },
    {
     "name": "stdout",
     "output_type": "stream",
     "text": [
      "Starting 6-th embedding cycle...\n"
     ]
    },
    {
     "name": "stdout",
     "output_type": "stream",
     "text": [
      "Algorithm stopped due to increasing L-values. VALID embedding achieved ✓.\n",
      "[0, 1, 12, 14, 7, 5][2, 1, 1, 1, 2, 2]\n"
     ]
    },
    {
     "name": "stdout",
     "output_type": "stream",
     "text": [
      "Initializing PECUZAL algorithm for multivariate input...\n",
      "Starting 1-th embedding cycle..."
     ]
    },
    {
     "name": "stdout",
     "output_type": "stream",
     "text": [
      "\n",
      "Starting 2-th embedding cycle..."
     ]
    },
    {
     "name": "stdout",
     "output_type": "stream",
     "text": [
      "\n",
      "Starting 3-th embedding cycle...\n"
     ]
    },
    {
     "name": "stdout",
     "output_type": "stream",
     "text": [
      "Starting 4-th embedding cycle...\n"
     ]
    },
    {
     "name": "stdout",
     "output_type": "stream",
     "text": [
      "Starting 5-th embedding cycle...\n"
     ]
    },
    {
     "name": "stdout",
     "output_type": "stream",
     "text": [
      "Starting 6-th embedding cycle...\n"
     ]
    },
    {
     "name": "stdout",
     "output_type": "stream",
     "text": [
      "Algorithm stopped due to increasing L-values. VALID embedding achieved ✓.\n",
      "[0, 1, 12, 14, 8, 6][2, 1, 1, 1, 2, 2]\n"
     ]
    },
    {
     "name": "stdout",
     "output_type": "stream",
     "text": [
      "Initializing PECUZAL algorithm for multivariate input...\n",
      "Starting 1-th embedding cycle...\n"
     ]
    },
    {
     "name": "stdout",
     "output_type": "stream",
     "text": [
      "Starting 2-th embedding cycle...\n"
     ]
    },
    {
     "name": "stdout",
     "output_type": "stream",
     "text": [
      "Starting 3-th embedding cycle...\n"
     ]
    },
    {
     "name": "stdout",
     "output_type": "stream",
     "text": [
      "Starting 4-th embedding cycle...\n"
     ]
    },
    {
     "name": "stdout",
     "output_type": "stream",
     "text": [
      "Starting 5-th embedding cycle...\n"
     ]
    },
    {
     "name": "stdout",
     "output_type": "stream",
     "text": [
      "Starting 6-th embedding cycle..."
     ]
    },
    {
     "name": "stdout",
     "output_type": "stream",
     "text": [
      "\n",
      "Starting 7-th embedding cycle...\n"
     ]
    },
    {
     "name": "stdout",
     "output_type": "stream",
     "text": [
      "Starting 8-th embedding cycle..."
     ]
    },
    {
     "name": "stdout",
     "output_type": "stream",
     "text": [
      "\n",
      "Starting 9-th embedding cycle...\n"
     ]
    },
    {
     "name": "stdout",
     "output_type": "stream",
     "text": [
      "Algorithm stopped due to increasing L-values. VALID embedding achieved ✓.\n",
      "[0, 1, 12, 14, 6, 4, 1, 2, 7][2, 1, 1, 1, 1, 1, 2, 2, 2]\n"
     ]
    },
    {
     "name": "stdout",
     "output_type": "stream",
     "text": [
      "Initializing PECUZAL algorithm for multivariate input...\n",
      "Starting 1-th embedding cycle...\n"
     ]
    },
    {
     "name": "stdout",
     "output_type": "stream",
     "text": [
      "Starting 2-th embedding cycle...\n"
     ]
    },
    {
     "name": "stdout",
     "output_type": "stream",
     "text": [
      "Starting 3-th embedding cycle...\n"
     ]
    },
    {
     "name": "stdout",
     "output_type": "stream",
     "text": [
      "Starting 4-th embedding cycle...\n"
     ]
    },
    {
     "name": "stdout",
     "output_type": "stream",
     "text": [
      "Starting 5-th embedding cycle...\n"
     ]
    },
    {
     "name": "stdout",
     "output_type": "stream",
     "text": [
      "Starting 6-th embedding cycle...\n"
     ]
    },
    {
     "name": "stdout",
     "output_type": "stream",
     "text": [
      "Starting 7-th embedding cycle...\n"
     ]
    },
    {
     "name": "stdout",
     "output_type": "stream",
     "text": [
      "Algorithm stopped due to increasing L-values. VALID embedding achieved ✓.\n",
      "[0, 1, 12, 14, 8, 8, 1][2, 1, 1, 1, 2, 1, 2]"
     ]
    },
    {
     "name": "stdout",
     "output_type": "stream",
     "text": [
      "\n",
      "Initializing PECUZAL algorithm for multivariate input...\n",
      "Starting 1-th embedding cycle..."
     ]
    },
    {
     "name": "stdout",
     "output_type": "stream",
     "text": [
      "\n",
      "Starting 2-th embedding cycle...\n"
     ]
    },
    {
     "name": "stdout",
     "output_type": "stream",
     "text": [
      "Starting 3-th embedding cycle..."
     ]
    },
    {
     "name": "stdout",
     "output_type": "stream",
     "text": [
      "\n",
      "Starting 4-th embedding cycle...\n"
     ]
    },
    {
     "name": "stdout",
     "output_type": "stream",
     "text": [
      "Starting 5-th embedding cycle...\n"
     ]
    },
    {
     "name": "stdout",
     "output_type": "stream",
     "text": [
      "Starting 6-th embedding cycle...\n"
     ]
    },
    {
     "name": "stdout",
     "output_type": "stream",
     "text": [
      "Starting 7-th embedding cycle...\n"
     ]
    },
    {
     "name": "stdout",
     "output_type": "stream",
     "text": [
      "Algorithm stopped due to increasing L-values. VALID embedding achieved ✓.\n",
      "[0, 1, 12, 14, 7, 1, 4][2, 1, 1, 1, 2, 2, 2]\n"
     ]
    },
    {
     "name": "stdout",
     "output_type": "stream",
     "text": [
      "Initializing PECUZAL algorithm for multivariate input...\n",
      "Starting 1-th embedding cycle...\n"
     ]
    },
    {
     "name": "stdout",
     "output_type": "stream",
     "text": [
      "Starting 2-th embedding cycle...\n"
     ]
    },
    {
     "name": "stdout",
     "output_type": "stream",
     "text": [
      "Starting 3-th embedding cycle..."
     ]
    },
    {
     "name": "stdout",
     "output_type": "stream",
     "text": [
      "\n",
      "Starting 4-th embedding cycle..."
     ]
    },
    {
     "name": "stdout",
     "output_type": "stream",
     "text": [
      "\n",
      "Starting 5-th embedding cycle..."
     ]
    },
    {
     "name": "stdout",
     "output_type": "stream",
     "text": [
      "\n",
      "Algorithm stopped due to increasing L-values. VALID embedding achieved ✓.\n",
      "[0, 1, 12, 14, 7][2, 1, 1, 1, 2]\n"
     ]
    },
    {
     "name": "stdout",
     "output_type": "stream",
     "text": [
      "Initializing PECUZAL algorithm for multivariate input...\n",
      "Starting 1-th embedding cycle..."
     ]
    },
    {
     "name": "stdout",
     "output_type": "stream",
     "text": [
      "\n",
      "Starting 2-th embedding cycle...\n"
     ]
    },
    {
     "name": "stdout",
     "output_type": "stream",
     "text": [
      "Starting 3-th embedding cycle...\n"
     ]
    },
    {
     "name": "stdout",
     "output_type": "stream",
     "text": [
      "Starting 4-th embedding cycle...\n"
     ]
    },
    {
     "name": "stdout",
     "output_type": "stream",
     "text": [
      "Starting 5-th embedding cycle...\n"
     ]
    },
    {
     "name": "stdout",
     "output_type": "stream",
     "text": [
      "Starting 6-th embedding cycle...\n"
     ]
    },
    {
     "name": "stdout",
     "output_type": "stream",
     "text": [
      "Algorithm stopped due to increasing L-values. VALID embedding achieved ✓.\n",
      "[0, 1, 12, 10, 7, 2][2, 1, 1, 1, 1, 2]\n"
     ]
    },
    {
     "name": "stdout",
     "output_type": "stream",
     "text": [
      "Initializing PECUZAL algorithm for multivariate input...\n",
      "Starting 1-th embedding cycle..."
     ]
    },
    {
     "name": "stdout",
     "output_type": "stream",
     "text": [
      "\n",
      "Starting 2-th embedding cycle...\n"
     ]
    },
    {
     "name": "stdout",
     "output_type": "stream",
     "text": [
      "Starting 3-th embedding cycle...\n"
     ]
    },
    {
     "name": "stdout",
     "output_type": "stream",
     "text": [
      "Starting 4-th embedding cycle...\n"
     ]
    },
    {
     "name": "stdout",
     "output_type": "stream",
     "text": [
      "Starting 5-th embedding cycle...\n"
     ]
    },
    {
     "name": "stdout",
     "output_type": "stream",
     "text": [
      "Starting 6-th embedding cycle..."
     ]
    },
    {
     "name": "stdout",
     "output_type": "stream",
     "text": [
      "\n",
      "Starting 7-th embedding cycle..."
     ]
    },
    {
     "name": "stdout",
     "output_type": "stream",
     "text": [
      "\n",
      "Algorithm stopped due to increasing L-values. VALID embedding achieved ✓.\n",
      "[0, 1, 12, 10, 4, 1, 4][2, 1, 1, 1, 1, 2, 2]\n"
     ]
    },
    {
     "name": "stdout",
     "output_type": "stream",
     "text": [
      "Initializing PECUZAL algorithm for multivariate input...\n",
      "Starting 1-th embedding cycle...\n"
     ]
    },
    {
     "name": "stdout",
     "output_type": "stream",
     "text": [
      "Starting 2-th embedding cycle...\n"
     ]
    },
    {
     "name": "stdout",
     "output_type": "stream",
     "text": [
      "Starting 3-th embedding cycle..."
     ]
    },
    {
     "name": "stdout",
     "output_type": "stream",
     "text": [
      "\n",
      "Starting 4-th embedding cycle...\n"
     ]
    },
    {
     "name": "stdout",
     "output_type": "stream",
     "text": [
      "Starting 5-th embedding cycle...\n"
     ]
    },
    {
     "name": "stdout",
     "output_type": "stream",
     "text": [
      "Starting 6-th embedding cycle...\n"
     ]
    },
    {
     "name": "stdout",
     "output_type": "stream",
     "text": [
      "Starting 7-th embedding cycle...\n"
     ]
    },
    {
     "name": "stdout",
     "output_type": "stream",
     "text": [
      "Starting 8-th embedding cycle...\n"
     ]
    },
    {
     "name": "stdout",
     "output_type": "stream",
     "text": [
      "Algorithm stopped due to increasing L-values. VALID embedding achieved ✓.\n",
      "[0, 1, 12, 10, 8, 2, 1, 4][2, 1, 1, 1, 1, 2, 2, 2]\n"
     ]
    },
    {
     "name": "stdout",
     "output_type": "stream",
     "text": [
      "Initializing PECUZAL algorithm for multivariate input...\n",
      "Starting 1-th embedding cycle...\n"
     ]
    },
    {
     "name": "stdout",
     "output_type": "stream",
     "text": [
      "Starting 2-th embedding cycle...\n"
     ]
    },
    {
     "name": "stdout",
     "output_type": "stream",
     "text": [
      "Starting 3-th embedding cycle...\n"
     ]
    },
    {
     "name": "stdout",
     "output_type": "stream",
     "text": [
      "Starting 4-th embedding cycle...\n"
     ]
    },
    {
     "name": "stdout",
     "output_type": "stream",
     "text": [
      "Starting 5-th embedding cycle..."
     ]
    },
    {
     "name": "stdout",
     "output_type": "stream",
     "text": [
      "\n",
      "Starting 6-th embedding cycle...\n"
     ]
    },
    {
     "name": "stdout",
     "output_type": "stream",
     "text": [
      "Starting 7-th embedding cycle...\n"
     ]
    },
    {
     "name": "stdout",
     "output_type": "stream",
     "text": [
      "Algorithm stopped due to increasing L-values. VALID embedding achieved ✓.\n",
      "[0, 1, 12, 14, 7, 4, 1][2, 1, 1, 1, 2, 2, 2]\n"
     ]
    },
    {
     "name": "stdout",
     "output_type": "stream",
     "text": [
      "Initializing PECUZAL algorithm for multivariate input...\n",
      "Starting 1-th embedding cycle...\n"
     ]
    },
    {
     "name": "stdout",
     "output_type": "stream",
     "text": [
      "Starting 2-th embedding cycle...\n"
     ]
    },
    {
     "name": "stdout",
     "output_type": "stream",
     "text": [
      "Starting 3-th embedding cycle...\n"
     ]
    },
    {
     "name": "stdout",
     "output_type": "stream",
     "text": [
      "Starting 4-th embedding cycle...\n"
     ]
    },
    {
     "name": "stdout",
     "output_type": "stream",
     "text": [
      "Starting 5-th embedding cycle...\n"
     ]
    },
    {
     "name": "stdout",
     "output_type": "stream",
     "text": [
      "Starting 6-th embedding cycle...\n"
     ]
    },
    {
     "name": "stdout",
     "output_type": "stream",
     "text": [
      "Starting 7-th embedding cycle..."
     ]
    },
    {
     "name": "stdout",
     "output_type": "stream",
     "text": [
      "\n",
      "Algorithm stopped due to increasing L-values. VALID embedding achieved ✓.\n",
      "[0, 1, 12, 14, 6, 4, 1][2, 1, 1, 1, 1, 1, 2]\n"
     ]
    },
    {
     "name": "stdout",
     "output_type": "stream",
     "text": [
      "Initializing PECUZAL algorithm for multivariate input...\n",
      "Starting 1-th embedding cycle...\n"
     ]
    },
    {
     "name": "stdout",
     "output_type": "stream",
     "text": [
      "Starting 2-th embedding cycle...\n"
     ]
    },
    {
     "name": "stdout",
     "output_type": "stream",
     "text": [
      "Starting 3-th embedding cycle...\n"
     ]
    },
    {
     "name": "stdout",
     "output_type": "stream",
     "text": [
      "Starting 4-th embedding cycle...\n"
     ]
    },
    {
     "name": "stdout",
     "output_type": "stream",
     "text": [
      "Starting 5-th embedding cycle...\n"
     ]
    },
    {
     "name": "stdout",
     "output_type": "stream",
     "text": [
      "Starting 6-th embedding cycle..."
     ]
    },
    {
     "name": "stdout",
     "output_type": "stream",
     "text": [
      "\n",
      "Algorithm stopped due to increasing L-values. VALID embedding achieved ✓.\n",
      "[0, 1, 12, 14, 7, 3][2, 1, 1, 1, 2, 1]\n"
     ]
    },
    {
     "name": "stdout",
     "output_type": "stream",
     "text": [
      "Initializing PECUZAL algorithm for multivariate input...\n",
      "Starting 1-th embedding cycle...\n"
     ]
    },
    {
     "name": "stdout",
     "output_type": "stream",
     "text": [
      "Starting 2-th embedding cycle...\n"
     ]
    },
    {
     "name": "stdout",
     "output_type": "stream",
     "text": [
      "Starting 3-th embedding cycle...\n"
     ]
    },
    {
     "name": "stdout",
     "output_type": "stream",
     "text": [
      "Starting 4-th embedding cycle...\n"
     ]
    },
    {
     "name": "stdout",
     "output_type": "stream",
     "text": [
      "Starting 5-th embedding cycle...\n"
     ]
    },
    {
     "name": "stdout",
     "output_type": "stream",
     "text": [
      "Starting 6-th embedding cycle...\n"
     ]
    },
    {
     "name": "stdout",
     "output_type": "stream",
     "text": [
      "Starting 7-th embedding cycle...\n"
     ]
    },
    {
     "name": "stdout",
     "output_type": "stream",
     "text": [
      "Algorithm stopped due to increasing L-values. VALID embedding achieved ✓.\n",
      "[0, 1, 12, 14, 7, 5, 1][2, 1, 1, 1, 2, 2, 2]\n"
     ]
    },
    {
     "name": "stdout",
     "output_type": "stream",
     "text": [
      "Initializing PECUZAL algorithm for multivariate input...\n",
      "Starting 1-th embedding cycle...\n"
     ]
    },
    {
     "name": "stdout",
     "output_type": "stream",
     "text": [
      "Starting 2-th embedding cycle...\n"
     ]
    },
    {
     "name": "stdout",
     "output_type": "stream",
     "text": [
      "Starting 3-th embedding cycle...\n"
     ]
    },
    {
     "name": "stdout",
     "output_type": "stream",
     "text": [
      "Starting 4-th embedding cycle...\n"
     ]
    },
    {
     "name": "stdout",
     "output_type": "stream",
     "text": [
      "Starting 5-th embedding cycle...\n"
     ]
    },
    {
     "name": "stdout",
     "output_type": "stream",
     "text": [
      "Starting 6-th embedding cycle..."
     ]
    },
    {
     "name": "stdout",
     "output_type": "stream",
     "text": [
      "\n",
      "Starting 7-th embedding cycle..."
     ]
    },
    {
     "name": "stdout",
     "output_type": "stream",
     "text": [
      "\n",
      "Algorithm stopped due to increasing L-values. VALID embedding achieved ✓.\n",
      "[0, 1, 12, 10, 8, 2, 4][2, 1, 1, 1, 1, 2, 2]\n"
     ]
    },
    {
     "name": "stdout",
     "output_type": "stream",
     "text": [
      "Initializing PECUZAL algorithm for multivariate input...\n",
      "Starting 1-th embedding cycle...\n"
     ]
    },
    {
     "name": "stdout",
     "output_type": "stream",
     "text": [
      "Starting 2-th embedding cycle...\n"
     ]
    },
    {
     "name": "stdout",
     "output_type": "stream",
     "text": [
      "Starting 3-th embedding cycle...\n"
     ]
    },
    {
     "name": "stdout",
     "output_type": "stream",
     "text": [
      "Starting 4-th embedding cycle...\n"
     ]
    },
    {
     "name": "stdout",
     "output_type": "stream",
     "text": [
      "Starting 5-th embedding cycle...\n"
     ]
    },
    {
     "name": "stdout",
     "output_type": "stream",
     "text": [
      "Starting 6-th embedding cycle...\n"
     ]
    },
    {
     "name": "stdout",
     "output_type": "stream",
     "text": [
      "Starting 7-th embedding cycle...\n"
     ]
    },
    {
     "name": "stdout",
     "output_type": "stream",
     "text": [
      "Algorithm stopped due to increasing L-values. VALID embedding achieved ✓.\n",
      "[0, 1, 12, 14, 7, 2, 7][2, 1, 1, 1, 2, 2, 1]"
     ]
    },
    {
     "name": "stdout",
     "output_type": "stream",
     "text": [
      "\n",
      "Initializing PECUZAL algorithm for multivariate input...\n",
      "Starting 1-th embedding cycle..."
     ]
    },
    {
     "name": "stdout",
     "output_type": "stream",
     "text": [
      "\n",
      "Starting 2-th embedding cycle...\n"
     ]
    },
    {
     "name": "stdout",
     "output_type": "stream",
     "text": [
      "Starting 3-th embedding cycle...\n"
     ]
    },
    {
     "name": "stdout",
     "output_type": "stream",
     "text": [
      "Starting 4-th embedding cycle...\n"
     ]
    },
    {
     "name": "stdout",
     "output_type": "stream",
     "text": [
      "Starting 5-th embedding cycle...\n"
     ]
    },
    {
     "name": "stdout",
     "output_type": "stream",
     "text": [
      "Starting 6-th embedding cycle...\n"
     ]
    },
    {
     "name": "stdout",
     "output_type": "stream",
     "text": [
      "Starting 7-th embedding cycle..."
     ]
    },
    {
     "name": "stdout",
     "output_type": "stream",
     "text": [
      "\n",
      "Algorithm stopped due to increasing L-values. VALID embedding achieved ✓.\n",
      "[0, 1, 12, 14, 7, 5, 1][2, 1, 1, 1, 2, 2, 2]\n"
     ]
    },
    {
     "name": "stdout",
     "output_type": "stream",
     "text": [
      "Initializing PECUZAL algorithm for multivariate input...\n",
      "Starting 1-th embedding cycle...\n"
     ]
    },
    {
     "name": "stdout",
     "output_type": "stream",
     "text": [
      "Starting 2-th embedding cycle...\n"
     ]
    },
    {
     "name": "stdout",
     "output_type": "stream",
     "text": [
      "Starting 3-th embedding cycle...\n"
     ]
    },
    {
     "name": "stdout",
     "output_type": "stream",
     "text": [
      "Starting 4-th embedding cycle..."
     ]
    },
    {
     "name": "stdout",
     "output_type": "stream",
     "text": [
      "\n",
      "Starting 5-th embedding cycle...\n"
     ]
    },
    {
     "name": "stdout",
     "output_type": "stream",
     "text": [
      "Starting 6-th embedding cycle...\n"
     ]
    },
    {
     "name": "stdout",
     "output_type": "stream",
     "text": [
      "Algorithm stopped due to increasing L-values. VALID embedding achieved ✓.\n",
      "[0, 1, 12, 14, 7, 5][2, 1, 1, 1, 2, 2]\n"
     ]
    },
    {
     "name": "stdout",
     "output_type": "stream",
     "text": [
      "Initializing PECUZAL algorithm for multivariate input...\n",
      "Starting 1-th embedding cycle...\n"
     ]
    },
    {
     "name": "stdout",
     "output_type": "stream",
     "text": [
      "Starting 2-th embedding cycle..."
     ]
    },
    {
     "name": "stdout",
     "output_type": "stream",
     "text": [
      "\n",
      "Starting 3-th embedding cycle...\n"
     ]
    },
    {
     "name": "stdout",
     "output_type": "stream",
     "text": [
      "Starting 4-th embedding cycle...\n"
     ]
    },
    {
     "name": "stdout",
     "output_type": "stream",
     "text": [
      "Starting 5-th embedding cycle...\n"
     ]
    },
    {
     "name": "stdout",
     "output_type": "stream",
     "text": [
      "Starting 6-th embedding cycle...\n"
     ]
    },
    {
     "name": "stdout",
     "output_type": "stream",
     "text": [
      "Algorithm stopped due to increasing L-values. VALID embedding achieved ✓.\n",
      "[0, 1, 12, 14, 7, 5][2, 1, 1, 1, 2, 2]\n"
     ]
    },
    {
     "name": "stdout",
     "output_type": "stream",
     "text": [
      "Initializing PECUZAL algorithm for multivariate input...\n",
      "Starting 1-th embedding cycle...\n"
     ]
    },
    {
     "name": "stdout",
     "output_type": "stream",
     "text": [
      "Starting 2-th embedding cycle..."
     ]
    },
    {
     "name": "stdout",
     "output_type": "stream",
     "text": [
      "\n",
      "Starting 3-th embedding cycle...\n",
      "Starting 4-th embedding cycle..."
     ]
    },
    {
     "name": "stdout",
     "output_type": "stream",
     "text": [
      "\n"
     ]
    },
    {
     "name": "stdout",
     "output_type": "stream",
     "text": [
      "Starting 5-th embedding cycle...\n"
     ]
    },
    {
     "name": "stdout",
     "output_type": "stream",
     "text": [
      "Starting 6-th embedding cycle...\n"
     ]
    },
    {
     "name": "stdout",
     "output_type": "stream",
     "text": [
      "Starting 7-th embedding cycle...\n"
     ]
    },
    {
     "name": "stdout",
     "output_type": "stream",
     "text": [
      "Starting 8-th embedding cycle...\n"
     ]
    },
    {
     "name": "stdout",
     "output_type": "stream",
     "text": [
      "Algorithm stopped due to increasing L-values. VALID embedding achieved ✓.\n",
      "[0, 1, 12, 14, 8, 8, 2, 1][2, 1, 1, 1, 2, 1, 2, 2]\n"
     ]
    },
    {
     "name": "stdout",
     "output_type": "stream",
     "text": [
      "Initializing PECUZAL algorithm for multivariate input...\n",
      "Starting 1-th embedding cycle...\n"
     ]
    },
    {
     "name": "stdout",
     "output_type": "stream",
     "text": [
      "Starting 2-th embedding cycle...\n"
     ]
    },
    {
     "name": "stdout",
     "output_type": "stream",
     "text": [
      "Starting 3-th embedding cycle...\n"
     ]
    },
    {
     "name": "stdout",
     "output_type": "stream",
     "text": [
      "Starting 4-th embedding cycle..."
     ]
    },
    {
     "name": "stdout",
     "output_type": "stream",
     "text": [
      "\n",
      "Starting 5-th embedding cycle...\n"
     ]
    },
    {
     "name": "stdout",
     "output_type": "stream",
     "text": [
      "Starting 6-th embedding cycle...\n",
      "Starting 7-th embedding cycle..."
     ]
    },
    {
     "name": "stdout",
     "output_type": "stream",
     "text": [
      "\n"
     ]
    },
    {
     "name": "stdout",
     "output_type": "stream",
     "text": [
      "Algorithm stopped due to increasing L-values. VALID embedding achieved ✓.\n",
      "[0, 1, 12, 14, 8, 1, 8][2, 1, 1, 1, 2, 2, 1]\n"
     ]
    },
    {
     "name": "stdout",
     "output_type": "stream",
     "text": [
      "Initializing PECUZAL algorithm for multivariate input...\n",
      "Starting 1-th embedding cycle...\n"
     ]
    },
    {
     "name": "stdout",
     "output_type": "stream",
     "text": [
      "Starting 2-th embedding cycle...\n"
     ]
    },
    {
     "name": "stdout",
     "output_type": "stream",
     "text": [
      "Starting 3-th embedding cycle...\n"
     ]
    },
    {
     "name": "stdout",
     "output_type": "stream",
     "text": [
      "Starting 4-th embedding cycle..."
     ]
    },
    {
     "name": "stdout",
     "output_type": "stream",
     "text": [
      "\n",
      "Starting 5-th embedding cycle...\n"
     ]
    },
    {
     "name": "stdout",
     "output_type": "stream",
     "text": [
      "Starting 6-th embedding cycle...\n"
     ]
    },
    {
     "name": "stdout",
     "output_type": "stream",
     "text": [
      "Algorithm stopped due to increasing L-values. VALID embedding achieved ✓.\n",
      "[0, 1, 12, 10, 5, 2][2, 1, 1, 1, 2, 2]"
     ]
    },
    {
     "name": "stdout",
     "output_type": "stream",
     "text": [
      "\n",
      "Initializing PECUZAL algorithm for multivariate input...\n",
      "Starting 1-th embedding cycle...\n"
     ]
    },
    {
     "name": "stdout",
     "output_type": "stream",
     "text": [
      "Starting 2-th embedding cycle..."
     ]
    },
    {
     "name": "stdout",
     "output_type": "stream",
     "text": [
      "\n",
      "Starting 3-th embedding cycle..."
     ]
    },
    {
     "name": "stdout",
     "output_type": "stream",
     "text": [
      "\n",
      "Starting 4-th embedding cycle...\n"
     ]
    },
    {
     "name": "stdout",
     "output_type": "stream",
     "text": [
      "Starting 5-th embedding cycle...\n"
     ]
    },
    {
     "name": "stdout",
     "output_type": "stream",
     "text": [
      "Algorithm stopped due to increasing L-values. VALID embedding achieved ✓.\n",
      "[0, 1, 12, 14, 7][2, 1, 1, 1, 2]\n"
     ]
    },
    {
     "name": "stdout",
     "output_type": "stream",
     "text": [
      "Initializing PECUZAL algorithm for multivariate input...\n",
      "Starting 1-th embedding cycle...\n"
     ]
    },
    {
     "name": "stdout",
     "output_type": "stream",
     "text": [
      "Starting 2-th embedding cycle...\n"
     ]
    },
    {
     "name": "stdout",
     "output_type": "stream",
     "text": [
      "Starting 3-th embedding cycle...\n"
     ]
    },
    {
     "name": "stdout",
     "output_type": "stream",
     "text": [
      "Starting 4-th embedding cycle..."
     ]
    },
    {
     "name": "stdout",
     "output_type": "stream",
     "text": [
      "\n",
      "Starting 5-th embedding cycle..."
     ]
    },
    {
     "name": "stdout",
     "output_type": "stream",
     "text": [
      "\n",
      "Starting 6-th embedding cycle...\n",
      "Algorithm stopped due to increasing L-values. VALID embedding achieved ✓."
     ]
    },
    {
     "name": "stdout",
     "output_type": "stream",
     "text": [
      "\n",
      "[0, 0, 11, 13, 6, 3][2, 1, 1, 1, 2, 2]\n"
     ]
    },
    {
     "name": "stdout",
     "output_type": "stream",
     "text": [
      "Initializing PECUZAL algorithm for multivariate input...\n",
      "Starting 1-th embedding cycle...\n"
     ]
    },
    {
     "name": "stdout",
     "output_type": "stream",
     "text": [
      "Starting 2-th embedding cycle..."
     ]
    },
    {
     "name": "stdout",
     "output_type": "stream",
     "text": [
      "\n",
      "Starting 3-th embedding cycle...\n"
     ]
    },
    {
     "name": "stdout",
     "output_type": "stream",
     "text": [
      "Starting 4-th embedding cycle...\n"
     ]
    },
    {
     "name": "stdout",
     "output_type": "stream",
     "text": [
      "Starting 5-th embedding cycle...\n"
     ]
    },
    {
     "name": "stdout",
     "output_type": "stream",
     "text": [
      "Starting 6-th embedding cycle...\n"
     ]
    },
    {
     "name": "stdout",
     "output_type": "stream",
     "text": [
      "Starting 7-th embedding cycle...\n"
     ]
    },
    {
     "name": "stdout",
     "output_type": "stream",
     "text": [
      "Algorithm stopped due to increasing L-values. VALID embedding achieved ✓.\n",
      "[0, 1, 12, 14, 8, 8, 2][2, 1, 1, 1, 2, 1, 2]\n"
     ]
    },
    {
     "name": "stdout",
     "output_type": "stream",
     "text": [
      "Initializing PECUZAL algorithm for multivariate input...\n",
      "Starting 1-th embedding cycle...\n"
     ]
    },
    {
     "name": "stdout",
     "output_type": "stream",
     "text": [
      "Starting 2-th embedding cycle...\n"
     ]
    },
    {
     "name": "stdout",
     "output_type": "stream",
     "text": [
      "Starting 3-th embedding cycle...\n"
     ]
    },
    {
     "name": "stdout",
     "output_type": "stream",
     "text": [
      "Starting 4-th embedding cycle...\n"
     ]
    },
    {
     "name": "stdout",
     "output_type": "stream",
     "text": [
      "Starting 5-th embedding cycle..."
     ]
    },
    {
     "name": "stdout",
     "output_type": "stream",
     "text": [
      "\n",
      "Starting 6-th embedding cycle..."
     ]
    },
    {
     "name": "stdout",
     "output_type": "stream",
     "text": [
      "\n",
      "Starting 7-th embedding cycle..."
     ]
    },
    {
     "name": "stdout",
     "output_type": "stream",
     "text": [
      "\n",
      "Algorithm stopped due to increasing L-values. VALID embedding achieved ✓.\n",
      "[0, 1, 12, 14, 8, 6, 1][2, 1, 1, 1, 2, 2, 2]\n"
     ]
    },
    {
     "name": "stdout",
     "output_type": "stream",
     "text": [
      "Initializing PECUZAL algorithm for multivariate input...\n",
      "Starting 1-th embedding cycle...\n"
     ]
    },
    {
     "name": "stdout",
     "output_type": "stream",
     "text": [
      "Starting 2-th embedding cycle..."
     ]
    },
    {
     "name": "stdout",
     "output_type": "stream",
     "text": [
      "\n",
      "Starting 3-th embedding cycle..."
     ]
    },
    {
     "name": "stdout",
     "output_type": "stream",
     "text": [
      "\n",
      "Starting 4-th embedding cycle...\n"
     ]
    },
    {
     "name": "stdout",
     "output_type": "stream",
     "text": [
      "Starting 5-th embedding cycle...\n"
     ]
    },
    {
     "name": "stdout",
     "output_type": "stream",
     "text": [
      "Starting 6-th embedding cycle...\n"
     ]
    },
    {
     "name": "stdout",
     "output_type": "stream",
     "text": [
      "Starting 7-th embedding cycle...\n"
     ]
    },
    {
     "name": "stdout",
     "output_type": "stream",
     "text": [
      "Algorithm stopped due to increasing L-values. VALID embedding achieved ✓.\n",
      "[0, 1, 12, 14, 7, 5, 1][2, 1, 1, 1, 2, 2, 2]\n"
     ]
    },
    {
     "name": "stdout",
     "output_type": "stream",
     "text": [
      "Initializing PECUZAL algorithm for multivariate input...\n",
      "Starting 1-th embedding cycle...\n"
     ]
    },
    {
     "name": "stdout",
     "output_type": "stream",
     "text": [
      "Starting 2-th embedding cycle..."
     ]
    },
    {
     "name": "stdout",
     "output_type": "stream",
     "text": [
      "\n",
      "Starting 3-th embedding cycle..."
     ]
    },
    {
     "name": "stdout",
     "output_type": "stream",
     "text": [
      "\n",
      "Starting 4-th embedding cycle...\n"
     ]
    },
    {
     "name": "stdout",
     "output_type": "stream",
     "text": [
      "Starting 5-th embedding cycle...\n"
     ]
    },
    {
     "name": "stdout",
     "output_type": "stream",
     "text": [
      "Starting 6-th embedding cycle...\n"
     ]
    },
    {
     "name": "stdout",
     "output_type": "stream",
     "text": [
      "Algorithm stopped due to increasing L-values. VALID embedding achieved ✓.\n",
      "[0, 0, 11, 9, 4, 2][2, 1, 1, 1, 2, 2]\n"
     ]
    },
    {
     "name": "stdout",
     "output_type": "stream",
     "text": [
      "Initializing PECUZAL algorithm for multivariate input...\n",
      "Starting 1-th embedding cycle...\n",
      "Starting 2-th embedding cycle..."
     ]
    },
    {
     "name": "stdout",
     "output_type": "stream",
     "text": [
      "\n",
      "Starting 3-th embedding cycle...\n"
     ]
    },
    {
     "name": "stdout",
     "output_type": "stream",
     "text": [
      "Starting 4-th embedding cycle...\n"
     ]
    },
    {
     "name": "stdout",
     "output_type": "stream",
     "text": [
      "Starting 5-th embedding cycle...\n"
     ]
    },
    {
     "name": "stdout",
     "output_type": "stream",
     "text": [
      "Starting 6-th embedding cycle...\n"
     ]
    },
    {
     "name": "stdout",
     "output_type": "stream",
     "text": [
      "Starting 7-th embedding cycle...\n"
     ]
    },
    {
     "name": "stdout",
     "output_type": "stream",
     "text": [
      "Starting 8-th embedding cycle...\n"
     ]
    },
    {
     "name": "stdout",
     "output_type": "stream",
     "text": [
      "Algorithm stopped due to increasing L-values. VALID embedding achieved ✓.\n",
      "[0, 1, 12, 10, 4, 4, 1, 2][2, 1, 1, 1, 1, 2, 2, 2]\n"
     ]
    },
    {
     "name": "stdout",
     "output_type": "stream",
     "text": [
      "Initializing PECUZAL algorithm for multivariate input...\n",
      "Starting 1-th embedding cycle...\n"
     ]
    },
    {
     "name": "stdout",
     "output_type": "stream",
     "text": [
      "Starting 2-th embedding cycle...\n"
     ]
    },
    {
     "name": "stdout",
     "output_type": "stream",
     "text": [
      "Starting 3-th embedding cycle...\n"
     ]
    },
    {
     "name": "stdout",
     "output_type": "stream",
     "text": [
      "Starting 4-th embedding cycle...\n"
     ]
    },
    {
     "name": "stdout",
     "output_type": "stream",
     "text": [
      "Starting 5-th embedding cycle...\n"
     ]
    },
    {
     "name": "stdout",
     "output_type": "stream",
     "text": [
      "Starting 6-th embedding cycle...\n"
     ]
    },
    {
     "name": "stdout",
     "output_type": "stream",
     "text": [
      "Starting 7-th embedding cycle...\n"
     ]
    },
    {
     "name": "stdout",
     "output_type": "stream",
     "text": [
      "Starting 8-th embedding cycle...\n"
     ]
    },
    {
     "name": "stdout",
     "output_type": "stream",
     "text": [
      "Starting 9-th embedding cycle..."
     ]
    },
    {
     "name": "stdout",
     "output_type": "stream",
     "text": [
      "\n",
      "Starting 10-th embedding cycle...\n"
     ]
    },
    {
     "name": "stdout",
     "output_type": "stream",
     "text": [
      "Starting 11-th embedding cycle...\n"
     ]
    },
    {
     "name": "stdout",
     "output_type": "stream",
     "text": [
      "Algorithm stopped due to increasing L-values. VALID embedding achieved ✓.\n",
      "[0, 4, 2, 11, 9, 22, 37, 27, 35, 25, 19][2, 2, 2, 2, 2, 2, 2, 2, 2, 2, 2]\n"
     ]
    },
    {
     "name": "stdout",
     "output_type": "stream",
     "text": [
      "Initializing PECUZAL algorithm for multivariate input...\n",
      "Starting 1-th embedding cycle...\n"
     ]
    },
    {
     "name": "stdout",
     "output_type": "stream",
     "text": [
      "Starting 2-th embedding cycle...\n"
     ]
    },
    {
     "name": "stdout",
     "output_type": "stream",
     "text": [
      "Starting 3-th embedding cycle..."
     ]
    },
    {
     "name": "stdout",
     "output_type": "stream",
     "text": [
      "\n",
      "Starting 4-th embedding cycle...\n"
     ]
    },
    {
     "name": "stdout",
     "output_type": "stream",
     "text": [
      "Starting 5-th embedding cycle...\n"
     ]
    },
    {
     "name": "stdout",
     "output_type": "stream",
     "text": [
      "Starting 6-th embedding cycle...\n"
     ]
    },
    {
     "name": "stdout",
     "output_type": "stream",
     "text": [
      "Starting 7-th embedding cycle..."
     ]
    },
    {
     "name": "stdout",
     "output_type": "stream",
     "text": [
      "\n",
      "Starting 8-th embedding cycle...\n"
     ]
    },
    {
     "name": "stdout",
     "output_type": "stream",
     "text": [
      "Starting 9-th embedding cycle..."
     ]
    },
    {
     "name": "stdout",
     "output_type": "stream",
     "text": [
      "\n",
      "Starting 10-th embedding cycle...\n"
     ]
    },
    {
     "name": "stdout",
     "output_type": "stream",
     "text": [
      "Starting 11-th embedding cycle...\n"
     ]
    },
    {
     "name": "stdout",
     "output_type": "stream",
     "text": [
      "Starting 12-th embedding cycle..."
     ]
    },
    {
     "name": "stdout",
     "output_type": "stream",
     "text": [
      "\n",
      "Algorithm stopped due to increasing L-values. VALID embedding achieved ✓.\n",
      "[0, 1, 12, 10, 4, 29, 19, 45, 39, 42, 36, 24][2, 1, 1, 1, 1, 2, 2, 1, 1, 1, 1, 1]\n",
      "Initializing PECUZAL algorithm for multivariate input..."
     ]
    },
    {
     "name": "stdout",
     "output_type": "stream",
     "text": [
      "\n",
      "Starting 1-th embedding cycle...\n"
     ]
    },
    {
     "name": "stdout",
     "output_type": "stream",
     "text": [
      "Starting 2-th embedding cycle...\n"
     ]
    },
    {
     "name": "stdout",
     "output_type": "stream",
     "text": [
      "Starting 3-th embedding cycle...\n"
     ]
    },
    {
     "name": "stdout",
     "output_type": "stream",
     "text": [
      "Starting 4-th embedding cycle..."
     ]
    },
    {
     "name": "stdout",
     "output_type": "stream",
     "text": [
      "\n",
      "Starting 5-th embedding cycle...\n"
     ]
    },
    {
     "name": "stdout",
     "output_type": "stream",
     "text": [
      "Starting 6-th embedding cycle...\n"
     ]
    },
    {
     "name": "stdout",
     "output_type": "stream",
     "text": [
      "Starting 7-th embedding cycle...\n"
     ]
    },
    {
     "name": "stdout",
     "output_type": "stream",
     "text": [
      "Starting 8-th embedding cycle...\n"
     ]
    },
    {
     "name": "stdout",
     "output_type": "stream",
     "text": [
      "Starting 9-th embedding cycle...\n"
     ]
    },
    {
     "name": "stdout",
     "output_type": "stream",
     "text": [
      "Algorithm stopped due to increasing L-values. VALID embedding achieved ✓.\n",
      "[0, 1, 12, 10, 24, 26, 19, 5, 17][2, 1, 1, 1, 1, 1, 2, 2, 2]\n",
      "Initializing PECUZAL algorithm for multivariate input...\n",
      "Starting 1-th embedding cycle...\n"
     ]
    },
    {
     "name": "stdout",
     "output_type": "stream",
     "text": [
      "Starting 2-th embedding cycle...\n"
     ]
    },
    {
     "name": "stdout",
     "output_type": "stream",
     "text": [
      "Starting 3-th embedding cycle...\n"
     ]
    },
    {
     "name": "stdout",
     "output_type": "stream",
     "text": [
      "Starting 4-th embedding cycle..."
     ]
    },
    {
     "name": "stdout",
     "output_type": "stream",
     "text": [
      "\n",
      "Starting 5-th embedding cycle..."
     ]
    },
    {
     "name": "stdout",
     "output_type": "stream",
     "text": [
      "\n",
      "Starting 6-th embedding cycle...\n"
     ]
    },
    {
     "name": "stdout",
     "output_type": "stream",
     "text": [
      "Starting 7-th embedding cycle...\n"
     ]
    },
    {
     "name": "stdout",
     "output_type": "stream",
     "text": [
      "Starting 8-th embedding cycle...\n"
     ]
    },
    {
     "name": "stdout",
     "output_type": "stream",
     "text": [
      "Algorithm stopped due to increasing L-values. VALID embedding achieved ✓.\n",
      "[0, 1, 12, 14, 8, 4, 4, 6][2, 1, 1, 1, 2, 1, 2, 2]\n",
      "Initializing PECUZAL algorithm for multivariate input...\n",
      "Starting 1-th embedding cycle...\n"
     ]
    },
    {
     "name": "stdout",
     "output_type": "stream",
     "text": [
      "Starting 2-th embedding cycle...\n"
     ]
    },
    {
     "name": "stdout",
     "output_type": "stream",
     "text": [
      "Starting 3-th embedding cycle...\n"
     ]
    },
    {
     "name": "stdout",
     "output_type": "stream",
     "text": [
      "Starting 4-th embedding cycle...\n"
     ]
    },
    {
     "name": "stdout",
     "output_type": "stream",
     "text": [
      "Starting 5-th embedding cycle...\n"
     ]
    },
    {
     "name": "stdout",
     "output_type": "stream",
     "text": [
      "Starting 6-th embedding cycle...\n"
     ]
    },
    {
     "name": "stdout",
     "output_type": "stream",
     "text": [
      "Starting 7-th embedding cycle...\n"
     ]
    },
    {
     "name": "stdout",
     "output_type": "stream",
     "text": [
      "Starting 8-th embedding cycle...\n"
     ]
    },
    {
     "name": "stdout",
     "output_type": "stream",
     "text": [
      "Starting 9-th embedding cycle...\n"
     ]
    },
    {
     "name": "stdout",
     "output_type": "stream",
     "text": [
      "Starting 10-th embedding cycle...\n"
     ]
    },
    {
     "name": "stdout",
     "output_type": "stream",
     "text": [
      "Starting 11-th embedding cycle..."
     ]
    },
    {
     "name": "stdout",
     "output_type": "stream",
     "text": [
      "\n",
      "Starting 12-th embedding cycle...\n"
     ]
    },
    {
     "name": "stdout",
     "output_type": "stream",
     "text": [
      "Algorithm stopped due to increasing L-values. VALID embedding achieved ✓.\n",
      "[0, 4, 2, 11, 9, 47, 33, 36, 45, 22, 20, 30][2, 2, 2, 2, 2, 2, 2, 2, 2, 2, 2, 2]\n",
      "Initializing PECUZAL algorithm for multivariate input...\n",
      "Starting 1-th embedding cycle...\n"
     ]
    },
    {
     "name": "stdout",
     "output_type": "stream",
     "text": [
      "Starting 2-th embedding cycle...\n"
     ]
    },
    {
     "name": "stdout",
     "output_type": "stream",
     "text": [
      "Starting 3-th embedding cycle...\n"
     ]
    },
    {
     "name": "stdout",
     "output_type": "stream",
     "text": [
      "Starting 4-th embedding cycle...\n"
     ]
    },
    {
     "name": "stdout",
     "output_type": "stream",
     "text": [
      "Starting 5-th embedding cycle..."
     ]
    },
    {
     "name": "stdout",
     "output_type": "stream",
     "text": [
      "\n",
      "Starting 6-th embedding cycle...\n"
     ]
    },
    {
     "name": "stdout",
     "output_type": "stream",
     "text": [
      "Starting 7-th embedding cycle..."
     ]
    },
    {
     "name": "stdout",
     "output_type": "stream",
     "text": [
      "\n",
      "Algorithm stopped due to increasing L-values. VALID embedding achieved ✓.\n",
      "[0, 0, 11, 13, 6, 8, 1][2, 1, 1, 1, 2, 2, 2]\n",
      "Initializing PECUZAL algorithm for multivariate input...\n",
      "Starting 1-th embedding cycle..."
     ]
    },
    {
     "name": "stdout",
     "output_type": "stream",
     "text": [
      "\n",
      "Starting 2-th embedding cycle...\n"
     ]
    },
    {
     "name": "stdout",
     "output_type": "stream",
     "text": [
      "Starting 3-th embedding cycle..."
     ]
    },
    {
     "name": "stdout",
     "output_type": "stream",
     "text": [
      "\n",
      "Starting 4-th embedding cycle...\n"
     ]
    },
    {
     "name": "stdout",
     "output_type": "stream",
     "text": [
      "Starting 5-th embedding cycle...\n"
     ]
    },
    {
     "name": "stdout",
     "output_type": "stream",
     "text": [
      "Starting 6-th embedding cycle...\n"
     ]
    },
    {
     "name": "stdout",
     "output_type": "stream",
     "text": [
      "Starting 7-th embedding cycle...\n"
     ]
    },
    {
     "name": "stdout",
     "output_type": "stream",
     "text": [
      "Algorithm stopped due to increasing L-values. VALID embedding achieved ✓.\n",
      "[0, 0, 11, 9, 7, 3, 1][2, 1, 1, 1, 1, 2, 2]\n",
      "Initializing PECUZAL algorithm for multivariate input...\n",
      "Starting 1-th embedding cycle...\n"
     ]
    },
    {
     "name": "stdout",
     "output_type": "stream",
     "text": [
      "Starting 2-th embedding cycle...\n"
     ]
    },
    {
     "name": "stdout",
     "output_type": "stream",
     "text": [
      "Starting 3-th embedding cycle...\n"
     ]
    },
    {
     "name": "stdout",
     "output_type": "stream",
     "text": [
      "Starting 4-th embedding cycle...\n"
     ]
    },
    {
     "name": "stdout",
     "output_type": "stream",
     "text": [
      "Starting 5-th embedding cycle..."
     ]
    },
    {
     "name": "stdout",
     "output_type": "stream",
     "text": [
      "\n",
      "Starting 6-th embedding cycle...\n"
     ]
    },
    {
     "name": "stdout",
     "output_type": "stream",
     "text": [
      "Starting 7-th embedding cycle...\n"
     ]
    },
    {
     "name": "stdout",
     "output_type": "stream",
     "text": [
      "Algorithm stopped due to increasing L-values. VALID embedding achieved ✓.\n",
      "[0, 1, 12, 10, 4, 4, 1][2, 1, 1, 1, 1, 2, 2]\n",
      "Initializing PECUZAL algorithm for multivariate input...\n",
      "Starting 1-th embedding cycle...\n"
     ]
    },
    {
     "name": "stdout",
     "output_type": "stream",
     "text": [
      "Starting 2-th embedding cycle..."
     ]
    },
    {
     "name": "stdout",
     "output_type": "stream",
     "text": [
      "\n",
      "Starting 3-th embedding cycle...\n"
     ]
    },
    {
     "name": "stdout",
     "output_type": "stream",
     "text": [
      "Starting 4-th embedding cycle...\n"
     ]
    },
    {
     "name": "stdout",
     "output_type": "stream",
     "text": [
      "Starting 5-th embedding cycle...\n"
     ]
    },
    {
     "name": "stdout",
     "output_type": "stream",
     "text": [
      "Starting 6-th embedding cycle...\n"
     ]
    },
    {
     "name": "stdout",
     "output_type": "stream",
     "text": [
      "Starting 7-th embedding cycle...\n"
     ]
    },
    {
     "name": "stdout",
     "output_type": "stream",
     "text": [
      "Algorithm stopped due to increasing L-values. VALID embedding achieved ✓.\n",
      "[0, 1, 12, 14, 7, 2, 5][2, 1, 1, 1, 2, 2, 2]\n",
      "Initializing PECUZAL algorithm for multivariate input...\n",
      "Starting 1-th embedding cycle..."
     ]
    },
    {
     "name": "stdout",
     "output_type": "stream",
     "text": [
      "\n",
      "Starting 2-th embedding cycle..."
     ]
    },
    {
     "name": "stdout",
     "output_type": "stream",
     "text": [
      "\n",
      "Starting 3-th embedding cycle..."
     ]
    },
    {
     "name": "stdout",
     "output_type": "stream",
     "text": [
      "\n",
      "Starting 4-th embedding cycle...\n"
     ]
    },
    {
     "name": "stdout",
     "output_type": "stream",
     "text": [
      "Starting 5-th embedding cycle...\n",
      "Starting 6-th embedding cycle..."
     ]
    },
    {
     "name": "stdout",
     "output_type": "stream",
     "text": [
      "\n"
     ]
    },
    {
     "name": "stdout",
     "output_type": "stream",
     "text": [
      "Starting 7-th embedding cycle...\n"
     ]
    },
    {
     "name": "stdout",
     "output_type": "stream",
     "text": [
      "Starting 8-th embedding cycle...\n"
     ]
    },
    {
     "name": "stdout",
     "output_type": "stream",
     "text": [
      "Starting 9-th embedding cycle...\n"
     ]
    },
    {
     "name": "stdout",
     "output_type": "stream",
     "text": [
      "Starting 10-th embedding cycle...\n"
     ]
    },
    {
     "name": "stdout",
     "output_type": "stream",
     "text": [
      "Starting 11-th embedding cycle...\n"
     ]
    },
    {
     "name": "stdout",
     "output_type": "stream",
     "text": [
      "Algorithm stopped due to increasing L-values. VALID embedding achieved ✓.\n",
      "[0, 1, 12, 14, 6, 41, 43, 24, 36, 22, 33][2, 1, 1, 1, 1, 1, 1, 1, 2, 1, 2]\n",
      "Initializing PECUZAL algorithm for multivariate input...\n",
      "Starting 1-th embedding cycle...\n"
     ]
    },
    {
     "name": "stdout",
     "output_type": "stream",
     "text": [
      "Starting 2-th embedding cycle...\n"
     ]
    },
    {
     "name": "stdout",
     "output_type": "stream",
     "text": [
      "Starting 3-th embedding cycle...\n"
     ]
    },
    {
     "name": "stdout",
     "output_type": "stream",
     "text": [
      "Starting 4-th embedding cycle...\n"
     ]
    },
    {
     "name": "stdout",
     "output_type": "stream",
     "text": [
      "Starting 5-th embedding cycle...\n"
     ]
    },
    {
     "name": "stdout",
     "output_type": "stream",
     "text": [
      "Starting 6-th embedding cycle..."
     ]
    },
    {
     "name": "stdout",
     "output_type": "stream",
     "text": [
      "\n",
      "Algorithm stopped due to increasing L-values. VALID embedding achieved ✓.\n",
      "[0, 0, 11, 9, 7, 5][2, 1, 1, 1, 1, 1]\n",
      "Initializing PECUZAL algorithm for multivariate input...\n",
      "Starting 1-th embedding cycle...\n"
     ]
    },
    {
     "name": "stdout",
     "output_type": "stream",
     "text": [
      "Starting 2-th embedding cycle...\n"
     ]
    },
    {
     "name": "stdout",
     "output_type": "stream",
     "text": [
      "Starting 3-th embedding cycle..."
     ]
    },
    {
     "name": "stdout",
     "output_type": "stream",
     "text": [
      "\n",
      "Starting 4-th embedding cycle...\n"
     ]
    },
    {
     "name": "stdout",
     "output_type": "stream",
     "text": [
      "Starting 5-th embedding cycle...\n"
     ]
    },
    {
     "name": "stdout",
     "output_type": "stream",
     "text": [
      "Starting 6-th embedding cycle...\n"
     ]
    },
    {
     "name": "stdout",
     "output_type": "stream",
     "text": [
      "Starting 7-th embedding cycle...\n"
     ]
    },
    {
     "name": "stdout",
     "output_type": "stream",
     "text": [
      "Algorithm stopped due to increasing L-values. VALID embedding achieved ✓.\n",
      "[0, 0, 11, 9, 7, 5, 1][2, 1, 1, 1, 1, 1, 2]\n",
      "Initializing PECUZAL algorithm for multivariate input...\n",
      "Starting 1-th embedding cycle...\n"
     ]
    },
    {
     "name": "stdout",
     "output_type": "stream",
     "text": [
      "Starting 2-th embedding cycle...\n"
     ]
    },
    {
     "name": "stdout",
     "output_type": "stream",
     "text": [
      "Starting 3-th embedding cycle...\n"
     ]
    },
    {
     "name": "stdout",
     "output_type": "stream",
     "text": [
      "Starting 4-th embedding cycle...\n"
     ]
    },
    {
     "name": "stdout",
     "output_type": "stream",
     "text": [
      "Starting 5-th embedding cycle...\n"
     ]
    },
    {
     "name": "stdout",
     "output_type": "stream",
     "text": [
      "Starting 6-th embedding cycle...\n"
     ]
    },
    {
     "name": "stdout",
     "output_type": "stream",
     "text": [
      "Algorithm stopped due to increasing L-values. VALID embedding achieved ✓.\n",
      "[0, 0, 11, 13, 6, 6][2, 1, 1, 1, 2, 1]\n",
      "Initializing PECUZAL algorithm for multivariate input...\n",
      "Starting 1-th embedding cycle...\n"
     ]
    },
    {
     "name": "stdout",
     "output_type": "stream",
     "text": [
      "Starting 2-th embedding cycle...\n"
     ]
    },
    {
     "name": "stdout",
     "output_type": "stream",
     "text": [
      "Starting 3-th embedding cycle..."
     ]
    },
    {
     "name": "stdout",
     "output_type": "stream",
     "text": [
      "\n",
      "Starting 4-th embedding cycle...\n"
     ]
    },
    {
     "name": "stdout",
     "output_type": "stream",
     "text": [
      "Starting 5-th embedding cycle...\n"
     ]
    },
    {
     "name": "stdout",
     "output_type": "stream",
     "text": [
      "Starting 6-th embedding cycle...\n"
     ]
    },
    {
     "name": "stdout",
     "output_type": "stream",
     "text": [
      "Starting 7-th embedding cycle...\n"
     ]
    },
    {
     "name": "stdout",
     "output_type": "stream",
     "text": [
      "Starting 8-th embedding cycle...\n"
     ]
    },
    {
     "name": "stdout",
     "output_type": "stream",
     "text": [
      "Algorithm stopped due to increasing L-values. VALID embedding achieved ✓.\n",
      "[0, 4, 2, 5, 15, 13, 9, 6][2, 2, 2, 1, 1, 1, 2, 2]\n",
      "Initializing PECUZAL algorithm for multivariate input...\n",
      "Starting 1-th embedding cycle...\n"
     ]
    },
    {
     "name": "stdout",
     "output_type": "stream",
     "text": [
      "Starting 2-th embedding cycle..."
     ]
    },
    {
     "name": "stdout",
     "output_type": "stream",
     "text": [
      "\n",
      "Starting 3-th embedding cycle...\n"
     ]
    },
    {
     "name": "stdout",
     "output_type": "stream",
     "text": [
      "Starting 4-th embedding cycle...\n"
     ]
    },
    {
     "name": "stdout",
     "output_type": "stream",
     "text": [
      "Starting 5-th embedding cycle...\n"
     ]
    },
    {
     "name": "stdout",
     "output_type": "stream",
     "text": [
      "Starting 6-th embedding cycle...\n"
     ]
    },
    {
     "name": "stdout",
     "output_type": "stream",
     "text": [
      "Starting 7-th embedding cycle...\n"
     ]
    },
    {
     "name": "stdout",
     "output_type": "stream",
     "text": [
      "Algorithm stopped due to increasing L-values. VALID embedding achieved ✓.\n",
      "[0, 0, 11, 9, 7, 2, 1][2, 1, 1, 1, 1, 2, 2]\n"
     ]
    },
    {
     "name": "stdout",
     "output_type": "stream",
     "text": [
      "Initializing PECUZAL algorithm for multivariate input...\n",
      "Starting 1-th embedding cycle...\n"
     ]
    },
    {
     "name": "stdout",
     "output_type": "stream",
     "text": [
      "Starting 2-th embedding cycle...\n"
     ]
    },
    {
     "name": "stdout",
     "output_type": "stream",
     "text": [
      "Starting 3-th embedding cycle..."
     ]
    },
    {
     "name": "stdout",
     "output_type": "stream",
     "text": [
      "\n",
      "Starting 4-th embedding cycle..."
     ]
    },
    {
     "name": "stdout",
     "output_type": "stream",
     "text": [
      "\n",
      "Starting 5-th embedding cycle..."
     ]
    },
    {
     "name": "stdout",
     "output_type": "stream",
     "text": [
      "\n",
      "Starting 6-th embedding cycle...\n"
     ]
    },
    {
     "name": "stdout",
     "output_type": "stream",
     "text": [
      "Starting 7-th embedding cycle...\n"
     ]
    },
    {
     "name": "stdout",
     "output_type": "stream",
     "text": [
      "Algorithm stopped due to increasing L-values. VALID embedding achieved ✓.\n",
      "[0, 1, 12, 14, 8, 8, 1][2, 1, 1, 1, 2, 1, 2]\n",
      "Initializing PECUZAL algorithm for multivariate input...\n",
      "Starting 1-th embedding cycle...\n"
     ]
    },
    {
     "name": "stdout",
     "output_type": "stream",
     "text": [
      "Starting 2-th embedding cycle...\n"
     ]
    },
    {
     "name": "stdout",
     "output_type": "stream",
     "text": [
      "Starting 3-th embedding cycle...\n"
     ]
    },
    {
     "name": "stdout",
     "output_type": "stream",
     "text": [
      "Starting 4-th embedding cycle...\n"
     ]
    },
    {
     "name": "stdout",
     "output_type": "stream",
     "text": [
      "Starting 5-th embedding cycle...\n"
     ]
    },
    {
     "name": "stdout",
     "output_type": "stream",
     "text": [
      "Algorithm stopped due to increasing L-values. VALID embedding achieved ✓.\n",
      "[0, 1, 12, 14, 7][2, 1, 1, 1, 2]\n",
      "Initializing PECUZAL algorithm for multivariate input...\n",
      "Starting 1-th embedding cycle...\n"
     ]
    },
    {
     "name": "stdout",
     "output_type": "stream",
     "text": [
      "Starting 2-th embedding cycle...\n"
     ]
    },
    {
     "name": "stdout",
     "output_type": "stream",
     "text": [
      "Starting 3-th embedding cycle...\n"
     ]
    },
    {
     "name": "stdout",
     "output_type": "stream",
     "text": [
      "Starting 4-th embedding cycle...\n"
     ]
    },
    {
     "name": "stdout",
     "output_type": "stream",
     "text": [
      "Starting 5-th embedding cycle...\n"
     ]
    },
    {
     "name": "stdout",
     "output_type": "stream",
     "text": [
      "Starting 6-th embedding cycle...\n"
     ]
    },
    {
     "name": "stdout",
     "output_type": "stream",
     "text": [
      "Starting 7-th embedding cycle...\n"
     ]
    },
    {
     "name": "stdout",
     "output_type": "stream",
     "text": [
      "Starting 8-th embedding cycle...\n"
     ]
    },
    {
     "name": "stdout",
     "output_type": "stream",
     "text": [
      "Algorithm stopped due to increasing L-values. VALID embedding achieved ✓.\n",
      "[0, 1, 12, 10, 7, 4, 1, 3][2, 1, 1, 1, 1, 1, 2, 2]\n",
      "Initializing PECUZAL algorithm for multivariate input...\n",
      "Starting 1-th embedding cycle...\n"
     ]
    },
    {
     "name": "stdout",
     "output_type": "stream",
     "text": [
      "Starting 2-th embedding cycle..."
     ]
    },
    {
     "name": "stdout",
     "output_type": "stream",
     "text": [
      "\n",
      "Starting 3-th embedding cycle..."
     ]
    },
    {
     "name": "stdout",
     "output_type": "stream",
     "text": [
      "\n",
      "Starting 4-th embedding cycle...\n"
     ]
    },
    {
     "name": "stdout",
     "output_type": "stream",
     "text": [
      "Starting 5-th embedding cycle...\n"
     ]
    },
    {
     "name": "stdout",
     "output_type": "stream",
     "text": [
      "Algorithm stopped due to increasing L-values. VALID embedding achieved ✓.\n",
      "[0, 0, 11, 9, 4][2, 1, 1, 1, 2]\n",
      "Initializing PECUZAL algorithm for multivariate input...\n",
      "Starting 1-th embedding cycle..."
     ]
    },
    {
     "name": "stdout",
     "output_type": "stream",
     "text": [
      "\n",
      "Starting 2-th embedding cycle...\n"
     ]
    },
    {
     "name": "stdout",
     "output_type": "stream",
     "text": [
      "Starting 3-th embedding cycle...\n"
     ]
    },
    {
     "name": "stdout",
     "output_type": "stream",
     "text": [
      "Starting 4-th embedding cycle...\n"
     ]
    },
    {
     "name": "stdout",
     "output_type": "stream",
     "text": [
      "Starting 5-th embedding cycle...\n",
      "Starting 6-th embedding cycle...\n"
     ]
    },
    {
     "name": "stdout",
     "output_type": "stream",
     "text": [
      "Starting 7-th embedding cycle...\n"
     ]
    },
    {
     "name": "stdout",
     "output_type": "stream",
     "text": [
      "Algorithm stopped due to increasing L-values. VALID embedding achieved ✓.\n",
      "[0, 0, 11, 9, 4, 1, 2][2, 1, 1, 1, 2, 2, 2]\n",
      "Initializing PECUZAL algorithm for multivariate input...\n",
      "Starting 1-th embedding cycle...\n"
     ]
    },
    {
     "name": "stdout",
     "output_type": "stream",
     "text": [
      "Starting 2-th embedding cycle...\n"
     ]
    },
    {
     "name": "stdout",
     "output_type": "stream",
     "text": [
      "Starting 3-th embedding cycle..."
     ]
    },
    {
     "name": "stdout",
     "output_type": "stream",
     "text": [
      "\n",
      "Starting 4-th embedding cycle...\n"
     ]
    },
    {
     "name": "stdout",
     "output_type": "stream",
     "text": [
      "Starting 5-th embedding cycle...\n"
     ]
    },
    {
     "name": "stdout",
     "output_type": "stream",
     "text": [
      "Starting 6-th embedding cycle...\n"
     ]
    },
    {
     "name": "stdout",
     "output_type": "stream",
     "text": [
      "Starting 7-th embedding cycle..."
     ]
    },
    {
     "name": "stdout",
     "output_type": "stream",
     "text": [
      "\n",
      "Algorithm stopped due to increasing L-values. VALID embedding achieved ✓.\n",
      "[0, 1, 12, 14, 8, 8, 1][2, 1, 1, 1, 2, 1, 2]\n",
      "Initializing PECUZAL algorithm for multivariate input...\n",
      "Starting 1-th embedding cycle..."
     ]
    },
    {
     "name": "stdout",
     "output_type": "stream",
     "text": [
      "\n",
      "Starting 2-th embedding cycle...\n"
     ]
    },
    {
     "name": "stdout",
     "output_type": "stream",
     "text": [
      "Starting 3-th embedding cycle...\n"
     ]
    },
    {
     "name": "stdout",
     "output_type": "stream",
     "text": [
      "Starting 4-th embedding cycle...\n"
     ]
    },
    {
     "name": "stdout",
     "output_type": "stream",
     "text": [
      "Starting 5-th embedding cycle...\n"
     ]
    },
    {
     "name": "stdout",
     "output_type": "stream",
     "text": [
      "Starting 6-th embedding cycle...\n"
     ]
    },
    {
     "name": "stdout",
     "output_type": "stream",
     "text": [
      "Algorithm stopped due to increasing L-values. VALID embedding achieved ✓.\n",
      "[0, 1, 12, 10, 4, 4][2, 1, 1, 1, 1, 2]\n",
      "Initializing PECUZAL algorithm for multivariate input...\n",
      "Starting 1-th embedding cycle...\n"
     ]
    },
    {
     "name": "stdout",
     "output_type": "stream",
     "text": [
      "Starting 2-th embedding cycle...\n"
     ]
    },
    {
     "name": "stdout",
     "output_type": "stream",
     "text": [
      "Starting 3-th embedding cycle...\n"
     ]
    },
    {
     "name": "stdout",
     "output_type": "stream",
     "text": [
      "Starting 4-th embedding cycle...\n"
     ]
    },
    {
     "name": "stdout",
     "output_type": "stream",
     "text": [
      "Starting 5-th embedding cycle...\n"
     ]
    },
    {
     "name": "stdout",
     "output_type": "stream",
     "text": [
      "Starting 6-th embedding cycle...\n"
     ]
    },
    {
     "name": "stdout",
     "output_type": "stream",
     "text": [
      "Starting 7-th embedding cycle...\n"
     ]
    },
    {
     "name": "stdout",
     "output_type": "stream",
     "text": [
      "Algorithm stopped due to increasing L-values. VALID embedding achieved ✓.\n",
      "[0, 0, 11, 13, 6, 6, 1][2, 1, 1, 1, 2, 1, 2]\n",
      "Initializing PECUZAL algorithm for multivariate input...\n",
      "Starting 1-th embedding cycle...\n"
     ]
    },
    {
     "name": "stdout",
     "output_type": "stream",
     "text": [
      "Starting 2-th embedding cycle...\n"
     ]
    },
    {
     "name": "stdout",
     "output_type": "stream",
     "text": [
      "Starting 3-th embedding cycle...\n"
     ]
    },
    {
     "name": "stdout",
     "output_type": "stream",
     "text": [
      "Starting 4-th embedding cycle..."
     ]
    },
    {
     "name": "stdout",
     "output_type": "stream",
     "text": [
      "\n",
      "Starting 5-th embedding cycle..."
     ]
    },
    {
     "name": "stdout",
     "output_type": "stream",
     "text": [
      "\n",
      "Starting 6-th embedding cycle...\n"
     ]
    },
    {
     "name": "stdout",
     "output_type": "stream",
     "text": [
      "Starting 7-th embedding cycle...\n",
      "Algorithm stopped due to increasing L-values. VALID embedding achieved ✓."
     ]
    },
    {
     "name": "stdout",
     "output_type": "stream",
     "text": [
      "\n",
      "[0, 1, 12, 10, 8, 2, 6][2, 1, 1, 1, 1, 2, 1]\n",
      "Initializing PECUZAL algorithm for multivariate input...\n",
      "Starting 1-th embedding cycle...\n"
     ]
    },
    {
     "name": "stdout",
     "output_type": "stream",
     "text": [
      "Starting 2-th embedding cycle...\n"
     ]
    },
    {
     "name": "stdout",
     "output_type": "stream",
     "text": [
      "Starting 3-th embedding cycle..."
     ]
    },
    {
     "name": "stdout",
     "output_type": "stream",
     "text": [
      "\n",
      "Starting 4-th embedding cycle...\n"
     ]
    },
    {
     "name": "stdout",
     "output_type": "stream",
     "text": [
      "Starting 5-th embedding cycle...\n"
     ]
    },
    {
     "name": "stdout",
     "output_type": "stream",
     "text": [
      "Starting 6-th embedding cycle..."
     ]
    },
    {
     "name": "stdout",
     "output_type": "stream",
     "text": [
      "\n",
      "Starting 7-th embedding cycle...\n"
     ]
    },
    {
     "name": "stdout",
     "output_type": "stream",
     "text": [
      "Starting 8-th embedding cycle...\n"
     ]
    },
    {
     "name": "stdout",
     "output_type": "stream",
     "text": [
      "Algorithm stopped due to increasing L-values. VALID embedding achieved ✓.\n",
      "[0, 1, 12, 14, 7, 2, 7, 1][2, 1, 1, 1, 2, 2, 1, 2]\n",
      "Initializing PECUZAL algorithm for multivariate input...\n",
      "Starting 1-th embedding cycle...\n"
     ]
    },
    {
     "name": "stdout",
     "output_type": "stream",
     "text": [
      "Starting 2-th embedding cycle...\n"
     ]
    },
    {
     "name": "stdout",
     "output_type": "stream",
     "text": [
      "Starting 3-th embedding cycle...\n"
     ]
    },
    {
     "name": "stdout",
     "output_type": "stream",
     "text": [
      "Starting 4-th embedding cycle..."
     ]
    },
    {
     "name": "stdout",
     "output_type": "stream",
     "text": [
      "\n",
      "Starting 5-th embedding cycle...\n"
     ]
    },
    {
     "name": "stdout",
     "output_type": "stream",
     "text": [
      "Starting 6-th embedding cycle...\n"
     ]
    },
    {
     "name": "stdout",
     "output_type": "stream",
     "text": [
      "Starting 7-th embedding cycle...\n"
     ]
    },
    {
     "name": "stdout",
     "output_type": "stream",
     "text": [
      "Algorithm stopped due to increasing L-values. VALID embedding achieved ✓.\n",
      "[0, 0, 11, 9, 7, 3, 1][2, 1, 1, 1, 1, 2, 2]\n",
      "Initializing PECUZAL algorithm for multivariate input...\n",
      "Starting 1-th embedding cycle..."
     ]
    },
    {
     "name": "stdout",
     "output_type": "stream",
     "text": [
      "\n",
      "Starting 2-th embedding cycle..."
     ]
    },
    {
     "name": "stdout",
     "output_type": "stream",
     "text": [
      "\n",
      "Starting 3-th embedding cycle..."
     ]
    },
    {
     "name": "stdout",
     "output_type": "stream",
     "text": [
      "\n",
      "Starting 4-th embedding cycle...\n"
     ]
    },
    {
     "name": "stdout",
     "output_type": "stream",
     "text": [
      "Starting 5-th embedding cycle...\n"
     ]
    },
    {
     "name": "stdout",
     "output_type": "stream",
     "text": [
      "Starting 6-th embedding cycle...\n"
     ]
    },
    {
     "name": "stdout",
     "output_type": "stream",
     "text": [
      "Starting 7-th embedding cycle..."
     ]
    },
    {
     "name": "stdout",
     "output_type": "stream",
     "text": [
      "\n",
      "Algorithm stopped due to increasing L-values. VALID embedding achieved ✓.\n",
      "[0, 1, 12, 14, 7, 4, 1][2, 1, 1, 1, 2, 2, 2]\n",
      "Initializing PECUZAL algorithm for multivariate input...\n",
      "Starting 1-th embedding cycle..."
     ]
    },
    {
     "name": "stdout",
     "output_type": "stream",
     "text": [
      "\n",
      "Starting 2-th embedding cycle...\n"
     ]
    },
    {
     "name": "stdout",
     "output_type": "stream",
     "text": [
      "Starting 3-th embedding cycle...\n"
     ]
    },
    {
     "name": "stdout",
     "output_type": "stream",
     "text": [
      "Starting 4-th embedding cycle...\n"
     ]
    },
    {
     "name": "stdout",
     "output_type": "stream",
     "text": [
      "Starting 5-th embedding cycle...\n"
     ]
    },
    {
     "name": "stdout",
     "output_type": "stream",
     "text": [
      "Starting 6-th embedding cycle..."
     ]
    },
    {
     "name": "stdout",
     "output_type": "stream",
     "text": [
      "\n",
      "Algorithm stopped due to increasing L-values. VALID embedding achieved ✓.\n",
      "[0, 0, 11, 9, 6, 2][2, 1, 1, 1, 1, 2]\n",
      "Initializing PECUZAL algorithm for multivariate input...\n",
      "Starting 1-th embedding cycle...\n"
     ]
    },
    {
     "name": "stdout",
     "output_type": "stream",
     "text": [
      "Starting 2-th embedding cycle..."
     ]
    },
    {
     "name": "stdout",
     "output_type": "stream",
     "text": [
      "\n",
      "Starting 3-th embedding cycle..."
     ]
    },
    {
     "name": "stdout",
     "output_type": "stream",
     "text": [
      "\n",
      "Starting 4-th embedding cycle..."
     ]
    },
    {
     "name": "stdout",
     "output_type": "stream",
     "text": [
      "\n",
      "Starting 5-th embedding cycle..."
     ]
    },
    {
     "name": "stdout",
     "output_type": "stream",
     "text": [
      "\n",
      "Starting 6-th embedding cycle...\n"
     ]
    },
    {
     "name": "stdout",
     "output_type": "stream",
     "text": [
      "Starting 7-th embedding cycle...\n"
     ]
    },
    {
     "name": "stdout",
     "output_type": "stream",
     "text": [
      "Starting 8-th embedding cycle...\n"
     ]
    },
    {
     "name": "stdout",
     "output_type": "stream",
     "text": [
      "Algorithm stopped due to increasing L-values. VALID embedding achieved ✓.\n",
      "[0, 4, 2, 8, 10, 20, 18, 9][2, 2, 2, 1, 1, 1, 1, 1]\n",
      "Initializing PECUZAL algorithm for multivariate input...\n",
      "Starting 1-th embedding cycle...\n"
     ]
    },
    {
     "name": "stdout",
     "output_type": "stream",
     "text": [
      "Starting 2-th embedding cycle...\n"
     ]
    },
    {
     "name": "stdout",
     "output_type": "stream",
     "text": [
      "Starting 3-th embedding cycle...\n"
     ]
    },
    {
     "name": "stdout",
     "output_type": "stream",
     "text": [
      "Starting 4-th embedding cycle...\n"
     ]
    },
    {
     "name": "stdout",
     "output_type": "stream",
     "text": [
      "Starting 5-th embedding cycle...\n"
     ]
    },
    {
     "name": "stdout",
     "output_type": "stream",
     "text": [
      "Starting 6-th embedding cycle...\n"
     ]
    },
    {
     "name": "stdout",
     "output_type": "stream",
     "text": [
      "Algorithm stopped due to increasing L-values. VALID embedding achieved ✓.\n",
      "[0, 1, 12, 14, 7, 5][2, 1, 1, 1, 2, 2]\n",
      "Initializing PECUZAL algorithm for multivariate input...\n",
      "Starting 1-th embedding cycle..."
     ]
    },
    {
     "name": "stdout",
     "output_type": "stream",
     "text": [
      "\n",
      "Starting 2-th embedding cycle...\n"
     ]
    },
    {
     "name": "stdout",
     "output_type": "stream",
     "text": [
      "Starting 3-th embedding cycle..."
     ]
    },
    {
     "name": "stdout",
     "output_type": "stream",
     "text": [
      "\n",
      "Starting 4-th embedding cycle...\n"
     ]
    },
    {
     "name": "stdout",
     "output_type": "stream",
     "text": [
      "Starting 5-th embedding cycle..."
     ]
    },
    {
     "name": "stdout",
     "output_type": "stream",
     "text": [
      "\n",
      "Starting 6-th embedding cycle..."
     ]
    },
    {
     "name": "stdout",
     "output_type": "stream",
     "text": [
      "\n",
      "Starting 7-th embedding cycle...\n"
     ]
    },
    {
     "name": "stdout",
     "output_type": "stream",
     "text": [
      "Algorithm stopped due to increasing L-values. VALID embedding achieved ✓.\n",
      "[0, 1, 12, 14, 7, 5, 1][2, 1, 1, 1, 2, 2, 2]\n"
     ]
    },
    {
     "name": "stdout",
     "output_type": "stream",
     "text": [
      "Initializing PECUZAL algorithm for multivariate input...\n",
      "Starting 1-th embedding cycle...\n"
     ]
    },
    {
     "name": "stdout",
     "output_type": "stream",
     "text": [
      "Starting 2-th embedding cycle...\n"
     ]
    },
    {
     "name": "stdout",
     "output_type": "stream",
     "text": [
      "Starting 3-th embedding cycle..."
     ]
    },
    {
     "name": "stdout",
     "output_type": "stream",
     "text": [
      "\n",
      "Starting 4-th embedding cycle..."
     ]
    },
    {
     "name": "stdout",
     "output_type": "stream",
     "text": [
      "\n",
      "Starting 5-th embedding cycle...\n"
     ]
    },
    {
     "name": "stdout",
     "output_type": "stream",
     "text": [
      "Starting 6-th embedding cycle...\n"
     ]
    },
    {
     "name": "stdout",
     "output_type": "stream",
     "text": [
      "Starting 7-th embedding cycle..."
     ]
    },
    {
     "name": "stdout",
     "output_type": "stream",
     "text": [
      "\n",
      "Algorithm stopped due to increasing L-values. VALID embedding achieved ✓.\n",
      "[0, 1, 12, 14, 8, 8, 2][2, 1, 1, 1, 2, 1, 2]\n",
      "Initializing PECUZAL algorithm for multivariate input...\n",
      "Starting 1-th embedding cycle...\n"
     ]
    },
    {
     "name": "stdout",
     "output_type": "stream",
     "text": [
      "Starting 2-th embedding cycle...\n"
     ]
    },
    {
     "name": "stdout",
     "output_type": "stream",
     "text": [
      "Starting 3-th embedding cycle...\n"
     ]
    },
    {
     "name": "stdout",
     "output_type": "stream",
     "text": [
      "Starting 4-th embedding cycle...\n"
     ]
    },
    {
     "name": "stdout",
     "output_type": "stream",
     "text": [
      "Starting 5-th embedding cycle...\n"
     ]
    },
    {
     "name": "stdout",
     "output_type": "stream",
     "text": [
      "Starting 6-th embedding cycle...\n"
     ]
    },
    {
     "name": "stdout",
     "output_type": "stream",
     "text": [
      "Starting 7-th embedding cycle...\n"
     ]
    },
    {
     "name": "stdout",
     "output_type": "stream",
     "text": [
      "Algorithm stopped due to increasing L-values. VALID embedding achieved ✓.\n",
      "[0, 1, 12, 14, 9, 5, 2][2, 1, 1, 1, 1, 2, 2]\n",
      "Initializing PECUZAL algorithm for multivariate input...\n",
      "Starting 1-th embedding cycle..."
     ]
    },
    {
     "name": "stdout",
     "output_type": "stream",
     "text": [
      "\n",
      "Starting 2-th embedding cycle...\n"
     ]
    },
    {
     "name": "stdout",
     "output_type": "stream",
     "text": [
      "Starting 3-th embedding cycle..."
     ]
    },
    {
     "name": "stdout",
     "output_type": "stream",
     "text": [
      "\n",
      "Starting 4-th embedding cycle...\n"
     ]
    },
    {
     "name": "stdout",
     "output_type": "stream",
     "text": [
      "Starting 5-th embedding cycle...\n"
     ]
    },
    {
     "name": "stdout",
     "output_type": "stream",
     "text": [
      "Starting 6-th embedding cycle...\n"
     ]
    },
    {
     "name": "stdout",
     "output_type": "stream",
     "text": [
      "Starting 7-th embedding cycle..."
     ]
    },
    {
     "name": "stdout",
     "output_type": "stream",
     "text": [
      "\n",
      "Algorithm stopped due to increasing L-values. VALID embedding achieved ✓.\n",
      "[0, 1, 12, 14, 7, 7, 1][2, 1, 1, 1, 2, 1, 2]\n",
      "Initializing PECUZAL algorithm for multivariate input...\n",
      "Starting 1-th embedding cycle...\n"
     ]
    },
    {
     "name": "stdout",
     "output_type": "stream",
     "text": [
      "Starting 2-th embedding cycle...\n"
     ]
    },
    {
     "name": "stdout",
     "output_type": "stream",
     "text": [
      "Starting 3-th embedding cycle...\n",
      "Starting 4-th embedding cycle..."
     ]
    },
    {
     "name": "stdout",
     "output_type": "stream",
     "text": [
      "\n"
     ]
    },
    {
     "name": "stdout",
     "output_type": "stream",
     "text": [
      "Starting 5-th embedding cycle...\n"
     ]
    },
    {
     "name": "stdout",
     "output_type": "stream",
     "text": [
      "Starting 6-th embedding cycle...\n"
     ]
    },
    {
     "name": "stdout",
     "output_type": "stream",
     "text": [
      "Algorithm stopped due to increasing L-values. VALID embedding achieved ✓.\n",
      "[0, 1, 12, 14, 7, 4][2, 1, 1, 1, 2, 2]\n",
      "Initializing PECUZAL algorithm for multivariate input...\n",
      "Starting 1-th embedding cycle...\n"
     ]
    },
    {
     "name": "stdout",
     "output_type": "stream",
     "text": [
      "Starting 2-th embedding cycle...\n"
     ]
    },
    {
     "name": "stdout",
     "output_type": "stream",
     "text": [
      "Starting 3-th embedding cycle...\n"
     ]
    },
    {
     "name": "stdout",
     "output_type": "stream",
     "text": [
      "Starting 4-th embedding cycle...\n"
     ]
    },
    {
     "name": "stdout",
     "output_type": "stream",
     "text": [
      "Starting 5-th embedding cycle...\n"
     ]
    },
    {
     "name": "stdout",
     "output_type": "stream",
     "text": [
      "Starting 6-th embedding cycle...\n"
     ]
    },
    {
     "name": "stdout",
     "output_type": "stream",
     "text": [
      "Starting 7-th embedding cycle..."
     ]
    },
    {
     "name": "stdout",
     "output_type": "stream",
     "text": [
      "\n",
      "Algorithm stopped due to increasing L-values. VALID embedding achieved ✓.\n",
      "[0, 1, 12, 14, 7, 5, 1][2, 1, 1, 1, 2, 2, 2]\n",
      "Initializing PECUZAL algorithm for multivariate input...\n",
      "Starting 1-th embedding cycle...\n"
     ]
    },
    {
     "name": "stdout",
     "output_type": "stream",
     "text": [
      "Starting 2-th embedding cycle...\n"
     ]
    },
    {
     "name": "stdout",
     "output_type": "stream",
     "text": [
      "Starting 3-th embedding cycle..."
     ]
    },
    {
     "name": "stdout",
     "output_type": "stream",
     "text": [
      "\n",
      "Starting 4-th embedding cycle..."
     ]
    },
    {
     "name": "stdout",
     "output_type": "stream",
     "text": [
      "\n",
      "Starting 5-th embedding cycle...\n"
     ]
    },
    {
     "name": "stdout",
     "output_type": "stream",
     "text": [
      "Starting 6-th embedding cycle...\n"
     ]
    },
    {
     "name": "stdout",
     "output_type": "stream",
     "text": [
      "Starting 7-th embedding cycle..."
     ]
    },
    {
     "name": "stdout",
     "output_type": "stream",
     "text": [
      "\n",
      "Algorithm stopped due to increasing L-values. VALID embedding achieved ✓.\n",
      "[0, 1, 12, 14, 7, 4, 1][2, 1, 1, 1, 2, 2, 2]\n",
      "Initializing PECUZAL algorithm for multivariate input...\n",
      "Starting 1-th embedding cycle...\n"
     ]
    },
    {
     "name": "stdout",
     "output_type": "stream",
     "text": [
      "Starting 2-th embedding cycle...\n"
     ]
    },
    {
     "name": "stdout",
     "output_type": "stream",
     "text": [
      "Starting 3-th embedding cycle...\n"
     ]
    },
    {
     "name": "stdout",
     "output_type": "stream",
     "text": [
      "Starting 4-th embedding cycle...\n",
      "Starting 5-th embedding cycle...\n"
     ]
    },
    {
     "name": "stdout",
     "output_type": "stream",
     "text": [
      "Starting 6-th embedding cycle..."
     ]
    },
    {
     "name": "stdout",
     "output_type": "stream",
     "text": [
      "\n",
      "Starting 7-th embedding cycle...\n"
     ]
    },
    {
     "name": "stdout",
     "output_type": "stream",
     "text": [
      "Starting 8-th embedding cycle...\n"
     ]
    },
    {
     "name": "stdout",
     "output_type": "stream",
     "text": [
      "Algorithm stopped due to increasing L-values. VALID embedding achieved ✓.\n",
      "[0, 1, 12, 10, 8, 2, 1, 6][2, 1, 1, 1, 1, 2, 2, 1]\n",
      "Initializing PECUZAL algorithm for multivariate input...\n",
      "Starting 1-th embedding cycle...\n"
     ]
    },
    {
     "name": "stdout",
     "output_type": "stream",
     "text": [
      "Starting 2-th embedding cycle...\n"
     ]
    },
    {
     "name": "stdout",
     "output_type": "stream",
     "text": [
      "Starting 3-th embedding cycle...\n"
     ]
    },
    {
     "name": "stdout",
     "output_type": "stream",
     "text": [
      "Starting 4-th embedding cycle...\n"
     ]
    },
    {
     "name": "stdout",
     "output_type": "stream",
     "text": [
      "Starting 5-th embedding cycle...\n"
     ]
    },
    {
     "name": "stdout",
     "output_type": "stream",
     "text": [
      "Starting 6-th embedding cycle...\n"
     ]
    },
    {
     "name": "stdout",
     "output_type": "stream",
     "text": [
      "Algorithm stopped due to increasing L-values. VALID embedding achieved ✓.\n",
      "[0, 1, 12, 10, 8, 3][2, 1, 1, 1, 1, 2]\n",
      "Initializing PECUZAL algorithm for multivariate input...\n",
      "Starting 1-th embedding cycle...\n"
     ]
    },
    {
     "name": "stdout",
     "output_type": "stream",
     "text": [
      "Starting 2-th embedding cycle...\n"
     ]
    },
    {
     "name": "stdout",
     "output_type": "stream",
     "text": [
      "Starting 3-th embedding cycle..."
     ]
    },
    {
     "name": "stdout",
     "output_type": "stream",
     "text": [
      "\n",
      "Starting 4-th embedding cycle...\n"
     ]
    },
    {
     "name": "stdout",
     "output_type": "stream",
     "text": [
      "Starting 5-th embedding cycle...\n"
     ]
    },
    {
     "name": "stdout",
     "output_type": "stream",
     "text": [
      "Starting 6-th embedding cycle...\n"
     ]
    },
    {
     "name": "stdout",
     "output_type": "stream",
     "text": [
      "Starting 7-th embedding cycle...\n"
     ]
    },
    {
     "name": "stdout",
     "output_type": "stream",
     "text": [
      "Algorithm stopped due to increasing L-values. VALID embedding achieved ✓.\n",
      "[0, 1, 12, 14, 7, 5, 1][2, 1, 1, 1, 2, 2, 2]\n",
      "Initializing PECUZAL algorithm for multivariate input...\n",
      "Starting 1-th embedding cycle...\n"
     ]
    },
    {
     "name": "stdout",
     "output_type": "stream",
     "text": [
      "Starting 2-th embedding cycle...\n"
     ]
    },
    {
     "name": "stdout",
     "output_type": "stream",
     "text": [
      "Starting 3-th embedding cycle...\n"
     ]
    },
    {
     "name": "stdout",
     "output_type": "stream",
     "text": [
      "Starting 4-th embedding cycle...\n"
     ]
    },
    {
     "name": "stdout",
     "output_type": "stream",
     "text": [
      "Starting 5-th embedding cycle...\n"
     ]
    },
    {
     "name": "stdout",
     "output_type": "stream",
     "text": [
      "Starting 6-th embedding cycle...\n"
     ]
    },
    {
     "name": "stdout",
     "output_type": "stream",
     "text": [
      "Starting 7-th embedding cycle...\n"
     ]
    },
    {
     "name": "stdout",
     "output_type": "stream",
     "text": [
      "Starting 8-th embedding cycle...\n"
     ]
    },
    {
     "name": "stdout",
     "output_type": "stream",
     "text": [
      "Algorithm stopped due to increasing L-values. VALID embedding achieved ✓.\n",
      "[0, 1, 12, 14, 6, 4, 1, 2][2, 1, 1, 1, 1, 1, 2, 2]\n",
      "Initializing PECUZAL algorithm for multivariate input...\n",
      "Starting 1-th embedding cycle...\n"
     ]
    },
    {
     "name": "stdout",
     "output_type": "stream",
     "text": [
      "Starting 2-th embedding cycle...\n"
     ]
    },
    {
     "name": "stdout",
     "output_type": "stream",
     "text": [
      "Starting 3-th embedding cycle...\n"
     ]
    },
    {
     "name": "stdout",
     "output_type": "stream",
     "text": [
      "Starting 4-th embedding cycle...\n"
     ]
    },
    {
     "name": "stdout",
     "output_type": "stream",
     "text": [
      "Starting 5-th embedding cycle..."
     ]
    },
    {
     "name": "stdout",
     "output_type": "stream",
     "text": [
      "\n",
      "Starting 6-th embedding cycle...\n"
     ]
    },
    {
     "name": "stdout",
     "output_type": "stream",
     "text": [
      "Algorithm stopped due to increasing L-values. VALID embedding achieved ✓.\n",
      "[0, 0, 11, 9, 6, 2][2, 1, 1, 1, 1, 2]\n",
      "Initializing PECUZAL algorithm for multivariate input...\n",
      "Starting 1-th embedding cycle..."
     ]
    },
    {
     "name": "stdout",
     "output_type": "stream",
     "text": [
      "\n",
      "Starting 2-th embedding cycle..."
     ]
    },
    {
     "name": "stdout",
     "output_type": "stream",
     "text": [
      "\n",
      "Starting 3-th embedding cycle...\n"
     ]
    },
    {
     "name": "stdout",
     "output_type": "stream",
     "text": [
      "Starting 4-th embedding cycle...\n"
     ]
    },
    {
     "name": "stdout",
     "output_type": "stream",
     "text": [
      "Starting 5-th embedding cycle...\n"
     ]
    },
    {
     "name": "stdout",
     "output_type": "stream",
     "text": [
      "Starting 6-th embedding cycle...\n"
     ]
    },
    {
     "name": "stdout",
     "output_type": "stream",
     "text": [
      "Starting 7-th embedding cycle...\n"
     ]
    },
    {
     "name": "stdout",
     "output_type": "stream",
     "text": [
      "Starting 8-th embedding cycle...\n"
     ]
    },
    {
     "name": "stdout",
     "output_type": "stream",
     "text": [
      "Algorithm stopped due to increasing L-values. VALID embedding achieved ✓.\n",
      "[0, 0, 11, 13, 6, 8, 1, 3][2, 1, 1, 1, 2, 2, 2, 2]\n",
      "Initializing PECUZAL algorithm for multivariate input...\n",
      "Starting 1-th embedding cycle...\n"
     ]
    },
    {
     "name": "stdout",
     "output_type": "stream",
     "text": [
      "Starting 2-th embedding cycle...\n"
     ]
    },
    {
     "name": "stdout",
     "output_type": "stream",
     "text": [
      "Starting 3-th embedding cycle...\n"
     ]
    },
    {
     "name": "stdout",
     "output_type": "stream",
     "text": [
      "Starting 4-th embedding cycle...\n"
     ]
    },
    {
     "name": "stdout",
     "output_type": "stream",
     "text": [
      "Starting 5-th embedding cycle...\n"
     ]
    },
    {
     "name": "stdout",
     "output_type": "stream",
     "text": [
      "Starting 6-th embedding cycle...\n"
     ]
    },
    {
     "name": "stdout",
     "output_type": "stream",
     "text": [
      "Starting 7-th embedding cycle...\n"
     ]
    },
    {
     "name": "stdout",
     "output_type": "stream",
     "text": [
      "Algorithm stopped due to increasing L-values. VALID embedding achieved ✓.\n",
      "[0, 0, 11, 13, 6, 4, 1][2, 1, 1, 1, 2, 2, 2]\n",
      "Initializing PECUZAL algorithm for multivariate input...\n",
      "Starting 1-th embedding cycle..."
     ]
    },
    {
     "name": "stdout",
     "output_type": "stream",
     "text": [
      "\n",
      "Starting 2-th embedding cycle...\n"
     ]
    },
    {
     "name": "stdout",
     "output_type": "stream",
     "text": [
      "Starting 3-th embedding cycle...\n"
     ]
    },
    {
     "name": "stdout",
     "output_type": "stream",
     "text": [
      "Starting 4-th embedding cycle...\n"
     ]
    },
    {
     "name": "stdout",
     "output_type": "stream",
     "text": [
      "Starting 5-th embedding cycle...\n"
     ]
    },
    {
     "name": "stdout",
     "output_type": "stream",
     "text": [
      "Starting 6-th embedding cycle...\n"
     ]
    },
    {
     "name": "stdout",
     "output_type": "stream",
     "text": [
      "Starting 7-th embedding cycle...\n"
     ]
    },
    {
     "name": "stdout",
     "output_type": "stream",
     "text": [
      "Algorithm stopped due to increasing L-values. VALID embedding achieved ✓.\n",
      "[0, 1, 12, 14, 7, 5, 1][2, 1, 1, 1, 2, 2, 2]\n",
      "Initializing PECUZAL algorithm for multivariate input...\n",
      "Starting 1-th embedding cycle..."
     ]
    },
    {
     "name": "stdout",
     "output_type": "stream",
     "text": [
      "\n",
      "Starting 2-th embedding cycle...\n"
     ]
    },
    {
     "name": "stdout",
     "output_type": "stream",
     "text": [
      "Starting 3-th embedding cycle...\n"
     ]
    },
    {
     "name": "stdout",
     "output_type": "stream",
     "text": [
      "Starting 4-th embedding cycle...\n"
     ]
    },
    {
     "name": "stdout",
     "output_type": "stream",
     "text": [
      "Starting 5-th embedding cycle...\n"
     ]
    },
    {
     "name": "stdout",
     "output_type": "stream",
     "text": [
      "Starting 6-th embedding cycle...\n"
     ]
    },
    {
     "name": "stdout",
     "output_type": "stream",
     "text": [
      "Algorithm stopped due to increasing L-values. VALID embedding achieved ✓.\n",
      "[0, 1, 12, 14, 7, 5][2, 1, 1, 1, 2, 2]\n",
      "Initializing PECUZAL algorithm for multivariate input...\n",
      "Starting 1-th embedding cycle...\n"
     ]
    },
    {
     "name": "stdout",
     "output_type": "stream",
     "text": [
      "Starting 2-th embedding cycle..."
     ]
    },
    {
     "name": "stdout",
     "output_type": "stream",
     "text": [
      "\n",
      "Starting 3-th embedding cycle...\n"
     ]
    },
    {
     "name": "stdout",
     "output_type": "stream",
     "text": [
      "Starting 4-th embedding cycle...\n"
     ]
    },
    {
     "name": "stdout",
     "output_type": "stream",
     "text": [
      "Starting 5-th embedding cycle...\n"
     ]
    },
    {
     "name": "stdout",
     "output_type": "stream",
     "text": [
      "Starting 6-th embedding cycle...\n"
     ]
    },
    {
     "name": "stdout",
     "output_type": "stream",
     "text": [
      "Algorithm stopped due to increasing L-values. VALID embedding achieved ✓.\n",
      "[0, 1, 12, 14, 8, 8][2, 1, 1, 1, 2, 1]\n",
      "Initializing PECUZAL algorithm for multivariate input...\n",
      "Starting 1-th embedding cycle...\n"
     ]
    },
    {
     "name": "stdout",
     "output_type": "stream",
     "text": [
      "Starting 2-th embedding cycle...\n"
     ]
    },
    {
     "name": "stdout",
     "output_type": "stream",
     "text": [
      "Starting 3-th embedding cycle...\n"
     ]
    },
    {
     "name": "stdout",
     "output_type": "stream",
     "text": [
      "Starting 4-th embedding cycle..."
     ]
    },
    {
     "name": "stdout",
     "output_type": "stream",
     "text": [
      "\n",
      "Starting 5-th embedding cycle..."
     ]
    },
    {
     "name": "stdout",
     "output_type": "stream",
     "text": [
      "\n",
      "Algorithm stopped due to increasing L-values. VALID embedding achieved ✓.\n",
      "[0, 1, 12, 10, 6][2, 1, 1, 1, 2]\n",
      "Initializing PECUZAL algorithm for multivariate input...\n",
      "Starting 1-th embedding cycle..."
     ]
    },
    {
     "name": "stdout",
     "output_type": "stream",
     "text": [
      "\n",
      "Starting 2-th embedding cycle...\n"
     ]
    },
    {
     "name": "stdout",
     "output_type": "stream",
     "text": [
      "Starting 3-th embedding cycle...\n"
     ]
    },
    {
     "name": "stdout",
     "output_type": "stream",
     "text": [
      "Starting 4-th embedding cycle...\n"
     ]
    },
    {
     "name": "stdout",
     "output_type": "stream",
     "text": [
      "Starting 5-th embedding cycle...\n"
     ]
    },
    {
     "name": "stdout",
     "output_type": "stream",
     "text": [
      "Starting 6-th embedding cycle...\n"
     ]
    },
    {
     "name": "stdout",
     "output_type": "stream",
     "text": [
      "Algorithm stopped due to increasing L-values. VALID embedding achieved ✓.\n",
      "[0, 1, 12, 14, 6, 6][2, 1, 1, 1, 1, 2]\n",
      "Initializing PECUZAL algorithm for multivariate input...\n",
      "Starting 1-th embedding cycle...\n"
     ]
    },
    {
     "name": "stdout",
     "output_type": "stream",
     "text": [
      "Starting 2-th embedding cycle..."
     ]
    },
    {
     "name": "stdout",
     "output_type": "stream",
     "text": [
      "\n",
      "Starting 3-th embedding cycle..."
     ]
    },
    {
     "name": "stdout",
     "output_type": "stream",
     "text": [
      "\n",
      "Starting 4-th embedding cycle...\n"
     ]
    },
    {
     "name": "stdout",
     "output_type": "stream",
     "text": [
      "Starting 5-th embedding cycle...\n"
     ]
    },
    {
     "name": "stdout",
     "output_type": "stream",
     "text": [
      "Starting 6-th embedding cycle...\n"
     ]
    },
    {
     "name": "stdout",
     "output_type": "stream",
     "text": [
      "Starting 7-th embedding cycle...\n"
     ]
    },
    {
     "name": "stdout",
     "output_type": "stream",
     "text": [
      "Algorithm stopped due to increasing L-values. VALID embedding achieved ✓.\n",
      "[0, 1, 12, 14, 7, 1, 5][2, 1, 1, 1, 2, 2, 2]\n",
      "Initializing PECUZAL algorithm for multivariate input...\n",
      "Starting 1-th embedding cycle...\n"
     ]
    },
    {
     "name": "stdout",
     "output_type": "stream",
     "text": [
      "Starting 2-th embedding cycle...\n"
     ]
    },
    {
     "name": "stdout",
     "output_type": "stream",
     "text": [
      "Starting 3-th embedding cycle...\n"
     ]
    },
    {
     "name": "stdout",
     "output_type": "stream",
     "text": [
      "Starting 4-th embedding cycle...\n"
     ]
    },
    {
     "name": "stdout",
     "output_type": "stream",
     "text": [
      "Starting 5-th embedding cycle...\n"
     ]
    },
    {
     "name": "stdout",
     "output_type": "stream",
     "text": [
      "Starting 6-th embedding cycle...\n"
     ]
    },
    {
     "name": "stdout",
     "output_type": "stream",
     "text": [
      "Starting 7-th embedding cycle...\n"
     ]
    },
    {
     "name": "stdout",
     "output_type": "stream",
     "text": [
      "Algorithm stopped due to increasing L-values. VALID embedding achieved ✓.\n",
      "[0, 1, 12, 14, 7, 7, 1][2, 1, 1, 1, 2, 1, 2]\n"
     ]
    },
    {
     "name": "stdout",
     "output_type": "stream",
     "text": [
      "Initializing PECUZAL algorithm for multivariate input...\n",
      "Starting 1-th embedding cycle...\n"
     ]
    },
    {
     "name": "stdout",
     "output_type": "stream",
     "text": [
      "Starting 2-th embedding cycle...\n"
     ]
    },
    {
     "name": "stdout",
     "output_type": "stream",
     "text": [
      "Starting 3-th embedding cycle...\n"
     ]
    },
    {
     "name": "stdout",
     "output_type": "stream",
     "text": [
      "Starting 4-th embedding cycle...\n"
     ]
    },
    {
     "name": "stdout",
     "output_type": "stream",
     "text": [
      "Starting 5-th embedding cycle...\n"
     ]
    },
    {
     "name": "stdout",
     "output_type": "stream",
     "text": [
      "Starting 6-th embedding cycle...\n"
     ]
    },
    {
     "name": "stdout",
     "output_type": "stream",
     "text": [
      "Starting 7-th embedding cycle...\n"
     ]
    },
    {
     "name": "stdout",
     "output_type": "stream",
     "text": [
      "Starting 8-th embedding cycle...\n"
     ]
    },
    {
     "name": "stdout",
     "output_type": "stream",
     "text": [
      "Algorithm stopped due to increasing L-values. VALID embedding achieved ✓.\n",
      "[0, 1, 12, 10, 8, 2, 6, 1][2, 1, 1, 1, 1, 2, 1, 2]\n",
      "Initializing PECUZAL algorithm for multivariate input...\n",
      "Starting 1-th embedding cycle...\n"
     ]
    },
    {
     "name": "stdout",
     "output_type": "stream",
     "text": [
      "Starting 2-th embedding cycle...\n"
     ]
    },
    {
     "name": "stdout",
     "output_type": "stream",
     "text": [
      "Starting 3-th embedding cycle...\n"
     ]
    },
    {
     "name": "stdout",
     "output_type": "stream",
     "text": [
      "Starting 4-th embedding cycle...\n"
     ]
    },
    {
     "name": "stdout",
     "output_type": "stream",
     "text": [
      "Starting 5-th embedding cycle..."
     ]
    },
    {
     "name": "stdout",
     "output_type": "stream",
     "text": [
      "\n",
      "Starting 6-th embedding cycle..."
     ]
    },
    {
     "name": "stdout",
     "output_type": "stream",
     "text": [
      "\n",
      "Starting 7-th embedding cycle...\n"
     ]
    },
    {
     "name": "stdout",
     "output_type": "stream",
     "text": [
      "Algorithm stopped due to increasing L-values. VALID embedding achieved ✓.\n",
      "[0, 0, 11, 13, 8, 6, 2][2, 1, 1, 1, 1, 1, 2]\n",
      "Initializing PECUZAL algorithm for multivariate input...\n",
      "Starting 1-th embedding cycle...\n"
     ]
    },
    {
     "name": "stdout",
     "output_type": "stream",
     "text": [
      "Starting 2-th embedding cycle...\n"
     ]
    },
    {
     "name": "stdout",
     "output_type": "stream",
     "text": [
      "Starting 3-th embedding cycle...\n"
     ]
    },
    {
     "name": "stdout",
     "output_type": "stream",
     "text": [
      "Starting 4-th embedding cycle...\n"
     ]
    },
    {
     "name": "stdout",
     "output_type": "stream",
     "text": [
      "Starting 5-th embedding cycle...\n"
     ]
    },
    {
     "name": "stdout",
     "output_type": "stream",
     "text": [
      "Starting 6-th embedding cycle..."
     ]
    },
    {
     "name": "stdout",
     "output_type": "stream",
     "text": [
      "\n",
      "Starting 7-th embedding cycle...\n"
     ]
    },
    {
     "name": "stdout",
     "output_type": "stream",
     "text": [
      "Algorithm stopped due to increasing L-values. VALID embedding achieved ✓.\n",
      "[0, 0, 11, 13, 6, 3, 1][2, 1, 1, 1, 2, 2, 2]\n",
      "Initializing PECUZAL algorithm for multivariate input...\n",
      "Starting 1-th embedding cycle...\n"
     ]
    },
    {
     "name": "stdout",
     "output_type": "stream",
     "text": [
      "Starting 2-th embedding cycle...\n"
     ]
    },
    {
     "name": "stdout",
     "output_type": "stream",
     "text": [
      "Starting 3-th embedding cycle...\n"
     ]
    },
    {
     "name": "stdout",
     "output_type": "stream",
     "text": [
      "Starting 4-th embedding cycle...\n"
     ]
    },
    {
     "name": "stdout",
     "output_type": "stream",
     "text": [
      "Starting 5-th embedding cycle...\n"
     ]
    },
    {
     "name": "stdout",
     "output_type": "stream",
     "text": [
      "Starting 6-th embedding cycle..."
     ]
    },
    {
     "name": "stdout",
     "output_type": "stream",
     "text": [
      "\n",
      "Starting 7-th embedding cycle...\n"
     ]
    },
    {
     "name": "stdout",
     "output_type": "stream",
     "text": [
      "Algorithm stopped due to increasing L-values. VALID embedding achieved ✓.\n",
      "[0, 1, 12, 14, 7, 5, 1][2, 1, 1, 1, 2, 2, 2]\n",
      "Initializing PECUZAL algorithm for multivariate input...\n",
      "Starting 1-th embedding cycle...\n"
     ]
    },
    {
     "name": "stdout",
     "output_type": "stream",
     "text": [
      "Starting 2-th embedding cycle..."
     ]
    },
    {
     "name": "stdout",
     "output_type": "stream",
     "text": [
      "\n",
      "Starting 3-th embedding cycle..."
     ]
    },
    {
     "name": "stdout",
     "output_type": "stream",
     "text": [
      "\n",
      "Starting 4-th embedding cycle..."
     ]
    },
    {
     "name": "stdout",
     "output_type": "stream",
     "text": [
      "\n",
      "Starting 5-th embedding cycle...\n"
     ]
    },
    {
     "name": "stdout",
     "output_type": "stream",
     "text": [
      "Starting 6-th embedding cycle...\n"
     ]
    },
    {
     "name": "stdout",
     "output_type": "stream",
     "text": [
      "Algorithm stopped due to increasing L-values. VALID embedding achieved ✓.\n",
      "[0, 1, 12, 10, 7, 2][2, 1, 1, 1, 1, 2]\n",
      "Initializing PECUZAL algorithm for multivariate input...\n",
      "Starting 1-th embedding cycle...\n"
     ]
    },
    {
     "name": "stdout",
     "output_type": "stream",
     "text": [
      "Starting 2-th embedding cycle...\n"
     ]
    },
    {
     "name": "stdout",
     "output_type": "stream",
     "text": [
      "Starting 3-th embedding cycle...\n"
     ]
    },
    {
     "name": "stdout",
     "output_type": "stream",
     "text": [
      "Starting 4-th embedding cycle..."
     ]
    },
    {
     "name": "stdout",
     "output_type": "stream",
     "text": [
      "\n",
      "Starting 5-th embedding cycle...\n"
     ]
    },
    {
     "name": "stdout",
     "output_type": "stream",
     "text": [
      "Starting 6-th embedding cycle...\n"
     ]
    },
    {
     "name": "stdout",
     "output_type": "stream",
     "text": [
      "Starting 7-th embedding cycle...\n"
     ]
    },
    {
     "name": "stdout",
     "output_type": "stream",
     "text": [
      "Algorithm stopped due to increasing L-values. VALID embedding achieved ✓.\n",
      "[0, 1, 12, 14, 7, 1, 5][2, 1, 1, 1, 2, 2, 2]\n",
      "Initializing PECUZAL algorithm for multivariate input...\n",
      "Starting 1-th embedding cycle..."
     ]
    },
    {
     "name": "stdout",
     "output_type": "stream",
     "text": [
      "\n",
      "Starting 2-th embedding cycle...\n"
     ]
    },
    {
     "name": "stdout",
     "output_type": "stream",
     "text": [
      "Starting 3-th embedding cycle...\n",
      "Starting 4-th embedding cycle..."
     ]
    },
    {
     "name": "stdout",
     "output_type": "stream",
     "text": [
      "\n"
     ]
    },
    {
     "name": "stdout",
     "output_type": "stream",
     "text": [
      "Starting 5-th embedding cycle...\n",
      "Starting 6-th embedding cycle..."
     ]
    },
    {
     "name": "stdout",
     "output_type": "stream",
     "text": [
      "\n",
      "Starting 7-th embedding cycle..."
     ]
    },
    {
     "name": "stdout",
     "output_type": "stream",
     "text": [
      "\n"
     ]
    },
    {
     "name": "stdout",
     "output_type": "stream",
     "text": [
      "Starting 8-th embedding cycle...\n"
     ]
    },
    {
     "name": "stdout",
     "output_type": "stream",
     "text": [
      "Algorithm stopped due to increasing L-values. VALID embedding achieved ✓.\n",
      "[0, 0, 11, 13, 6, 6, 1, 3][2, 1, 1, 1, 2, 1, 2, 2]\n"
     ]
    },
    {
     "name": "stdout",
     "output_type": "stream",
     "text": [
      "Initializing PECUZAL algorithm for multivariate input...\n",
      "Starting 1-th embedding cycle...\n"
     ]
    },
    {
     "name": "stdout",
     "output_type": "stream",
     "text": [
      "Starting 2-th embedding cycle...\n"
     ]
    },
    {
     "name": "stdout",
     "output_type": "stream",
     "text": [
      "Starting 3-th embedding cycle...\n"
     ]
    },
    {
     "name": "stdout",
     "output_type": "stream",
     "text": [
      "Starting 4-th embedding cycle...\n"
     ]
    },
    {
     "name": "stdout",
     "output_type": "stream",
     "text": [
      "Starting 5-th embedding cycle...\n"
     ]
    },
    {
     "name": "stdout",
     "output_type": "stream",
     "text": [
      "Starting 6-th embedding cycle...\n"
     ]
    },
    {
     "name": "stdout",
     "output_type": "stream",
     "text": [
      "Algorithm stopped due to increasing L-values. VALID embedding achieved ✓.\n",
      "[0, 0, 11, 9, 7, 5][2, 1, 1, 1, 1, 1]\n"
     ]
    },
    {
     "name": "stdout",
     "output_type": "stream",
     "text": [
      "Initializing PECUZAL algorithm for multivariate input...\n",
      "Starting 1-th embedding cycle...\n"
     ]
    },
    {
     "name": "stdout",
     "output_type": "stream",
     "text": [
      "Starting 2-th embedding cycle...\n"
     ]
    },
    {
     "name": "stdout",
     "output_type": "stream",
     "text": [
      "Starting 3-th embedding cycle...\n"
     ]
    },
    {
     "name": "stdout",
     "output_type": "stream",
     "text": [
      "Starting 4-th embedding cycle...\n"
     ]
    },
    {
     "name": "stdout",
     "output_type": "stream",
     "text": [
      "Starting 5-th embedding cycle...\n"
     ]
    },
    {
     "name": "stdout",
     "output_type": "stream",
     "text": [
      "Starting 6-th embedding cycle..."
     ]
    },
    {
     "name": "stdout",
     "output_type": "stream",
     "text": [
      "\n",
      "Starting 7-th embedding cycle...\n"
     ]
    },
    {
     "name": "stdout",
     "output_type": "stream",
     "text": [
      "Starting 8-th embedding cycle..."
     ]
    },
    {
     "name": "stdout",
     "output_type": "stream",
     "text": [
      "\n",
      "Starting 9-th embedding cycle..."
     ]
    },
    {
     "name": "stdout",
     "output_type": "stream",
     "text": [
      "\n",
      "Starting 10-th embedding cycle..."
     ]
    },
    {
     "name": "stdout",
     "output_type": "stream",
     "text": [
      "\n",
      "Algorithm stopped due to increasing L-values. VALID embedding achieved ✓.\n",
      "[0, 1, 12, 10, 25, 27, 20, 7, 18, 2][2, 1, 1, 1, 1, 1, 2, 1, 2, 2]\n"
     ]
    },
    {
     "name": "stdout",
     "output_type": "stream",
     "text": [
      "Initializing PECUZAL algorithm for multivariate input...\n",
      "Starting 1-th embedding cycle...\n"
     ]
    },
    {
     "name": "stdout",
     "output_type": "stream",
     "text": [
      "Starting 2-th embedding cycle...\n"
     ]
    },
    {
     "name": "stdout",
     "output_type": "stream",
     "text": [
      "Starting 3-th embedding cycle...\n"
     ]
    },
    {
     "name": "stdout",
     "output_type": "stream",
     "text": [
      "Starting 4-th embedding cycle...\n"
     ]
    },
    {
     "name": "stdout",
     "output_type": "stream",
     "text": [
      "Starting 5-th embedding cycle...\n"
     ]
    },
    {
     "name": "stdout",
     "output_type": "stream",
     "text": [
      "Starting 6-th embedding cycle...\n"
     ]
    },
    {
     "name": "stdout",
     "output_type": "stream",
     "text": [
      "Starting 7-th embedding cycle...\n"
     ]
    },
    {
     "name": "stdout",
     "output_type": "stream",
     "text": [
      "Starting 8-th embedding cycle...\n"
     ]
    },
    {
     "name": "stdout",
     "output_type": "stream",
     "text": [
      "Starting 9-th embedding cycle...\n"
     ]
    },
    {
     "name": "stdout",
     "output_type": "stream",
     "text": [
      "Starting 10-th embedding cycle...\n"
     ]
    },
    {
     "name": "stdout",
     "output_type": "stream",
     "text": [
      "Starting 11-th embedding cycle...\n"
     ]
    },
    {
     "name": "stdout",
     "output_type": "stream",
     "text": [
      "Starting 12-th embedding cycle...\n"
     ]
    },
    {
     "name": "stdout",
     "output_type": "stream",
     "text": [
      "Starting 13-th embedding cycle...\n"
     ]
    },
    {
     "name": "stdout",
     "output_type": "stream",
     "text": [
      "Starting 14-th embedding cycle...\n"
     ]
    },
    {
     "name": "stdout",
     "output_type": "stream",
     "text": [
      "Algorithm stopped due to increasing L-values. VALID embedding achieved ✓.\n",
      "[0, 1, 12, 14, 6, 4, 29, 45, 39, 42, 36, 23, 34, 21][2, 1, 1, 1, 1, 1, 2, 1, 1, 1, 1, 1, 1, 1]\n"
     ]
    },
    {
     "name": "stdout",
     "output_type": "stream",
     "text": [
      "Initializing PECUZAL algorithm for multivariate input...\n",
      "Starting 1-th embedding cycle...\n"
     ]
    },
    {
     "name": "stdout",
     "output_type": "stream",
     "text": [
      "Starting 2-th embedding cycle..."
     ]
    },
    {
     "name": "stdout",
     "output_type": "stream",
     "text": [
      "\n",
      "Starting 3-th embedding cycle...\n"
     ]
    },
    {
     "name": "stdout",
     "output_type": "stream",
     "text": [
      "Starting 4-th embedding cycle...\n"
     ]
    },
    {
     "name": "stdout",
     "output_type": "stream",
     "text": [
      "Starting 5-th embedding cycle...\n"
     ]
    },
    {
     "name": "stdout",
     "output_type": "stream",
     "text": [
      "Starting 6-th embedding cycle...\n"
     ]
    },
    {
     "name": "stdout",
     "output_type": "stream",
     "text": [
      "Algorithm stopped due to increasing L-values. VALID embedding achieved ✓.\n",
      "[0, 1, 12, 14, 7, 5][2, 1, 1, 1, 2, 2]\n"
     ]
    },
    {
     "name": "stdout",
     "output_type": "stream",
     "text": [
      "Initializing PECUZAL algorithm for multivariate input...\n",
      "Starting 1-th embedding cycle...\n"
     ]
    },
    {
     "name": "stdout",
     "output_type": "stream",
     "text": [
      "Starting 2-th embedding cycle...\n"
     ]
    },
    {
     "name": "stdout",
     "output_type": "stream",
     "text": [
      "Starting 3-th embedding cycle...\n"
     ]
    },
    {
     "name": "stdout",
     "output_type": "stream",
     "text": [
      "Starting 4-th embedding cycle...\n"
     ]
    },
    {
     "name": "stdout",
     "output_type": "stream",
     "text": [
      "Starting 5-th embedding cycle...\n"
     ]
    },
    {
     "name": "stdout",
     "output_type": "stream",
     "text": [
      "Starting 6-th embedding cycle...\n"
     ]
    },
    {
     "name": "stdout",
     "output_type": "stream",
     "text": [
      "Starting 7-th embedding cycle...\n"
     ]
    },
    {
     "name": "stdout",
     "output_type": "stream",
     "text": [
      "Algorithm stopped due to increasing L-values. VALID embedding achieved ✓.\n",
      "[0, 1, 12, 14, 7, 4, 1][2, 1, 1, 1, 2, 2, 2]\n",
      "Initializing PECUZAL algorithm for multivariate input...\n",
      "Starting 1-th embedding cycle...\n"
     ]
    },
    {
     "name": "stdout",
     "output_type": "stream",
     "text": [
      "Starting 2-th embedding cycle...\n"
     ]
    },
    {
     "name": "stdout",
     "output_type": "stream",
     "text": [
      "Starting 3-th embedding cycle...\n"
     ]
    },
    {
     "name": "stdout",
     "output_type": "stream",
     "text": [
      "Starting 4-th embedding cycle...\n"
     ]
    },
    {
     "name": "stdout",
     "output_type": "stream",
     "text": [
      "Starting 5-th embedding cycle...\n"
     ]
    },
    {
     "name": "stdout",
     "output_type": "stream",
     "text": [
      "Starting 6-th embedding cycle...\n"
     ]
    },
    {
     "name": "stdout",
     "output_type": "stream",
     "text": [
      "Starting 7-th embedding cycle...\n"
     ]
    },
    {
     "name": "stdout",
     "output_type": "stream",
     "text": [
      "Algorithm stopped due to increasing L-values. VALID embedding achieved ✓.\n",
      "[0, 1, 12, 14, 7, 5, 1][2, 1, 1, 1, 2, 2, 2]\n",
      "Initializing PECUZAL algorithm for multivariate input...\n",
      "Starting 1-th embedding cycle...\n"
     ]
    },
    {
     "name": "stdout",
     "output_type": "stream",
     "text": [
      "Starting 2-th embedding cycle...\n"
     ]
    },
    {
     "name": "stdout",
     "output_type": "stream",
     "text": [
      "Starting 3-th embedding cycle...\n"
     ]
    },
    {
     "name": "stdout",
     "output_type": "stream",
     "text": [
      "Starting 4-th embedding cycle...\n"
     ]
    },
    {
     "name": "stdout",
     "output_type": "stream",
     "text": [
      "Starting 5-th embedding cycle...\n"
     ]
    },
    {
     "name": "stdout",
     "output_type": "stream",
     "text": [
      "Starting 6-th embedding cycle...\n"
     ]
    },
    {
     "name": "stdout",
     "output_type": "stream",
     "text": [
      "Algorithm stopped due to increasing L-values. VALID embedding achieved ✓.\n",
      "[0, 1, 12, 14, 7, 5][2, 1, 1, 1, 2, 2]\n"
     ]
    },
    {
     "name": "stdout",
     "output_type": "stream",
     "text": [
      "Initializing PECUZAL algorithm for multivariate input...\n",
      "Starting 1-th embedding cycle...\n"
     ]
    },
    {
     "name": "stdout",
     "output_type": "stream",
     "text": [
      "Starting 2-th embedding cycle...\n"
     ]
    },
    {
     "name": "stdout",
     "output_type": "stream",
     "text": [
      "Starting 3-th embedding cycle...\n"
     ]
    },
    {
     "name": "stdout",
     "output_type": "stream",
     "text": [
      "Starting 4-th embedding cycle...\n"
     ]
    },
    {
     "name": "stdout",
     "output_type": "stream",
     "text": [
      "Starting 5-th embedding cycle...\n"
     ]
    },
    {
     "name": "stdout",
     "output_type": "stream",
     "text": [
      "Starting 6-th embedding cycle...\n"
     ]
    },
    {
     "name": "stdout",
     "output_type": "stream",
     "text": [
      "Starting 7-th embedding cycle...\n"
     ]
    },
    {
     "name": "stdout",
     "output_type": "stream",
     "text": [
      "Starting 8-th embedding cycle...\n"
     ]
    },
    {
     "name": "stdout",
     "output_type": "stream",
     "text": [
      "Algorithm stopped due to increasing L-values. VALID embedding achieved ✓.\n",
      "[0, 1, 12, 10, 7, 5, 3, 1][2, 1, 1, 1, 1, 1, 1, 2]\n"
     ]
    },
    {
     "name": "stdout",
     "output_type": "stream",
     "text": [
      "Initializing PECUZAL algorithm for multivariate input...\n",
      "Starting 1-th embedding cycle...\n"
     ]
    },
    {
     "name": "stdout",
     "output_type": "stream",
     "text": [
      "Starting 2-th embedding cycle...\n"
     ]
    },
    {
     "name": "stdout",
     "output_type": "stream",
     "text": [
      "Starting 3-th embedding cycle...\n"
     ]
    },
    {
     "name": "stdout",
     "output_type": "stream",
     "text": [
      "Starting 4-th embedding cycle...\n"
     ]
    },
    {
     "name": "stdout",
     "output_type": "stream",
     "text": [
      "Starting 5-th embedding cycle..."
     ]
    },
    {
     "name": "stdout",
     "output_type": "stream",
     "text": [
      "\n",
      "Starting 6-th embedding cycle...\n"
     ]
    },
    {
     "name": "stdout",
     "output_type": "stream",
     "text": [
      "Algorithm stopped due to increasing L-values. VALID embedding achieved ✓.\n",
      "[0, 1, 12, 10, 7, 2][2, 1, 1, 1, 1, 2]\n"
     ]
    },
    {
     "name": "stdout",
     "output_type": "stream",
     "text": [
      "Initializing PECUZAL algorithm for multivariate input...\n",
      "Starting 1-th embedding cycle...\n"
     ]
    },
    {
     "name": "stdout",
     "output_type": "stream",
     "text": [
      "Starting 2-th embedding cycle...\n"
     ]
    },
    {
     "name": "stdout",
     "output_type": "stream",
     "text": [
      "Starting 3-th embedding cycle...\n"
     ]
    },
    {
     "name": "stdout",
     "output_type": "stream",
     "text": [
      "Starting 4-th embedding cycle...\n"
     ]
    },
    {
     "name": "stdout",
     "output_type": "stream",
     "text": [
      "Starting 5-th embedding cycle...\n"
     ]
    },
    {
     "name": "stdout",
     "output_type": "stream",
     "text": [
      "Starting 6-th embedding cycle..."
     ]
    },
    {
     "name": "stdout",
     "output_type": "stream",
     "text": [
      "\n",
      "Starting 7-th embedding cycle...\n"
     ]
    },
    {
     "name": "stdout",
     "output_type": "stream",
     "text": [
      "Starting 8-th embedding cycle...\n"
     ]
    },
    {
     "name": "stdout",
     "output_type": "stream",
     "text": [
      "Algorithm stopped due to increasing L-values. VALID embedding achieved ✓.\n",
      "[0, 1, 12, 10, 8, 6, 2, 1][2, 1, 1, 1, 1, 1, 2, 2]\n"
     ]
    },
    {
     "name": "stdout",
     "output_type": "stream",
     "text": [
      "Initializing PECUZAL algorithm for multivariate input...\n",
      "Starting 1-th embedding cycle...\n"
     ]
    },
    {
     "name": "stdout",
     "output_type": "stream",
     "text": [
      "Starting 2-th embedding cycle...\n"
     ]
    },
    {
     "name": "stdout",
     "output_type": "stream",
     "text": [
      "Starting 3-th embedding cycle...\n"
     ]
    },
    {
     "name": "stdout",
     "output_type": "stream",
     "text": [
      "Starting 4-th embedding cycle..."
     ]
    },
    {
     "name": "stdout",
     "output_type": "stream",
     "text": [
      "\n",
      "Starting 5-th embedding cycle...\n",
      "Starting 6-th embedding cycle..."
     ]
    },
    {
     "name": "stdout",
     "output_type": "stream",
     "text": [
      "\n",
      "Algorithm stopped due to increasing L-values. VALID embedding achieved ✓.\n",
      "[0, 1, 12, 14, 7, 5][2, 1, 1, 1, 2, 2]\n"
     ]
    },
    {
     "name": "stdout",
     "output_type": "stream",
     "text": [
      "Initializing PECUZAL algorithm for multivariate input...\n",
      "Starting 1-th embedding cycle...\n"
     ]
    },
    {
     "name": "stdout",
     "output_type": "stream",
     "text": [
      "Starting 2-th embedding cycle...\n",
      "Starting 3-th embedding cycle...\n"
     ]
    },
    {
     "name": "stdout",
     "output_type": "stream",
     "text": [
      "Starting 4-th embedding cycle...\n"
     ]
    },
    {
     "name": "stdout",
     "output_type": "stream",
     "text": [
      "Starting 5-th embedding cycle...\n"
     ]
    },
    {
     "name": "stdout",
     "output_type": "stream",
     "text": [
      "Starting 6-th embedding cycle..."
     ]
    },
    {
     "name": "stdout",
     "output_type": "stream",
     "text": [
      "\n",
      "Starting 7-th embedding cycle..."
     ]
    },
    {
     "name": "stdout",
     "output_type": "stream",
     "text": [
      "\n",
      "Algorithm stopped due to increasing L-values. VALID embedding achieved ✓.\n",
      "[0, 1, 12, 14, 7, 1, 5][2, 1, 1, 1, 2, 2, 2]\n"
     ]
    }
   ],
   "source": [
    "for i = 1:100\n",
    "    # fid = h5open(\"E:/LearningEmbedding/data_collection/3D-lorenz/lorenz_no\"*string(i)*\".h5\", \"r\")\n",
    "    fid = h5open(\"E:/LearningEmbedding/data_collection/3D-lorenz/noisy_lorenz_no\"*string(i)*\".h5\", \"r\")\n",
    "    Y = Array(fid[\"xM\"])\n",
    "\n",
    "    inds = [2,3] # input timeseries = y-component and z-component of Lorenz\n",
    "    theiler1 = estimate_delay(Y[:,2], \"mi_min\") # estimate a Theiler window\n",
    "    theiler2 = estimate_delay(Y[:,3], \"mi_min\")\n",
    "    theiler = maximum(hcat(theiler1, theiler2))\n",
    "    Tmax = 50 # maximum possible delay\n",
    "    # println(Y[:,inds])\n",
    "    Recon_pec, τ_vals, ts_vals, Ls, εs = pecuzal_embedding(Dataset(Y[:,inds]); τs = 0:Tmax , w = theiler, L_threshold=0, econ = true)\n",
    "    println(τ_vals, ts_vals)\n",
    "    # ff = h5open(\"e:/LearningEmbedding/results/PECUZAL/3D-lorenz-multi/lorenz_multi_no\"*string(i)*\".h5\", \"w\")\n",
    "    ff = h5open(\"e:/LearningEmbedding/results/PECUZAL/3D-lorenz-multi/noisy_lorenz_multi_no\"*string(i)*\".h5\", \"w\")\n",
    "    ff[\"Embedding\"] = Matrix(Recon_pec)\n",
    "    ff[\"delays\"] = τ_vals\n",
    "    ff[\"variables\"] = ts_vals\n",
    "    close(ff)\n",
    "    close(fid)\n",
    "end"
   ]
  },
  {
   "cell_type": "code",
   "execution_count": 2,
   "metadata": {},
   "outputs": [
    {
     "name": "stdout",
     "output_type": "stream",
     "text": [
      "Algorithm stopped due to sufficiently small FNNs. Valid embedding achieved ✓.\n"
     ]
    },
    {
     "name": "stdout",
     "output_type": "stream",
     "text": [
      "[0, 0, 10, 10][1, 2, 2, 1]\n"
     ]
    },
    {
     "name": "stdout",
     "output_type": "stream",
     "text": [
      "Algorithm stopped due to sufficiently small FNNs. Valid embedding achieved ✓.\n",
      "[0, 0, 10, 10][2, 1, 2, 1]\n"
     ]
    },
    {
     "name": "stdout",
     "output_type": "stream",
     "text": [
      "Algorithm stopped due to sufficiently small FNNs. Valid embedding achieved ✓.\n",
      "[0, 0, 10, 10][1, 2, 2, 1]"
     ]
    },
    {
     "name": "stdout",
     "output_type": "stream",
     "text": [
      "\n",
      "Algorithm stopped due to sufficiently small FNNs. Valid embedding achieved ✓.\n",
      "[0, 0, 12, 12][1, 2, 2, 1]"
     ]
    },
    {
     "name": "stdout",
     "output_type": "stream",
     "text": [
      "\n",
      "Algorithm stopped due to sufficiently small FNNs. Valid embedding achieved ✓.\n",
      "[0, 0, 12, 12][2, 1, 2, 1]\n"
     ]
    },
    {
     "name": "stdout",
     "output_type": "stream",
     "text": [
      "Algorithm stopped due to sufficiently small FNNs. Valid embedding achieved ✓.\n",
      "[0, 0, 5][2, 1, 1]\n"
     ]
    },
    {
     "name": "stdout",
     "output_type": "stream",
     "text": [
      "Algorithm stopped due to sufficiently small FNNs. Valid embedding achieved ✓.\n",
      "[0, 0, 6][2, 1, 1]\n"
     ]
    },
    {
     "name": "stdout",
     "output_type": "stream",
     "text": [
      "Algorithm stopped due to sufficiently small FNNs. Valid embedding achieved ✓.\n",
      "[0, 0, 10, 10][1, 2, 2, 1]"
     ]
    },
    {
     "name": "stdout",
     "output_type": "stream",
     "text": [
      "\n",
      "Algorithm stopped due to sufficiently small FNNs. Valid embedding achieved ✓.\n",
      "[0, 0, 8, 8][1, 2, 1, 2]\n"
     ]
    },
    {
     "name": "stdout",
     "output_type": "stream",
     "text": [
      "Algorithm stopped due to sufficiently small FNNs. Valid embedding achieved ✓.\n",
      "[0, 0, 10, 10][2, 1, 2, 1]"
     ]
    },
    {
     "name": "stdout",
     "output_type": "stream",
     "text": [
      "\n",
      "Algorithm stopped due to sufficiently small FNNs. Valid embedding achieved ✓.\n",
      "[0, 0, 6, 6][1, 2, 1, 2]\n"
     ]
    },
    {
     "name": "stdout",
     "output_type": "stream",
     "text": [
      "Algorithm stopped due to sufficiently small FNNs. Valid embedding achieved ✓.\n",
      "[0, 0, 8, 8][1, 2, 1, 2]"
     ]
    },
    {
     "name": "stdout",
     "output_type": "stream",
     "text": [
      "\n",
      "Algorithm stopped due to sufficiently small FNNs. Valid embedding achieved ✓.\n",
      "[0, 0, 42, 42, 31][1, 2, 2, 1, 2]"
     ]
    },
    {
     "name": "stdout",
     "output_type": "stream",
     "text": [
      "\n",
      "Algorithm stopped due to sufficiently small FNNs. Valid embedding achieved ✓.\n",
      "[0, 0, 22, 22, 14][1, 2, 2, 1, 2]\n"
     ]
    },
    {
     "name": "stdout",
     "output_type": "stream",
     "text": [
      "Algorithm stopped due to sufficiently small FNNs. Valid embedding achieved ✓.\n",
      "[0, 0, 8, 8][1, 2, 1, 2]\n"
     ]
    },
    {
     "name": "stdout",
     "output_type": "stream",
     "text": [
      "Algorithm stopped due to sufficiently small FNNs. Valid embedding achieved ✓.\n",
      "[0, 0, 8, 9][1, 2, 1, 2]\n"
     ]
    },
    {
     "name": "stdout",
     "output_type": "stream",
     "text": [
      "Algorithm stopped due to sufficiently small FNNs. Valid embedding achieved ✓.\n",
      "[0, 0, 7, 7][1, 2, 1, 2]"
     ]
    },
    {
     "name": "stdout",
     "output_type": "stream",
     "text": [
      "\n",
      "Algorithm stopped due to sufficiently small FNNs. Valid embedding achieved ✓.\n",
      "[0, 0, 10, 10][1, 2, 2, 1]\n"
     ]
    },
    {
     "name": "stdout",
     "output_type": "stream",
     "text": [
      "Algorithm stopped due to sufficiently small FNNs. Valid embedding achieved ✓.\n",
      "[0, 0, 8, 8][2, 1, 1, 2]\n"
     ]
    },
    {
     "name": "stdout",
     "output_type": "stream",
     "text": [
      "Algorithm stopped due to sufficiently small FNNs. Valid embedding achieved ✓.\n",
      "[0, 0, 5][1, 2, 1]\n"
     ]
    },
    {
     "name": "stdout",
     "output_type": "stream",
     "text": [
      "Algorithm stopped due to sufficiently small FNNs. Valid embedding achieved ✓.\n",
      "[0, 0, 8, 8][2, 1, 1, 2]\n"
     ]
    },
    {
     "name": "stdout",
     "output_type": "stream",
     "text": [
      "Algorithm stopped due to sufficiently small FNNs. Valid embedding achieved ✓.\n",
      "[0, 0, 9, 9][1, 2, 2, 1]\n"
     ]
    },
    {
     "name": "stdout",
     "output_type": "stream",
     "text": [
      "Algorithm stopped due to sufficiently small FNNs. Valid embedding achieved ✓.\n",
      "[0, 0, 10, 10][1, 2, 2, 1]\n"
     ]
    },
    {
     "name": "stdout",
     "output_type": "stream",
     "text": [
      "Algorithm stopped due to sufficiently small FNNs. Valid embedding achieved ✓.\n",
      "[0, 0, 11, 11][2, 1, 2, 1]\n"
     ]
    },
    {
     "name": "stdout",
     "output_type": "stream",
     "text": [
      "Algorithm stopped due to sufficiently small FNNs. Valid embedding achieved ✓.\n",
      "[0, 0, 9, 9][1, 2, 2, 1]\n"
     ]
    },
    {
     "name": "stdout",
     "output_type": "stream",
     "text": [
      "Algorithm stopped due to sufficiently small FNNs. Valid embedding achieved ✓.\n",
      "[0, 0, 10, 10][2, 1, 2, 1]\n"
     ]
    },
    {
     "name": "stdout",
     "output_type": "stream",
     "text": [
      "Algorithm stopped due to sufficiently small FNNs. Valid embedding achieved ✓.\n",
      "[0, 0, 10, 10][2, 1, 2, 1]\n"
     ]
    },
    {
     "name": "stdout",
     "output_type": "stream",
     "text": [
      "Algorithm stopped due to sufficiently small FNNs. Valid embedding achieved ✓.\n",
      "[0, 0, 5][2, 1, 1]\n"
     ]
    },
    {
     "name": "stdout",
     "output_type": "stream",
     "text": [
      "Algorithm stopped due to sufficiently small FNNs. Valid embedding achieved ✓.\n",
      "[0, 0, 8, 8][2, 1, 1, 2]\n"
     ]
    },
    {
     "name": "stdout",
     "output_type": "stream",
     "text": [
      "Algorithm stopped due to sufficiently small FNNs. Valid embedding achieved ✓.\n",
      "[0, 0, 7, 7][1, 2, 1, 2]\n"
     ]
    },
    {
     "name": "stdout",
     "output_type": "stream",
     "text": [
      "Algorithm stopped due to sufficiently small FNNs. Valid embedding achieved ✓.\n",
      "[0, 0, 11, 11][1, 2, 2, 1]\n"
     ]
    },
    {
     "name": "stdout",
     "output_type": "stream",
     "text": [
      "Algorithm stopped due to sufficiently small FNNs. Valid embedding achieved ✓.\n",
      "[0, 0, 30, 30, 22][1, 2, 2, 1, 2]\n"
     ]
    },
    {
     "name": "stdout",
     "output_type": "stream",
     "text": [
      "Algorithm stopped due to sufficiently small FNNs. Valid embedding achieved ✓.\n",
      "[0, 0, 10, 10][2, 1, 2, 1]\n"
     ]
    },
    {
     "name": "stdout",
     "output_type": "stream",
     "text": [
      "Algorithm stopped due to sufficiently small FNNs. Valid embedding achieved ✓.\n",
      "[0, 0, 9, 9][1, 2, 2, 1]\n"
     ]
    },
    {
     "name": "stdout",
     "output_type": "stream",
     "text": [
      "Algorithm stopped due to sufficiently small FNNs. Valid embedding achieved ✓.\n",
      "[0, 0, 9, 9][2, 1, 2, 1]\n"
     ]
    },
    {
     "name": "stdout",
     "output_type": "stream",
     "text": [
      "Algorithm stopped due to sufficiently small FNNs. Valid embedding achieved ✓.\n",
      "[0, 0, 11, 11][1, 2, 2, 1]"
     ]
    },
    {
     "name": "stdout",
     "output_type": "stream",
     "text": [
      "\n",
      "Algorithm stopped due to sufficiently small FNNs. Valid embedding achieved ✓.\n",
      "[0, 0, 9, 9][1, 2, 2, 1]\n"
     ]
    },
    {
     "name": "stdout",
     "output_type": "stream",
     "text": [
      "Algorithm stopped due to sufficiently small FNNs. Valid embedding achieved ✓.\n",
      "[0, 0, 6][1, 2, 1]"
     ]
    },
    {
     "name": "stdout",
     "output_type": "stream",
     "text": [
      "\n",
      "Algorithm stopped due to sufficiently small FNNs. Valid embedding achieved ✓.\n",
      "[0, 0, 8, 9][1, 2, 1, 2]\n"
     ]
    },
    {
     "name": "stdout",
     "output_type": "stream",
     "text": [
      "Algorithm stopped due to sufficiently small FNNs. Valid embedding achieved ✓.\n",
      "[0, 0, 7, 7][1, 2, 1, 2]"
     ]
    },
    {
     "name": "stdout",
     "output_type": "stream",
     "text": [
      "\n",
      "Algorithm stopped due to sufficiently small FNNs. Valid embedding achieved ✓.\n",
      "[0, 0, 41, 41][1, 2, 2, 1]"
     ]
    },
    {
     "name": "stdout",
     "output_type": "stream",
     "text": [
      "\n",
      "Algorithm stopped due to sufficiently small FNNs. Valid embedding achieved ✓.\n",
      "[0, 0, 25, 25, 16][2, 1, 2, 1, 2]"
     ]
    },
    {
     "name": "stdout",
     "output_type": "stream",
     "text": [
      "\n",
      "Algorithm stopped due to sufficiently small FNNs. Valid embedding achieved ✓.\n",
      "[0, 0, 10, 10][1, 2, 2, 1]\n"
     ]
    },
    {
     "name": "stdout",
     "output_type": "stream",
     "text": [
      "Algorithm stopped due to sufficiently small FNNs. Valid embedding achieved ✓.\n",
      "[0, 0, 11, 11][1, 2, 2, 1]\n"
     ]
    },
    {
     "name": "stdout",
     "output_type": "stream",
     "text": [
      "Algorithm stopped due to sufficiently small FNNs. Valid embedding achieved ✓.\n",
      "[0, 0, 7][2, 1, 1]"
     ]
    },
    {
     "name": "stdout",
     "output_type": "stream",
     "text": [
      "\n",
      "Algorithm stopped due to sufficiently small FNNs. Valid embedding achieved ✓.\n",
      "[0, 0, 3][1, 2, 1]"
     ]
    },
    {
     "name": "stdout",
     "output_type": "stream",
     "text": [
      "\n",
      "Algorithm stopped due to sufficiently small FNNs. Valid embedding achieved ✓.\n",
      "[0, 0, 10, 10][1, 2, 2, 1]\n"
     ]
    },
    {
     "name": "stdout",
     "output_type": "stream",
     "text": [
      "Algorithm stopped due to sufficiently small FNNs. Valid embedding achieved ✓.\n",
      "[0, 0, 9, 9][1, 2, 2, 1]\n"
     ]
    },
    {
     "name": "stdout",
     "output_type": "stream",
     "text": [
      "Algorithm stopped due to sufficiently small FNNs. Valid embedding achieved ✓.\n",
      "[0, 0, 5][2, 1, 1]"
     ]
    },
    {
     "name": "stdout",
     "output_type": "stream",
     "text": [
      "\n",
      "Algorithm stopped due to sufficiently small FNNs. Valid embedding achieved ✓.\n",
      "[0, 0, 5][2, 1, 1]"
     ]
    },
    {
     "name": "stdout",
     "output_type": "stream",
     "text": [
      "\n",
      "Algorithm stopped due to sufficiently small FNNs. Valid embedding achieved ✓.\n",
      "[0, 0, 6][1, 2, 1]\n"
     ]
    },
    {
     "name": "stdout",
     "output_type": "stream",
     "text": [
      "Algorithm stopped due to sufficiently small FNNs. Valid embedding achieved ✓.\n",
      "[0, 0, 7][1, 2, 1]\n"
     ]
    },
    {
     "name": "stdout",
     "output_type": "stream",
     "text": [
      "Algorithm stopped due to sufficiently small FNNs. Valid embedding achieved ✓.\n",
      "[0, 0, 6][1, 2, 1]\n"
     ]
    },
    {
     "name": "stdout",
     "output_type": "stream",
     "text": [
      "Algorithm stopped due to sufficiently small FNNs. Valid embedding achieved ✓.\n",
      "[0, 0, 11, 11][1, 2, 2, 1]"
     ]
    },
    {
     "name": "stdout",
     "output_type": "stream",
     "text": [
      "\n",
      "Algorithm stopped due to sufficiently small FNNs. Valid embedding achieved ✓.\n",
      "[0, 0, 9, 9][2, 1, 2, 1]\n"
     ]
    },
    {
     "name": "stdout",
     "output_type": "stream",
     "text": [
      "Algorithm stopped due to rising FNNs. Valid embedding achieved ✓.\n",
      "[0, 0, 4][1, 2, 1]\n"
     ]
    },
    {
     "name": "stdout",
     "output_type": "stream",
     "text": [
      "Algorithm stopped due to sufficiently small FNNs. Valid embedding achieved ✓.\n",
      "[0, 0, 10, 10][2, 1, 2, 1]"
     ]
    },
    {
     "name": "stdout",
     "output_type": "stream",
     "text": [
      "\n",
      "Algorithm stopped due to sufficiently small FNNs. Valid embedding achieved ✓.\n",
      "[0, 0, 8, 8][1, 2, 1, 2]\n"
     ]
    },
    {
     "name": "stdout",
     "output_type": "stream",
     "text": [
      "Algorithm stopped due to rising FNNs. Valid embedding achieved ✓.\n",
      "[0, 0, 4, 4][1, 2, 1, 2]\n"
     ]
    },
    {
     "name": "stdout",
     "output_type": "stream",
     "text": [
      "Algorithm stopped due to sufficiently small FNNs. Valid embedding achieved ✓.\n",
      "[0, 0, 10, 10][1, 2, 2, 1]\n"
     ]
    },
    {
     "name": "stdout",
     "output_type": "stream",
     "text": [
      "Algorithm stopped due to sufficiently small FNNs. Valid embedding achieved ✓.\n",
      "[0, 0, 6][1, 2, 1]\n"
     ]
    },
    {
     "name": "stdout",
     "output_type": "stream",
     "text": [
      "Algorithm stopped due to sufficiently small FNNs. Valid embedding achieved ✓.\n",
      "[0, 0, 5][2, 1, 1]\n"
     ]
    },
    {
     "name": "stdout",
     "output_type": "stream",
     "text": [
      "Algorithm stopped due to sufficiently small FNNs. Valid embedding achieved ✓.\n",
      "[0, 0, 9, 9][1, 2, 2, 1]\n"
     ]
    },
    {
     "name": "stdout",
     "output_type": "stream",
     "text": [
      "Algorithm stopped due to rising FNNs. Valid embedding achieved ✓.\n",
      "[0, 0, 8, 8][2, 1, 1, 2]\n"
     ]
    },
    {
     "name": "stdout",
     "output_type": "stream",
     "text": [
      "Algorithm stopped due to sufficiently small FNNs. Valid embedding achieved ✓.\n",
      "[0, 0, 10, 10][1, 2, 2, 1]\n"
     ]
    },
    {
     "name": "stdout",
     "output_type": "stream",
     "text": [
      "Algorithm stopped due to sufficiently small FNNs. Valid embedding achieved ✓.\n",
      "[0, 0, 7, 7][1, 2, 1, 2]\n"
     ]
    },
    {
     "name": "stdout",
     "output_type": "stream",
     "text": [
      "Algorithm stopped due to sufficiently small FNNs. Valid embedding achieved ✓.\n",
      "[0, 0, 11, 11][1, 2, 2, 1]"
     ]
    },
    {
     "name": "stdout",
     "output_type": "stream",
     "text": [
      "\n",
      "Algorithm stopped due to sufficiently small FNNs. Valid embedding achieved ✓.\n",
      "[0, 0, 9, 9][1, 2, 2, 1]\n"
     ]
    },
    {
     "name": "stdout",
     "output_type": "stream",
     "text": [
      "Algorithm stopped due to sufficiently small FNNs. Valid embedding achieved ✓.\n",
      "[0, 0, 8, 8][1, 2, 1, 2]\n"
     ]
    },
    {
     "name": "stdout",
     "output_type": "stream",
     "text": [
      "Algorithm stopped due to sufficiently small FNNs. Valid embedding achieved ✓.\n",
      "[0, 0, 10, 10][2, 1, 2, 1]\n"
     ]
    },
    {
     "name": "stdout",
     "output_type": "stream",
     "text": [
      "Algorithm stopped due to sufficiently small FNNs. Valid embedding achieved ✓.\n",
      "[0, 0, 10, 10][2, 1, 2, 1]"
     ]
    },
    {
     "name": "stdout",
     "output_type": "stream",
     "text": [
      "\n",
      "Algorithm stopped due to sufficiently small FNNs. Valid embedding achieved ✓.\n",
      "[0, 0, 8, 8][2, 1, 1, 2]"
     ]
    },
    {
     "name": "stdout",
     "output_type": "stream",
     "text": [
      "\n",
      "Algorithm stopped due to sufficiently small FNNs. Valid embedding achieved ✓.\n",
      "[0, 0, 9, 9][1, 2, 2, 1]\n"
     ]
    },
    {
     "name": "stdout",
     "output_type": "stream",
     "text": [
      "Algorithm stopped due to sufficiently small FNNs. Valid embedding achieved ✓.\n",
      "[0, 0, 11, 11][1, 2, 2, 1]"
     ]
    },
    {
     "name": "stdout",
     "output_type": "stream",
     "text": [
      "\n",
      "Algorithm stopped due to sufficiently small FNNs. Valid embedding achieved ✓.\n",
      "[0, 0, 12, 12][2, 1, 2, 1]"
     ]
    },
    {
     "name": "stdout",
     "output_type": "stream",
     "text": [
      "\n",
      "Algorithm stopped due to sufficiently small FNNs. Valid embedding achieved ✓.\n",
      "[0, 0, 10, 10][2, 1, 2, 1]"
     ]
    },
    {
     "name": "stdout",
     "output_type": "stream",
     "text": [
      "\n",
      "Algorithm stopped due to sufficiently small FNNs. Valid embedding achieved ✓.\n",
      "[0, 0, 10, 10][1, 2, 2, 1]"
     ]
    },
    {
     "name": "stdout",
     "output_type": "stream",
     "text": [
      "\n",
      "Algorithm stopped due to sufficiently small FNNs. Valid embedding achieved ✓.\n",
      "[0, 0, 11, 11][1, 2, 2, 1]\n"
     ]
    },
    {
     "name": "stdout",
     "output_type": "stream",
     "text": [
      "Algorithm stopped due to sufficiently small FNNs. Valid embedding achieved ✓.\n",
      "[0, 0, 10, 10][2, 1, 2, 1]\n"
     ]
    },
    {
     "name": "stdout",
     "output_type": "stream",
     "text": [
      "Algorithm stopped due to sufficiently small FNNs. Valid embedding achieved ✓.\n",
      "[0, 0, 12, 12][1, 2, 2, 1]\n"
     ]
    },
    {
     "name": "stdout",
     "output_type": "stream",
     "text": [
      "Algorithm stopped due to sufficiently small FNNs. Valid embedding achieved ✓.\n",
      "[0, 0, 11, 11][1, 2, 2, 1]"
     ]
    },
    {
     "name": "stdout",
     "output_type": "stream",
     "text": [
      "\n",
      "Algorithm stopped due to sufficiently small FNNs. Valid embedding achieved ✓.\n",
      "[0, 0, 6][1, 2, 1]\n"
     ]
    },
    {
     "name": "stdout",
     "output_type": "stream",
     "text": [
      "Algorithm stopped due to sufficiently small FNNs. Valid embedding achieved ✓.\n",
      "[0, 0, 8, 8][1, 2, 1, 2]\n"
     ]
    },
    {
     "name": "stdout",
     "output_type": "stream",
     "text": [
      "Algorithm stopped due to sufficiently small FNNs. Valid embedding achieved ✓.\n",
      "[0, 0, 10, 10][1, 2, 2, 1]\n"
     ]
    },
    {
     "name": "stdout",
     "output_type": "stream",
     "text": [
      "Algorithm stopped due to sufficiently small FNNs. Valid embedding achieved ✓.\n",
      "[0, 0, 10, 10][1, 2, 2, 1]\n"
     ]
    },
    {
     "name": "stdout",
     "output_type": "stream",
     "text": [
      "Algorithm stopped due to rising FNNs. Valid embedding achieved ✓.\n",
      "[0, 0, 8, 8][1, 2, 1, 2]\n"
     ]
    },
    {
     "name": "stdout",
     "output_type": "stream",
     "text": [
      "Algorithm stopped due to sufficiently small FNNs. Valid embedding achieved ✓.\n",
      "[0, 0, 9, 9][1, 2, 2, 1]"
     ]
    },
    {
     "name": "stdout",
     "output_type": "stream",
     "text": [
      "\n",
      "Algorithm stopped due to sufficiently small FNNs. Valid embedding achieved ✓.\n",
      "[0, 0, 5][1, 2, 1]\n"
     ]
    },
    {
     "name": "stdout",
     "output_type": "stream",
     "text": [
      "Algorithm stopped due to sufficiently small FNNs. Valid embedding achieved ✓.\n",
      "[0, 0, 8, 8][1, 2, 1, 2]\n"
     ]
    },
    {
     "name": "stdout",
     "output_type": "stream",
     "text": [
      "Algorithm stopped due to sufficiently small FNNs. Valid embedding achieved ✓.\n",
      "[0, 0, 8, 8][2, 1, 1, 2]\n"
     ]
    },
    {
     "name": "stdout",
     "output_type": "stream",
     "text": [
      "Algorithm stopped due to sufficiently small FNNs. Valid embedding achieved ✓.\n",
      "[0, 0, 11, 11][1, 2, 2, 1]\n"
     ]
    },
    {
     "name": "stdout",
     "output_type": "stream",
     "text": [
      "Algorithm stopped due to sufficiently small FNNs. Valid embedding achieved ✓.\n",
      "[0, 0, 6][2, 1, 1]"
     ]
    },
    {
     "name": "stdout",
     "output_type": "stream",
     "text": [
      "\n",
      "Algorithm stopped due to sufficiently small FNNs. Valid embedding achieved ✓.\n",
      "[0, 0, 6][1, 2, 1]\n"
     ]
    },
    {
     "name": "stdout",
     "output_type": "stream",
     "text": [
      "Algorithm stopped due to rising FNNs. Valid embedding achieved ✓.\n",
      "[0, 0, 4, 4][1, 2, 1, 2]\n"
     ]
    },
    {
     "name": "stdout",
     "output_type": "stream",
     "text": [
      "Algorithm stopped due to sufficiently small FNNs. Valid embedding achieved ✓.\n",
      "[0, 0, 9, 9][1, 2, 2, 1]"
     ]
    },
    {
     "name": "stdout",
     "output_type": "stream",
     "text": [
      "\n",
      "Algorithm stopped due to sufficiently small FNNs. Valid embedding achieved ✓.\n",
      "[0, 0, 10, 10][1, 2, 2, 1]\n"
     ]
    },
    {
     "name": "stdout",
     "output_type": "stream",
     "text": [
      "Algorithm stopped due to sufficiently small FNNs. Valid embedding achieved ✓.\n",
      "[0, 0, 7][1, 2, 1]\n"
     ]
    },
    {
     "name": "stdout",
     "output_type": "stream",
     "text": [
      "Algorithm stopped due to sufficiently small FNNs. Valid embedding achieved ✓.\n",
      "[0, 0, 10, 10][2, 1, 2, 1]\n"
     ]
    },
    {
     "name": "stdout",
     "output_type": "stream",
     "text": [
      "Algorithm stopped due to sufficiently small FNNs. Valid embedding achieved ✓.\n",
      "[0, 0, 10, 10][1, 2, 2, 1]\n"
     ]
    },
    {
     "name": "stdout",
     "output_type": "stream",
     "text": [
      "Algorithm stopped due to sufficiently small FNNs. Valid embedding achieved ✓.\n",
      "[0, 0, 10, 10][1, 2, 2, 1]\n"
     ]
    }
   ],
   "source": [
    "for i = 1:100\n",
    "    fid = h5open(\"E:/LearningEmbedding/data_collection/3D-lorenz/lorenz_no\"*string(i)*\".h5\", \"r\")\n",
    "    # fid = h5open(\"E:/LearningEmbedding/data_collection/3D-lorenz/noisy_lorenz_no\"*string(i)*\".h5\", \"r\")\n",
    "    Y = Array(fid[\"xM\"])\n",
    "\n",
    "    inds = [2,3] # input timeseries = y-component and z-component of Lorenz\n",
    "    theiler1 = estimate_delay(Y[:,2], \"mi_min\") # estimate a Theiler window\n",
    "    theiler2 = estimate_delay(Y[:,3], \"mi_min\")\n",
    "    w = maximum(hcat(theiler1, theiler2))\n",
    "    tw1 = mdop_maximum_delay(Y[:,inds[1]]) #\n",
    "    tw2 = mdop_maximum_delay(Y[:,inds[2]]) #\n",
    "    lm1 = findlocalminima(tw1[2])\n",
    "    lm2 = findlocalminima(tw2[2])\n",
    "    # println(lm)\n",
    "    if lm1[1] ≤ 2\n",
    "        lmm1 = try lm1[2]\n",
    "        catch\n",
    "            lm1[1]\n",
    "        end\n",
    "    else\n",
    "        lmm1 = lm1[1]\n",
    "    end\n",
    "    if lm2[1] ≤ 2\n",
    "        lmm2 = try lm2[2]\n",
    "        catch\n",
    "            lm2[1]\n",
    "        end\n",
    "    else\n",
    "        lmm2 = lm2[1]\n",
    "    end\n",
    "    lmm = maximum(hcat(lmm1, lmm2))\n",
    "    taus_mdop = 0:lmm\n",
    "    # taus_mdop = 1:50\n",
    "    # println(lm)\n",
    "    close(fid)\n",
    "\n",
    "    Recon_mdop, τ_vals_mdop, ts_vals_mdop, FNNs_mdop , βs_mdop = mdop_embedding(Dataset(Y[:,inds]); τs = taus_mdop , w = w)\n",
    "    println(τ_vals_mdop, ts_vals_mdop)\n",
    "    ff = h5open(\"e:/LearningEmbedding/results/MDOP/3D-lorenz-multi/lorenz_multi_no\"*string(i)*\".h5\", \"cw\")\n",
    "    ff[\"Embedding\"] = Matrix(Recon_mdop)\n",
    "    ff[\"delays\"] = τ_vals_mdop\n",
    "    ff[\"variables\"] = ts_vals_mdop\n",
    "    close(ff)\n",
    "    close(fid)\n",
    "end"
   ]
  },
  {
   "cell_type": "code",
   "execution_count": 2,
   "metadata": {},
   "outputs": [
    {
     "name": "stdout",
     "output_type": "stream",
     "text": [
      "Algorithm stopped due to rising FNNs. Valid embedding achieved ✓."
     ]
    },
    {
     "name": "stdout",
     "output_type": "stream",
     "text": [
      "\n",
      "[0, 3, 1, 2][1, 1, 1, 1]\n"
     ]
    },
    {
     "name": "stdout",
     "output_type": "stream",
     "text": [
      "Algorithm stopped due to rising FNNs. Valid embedding achieved ✓.\n",
      "[0, 3, 1, 2, 6][1, 1, 1, 1, 1]"
     ]
    },
    {
     "name": "stdout",
     "output_type": "stream",
     "text": [
      "\n",
      "Algorithm stopped due to rising FNNs. Valid embedding achieved ✓.\n",
      "[0, 3, 1][1, 1, 1]\n"
     ]
    },
    {
     "name": "stdout",
     "output_type": "stream",
     "text": [
      "Algorithm stopped due to rising FNNs. Valid embedding achieved ✓.\n",
      "[0, 3, 1, 2, 6][1, 1, 1, 1, 1]\n"
     ]
    },
    {
     "name": "stdout",
     "output_type": "stream",
     "text": [
      "Algorithm stopped due to rising FNNs. Valid embedding achieved ✓.\n",
      "[0, 3, 1, 2][1, 1, 1, 1]\n"
     ]
    },
    {
     "name": "stdout",
     "output_type": "stream",
     "text": [
      "Algorithm stopped due to rising FNNs. Valid embedding achieved ✓.\n",
      "[0, 3, 1][1, 1, 1]\n"
     ]
    },
    {
     "name": "stdout",
     "output_type": "stream",
     "text": [
      "Algorithm stopped due to rising FNNs. Valid embedding achieved ✓.\n",
      "[0, 3, 1, 2][1, 1, 1, 1]"
     ]
    },
    {
     "name": "stdout",
     "output_type": "stream",
     "text": [
      "\n",
      "Algorithm stopped due to rising FNNs. Valid embedding achieved ✓.\n",
      "[0, 3, 1, 2, 6][1, 1, 1, 1, 1]\n"
     ]
    },
    {
     "name": "stdout",
     "output_type": "stream",
     "text": [
      "Algorithm stopped due to rising FNNs. Valid embedding achieved ✓.\n",
      "[0, 3, 1][1, 1, 1]\n"
     ]
    },
    {
     "name": "stdout",
     "output_type": "stream",
     "text": [
      "Algorithm stopped due to rising FNNs. Valid embedding achieved ✓.\n",
      "[0, 3, 1][1, 1, 1]\n"
     ]
    },
    {
     "name": "stdout",
     "output_type": "stream",
     "text": [
      "Algorithm stopped due to rising FNNs. Valid embedding achieved ✓.\n",
      "[0, 3, 1, 2, 6][1, 1, 1, 1, 1]\n"
     ]
    },
    {
     "name": "stdout",
     "output_type": "stream",
     "text": [
      "Algorithm stopped due to rising FNNs. Valid embedding achieved ✓.\n",
      "[0, 3, 1, 2][1, 1, 1, 1]"
     ]
    },
    {
     "name": "stdout",
     "output_type": "stream",
     "text": [
      "\n",
      "Algorithm stopped due to rising FNNs. Valid embedding achieved ✓.\n",
      "[0, 3, 1, 2, 6][1, 1, 1, 1, 1]"
     ]
    },
    {
     "name": "stdout",
     "output_type": "stream",
     "text": [
      "\n",
      "Algorithm stopped due to rising FNNs. Valid embedding achieved ✓.\n",
      "[0, 3, 1, 2][1, 1, 1, 1]\n"
     ]
    },
    {
     "name": "stdout",
     "output_type": "stream",
     "text": [
      "Algorithm stopped due to rising FNNs. Valid embedding achieved ✓.\n",
      "[0, 3, 1, 2][1, 1, 1, 1]"
     ]
    },
    {
     "name": "stdout",
     "output_type": "stream",
     "text": [
      "\n",
      "Algorithm stopped due to rising FNNs. Valid embedding achieved ✓.\n",
      "[0, 3, 1][1, 1, 1]"
     ]
    },
    {
     "name": "stdout",
     "output_type": "stream",
     "text": [
      "\n",
      "Algorithm stopped due to rising FNNs. Valid embedding achieved ✓.\n",
      "[0, 3, 1, 2, 6][1, 1, 1, 1, 1]\n"
     ]
    },
    {
     "name": "stdout",
     "output_type": "stream",
     "text": [
      "Algorithm stopped due to rising FNNs. Valid embedding achieved ✓.\n",
      "[0, 3, 1, 2, 6][1, 1, 1, 1, 1]"
     ]
    },
    {
     "name": "stdout",
     "output_type": "stream",
     "text": [
      "\n",
      "Algorithm stopped due to rising FNNs. Valid embedding achieved ✓.\n",
      "[0, 3, 1][1, 1, 1]"
     ]
    },
    {
     "name": "stdout",
     "output_type": "stream",
     "text": [
      "\n",
      "Algorithm stopped due to rising FNNs. Valid embedding achieved ✓.\n",
      "[0, 3, 1][1, 1, 1]\n"
     ]
    },
    {
     "name": "stdout",
     "output_type": "stream",
     "text": [
      "Algorithm stopped due to rising FNNs. Valid embedding achieved ✓.\n",
      "[0, 3, 1, 2, 6][1, 1, 1, 1, 1]\n"
     ]
    },
    {
     "name": "stdout",
     "output_type": "stream",
     "text": [
      "Algorithm stopped due to rising FNNs. Valid embedding achieved ✓.\n",
      "[0, 3, 1, 2, 6][1, 1, 1, 1, 1]\n"
     ]
    },
    {
     "name": "stdout",
     "output_type": "stream",
     "text": [
      "Algorithm stopped due to rising FNNs. Valid embedding achieved ✓.\n",
      "[0, 3, 1][1, 1, 1]\n"
     ]
    },
    {
     "name": "stdout",
     "output_type": "stream",
     "text": [
      "Algorithm stopped due to rising FNNs. Valid embedding achieved ✓.\n",
      "[0, 3, 1][1, 1, 1]\n"
     ]
    },
    {
     "name": "stdout",
     "output_type": "stream",
     "text": [
      "Algorithm stopped due to rising FNNs. Valid embedding achieved ✓.\n",
      "[0, 3, 1, 2, 6][1, 1, 1, 1, 1]\n"
     ]
    },
    {
     "name": "stdout",
     "output_type": "stream",
     "text": [
      "Algorithm stopped due to rising FNNs. Valid embedding achieved ✓.\n",
      "[0, 3, 1, 2][1, 1, 1, 1]\n"
     ]
    },
    {
     "name": "stdout",
     "output_type": "stream",
     "text": [
      "Algorithm stopped due to rising FNNs. Valid embedding achieved ✓.\n",
      "[0, 3, 1, 2][1, 1, 1, 1]\n"
     ]
    },
    {
     "name": "stdout",
     "output_type": "stream",
     "text": [
      "Algorithm stopped due to rising FNNs. Valid embedding achieved ✓.\n",
      "[0, 3, 1, 2, 6][1, 1, 1, 1, 1]\n"
     ]
    },
    {
     "name": "stdout",
     "output_type": "stream",
     "text": [
      "Algorithm stopped due to rising FNNs. Valid embedding achieved ✓.\n",
      "[0, 3, 1, 2, 6][1, 1, 1, 1, 1]\n"
     ]
    },
    {
     "name": "stdout",
     "output_type": "stream",
     "text": [
      "Algorithm stopped due to rising FNNs. Valid embedding achieved ✓.\n",
      "[0, 3, 1, 2, 6][1, 1, 1, 1, 1]\n"
     ]
    },
    {
     "name": "stdout",
     "output_type": "stream",
     "text": [
      "Algorithm stopped due to rising FNNs. Valid embedding achieved ✓.\n",
      "[0, 3, 1, 2][1, 1, 1, 1]\n"
     ]
    },
    {
     "name": "stdout",
     "output_type": "stream",
     "text": [
      "Algorithm stopped due to rising FNNs. Valid embedding achieved ✓.\n",
      "[0, 3, 1, 2][1, 1, 1, 1]\n"
     ]
    },
    {
     "name": "stdout",
     "output_type": "stream",
     "text": [
      "Algorithm stopped due to rising FNNs. Valid embedding achieved ✓.\n",
      "[0, 3, 1, 2][1, 1, 1, 1]\n"
     ]
    },
    {
     "name": "stdout",
     "output_type": "stream",
     "text": [
      "Algorithm stopped due to rising FNNs. Valid embedding achieved ✓.\n",
      "[0, 3, 1][1, 1, 1]"
     ]
    },
    {
     "name": "stdout",
     "output_type": "stream",
     "text": [
      "\n",
      "Algorithm stopped due to rising FNNs. Valid embedding achieved ✓.\n",
      "[0, 3, 1, 2, 6][1, 1, 1, 1, 1]\n"
     ]
    },
    {
     "name": "stdout",
     "output_type": "stream",
     "text": [
      "Algorithm stopped due to rising FNNs. Valid embedding achieved ✓.\n",
      "[0, 3, 1, 2][1, 1, 1, 1]"
     ]
    },
    {
     "name": "stdout",
     "output_type": "stream",
     "text": [
      "\n",
      "Algorithm stopped due to rising FNNs. Valid embedding achieved ✓.\n",
      "[0, 3, 1, 2][1, 1, 1, 1]\n"
     ]
    },
    {
     "name": "stdout",
     "output_type": "stream",
     "text": [
      "Algorithm stopped due to rising FNNs. Valid embedding achieved ✓.\n",
      "[0, 3, 1][1, 1, 1]\n"
     ]
    },
    {
     "name": "stdout",
     "output_type": "stream",
     "text": [
      "Algorithm stopped due to rising FNNs. Valid embedding achieved ✓.\n",
      "[0, 3, 1, 2, 6, 4][1, 1, 1, 1, 1, 1]\n"
     ]
    },
    {
     "name": "stdout",
     "output_type": "stream",
     "text": [
      "Algorithm stopped due to rising FNNs. Valid embedding achieved ✓.\n",
      "[0, 3, 1, 2][1, 1, 1, 1]"
     ]
    },
    {
     "name": "stdout",
     "output_type": "stream",
     "text": [
      "\n",
      "Algorithm stopped due to rising FNNs. Valid embedding achieved ✓.\n",
      "[0, 3, 1, 2][1, 1, 1, 1]\n"
     ]
    },
    {
     "name": "stdout",
     "output_type": "stream",
     "text": [
      "Algorithm stopped due to rising FNNs. Valid embedding achieved ✓.\n",
      "[0, 3, 1, 2][1, 1, 1, 1]\n"
     ]
    },
    {
     "name": "stdout",
     "output_type": "stream",
     "text": [
      "Algorithm stopped due to rising FNNs. Valid embedding achieved ✓.\n",
      "[0, 3, 1, 2][1, 1, 1, 1]\n"
     ]
    },
    {
     "name": "stdout",
     "output_type": "stream",
     "text": [
      "Algorithm stopped due to rising FNNs. Valid embedding achieved ✓.\n",
      "[0, 3, 1, 2, 6][1, 1, 1, 1, 1]"
     ]
    },
    {
     "name": "stdout",
     "output_type": "stream",
     "text": [
      "\n",
      "Algorithm stopped due to rising FNNs. Valid embedding achieved ✓.\n",
      "[0, 3, 1, 2, 6][1, 1, 1, 1, 1]\n"
     ]
    },
    {
     "name": "stdout",
     "output_type": "stream",
     "text": [
      "Algorithm stopped due to sufficiently small FNNs. Valid embedding achieved ✓.\n",
      "[0, 3, 1, 2, 6][1, 1, 1, 1, 1]\n"
     ]
    },
    {
     "name": "stdout",
     "output_type": "stream",
     "text": [
      "Algorithm stopped due to rising FNNs. Valid embedding achieved ✓.\n",
      "[0, 3, 1, 2][1, 1, 1, 1]\n"
     ]
    },
    {
     "name": "stdout",
     "output_type": "stream",
     "text": [
      "Algorithm stopped due to rising FNNs. Valid embedding achieved ✓.\n",
      "[0, 3, 1, 2, 6][1, 1, 1, 1, 1]\n"
     ]
    },
    {
     "name": "stdout",
     "output_type": "stream",
     "text": [
      "Algorithm stopped due to rising FNNs. Valid embedding achieved ✓.\n",
      "[0, 3, 1][1, 1, 1]\n"
     ]
    },
    {
     "name": "stdout",
     "output_type": "stream",
     "text": [
      "Algorithm stopped due to rising FNNs. Valid embedding achieved ✓.\n",
      "[0, 3, 1, 2][1, 1, 1, 1]\n"
     ]
    },
    {
     "name": "stdout",
     "output_type": "stream",
     "text": [
      "Algorithm stopped due to rising FNNs. Valid embedding achieved ✓.\n",
      "[0, 3, 1][1, 1, 1]\n"
     ]
    },
    {
     "name": "stdout",
     "output_type": "stream",
     "text": [
      "Algorithm stopped due to rising FNNs. Valid embedding achieved ✓.\n",
      "[0, 3, 1, 2, 6][1, 1, 1, 1, 1]\n"
     ]
    },
    {
     "name": "stdout",
     "output_type": "stream",
     "text": [
      "Algorithm stopped due to rising FNNs. Valid embedding achieved ✓.\n",
      "[0, 3, 1, 2][1, 1, 1, 1]\n"
     ]
    },
    {
     "name": "stdout",
     "output_type": "stream",
     "text": [
      "Algorithm stopped due to rising FNNs. Valid embedding achieved ✓.\n",
      "[0, 3, 1, 2][1, 1, 1, 1]\n"
     ]
    },
    {
     "name": "stdout",
     "output_type": "stream",
     "text": [
      "Algorithm stopped due to rising FNNs. Valid embedding achieved ✓.\n",
      "[0, 3, 1, 2][1, 1, 1, 1]\n"
     ]
    },
    {
     "name": "stdout",
     "output_type": "stream",
     "text": [
      "Algorithm stopped due to rising FNNs. Valid embedding achieved ✓.\n",
      "[0, 3, 1][1, 1, 1]"
     ]
    },
    {
     "name": "stdout",
     "output_type": "stream",
     "text": [
      "\n",
      "Algorithm stopped due to rising FNNs. Valid embedding achieved ✓.\n",
      "[0, 3, 1, 2, 6][1, 1, 1, 1, 1]\n"
     ]
    },
    {
     "name": "stdout",
     "output_type": "stream",
     "text": [
      "Algorithm stopped due to rising FNNs. Valid embedding achieved ✓.\n",
      "[0, 3, 1][1, 1, 1]"
     ]
    },
    {
     "name": "stdout",
     "output_type": "stream",
     "text": [
      "\n",
      "Algorithm stopped due to rising FNNs. Valid embedding achieved ✓.\n",
      "[0, 3, 1, 2, 6][1, 1, 1, 1, 1]\n"
     ]
    },
    {
     "name": "stdout",
     "output_type": "stream",
     "text": [
      "Algorithm stopped due to rising FNNs. Valid embedding achieved ✓.\n",
      "[0, 3, 1, 2, 6][1, 1, 1, 1, 1]"
     ]
    },
    {
     "name": "stdout",
     "output_type": "stream",
     "text": [
      "\n",
      "Algorithm stopped due to rising FNNs. Valid embedding achieved ✓.\n",
      "[0, 3, 1, 2, 6][1, 1, 1, 1, 1]"
     ]
    },
    {
     "name": "stdout",
     "output_type": "stream",
     "text": [
      "\n",
      "Algorithm stopped due to rising FNNs. Valid embedding achieved ✓.\n",
      "[0, 3, 1, 2][1, 1, 1, 1]\n"
     ]
    },
    {
     "name": "stdout",
     "output_type": "stream",
     "text": [
      "Algorithm stopped due to rising FNNs. Valid embedding achieved ✓.\n",
      "[0, 3, 1][1, 1, 1]\n"
     ]
    },
    {
     "name": "stdout",
     "output_type": "stream",
     "text": [
      "Algorithm stopped due to rising FNNs. Valid embedding achieved ✓.\n",
      "[0, 3, 1, 2, 6][1, 1, 1, 1, 1]\n"
     ]
    },
    {
     "name": "stdout",
     "output_type": "stream",
     "text": [
      "Algorithm stopped due to rising FNNs. Valid embedding achieved ✓.\n",
      "[0, 3, 1][1, 1, 1]\n"
     ]
    },
    {
     "name": "stdout",
     "output_type": "stream",
     "text": [
      "Algorithm stopped due to rising FNNs. Valid embedding achieved ✓.\n",
      "[0, 3, 1, 2, 6][1, 1, 1, 1, 1]\n"
     ]
    },
    {
     "name": "stdout",
     "output_type": "stream",
     "text": [
      "Algorithm stopped due to rising FNNs. Valid embedding achieved ✓.\n",
      "[0, 3, 1, 2][1, 1, 1, 1]\n"
     ]
    },
    {
     "name": "stdout",
     "output_type": "stream",
     "text": [
      "Algorithm stopped due to rising FNNs. Valid embedding achieved ✓.\n",
      "[0, 3, 1, 2][1, 1, 1, 1]\n"
     ]
    },
    {
     "name": "stdout",
     "output_type": "stream",
     "text": [
      "Algorithm stopped due to rising FNNs. Valid embedding achieved ✓.\n",
      "[0, 3, 1][1, 1, 1]\n"
     ]
    },
    {
     "name": "stdout",
     "output_type": "stream",
     "text": [
      "Algorithm stopped due to rising FNNs. Valid embedding achieved ✓.\n",
      "[0, 3, 1, 2, 6][1, 1, 1, 1, 1]\n"
     ]
    },
    {
     "name": "stdout",
     "output_type": "stream",
     "text": [
      "Algorithm stopped due to rising FNNs. Valid embedding achieved ✓.\n",
      "[0, 3, 1, 2, 6][1, 1, 1, 1, 1]\n"
     ]
    },
    {
     "name": "stdout",
     "output_type": "stream",
     "text": [
      "Algorithm stopped due to rising FNNs. Valid embedding achieved ✓.\n",
      "[0, 3, 1, 2][1, 1, 1, 1]\n"
     ]
    },
    {
     "name": "stdout",
     "output_type": "stream",
     "text": [
      "Algorithm stopped due to rising FNNs. Valid embedding achieved ✓.\n",
      "[0, 3, 1][1, 1, 1]\n"
     ]
    },
    {
     "name": "stdout",
     "output_type": "stream",
     "text": [
      "Algorithm stopped due to rising FNNs. Valid embedding achieved ✓.\n",
      "[0, 3, 1, 2, 6][1, 1, 1, 1, 1]\n"
     ]
    },
    {
     "name": "stdout",
     "output_type": "stream",
     "text": [
      "Algorithm stopped due to rising FNNs. Valid embedding achieved ✓.\n",
      "[0, 3, 1, 2][1, 1, 1, 1]\n"
     ]
    },
    {
     "name": "stdout",
     "output_type": "stream",
     "text": [
      "Algorithm stopped due to rising FNNs. Valid embedding achieved ✓.\n",
      "[0, 3, 1, 2, 6][1, 1, 1, 1, 1]\n"
     ]
    },
    {
     "name": "stdout",
     "output_type": "stream",
     "text": [
      "Algorithm stopped due to rising FNNs. Valid embedding achieved ✓.\n",
      "[0, 3, 1][1, 1, 1]"
     ]
    },
    {
     "name": "stdout",
     "output_type": "stream",
     "text": [
      "\n",
      "Algorithm stopped due to rising FNNs. Valid embedding achieved ✓.\n",
      "[0, 3, 1, 2, 6][1, 1, 1, 1, 1]\n"
     ]
    },
    {
     "name": "stdout",
     "output_type": "stream",
     "text": [
      "Algorithm stopped due to rising FNNs. Valid embedding achieved ✓.\n",
      "[0, 3, 1, 2][1, 1, 1, 1]\n"
     ]
    },
    {
     "name": "stdout",
     "output_type": "stream",
     "text": [
      "Algorithm stopped due to sufficiently small FNNs. Valid embedding achieved ✓.\n",
      "[0, 3, 1, 2, 6][1, 1, 1, 1, 1]\n"
     ]
    },
    {
     "name": "stdout",
     "output_type": "stream",
     "text": [
      "Algorithm stopped due to rising FNNs. Valid embedding achieved ✓.\n",
      "[0, 3, 1][1, 1, 1]"
     ]
    },
    {
     "name": "stdout",
     "output_type": "stream",
     "text": [
      "\n",
      "Algorithm stopped due to rising FNNs. Valid embedding achieved ✓.\n",
      "[0, 3, 1, 2][1, 1, 1, 1]\n"
     ]
    },
    {
     "name": "stdout",
     "output_type": "stream",
     "text": [
      "Algorithm stopped due to rising FNNs. Valid embedding achieved ✓.\n",
      "[0, 3, 1, 2][1, 1, 1, 1]\n"
     ]
    },
    {
     "name": "stdout",
     "output_type": "stream",
     "text": [
      "Algorithm stopped due to rising FNNs. Valid embedding achieved ✓.\n",
      "[0, 3, 1, 2, 6][1, 1, 1, 1, 1]\n"
     ]
    },
    {
     "name": "stdout",
     "output_type": "stream",
     "text": [
      "Algorithm stopped due to sufficiently small FNNs. Valid embedding achieved ✓.\n",
      "[0, 3, 1, 2, 6][1, 1, 1, 1, 1]\n"
     ]
    },
    {
     "name": "stdout",
     "output_type": "stream",
     "text": [
      "Algorithm stopped due to rising FNNs. Valid embedding achieved ✓.\n",
      "[0, 3, 1, 2, 6][1, 1, 1, 1, 1]\n"
     ]
    },
    {
     "name": "stdout",
     "output_type": "stream",
     "text": [
      "Algorithm stopped due to rising FNNs. Valid embedding achieved ✓.\n",
      "[0, 3, 1, 2][1, 1, 1, 1]\n"
     ]
    },
    {
     "name": "stdout",
     "output_type": "stream",
     "text": [
      "Algorithm stopped due to rising FNNs. Valid embedding achieved ✓.\n",
      "[0, 3, 1, 2, 6][1, 1, 1, 1, 1]\n"
     ]
    },
    {
     "name": "stdout",
     "output_type": "stream",
     "text": [
      "Algorithm stopped due to rising FNNs. Valid embedding achieved ✓.\n",
      "[0, 3, 1, 2][1, 1, 1, 1]\n"
     ]
    },
    {
     "name": "stdout",
     "output_type": "stream",
     "text": [
      "Algorithm stopped due to rising FNNs. Valid embedding achieved ✓.\n",
      "[0, 3, 1, 2, 6][1, 1, 1, 1, 1]\n"
     ]
    },
    {
     "name": "stdout",
     "output_type": "stream",
     "text": [
      "Algorithm stopped due to rising FNNs. Valid embedding achieved ✓.\n",
      "[0, 3, 1, 2, 6][1, 1, 1, 1, 1]\n"
     ]
    },
    {
     "name": "stdout",
     "output_type": "stream",
     "text": [
      "Algorithm stopped due to rising FNNs. Valid embedding achieved ✓.\n",
      "[0, 3, 1][1, 1, 1]\n"
     ]
    },
    {
     "name": "stdout",
     "output_type": "stream",
     "text": [
      "Algorithm stopped due to rising FNNs. Valid embedding achieved ✓.\n",
      "[0, 3, 1][1, 1, 1]\n"
     ]
    },
    {
     "name": "stdout",
     "output_type": "stream",
     "text": [
      "Algorithm stopped due to rising FNNs. Valid embedding achieved ✓.\n",
      "[0, 3, 1][1, 1, 1]\n"
     ]
    },
    {
     "name": "stdout",
     "output_type": "stream",
     "text": [
      "Algorithm stopped due to rising FNNs. Valid embedding achieved ✓.\n",
      "[0, 3, 1, 2][1, 1, 1, 1]\n"
     ]
    },
    {
     "name": "stdout",
     "output_type": "stream",
     "text": [
      "Algorithm stopped due to rising FNNs. Valid embedding achieved ✓.\n",
      "[0, 3, 1, 2, 6][1, 1, 1, 1, 1]\n"
     ]
    },
    {
     "name": "stdout",
     "output_type": "stream",
     "text": [
      "Algorithm stopped due to rising FNNs. Valid embedding achieved ✓.\n",
      "[0, 3, 1, 2][1, 1, 1, 1]\n"
     ]
    },
    {
     "name": "stdout",
     "output_type": "stream",
     "text": [
      "Algorithm stopped due to rising FNNs. Valid embedding achieved ✓.\n",
      "[0, 3, 1, 2][1, 1, 1, 1]\n"
     ]
    },
    {
     "name": "stdout",
     "output_type": "stream",
     "text": [
      "Algorithm stopped due to rising FNNs. Valid embedding achieved ✓.\n",
      "[0, 3, 1, 2, 6][1, 1, 1, 1, 1]\n"
     ]
    },
    {
     "name": "stdout",
     "output_type": "stream",
     "text": [
      "Algorithm stopped due to rising FNNs. Valid embedding achieved ✓.\n",
      "[0, 3, 1, 2][1, 1, 1, 1]\n"
     ]
    }
   ],
   "source": [
    "for i = 1:100\n",
    "    # fid = h5open(\"E:/LearningEmbedding/data_collection/3D-lorenz/lorenz_no\"*string(i)*\".h5\", \"r\")\n",
    "    fid = h5open(\"E:/LearningEmbedding/data_collection/3D-lorenz/noisy_lorenz_no\"*string(i)*\".h5\", \"r\")\n",
    "    Y = Array(fid[\"xM\"])\n",
    "\n",
    "    inds = [2,3] # input timeseries = y-component and z-component of Lorenz\n",
    "    theiler1 = estimate_delay(Y[:,2], \"mi_min\") # estimate a Theiler window\n",
    "    theiler2 = estimate_delay(Y[:,3], \"mi_min\")\n",
    "    w = maximum(hcat(theiler1, theiler2))\n",
    "    Tmax = 50 # maximum possible delay\n",
    "    close(fid)\n",
    "\n",
    "    Recon_GA, τ_vals_GA, ts_vals_GA, FNNs_GA , ns_GA = garcia_almeida_embedding(Dataset(Y[:,inds]); τs = 0:Tmax , w = w, T = w)\n",
    "    println(τ_vals_GA, ts_vals_GA)\n",
    "    # ff = h5open(\"e:/LearningEmbedding/results/GA/3D-lorenz-multi/lorenz_multi_no\"*string(i)*\".h5\", \"cw\")\n",
    "    ff = h5open(\"e:/LearningEmbedding/results/GA/3D-lorenz-multi/noisy_lorenz_multi_no\"*string(i)*\".h5\", \"cw\")\n",
    "    ff[\"Embedding\"] = Matrix(Recon_GA)\n",
    "    ff[\"delays\"] = τ_vals_GA\n",
    "    ff[\"variables\"] = ts_vals_GA\n",
    "    close(ff)\n",
    "    \n",
    "end\n"
   ]
  },
  {
   "cell_type": "markdown",
   "metadata": {},
   "source": [
    "### Rossler system"
   ]
  },
  {
   "cell_type": "code",
   "execution_count": 2,
   "metadata": {},
   "outputs": [
    {
     "name": "stdout",
     "output_type": "stream",
     "text": [
      "Initializing PECUZAL algorithm for multivariate input...\n",
      "Starting 1-th embedding cycle...\n"
     ]
    },
    {
     "name": "stdout",
     "output_type": "stream",
     "text": [
      "Starting 2-th embedding cycle...\n"
     ]
    },
    {
     "name": "stdout",
     "output_type": "stream",
     "text": [
      "Starting 3-th embedding cycle...\n"
     ]
    },
    {
     "name": "stdout",
     "output_type": "stream",
     "text": [
      "Algorithm stopped due to increasing L-values. VALID embedding achieved ✓.\n"
     ]
    },
    {
     "name": "stdout",
     "output_type": "stream",
     "text": [
      "[0, 0, 36][2, 1, 2]\n"
     ]
    },
    {
     "name": "stdout",
     "output_type": "stream",
     "text": [
      "Initializing PECUZAL algorithm for multivariate input...\n",
      "Starting 1-th embedding cycle...\n"
     ]
    },
    {
     "name": "stdout",
     "output_type": "stream",
     "text": [
      "Starting 2-th embedding cycle...\n"
     ]
    },
    {
     "name": "stdout",
     "output_type": "stream",
     "text": [
      "Starting 3-th embedding cycle...\n"
     ]
    },
    {
     "name": "stdout",
     "output_type": "stream",
     "text": [
      "Algorithm stopped due to increasing L-values. VALID embedding achieved ✓.\n",
      "[0, 9, 12][1, 2, 1]\n",
      "Initializing PECUZAL algorithm for multivariate input..."
     ]
    },
    {
     "name": "stdout",
     "output_type": "stream",
     "text": [
      "\n",
      "Starting 1-th embedding cycle...\n"
     ]
    },
    {
     "name": "stdout",
     "output_type": "stream",
     "text": [
      "Starting 2-th embedding cycle...\n"
     ]
    },
    {
     "name": "stdout",
     "output_type": "stream",
     "text": [
      "Starting 3-th embedding cycle...\n"
     ]
    },
    {
     "name": "stdout",
     "output_type": "stream",
     "text": [
      "Starting 4-th embedding cycle...\n"
     ]
    },
    {
     "name": "stdout",
     "output_type": "stream",
     "text": [
      "Algorithm stopped due to increasing L-values. VALID embedding achieved ✓.\n",
      "[0, 0, 16, 2][2, 1, 1, 2]\n"
     ]
    },
    {
     "name": "stdout",
     "output_type": "stream",
     "text": [
      "Initializing PECUZAL algorithm for multivariate input...\n",
      "Starting 1-th embedding cycle...\n"
     ]
    },
    {
     "name": "stdout",
     "output_type": "stream",
     "text": [
      "Starting 2-th embedding cycle...\n"
     ]
    },
    {
     "name": "stdout",
     "output_type": "stream",
     "text": [
      "Starting 3-th embedding cycle...\n"
     ]
    },
    {
     "name": "stdout",
     "output_type": "stream",
     "text": [
      "Algorithm stopped due to increasing L-values. VALID embedding achieved ✓.\n",
      "[0, 10, 14][1, 2, 1]\n",
      "Initializing PECUZAL algorithm for multivariate input...\n",
      "Starting 1-th embedding cycle...\n"
     ]
    },
    {
     "name": "stdout",
     "output_type": "stream",
     "text": [
      "Starting 2-th embedding cycle...\n"
     ]
    },
    {
     "name": "stdout",
     "output_type": "stream",
     "text": [
      "Starting 3-th embedding cycle...\n"
     ]
    },
    {
     "name": "stdout",
     "output_type": "stream",
     "text": [
      "Algorithm stopped due to increasing L-values. VALID embedding achieved ✓.\n",
      "[0, 9, 14][1, 2, 1]\n",
      "Initializing PECUZAL algorithm for multivariate input...\n",
      "Starting 1-th embedding cycle...\n"
     ]
    },
    {
     "name": "stdout",
     "output_type": "stream",
     "text": [
      "Starting 2-th embedding cycle...\n"
     ]
    },
    {
     "name": "stdout",
     "output_type": "stream",
     "text": [
      "Starting 3-th embedding cycle...\n"
     ]
    },
    {
     "name": "stdout",
     "output_type": "stream",
     "text": [
      "Algorithm stopped due to increasing L-values. VALID embedding achieved ✓.\n",
      "[0, 10, 12][1, 2, 1]\n",
      "Initializing PECUZAL algorithm for multivariate input...\n",
      "Starting 1-th embedding cycle...\n"
     ]
    },
    {
     "name": "stdout",
     "output_type": "stream",
     "text": [
      "Starting 2-th embedding cycle...\n"
     ]
    },
    {
     "name": "stdout",
     "output_type": "stream",
     "text": [
      "Starting 3-th embedding cycle..."
     ]
    },
    {
     "name": "stdout",
     "output_type": "stream",
     "text": [
      "\n",
      "Algorithm stopped due to increasing L-values. VALID embedding achieved ✓.\n",
      "[0, 0, 14][2, 1, 1]\n",
      "Initializing PECUZAL algorithm for multivariate input...\n",
      "Starting 1-th embedding cycle...\n"
     ]
    },
    {
     "name": "stdout",
     "output_type": "stream",
     "text": [
      "Starting 2-th embedding cycle...\n"
     ]
    },
    {
     "name": "stdout",
     "output_type": "stream",
     "text": [
      "Starting 3-th embedding cycle...\n"
     ]
    },
    {
     "name": "stdout",
     "output_type": "stream",
     "text": [
      "Algorithm stopped due to increasing L-values. VALID embedding achieved ✓.\n",
      "[0, 10, 13][1, 2, 1]\n",
      "Initializing PECUZAL algorithm for multivariate input...\n",
      "Starting 1-th embedding cycle...\n"
     ]
    },
    {
     "name": "stdout",
     "output_type": "stream",
     "text": [
      "Starting 2-th embedding cycle...\n"
     ]
    },
    {
     "name": "stdout",
     "output_type": "stream",
     "text": [
      "Starting 3-th embedding cycle...\n"
     ]
    },
    {
     "name": "stdout",
     "output_type": "stream",
     "text": [
      "Algorithm stopped due to increasing L-values. VALID embedding achieved ✓.\n",
      "[0, 10, 12][1, 2, 1]\n",
      "Initializing PECUZAL algorithm for multivariate input...\n",
      "Starting 1-th embedding cycle..."
     ]
    },
    {
     "name": "stdout",
     "output_type": "stream",
     "text": [
      "\n",
      "Starting 2-th embedding cycle...\n",
      "Starting 3-th embedding cycle..."
     ]
    },
    {
     "name": "stdout",
     "output_type": "stream",
     "text": [
      "\n"
     ]
    },
    {
     "name": "stdout",
     "output_type": "stream",
     "text": [
      "Algorithm stopped due to increasing L-values. VALID embedding achieved ✓.\n",
      "[0, 0, 12][2, 1, 1]\n",
      "Initializing PECUZAL algorithm for multivariate input...\n",
      "Starting 1-th embedding cycle...\n"
     ]
    },
    {
     "name": "stdout",
     "output_type": "stream",
     "text": [
      "Starting 2-th embedding cycle...\n"
     ]
    },
    {
     "name": "stdout",
     "output_type": "stream",
     "text": [
      "Starting 3-th embedding cycle...\n"
     ]
    },
    {
     "name": "stdout",
     "output_type": "stream",
     "text": [
      "Algorithm stopped due to increasing L-values. VALID embedding achieved ✓.\n",
      "[0, 8, 11][1, 2, 1]\n",
      "Initializing PECUZAL algorithm for multivariate input...\n",
      "Starting 1-th embedding cycle...\n"
     ]
    },
    {
     "name": "stdout",
     "output_type": "stream",
     "text": [
      "Starting 2-th embedding cycle...\n",
      "Starting 3-th embedding cycle..."
     ]
    },
    {
     "name": "stdout",
     "output_type": "stream",
     "text": [
      "\n"
     ]
    },
    {
     "name": "stdout",
     "output_type": "stream",
     "text": [
      "Algorithm stopped due to increasing L-values. VALID embedding achieved ✓.\n",
      "[0, 10, 14][1, 2, 1]\n",
      "Initializing PECUZAL algorithm for multivariate input...\n",
      "Starting 1-th embedding cycle..."
     ]
    },
    {
     "name": "stdout",
     "output_type": "stream",
     "text": [
      "\n",
      "Starting 2-th embedding cycle...\n"
     ]
    },
    {
     "name": "stdout",
     "output_type": "stream",
     "text": [
      "Starting 3-th embedding cycle...\n"
     ]
    },
    {
     "name": "stdout",
     "output_type": "stream",
     "text": [
      "Algorithm stopped due to increasing L-values. VALID embedding achieved ✓.\n",
      "[0, 9, 12][1, 2, 1]\n",
      "Initializing PECUZAL algorithm for multivariate input...\n"
     ]
    },
    {
     "name": "stdout",
     "output_type": "stream",
     "text": [
      "Starting 1-th embedding cycle...\n",
      "Starting 2-th embedding cycle..."
     ]
    },
    {
     "name": "stdout",
     "output_type": "stream",
     "text": [
      "\n",
      "Starting 3-th embedding cycle...\n",
      "Algorithm stopped due to increasing L-values. VALID embedding achieved ✓."
     ]
    },
    {
     "name": "stdout",
     "output_type": "stream",
     "text": [
      "\n",
      "[0, 9, 12][1, 2, 1]\n",
      "Initializing PECUZAL algorithm for multivariate input...\n",
      "Starting 1-th embedding cycle..."
     ]
    },
    {
     "name": "stdout",
     "output_type": "stream",
     "text": [
      "\n",
      "Starting 2-th embedding cycle...\n"
     ]
    },
    {
     "name": "stdout",
     "output_type": "stream",
     "text": [
      "Starting 3-th embedding cycle..."
     ]
    },
    {
     "name": "stdout",
     "output_type": "stream",
     "text": [
      "\n",
      "Algorithm stopped due to increasing L-values. VALID embedding achieved ✓.\n",
      "[0, 10, 12][1, 2, 1]\n",
      "Initializing PECUZAL algorithm for multivariate input...\n",
      "Starting 1-th embedding cycle..."
     ]
    },
    {
     "name": "stdout",
     "output_type": "stream",
     "text": [
      "\n",
      "Starting 2-th embedding cycle...\n"
     ]
    },
    {
     "name": "stdout",
     "output_type": "stream",
     "text": [
      "Starting 3-th embedding cycle...\n"
     ]
    },
    {
     "name": "stdout",
     "output_type": "stream",
     "text": [
      "Starting 4-th embedding cycle...\n"
     ]
    },
    {
     "name": "stdout",
     "output_type": "stream",
     "text": [
      "Algorithm stopped due to increasing L-values. VALID embedding achieved ✓.\n",
      "[0, 8, 12, 10][1, 2, 1, 2]\n",
      "Initializing PECUZAL algorithm for multivariate input...\n",
      "Starting 1-th embedding cycle..."
     ]
    },
    {
     "name": "stdout",
     "output_type": "stream",
     "text": [
      "\n",
      "Starting 2-th embedding cycle...\n"
     ]
    },
    {
     "name": "stdout",
     "output_type": "stream",
     "text": [
      "Starting 3-th embedding cycle...\n"
     ]
    },
    {
     "name": "stdout",
     "output_type": "stream",
     "text": [
      "Algorithm stopped due to increasing L-values. VALID embedding achieved ✓.\n",
      "[0, 11, 11][1, 2, 1]\n",
      "Initializing PECUZAL algorithm for multivariate input...\n",
      "Starting 1-th embedding cycle...\n"
     ]
    },
    {
     "name": "stdout",
     "output_type": "stream",
     "text": [
      "Starting 2-th embedding cycle...\n"
     ]
    },
    {
     "name": "stdout",
     "output_type": "stream",
     "text": [
      "Starting 3-th embedding cycle...\n"
     ]
    },
    {
     "name": "stdout",
     "output_type": "stream",
     "text": [
      "Algorithm stopped due to increasing L-values. VALID embedding achieved ✓.\n",
      "[0, 10, 13][1, 2, 1]\n",
      "Initializing PECUZAL algorithm for multivariate input...\n",
      "Starting 1-th embedding cycle...\n"
     ]
    },
    {
     "name": "stdout",
     "output_type": "stream",
     "text": [
      "Starting 2-th embedding cycle...\n"
     ]
    },
    {
     "name": "stdout",
     "output_type": "stream",
     "text": [
      "Starting 3-th embedding cycle...\n"
     ]
    },
    {
     "name": "stdout",
     "output_type": "stream",
     "text": [
      "Algorithm stopped due to increasing L-values. VALID embedding achieved ✓.\n",
      "[0, 9, 13][1, 2, 1]\n",
      "Initializing PECUZAL algorithm for multivariate input...\n",
      "Starting 1-th embedding cycle...\n"
     ]
    },
    {
     "name": "stdout",
     "output_type": "stream",
     "text": [
      "Starting 2-th embedding cycle...\n"
     ]
    },
    {
     "name": "stdout",
     "output_type": "stream",
     "text": [
      "Starting 3-th embedding cycle..."
     ]
    },
    {
     "name": "stdout",
     "output_type": "stream",
     "text": [
      "\n",
      "Algorithm stopped due to increasing L-values. VALID embedding achieved ✓.\n",
      "[0, 9, 13][1, 2, 1]\n",
      "Initializing PECUZAL algorithm for multivariate input...\n",
      "Starting 1-th embedding cycle...\n"
     ]
    },
    {
     "name": "stdout",
     "output_type": "stream",
     "text": [
      "Starting 2-th embedding cycle...\n"
     ]
    },
    {
     "name": "stdout",
     "output_type": "stream",
     "text": [
      "Starting 3-th embedding cycle...\n"
     ]
    },
    {
     "name": "stdout",
     "output_type": "stream",
     "text": [
      "Algorithm stopped due to increasing L-values. VALID embedding achieved ✓.\n",
      "[0, 10, 12][1, 2, 1]\n",
      "Initializing PECUZAL algorithm for multivariate input...\n",
      "Starting 1-th embedding cycle..."
     ]
    },
    {
     "name": "stdout",
     "output_type": "stream",
     "text": [
      "\n",
      "Starting 2-th embedding cycle...\n"
     ]
    },
    {
     "name": "stdout",
     "output_type": "stream",
     "text": [
      "Starting 3-th embedding cycle...\n"
     ]
    },
    {
     "name": "stdout",
     "output_type": "stream",
     "text": [
      "Algorithm stopped due to increasing L-values. VALID embedding achieved ✓.\n",
      "[0, 9, 12][1, 2, 1]\n",
      "Initializing PECUZAL algorithm for multivariate input...\n",
      "Starting 1-th embedding cycle..."
     ]
    },
    {
     "name": "stdout",
     "output_type": "stream",
     "text": [
      "\n",
      "Starting 2-th embedding cycle...\n",
      "Starting 3-th embedding cycle..."
     ]
    },
    {
     "name": "stdout",
     "output_type": "stream",
     "text": [
      "\n"
     ]
    },
    {
     "name": "stdout",
     "output_type": "stream",
     "text": [
      "Starting 4-th embedding cycle...\n"
     ]
    },
    {
     "name": "stdout",
     "output_type": "stream",
     "text": [
      "Algorithm stopped due to increasing L-values. VALID embedding achieved ✓.\n",
      "[0, 10, 12, 12][1, 2, 1, 2]\n",
      "Initializing PECUZAL algorithm for multivariate input...\n",
      "Starting 1-th embedding cycle...\n"
     ]
    },
    {
     "name": "stdout",
     "output_type": "stream",
     "text": [
      "Starting 2-th embedding cycle...\n"
     ]
    },
    {
     "name": "stdout",
     "output_type": "stream",
     "text": [
      "Starting 3-th embedding cycle...\n"
     ]
    },
    {
     "name": "stdout",
     "output_type": "stream",
     "text": [
      "Algorithm stopped due to increasing L-values. VALID embedding achieved ✓.\n",
      "[0, 10, 13][1, 2, 1]\n",
      "Initializing PECUZAL algorithm for multivariate input...\n",
      "Starting 1-th embedding cycle...\n"
     ]
    },
    {
     "name": "stdout",
     "output_type": "stream",
     "text": [
      "Starting 2-th embedding cycle...\n"
     ]
    },
    {
     "name": "stdout",
     "output_type": "stream",
     "text": [
      "Starting 3-th embedding cycle...\n"
     ]
    },
    {
     "name": "stdout",
     "output_type": "stream",
     "text": [
      "Starting 4-th embedding cycle...\n"
     ]
    },
    {
     "name": "stdout",
     "output_type": "stream",
     "text": [
      "Algorithm stopped due to increasing L-values. VALID embedding achieved ✓.\n",
      "[0, 11, 13, 9][1, 2, 1, 2]\n",
      "Initializing PECUZAL algorithm for multivariate input...\n"
     ]
    },
    {
     "name": "stdout",
     "output_type": "stream",
     "text": [
      "Starting 1-th embedding cycle...\n",
      "Starting 2-th embedding cycle...\n"
     ]
    },
    {
     "name": "stdout",
     "output_type": "stream",
     "text": [
      "Starting 3-th embedding cycle...\n"
     ]
    },
    {
     "name": "stdout",
     "output_type": "stream",
     "text": [
      "Starting 4-th embedding cycle...\n"
     ]
    },
    {
     "name": "stdout",
     "output_type": "stream",
     "text": [
      "Algorithm stopped due to increasing L-values. VALID embedding achieved ✓.\n",
      "[0, 11, 12, 9][1, 2, 1, 2]\n",
      "Initializing PECUZAL algorithm for multivariate input...\n",
      "Starting 1-th embedding cycle...\n"
     ]
    },
    {
     "name": "stdout",
     "output_type": "stream",
     "text": [
      "Starting 2-th embedding cycle...\n"
     ]
    },
    {
     "name": "stdout",
     "output_type": "stream",
     "text": [
      "Starting 3-th embedding cycle...\n"
     ]
    },
    {
     "name": "stdout",
     "output_type": "stream",
     "text": [
      "Algorithm stopped due to increasing L-values. VALID embedding achieved ✓.\n",
      "[0, 10, 14][1, 2, 1]\n",
      "Initializing PECUZAL algorithm for multivariate input...\n",
      "Starting 1-th embedding cycle...\n"
     ]
    },
    {
     "name": "stdout",
     "output_type": "stream",
     "text": [
      "Starting 2-th embedding cycle..."
     ]
    },
    {
     "name": "stdout",
     "output_type": "stream",
     "text": [
      "\n",
      "Starting 3-th embedding cycle...\n"
     ]
    },
    {
     "name": "stdout",
     "output_type": "stream",
     "text": [
      "Algorithm stopped due to increasing L-values. VALID embedding achieved ✓.\n",
      "[0, 0, 48][2, 1, 2]\n",
      "Initializing PECUZAL algorithm for multivariate input...\n",
      "Starting 1-th embedding cycle..."
     ]
    },
    {
     "name": "stdout",
     "output_type": "stream",
     "text": [
      "\n",
      "Starting 2-th embedding cycle...\n"
     ]
    },
    {
     "name": "stdout",
     "output_type": "stream",
     "text": [
      "Starting 3-th embedding cycle..."
     ]
    },
    {
     "name": "stdout",
     "output_type": "stream",
     "text": [
      "\n",
      "Algorithm stopped due to increasing L-values. VALID embedding achieved ✓.\n",
      "[0, 9, 13][1, 2, 1]\n",
      "Initializing PECUZAL algorithm for multivariate input...\n",
      "Starting 1-th embedding cycle..."
     ]
    },
    {
     "name": "stdout",
     "output_type": "stream",
     "text": [
      "\n",
      "Starting 2-th embedding cycle...\n"
     ]
    },
    {
     "name": "stdout",
     "output_type": "stream",
     "text": [
      "Starting 3-th embedding cycle..."
     ]
    },
    {
     "name": "stdout",
     "output_type": "stream",
     "text": [
      "\n",
      "Starting 4-th embedding cycle...\n"
     ]
    },
    {
     "name": "stdout",
     "output_type": "stream",
     "text": [
      "Algorithm stopped due to increasing L-values. VALID embedding achieved ✓.\n",
      "[0, 0, 13, 2][2, 1, 1, 2]\n",
      "Initializing PECUZAL algorithm for multivariate input...\n",
      "Starting 1-th embedding cycle..."
     ]
    },
    {
     "name": "stdout",
     "output_type": "stream",
     "text": [
      "\n",
      "Starting 2-th embedding cycle...\n"
     ]
    },
    {
     "name": "stdout",
     "output_type": "stream",
     "text": [
      "Starting 3-th embedding cycle...\n"
     ]
    },
    {
     "name": "stdout",
     "output_type": "stream",
     "text": [
      "Algorithm stopped due to increasing L-values. VALID embedding achieved ✓.\n",
      "[0, 9, 16][1, 2, 1]\n",
      "Initializing PECUZAL algorithm for multivariate input...\n",
      "Starting 1-th embedding cycle..."
     ]
    },
    {
     "name": "stdout",
     "output_type": "stream",
     "text": [
      "\n",
      "Starting 2-th embedding cycle..."
     ]
    },
    {
     "name": "stdout",
     "output_type": "stream",
     "text": [
      "\n",
      "Starting 3-th embedding cycle...\n"
     ]
    },
    {
     "name": "stdout",
     "output_type": "stream",
     "text": [
      "Algorithm stopped due to increasing L-values. VALID embedding achieved ✓.\n",
      "[0, 10, 11][1, 2, 1]\n",
      "Initializing PECUZAL algorithm for multivariate input...\n",
      "Starting 1-th embedding cycle...\n"
     ]
    },
    {
     "name": "stdout",
     "output_type": "stream",
     "text": [
      "Starting 2-th embedding cycle...\n"
     ]
    },
    {
     "name": "stdout",
     "output_type": "stream",
     "text": [
      "Starting 3-th embedding cycle..."
     ]
    },
    {
     "name": "stdout",
     "output_type": "stream",
     "text": [
      "\n",
      "Starting 4-th embedding cycle...\n"
     ]
    },
    {
     "name": "stdout",
     "output_type": "stream",
     "text": [
      "Algorithm stopped due to increasing L-values. VALID embedding achieved ✓.\n",
      "[0, 8, 12, 10][1, 2, 1, 2]\n",
      "Initializing PECUZAL algorithm for multivariate input...\n",
      "Starting 1-th embedding cycle...\n"
     ]
    },
    {
     "name": "stdout",
     "output_type": "stream",
     "text": [
      "Starting 2-th embedding cycle...\n"
     ]
    },
    {
     "name": "stdout",
     "output_type": "stream",
     "text": [
      "Starting 3-th embedding cycle...\n"
     ]
    },
    {
     "name": "stdout",
     "output_type": "stream",
     "text": [
      "Algorithm stopped due to increasing L-values. VALID embedding achieved ✓.\n",
      "[0, 8, 13][1, 2, 1]\n",
      "Initializing PECUZAL algorithm for multivariate input...\n",
      "Starting 1-th embedding cycle...\n"
     ]
    },
    {
     "name": "stdout",
     "output_type": "stream",
     "text": [
      "Starting 2-th embedding cycle..."
     ]
    },
    {
     "name": "stdout",
     "output_type": "stream",
     "text": [
      "\n",
      "Starting 3-th embedding cycle...\n"
     ]
    },
    {
     "name": "stdout",
     "output_type": "stream",
     "text": [
      "Algorithm stopped due to increasing L-values. VALID embedding achieved ✓.\n",
      "[0, 9, 11][1, 2, 1]\n",
      "Initializing PECUZAL algorithm for multivariate input...\n",
      "Starting 1-th embedding cycle..."
     ]
    },
    {
     "name": "stdout",
     "output_type": "stream",
     "text": [
      "\n",
      "Starting 2-th embedding cycle..."
     ]
    },
    {
     "name": "stdout",
     "output_type": "stream",
     "text": [
      "\n",
      "Starting 3-th embedding cycle...\n"
     ]
    },
    {
     "name": "stdout",
     "output_type": "stream",
     "text": [
      "Algorithm stopped due to increasing L-values. VALID embedding achieved ✓.\n",
      "[0, 9, 11][1, 2, 1]\n",
      "Initializing PECUZAL algorithm for multivariate input...\n",
      "Starting 1-th embedding cycle..."
     ]
    },
    {
     "name": "stdout",
     "output_type": "stream",
     "text": [
      "\n",
      "Starting 2-th embedding cycle...\n"
     ]
    },
    {
     "name": "stdout",
     "output_type": "stream",
     "text": [
      "Starting 3-th embedding cycle...\n",
      "Algorithm stopped due to increasing L-values. VALID embedding achieved ✓."
     ]
    },
    {
     "name": "stdout",
     "output_type": "stream",
     "text": [
      "\n",
      "[0, 10, 12][1, 2, 1]\n",
      "Initializing PECUZAL algorithm for multivariate input...\n",
      "Starting 1-th embedding cycle...\n"
     ]
    },
    {
     "name": "stdout",
     "output_type": "stream",
     "text": [
      "Starting 2-th embedding cycle...\n"
     ]
    },
    {
     "name": "stdout",
     "output_type": "stream",
     "text": [
      "Starting 3-th embedding cycle...\n"
     ]
    },
    {
     "name": "stdout",
     "output_type": "stream",
     "text": [
      "Algorithm stopped due to increasing L-values. VALID embedding achieved ✓.\n",
      "[0, 0, 11][2, 1, 1]\n",
      "Initializing PECUZAL algorithm for multivariate input...\n",
      "Starting 1-th embedding cycle..."
     ]
    },
    {
     "name": "stdout",
     "output_type": "stream",
     "text": [
      "\n",
      "Starting 2-th embedding cycle...\n"
     ]
    },
    {
     "name": "stdout",
     "output_type": "stream",
     "text": [
      "Starting 3-th embedding cycle...\n"
     ]
    },
    {
     "name": "stdout",
     "output_type": "stream",
     "text": [
      "Algorithm stopped due to increasing L-values. VALID embedding achieved ✓.\n",
      "[0, 10, 12][1, 2, 1]\n",
      "Initializing PECUZAL algorithm for multivariate input...\n",
      "Starting 1-th embedding cycle...\n"
     ]
    },
    {
     "name": "stdout",
     "output_type": "stream",
     "text": [
      "Starting 2-th embedding cycle...\n"
     ]
    },
    {
     "name": "stdout",
     "output_type": "stream",
     "text": [
      "Starting 3-th embedding cycle...\n"
     ]
    },
    {
     "name": "stdout",
     "output_type": "stream",
     "text": [
      "Algorithm stopped due to increasing L-values. VALID embedding achieved ✓.\n",
      "[0, 7, 12][1, 2, 1]\n",
      "Initializing PECUZAL algorithm for multivariate input...\n",
      "Starting 1-th embedding cycle..."
     ]
    },
    {
     "name": "stdout",
     "output_type": "stream",
     "text": [
      "\n",
      "Starting 2-th embedding cycle..."
     ]
    },
    {
     "name": "stdout",
     "output_type": "stream",
     "text": [
      "\n",
      "Starting 3-th embedding cycle...\n"
     ]
    },
    {
     "name": "stdout",
     "output_type": "stream",
     "text": [
      "Algorithm stopped due to increasing L-values. VALID embedding achieved ✓.\n",
      "[0, 0, 46][2, 1, 2]\n",
      "Initializing PECUZAL algorithm for multivariate input...\n",
      "Starting 1-th embedding cycle...\n"
     ]
    },
    {
     "name": "stdout",
     "output_type": "stream",
     "text": [
      "Starting 2-th embedding cycle...\n"
     ]
    },
    {
     "name": "stdout",
     "output_type": "stream",
     "text": [
      "Starting 3-th embedding cycle...\n"
     ]
    },
    {
     "name": "stdout",
     "output_type": "stream",
     "text": [
      "Algorithm stopped due to increasing L-values. VALID embedding achieved ✓.\n",
      "[0, 9, 13][1, 2, 1]\n",
      "Initializing PECUZAL algorithm for multivariate input...\n",
      "Starting 1-th embedding cycle...\n"
     ]
    },
    {
     "name": "stdout",
     "output_type": "stream",
     "text": [
      "Starting 2-th embedding cycle...\n"
     ]
    },
    {
     "name": "stdout",
     "output_type": "stream",
     "text": [
      "Starting 3-th embedding cycle...\n"
     ]
    },
    {
     "name": "stdout",
     "output_type": "stream",
     "text": [
      "Algorithm stopped due to increasing L-values. VALID embedding achieved ✓.\n",
      "[0, 11, 12][1, 2, 1]\n",
      "Initializing PECUZAL algorithm for multivariate input...\n",
      "Starting 1-th embedding cycle..."
     ]
    },
    {
     "name": "stdout",
     "output_type": "stream",
     "text": [
      "\n",
      "Starting 2-th embedding cycle...\n"
     ]
    },
    {
     "name": "stdout",
     "output_type": "stream",
     "text": [
      "Starting 3-th embedding cycle...\n"
     ]
    },
    {
     "name": "stdout",
     "output_type": "stream",
     "text": [
      "Algorithm stopped due to increasing L-values. VALID embedding achieved ✓.\n",
      "[0, 8, 13][1, 2, 1]\n",
      "Initializing PECUZAL algorithm for multivariate input...\n",
      "Starting 1-th embedding cycle...\n"
     ]
    },
    {
     "name": "stdout",
     "output_type": "stream",
     "text": [
      "Starting 2-th embedding cycle...\n"
     ]
    },
    {
     "name": "stdout",
     "output_type": "stream",
     "text": [
      "Starting 3-th embedding cycle...\n"
     ]
    },
    {
     "name": "stdout",
     "output_type": "stream",
     "text": [
      "Algorithm stopped due to increasing L-values. VALID embedding achieved ✓.\n",
      "[0, 8, 12][1, 2, 1]\n",
      "Initializing PECUZAL algorithm for multivariate input...\n",
      "Starting 1-th embedding cycle...\n"
     ]
    },
    {
     "name": "stdout",
     "output_type": "stream",
     "text": [
      "Starting 2-th embedding cycle...\n"
     ]
    },
    {
     "name": "stdout",
     "output_type": "stream",
     "text": [
      "Starting 3-th embedding cycle...\n"
     ]
    },
    {
     "name": "stdout",
     "output_type": "stream",
     "text": [
      "Starting 4-th embedding cycle...\n"
     ]
    },
    {
     "name": "stdout",
     "output_type": "stream",
     "text": [
      "Algorithm stopped due to increasing L-values. VALID embedding achieved ✓.\n",
      "[0, 10, 12, 8][1, 2, 1, 2]\n",
      "Initializing PECUZAL algorithm for multivariate input...\n",
      "Starting 1-th embedding cycle...\n"
     ]
    },
    {
     "name": "stdout",
     "output_type": "stream",
     "text": [
      "Starting 2-th embedding cycle...\n"
     ]
    },
    {
     "name": "stdout",
     "output_type": "stream",
     "text": [
      "Starting 3-th embedding cycle..."
     ]
    },
    {
     "name": "stdout",
     "output_type": "stream",
     "text": [
      "\n",
      "Algorithm stopped due to increasing L-values. VALID embedding achieved ✓.\n",
      "[0, 11, 12][1, 2, 1]\n",
      "Initializing PECUZAL algorithm for multivariate input...\n",
      "Starting 1-th embedding cycle...\n"
     ]
    },
    {
     "name": "stdout",
     "output_type": "stream",
     "text": [
      "Starting 2-th embedding cycle...\n"
     ]
    },
    {
     "name": "stdout",
     "output_type": "stream",
     "text": [
      "Starting 3-th embedding cycle...\n"
     ]
    },
    {
     "name": "stdout",
     "output_type": "stream",
     "text": [
      "Algorithm stopped due to increasing L-values. VALID embedding achieved ✓.\n",
      "[0, 10, 12][1, 2, 1]\n",
      "Initializing PECUZAL algorithm for multivariate input...\n",
      "Starting 1-th embedding cycle...\n"
     ]
    },
    {
     "name": "stdout",
     "output_type": "stream",
     "text": [
      "Starting 2-th embedding cycle...\n"
     ]
    },
    {
     "name": "stdout",
     "output_type": "stream",
     "text": [
      "Starting 3-th embedding cycle...\n"
     ]
    },
    {
     "name": "stdout",
     "output_type": "stream",
     "text": [
      "Algorithm stopped due to increasing L-values. VALID embedding achieved ✓.\n",
      "[0, 8, 14][1, 2, 1]\n",
      "Initializing PECUZAL algorithm for multivariate input...\n",
      "Starting 1-th embedding cycle...\n"
     ]
    },
    {
     "name": "stdout",
     "output_type": "stream",
     "text": [
      "Starting 2-th embedding cycle...\n"
     ]
    },
    {
     "name": "stdout",
     "output_type": "stream",
     "text": [
      "Starting 3-th embedding cycle...\n"
     ]
    },
    {
     "name": "stdout",
     "output_type": "stream",
     "text": [
      "Algorithm stopped due to increasing L-values. VALID embedding achieved ✓.\n",
      "[0, 9, 14][1, 2, 1]\n",
      "Initializing PECUZAL algorithm for multivariate input...\n",
      "Starting 1-th embedding cycle...\n"
     ]
    },
    {
     "name": "stdout",
     "output_type": "stream",
     "text": [
      "Starting 2-th embedding cycle...\n"
     ]
    },
    {
     "name": "stdout",
     "output_type": "stream",
     "text": [
      "Starting 3-th embedding cycle...\n"
     ]
    },
    {
     "name": "stdout",
     "output_type": "stream",
     "text": [
      "Algorithm stopped due to increasing L-values. VALID embedding achieved ✓.\n",
      "[0, 9, 11][1, 2, 1]\n",
      "Initializing PECUZAL algorithm for multivariate input...\n",
      "Starting 1-th embedding cycle...\n"
     ]
    },
    {
     "name": "stdout",
     "output_type": "stream",
     "text": [
      "Starting 2-th embedding cycle...\n"
     ]
    },
    {
     "name": "stdout",
     "output_type": "stream",
     "text": [
      "Starting 3-th embedding cycle...\n"
     ]
    },
    {
     "name": "stdout",
     "output_type": "stream",
     "text": [
      "Algorithm stopped due to increasing L-values. VALID embedding achieved ✓.\n",
      "[0, 9, 11][1, 2, 1]\n",
      "Initializing PECUZAL algorithm for multivariate input...\n",
      "Starting 1-th embedding cycle...\n"
     ]
    },
    {
     "name": "stdout",
     "output_type": "stream",
     "text": [
      "Starting 2-th embedding cycle...\n"
     ]
    },
    {
     "name": "stdout",
     "output_type": "stream",
     "text": [
      "Starting 3-th embedding cycle...\n"
     ]
    },
    {
     "name": "stdout",
     "output_type": "stream",
     "text": [
      "Algorithm stopped due to increasing L-values. VALID embedding achieved ✓.\n",
      "[0, 10, 11][1, 2, 1]\n",
      "Initializing PECUZAL algorithm for multivariate input...\n",
      "Starting 1-th embedding cycle..."
     ]
    },
    {
     "name": "stdout",
     "output_type": "stream",
     "text": [
      "\n",
      "Starting 2-th embedding cycle...\n"
     ]
    },
    {
     "name": "stdout",
     "output_type": "stream",
     "text": [
      "Starting 3-th embedding cycle...\n"
     ]
    },
    {
     "name": "stdout",
     "output_type": "stream",
     "text": [
      "Algorithm stopped due to increasing L-values. VALID embedding achieved ✓.\n",
      "[0, 9, 12][1, 2, 1]\n",
      "Initializing PECUZAL algorithm for multivariate input...\n",
      "Starting 1-th embedding cycle...\n"
     ]
    },
    {
     "name": "stdout",
     "output_type": "stream",
     "text": [
      "Starting 2-th embedding cycle...\n"
     ]
    },
    {
     "name": "stdout",
     "output_type": "stream",
     "text": [
      "Starting 3-th embedding cycle...\n"
     ]
    },
    {
     "name": "stdout",
     "output_type": "stream",
     "text": [
      "Algorithm stopped due to increasing L-values. VALID embedding achieved ✓.\n",
      "[0, 10, 11][1, 2, 1]\n",
      "Initializing PECUZAL algorithm for multivariate input...\n",
      "Starting 1-th embedding cycle...\n"
     ]
    },
    {
     "name": "stdout",
     "output_type": "stream",
     "text": [
      "Starting 2-th embedding cycle...\n"
     ]
    },
    {
     "name": "stdout",
     "output_type": "stream",
     "text": [
      "Starting 3-th embedding cycle...\n"
     ]
    },
    {
     "name": "stdout",
     "output_type": "stream",
     "text": [
      "Algorithm stopped due to increasing L-values. VALID embedding achieved ✓.\n",
      "[0, 10, 10][1, 2, 1]\n",
      "Initializing PECUZAL algorithm for multivariate input...\n",
      "Starting 1-th embedding cycle...\n"
     ]
    },
    {
     "name": "stdout",
     "output_type": "stream",
     "text": [
      "Starting 2-th embedding cycle..."
     ]
    },
    {
     "name": "stdout",
     "output_type": "stream",
     "text": [
      "\n",
      "Starting 3-th embedding cycle..."
     ]
    },
    {
     "name": "stdout",
     "output_type": "stream",
     "text": [
      "\n",
      "Algorithm stopped due to increasing L-values. VALID embedding achieved ✓.\n",
      "[0, 9, 13][1, 2, 1]\n",
      "Initializing PECUZAL algorithm for multivariate input...\n",
      "Starting 1-th embedding cycle..."
     ]
    },
    {
     "name": "stdout",
     "output_type": "stream",
     "text": [
      "\n",
      "Starting 2-th embedding cycle...\n"
     ]
    },
    {
     "name": "stdout",
     "output_type": "stream",
     "text": [
      "Starting 3-th embedding cycle...\n"
     ]
    },
    {
     "name": "stdout",
     "output_type": "stream",
     "text": [
      "Algorithm stopped due to increasing L-values. VALID embedding achieved ✓.\n",
      "[0, 0, 12][2, 1, 1]\n",
      "Initializing PECUZAL algorithm for multivariate input...\n",
      "Starting 1-th embedding cycle...\n"
     ]
    },
    {
     "name": "stdout",
     "output_type": "stream",
     "text": [
      "Starting 2-th embedding cycle..."
     ]
    },
    {
     "name": "stdout",
     "output_type": "stream",
     "text": [
      "\n",
      "Starting 3-th embedding cycle...\n"
     ]
    },
    {
     "name": "stdout",
     "output_type": "stream",
     "text": [
      "Algorithm stopped due to increasing L-values. VALID embedding achieved ✓.\n",
      "[0, 11, 12][1, 2, 1]\n",
      "Initializing PECUZAL algorithm for multivariate input...\n",
      "Starting 1-th embedding cycle...\n"
     ]
    },
    {
     "name": "stdout",
     "output_type": "stream",
     "text": [
      "Starting 2-th embedding cycle...\n"
     ]
    },
    {
     "name": "stdout",
     "output_type": "stream",
     "text": [
      "Starting 3-th embedding cycle...\n"
     ]
    },
    {
     "name": "stdout",
     "output_type": "stream",
     "text": [
      "Starting 4-th embedding cycle...\n"
     ]
    },
    {
     "name": "stdout",
     "output_type": "stream",
     "text": [
      "Algorithm stopped due to increasing L-values. VALID embedding achieved ✓.\n",
      "[0, 11, 11, 13][1, 2, 1, 2]\n",
      "Initializing PECUZAL algorithm for multivariate input...\n",
      "Starting 1-th embedding cycle...\n"
     ]
    },
    {
     "name": "stdout",
     "output_type": "stream",
     "text": [
      "Starting 2-th embedding cycle..."
     ]
    },
    {
     "name": "stdout",
     "output_type": "stream",
     "text": [
      "\n",
      "Starting 3-th embedding cycle...\n"
     ]
    },
    {
     "name": "stdout",
     "output_type": "stream",
     "text": [
      "Algorithm stopped due to increasing L-values. VALID embedding achieved ✓.\n",
      "[0, 10, 13][1, 2, 1]\n",
      "Initializing PECUZAL algorithm for multivariate input...\n",
      "Starting 1-th embedding cycle..."
     ]
    },
    {
     "name": "stdout",
     "output_type": "stream",
     "text": [
      "\n",
      "Starting 2-th embedding cycle...\n"
     ]
    },
    {
     "name": "stdout",
     "output_type": "stream",
     "text": [
      "Starting 3-th embedding cycle...\n"
     ]
    },
    {
     "name": "stdout",
     "output_type": "stream",
     "text": [
      "Starting 4-th embedding cycle..."
     ]
    },
    {
     "name": "stdout",
     "output_type": "stream",
     "text": [
      "\n",
      "Algorithm stopped due to increasing L-values. VALID embedding achieved ✓.\n",
      "[0, 11, 12, 9][1, 2, 1, 2]\n",
      "Initializing PECUZAL algorithm for multivariate input...\n",
      "Starting 1-th embedding cycle..."
     ]
    },
    {
     "name": "stdout",
     "output_type": "stream",
     "text": [
      "\n",
      "Starting 2-th embedding cycle...\n"
     ]
    },
    {
     "name": "stdout",
     "output_type": "stream",
     "text": [
      "Starting 3-th embedding cycle...\n"
     ]
    },
    {
     "name": "stdout",
     "output_type": "stream",
     "text": [
      "Algorithm stopped due to increasing L-values. VALID embedding achieved ✓.\n",
      "[0, 11, 15][1, 2, 1]\n",
      "Initializing PECUZAL algorithm for multivariate input...\n",
      "Starting 1-th embedding cycle...\n"
     ]
    },
    {
     "name": "stdout",
     "output_type": "stream",
     "text": [
      "Starting 2-th embedding cycle...\n"
     ]
    },
    {
     "name": "stdout",
     "output_type": "stream",
     "text": [
      "Starting 3-th embedding cycle..."
     ]
    },
    {
     "name": "stdout",
     "output_type": "stream",
     "text": [
      "\n",
      "Algorithm stopped due to increasing L-values. VALID embedding achieved ✓.\n",
      "[0, 11, 14][1, 2, 1]\n",
      "Initializing PECUZAL algorithm for multivariate input...\n",
      "Starting 1-th embedding cycle..."
     ]
    },
    {
     "name": "stdout",
     "output_type": "stream",
     "text": [
      "\n",
      "Starting 2-th embedding cycle...\n"
     ]
    },
    {
     "name": "stdout",
     "output_type": "stream",
     "text": [
      "Starting 3-th embedding cycle...\n"
     ]
    },
    {
     "name": "stdout",
     "output_type": "stream",
     "text": [
      "Starting 4-th embedding cycle...\n"
     ]
    },
    {
     "name": "stdout",
     "output_type": "stream",
     "text": [
      "Algorithm stopped due to increasing L-values. VALID embedding achieved ✓.\n",
      "[0, 9, 14, 7][1, 2, 1, 2]\n",
      "Initializing PECUZAL algorithm for multivariate input...\n",
      "Starting 1-th embedding cycle...\n"
     ]
    },
    {
     "name": "stdout",
     "output_type": "stream",
     "text": [
      "Starting 2-th embedding cycle...\n"
     ]
    },
    {
     "name": "stdout",
     "output_type": "stream",
     "text": [
      "Starting 3-th embedding cycle...\n"
     ]
    },
    {
     "name": "stdout",
     "output_type": "stream",
     "text": [
      "Algorithm stopped due to increasing L-values. VALID embedding achieved ✓.\n",
      "[0, 9, 13][1, 2, 1]\n",
      "Initializing PECUZAL algorithm for multivariate input...\n",
      "Starting 1-th embedding cycle...\n"
     ]
    },
    {
     "name": "stdout",
     "output_type": "stream",
     "text": [
      "Starting 2-th embedding cycle...\n"
     ]
    },
    {
     "name": "stdout",
     "output_type": "stream",
     "text": [
      "Starting 3-th embedding cycle...\n"
     ]
    },
    {
     "name": "stdout",
     "output_type": "stream",
     "text": [
      "Algorithm stopped due to increasing L-values. VALID embedding achieved ✓.\n",
      "[0, 10, 12][1, 2, 1]\n",
      "Initializing PECUZAL algorithm for multivariate input...\n",
      "Starting 1-th embedding cycle..."
     ]
    },
    {
     "name": "stdout",
     "output_type": "stream",
     "text": [
      "\n",
      "Starting 2-th embedding cycle...\n"
     ]
    },
    {
     "name": "stdout",
     "output_type": "stream",
     "text": [
      "Starting 3-th embedding cycle...\n"
     ]
    },
    {
     "name": "stdout",
     "output_type": "stream",
     "text": [
      "Algorithm stopped due to increasing L-values. VALID embedding achieved ✓.\n",
      "[0, 0, 12][2, 1, 1]\n",
      "Initializing PECUZAL algorithm for multivariate input...\n",
      "Starting 1-th embedding cycle...\n"
     ]
    },
    {
     "name": "stdout",
     "output_type": "stream",
     "text": [
      "Starting 2-th embedding cycle...\n"
     ]
    },
    {
     "name": "stdout",
     "output_type": "stream",
     "text": [
      "Starting 3-th embedding cycle..."
     ]
    },
    {
     "name": "stdout",
     "output_type": "stream",
     "text": [
      "\n",
      "Algorithm stopped due to increasing L-values. VALID embedding achieved ✓.\n",
      "[0, 7, 14][1, 2, 1]\n",
      "Initializing PECUZAL algorithm for multivariate input...\n",
      "Starting 1-th embedding cycle..."
     ]
    },
    {
     "name": "stdout",
     "output_type": "stream",
     "text": [
      "\n",
      "Starting 2-th embedding cycle...\n"
     ]
    },
    {
     "name": "stdout",
     "output_type": "stream",
     "text": [
      "Starting 3-th embedding cycle...\n"
     ]
    },
    {
     "name": "stdout",
     "output_type": "stream",
     "text": [
      "Algorithm stopped due to increasing L-values. VALID embedding achieved ✓.\n",
      "[0, 9, 13][1, 2, 1]\n",
      "Initializing PECUZAL algorithm for multivariate input...\n",
      "Starting 1-th embedding cycle...\n"
     ]
    },
    {
     "name": "stdout",
     "output_type": "stream",
     "text": [
      "Starting 2-th embedding cycle...\n"
     ]
    },
    {
     "name": "stdout",
     "output_type": "stream",
     "text": [
      "Starting 3-th embedding cycle..."
     ]
    },
    {
     "name": "stdout",
     "output_type": "stream",
     "text": [
      "\n",
      "Algorithm stopped due to increasing L-values. VALID embedding achieved ✓.\n",
      "[0, 8, 13][1, 2, 1]\n",
      "Initializing PECUZAL algorithm for multivariate input...\n",
      "Starting 1-th embedding cycle...\n"
     ]
    },
    {
     "name": "stdout",
     "output_type": "stream",
     "text": [
      "Starting 2-th embedding cycle...\n"
     ]
    },
    {
     "name": "stdout",
     "output_type": "stream",
     "text": [
      "Starting 3-th embedding cycle..."
     ]
    },
    {
     "name": "stdout",
     "output_type": "stream",
     "text": [
      "\n",
      "Algorithm stopped due to increasing L-values. VALID embedding achieved ✓.\n",
      "[0, 9, 12][1, 2, 1]\n",
      "Initializing PECUZAL algorithm for multivariate input...\n",
      "Starting 1-th embedding cycle...\n"
     ]
    },
    {
     "name": "stdout",
     "output_type": "stream",
     "text": [
      "Starting 2-th embedding cycle...\n"
     ]
    },
    {
     "name": "stdout",
     "output_type": "stream",
     "text": [
      "Starting 3-th embedding cycle...\n"
     ]
    },
    {
     "name": "stdout",
     "output_type": "stream",
     "text": [
      "Algorithm stopped due to increasing L-values. VALID embedding achieved ✓.\n",
      "[0, 10, 12][1, 2, 1]\n",
      "Initializing PECUZAL algorithm for multivariate input...\n",
      "Starting 1-th embedding cycle...\n"
     ]
    },
    {
     "name": "stdout",
     "output_type": "stream",
     "text": [
      "Starting 2-th embedding cycle...\n"
     ]
    },
    {
     "name": "stdout",
     "output_type": "stream",
     "text": [
      "Starting 3-th embedding cycle..."
     ]
    },
    {
     "name": "stdout",
     "output_type": "stream",
     "text": [
      "\n",
      "Algorithm stopped due to increasing L-values. VALID embedding achieved ✓.\n",
      "[0, 10, 13][1, 2, 1]\n",
      "Initializing PECUZAL algorithm for multivariate input...\n",
      "Starting 1-th embedding cycle...\n"
     ]
    },
    {
     "name": "stdout",
     "output_type": "stream",
     "text": [
      "Starting 2-th embedding cycle...\n"
     ]
    },
    {
     "name": "stdout",
     "output_type": "stream",
     "text": [
      "Starting 3-th embedding cycle...\n"
     ]
    },
    {
     "name": "stdout",
     "output_type": "stream",
     "text": [
      "Algorithm stopped due to increasing L-values. VALID embedding achieved ✓.\n",
      "[0, 10, 12][1, 2, 1]\n",
      "Initializing PECUZAL algorithm for multivariate input...\n",
      "Starting 1-th embedding cycle...\n"
     ]
    },
    {
     "name": "stdout",
     "output_type": "stream",
     "text": [
      "Starting 2-th embedding cycle...\n"
     ]
    },
    {
     "name": "stdout",
     "output_type": "stream",
     "text": [
      "Starting 3-th embedding cycle..."
     ]
    },
    {
     "name": "stdout",
     "output_type": "stream",
     "text": [
      "\n",
      "Algorithm stopped due to increasing L-values. VALID embedding achieved ✓.\n",
      "[0, 9, 13][1, 2, 1]\n",
      "Initializing PECUZAL algorithm for multivariate input...\n",
      "Starting 1-th embedding cycle..."
     ]
    },
    {
     "name": "stdout",
     "output_type": "stream",
     "text": [
      "\n",
      "Starting 2-th embedding cycle...\n"
     ]
    },
    {
     "name": "stdout",
     "output_type": "stream",
     "text": [
      "Starting 3-th embedding cycle..."
     ]
    },
    {
     "name": "stdout",
     "output_type": "stream",
     "text": [
      "\n",
      "Algorithm stopped due to increasing L-values. VALID embedding achieved ✓.\n",
      "[0, 10, 13][1, 2, 1]\n",
      "Initializing PECUZAL algorithm for multivariate input...\n"
     ]
    },
    {
     "name": "stdout",
     "output_type": "stream",
     "text": [
      "Starting 1-th embedding cycle...\n",
      "Starting 2-th embedding cycle...\n"
     ]
    },
    {
     "name": "stdout",
     "output_type": "stream",
     "text": [
      "Starting 3-th embedding cycle...\n"
     ]
    },
    {
     "name": "stdout",
     "output_type": "stream",
     "text": [
      "Algorithm stopped due to increasing L-values. VALID embedding achieved ✓.\n",
      "[0, 9, 12][1, 2, 1]\n",
      "Initializing PECUZAL algorithm for multivariate input...\n"
     ]
    },
    {
     "name": "stdout",
     "output_type": "stream",
     "text": [
      "Starting 1-th embedding cycle...\n",
      "Starting 2-th embedding cycle...\n"
     ]
    },
    {
     "name": "stdout",
     "output_type": "stream",
     "text": [
      "Starting 3-th embedding cycle..."
     ]
    },
    {
     "name": "stdout",
     "output_type": "stream",
     "text": [
      "\n",
      "Algorithm stopped due to increasing L-values. VALID embedding achieved ✓.\n",
      "[0, 7, 14][1, 2, 1]\n",
      "Initializing PECUZAL algorithm for multivariate input...\n",
      "Starting 1-th embedding cycle...\n"
     ]
    },
    {
     "name": "stdout",
     "output_type": "stream",
     "text": [
      "Starting 2-th embedding cycle..."
     ]
    },
    {
     "name": "stdout",
     "output_type": "stream",
     "text": [
      "\n",
      "Starting 3-th embedding cycle...\n"
     ]
    },
    {
     "name": "stdout",
     "output_type": "stream",
     "text": [
      "Algorithm stopped due to increasing L-values. VALID embedding achieved ✓.\n",
      "[0, 10, 13][1, 2, 1]\n",
      "Initializing PECUZAL algorithm for multivariate input...\n",
      "Starting 1-th embedding cycle...\n"
     ]
    },
    {
     "name": "stdout",
     "output_type": "stream",
     "text": [
      "Starting 2-th embedding cycle...\n"
     ]
    },
    {
     "name": "stdout",
     "output_type": "stream",
     "text": [
      "Starting 3-th embedding cycle..."
     ]
    },
    {
     "name": "stdout",
     "output_type": "stream",
     "text": [
      "\n",
      "Algorithm stopped due to increasing L-values. VALID embedding achieved ✓.\n",
      "[0, 10, 13][1, 2, 1]\n",
      "Initializing PECUZAL algorithm for multivariate input...\n",
      "Starting 1-th embedding cycle...\n"
     ]
    },
    {
     "name": "stdout",
     "output_type": "stream",
     "text": [
      "Starting 2-th embedding cycle...\n"
     ]
    },
    {
     "name": "stdout",
     "output_type": "stream",
     "text": [
      "Starting 3-th embedding cycle...\n"
     ]
    },
    {
     "name": "stdout",
     "output_type": "stream",
     "text": [
      "Algorithm stopped due to increasing L-values. VALID embedding achieved ✓.\n",
      "[0, 9, 12][1, 2, 1]\n"
     ]
    }
   ],
   "source": [
    "for i = 19:100\n",
    "    # fid = h5open(\"E:/LearningEmbedding/data_collection/Rossler/rossler_no\"*string(i)*\".h5\", \"r\")\n",
    "    fid = h5open(\"E:/LearningEmbedding/data_collection/Rossler/noisy_rossler_no\"*string(i)*\".h5\", \"r\")\n",
    "    Y = Array(fid[\"xM\"])\n",
    "\n",
    "    inds = [1,2] # input timeseries = x-component and y-component of Lorenz\n",
    "    theiler1 = estimate_delay(Y[:,inds[1]], \"mi_min\") # estimate a Theiler window\n",
    "    theiler2 = estimate_delay(Y[:,inds[2]], \"mi_min\")\n",
    "    theiler = maximum(hcat(theiler1, theiler2))\n",
    "    Tmax = 50 # maximum possible delay\n",
    "    # println(Y[:,inds])\n",
    "    Recon_pec, τ_vals, ts_vals, Ls, εs = pecuzal_embedding(Dataset(Y[:,inds]); τs = 0:Tmax , w = theiler, L_threshold=0, econ = true)\n",
    "    println(τ_vals, ts_vals)\n",
    "    # ff = h5open(\"e:/LearningEmbedding/results/PECUZAL/Rossler-multi/rossler_multi_no\"*string(i)*\".h5\", \"w\")\n",
    "    ff = h5open(\"e:/LearningEmbedding/results/PECUZAL/Rossler-multi/noisy_rossler_multi_no\"*string(i)*\".h5\", \"w\")\n",
    "    ff[\"Embedding\"] = Matrix(Recon_pec)\n",
    "    ff[\"delays\"] = τ_vals\n",
    "    ff[\"variables\"] = ts_vals\n",
    "    close(ff)\n",
    "    close(fid)\n",
    "end"
   ]
  },
  {
   "cell_type": "code",
   "execution_count": 3,
   "metadata": {},
   "outputs": [
    {
     "name": "stdout",
     "output_type": "stream",
     "text": [
      "Algorithm stopped due to sufficiently small FNNs. Valid embedding achieved ✓.\n",
      "[0, 10, 14, 29, 31][1, 2, 1, 2, 1]\n"
     ]
    },
    {
     "name": "stdout",
     "output_type": "stream",
     "text": [
      "Algorithm stopped due to sufficiently small FNNs. Valid embedding achieved ✓.\n",
      "[0, 9, 31, 34, 34][1, 2, 1, 2, 1]\n"
     ]
    },
    {
     "name": "stdout",
     "output_type": "stream",
     "text": [
      "Algorithm stopped due to sufficiently small FNNs. Valid embedding achieved ✓.\n",
      "[0, 0, 30, 32, 29][2, 1, 2, 1, 2]\n"
     ]
    },
    {
     "name": "stdout",
     "output_type": "stream",
     "text": [
      "Algorithm stopped due to sufficiently small FNNs. Valid embedding achieved ✓.\n",
      "[0, 7, 27, 30, 17][1, 2, 1, 2, 1]\n"
     ]
    },
    {
     "name": "stdout",
     "output_type": "stream",
     "text": [
      "Algorithm stopped due to sufficiently small FNNs. Valid embedding achieved ✓.\n",
      "[0, 8, 21, 27, 11][1, 2, 1, 2, 1]\n"
     ]
    },
    {
     "name": "stdout",
     "output_type": "stream",
     "text": [
      "Algorithm stopped due to sufficiently small FNNs. Valid embedding achieved ✓.\n",
      "[0, 6, 13, 27, 32][1, 2, 1, 2, 1]\n"
     ]
    },
    {
     "name": "stdout",
     "output_type": "stream",
     "text": [
      "Algorithm stopped due to sufficiently small FNNs. Valid embedding achieved ✓.\n",
      "[0, 9, 17, 31, 31][1, 2, 1, 2, 1]\n"
     ]
    },
    {
     "name": "stdout",
     "output_type": "stream",
     "text": [
      "Algorithm stopped due to sufficiently small FNNs. Valid embedding achieved ✓.\n",
      "[0, 9, 13, 28, 27][1, 2, 1, 2, 1]\n"
     ]
    },
    {
     "name": "stdout",
     "output_type": "stream",
     "text": [
      "Algorithm stopped due to sufficiently small FNNs. Valid embedding achieved ✓.\n",
      "[0, 12, 15, 29, 31][1, 2, 1, 2, 1]\n"
     ]
    },
    {
     "name": "stdout",
     "output_type": "stream",
     "text": [
      "Algorithm stopped due to sufficiently small FNNs. Valid embedding achieved ✓.\n",
      "[0, 8, 20, 30, 29][1, 2, 1, 2, 1]\n"
     ]
    },
    {
     "name": "stdout",
     "output_type": "stream",
     "text": [
      "Algorithm stopped due to sufficiently small FNNs. Valid embedding achieved ✓.\n",
      "[0, 12, 18, 32, 30][1, 2, 1, 2, 1]\n"
     ]
    },
    {
     "name": "stdout",
     "output_type": "stream",
     "text": [
      "Algorithm stopped due to sufficiently small FNNs. Valid embedding achieved ✓.\n",
      "[0, 11, 26, 34, 34][1, 2, 1, 2, 1]\n"
     ]
    },
    {
     "name": "stdout",
     "output_type": "stream",
     "text": [
      "Algorithm stopped due to sufficiently small FNNs. Valid embedding achieved ✓.\n",
      "[0, 12, 18, 30, 30][1, 2, 1, 2, 1]\n"
     ]
    },
    {
     "name": "stdout",
     "output_type": "stream",
     "text": [
      "Algorithm stopped due to sufficiently small FNNs. Valid embedding achieved ✓.\n",
      "[0, 13, 23, 27, 15][1, 2, 1, 2, 1]"
     ]
    },
    {
     "name": "stdout",
     "output_type": "stream",
     "text": [
      "\n",
      "Algorithm stopped due to sufficiently small FNNs. Valid embedding achieved ✓.\n",
      "[0, 8, 16, 30, 32][1, 2, 1, 2, 1]\n"
     ]
    },
    {
     "name": "stdout",
     "output_type": "stream",
     "text": [
      "Algorithm stopped due to sufficiently small FNNs. Valid embedding achieved ✓.\n",
      "[0, 10, 20, 29, 29][1, 2, 1, 2, 1]\n"
     ]
    },
    {
     "name": "stdout",
     "output_type": "stream",
     "text": [
      "Algorithm stopped due to sufficiently small FNNs. Valid embedding achieved ✓.\n",
      "[0, 11, 13, 33, 33][1, 2, 1, 2, 1]\n"
     ]
    },
    {
     "name": "stdout",
     "output_type": "stream",
     "text": [
      "Algorithm stopped due to sufficiently small FNNs. Valid embedding achieved ✓.\n",
      "[0, 9, 15, 33, 33][1, 2, 1, 2, 1]\n"
     ]
    },
    {
     "name": "stdout",
     "output_type": "stream",
     "text": [
      "Algorithm stopped due to sufficiently small FNNs. Valid embedding achieved ✓.\n",
      "[0, 0, 35, 29, 34][2, 1, 2, 1, 2]\n"
     ]
    },
    {
     "name": "stdout",
     "output_type": "stream",
     "text": [
      "Algorithm stopped due to sufficiently small FNNs. Valid embedding achieved ✓.\n",
      "[0, 6, 15, 33, 34][1, 2, 1, 2, 1]\n"
     ]
    },
    {
     "name": "stdout",
     "output_type": "stream",
     "text": [
      "Algorithm stopped due to sufficiently small FNNs. Valid embedding achieved ✓.\n",
      "[0, 11, 26, 30, 32][1, 2, 1, 2, 2]\n"
     ]
    },
    {
     "name": "stdout",
     "output_type": "stream",
     "text": [
      "Algorithm stopped due to sufficiently small FNNs. Valid embedding achieved ✓.\n",
      "[0, 12, 27, 33, 32][1, 2, 1, 2, 1]\n"
     ]
    },
    {
     "name": "stdout",
     "output_type": "stream",
     "text": [
      "Algorithm stopped due to sufficiently small FNNs. Valid embedding achieved ✓.\n",
      "[0, 0, 32, 33, 33][2, 1, 2, 1, 2]\n"
     ]
    },
    {
     "name": "stdout",
     "output_type": "stream",
     "text": [
      "Algorithm stopped due to sufficiently small FNNs. Valid embedding achieved ✓.\n",
      "[0, 8, 14, 32, 34][1, 2, 1, 2, 1]\n"
     ]
    },
    {
     "name": "stdout",
     "output_type": "stream",
     "text": [
      "Algorithm stopped due to sufficiently small FNNs. Valid embedding achieved ✓.\n",
      "[0, 6, 20, 29, 27][1, 2, 1, 2, 1]\n"
     ]
    },
    {
     "name": "stdout",
     "output_type": "stream",
     "text": [
      "Algorithm stopped due to sufficiently small FNNs. Valid embedding achieved ✓.\n",
      "[0, 15, 23, 31, 29][1, 2, 1, 2, 1]\n"
     ]
    },
    {
     "name": "stdout",
     "output_type": "stream",
     "text": [
      "Algorithm stopped due to sufficiently small FNNs. Valid embedding achieved ✓.\n",
      "[0, 12, 20, 34, 35][1, 2, 1, 2, 1]\n"
     ]
    },
    {
     "name": "stdout",
     "output_type": "stream",
     "text": [
      "Algorithm stopped due to sufficiently small FNNs. Valid embedding achieved ✓.\n",
      "[0, 9, 14, 32, 32][1, 2, 1, 2, 1]\n"
     ]
    },
    {
     "name": "stdout",
     "output_type": "stream",
     "text": [
      "Algorithm stopped due to sufficiently small FNNs. Valid embedding achieved ✓.\n",
      "[0, 7, 14, 28, 28][1, 2, 1, 2, 1]"
     ]
    },
    {
     "name": "stdout",
     "output_type": "stream",
     "text": [
      "\n",
      "Algorithm stopped due to sufficiently small FNNs. Valid embedding achieved ✓.\n",
      "[0, 9, 19, 31, 31][1, 2, 1, 2, 1]\n"
     ]
    },
    {
     "name": "stdout",
     "output_type": "stream",
     "text": [
      "Algorithm stopped due to sufficiently small FNNs. Valid embedding achieved ✓.\n",
      "[0, 0, 32, 28, 31][2, 1, 2, 1, 2]\n"
     ]
    },
    {
     "name": "stdout",
     "output_type": "stream",
     "text": [
      "Algorithm stopped due to sufficiently small FNNs. Valid embedding achieved ✓.\n",
      "[0, 8, 16, 30, 33][1, 2, 1, 2, 1]\n"
     ]
    },
    {
     "name": "stdout",
     "output_type": "stream",
     "text": [
      "Algorithm stopped due to sufficiently small FNNs. Valid embedding achieved ✓.\n",
      "[0, 9, 14, 25, 31][1, 2, 1, 2, 1]\n"
     ]
    },
    {
     "name": "stdout",
     "output_type": "stream",
     "text": [
      "Algorithm stopped due to sufficiently small FNNs. Valid embedding achieved ✓.\n",
      "[0, 7, 17, 29, 29][1, 2, 1, 2, 1]\n"
     ]
    },
    {
     "name": "stdout",
     "output_type": "stream",
     "text": [
      "Algorithm stopped due to sufficiently small FNNs. Valid embedding achieved ✓.\n",
      "[0, 5, 15, 29, 31][1, 2, 1, 2, 1]\n"
     ]
    },
    {
     "name": "stdout",
     "output_type": "stream",
     "text": [
      "Algorithm stopped due to sufficiently small FNNs. Valid embedding achieved ✓.\n",
      "[0, 0, 32, 32, 33][2, 1, 2, 1, 2]\n"
     ]
    },
    {
     "name": "stdout",
     "output_type": "stream",
     "text": [
      "Algorithm stopped due to sufficiently small FNNs. Valid embedding achieved ✓.\n",
      "[0, 6, 17, 29, 29][1, 2, 1, 2, 1]\n"
     ]
    },
    {
     "name": "stdout",
     "output_type": "stream",
     "text": [
      "Algorithm stopped due to sufficiently small FNNs. Valid embedding achieved ✓.\n",
      "[0, 11, 19, 31, 30][1, 2, 1, 2, 1]\n"
     ]
    },
    {
     "name": "stdout",
     "output_type": "stream",
     "text": [
      "Algorithm stopped due to sufficiently small FNNs. Valid embedding achieved ✓.\n",
      "[0, 10, 17, 28, 31][1, 2, 1, 2, 1]\n"
     ]
    },
    {
     "name": "stdout",
     "output_type": "stream",
     "text": [
      "Algorithm stopped due to sufficiently small FNNs. Valid embedding achieved ✓.\n",
      "[0, 0, 32, 28, 33][2, 1, 2, 1, 2]"
     ]
    },
    {
     "name": "stdout",
     "output_type": "stream",
     "text": [
      "\n",
      "Algorithm stopped due to sufficiently small FNNs. Valid embedding achieved ✓.\n",
      "[0, 9, 15, 30, 28][1, 2, 1, 2, 1]\n"
     ]
    },
    {
     "name": "stdout",
     "output_type": "stream",
     "text": [
      "Algorithm stopped due to sufficiently small FNNs. Valid embedding achieved ✓.\n",
      "[0, 7, 33, 29, 30][1, 2, 2, 1, 2]\n"
     ]
    },
    {
     "name": "stdout",
     "output_type": "stream",
     "text": [
      "Algorithm stopped due to sufficiently small FNNs. Valid embedding achieved ✓.\n",
      "[0, 0, 34, 35, 17][2, 1, 2, 1, 1]"
     ]
    },
    {
     "name": "stdout",
     "output_type": "stream",
     "text": [
      "\n",
      "Algorithm stopped due to sufficiently small FNNs. Valid embedding achieved ✓.\n",
      "[0, 0, 33, 25, 28][2, 1, 2, 1, 2]\n"
     ]
    },
    {
     "name": "stdout",
     "output_type": "stream",
     "text": [
      "Algorithm stopped due to sufficiently small FNNs. Valid embedding achieved ✓.\n",
      "[0, 8, 16, 27, 30][1, 2, 1, 2, 1]\n"
     ]
    },
    {
     "name": "stdout",
     "output_type": "stream",
     "text": [
      "Algorithm stopped due to sufficiently small FNNs. Valid embedding achieved ✓.\n",
      "[0, 6, 13, 31, 30][1, 2, 1, 2, 1]\n"
     ]
    },
    {
     "name": "stdout",
     "output_type": "stream",
     "text": [
      "Algorithm stopped due to sufficiently small FNNs. Valid embedding achieved ✓.\n",
      "[0, 8, 21, 31, 34][1, 2, 1, 2, 1]"
     ]
    },
    {
     "name": "stdout",
     "output_type": "stream",
     "text": [
      "\n",
      "Algorithm stopped due to sufficiently small FNNs. Valid embedding achieved ✓.\n",
      "[0, 7, 24, 26, 31][1, 2, 1, 2, 1]\n"
     ]
    },
    {
     "name": "stdout",
     "output_type": "stream",
     "text": [
      "Algorithm stopped due to sufficiently small FNNs. Valid embedding achieved ✓.\n",
      "[0, 8, 17, 32, 34][1, 2, 1, 2, 1]"
     ]
    },
    {
     "name": "stdout",
     "output_type": "stream",
     "text": [
      "\n",
      "Algorithm stopped due to sufficiently small FNNs. Valid embedding achieved ✓.\n",
      "[0, 11, 16, 27, 32][1, 2, 1, 2, 1]\n"
     ]
    },
    {
     "name": "stdout",
     "output_type": "stream",
     "text": [
      "Algorithm stopped due to sufficiently small FNNs. Valid embedding achieved ✓.\n",
      "[0, 11, 19, 31, 29][1, 2, 1, 2, 1]\n"
     ]
    },
    {
     "name": "stdout",
     "output_type": "stream",
     "text": [
      "Algorithm stopped due to sufficiently small FNNs. Valid embedding achieved ✓.\n",
      "[0, 9, 16, 33, 34][1, 2, 1, 2, 1]\n"
     ]
    },
    {
     "name": "stdout",
     "output_type": "stream",
     "text": [
      "Algorithm stopped due to sufficiently small FNNs. Valid embedding achieved ✓.\n",
      "[0, 9, 15, 30, 34][1, 2, 1, 2, 1]\n"
     ]
    },
    {
     "name": "stdout",
     "output_type": "stream",
     "text": [
      "Algorithm stopped due to sufficiently small FNNs. Valid embedding achieved ✓.\n",
      "[0, 7, 15, 33, 35][1, 2, 1, 2, 1]"
     ]
    },
    {
     "name": "stdout",
     "output_type": "stream",
     "text": [
      "\n",
      "Algorithm stopped due to sufficiently small FNNs. Valid embedding achieved ✓.\n",
      "[0, 7, 28, 33, 34][1, 2, 1, 2, 1]\n"
     ]
    },
    {
     "name": "stdout",
     "output_type": "stream",
     "text": [
      "Algorithm stopped due to sufficiently small FNNs. Valid embedding achieved ✓.\n",
      "[0, 7, 16, 25, 31][1, 2, 1, 2, 1]"
     ]
    },
    {
     "name": "stdout",
     "output_type": "stream",
     "text": [
      "\n",
      "Algorithm stopped due to sufficiently small FNNs. Valid embedding achieved ✓.\n",
      "[0, 9, 13, 33, 33][1, 2, 1, 2, 1]"
     ]
    },
    {
     "name": "stdout",
     "output_type": "stream",
     "text": [
      "\n",
      "Algorithm stopped due to sufficiently small FNNs. Valid embedding achieved ✓.\n",
      "[0, 0, 32, 33, 31][2, 1, 2, 1, 2]"
     ]
    },
    {
     "name": "stdout",
     "output_type": "stream",
     "text": [
      "\n",
      "Algorithm stopped due to sufficiently small FNNs. Valid embedding achieved ✓.\n",
      "[0, 7, 21, 31, 32][1, 2, 1, 2, 1]\n"
     ]
    },
    {
     "name": "stdout",
     "output_type": "stream",
     "text": [
      "Algorithm stopped due to sufficiently small FNNs. Valid embedding achieved ✓.\n",
      "[0, 7, 16, 35, 29][1, 2, 1, 2, 1]"
     ]
    },
    {
     "name": "stdout",
     "output_type": "stream",
     "text": [
      "\n",
      "Algorithm stopped due to sufficiently small FNNs. Valid embedding achieved ✓.\n",
      "[0, 0, 35, 31, 33][2, 1, 2, 1, 2]\n"
     ]
    },
    {
     "name": "stdout",
     "output_type": "stream",
     "text": [
      "Algorithm stopped due to sufficiently small FNNs. Valid embedding achieved ✓.\n",
      "[0, 0, 34, 32, 31][2, 1, 2, 1, 2]"
     ]
    },
    {
     "name": "stdout",
     "output_type": "stream",
     "text": [
      "\n",
      "Algorithm stopped due to sufficiently small FNNs. Valid embedding achieved ✓.\n",
      "[0, 10, 16, 32, 31][1, 2, 1, 2, 1]\n"
     ]
    },
    {
     "name": "stdout",
     "output_type": "stream",
     "text": [
      "Algorithm stopped due to sufficiently small FNNs. Valid embedding achieved ✓.\n",
      "[0, 7, 19, 32, 33][1, 2, 1, 2, 1]\n"
     ]
    },
    {
     "name": "stdout",
     "output_type": "stream",
     "text": [
      "Algorithm stopped due to sufficiently small FNNs. Valid embedding achieved ✓.\n",
      "[0, 11, 14, 19, 28][1, 2, 1, 2, 1]\n"
     ]
    },
    {
     "name": "stdout",
     "output_type": "stream",
     "text": [
      "Algorithm stopped due to sufficiently small FNNs. Valid embedding achieved ✓.\n",
      "[0, 8, 12, 30, 30][1, 2, 1, 2, 1]\n"
     ]
    },
    {
     "name": "stdout",
     "output_type": "stream",
     "text": [
      "Algorithm stopped due to sufficiently small FNNs. Valid embedding achieved ✓.\n",
      "[0, 6, 35, 33, 36][1, 2, 2, 1, 2]\n"
     ]
    },
    {
     "name": "stdout",
     "output_type": "stream",
     "text": [
      "Algorithm stopped due to sufficiently small FNNs. Valid embedding achieved ✓.\n",
      "[0, 9, 14, 31, 33][1, 2, 1, 2, 1]\n"
     ]
    },
    {
     "name": "stdout",
     "output_type": "stream",
     "text": [
      "Algorithm stopped due to sufficiently small FNNs. Valid embedding achieved ✓.\n",
      "[0, 7, 20, 30, 31][1, 2, 1, 2, 1]\n"
     ]
    },
    {
     "name": "stdout",
     "output_type": "stream",
     "text": [
      "Algorithm stopped due to sufficiently small FNNs. Valid embedding achieved ✓.\n",
      "[0, 9, 16, 33, 31][1, 2, 1, 2, 1]\n"
     ]
    },
    {
     "name": "stdout",
     "output_type": "stream",
     "text": [
      "Algorithm stopped due to sufficiently small FNNs. Valid embedding achieved ✓.\n",
      "[0, 8, 22, 30, 32][1, 2, 1, 2, 1]\n"
     ]
    },
    {
     "name": "stdout",
     "output_type": "stream",
     "text": [
      "Algorithm stopped due to sufficiently small FNNs. Valid embedding achieved ✓.\n",
      "[0, 1, 31, 29, 26][2, 1, 2, 1, 2]\n"
     ]
    },
    {
     "name": "stdout",
     "output_type": "stream",
     "text": [
      "Algorithm stopped due to sufficiently small FNNs. Valid embedding achieved ✓.\n",
      "[0, 9, 14, 30, 31][1, 2, 1, 2, 1]\n"
     ]
    },
    {
     "name": "stdout",
     "output_type": "stream",
     "text": [
      "Algorithm stopped due to sufficiently small FNNs. Valid embedding achieved ✓.\n",
      "[0, 5, 35, 30, 18][1, 2, 2, 1, 1]"
     ]
    },
    {
     "name": "stdout",
     "output_type": "stream",
     "text": [
      "\n",
      "Algorithm stopped due to sufficiently small FNNs. Valid embedding achieved ✓.\n",
      "[0, 10, 28, 27, 14][1, 2, 1, 2, 1]\n"
     ]
    },
    {
     "name": "stdout",
     "output_type": "stream",
     "text": [
      "Algorithm stopped due to sufficiently small FNNs. Valid embedding achieved ✓.\n",
      "[0, 9, 18, 30, 32][1, 2, 1, 2, 1]\n"
     ]
    },
    {
     "name": "stdout",
     "output_type": "stream",
     "text": [
      "Algorithm stopped due to sufficiently small FNNs. Valid embedding achieved ✓.\n",
      "[0, 11, 27, 31, 31][1, 2, 1, 2, 1]\n"
     ]
    },
    {
     "name": "stdout",
     "output_type": "stream",
     "text": [
      "Algorithm stopped due to sufficiently small FNNs. Valid embedding achieved ✓.\n",
      "[0, 8, 12, 27, 30][1, 2, 1, 2, 1]\n"
     ]
    },
    {
     "name": "stdout",
     "output_type": "stream",
     "text": [
      "Algorithm stopped due to sufficiently small FNNs. Valid embedding achieved ✓.\n",
      "[0, 0, 32, 27, 29][2, 1, 2, 1, 2]\n"
     ]
    },
    {
     "name": "stdout",
     "output_type": "stream",
     "text": [
      "Algorithm stopped due to sufficiently small FNNs. Valid embedding achieved ✓.\n",
      "[0, 8, 13, 31, 32][1, 2, 1, 2, 1]\n"
     ]
    },
    {
     "name": "stdout",
     "output_type": "stream",
     "text": [
      "Algorithm stopped due to sufficiently small FNNs. Valid embedding achieved ✓.\n",
      "[0, 10, 18, 30, 29][1, 2, 1, 2, 1]\n"
     ]
    },
    {
     "name": "stdout",
     "output_type": "stream",
     "text": [
      "Algorithm stopped due to sufficiently small FNNs. Valid embedding achieved ✓.\n",
      "[0, 8, 18, 33, 31][1, 2, 1, 2, 1]\n"
     ]
    },
    {
     "name": "stdout",
     "output_type": "stream",
     "text": [
      "Algorithm stopped due to sufficiently small FNNs. Valid embedding achieved ✓.\n",
      "[0, 7, 21, 22, 30][1, 2, 1, 2, 1]\n"
     ]
    },
    {
     "name": "stdout",
     "output_type": "stream",
     "text": [
      "Algorithm stopped due to sufficiently small FNNs. Valid embedding achieved ✓.\n",
      "[0, 0, 36, 36, 34][2, 1, 2, 1, 2]\n"
     ]
    },
    {
     "name": "stdout",
     "output_type": "stream",
     "text": [
      "Algorithm stopped due to sufficiently small FNNs. Valid embedding achieved ✓.\n",
      "[0, 11, 18, 36, 35][1, 2, 1, 2, 1]\n"
     ]
    },
    {
     "name": "stdout",
     "output_type": "stream",
     "text": [
      "Algorithm stopped due to sufficiently small FNNs. Valid embedding achieved ✓.\n",
      "[0, 8, 18, 33, 33][1, 2, 1, 2, 1]\n"
     ]
    },
    {
     "name": "stdout",
     "output_type": "stream",
     "text": [
      "Algorithm stopped due to sufficiently small FNNs. Valid embedding achieved ✓.\n",
      "[0, 0, 34, 31, 32][2, 1, 2, 1, 2]"
     ]
    },
    {
     "name": "stdout",
     "output_type": "stream",
     "text": [
      "\n",
      "Algorithm stopped due to sufficiently small FNNs. Valid embedding achieved ✓.\n",
      "[0, 8, 16, 33, 33][1, 2, 1, 2, 1]\n"
     ]
    },
    {
     "name": "stdout",
     "output_type": "stream",
     "text": [
      "Algorithm stopped due to sufficiently small FNNs. Valid embedding achieved ✓.\n",
      "[0, 0, 30, 32, 34][2, 1, 2, 1, 2]\n"
     ]
    },
    {
     "name": "stdout",
     "output_type": "stream",
     "text": [
      "Algorithm stopped due to sufficiently small FNNs. Valid embedding achieved ✓.\n",
      "[0, 11, 30, 37, 36][1, 2, 1, 2, 1]\n"
     ]
    },
    {
     "name": "stdout",
     "output_type": "stream",
     "text": [
      "Algorithm stopped due to sufficiently small FNNs. Valid embedding achieved ✓.\n",
      "[0, 0, 33, 32, 21][2, 1, 2, 1, 1]\n"
     ]
    },
    {
     "name": "stdout",
     "output_type": "stream",
     "text": [
      "Algorithm stopped due to sufficiently small FNNs. Valid embedding achieved ✓.\n",
      "[0, 10, 15, 27, 29][1, 2, 1, 2, 1]\n"
     ]
    },
    {
     "name": "stdout",
     "output_type": "stream",
     "text": [
      "Algorithm stopped due to sufficiently small FNNs. Valid embedding achieved ✓.\n",
      "[0, 9, 25, 35, 34][1, 2, 1, 2, 1]\n"
     ]
    },
    {
     "name": "stdout",
     "output_type": "stream",
     "text": [
      "Algorithm stopped due to sufficiently small FNNs. Valid embedding achieved ✓.\n",
      "[0, 0, 30, 28, 31][2, 1, 2, 1, 2]\n"
     ]
    },
    {
     "name": "stdout",
     "output_type": "stream",
     "text": [
      "Algorithm stopped due to sufficiently small FNNs. Valid embedding achieved ✓.\n",
      "[0, 0, 30, 34, 31][2, 1, 2, 1, 2]\n"
     ]
    },
    {
     "name": "stdout",
     "output_type": "stream",
     "text": [
      "Algorithm stopped due to sufficiently small FNNs. Valid embedding achieved ✓.\n",
      "[0, 0, 34, 32, 33][2, 1, 2, 1, 2]"
     ]
    },
    {
     "name": "stdout",
     "output_type": "stream",
     "text": [
      "\n",
      "Algorithm stopped due to sufficiently small FNNs. Valid embedding achieved ✓.\n",
      "[0, 8, 14, 33, 33][1, 2, 1, 2, 1]\n"
     ]
    },
    {
     "name": "stdout",
     "output_type": "stream",
     "text": [
      "Algorithm stopped due to sufficiently small FNNs. Valid embedding achieved ✓.\n",
      "[0, 0, 31, 29, 30][2, 1, 2, 1, 2]\n"
     ]
    },
    {
     "name": "stdout",
     "output_type": "stream",
     "text": [
      "Algorithm stopped due to sufficiently small FNNs. Valid embedding achieved ✓.\n",
      "[0, 0, 33, 31, 13][2, 1, 2, 1, 1]\n"
     ]
    },
    {
     "name": "stdout",
     "output_type": "stream",
     "text": [
      "Algorithm stopped due to sufficiently small FNNs. Valid embedding achieved ✓.\n",
      "[0, 8, 11, 23, 33][1, 2, 1, 2, 1]\n"
     ]
    }
   ],
   "source": [
    "for i = 1:100\n",
    "    # fid = h5open(\"E:/LearningEmbedding/data_collection/Rossler/rossler_no\"*string(i)*\".h5\", \"r\")\n",
    "    fid = h5open(\"E:/LearningEmbedding/data_collection/Rossler/noisy_rossler_no\"*string(i)*\".h5\", \"r\")\n",
    "    Y = Array(fid[\"xM\"])\n",
    "\n",
    "    inds = [1,2] # input timeseries = y-component and z-component of Lorenz\n",
    "    theiler1 = estimate_delay(Y[:,inds[1]], \"mi_min\") # estimate a Theiler window\n",
    "    theiler2 = estimate_delay(Y[:,inds[2]], \"mi_min\")\n",
    "    w = maximum(hcat(theiler1, theiler2))\n",
    "    tw1 = mdop_maximum_delay(Y[:,inds[1]]) #\n",
    "    tw2 = mdop_maximum_delay(Y[:,inds[2]]) #\n",
    "    lm1 = findlocalminima(tw1[2])\n",
    "    lm2 = findlocalminima(tw2[2])\n",
    "    # println(lm)\n",
    "    if lm1[1] ≤ 2\n",
    "        lmm1 = try lm1[2]\n",
    "        catch\n",
    "            lm1[1]\n",
    "        end\n",
    "    else\n",
    "        lmm1 = lm1[1]\n",
    "    end\n",
    "    if lm2[1] ≤ 2\n",
    "        lmm2 = try lm2[2]\n",
    "        catch\n",
    "            lm2[1]\n",
    "        end\n",
    "    else\n",
    "        lmm2 = lm2[1]\n",
    "    end\n",
    "    lmm = maximum(hcat(lmm1, lmm2))\n",
    "    taus_mdop = 0:lmm\n",
    "    # taus_mdop = 1:50\n",
    "    # println(lm)\n",
    "    close(fid)\n",
    "\n",
    "    Recon_mdop, τ_vals_mdop, ts_vals_mdop, FNNs_mdop , βs_mdop = mdop_embedding(Dataset(Y[:,inds]); τs = taus_mdop , w = w)\n",
    "    println(τ_vals_mdop, ts_vals_mdop)\n",
    "    # ff = h5open(\"e:/LearningEmbedding/results/MDOP/Rossler-multi/rossler_multi_no\"*string(i)*\".h5\", \"cw\")\n",
    "    ff = h5open(\"e:/LearningEmbedding/results/MDOP/Rossler-multi/noisy_rossler_multi_no\"*string(i)*\".h5\", \"cw\")\n",
    "    ff[\"Embedding\"] = Matrix(Recon_mdop)\n",
    "    ff[\"delays\"] = τ_vals_mdop\n",
    "    ff[\"variables\"] = ts_vals_mdop\n",
    "    close(ff)\n",
    "    close(fid)\n",
    "end"
   ]
  },
  {
   "cell_type": "code",
   "execution_count": 3,
   "metadata": {},
   "outputs": [
    {
     "name": "stdout",
     "output_type": "stream",
     "text": [
      "Algorithm stopped due to sufficiently small FNNs. Valid embedding achieved ✓.\n",
      "[0, 2, 1, 1, 4][1, 1, 2, 1, 1]\n"
     ]
    },
    {
     "name": "stdout",
     "output_type": "stream",
     "text": [
      "Algorithm stopped due to rising FNNs. Valid embedding achieved ✓.\n",
      "[0, 2, 3, 2, 1][1, 2, 1, 1, 1]\n"
     ]
    },
    {
     "name": "stdout",
     "output_type": "stream",
     "text": [
      "Algorithm stopped due to sufficiently small FNNs. Valid embedding achieved ✓.\n",
      "[0, 1, 2, 1, 5][1, 1, 2, 2, 2]\n"
     ]
    },
    {
     "name": "stdout",
     "output_type": "stream",
     "text": [
      "Algorithm stopped due to rising FNNs. Valid embedding achieved ✓.\n",
      "[0, 1, 3, 2, 1][1, 2, 1, 1, 1]\n"
     ]
    },
    {
     "name": "stdout",
     "output_type": "stream",
     "text": [
      "Algorithm stopped due to sufficiently small FNNs. Valid embedding achieved ✓.\n",
      "[0, 1, 4, 3, 1][1, 2, 1, 2, 1]\n"
     ]
    },
    {
     "name": "stdout",
     "output_type": "stream",
     "text": [
      "Algorithm stopped due to rising FNNs. Valid embedding achieved ✓.\n",
      "[0, 2, 3, 1][1, 2, 1, 1]\n"
     ]
    },
    {
     "name": "stdout",
     "output_type": "stream",
     "text": [
      "Algorithm stopped due to sufficiently small FNNs. Valid embedding achieved ✓.\n",
      "[0, 1, 3, 4, 2][1, 1, 2, 2, 2]\n"
     ]
    },
    {
     "name": "stdout",
     "output_type": "stream",
     "text": [
      "Algorithm stopped due to rising FNNs. Valid embedding achieved ✓.\n",
      "[0, 2, 1, 1][1, 1, 2, 1]\n"
     ]
    },
    {
     "name": "stdout",
     "output_type": "stream",
     "text": [
      "Algorithm stopped due to sufficiently small FNNs. Valid embedding achieved ✓.\n",
      "[0, 1, 2, 6, 4][1, 1, 2, 2, 1]\n"
     ]
    },
    {
     "name": "stdout",
     "output_type": "stream",
     "text": [
      "Algorithm stopped due to rising FNNs. Valid embedding achieved ✓.\n",
      "[0, 2, 3][1, 2, 1]\n"
     ]
    },
    {
     "name": "stdout",
     "output_type": "stream",
     "text": [
      "Algorithm stopped due to rising FNNs. Valid embedding achieved ✓.\n",
      "[0, 3, 2, 2, 1][1, 1, 2, 1, 1]\n"
     ]
    },
    {
     "name": "stdout",
     "output_type": "stream",
     "text": [
      "Algorithm stopped due to rising FNNs. Valid embedding achieved ✓.\n",
      "[0, 3, 2, 1][1, 1, 2, 1]\n"
     ]
    },
    {
     "name": "stdout",
     "output_type": "stream",
     "text": [
      "Algorithm stopped due to sufficiently small FNNs. Valid embedding achieved ✓.\n",
      "[0, 1, 3, 2, 6][1, 1, 2, 2, 2]"
     ]
    },
    {
     "name": "stdout",
     "output_type": "stream",
     "text": [
      "\n",
      "Algorithm stopped due to rising FNNs. Valid embedding achieved ✓.\n",
      "[0, 1, 3, 1, 2][1, 2, 1, 1, 1]\n"
     ]
    },
    {
     "name": "stdout",
     "output_type": "stream",
     "text": [
      "Algorithm stopped due to sufficiently small FNNs. Valid embedding achieved ✓.\n",
      "[0, 1, 1, 2, 5][1, 1, 2, 2, 2]\n"
     ]
    },
    {
     "name": "stdout",
     "output_type": "stream",
     "text": [
      "Algorithm stopped due to rising FNNs. Valid embedding achieved ✓.\n",
      "[0, 2, 1, 1][1, 1, 2, 1]\n"
     ]
    },
    {
     "name": "stdout",
     "output_type": "stream",
     "text": [
      "Algorithm stopped due to sufficiently small FNNs. Valid embedding achieved ✓.\n",
      "[0, 1, 1, 2, 6][1, 1, 2, 2, 2]\n"
     ]
    },
    {
     "name": "stdout",
     "output_type": "stream",
     "text": [
      "Algorithm stopped due to sufficiently small FNNs. Valid embedding achieved ✓.\n",
      "[0, 2, 1, 3, 1][1, 2, 1, 2, 2]"
     ]
    },
    {
     "name": "stdout",
     "output_type": "stream",
     "text": [
      "\n",
      "Algorithm stopped due to rising FNNs. Valid embedding achieved ✓.\n",
      "[0, 3, 2, 1][1, 1, 2, 1]\n"
     ]
    },
    {
     "name": "stdout",
     "output_type": "stream",
     "text": [
      "Algorithm stopped due to sufficiently small FNNs. Valid embedding achieved ✓.\n",
      "[0, 1, 3, 2, 7][1, 1, 2, 2, 2]\n"
     ]
    },
    {
     "name": "stdout",
     "output_type": "stream",
     "text": [
      "Algorithm stopped due to rising FNNs. Valid embedding achieved ✓.\n",
      "[0, 1, 3][1, 2, 1]\n"
     ]
    },
    {
     "name": "stdout",
     "output_type": "stream",
     "text": [
      "Algorithm stopped due to rising FNNs. Valid embedding achieved ✓.\n",
      "[0, 1, 2, 1, 3][1, 1, 2, 2, 2]\n"
     ]
    },
    {
     "name": "stdout",
     "output_type": "stream",
     "text": [
      "Algorithm stopped due to rising FNNs. Valid embedding achieved ✓.\n",
      "[0, 3, 1, 1, 2][1, 1, 2, 1, 1]\n"
     ]
    },
    {
     "name": "stdout",
     "output_type": "stream",
     "text": [
      "Algorithm stopped due to sufficiently small FNNs. Valid embedding achieved ✓.\n",
      "[0, 2, 4, 1, 1][1, 2, 1, 1, 2]"
     ]
    },
    {
     "name": "stdout",
     "output_type": "stream",
     "text": [
      "\n",
      "Algorithm stopped due to sufficiently small FNNs. Valid embedding achieved ✓.\n",
      "[0, 2, 1, 1, 3, 2][1, 1, 2, 1, 1, 2]\n"
     ]
    }
   ],
   "source": [
    "for i = 76:100\n",
    "    # fid = h5open(\"E:/LearningEmbedding/data_collection/Rossler/rossler_no\"*string(i)*\".h5\", \"r\")\n",
    "    fid = h5open(\"E:/LearningEmbedding/data_collection/Rossler/noisy_rossler_no\"*string(i)*\".h5\", \"r\")\n",
    "    Y = Array(fid[\"xM\"])\n",
    "\n",
    "    inds = [1,2] # input timeseries = x-component and y-component of Lorenz\n",
    "    theiler1 = estimate_delay(Y[:,inds[1]], \"mi_min\") # estimate a Theiler window\n",
    "    theiler2 = estimate_delay(Y[:,inds[2]], \"mi_min\")\n",
    "    w = maximum(hcat(theiler1, theiler2))\n",
    "    Tmax = 50 # maximum possible delay\n",
    "\n",
    "\n",
    "    Recon_GA, τ_vals_GA, ts_vals_GA, FNNs_GA , ns_GA = garcia_almeida_embedding(Dataset(Y[:,inds]); τs = 0:Tmax , w = w, T = w)\n",
    "    println(τ_vals_GA, ts_vals_GA)\n",
    "    # ff = h5open(\"e:/LearningEmbedding/results/GA/Rossler-multi/rossler_multi_no\"*string(i)*\".h5\", \"cw\")\n",
    "    ff = h5open(\"e:/LearningEmbedding/results/GA/Rossler-multi/noisy_rossler_multi_no\"*string(i)*\".h5\", \"cw\")\n",
    "    ff[\"Embedding\"] = Matrix(Recon_GA)\n",
    "    ff[\"delays\"] = τ_vals_GA\n",
    "    ff[\"variables\"] = ts_vals_GA\n",
    "    close(ff)\n",
    "    close(fid)\n",
    "end\n"
   ]
  },
  {
   "cell_type": "markdown",
   "metadata": {},
   "source": [
    "### Lorenz96 system"
   ]
  },
  {
   "cell_type": "code",
   "execution_count": 3,
   "metadata": {},
   "outputs": [
    {
     "name": "stdout",
     "output_type": "stream",
     "text": [
      "Initializing PECUZAL algorithm for multivariate input...\n",
      "Starting 1-th embedding cycle...\n"
     ]
    },
    {
     "name": "stdout",
     "output_type": "stream",
     "text": [
      "Starting 2-th embedding cycle..."
     ]
    },
    {
     "name": "stdout",
     "output_type": "stream",
     "text": [
      "\n",
      "Starting 3-th embedding cycle..."
     ]
    },
    {
     "name": "stdout",
     "output_type": "stream",
     "text": [
      "\n",
      "Starting 4-th embedding cycle...\n"
     ]
    },
    {
     "name": "stdout",
     "output_type": "stream",
     "text": [
      "Starting 5-th embedding cycle...\n"
     ]
    },
    {
     "name": "stdout",
     "output_type": "stream",
     "text": [
      "Starting 6-th embedding cycle...\n"
     ]
    },
    {
     "name": "stdout",
     "output_type": "stream",
     "text": [
      "Starting 7-th embedding cycle...\n"
     ]
    },
    {
     "name": "stdout",
     "output_type": "stream",
     "text": [
      "Starting 8-th embedding cycle..."
     ]
    },
    {
     "name": "stdout",
     "output_type": "stream",
     "text": [
      "\n",
      "Algorithm stopped due to increasing L-values. VALID embedding achieved ✓.\n",
      "[0, 6, 3, 13, 10, 8, 18, 4][-0.014700215547223755, -0.03394396718194295, -0.051415849083706146, -0.04555322696247993, -0.0310866595199423, -0.03643437851640813, -0.004237539306649579]\n",
      "Initializing PECUZAL algorithm for multivariate input...\n",
      "Starting 1-th embedding cycle...\n"
     ]
    },
    {
     "name": "stdout",
     "output_type": "stream",
     "text": [
      "Starting 2-th embedding cycle...\n"
     ]
    },
    {
     "name": "stdout",
     "output_type": "stream",
     "text": [
      "Starting 3-th embedding cycle...\n"
     ]
    },
    {
     "name": "stdout",
     "output_type": "stream",
     "text": [
      "Starting 4-th embedding cycle...\n"
     ]
    },
    {
     "name": "stdout",
     "output_type": "stream",
     "text": [
      "Starting 5-th embedding cycle...\n"
     ]
    },
    {
     "name": "stdout",
     "output_type": "stream",
     "text": [
      "Starting 6-th embedding cycle...\n"
     ]
    },
    {
     "name": "stdout",
     "output_type": "stream",
     "text": [
      "Starting 7-th embedding cycle...\n"
     ]
    },
    {
     "name": "stdout",
     "output_type": "stream",
     "text": [
      "Starting 8-th embedding cycle..."
     ]
    },
    {
     "name": "stdout",
     "output_type": "stream",
     "text": [
      "\n",
      "Starting 9-th embedding cycle...\n"
     ]
    },
    {
     "name": "stdout",
     "output_type": "stream",
     "text": [
      "Starting 10-th embedding cycle...\n"
     ]
    },
    {
     "name": "stdout",
     "output_type": "stream",
     "text": [
      "Starting 11-th embedding cycle...\n"
     ]
    },
    {
     "name": "stdout",
     "output_type": "stream",
     "text": [
      "Starting 12-th embedding cycle...\n"
     ]
    },
    {
     "name": "stdout",
     "output_type": "stream",
     "text": [
      "Starting 13-th embedding cycle...\n"
     ]
    },
    {
     "name": "stdout",
     "output_type": "stream",
     "text": [
      "Starting 14-th embedding cycle...\n"
     ]
    },
    {
     "name": "stdout",
     "output_type": "stream",
     "text": [
      "Starting 15-th embedding cycle...\n"
     ]
    },
    {
     "name": "stdout",
     "output_type": "stream",
     "text": [
      "Algorithm stopped due to increasing L-values. VALID embedding achieved ✓.\n",
      "[0, 6, 3, 13, 10, 8, 18, 4, 16, 12, 42, 30, 26, 22, 20][-0.03606558309879199, -0.03378119226375406, -0.057836636930576765, -0.04190970479169748, -0.033218649417154744, -0.030263732527420525, -0.0031156159566267105, -0.0006648227215155234, -0.0012565004489903386, -0.004238767382309563, -0.01162238029089302, -0.010842133951004126, -0.0057868867812322, -0.0006508706681210112]"
     ]
    },
    {
     "name": "stdout",
     "output_type": "stream",
     "text": [
      "\n",
      "Initializing PECUZAL algorithm for multivariate input...\n",
      "Starting 1-th embedding cycle...\n"
     ]
    },
    {
     "name": "stdout",
     "output_type": "stream",
     "text": [
      "Starting 2-th embedding cycle...\n"
     ]
    },
    {
     "name": "stdout",
     "output_type": "stream",
     "text": [
      "Starting 3-th embedding cycle...\n"
     ]
    },
    {
     "name": "stdout",
     "output_type": "stream",
     "text": [
      "Starting 4-th embedding cycle...\n"
     ]
    },
    {
     "name": "stdout",
     "output_type": "stream",
     "text": [
      "Starting 5-th embedding cycle...\n"
     ]
    },
    {
     "name": "stdout",
     "output_type": "stream",
     "text": [
      "Starting 6-th embedding cycle...\n"
     ]
    },
    {
     "name": "stdout",
     "output_type": "stream",
     "text": [
      "Starting 7-th embedding cycle..."
     ]
    },
    {
     "name": "stdout",
     "output_type": "stream",
     "text": [
      "\n",
      "Starting 8-th embedding cycle...\n"
     ]
    },
    {
     "name": "stdout",
     "output_type": "stream",
     "text": [
      "Algorithm stopped due to increasing L-values. VALID embedding achieved ✓.\n",
      "[0, 6, 3, 13, 10, 8, 18, 4][-0.03814978164275748, -0.037587772919824486, -0.057062313795331665, -0.05394672621205396, -0.03133132321734175, -0.029340840418793382, -0.0029124571305288727]\n",
      "Initializing PECUZAL algorithm for multivariate input...\n",
      "Starting 1-th embedding cycle..."
     ]
    },
    {
     "name": "stdout",
     "output_type": "stream",
     "text": [
      "\n",
      "Starting 2-th embedding cycle...\n"
     ]
    },
    {
     "name": "stdout",
     "output_type": "stream",
     "text": [
      "Starting 3-th embedding cycle...\n"
     ]
    },
    {
     "name": "stdout",
     "output_type": "stream",
     "text": [
      "Starting 4-th embedding cycle...\n"
     ]
    },
    {
     "name": "stdout",
     "output_type": "stream",
     "text": [
      "Starting 5-th embedding cycle...\n"
     ]
    },
    {
     "name": "stdout",
     "output_type": "stream",
     "text": [
      "Starting 6-th embedding cycle...\n"
     ]
    },
    {
     "name": "stdout",
     "output_type": "stream",
     "text": [
      "Starting 7-th embedding cycle...\n"
     ]
    },
    {
     "name": "stdout",
     "output_type": "stream",
     "text": [
      "Starting 8-th embedding cycle...\n"
     ]
    },
    {
     "name": "stdout",
     "output_type": "stream",
     "text": [
      "Algorithm stopped due to increasing L-values. VALID embedding achieved ✓.\n",
      "[0, 6, 3, 13, 10, 8, 19, 4][-0.04561910355745094, -0.03246823830002865, -0.04806703502074709, -0.0438583209106545, -0.034260375168425616, -0.022755293361526013, -0.005119344130654346]\n",
      "Initializing PECUZAL algorithm for multivariate input...\n",
      "Starting 1-th embedding cycle...\n"
     ]
    },
    {
     "name": "stdout",
     "output_type": "stream",
     "text": [
      "Starting 2-th embedding cycle...\n"
     ]
    },
    {
     "name": "stdout",
     "output_type": "stream",
     "text": [
      "Starting 3-th embedding cycle...\n"
     ]
    },
    {
     "name": "stdout",
     "output_type": "stream",
     "text": [
      "Starting 4-th embedding cycle...\n"
     ]
    },
    {
     "name": "stdout",
     "output_type": "stream",
     "text": [
      "Starting 5-th embedding cycle...\n"
     ]
    },
    {
     "name": "stdout",
     "output_type": "stream",
     "text": [
      "Starting 6-th embedding cycle..."
     ]
    },
    {
     "name": "stdout",
     "output_type": "stream",
     "text": [
      "\n",
      "Starting 7-th embedding cycle..."
     ]
    },
    {
     "name": "stdout",
     "output_type": "stream",
     "text": [
      "\n",
      "Starting 8-th embedding cycle...\n"
     ]
    },
    {
     "name": "stdout",
     "output_type": "stream",
     "text": [
      "Algorithm stopped due to increasing L-values. VALID embedding achieved ✓.\n",
      "[0, 6, 3, 12, 9, 17, 15, 13][-0.020069422479367105, -0.05036762044874932, -0.06465246662623712, -0.014426695440586085, -0.03535642691060034, -0.005541187153495636, -0.001171157295723202]\n",
      "Initializing PECUZAL algorithm for multivariate input...\n",
      "Starting 1-th embedding cycle...\n"
     ]
    },
    {
     "name": "stdout",
     "output_type": "stream",
     "text": [
      "Starting 2-th embedding cycle...\n"
     ]
    },
    {
     "name": "stdout",
     "output_type": "stream",
     "text": [
      "Starting 3-th embedding cycle..."
     ]
    },
    {
     "name": "stdout",
     "output_type": "stream",
     "text": [
      "\n",
      "Starting 4-th embedding cycle..."
     ]
    },
    {
     "name": "stdout",
     "output_type": "stream",
     "text": [
      "\n",
      "Starting 5-th embedding cycle...\n"
     ]
    },
    {
     "name": "stdout",
     "output_type": "stream",
     "text": [
      "Starting 6-th embedding cycle...\n"
     ]
    },
    {
     "name": "stdout",
     "output_type": "stream",
     "text": [
      "Starting 7-th embedding cycle...\n"
     ]
    },
    {
     "name": "stdout",
     "output_type": "stream",
     "text": [
      "Starting 8-th embedding cycle...\n"
     ]
    },
    {
     "name": "stdout",
     "output_type": "stream",
     "text": [
      "Algorithm stopped due to increasing L-values. VALID embedding achieved ✓.\n",
      "[0, 6, 3, 13, 10, 8, 18, 4][-0.044930155632817215, -0.037101317162833936, -0.05469034439699895, -0.05183461951095139, -0.031191762404860712, -0.030587273964852488, -0.002795564611774465]\n",
      "Initializing PECUZAL algorithm for multivariate input...\n",
      "Starting 1-th embedding cycle..."
     ]
    },
    {
     "name": "stdout",
     "output_type": "stream",
     "text": [
      "\n",
      "Starting 2-th embedding cycle...\n"
     ]
    },
    {
     "name": "stdout",
     "output_type": "stream",
     "text": [
      "Starting 3-th embedding cycle..."
     ]
    },
    {
     "name": "stdout",
     "output_type": "stream",
     "text": [
      "\n",
      "Starting 4-th embedding cycle..."
     ]
    },
    {
     "name": "stdout",
     "output_type": "stream",
     "text": [
      "\n",
      "Starting 5-th embedding cycle...\n"
     ]
    },
    {
     "name": "stdout",
     "output_type": "stream",
     "text": [
      "Starting 6-th embedding cycle..."
     ]
    },
    {
     "name": "stdout",
     "output_type": "stream",
     "text": [
      "\n",
      "Starting 7-th embedding cycle...\n"
     ]
    },
    {
     "name": "stdout",
     "output_type": "stream",
     "text": [
      "Starting 8-th embedding cycle..."
     ]
    },
    {
     "name": "stdout",
     "output_type": "stream",
     "text": [
      "\n",
      "Starting 9-th embedding cycle...\n"
     ]
    },
    {
     "name": "stdout",
     "output_type": "stream",
     "text": [
      "Starting 10-th embedding cycle...\n"
     ]
    },
    {
     "name": "stdout",
     "output_type": "stream",
     "text": [
      "Starting 11-th embedding cycle...\n"
     ]
    },
    {
     "name": "stdout",
     "output_type": "stream",
     "text": [
      "Starting 12-th embedding cycle...\n"
     ]
    },
    {
     "name": "stdout",
     "output_type": "stream",
     "text": [
      "Starting 13-th embedding cycle...\n"
     ]
    },
    {
     "name": "stdout",
     "output_type": "stream",
     "text": [
      "Starting 14-th embedding cycle..."
     ]
    },
    {
     "name": "stdout",
     "output_type": "stream",
     "text": [
      "\n",
      "Starting 15-th embedding cycle...\n"
     ]
    },
    {
     "name": "stdout",
     "output_type": "stream",
     "text": [
      "Algorithm stopped due to increasing L-values. VALID embedding achieved ✓.\n",
      "[0, 6, 3, 13, 10, 8, 19, 4, 36, 28, 32, 24, 30, 16, 26][-0.06552786518310104, -0.025275274136213277, -0.0526103055934081, -0.051427374363871306, -0.030908529853352573, -0.02182081207906507, -0.0042771872551682355, -0.0002733763234150366, -0.003520074614788836, -0.011663934653152186, -0.008130021366119077, -0.00225418644917582, -0.0015634278119540726, -0.00015774785749876966]\n",
      "Initializing PECUZAL algorithm for multivariate input...\n",
      "Starting 1-th embedding cycle..."
     ]
    },
    {
     "name": "stdout",
     "output_type": "stream",
     "text": [
      "\n",
      "Starting 2-th embedding cycle..."
     ]
    },
    {
     "name": "stdout",
     "output_type": "stream",
     "text": [
      "\n",
      "Starting 3-th embedding cycle..."
     ]
    },
    {
     "name": "stdout",
     "output_type": "stream",
     "text": [
      "\n",
      "Starting 4-th embedding cycle...\n"
     ]
    },
    {
     "name": "stdout",
     "output_type": "stream",
     "text": [
      "Starting 5-th embedding cycle...\n"
     ]
    },
    {
     "name": "stdout",
     "output_type": "stream",
     "text": [
      "Starting 6-th embedding cycle...\n"
     ]
    },
    {
     "name": "stdout",
     "output_type": "stream",
     "text": [
      "Starting 7-th embedding cycle...\n"
     ]
    },
    {
     "name": "stdout",
     "output_type": "stream",
     "text": [
      "Starting 8-th embedding cycle...\n"
     ]
    },
    {
     "name": "stdout",
     "output_type": "stream",
     "text": [
      "Algorithm stopped due to increasing L-values. VALID embedding achieved ✓.\n",
      "[0, 6, 3, 12, 17, 14, 9, 10][-0.04154178309603054, -0.024796503056177366, -0.05561820164498122, -0.023024760179211567, -0.015979878695044664, -0.008055152455695283, -0.003719236427682432]\n",
      "Initializing PECUZAL algorithm for multivariate input...\n",
      "Starting 1-th embedding cycle...\n"
     ]
    },
    {
     "name": "stdout",
     "output_type": "stream",
     "text": [
      "Starting 2-th embedding cycle...\n"
     ]
    },
    {
     "name": "stdout",
     "output_type": "stream",
     "text": [
      "Starting 3-th embedding cycle...\n"
     ]
    },
    {
     "name": "stdout",
     "output_type": "stream",
     "text": [
      "Starting 4-th embedding cycle...\n"
     ]
    },
    {
     "name": "stdout",
     "output_type": "stream",
     "text": [
      "Starting 5-th embedding cycle...\n"
     ]
    },
    {
     "name": "stdout",
     "output_type": "stream",
     "text": [
      "Starting 6-th embedding cycle...\n"
     ]
    },
    {
     "name": "stdout",
     "output_type": "stream",
     "text": [
      "Starting 7-th embedding cycle..."
     ]
    },
    {
     "name": "stdout",
     "output_type": "stream",
     "text": [
      "\n",
      "Starting 8-th embedding cycle..."
     ]
    },
    {
     "name": "stdout",
     "output_type": "stream",
     "text": [
      "\n",
      "Algorithm stopped due to increasing L-values. VALID embedding achieved ✓.\n",
      "[0, 6, 3, 12, 17, 14, 9, 10][-0.050555323145626996, -0.03640122334846618, -0.06642315800685275, -0.022678919758002125, -0.018130293787869123, -0.009569508441640562, -0.0026235655888943166]\n",
      "Initializing PECUZAL algorithm for multivariate input...\n",
      "Starting 1-th embedding cycle..."
     ]
    },
    {
     "name": "stdout",
     "output_type": "stream",
     "text": [
      "\n",
      "Starting 2-th embedding cycle...\n"
     ]
    },
    {
     "name": "stdout",
     "output_type": "stream",
     "text": [
      "Starting 3-th embedding cycle...\n"
     ]
    },
    {
     "name": "stdout",
     "output_type": "stream",
     "text": [
      "Starting 4-th embedding cycle...\n"
     ]
    },
    {
     "name": "stdout",
     "output_type": "stream",
     "text": [
      "Starting 5-th embedding cycle...\n"
     ]
    },
    {
     "name": "stdout",
     "output_type": "stream",
     "text": [
      "Starting 6-th embedding cycle...\n"
     ]
    },
    {
     "name": "stdout",
     "output_type": "stream",
     "text": [
      "Starting 7-th embedding cycle...\n"
     ]
    },
    {
     "name": "stdout",
     "output_type": "stream",
     "text": [
      "Starting 8-th embedding cycle..."
     ]
    },
    {
     "name": "stdout",
     "output_type": "stream",
     "text": [
      "\n",
      "Algorithm stopped due to increasing L-values. VALID embedding achieved ✓.\n",
      "[0, 6, 3, 13, 10, 8, 18, 4][-0.038327362743465626, -0.037012127651382565, -0.04441836272415618, -0.05109330414512814, -0.032744386671701126, -0.031150575634942973, -0.002714493487407932]\n",
      "Initializing PECUZAL algorithm for multivariate input...\n",
      "Starting 1-th embedding cycle...\n"
     ]
    },
    {
     "name": "stdout",
     "output_type": "stream",
     "text": [
      "Starting 2-th embedding cycle...\n"
     ]
    },
    {
     "name": "stdout",
     "output_type": "stream",
     "text": [
      "Starting 3-th embedding cycle...\n"
     ]
    },
    {
     "name": "stdout",
     "output_type": "stream",
     "text": [
      "Starting 4-th embedding cycle...\n"
     ]
    },
    {
     "name": "stdout",
     "output_type": "stream",
     "text": [
      "Starting 5-th embedding cycle...\n"
     ]
    },
    {
     "name": "stdout",
     "output_type": "stream",
     "text": [
      "Starting 6-th embedding cycle...\n"
     ]
    },
    {
     "name": "stdout",
     "output_type": "stream",
     "text": [
      "Starting 7-th embedding cycle...\n"
     ]
    },
    {
     "name": "stdout",
     "output_type": "stream",
     "text": [
      "Starting 8-th embedding cycle...\n",
      "Algorithm stopped due to increasing L-values. VALID embedding achieved ✓."
     ]
    },
    {
     "name": "stdout",
     "output_type": "stream",
     "text": [
      "\n",
      "[0, 6, 3, 13, 10, 8, 18, 4][-0.027527358328150286, -0.039080834234933776, -0.057842456148172704, -0.04633518981421761, -0.03034485169943446, -0.029987513757687975, -0.0025613047107519715]\n",
      "Initializing PECUZAL algorithm for multivariate input...\n",
      "Starting 1-th embedding cycle..."
     ]
    },
    {
     "name": "stdout",
     "output_type": "stream",
     "text": [
      "\n",
      "Starting 2-th embedding cycle...\n"
     ]
    },
    {
     "name": "stdout",
     "output_type": "stream",
     "text": [
      "Starting 3-th embedding cycle...\n"
     ]
    },
    {
     "name": "stdout",
     "output_type": "stream",
     "text": [
      "Starting 4-th embedding cycle...\n"
     ]
    },
    {
     "name": "stdout",
     "output_type": "stream",
     "text": [
      "Starting 5-th embedding cycle...\n"
     ]
    },
    {
     "name": "stdout",
     "output_type": "stream",
     "text": [
      "Starting 6-th embedding cycle...\n"
     ]
    },
    {
     "name": "stdout",
     "output_type": "stream",
     "text": [
      "Algorithm stopped due to increasing L-values. VALID embedding achieved ✓.\n",
      "[0, 6, 3, 12, 9, 18][-0.051476764495571606, -0.03343891691688475, -0.05886194067378891, -0.012458677375977611, -0.032590234131602544]\n"
     ]
    },
    {
     "name": "stdout",
     "output_type": "stream",
     "text": [
      "Initializing PECUZAL algorithm for multivariate input...\n",
      "Starting 1-th embedding cycle...\n"
     ]
    },
    {
     "name": "stdout",
     "output_type": "stream",
     "text": [
      "Starting 2-th embedding cycle...\n"
     ]
    },
    {
     "name": "stdout",
     "output_type": "stream",
     "text": [
      "Starting 3-th embedding cycle...\n"
     ]
    },
    {
     "name": "stdout",
     "output_type": "stream",
     "text": [
      "Starting 4-th embedding cycle...\n"
     ]
    },
    {
     "name": "stdout",
     "output_type": "stream",
     "text": [
      "Starting 5-th embedding cycle...\n"
     ]
    },
    {
     "name": "stdout",
     "output_type": "stream",
     "text": [
      "Starting 6-th embedding cycle...\n"
     ]
    },
    {
     "name": "stdout",
     "output_type": "stream",
     "text": [
      "Starting 7-th embedding cycle...\n"
     ]
    },
    {
     "name": "stdout",
     "output_type": "stream",
     "text": [
      "Starting 8-th embedding cycle..."
     ]
    },
    {
     "name": "stdout",
     "output_type": "stream",
     "text": [
      "\n",
      "Algorithm stopped due to increasing L-values. VALID embedding achieved ✓.\n",
      "[0, 6, 3, 13, 10, 8, 18, 4][-0.013959845414138528, -0.03884024309788689, -0.03946137242823496, -0.04134124524815455, -0.0331964818689105, -0.02891261558906158, -0.0034098984579677416]\n",
      "Initializing PECUZAL algorithm for multivariate input...\n",
      "Starting 1-th embedding cycle..."
     ]
    },
    {
     "name": "stdout",
     "output_type": "stream",
     "text": [
      "\n",
      "Starting 2-th embedding cycle...\n"
     ]
    },
    {
     "name": "stdout",
     "output_type": "stream",
     "text": [
      "Starting 3-th embedding cycle...\n"
     ]
    },
    {
     "name": "stdout",
     "output_type": "stream",
     "text": [
      "Starting 4-th embedding cycle...\n"
     ]
    },
    {
     "name": "stdout",
     "output_type": "stream",
     "text": [
      "Starting 5-th embedding cycle...\n"
     ]
    },
    {
     "name": "stdout",
     "output_type": "stream",
     "text": [
      "Starting 6-th embedding cycle...\n"
     ]
    },
    {
     "name": "stdout",
     "output_type": "stream",
     "text": [
      "Starting 7-th embedding cycle...\n"
     ]
    },
    {
     "name": "stdout",
     "output_type": "stream",
     "text": [
      "Starting 8-th embedding cycle..."
     ]
    },
    {
     "name": "stdout",
     "output_type": "stream",
     "text": [
      "\n",
      "Algorithm stopped due to increasing L-values. VALID embedding achieved ✓.\n",
      "[0, 6, 3, 13, 10, 8, 18, 4][-0.026880287723934665, -0.041829117650928116, -0.05925532283537457, -0.04456287751641691, -0.03097014193956321, -0.03327119042241508, -0.0032952986274333296]\n",
      "Initializing PECUZAL algorithm for multivariate input...\n",
      "Starting 1-th embedding cycle...\n"
     ]
    },
    {
     "name": "stdout",
     "output_type": "stream",
     "text": [
      "Starting 2-th embedding cycle...\n"
     ]
    },
    {
     "name": "stdout",
     "output_type": "stream",
     "text": [
      "Starting 3-th embedding cycle...\n"
     ]
    },
    {
     "name": "stdout",
     "output_type": "stream",
     "text": [
      "Starting 4-th embedding cycle..."
     ]
    },
    {
     "name": "stdout",
     "output_type": "stream",
     "text": [
      "\n",
      "Starting 5-th embedding cycle...\n"
     ]
    },
    {
     "name": "stdout",
     "output_type": "stream",
     "text": [
      "Starting 6-th embedding cycle...\n"
     ]
    },
    {
     "name": "stdout",
     "output_type": "stream",
     "text": [
      "Starting 7-th embedding cycle..."
     ]
    },
    {
     "name": "stdout",
     "output_type": "stream",
     "text": [
      "\n",
      "Starting 8-th embedding cycle...\n"
     ]
    },
    {
     "name": "stdout",
     "output_type": "stream",
     "text": [
      "Algorithm stopped due to increasing L-values. VALID embedding achieved ✓.\n",
      "[0, 6, 3, 13, 10, 8, 18, 4][-0.039152372290659515, -0.026911991626531184, -0.05256084408129001, -0.04364290532830031, -0.030028421318710224, -0.03010707196989411, -0.00399437021572141]\n",
      "Initializing PECUZAL algorithm for multivariate input...\n",
      "Starting 1-th embedding cycle...\n"
     ]
    },
    {
     "name": "stdout",
     "output_type": "stream",
     "text": [
      "Starting 2-th embedding cycle...\n"
     ]
    },
    {
     "name": "stdout",
     "output_type": "stream",
     "text": [
      "Starting 3-th embedding cycle..."
     ]
    },
    {
     "name": "stdout",
     "output_type": "stream",
     "text": [
      "\n",
      "Starting 4-th embedding cycle..."
     ]
    },
    {
     "name": "stdout",
     "output_type": "stream",
     "text": [
      "\n",
      "Starting 5-th embedding cycle...\n"
     ]
    },
    {
     "name": "stdout",
     "output_type": "stream",
     "text": [
      "Starting 6-th embedding cycle...\n"
     ]
    },
    {
     "name": "stdout",
     "output_type": "stream",
     "text": [
      "Starting 7-th embedding cycle...\n"
     ]
    },
    {
     "name": "stdout",
     "output_type": "stream",
     "text": [
      "Starting 8-th embedding cycle...\n"
     ]
    },
    {
     "name": "stdout",
     "output_type": "stream",
     "text": [
      "Starting 9-th embedding cycle...\n"
     ]
    },
    {
     "name": "stdout",
     "output_type": "stream",
     "text": [
      "Starting 10-th embedding cycle...\n"
     ]
    },
    {
     "name": "stdout",
     "output_type": "stream",
     "text": [
      "Algorithm stopped due to increasing L-values. VALID embedding achieved ✓.\n",
      "[0, 6, 3, 13, 10, 8, 18, 4, 16, 12][-0.021435825207111125, -0.04320808772867385, -0.05014401520304765, -0.052959224779971004, -0.0310178741266868, -0.03684510231155341, -0.002595361115848044, -0.0006219196005931571, -0.0017875200459477325]\n"
     ]
    },
    {
     "name": "stdout",
     "output_type": "stream",
     "text": [
      "Initializing PECUZAL algorithm for multivariate input...\n",
      "Starting 1-th embedding cycle...\n"
     ]
    },
    {
     "name": "stdout",
     "output_type": "stream",
     "text": [
      "Starting 2-th embedding cycle...\n"
     ]
    },
    {
     "name": "stdout",
     "output_type": "stream",
     "text": [
      "Starting 3-th embedding cycle..."
     ]
    },
    {
     "name": "stdout",
     "output_type": "stream",
     "text": [
      "\n",
      "Starting 4-th embedding cycle...\n"
     ]
    },
    {
     "name": "stdout",
     "output_type": "stream",
     "text": [
      "Starting 5-th embedding cycle...\n"
     ]
    },
    {
     "name": "stdout",
     "output_type": "stream",
     "text": [
      "Starting 6-th embedding cycle...\n"
     ]
    },
    {
     "name": "stdout",
     "output_type": "stream",
     "text": [
      "Starting 7-th embedding cycle...\n"
     ]
    },
    {
     "name": "stdout",
     "output_type": "stream",
     "text": [
      "Algorithm stopped due to increasing L-values. VALID embedding achieved ✓.\n",
      "[0, 6, 3, 12, 9, 17, 15][-0.052253507695902035, -0.04101806274200348, -0.06274280787624703, -0.017667051652812904, -0.034201822510468285, -0.010239911075856672]\n"
     ]
    },
    {
     "name": "stdout",
     "output_type": "stream",
     "text": [
      "Initializing PECUZAL algorithm for multivariate input...\n",
      "Starting 1-th embedding cycle..."
     ]
    },
    {
     "name": "stdout",
     "output_type": "stream",
     "text": [
      "\n",
      "Starting 2-th embedding cycle..."
     ]
    },
    {
     "name": "stdout",
     "output_type": "stream",
     "text": [
      "\n",
      "Starting 3-th embedding cycle...\n"
     ]
    },
    {
     "name": "stdout",
     "output_type": "stream",
     "text": [
      "Starting 4-th embedding cycle...\n"
     ]
    },
    {
     "name": "stdout",
     "output_type": "stream",
     "text": [
      "Starting 5-th embedding cycle..."
     ]
    },
    {
     "name": "stdout",
     "output_type": "stream",
     "text": [
      "\n",
      "Starting 6-th embedding cycle...\n"
     ]
    },
    {
     "name": "stdout",
     "output_type": "stream",
     "text": [
      "Starting 7-th embedding cycle..."
     ]
    },
    {
     "name": "stdout",
     "output_type": "stream",
     "text": [
      "\n",
      "Starting 8-th embedding cycle...\n"
     ]
    },
    {
     "name": "stdout",
     "output_type": "stream",
     "text": [
      "Starting 9-th embedding cycle..."
     ]
    },
    {
     "name": "stdout",
     "output_type": "stream",
     "text": [
      "\n",
      "Algorithm stopped due to increasing L-values. VALID embedding achieved ✓.\n",
      "[0, 6, 3, 13, 10, 8, 18, 4, 28][-0.04653220193421742, -0.03288906353502061, -0.044037548769726355, -0.04524054560342916, -0.03265950402263604, -0.028795405806482405, -0.0038464931865663243, -0.007166321264601726]"
     ]
    },
    {
     "name": "stdout",
     "output_type": "stream",
     "text": [
      "\n",
      "Initializing PECUZAL algorithm for multivariate input...\n",
      "Starting 1-th embedding cycle..."
     ]
    },
    {
     "name": "stdout",
     "output_type": "stream",
     "text": [
      "\n",
      "Starting 2-th embedding cycle..."
     ]
    },
    {
     "name": "stdout",
     "output_type": "stream",
     "text": [
      "\n",
      "Starting 3-th embedding cycle..."
     ]
    },
    {
     "name": "stdout",
     "output_type": "stream",
     "text": [
      "\n",
      "Starting 4-th embedding cycle...\n"
     ]
    },
    {
     "name": "stdout",
     "output_type": "stream",
     "text": [
      "Starting 5-th embedding cycle...\n"
     ]
    },
    {
     "name": "stdout",
     "output_type": "stream",
     "text": [
      "Starting 6-th embedding cycle...\n"
     ]
    },
    {
     "name": "stdout",
     "output_type": "stream",
     "text": [
      "Starting 7-th embedding cycle...\n"
     ]
    },
    {
     "name": "stdout",
     "output_type": "stream",
     "text": [
      "Algorithm stopped due to increasing L-values. VALID embedding achieved ✓.\n",
      "[0, 6, 3, 12, 9, 17, 15][-0.06293616733464333, -0.03582839300921792, -0.05520115341018634, -0.01764295533573701, -0.028938240548110783, -0.007114836006585801]\n",
      "Initializing PECUZAL algorithm for multivariate input...\n",
      "Starting 1-th embedding cycle..."
     ]
    },
    {
     "name": "stdout",
     "output_type": "stream",
     "text": [
      "\n",
      "Starting 2-th embedding cycle...\n"
     ]
    },
    {
     "name": "stdout",
     "output_type": "stream",
     "text": [
      "Starting 3-th embedding cycle...\n"
     ]
    },
    {
     "name": "stdout",
     "output_type": "stream",
     "text": [
      "Starting 4-th embedding cycle...\n"
     ]
    },
    {
     "name": "stdout",
     "output_type": "stream",
     "text": [
      "Starting 5-th embedding cycle...\n"
     ]
    },
    {
     "name": "stdout",
     "output_type": "stream",
     "text": [
      "Starting 6-th embedding cycle...\n"
     ]
    },
    {
     "name": "stdout",
     "output_type": "stream",
     "text": [
      "Starting 7-th embedding cycle..."
     ]
    },
    {
     "name": "stdout",
     "output_type": "stream",
     "text": [
      "\n",
      "Starting 8-th embedding cycle...\n"
     ]
    },
    {
     "name": "stdout",
     "output_type": "stream",
     "text": [
      "Starting 9-th embedding cycle...\n"
     ]
    },
    {
     "name": "stdout",
     "output_type": "stream",
     "text": [
      "Algorithm stopped due to increasing L-values. VALID embedding achieved ✓.\n",
      "[0, 6, 3, 13, 10, 8, 18, 4, 15][-0.0473984856320743, -0.03325017614409778, -0.05509593016273903, -0.05160995328597348, -0.027469807425227116, -0.035351243063010115, -0.003076007991934776, -0.0013448586696409026]\n",
      "Initializing PECUZAL algorithm for multivariate input...\n",
      "Starting 1-th embedding cycle..."
     ]
    },
    {
     "name": "stdout",
     "output_type": "stream",
     "text": [
      "\n",
      "Starting 2-th embedding cycle...\n"
     ]
    },
    {
     "name": "stdout",
     "output_type": "stream",
     "text": [
      "Starting 3-th embedding cycle...\n"
     ]
    },
    {
     "name": "stdout",
     "output_type": "stream",
     "text": [
      "Starting 4-th embedding cycle...\n"
     ]
    },
    {
     "name": "stdout",
     "output_type": "stream",
     "text": [
      "Starting 5-th embedding cycle...\n"
     ]
    },
    {
     "name": "stdout",
     "output_type": "stream",
     "text": [
      "Starting 6-th embedding cycle..."
     ]
    },
    {
     "name": "stdout",
     "output_type": "stream",
     "text": [
      "\n",
      "Starting 7-th embedding cycle..."
     ]
    },
    {
     "name": "stdout",
     "output_type": "stream",
     "text": [
      "\n",
      "Starting 8-th embedding cycle..."
     ]
    },
    {
     "name": "stdout",
     "output_type": "stream",
     "text": [
      "\n",
      "Starting 9-th embedding cycle..."
     ]
    },
    {
     "name": "stdout",
     "output_type": "stream",
     "text": [
      "\n",
      "Starting 10-th embedding cycle...\n"
     ]
    },
    {
     "name": "stdout",
     "output_type": "stream",
     "text": [
      "Algorithm stopped due to increasing L-values. VALID embedding achieved ✓.\n",
      "[0, 6, 3, 13, 10, 8, 18, 4, 16, 12][-0.0054624672715595235, -0.048449344116246046, -0.045094550290329556, -0.044284475706028475, -0.03186429011107417, -0.03335189092041786, -0.004671018702667812, -0.0007680782165945532, -0.002968223988567331]\n",
      "Initializing PECUZAL algorithm for multivariate input...\n",
      "Starting 1-th embedding cycle...\n"
     ]
    },
    {
     "name": "stdout",
     "output_type": "stream",
     "text": [
      "Starting 2-th embedding cycle...\n"
     ]
    },
    {
     "name": "stdout",
     "output_type": "stream",
     "text": [
      "Starting 3-th embedding cycle..."
     ]
    },
    {
     "name": "stdout",
     "output_type": "stream",
     "text": [
      "\n",
      "Starting 4-th embedding cycle..."
     ]
    },
    {
     "name": "stdout",
     "output_type": "stream",
     "text": [
      "\n",
      "Starting 5-th embedding cycle...\n"
     ]
    },
    {
     "name": "stdout",
     "output_type": "stream",
     "text": [
      "Starting 6-th embedding cycle..."
     ]
    },
    {
     "name": "stdout",
     "output_type": "stream",
     "text": [
      "\n",
      "Algorithm stopped due to increasing L-values. VALID embedding achieved ✓.\n",
      "[0, 6, 3, 12, 9, 18][-0.026042912184295552, -0.04087273772781533, -0.05271835376647507, -0.013689942617845952, -0.03356363290210805]\n",
      "Initializing PECUZAL algorithm for multivariate input...\n",
      "Starting 1-th embedding cycle..."
     ]
    },
    {
     "name": "stdout",
     "output_type": "stream",
     "text": [
      "\n",
      "Starting 2-th embedding cycle...\n"
     ]
    },
    {
     "name": "stdout",
     "output_type": "stream",
     "text": [
      "Starting 3-th embedding cycle...\n"
     ]
    },
    {
     "name": "stdout",
     "output_type": "stream",
     "text": [
      "Starting 4-th embedding cycle...\n"
     ]
    },
    {
     "name": "stdout",
     "output_type": "stream",
     "text": [
      "Starting 5-th embedding cycle...\n"
     ]
    },
    {
     "name": "stdout",
     "output_type": "stream",
     "text": [
      "Starting 6-th embedding cycle...\n"
     ]
    },
    {
     "name": "stdout",
     "output_type": "stream",
     "text": [
      "Starting 7-th embedding cycle...\n"
     ]
    },
    {
     "name": "stdout",
     "output_type": "stream",
     "text": [
      "Starting 8-th embedding cycle...\n"
     ]
    },
    {
     "name": "stdout",
     "output_type": "stream",
     "text": [
      "Starting 9-th embedding cycle...\n"
     ]
    },
    {
     "name": "stdout",
     "output_type": "stream",
     "text": [
      "Starting 10-th embedding cycle...\n"
     ]
    },
    {
     "name": "stdout",
     "output_type": "stream",
     "text": [
      "Starting 11-th embedding cycle..."
     ]
    },
    {
     "name": "stdout",
     "output_type": "stream",
     "text": [
      "\n",
      "Starting 12-th embedding cycle...\n"
     ]
    },
    {
     "name": "stdout",
     "output_type": "stream",
     "text": [
      "Starting 13-th embedding cycle...\n"
     ]
    },
    {
     "name": "stdout",
     "output_type": "stream",
     "text": [
      "Starting 14-th embedding cycle...\n"
     ]
    },
    {
     "name": "stdout",
     "output_type": "stream",
     "text": [
      "Algorithm stopped due to increasing L-values. VALID embedding achieved ✓.\n",
      "[0, 6, 3, 13, 10, 8, 18, 4, 16, 12, 43, 29, 25, 27][-0.09324148404371219, -0.043272046104096074, -0.04957957479171614, -0.04965813747549028, -0.02842705701435269, -0.033889650574931554, -0.002954119389910026, -0.00031482209760433366, -0.0033235699514996275, -1.58648136355799e-5, -0.009951199997860774, -0.010123486938552216, -0.0026891746405958913]\n"
     ]
    },
    {
     "name": "stdout",
     "output_type": "stream",
     "text": [
      "Initializing PECUZAL algorithm for multivariate input...\n",
      "Starting 1-th embedding cycle...\n"
     ]
    },
    {
     "name": "stdout",
     "output_type": "stream",
     "text": [
      "Starting 2-th embedding cycle...\n"
     ]
    },
    {
     "name": "stdout",
     "output_type": "stream",
     "text": [
      "Starting 3-th embedding cycle...\n"
     ]
    },
    {
     "name": "stdout",
     "output_type": "stream",
     "text": [
      "Starting 4-th embedding cycle...\n"
     ]
    },
    {
     "name": "stdout",
     "output_type": "stream",
     "text": [
      "Starting 5-th embedding cycle..."
     ]
    },
    {
     "name": "stdout",
     "output_type": "stream",
     "text": [
      "\n",
      "Starting 6-th embedding cycle...\n"
     ]
    },
    {
     "name": "stdout",
     "output_type": "stream",
     "text": [
      "Starting 7-th embedding cycle...\n"
     ]
    },
    {
     "name": "stdout",
     "output_type": "stream",
     "text": [
      "Starting 8-th embedding cycle...\n"
     ]
    },
    {
     "name": "stdout",
     "output_type": "stream",
     "text": [
      "Starting 9-th embedding cycle...\n"
     ]
    },
    {
     "name": "stdout",
     "output_type": "stream",
     "text": [
      "Algorithm stopped due to increasing L-values. VALID embedding achieved ✓.\n",
      "[0, 6, 3, 13, 10, 8, 18, 16, 12][-0.08442732582521036, -0.03600270363072555, -0.043073727786096326, -0.04169477871556629, -0.032668310092764885, -0.032864834894852604, -0.0029910799902123364, -0.0033957492565030445]\n",
      "Initializing PECUZAL algorithm for multivariate input...\n",
      "Starting 1-th embedding cycle...\n"
     ]
    },
    {
     "name": "stdout",
     "output_type": "stream",
     "text": [
      "Starting 2-th embedding cycle...\n"
     ]
    },
    {
     "name": "stdout",
     "output_type": "stream",
     "text": [
      "Starting 3-th embedding cycle...\n"
     ]
    },
    {
     "name": "stdout",
     "output_type": "stream",
     "text": [
      "Starting 4-th embedding cycle...\n"
     ]
    },
    {
     "name": "stdout",
     "output_type": "stream",
     "text": [
      "Starting 5-th embedding cycle...\n"
     ]
    },
    {
     "name": "stdout",
     "output_type": "stream",
     "text": [
      "Starting 6-th embedding cycle...\n"
     ]
    },
    {
     "name": "stdout",
     "output_type": "stream",
     "text": [
      "Starting 7-th embedding cycle..."
     ]
    },
    {
     "name": "stdout",
     "output_type": "stream",
     "text": [
      "\n",
      "Starting 8-th embedding cycle...\n"
     ]
    },
    {
     "name": "stdout",
     "output_type": "stream",
     "text": [
      "Starting 9-th embedding cycle...\n"
     ]
    },
    {
     "name": "stdout",
     "output_type": "stream",
     "text": [
      "Starting 10-th embedding cycle..."
     ]
    },
    {
     "name": "stdout",
     "output_type": "stream",
     "text": [
      "\n",
      "Algorithm stopped due to increasing L-values. VALID embedding achieved ✓.\n",
      "[0, 6, 3, 13, 10, 8, 18, 4, 16, 12][-0.0492990941775823, -0.03173339611834769, -0.04407410950326937, -0.04669796009442584, -0.032248520586850626, -0.027827547336555195, -0.0025130609780997237, -0.00026434907746189507, -0.003377579049600954]\n",
      "Initializing PECUZAL algorithm for multivariate input...\n",
      "Starting 1-th embedding cycle...\n"
     ]
    },
    {
     "name": "stdout",
     "output_type": "stream",
     "text": [
      "Starting 2-th embedding cycle..."
     ]
    },
    {
     "name": "stdout",
     "output_type": "stream",
     "text": [
      "\n",
      "Starting 3-th embedding cycle..."
     ]
    },
    {
     "name": "stdout",
     "output_type": "stream",
     "text": [
      "\n",
      "Starting 4-th embedding cycle...\n"
     ]
    },
    {
     "name": "stdout",
     "output_type": "stream",
     "text": [
      "Starting 5-th embedding cycle...\n"
     ]
    },
    {
     "name": "stdout",
     "output_type": "stream",
     "text": [
      "Starting 6-th embedding cycle...\n"
     ]
    },
    {
     "name": "stdout",
     "output_type": "stream",
     "text": [
      "Starting 7-th embedding cycle..."
     ]
    },
    {
     "name": "stdout",
     "output_type": "stream",
     "text": [
      "\n",
      "Starting 8-th embedding cycle...\n"
     ]
    },
    {
     "name": "stdout",
     "output_type": "stream",
     "text": [
      "Starting 9-th embedding cycle...\n"
     ]
    },
    {
     "name": "stdout",
     "output_type": "stream",
     "text": [
      "Starting 10-th embedding cycle..."
     ]
    },
    {
     "name": "stdout",
     "output_type": "stream",
     "text": [
      "\n",
      "Starting 11-th embedding cycle...\n"
     ]
    },
    {
     "name": "stdout",
     "output_type": "stream",
     "text": [
      "Starting 12-th embedding cycle...\n"
     ]
    },
    {
     "name": "stdout",
     "output_type": "stream",
     "text": [
      "Starting 13-th embedding cycle..."
     ]
    },
    {
     "name": "stdout",
     "output_type": "stream",
     "text": [
      "\n",
      "Starting 14-th embedding cycle...\n"
     ]
    },
    {
     "name": "stdout",
     "output_type": "stream",
     "text": [
      "Starting 15-th embedding cycle...\n"
     ]
    },
    {
     "name": "stdout",
     "output_type": "stream",
     "text": [
      "Algorithm stopped due to increasing L-values. VALID embedding achieved ✓.\n",
      "[0, 6, 3, 13, 10, 8, 18, 4, 16, 12, 35, 31, 27, 23, 33][-0.029080420890022718, -0.029398378516051732, -0.05131614614033014, -0.04333661432985997, -0.030694175671030194, -0.03463148432519346, -0.0032134123857173735, -0.0004313588701068405, -0.001652970689860478, -0.004663877029603095, -0.0037866352059752473, -0.005396427346185003, -0.009573185015291516, -0.001042972669462218]\n",
      "Initializing PECUZAL algorithm for multivariate input...\n",
      "Starting 1-th embedding cycle...\n"
     ]
    },
    {
     "name": "stdout",
     "output_type": "stream",
     "text": [
      "Starting 2-th embedding cycle..."
     ]
    },
    {
     "name": "stdout",
     "output_type": "stream",
     "text": [
      "\n",
      "Starting 3-th embedding cycle..."
     ]
    },
    {
     "name": "stdout",
     "output_type": "stream",
     "text": [
      "\n",
      "Starting 4-th embedding cycle..."
     ]
    },
    {
     "name": "stdout",
     "output_type": "stream",
     "text": [
      "\n",
      "Starting 5-th embedding cycle..."
     ]
    },
    {
     "name": "stdout",
     "output_type": "stream",
     "text": [
      "\n",
      "Starting 6-th embedding cycle...\n"
     ]
    },
    {
     "name": "stdout",
     "output_type": "stream",
     "text": [
      "Starting 7-th embedding cycle...\n"
     ]
    },
    {
     "name": "stdout",
     "output_type": "stream",
     "text": [
      "Starting 8-th embedding cycle..."
     ]
    },
    {
     "name": "stdout",
     "output_type": "stream",
     "text": [
      "\n",
      "Starting 9-th embedding cycle...\n"
     ]
    },
    {
     "name": "stdout",
     "output_type": "stream",
     "text": [
      "Starting 10-th embedding cycle...\n"
     ]
    },
    {
     "name": "stdout",
     "output_type": "stream",
     "text": [
      "Starting 11-th embedding cycle...\n"
     ]
    },
    {
     "name": "stdout",
     "output_type": "stream",
     "text": [
      "Starting 12-th embedding cycle...\n"
     ]
    },
    {
     "name": "stdout",
     "output_type": "stream",
     "text": [
      "Algorithm stopped due to increasing L-values. VALID embedding achieved ✓.\n",
      "[0, 6, 3, 13, 10, 8, 19, 4, 30, 16, 26, 28][-0.031969263307279144, -0.04034951602190409, -0.05434775913334375, -0.039914372682245375, -0.03102693213611668, -0.022093532746438785, -0.002761240135808557, -5.3008674848094295e-5, -0.0025394484901679094, -0.00024716057656420237, -0.0042138040895667445]\n"
     ]
    },
    {
     "name": "stdout",
     "output_type": "stream",
     "text": [
      "Initializing PECUZAL algorithm for multivariate input...\n",
      "Starting 1-th embedding cycle...\n"
     ]
    },
    {
     "name": "stdout",
     "output_type": "stream",
     "text": [
      "Starting 2-th embedding cycle...\n"
     ]
    },
    {
     "name": "stdout",
     "output_type": "stream",
     "text": [
      "Starting 3-th embedding cycle...\n"
     ]
    },
    {
     "name": "stdout",
     "output_type": "stream",
     "text": [
      "Starting 4-th embedding cycle...\n"
     ]
    },
    {
     "name": "stdout",
     "output_type": "stream",
     "text": [
      "Starting 5-th embedding cycle...\n"
     ]
    },
    {
     "name": "stdout",
     "output_type": "stream",
     "text": [
      "Starting 6-th embedding cycle...\n"
     ]
    },
    {
     "name": "stdout",
     "output_type": "stream",
     "text": [
      "Starting 7-th embedding cycle...\n"
     ]
    },
    {
     "name": "stdout",
     "output_type": "stream",
     "text": [
      "Starting 8-th embedding cycle...\n"
     ]
    },
    {
     "name": "stdout",
     "output_type": "stream",
     "text": [
      "Starting 9-th embedding cycle...\n"
     ]
    },
    {
     "name": "stdout",
     "output_type": "stream",
     "text": [
      "Starting 10-th embedding cycle...\n"
     ]
    },
    {
     "name": "stdout",
     "output_type": "stream",
     "text": [
      "Starting 11-th embedding cycle...\n"
     ]
    },
    {
     "name": "stdout",
     "output_type": "stream",
     "text": [
      "Starting 12-th embedding cycle...\n"
     ]
    },
    {
     "name": "stdout",
     "output_type": "stream",
     "text": [
      "Starting 13-th embedding cycle...\n"
     ]
    },
    {
     "name": "stdout",
     "output_type": "stream",
     "text": [
      "Starting 14-th embedding cycle...\n"
     ]
    },
    {
     "name": "stdout",
     "output_type": "stream",
     "text": [
      "Starting 15-th embedding cycle...\n"
     ]
    },
    {
     "name": "stdout",
     "output_type": "stream",
     "text": [
      "Algorithm stopped due to increasing L-values. VALID embedding achieved ✓.\n",
      "[0, 6, 3, 13, 10, 8, 18, 4, 32, 15, 28, 24, 26, 30, 41][-0.04568678701071979, -0.04219189996066003, -0.040404732091552466, -0.04564852140182871, -0.03343464716755243, -0.030576810568205604, -0.001907227999449479, -0.002752342296748825, -0.0023492084281022535, -0.003511333920979482, -0.006997859556898758, -0.0022007584003092273, -0.0005803912886770818, -0.001667774201406208]\n",
      "Initializing PECUZAL algorithm for multivariate input...\n",
      "Starting 1-th embedding cycle...\n"
     ]
    },
    {
     "name": "stdout",
     "output_type": "stream",
     "text": [
      "Starting 2-th embedding cycle...\n"
     ]
    },
    {
     "name": "stdout",
     "output_type": "stream",
     "text": [
      "Starting 3-th embedding cycle...\n"
     ]
    },
    {
     "name": "stdout",
     "output_type": "stream",
     "text": [
      "Starting 4-th embedding cycle...\n"
     ]
    },
    {
     "name": "stdout",
     "output_type": "stream",
     "text": [
      "Starting 5-th embedding cycle...\n"
     ]
    },
    {
     "name": "stdout",
     "output_type": "stream",
     "text": [
      "Starting 6-th embedding cycle..."
     ]
    },
    {
     "name": "stdout",
     "output_type": "stream",
     "text": [
      "\n",
      "Starting 7-th embedding cycle...\n"
     ]
    },
    {
     "name": "stdout",
     "output_type": "stream",
     "text": [
      "Starting 8-th embedding cycle..."
     ]
    },
    {
     "name": "stdout",
     "output_type": "stream",
     "text": [
      "\n",
      "Algorithm stopped due to increasing L-values. VALID embedding achieved ✓.\n",
      "[0, 6, 3, 13, 10, 8, 18, 15][-0.06029432744377021, -0.040611036767365466, -0.04857387957519712, -0.05200273446472069, -0.029404275953062914, -0.03608602805615174, -0.004365534168801033]\n",
      "Initializing PECUZAL algorithm for multivariate input...\n",
      "Starting 1-th embedding cycle..."
     ]
    },
    {
     "name": "stdout",
     "output_type": "stream",
     "text": [
      "\n",
      "Starting 2-th embedding cycle...\n"
     ]
    },
    {
     "name": "stdout",
     "output_type": "stream",
     "text": [
      "Starting 3-th embedding cycle...\n"
     ]
    },
    {
     "name": "stdout",
     "output_type": "stream",
     "text": [
      "Starting 4-th embedding cycle...\n"
     ]
    },
    {
     "name": "stdout",
     "output_type": "stream",
     "text": [
      "Starting 5-th embedding cycle...\n"
     ]
    },
    {
     "name": "stdout",
     "output_type": "stream",
     "text": [
      "Starting 6-th embedding cycle..."
     ]
    },
    {
     "name": "stdout",
     "output_type": "stream",
     "text": [
      "\n",
      "Starting 7-th embedding cycle..."
     ]
    },
    {
     "name": "stdout",
     "output_type": "stream",
     "text": [
      "\n",
      "Starting 8-th embedding cycle...\n"
     ]
    },
    {
     "name": "stdout",
     "output_type": "stream",
     "text": [
      "Algorithm stopped due to increasing L-values. VALID embedding achieved ✓.\n",
      "[0, 6, 3, 13, 10, 8, 19, 4][-0.023179429132735102, -0.03855943764602768, -0.047950886113119186, -0.05257758787425887, -0.0274271368308113, -0.026522338796238283, -0.002343764288236516]\n",
      "Initializing PECUZAL algorithm for multivariate input...\n",
      "Starting 1-th embedding cycle..."
     ]
    },
    {
     "name": "stdout",
     "output_type": "stream",
     "text": [
      "\n",
      "Starting 2-th embedding cycle...\n"
     ]
    },
    {
     "name": "stdout",
     "output_type": "stream",
     "text": [
      "Starting 3-th embedding cycle..."
     ]
    },
    {
     "name": "stdout",
     "output_type": "stream",
     "text": [
      "\n",
      "Starting 4-th embedding cycle..."
     ]
    },
    {
     "name": "stdout",
     "output_type": "stream",
     "text": [
      "\n",
      "Starting 5-th embedding cycle...\n"
     ]
    },
    {
     "name": "stdout",
     "output_type": "stream",
     "text": [
      "Starting 6-th embedding cycle...\n"
     ]
    },
    {
     "name": "stdout",
     "output_type": "stream",
     "text": [
      "Starting 7-th embedding cycle...\n"
     ]
    },
    {
     "name": "stdout",
     "output_type": "stream",
     "text": [
      "Starting 8-th embedding cycle..."
     ]
    },
    {
     "name": "stdout",
     "output_type": "stream",
     "text": [
      "\n",
      "Algorithm stopped due to increasing L-values. VALID embedding achieved ✓.\n",
      "[0, 6, 3, 13, 10, 8, 19, 4][-0.06138519908453337, -0.03419147395161823, -0.04775071136867432, -0.04602572429828777, -0.031254985077363795, -0.021741367090704455, -0.0057551786805750405]\n",
      "Initializing PECUZAL algorithm for multivariate input...\n",
      "Starting 1-th embedding cycle...\n"
     ]
    },
    {
     "name": "stdout",
     "output_type": "stream",
     "text": [
      "Starting 2-th embedding cycle...\n"
     ]
    },
    {
     "name": "stdout",
     "output_type": "stream",
     "text": [
      "Starting 3-th embedding cycle...\n"
     ]
    },
    {
     "name": "stdout",
     "output_type": "stream",
     "text": [
      "Starting 4-th embedding cycle...\n"
     ]
    },
    {
     "name": "stdout",
     "output_type": "stream",
     "text": [
      "Starting 5-th embedding cycle...\n"
     ]
    },
    {
     "name": "stdout",
     "output_type": "stream",
     "text": [
      "Starting 6-th embedding cycle...\n"
     ]
    },
    {
     "name": "stdout",
     "output_type": "stream",
     "text": [
      "Starting 7-th embedding cycle...\n"
     ]
    },
    {
     "name": "stdout",
     "output_type": "stream",
     "text": [
      "Starting 8-th embedding cycle...\n"
     ]
    },
    {
     "name": "stdout",
     "output_type": "stream",
     "text": [
      "Starting 9-th embedding cycle...\n"
     ]
    },
    {
     "name": "stdout",
     "output_type": "stream",
     "text": [
      "Starting 10-th embedding cycle...\n"
     ]
    },
    {
     "name": "stdout",
     "output_type": "stream",
     "text": [
      "Starting 11-th embedding cycle...\n"
     ]
    },
    {
     "name": "stdout",
     "output_type": "stream",
     "text": [
      "Algorithm stopped due to increasing L-values. VALID embedding achieved ✓.\n",
      "[0, 6, 3, 13, 10, 8, 19, 4, 30, 25, 16][-0.04413007301793587, -0.03368834090887282, -0.055622981168753305, -0.04178018479615542, -0.03425800030009113, -0.024064335081119007, -0.004047706675087109, -0.0006867693545679968, -0.0024674335977354234, -0.007664279210980868]\n"
     ]
    },
    {
     "name": "stdout",
     "output_type": "stream",
     "text": [
      "Initializing PECUZAL algorithm for multivariate input...\n",
      "Starting 1-th embedding cycle...\n"
     ]
    },
    {
     "name": "stdout",
     "output_type": "stream",
     "text": [
      "Starting 2-th embedding cycle...\n"
     ]
    },
    {
     "name": "stdout",
     "output_type": "stream",
     "text": [
      "Starting 3-th embedding cycle...\n"
     ]
    },
    {
     "name": "stdout",
     "output_type": "stream",
     "text": [
      "Starting 4-th embedding cycle..."
     ]
    },
    {
     "name": "stdout",
     "output_type": "stream",
     "text": [
      "\n",
      "Starting 5-th embedding cycle...\n"
     ]
    },
    {
     "name": "stdout",
     "output_type": "stream",
     "text": [
      "Starting 6-th embedding cycle...\n"
     ]
    },
    {
     "name": "stdout",
     "output_type": "stream",
     "text": [
      "Starting 7-th embedding cycle...\n"
     ]
    },
    {
     "name": "stdout",
     "output_type": "stream",
     "text": [
      "Starting 8-th embedding cycle..."
     ]
    },
    {
     "name": "stdout",
     "output_type": "stream",
     "text": [
      "\n",
      "Algorithm stopped due to increasing L-values. VALID embedding achieved ✓.\n",
      "[0, 6, 3, 12, 9, 17, 14, 10][-0.032744601711237914, -0.03796965984063094, -0.05180832596599104, -0.010563735168180682, -0.03437112278366289, -0.005997803696899506, -0.004388417468986772]\n",
      "Initializing PECUZAL algorithm for multivariate input...\n",
      "Starting 1-th embedding cycle..."
     ]
    },
    {
     "name": "stdout",
     "output_type": "stream",
     "text": [
      "\n",
      "Starting 2-th embedding cycle..."
     ]
    },
    {
     "name": "stdout",
     "output_type": "stream",
     "text": [
      "\n",
      "Starting 3-th embedding cycle...\n"
     ]
    },
    {
     "name": "stdout",
     "output_type": "stream",
     "text": [
      "Starting 4-th embedding cycle...\n"
     ]
    },
    {
     "name": "stdout",
     "output_type": "stream",
     "text": [
      "Starting 5-th embedding cycle...\n"
     ]
    },
    {
     "name": "stdout",
     "output_type": "stream",
     "text": [
      "Starting 6-th embedding cycle...\n"
     ]
    },
    {
     "name": "stdout",
     "output_type": "stream",
     "text": [
      "Starting 7-th embedding cycle...\n"
     ]
    },
    {
     "name": "stdout",
     "output_type": "stream",
     "text": [
      "Starting 8-th embedding cycle...\n"
     ]
    },
    {
     "name": "stdout",
     "output_type": "stream",
     "text": [
      "Starting 9-th embedding cycle...\n"
     ]
    },
    {
     "name": "stdout",
     "output_type": "stream",
     "text": [
      "Starting 10-th embedding cycle...\n"
     ]
    },
    {
     "name": "stdout",
     "output_type": "stream",
     "text": [
      "Starting 11-th embedding cycle...\n"
     ]
    },
    {
     "name": "stdout",
     "output_type": "stream",
     "text": [
      "Starting 12-th embedding cycle...\n"
     ]
    },
    {
     "name": "stdout",
     "output_type": "stream",
     "text": [
      "Starting 13-th embedding cycle...\n"
     ]
    },
    {
     "name": "stdout",
     "output_type": "stream",
     "text": [
      "Algorithm stopped due to increasing L-values. VALID embedding achieved ✓.\n",
      "[0, 6, 3, 14, 10, 12, 8, 4, 40, 28, 24, 18, 26][-0.0688636908253496, -0.03372698583464484, -0.05088518373081513, -0.07685958411974783, -0.03210379229608512, -0.02584860015431431, -0.003997973433306268, -0.0010580369199596623, -0.014757280862076297, -0.016339448576880113, -0.021348980965091108, -0.003956052631010516]\n"
     ]
    },
    {
     "name": "stdout",
     "output_type": "stream",
     "text": [
      "Initializing PECUZAL algorithm for multivariate input...\n",
      "Starting 1-th embedding cycle...\n"
     ]
    },
    {
     "name": "stdout",
     "output_type": "stream",
     "text": [
      "Starting 2-th embedding cycle...\n"
     ]
    },
    {
     "name": "stdout",
     "output_type": "stream",
     "text": [
      "Starting 3-th embedding cycle...\n"
     ]
    },
    {
     "name": "stdout",
     "output_type": "stream",
     "text": [
      "Starting 4-th embedding cycle...\n"
     ]
    },
    {
     "name": "stdout",
     "output_type": "stream",
     "text": [
      "Starting 5-th embedding cycle...\n"
     ]
    },
    {
     "name": "stdout",
     "output_type": "stream",
     "text": [
      "Starting 6-th embedding cycle...\n",
      "Starting 7-th embedding cycle..."
     ]
    },
    {
     "name": "stdout",
     "output_type": "stream",
     "text": [
      "\n",
      "Starting 8-th embedding cycle...\n"
     ]
    },
    {
     "name": "stdout",
     "output_type": "stream",
     "text": [
      "Algorithm stopped due to increasing L-values. VALID embedding achieved ✓.\n",
      "[0, 6, 3, 13, 10, 8, 18, 4][-0.021405633291366855, -0.032112500663290355, -0.05456413713007937, -0.04387707289676113, -0.03252230698894912, -0.03482058543909276, -0.002784122040417586]\n",
      "Initializing PECUZAL algorithm for multivariate input...\n",
      "Starting 1-th embedding cycle..."
     ]
    },
    {
     "name": "stdout",
     "output_type": "stream",
     "text": [
      "\n",
      "Starting 2-th embedding cycle..."
     ]
    },
    {
     "name": "stdout",
     "output_type": "stream",
     "text": [
      "\n",
      "Starting 3-th embedding cycle..."
     ]
    },
    {
     "name": "stdout",
     "output_type": "stream",
     "text": [
      "\n",
      "Starting 4-th embedding cycle...\n"
     ]
    },
    {
     "name": "stdout",
     "output_type": "stream",
     "text": [
      "Starting 5-th embedding cycle...\n"
     ]
    },
    {
     "name": "stdout",
     "output_type": "stream",
     "text": [
      "Starting 6-th embedding cycle...\n"
     ]
    },
    {
     "name": "stdout",
     "output_type": "stream",
     "text": [
      "Starting 7-th embedding cycle...\n"
     ]
    },
    {
     "name": "stdout",
     "output_type": "stream",
     "text": [
      "Starting 8-th embedding cycle...\n"
     ]
    },
    {
     "name": "stdout",
     "output_type": "stream",
     "text": [
      "Starting 9-th embedding cycle..."
     ]
    },
    {
     "name": "stdout",
     "output_type": "stream",
     "text": [
      "\n",
      "Algorithm stopped due to increasing L-values. VALID embedding achieved ✓.\n",
      "[0, 6, 3, 13, 10, 8, 18, 16, 12][-0.0704438843714815, -0.04194221905198017, -0.05689380814335983, -0.04354946538230933, -0.03092219895462811, -0.032599783998373016, -0.004212668007771481, -0.0028003939592544658]\n",
      "Initializing PECUZAL algorithm for multivariate input...\n",
      "Starting 1-th embedding cycle...\n"
     ]
    },
    {
     "name": "stdout",
     "output_type": "stream",
     "text": [
      "Starting 2-th embedding cycle...\n"
     ]
    },
    {
     "name": "stdout",
     "output_type": "stream",
     "text": [
      "Starting 3-th embedding cycle..."
     ]
    },
    {
     "name": "stdout",
     "output_type": "stream",
     "text": [
      "\n",
      "Starting 4-th embedding cycle...\n"
     ]
    },
    {
     "name": "stdout",
     "output_type": "stream",
     "text": [
      "Starting 5-th embedding cycle...\n"
     ]
    },
    {
     "name": "stdout",
     "output_type": "stream",
     "text": [
      "Starting 6-th embedding cycle...\n"
     ]
    },
    {
     "name": "stdout",
     "output_type": "stream",
     "text": [
      "Starting 7-th embedding cycle...\n"
     ]
    },
    {
     "name": "stdout",
     "output_type": "stream",
     "text": [
      "Starting 8-th embedding cycle...\n"
     ]
    },
    {
     "name": "stdout",
     "output_type": "stream",
     "text": [
      "Starting 9-th embedding cycle...\n"
     ]
    },
    {
     "name": "stdout",
     "output_type": "stream",
     "text": [
      "Starting 10-th embedding cycle...\n"
     ]
    },
    {
     "name": "stdout",
     "output_type": "stream",
     "text": [
      "Starting 11-th embedding cycle..."
     ]
    },
    {
     "name": "stdout",
     "output_type": "stream",
     "text": [
      "\n",
      "Starting 12-th embedding cycle...\n"
     ]
    },
    {
     "name": "stdout",
     "output_type": "stream",
     "text": [
      "Starting 13-th embedding cycle...\n"
     ]
    },
    {
     "name": "stdout",
     "output_type": "stream",
     "text": [
      "Algorithm stopped due to increasing L-values. VALID embedding achieved ✓.\n",
      "[0, 6, 3, 13, 10, 8, 18, 15, 4, 32, 27, 23, 25][-0.03757042204664632, -0.03747046431081419, -0.05399763005027485, -0.04676439946901709, -0.0307120830263711, -0.031589878101374605, -0.004470111140714134, -0.000942833370213253, -0.003850701404105379, -0.0013013676626913093, -0.00722266775867756, -0.0019848054426637868]\n",
      "Initializing PECUZAL algorithm for multivariate input...\n",
      "Starting 1-th embedding cycle..."
     ]
    },
    {
     "name": "stdout",
     "output_type": "stream",
     "text": [
      "\n",
      "Starting 2-th embedding cycle...\n"
     ]
    },
    {
     "name": "stdout",
     "output_type": "stream",
     "text": [
      "Starting 3-th embedding cycle...\n"
     ]
    },
    {
     "name": "stdout",
     "output_type": "stream",
     "text": [
      "Starting 4-th embedding cycle..."
     ]
    },
    {
     "name": "stdout",
     "output_type": "stream",
     "text": [
      "\n",
      "Starting 5-th embedding cycle..."
     ]
    },
    {
     "name": "stdout",
     "output_type": "stream",
     "text": [
      "\n",
      "Starting 6-th embedding cycle..."
     ]
    },
    {
     "name": "stdout",
     "output_type": "stream",
     "text": [
      "\n",
      "Starting 7-th embedding cycle..."
     ]
    },
    {
     "name": "stdout",
     "output_type": "stream",
     "text": [
      "\n",
      "Starting 8-th embedding cycle...\n"
     ]
    },
    {
     "name": "stdout",
     "output_type": "stream",
     "text": [
      "Algorithm stopped due to increasing L-values. VALID embedding achieved ✓.\n",
      "[0, 6, 3, 13, 10, 8, 18, 4][-0.04023720085964244, -0.0364987410206756, -0.055666497201089946, -0.04393749685221868, -0.03302004496850264, -0.03340621883330647, -0.004010246078691715]\n",
      "Initializing PECUZAL algorithm for multivariate input...\n",
      "Starting 1-th embedding cycle..."
     ]
    },
    {
     "name": "stdout",
     "output_type": "stream",
     "text": [
      "\n",
      "Starting 2-th embedding cycle...\n"
     ]
    },
    {
     "name": "stdout",
     "output_type": "stream",
     "text": [
      "Starting 3-th embedding cycle...\n"
     ]
    },
    {
     "name": "stdout",
     "output_type": "stream",
     "text": [
      "Starting 4-th embedding cycle...\n"
     ]
    },
    {
     "name": "stdout",
     "output_type": "stream",
     "text": [
      "Starting 5-th embedding cycle...\n"
     ]
    },
    {
     "name": "stdout",
     "output_type": "stream",
     "text": [
      "Starting 6-th embedding cycle...\n"
     ]
    },
    {
     "name": "stdout",
     "output_type": "stream",
     "text": [
      "Starting 7-th embedding cycle...\n"
     ]
    },
    {
     "name": "stdout",
     "output_type": "stream",
     "text": [
      "Starting 8-th embedding cycle...\n"
     ]
    },
    {
     "name": "stdout",
     "output_type": "stream",
     "text": [
      "Starting 9-th embedding cycle...\n"
     ]
    },
    {
     "name": "stdout",
     "output_type": "stream",
     "text": [
      "Starting 10-th embedding cycle..."
     ]
    },
    {
     "name": "stdout",
     "output_type": "stream",
     "text": [
      "\n",
      "Algorithm stopped due to increasing L-values. VALID embedding achieved ✓.\n",
      "[0, 6, 3, 13, 10, 8, 18, 4, 16, 12][-0.04111372499924837, -0.039826985436609674, -0.04965187330193738, -0.048696390108822235, -0.030295385403641517, -0.03794311619159363, -0.0034723609055503646, -0.0007380280288164232, -0.0009494721898362923]\n",
      "Initializing PECUZAL algorithm for multivariate input...\n",
      "Starting 1-th embedding cycle...\n"
     ]
    },
    {
     "name": "stdout",
     "output_type": "stream",
     "text": [
      "Starting 2-th embedding cycle...\n"
     ]
    },
    {
     "name": "stdout",
     "output_type": "stream",
     "text": [
      "Starting 3-th embedding cycle...\n"
     ]
    },
    {
     "name": "stdout",
     "output_type": "stream",
     "text": [
      "Starting 4-th embedding cycle...\n"
     ]
    },
    {
     "name": "stdout",
     "output_type": "stream",
     "text": [
      "Starting 5-th embedding cycle...\n"
     ]
    },
    {
     "name": "stdout",
     "output_type": "stream",
     "text": [
      "Starting 6-th embedding cycle...\n"
     ]
    },
    {
     "name": "stdout",
     "output_type": "stream",
     "text": [
      "Starting 7-th embedding cycle...\n"
     ]
    },
    {
     "name": "stdout",
     "output_type": "stream",
     "text": [
      "Starting 8-th embedding cycle...\n"
     ]
    },
    {
     "name": "stdout",
     "output_type": "stream",
     "text": [
      "Algorithm stopped due to increasing L-values. VALID embedding achieved ✓.\n",
      "[0, 6, 3, 13, 10, 8, 19, 4][-0.044080356284219135, -0.04130895364308701, -0.052869554612353084, -0.046800578600140724, -0.030580429046567437, -0.024367653938299552, -0.003963626394822728]\n",
      "Initializing PECUZAL algorithm for multivariate input...\n",
      "Starting 1-th embedding cycle...\n"
     ]
    },
    {
     "name": "stdout",
     "output_type": "stream",
     "text": [
      "Starting 2-th embedding cycle...\n"
     ]
    },
    {
     "name": "stdout",
     "output_type": "stream",
     "text": [
      "Starting 3-th embedding cycle...\n"
     ]
    },
    {
     "name": "stdout",
     "output_type": "stream",
     "text": [
      "Starting 4-th embedding cycle...\n"
     ]
    },
    {
     "name": "stdout",
     "output_type": "stream",
     "text": [
      "Starting 5-th embedding cycle...\n"
     ]
    },
    {
     "name": "stdout",
     "output_type": "stream",
     "text": [
      "Starting 6-th embedding cycle..."
     ]
    },
    {
     "name": "stdout",
     "output_type": "stream",
     "text": [
      "\n",
      "Algorithm stopped due to increasing L-values. VALID embedding achieved ✓.\n",
      "[0, 6, 12, 9, 18, 3][-0.054735066858786444, -0.03087522337046837, -0.02093426291155373, -0.024546839991240355, -0.008780857727221952]\n",
      "Initializing PECUZAL algorithm for multivariate input...\n"
     ]
    },
    {
     "name": "stdout",
     "output_type": "stream",
     "text": [
      "Starting 1-th embedding cycle...\n",
      "Starting 2-th embedding cycle...\n"
     ]
    },
    {
     "name": "stdout",
     "output_type": "stream",
     "text": [
      "Starting 3-th embedding cycle...\n"
     ]
    },
    {
     "name": "stdout",
     "output_type": "stream",
     "text": [
      "Starting 4-th embedding cycle...\n"
     ]
    },
    {
     "name": "stdout",
     "output_type": "stream",
     "text": [
      "Starting 5-th embedding cycle...\n"
     ]
    },
    {
     "name": "stdout",
     "output_type": "stream",
     "text": [
      "Starting 6-th embedding cycle...\n"
     ]
    },
    {
     "name": "stdout",
     "output_type": "stream",
     "text": [
      "Starting 7-th embedding cycle...\n"
     ]
    },
    {
     "name": "stdout",
     "output_type": "stream",
     "text": [
      "Starting 8-th embedding cycle...\n"
     ]
    },
    {
     "name": "stdout",
     "output_type": "stream",
     "text": [
      "Starting 9-th embedding cycle...\n"
     ]
    },
    {
     "name": "stdout",
     "output_type": "stream",
     "text": [
      "Starting 10-th embedding cycle...\n"
     ]
    },
    {
     "name": "stdout",
     "output_type": "stream",
     "text": [
      "Starting 11-th embedding cycle...\n"
     ]
    },
    {
     "name": "stdout",
     "output_type": "stream",
     "text": [
      "Starting 12-th embedding cycle...\n"
     ]
    },
    {
     "name": "stdout",
     "output_type": "stream",
     "text": [
      "Starting 13-th embedding cycle...\n"
     ]
    },
    {
     "name": "stdout",
     "output_type": "stream",
     "text": [
      "Starting 14-th embedding cycle..."
     ]
    },
    {
     "name": "stdout",
     "output_type": "stream",
     "text": [
      "\n",
      "Starting 15-th embedding cycle..."
     ]
    },
    {
     "name": "stdout",
     "output_type": "stream",
     "text": [
      "\n",
      "Algorithm stopped due to increasing L-values. VALID embedding achieved ✓.\n",
      "[0, 6, 3, 14, 10, 12, 8, 4, 38, 30, 22, 18, 34, 26, 36][-0.07106786381924722, -0.03024214841930467, -0.05204108117186412, -0.075351677191103, -0.03354544036652746, -0.02792558130162273, -0.002726226914957053, -0.002095419536124299, -0.010252216270390593, -0.024597595339211194, -0.011003001511756622, -0.0028616940193459187, -0.001896589837289589, -0.00020405862157948235]\n",
      "Initializing PECUZAL algorithm for multivariate input...\n",
      "Starting 1-th embedding cycle..."
     ]
    },
    {
     "name": "stdout",
     "output_type": "stream",
     "text": [
      "\n",
      "Starting 2-th embedding cycle...\n"
     ]
    },
    {
     "name": "stdout",
     "output_type": "stream",
     "text": [
      "Starting 3-th embedding cycle...\n"
     ]
    },
    {
     "name": "stdout",
     "output_type": "stream",
     "text": [
      "Starting 4-th embedding cycle...\n"
     ]
    },
    {
     "name": "stdout",
     "output_type": "stream",
     "text": [
      "Starting 5-th embedding cycle...\n"
     ]
    },
    {
     "name": "stdout",
     "output_type": "stream",
     "text": [
      "Starting 6-th embedding cycle...\n",
      "Starting 7-th embedding cycle..."
     ]
    },
    {
     "name": "stdout",
     "output_type": "stream",
     "text": [
      "\n",
      "Starting 8-th embedding cycle...\n"
     ]
    },
    {
     "name": "stdout",
     "output_type": "stream",
     "text": [
      "Algorithm stopped due to increasing L-values. VALID embedding achieved ✓.\n",
      "[0, 6, 3, 13, 10, 8, 19, 4][-0.0438849863104821, -0.03696488406332138, -0.056283669567514884, -0.04139639817180943, -0.03436245119343029, -0.022324664212207815, -0.004816263114181402]\n",
      "Initializing PECUZAL algorithm for multivariate input...\n",
      "Starting 1-th embedding cycle..."
     ]
    },
    {
     "name": "stdout",
     "output_type": "stream",
     "text": [
      "\n",
      "Starting 2-th embedding cycle...\n"
     ]
    },
    {
     "name": "stdout",
     "output_type": "stream",
     "text": [
      "Starting 3-th embedding cycle...\n"
     ]
    },
    {
     "name": "stdout",
     "output_type": "stream",
     "text": [
      "Starting 4-th embedding cycle...\n"
     ]
    },
    {
     "name": "stdout",
     "output_type": "stream",
     "text": [
      "Starting 5-th embedding cycle...\n"
     ]
    },
    {
     "name": "stdout",
     "output_type": "stream",
     "text": [
      "Starting 6-th embedding cycle...\n"
     ]
    },
    {
     "name": "stdout",
     "output_type": "stream",
     "text": [
      "Starting 7-th embedding cycle...\n"
     ]
    },
    {
     "name": "stdout",
     "output_type": "stream",
     "text": [
      "Starting 8-th embedding cycle...\n"
     ]
    },
    {
     "name": "stdout",
     "output_type": "stream",
     "text": [
      "Starting 9-th embedding cycle...\n"
     ]
    },
    {
     "name": "stdout",
     "output_type": "stream",
     "text": [
      "Starting 10-th embedding cycle...\n"
     ]
    },
    {
     "name": "stdout",
     "output_type": "stream",
     "text": [
      "Starting 11-th embedding cycle...\n"
     ]
    },
    {
     "name": "stdout",
     "output_type": "stream",
     "text": [
      "Starting 12-th embedding cycle...\n"
     ]
    },
    {
     "name": "stdout",
     "output_type": "stream",
     "text": [
      "Starting 13-th embedding cycle...\n"
     ]
    },
    {
     "name": "stdout",
     "output_type": "stream",
     "text": [
      "Starting 14-th embedding cycle...\n"
     ]
    },
    {
     "name": "stdout",
     "output_type": "stream",
     "text": [
      "Starting 15-th embedding cycle...\n"
     ]
    },
    {
     "name": "stdout",
     "output_type": "stream",
     "text": [
      "Algorithm stopped due to increasing L-values. VALID embedding achieved ✓.\n",
      "[0, 6, 3, 13, 10, 8, 18, 16, 12, 31, 27, 23, 29, 42, 25][-0.0429359134129258, -0.04317954929642459, -0.049790966217694306, -0.04823783658235559, -0.031204358558812595, -0.030689959984742735, -0.004694876284465022, -0.004640693737638951, -0.00355262342236759, -0.0024718696572784103, -0.01223366569980961, -0.0021519815233307787, -0.0013998329751365446, -9.768987072986124e-5]\n",
      "Initializing PECUZAL algorithm for multivariate input...\n",
      "Starting 1-th embedding cycle...\n"
     ]
    },
    {
     "name": "stdout",
     "output_type": "stream",
     "text": [
      "Starting 2-th embedding cycle...\n"
     ]
    },
    {
     "name": "stdout",
     "output_type": "stream",
     "text": [
      "Starting 3-th embedding cycle...\n"
     ]
    },
    {
     "name": "stdout",
     "output_type": "stream",
     "text": [
      "Starting 4-th embedding cycle...\n"
     ]
    },
    {
     "name": "stdout",
     "output_type": "stream",
     "text": [
      "Starting 5-th embedding cycle...\n"
     ]
    },
    {
     "name": "stdout",
     "output_type": "stream",
     "text": [
      "Starting 6-th embedding cycle...\n"
     ]
    },
    {
     "name": "stdout",
     "output_type": "stream",
     "text": [
      "Starting 7-th embedding cycle...\n"
     ]
    },
    {
     "name": "stdout",
     "output_type": "stream",
     "text": [
      "Starting 8-th embedding cycle...\n"
     ]
    },
    {
     "name": "stdout",
     "output_type": "stream",
     "text": [
      "Algorithm stopped due to increasing L-values. VALID embedding achieved ✓.\n",
      "[0, 6, 3, 13, 10, 8, 19, 4][-0.06232888794282189, -0.033067260240327856, -0.05358204683581563, -0.04042344351822033, -0.0298289380905844, -0.02560136506709812, -0.004474758716003224]\n",
      "Initializing PECUZAL algorithm for multivariate input...\n",
      "Starting 1-th embedding cycle...\n"
     ]
    },
    {
     "name": "stdout",
     "output_type": "stream",
     "text": [
      "Starting 2-th embedding cycle...\n"
     ]
    },
    {
     "name": "stdout",
     "output_type": "stream",
     "text": [
      "Starting 3-th embedding cycle...\n"
     ]
    },
    {
     "name": "stdout",
     "output_type": "stream",
     "text": [
      "Starting 4-th embedding cycle...\n"
     ]
    },
    {
     "name": "stdout",
     "output_type": "stream",
     "text": [
      "Starting 5-th embedding cycle...\n"
     ]
    },
    {
     "name": "stdout",
     "output_type": "stream",
     "text": [
      "Starting 6-th embedding cycle..."
     ]
    },
    {
     "name": "stdout",
     "output_type": "stream",
     "text": [
      "\n",
      "Starting 7-th embedding cycle...\n"
     ]
    },
    {
     "name": "stdout",
     "output_type": "stream",
     "text": [
      "Starting 8-th embedding cycle...\n"
     ]
    },
    {
     "name": "stdout",
     "output_type": "stream",
     "text": [
      "Algorithm stopped due to increasing L-values. VALID embedding achieved ✓.\n",
      "[0, 6, 3, 12, 9, 17, 15, 13][-0.010112692803758705, -0.04654630621370601, -0.05519597749245346, -0.013119559068688502, -0.036236969080428574, -0.007931980536168698, -0.0020946137192642267]\n",
      "Initializing PECUZAL algorithm for multivariate input...\n",
      "Starting 1-th embedding cycle...\n"
     ]
    },
    {
     "name": "stdout",
     "output_type": "stream",
     "text": [
      "Starting 2-th embedding cycle...\n"
     ]
    },
    {
     "name": "stdout",
     "output_type": "stream",
     "text": [
      "Starting 3-th embedding cycle...\n"
     ]
    },
    {
     "name": "stdout",
     "output_type": "stream",
     "text": [
      "Starting 4-th embedding cycle...\n"
     ]
    },
    {
     "name": "stdout",
     "output_type": "stream",
     "text": [
      "Starting 5-th embedding cycle...\n"
     ]
    },
    {
     "name": "stdout",
     "output_type": "stream",
     "text": [
      "Starting 6-th embedding cycle...\n"
     ]
    },
    {
     "name": "stdout",
     "output_type": "stream",
     "text": [
      "Starting 7-th embedding cycle...\n"
     ]
    },
    {
     "name": "stdout",
     "output_type": "stream",
     "text": [
      "Starting 8-th embedding cycle...\n"
     ]
    },
    {
     "name": "stdout",
     "output_type": "stream",
     "text": [
      "Algorithm stopped due to increasing L-values. VALID embedding achieved ✓.\n",
      "[0, 6, 3, 13, 10, 8, 19, 4][-0.08338001599295779, -0.033414841504695286, -0.049649006530697426, -0.04269458023397951, -0.0319522356950557, -0.02503537189612924, -0.004719918316833438]\n",
      "Initializing PECUZAL algorithm for multivariate input...\n",
      "Starting 1-th embedding cycle..."
     ]
    },
    {
     "name": "stdout",
     "output_type": "stream",
     "text": [
      "\n",
      "Starting 2-th embedding cycle...\n"
     ]
    },
    {
     "name": "stdout",
     "output_type": "stream",
     "text": [
      "Starting 3-th embedding cycle...\n"
     ]
    },
    {
     "name": "stdout",
     "output_type": "stream",
     "text": [
      "Starting 4-th embedding cycle...\n"
     ]
    },
    {
     "name": "stdout",
     "output_type": "stream",
     "text": [
      "Starting 5-th embedding cycle...\n"
     ]
    },
    {
     "name": "stdout",
     "output_type": "stream",
     "text": [
      "Starting 6-th embedding cycle...\n"
     ]
    },
    {
     "name": "stdout",
     "output_type": "stream",
     "text": [
      "Starting 7-th embedding cycle...\n"
     ]
    },
    {
     "name": "stdout",
     "output_type": "stream",
     "text": [
      "Starting 8-th embedding cycle...\n"
     ]
    },
    {
     "name": "stdout",
     "output_type": "stream",
     "text": [
      "Starting 9-th embedding cycle...\n"
     ]
    },
    {
     "name": "stdout",
     "output_type": "stream",
     "text": [
      "Starting 10-th embedding cycle...\n"
     ]
    },
    {
     "name": "stdout",
     "output_type": "stream",
     "text": [
      "Starting 11-th embedding cycle...\n"
     ]
    },
    {
     "name": "stdout",
     "output_type": "stream",
     "text": [
      "Starting 12-th embedding cycle..."
     ]
    },
    {
     "name": "stdout",
     "output_type": "stream",
     "text": [
      "\n",
      "Starting 13-th embedding cycle...\n"
     ]
    },
    {
     "name": "stdout",
     "output_type": "stream",
     "text": [
      "Starting 14-th embedding cycle...\n"
     ]
    },
    {
     "name": "stdout",
     "output_type": "stream",
     "text": [
      "Algorithm stopped due to increasing L-values. VALID embedding achieved ✓.\n",
      "[0, 6, 3, 14, 10, 12, 8, 4, 20, 38, 30, 34, 26, 28][-0.05294166285188927, -0.028044574044103848, -0.048661888844723215, -0.07974785058533393, -0.031210092279876783, -0.027244066099381986, -0.0027524619273102957, -0.029876947917351453, -0.001124287133996149, -0.0033702730017710902, -0.00735653051132671, -0.006837698559582969, -0.0012920351748106698]\n",
      "Initializing PECUZAL algorithm for multivariate input...\n",
      "Starting 1-th embedding cycle...\n"
     ]
    },
    {
     "name": "stdout",
     "output_type": "stream",
     "text": [
      "Starting 2-th embedding cycle..."
     ]
    },
    {
     "name": "stdout",
     "output_type": "stream",
     "text": [
      "\n",
      "Starting 3-th embedding cycle...\n"
     ]
    },
    {
     "name": "stdout",
     "output_type": "stream",
     "text": [
      "Starting 4-th embedding cycle...\n"
     ]
    },
    {
     "name": "stdout",
     "output_type": "stream",
     "text": [
      "Starting 5-th embedding cycle...\n"
     ]
    },
    {
     "name": "stdout",
     "output_type": "stream",
     "text": [
      "Starting 6-th embedding cycle...\n"
     ]
    },
    {
     "name": "stdout",
     "output_type": "stream",
     "text": [
      "Starting 7-th embedding cycle...\n"
     ]
    },
    {
     "name": "stdout",
     "output_type": "stream",
     "text": [
      "Starting 8-th embedding cycle...\n"
     ]
    },
    {
     "name": "stdout",
     "output_type": "stream",
     "text": [
      "Starting 9-th embedding cycle...\n"
     ]
    },
    {
     "name": "stdout",
     "output_type": "stream",
     "text": [
      "Starting 10-th embedding cycle...\n"
     ]
    },
    {
     "name": "stdout",
     "output_type": "stream",
     "text": [
      "Starting 11-th embedding cycle...\n"
     ]
    },
    {
     "name": "stdout",
     "output_type": "stream",
     "text": [
      "Starting 12-th embedding cycle...\n"
     ]
    },
    {
     "name": "stdout",
     "output_type": "stream",
     "text": [
      "Starting 13-th embedding cycle...\n"
     ]
    },
    {
     "name": "stdout",
     "output_type": "stream",
     "text": [
      "Starting 14-th embedding cycle...\n"
     ]
    },
    {
     "name": "stdout",
     "output_type": "stream",
     "text": [
      "Starting 15-th embedding cycle..."
     ]
    },
    {
     "name": "stdout",
     "output_type": "stream",
     "text": [
      "\n",
      "Starting 16-th embedding cycle...\n"
     ]
    },
    {
     "name": "stdout",
     "output_type": "stream",
     "text": [
      "Starting 17-th embedding cycle...\n"
     ]
    },
    {
     "name": "stdout",
     "output_type": "stream",
     "text": [
      "Algorithm stopped due to increasing L-values. VALID embedding achieved ✓.\n",
      "[0, 6, 3, 15, 11, 13, 9, 7, 39, 30, 23, 19, 21, 17, 49, 35, 27][-0.058738782745398566, -0.0330185989642571, -0.03763251430780389, -0.06861782791728767, -0.03158285710097419, -0.01442104888994794, -0.0008405349394349504, -0.0015067676179237738, -0.003177861069970013, -0.025044889901440368, -0.007698109003724411, -0.0029909028291839057, -0.0028763010160242665, -0.0017544514411150514, -0.0003193514652417573, -0.0015850891490978292]\n"
     ]
    },
    {
     "name": "stdout",
     "output_type": "stream",
     "text": [
      "Initializing PECUZAL algorithm for multivariate input...\n",
      "Starting 1-th embedding cycle...\n"
     ]
    },
    {
     "name": "stdout",
     "output_type": "stream",
     "text": [
      "Starting 2-th embedding cycle...\n"
     ]
    },
    {
     "name": "stdout",
     "output_type": "stream",
     "text": [
      "Starting 3-th embedding cycle...\n"
     ]
    },
    {
     "name": "stdout",
     "output_type": "stream",
     "text": [
      "Starting 4-th embedding cycle...\n"
     ]
    },
    {
     "name": "stdout",
     "output_type": "stream",
     "text": [
      "Starting 5-th embedding cycle...\n"
     ]
    },
    {
     "name": "stdout",
     "output_type": "stream",
     "text": [
      "Starting 6-th embedding cycle...\n"
     ]
    },
    {
     "name": "stdout",
     "output_type": "stream",
     "text": [
      "Starting 7-th embedding cycle...\n"
     ]
    },
    {
     "name": "stdout",
     "output_type": "stream",
     "text": [
      "Starting 8-th embedding cycle...\n"
     ]
    },
    {
     "name": "stdout",
     "output_type": "stream",
     "text": [
      "Starting 9-th embedding cycle..."
     ]
    },
    {
     "name": "stdout",
     "output_type": "stream",
     "text": [
      "\n",
      "Starting 10-th embedding cycle..."
     ]
    },
    {
     "name": "stdout",
     "output_type": "stream",
     "text": [
      "\n",
      "Starting 11-th embedding cycle...\n"
     ]
    },
    {
     "name": "stdout",
     "output_type": "stream",
     "text": [
      "Starting 12-th embedding cycle...\n"
     ]
    },
    {
     "name": "stdout",
     "output_type": "stream",
     "text": [
      "Starting 13-th embedding cycle..."
     ]
    },
    {
     "name": "stdout",
     "output_type": "stream",
     "text": [
      "\n",
      "Starting 14-th embedding cycle...\n"
     ]
    },
    {
     "name": "stdout",
     "output_type": "stream",
     "text": [
      "Algorithm stopped due to increasing L-values. VALID embedding achieved ✓.\n",
      "[0, 6, 3, 14, 10, 12, 8, 4, 20, 29, 25, 27, 37, 33][-0.0329089728510667, -0.03852866612688993, -0.04748564562673348, -0.07939983750866261, -0.030203786211333378, -0.02414381586923614, -0.0034439987844263054, -0.02994867918454889, -0.0015454593905935982, -0.0005239494152132207, -0.004901266150650993, -0.005896319878183953, -0.006440401944074848]"
     ]
    },
    {
     "name": "stdout",
     "output_type": "stream",
     "text": [
      "\n",
      "Initializing PECUZAL algorithm for multivariate input...\n",
      "Starting 1-th embedding cycle...\n"
     ]
    },
    {
     "name": "stdout",
     "output_type": "stream",
     "text": [
      "Starting 2-th embedding cycle...\n"
     ]
    },
    {
     "name": "stdout",
     "output_type": "stream",
     "text": [
      "Starting 3-th embedding cycle..."
     ]
    },
    {
     "name": "stdout",
     "output_type": "stream",
     "text": [
      "\n",
      "Starting 4-th embedding cycle...\n"
     ]
    },
    {
     "name": "stdout",
     "output_type": "stream",
     "text": [
      "Starting 5-th embedding cycle...\n"
     ]
    },
    {
     "name": "stdout",
     "output_type": "stream",
     "text": [
      "Starting 6-th embedding cycle...\n"
     ]
    },
    {
     "name": "stdout",
     "output_type": "stream",
     "text": [
      "Starting 7-th embedding cycle...\n"
     ]
    },
    {
     "name": "stdout",
     "output_type": "stream",
     "text": [
      "Starting 8-th embedding cycle...\n"
     ]
    },
    {
     "name": "stdout",
     "output_type": "stream",
     "text": [
      "Algorithm stopped due to increasing L-values. VALID embedding achieved ✓.\n",
      "[0, 6, 3, 14, 10, 12, 8, 20][-0.04553976824511627, -0.045706933288104434, -0.0493030309347518, -0.07484587956722563, -0.0355544695049505, -0.024134854969888764, -0.02613252035059533]\n",
      "Initializing PECUZAL algorithm for multivariate input...\n",
      "Starting 1-th embedding cycle...\n"
     ]
    },
    {
     "name": "stdout",
     "output_type": "stream",
     "text": [
      "Starting 2-th embedding cycle...\n"
     ]
    },
    {
     "name": "stdout",
     "output_type": "stream",
     "text": [
      "Starting 3-th embedding cycle...\n"
     ]
    },
    {
     "name": "stdout",
     "output_type": "stream",
     "text": [
      "Starting 4-th embedding cycle...\n"
     ]
    },
    {
     "name": "stdout",
     "output_type": "stream",
     "text": [
      "Starting 5-th embedding cycle...\n"
     ]
    },
    {
     "name": "stdout",
     "output_type": "stream",
     "text": [
      "Starting 6-th embedding cycle...\n"
     ]
    },
    {
     "name": "stdout",
     "output_type": "stream",
     "text": [
      "Starting 7-th embedding cycle...\n"
     ]
    },
    {
     "name": "stdout",
     "output_type": "stream",
     "text": [
      "Starting 8-th embedding cycle...\n"
     ]
    },
    {
     "name": "stdout",
     "output_type": "stream",
     "text": [
      "Starting 9-th embedding cycle...\n"
     ]
    },
    {
     "name": "stdout",
     "output_type": "stream",
     "text": [
      "Starting 10-th embedding cycle..."
     ]
    },
    {
     "name": "stdout",
     "output_type": "stream",
     "text": [
      "\n",
      "Starting 11-th embedding cycle...\n"
     ]
    },
    {
     "name": "stdout",
     "output_type": "stream",
     "text": [
      "Starting 12-th embedding cycle...\n"
     ]
    },
    {
     "name": "stdout",
     "output_type": "stream",
     "text": [
      "Starting 13-th embedding cycle...\n"
     ]
    },
    {
     "name": "stdout",
     "output_type": "stream",
     "text": [
      "Starting 14-th embedding cycle...\n"
     ]
    },
    {
     "name": "stdout",
     "output_type": "stream",
     "text": [
      "Algorithm stopped due to increasing L-values. VALID embedding achieved ✓.\n",
      "[0, 6, 3, 13, 10, 8, 19, 4, 36, 28, 32, 23, 30, 16][-0.03618117246914612, -0.034779539981553864, -0.05125584138395248, -0.04780936860995427, -0.03327310340312123, -0.023527016252947, -0.004728275042178626, -0.0005028512543481245, -0.0006867888480130008, -0.011450675574154676, -0.00879359047946162, -0.002191788336491002, -0.0005438514274715353]\n"
     ]
    },
    {
     "name": "stdout",
     "output_type": "stream",
     "text": [
      "Initializing PECUZAL algorithm for multivariate input...\n",
      "Starting 1-th embedding cycle...\n"
     ]
    },
    {
     "name": "stdout",
     "output_type": "stream",
     "text": [
      "Starting 2-th embedding cycle...\n"
     ]
    },
    {
     "name": "stdout",
     "output_type": "stream",
     "text": [
      "Starting 3-th embedding cycle...\n"
     ]
    },
    {
     "name": "stdout",
     "output_type": "stream",
     "text": [
      "Starting 4-th embedding cycle..."
     ]
    },
    {
     "name": "stdout",
     "output_type": "stream",
     "text": [
      "\n",
      "Starting 5-th embedding cycle..."
     ]
    },
    {
     "name": "stdout",
     "output_type": "stream",
     "text": [
      "\n",
      "Starting 6-th embedding cycle...\n"
     ]
    },
    {
     "name": "stdout",
     "output_type": "stream",
     "text": [
      "Starting 7-th embedding cycle...\n"
     ]
    },
    {
     "name": "stdout",
     "output_type": "stream",
     "text": [
      "Starting 8-th embedding cycle...\n"
     ]
    },
    {
     "name": "stdout",
     "output_type": "stream",
     "text": [
      "Starting 9-th embedding cycle...\n"
     ]
    },
    {
     "name": "stdout",
     "output_type": "stream",
     "text": [
      "Starting 10-th embedding cycle...\n"
     ]
    },
    {
     "name": "stdout",
     "output_type": "stream",
     "text": [
      "Starting 11-th embedding cycle...\n"
     ]
    },
    {
     "name": "stdout",
     "output_type": "stream",
     "text": [
      "Starting 12-th embedding cycle...\n"
     ]
    },
    {
     "name": "stdout",
     "output_type": "stream",
     "text": [
      "Starting 13-th embedding cycle...\n"
     ]
    },
    {
     "name": "stdout",
     "output_type": "stream",
     "text": [
      "Starting 14-th embedding cycle..."
     ]
    },
    {
     "name": "stdout",
     "output_type": "stream",
     "text": [
      "\n",
      "Starting 15-th embedding cycle...\n"
     ]
    },
    {
     "name": "stdout",
     "output_type": "stream",
     "text": [
      "Algorithm stopped due to increasing L-values. VALID embedding achieved ✓.\n",
      "[0, 6, 3, 13, 10, 8, 18, 4, 16, 12, 36, 32, 28, 24, 34][-0.03782129624431155, -0.029980700933448817, -0.04715956483565585, -0.04373236035999467, -0.033493743740050264, -0.030746967448291904, -0.002122275835222287, -0.0009246994675369824, -0.0022392778615386716, -0.0027323016390380095, -0.0028739704569427926, -0.004752577461727088, -0.012107007898911318, -0.001192770990798401]\n"
     ]
    },
    {
     "name": "stdout",
     "output_type": "stream",
     "text": [
      "Initializing PECUZAL algorithm for multivariate input...\n",
      "Starting 1-th embedding cycle...\n"
     ]
    },
    {
     "name": "stdout",
     "output_type": "stream",
     "text": [
      "Starting 2-th embedding cycle...\n"
     ]
    },
    {
     "name": "stdout",
     "output_type": "stream",
     "text": [
      "Starting 3-th embedding cycle...\n"
     ]
    },
    {
     "name": "stdout",
     "output_type": "stream",
     "text": [
      "Starting 4-th embedding cycle...\n"
     ]
    },
    {
     "name": "stdout",
     "output_type": "stream",
     "text": [
      "Starting 5-th embedding cycle...\n"
     ]
    },
    {
     "name": "stdout",
     "output_type": "stream",
     "text": [
      "Starting 6-th embedding cycle...\n"
     ]
    },
    {
     "name": "stdout",
     "output_type": "stream",
     "text": [
      "Starting 7-th embedding cycle...\n"
     ]
    },
    {
     "name": "stdout",
     "output_type": "stream",
     "text": [
      "Starting 8-th embedding cycle...\n"
     ]
    },
    {
     "name": "stdout",
     "output_type": "stream",
     "text": [
      "Algorithm stopped due to increasing L-values. VALID embedding achieved ✓.\n",
      "[0, 6, 3, 12, 9, 17, 14, 10][-0.03662071673491149, -0.03419087816343616, -0.054646673830494076, -0.015106851078166422, -0.03379362167834226, -0.00832265734562046, -0.0029281572484946006]\n"
     ]
    },
    {
     "name": "stdout",
     "output_type": "stream",
     "text": [
      "Initializing PECUZAL algorithm for multivariate input...\n",
      "Starting 1-th embedding cycle...\n"
     ]
    },
    {
     "name": "stdout",
     "output_type": "stream",
     "text": [
      "Starting 2-th embedding cycle...\n"
     ]
    },
    {
     "name": "stdout",
     "output_type": "stream",
     "text": [
      "Starting 3-th embedding cycle..."
     ]
    },
    {
     "name": "stdout",
     "output_type": "stream",
     "text": [
      "\n",
      "Starting 4-th embedding cycle..."
     ]
    },
    {
     "name": "stdout",
     "output_type": "stream",
     "text": [
      "\n",
      "Starting 5-th embedding cycle...\n"
     ]
    },
    {
     "name": "stdout",
     "output_type": "stream",
     "text": [
      "Starting 6-th embedding cycle...\n"
     ]
    },
    {
     "name": "stdout",
     "output_type": "stream",
     "text": [
      "Starting 7-th embedding cycle...\n"
     ]
    },
    {
     "name": "stdout",
     "output_type": "stream",
     "text": [
      "Starting 8-th embedding cycle...\n"
     ]
    },
    {
     "name": "stdout",
     "output_type": "stream",
     "text": [
      "Starting 9-th embedding cycle..."
     ]
    },
    {
     "name": "stdout",
     "output_type": "stream",
     "text": [
      "\n",
      "Starting 10-th embedding cycle..."
     ]
    },
    {
     "name": "stdout",
     "output_type": "stream",
     "text": [
      "\n",
      "Starting 11-th embedding cycle..."
     ]
    },
    {
     "name": "stdout",
     "output_type": "stream",
     "text": [
      "\n",
      "Starting 12-th embedding cycle...\n"
     ]
    },
    {
     "name": "stdout",
     "output_type": "stream",
     "text": [
      "Starting 13-th embedding cycle..."
     ]
    },
    {
     "name": "stdout",
     "output_type": "stream",
     "text": [
      "\n",
      "Starting 14-th embedding cycle..."
     ]
    },
    {
     "name": "stdout",
     "output_type": "stream",
     "text": [
      "\n",
      "Starting 15-th embedding cycle..."
     ]
    },
    {
     "name": "stdout",
     "output_type": "stream",
     "text": [
      "\n",
      "Algorithm stopped due to increasing L-values. VALID embedding achieved ✓.\n",
      "[0, 6, 3, 13, 10, 8, 18, 4, 16, 12, 46, 36, 32, 23, 28][-0.03171095693001777, -0.03780226454213595, -0.05971538222048794, -0.040921000845321714, -0.02593710394956497, -0.040685580166787694, -0.0027714212815327377, -0.0011222328227865619, -0.0014324522124891381, -0.000591914599150839, -0.007819043713274104, -0.006582640894415556, -0.00899128064406448, -0.0029241235188877043]\n",
      "Initializing PECUZAL algorithm for multivariate input...\n"
     ]
    },
    {
     "name": "stdout",
     "output_type": "stream",
     "text": [
      "Starting 1-th embedding cycle...\n"
     ]
    },
    {
     "name": "stdout",
     "output_type": "stream",
     "text": [
      "Starting 2-th embedding cycle...\n"
     ]
    },
    {
     "name": "stdout",
     "output_type": "stream",
     "text": [
      "Starting 3-th embedding cycle...\n"
     ]
    },
    {
     "name": "stdout",
     "output_type": "stream",
     "text": [
      "Starting 4-th embedding cycle...\n"
     ]
    },
    {
     "name": "stdout",
     "output_type": "stream",
     "text": [
      "Starting 5-th embedding cycle...\n"
     ]
    },
    {
     "name": "stdout",
     "output_type": "stream",
     "text": [
      "Starting 6-th embedding cycle...\n"
     ]
    },
    {
     "name": "stdout",
     "output_type": "stream",
     "text": [
      "Starting 7-th embedding cycle...\n"
     ]
    },
    {
     "name": "stdout",
     "output_type": "stream",
     "text": [
      "Starting 8-th embedding cycle...\n"
     ]
    },
    {
     "name": "stdout",
     "output_type": "stream",
     "text": [
      "Starting 9-th embedding cycle...\n"
     ]
    },
    {
     "name": "stdout",
     "output_type": "stream",
     "text": [
      "Algorithm stopped due to increasing L-values. VALID embedding achieved ✓.\n",
      "[0, 6, 3, 14, 10, 12, 8, 19, 4][-0.057538350777291886, -0.033017185508830704, -0.04088715504855893, -0.08169945858274967, -0.03196002042684884, -0.026059629080889768, -0.01897234221472865, -0.001388292679694647]\n",
      "Initializing PECUZAL algorithm for multivariate input...\n",
      "Starting 1-th embedding cycle...\n"
     ]
    },
    {
     "name": "stdout",
     "output_type": "stream",
     "text": [
      "Starting 2-th embedding cycle...\n"
     ]
    },
    {
     "name": "stdout",
     "output_type": "stream",
     "text": [
      "Starting 3-th embedding cycle...\n"
     ]
    },
    {
     "name": "stdout",
     "output_type": "stream",
     "text": [
      "Starting 4-th embedding cycle...\n"
     ]
    },
    {
     "name": "stdout",
     "output_type": "stream",
     "text": [
      "Starting 5-th embedding cycle...\n"
     ]
    },
    {
     "name": "stdout",
     "output_type": "stream",
     "text": [
      "Starting 6-th embedding cycle...\n"
     ]
    },
    {
     "name": "stdout",
     "output_type": "stream",
     "text": [
      "Starting 7-th embedding cycle..."
     ]
    },
    {
     "name": "stdout",
     "output_type": "stream",
     "text": [
      "\n",
      "Starting 8-th embedding cycle...\n"
     ]
    },
    {
     "name": "stdout",
     "output_type": "stream",
     "text": [
      "Starting 9-th embedding cycle...\n"
     ]
    },
    {
     "name": "stdout",
     "output_type": "stream",
     "text": [
      "Starting 10-th embedding cycle...\n"
     ]
    },
    {
     "name": "stdout",
     "output_type": "stream",
     "text": [
      "Starting 11-th embedding cycle...\n"
     ]
    },
    {
     "name": "stdout",
     "output_type": "stream",
     "text": [
      "Starting 12-th embedding cycle...\n"
     ]
    },
    {
     "name": "stdout",
     "output_type": "stream",
     "text": [
      "Starting 13-th embedding cycle...\n"
     ]
    },
    {
     "name": "stdout",
     "output_type": "stream",
     "text": [
      "Starting 14-th embedding cycle...\n"
     ]
    },
    {
     "name": "stdout",
     "output_type": "stream",
     "text": [
      "Algorithm stopped due to increasing L-values. VALID embedding achieved ✓.\n",
      "[0, 6, 3, 13, 10, 8, 18, 4, 16, 34, 12, 44, 29, 24][-0.04180473829278672, -0.02438292019428706, -0.052425132719335105, -0.04231524022118682, -0.0331851892109061, -0.03262837234562607, -0.0038341883185860626, -0.0009392135135192492, -0.003832935822797645, -0.002398493193876458, -0.004074711009508777, -0.007267466505153003, -0.006213083415456809]\n",
      "Initializing PECUZAL algorithm for multivariate input...\n",
      "Starting 1-th embedding cycle...\n"
     ]
    },
    {
     "name": "stdout",
     "output_type": "stream",
     "text": [
      "Starting 2-th embedding cycle...\n"
     ]
    },
    {
     "name": "stdout",
     "output_type": "stream",
     "text": [
      "Starting 3-th embedding cycle...\n"
     ]
    },
    {
     "name": "stdout",
     "output_type": "stream",
     "text": [
      "Starting 4-th embedding cycle...\n"
     ]
    },
    {
     "name": "stdout",
     "output_type": "stream",
     "text": [
      "Starting 5-th embedding cycle...\n"
     ]
    },
    {
     "name": "stdout",
     "output_type": "stream",
     "text": [
      "Starting 6-th embedding cycle...\n"
     ]
    },
    {
     "name": "stdout",
     "output_type": "stream",
     "text": [
      "Starting 7-th embedding cycle...\n"
     ]
    },
    {
     "name": "stdout",
     "output_type": "stream",
     "text": [
      "Starting 8-th embedding cycle...\n"
     ]
    },
    {
     "name": "stdout",
     "output_type": "stream",
     "text": [
      "Starting 9-th embedding cycle...\n"
     ]
    },
    {
     "name": "stdout",
     "output_type": "stream",
     "text": [
      "Starting 10-th embedding cycle...\n"
     ]
    },
    {
     "name": "stdout",
     "output_type": "stream",
     "text": [
      "Starting 11-th embedding cycle...\n"
     ]
    },
    {
     "name": "stdout",
     "output_type": "stream",
     "text": [
      "Starting 12-th embedding cycle...\n"
     ]
    },
    {
     "name": "stdout",
     "output_type": "stream",
     "text": [
      "Starting 13-th embedding cycle...\n"
     ]
    },
    {
     "name": "stdout",
     "output_type": "stream",
     "text": [
      "Algorithm stopped due to increasing L-values. VALID embedding achieved ✓.\n",
      "[0, 6, 3, 14, 10, 12, 8, 4, 27, 19, 23, 25, 38][-0.10494826928964347, -0.027046706656273872, -0.0478763724427583, -0.07503088095162194, -0.034476185234904116, -0.02517782176913716, -0.003451567493936686, -0.007280769993650356, -0.025785173150358137, -0.006444726205356591, -0.004441032814283666, -0.0028959625000851558]\n",
      "Initializing PECUZAL algorithm for multivariate input...\n"
     ]
    },
    {
     "name": "stdout",
     "output_type": "stream",
     "text": [
      "Starting 1-th embedding cycle...\n"
     ]
    },
    {
     "name": "stdout",
     "output_type": "stream",
     "text": [
      "Starting 2-th embedding cycle...\n"
     ]
    },
    {
     "name": "stdout",
     "output_type": "stream",
     "text": [
      "Starting 3-th embedding cycle...\n"
     ]
    },
    {
     "name": "stdout",
     "output_type": "stream",
     "text": [
      "Starting 4-th embedding cycle...\n"
     ]
    },
    {
     "name": "stdout",
     "output_type": "stream",
     "text": [
      "Starting 5-th embedding cycle...\n"
     ]
    },
    {
     "name": "stdout",
     "output_type": "stream",
     "text": [
      "Starting 6-th embedding cycle..."
     ]
    },
    {
     "name": "stdout",
     "output_type": "stream",
     "text": [
      "\n",
      "Starting 7-th embedding cycle...\n"
     ]
    },
    {
     "name": "stdout",
     "output_type": "stream",
     "text": [
      "Starting 8-th embedding cycle...\n"
     ]
    },
    {
     "name": "stdout",
     "output_type": "stream",
     "text": [
      "Starting 9-th embedding cycle...\n"
     ]
    },
    {
     "name": "stdout",
     "output_type": "stream",
     "text": [
      "Starting 10-th embedding cycle...\n"
     ]
    },
    {
     "name": "stdout",
     "output_type": "stream",
     "text": [
      "Starting 11-th embedding cycle...\n"
     ]
    },
    {
     "name": "stdout",
     "output_type": "stream",
     "text": [
      "Algorithm stopped due to increasing L-values. VALID embedding achieved ✓.\n",
      "[0, 6, 3, 14, 10, 12, 8, 38, 29, 25, 20][-0.03423458140442387, -0.02877115975454514, -0.04311325988144196, -0.07613394705601065, -0.03392257711173116, -0.02710719178243612, -0.0028771337795274812, -0.0030014783080905133, -0.009503374968347104, -0.012735821246270948]\n",
      "Initializing PECUZAL algorithm for multivariate input...\n",
      "Starting 1-th embedding cycle...\n"
     ]
    },
    {
     "name": "stdout",
     "output_type": "stream",
     "text": [
      "Starting 2-th embedding cycle...\n"
     ]
    },
    {
     "name": "stdout",
     "output_type": "stream",
     "text": [
      "Starting 3-th embedding cycle...\n"
     ]
    },
    {
     "name": "stdout",
     "output_type": "stream",
     "text": [
      "Starting 4-th embedding cycle...\n"
     ]
    },
    {
     "name": "stdout",
     "output_type": "stream",
     "text": [
      "Starting 5-th embedding cycle...\n"
     ]
    },
    {
     "name": "stdout",
     "output_type": "stream",
     "text": [
      "Starting 6-th embedding cycle..."
     ]
    },
    {
     "name": "stdout",
     "output_type": "stream",
     "text": [
      "\n",
      "Starting 7-th embedding cycle...\n"
     ]
    },
    {
     "name": "stdout",
     "output_type": "stream",
     "text": [
      "Starting 8-th embedding cycle...\n"
     ]
    },
    {
     "name": "stdout",
     "output_type": "stream",
     "text": [
      "Starting 9-th embedding cycle...\n"
     ]
    },
    {
     "name": "stdout",
     "output_type": "stream",
     "text": [
      "Starting 10-th embedding cycle...\n"
     ]
    },
    {
     "name": "stdout",
     "output_type": "stream",
     "text": [
      "Starting 11-th embedding cycle...\n"
     ]
    },
    {
     "name": "stdout",
     "output_type": "stream",
     "text": [
      "Starting 12-th embedding cycle...\n"
     ]
    },
    {
     "name": "stdout",
     "output_type": "stream",
     "text": [
      "Algorithm stopped due to increasing L-values. VALID embedding achieved ✓.\n",
      "[0, 6, 3, 12, 9, 17, 14, 10, 26, 22, 24, 42][-0.045213293051097475, -0.030658883111563534, -0.06207087086106375, -0.014741936877071343, -0.03939379466717169, -0.008568172533021418, -0.0029123501356483894, -0.01007792785747658, -0.007758838729314224, -0.005599533167134213, -0.000855091438213107]\n"
     ]
    },
    {
     "name": "stdout",
     "output_type": "stream",
     "text": [
      "Initializing PECUZAL algorithm for multivariate input...\n",
      "Starting 1-th embedding cycle...\n"
     ]
    },
    {
     "name": "stdout",
     "output_type": "stream",
     "text": [
      "Starting 2-th embedding cycle...\n"
     ]
    },
    {
     "name": "stdout",
     "output_type": "stream",
     "text": [
      "Starting 3-th embedding cycle...\n"
     ]
    },
    {
     "name": "stdout",
     "output_type": "stream",
     "text": [
      "Starting 4-th embedding cycle...\n"
     ]
    },
    {
     "name": "stdout",
     "output_type": "stream",
     "text": [
      "Starting 5-th embedding cycle...\n"
     ]
    },
    {
     "name": "stdout",
     "output_type": "stream",
     "text": [
      "Starting 6-th embedding cycle...\n"
     ]
    },
    {
     "name": "stdout",
     "output_type": "stream",
     "text": [
      "Starting 7-th embedding cycle...\n"
     ]
    },
    {
     "name": "stdout",
     "output_type": "stream",
     "text": [
      "Starting 8-th embedding cycle..."
     ]
    },
    {
     "name": "stdout",
     "output_type": "stream",
     "text": [
      "\n",
      "Starting 9-th embedding cycle...\n"
     ]
    },
    {
     "name": "stdout",
     "output_type": "stream",
     "text": [
      "Starting 10-th embedding cycle...\n"
     ]
    },
    {
     "name": "stdout",
     "output_type": "stream",
     "text": [
      "Algorithm stopped due to increasing L-values. VALID embedding achieved ✓.\n",
      "[0, 6, 3, 13, 10, 8, 18, 4, 16, 12][-0.032607980021495675, -0.040806050365270685, -0.05432797983595662, -0.049913639420123196, -0.031256302980748024, -0.02977543965408916, -0.0028614450707456496, -0.00018764033938725722, -0.004865659644619685]\n",
      "Initializing PECUZAL algorithm for multivariate input...\n",
      "Starting 1-th embedding cycle..."
     ]
    },
    {
     "name": "stdout",
     "output_type": "stream",
     "text": [
      "\n",
      "Starting 2-th embedding cycle..."
     ]
    },
    {
     "name": "stdout",
     "output_type": "stream",
     "text": [
      "\n",
      "Starting 3-th embedding cycle..."
     ]
    },
    {
     "name": "stdout",
     "output_type": "stream",
     "text": [
      "\n",
      "Starting 4-th embedding cycle...\n"
     ]
    },
    {
     "name": "stdout",
     "output_type": "stream",
     "text": [
      "Starting 5-th embedding cycle...\n"
     ]
    },
    {
     "name": "stdout",
     "output_type": "stream",
     "text": [
      "Starting 6-th embedding cycle...\n"
     ]
    },
    {
     "name": "stdout",
     "output_type": "stream",
     "text": [
      "Starting 7-th embedding cycle...\n"
     ]
    },
    {
     "name": "stdout",
     "output_type": "stream",
     "text": [
      "Starting 8-th embedding cycle...\n"
     ]
    },
    {
     "name": "stdout",
     "output_type": "stream",
     "text": [
      "Starting 9-th embedding cycle...\n"
     ]
    },
    {
     "name": "stdout",
     "output_type": "stream",
     "text": [
      "Starting 10-th embedding cycle...\n"
     ]
    },
    {
     "name": "stdout",
     "output_type": "stream",
     "text": [
      "Algorithm stopped due to increasing L-values. VALID embedding achieved ✓.\n",
      "[0, 6, 3, 13, 10, 8, 18, 4, 16, 12][-0.023677151286902398, -0.026489369873186147, -0.061239579015238126, -0.03984797206602511, -0.030252618454954666, -0.031699839407555344, -0.003236367062057599, -0.0002889307618607062, -0.002639658054904584]\n",
      "Initializing PECUZAL algorithm for multivariate input...\n"
     ]
    },
    {
     "name": "stdout",
     "output_type": "stream",
     "text": [
      "Starting 1-th embedding cycle...\n"
     ]
    },
    {
     "name": "stdout",
     "output_type": "stream",
     "text": [
      "Starting 2-th embedding cycle...\n"
     ]
    },
    {
     "name": "stdout",
     "output_type": "stream",
     "text": [
      "Starting 3-th embedding cycle...\n"
     ]
    },
    {
     "name": "stdout",
     "output_type": "stream",
     "text": [
      "Starting 4-th embedding cycle...\n"
     ]
    },
    {
     "name": "stdout",
     "output_type": "stream",
     "text": [
      "Starting 5-th embedding cycle...\n"
     ]
    },
    {
     "name": "stdout",
     "output_type": "stream",
     "text": [
      "Starting 6-th embedding cycle...\n"
     ]
    },
    {
     "name": "stdout",
     "output_type": "stream",
     "text": [
      "Starting 7-th embedding cycle...\n"
     ]
    },
    {
     "name": "stdout",
     "output_type": "stream",
     "text": [
      "Starting 8-th embedding cycle...\n"
     ]
    },
    {
     "name": "stdout",
     "output_type": "stream",
     "text": [
      "Starting 9-th embedding cycle...\n"
     ]
    },
    {
     "name": "stdout",
     "output_type": "stream",
     "text": [
      "Starting 10-th embedding cycle...\n"
     ]
    },
    {
     "name": "stdout",
     "output_type": "stream",
     "text": [
      "Algorithm stopped due to increasing L-values. VALID embedding achieved ✓.\n",
      "[0, 6, 3, 13, 10, 8, 18, 16, 12, 4][-0.056048740946602046, -0.02532022041685658, -0.059919131893142255, -0.04097803896903823, -0.03288511017520332, -0.0359845880778409, -0.0019701559063313445, -0.0011733507271583787, -0.00024384382366401947]"
     ]
    },
    {
     "name": "stdout",
     "output_type": "stream",
     "text": [
      "\n",
      "Initializing PECUZAL algorithm for multivariate input...\n",
      "Starting 1-th embedding cycle...\n"
     ]
    },
    {
     "name": "stdout",
     "output_type": "stream",
     "text": [
      "Starting 2-th embedding cycle...\n"
     ]
    },
    {
     "name": "stdout",
     "output_type": "stream",
     "text": [
      "Starting 3-th embedding cycle...\n"
     ]
    },
    {
     "name": "stdout",
     "output_type": "stream",
     "text": [
      "Starting 4-th embedding cycle..."
     ]
    },
    {
     "name": "stdout",
     "output_type": "stream",
     "text": [
      "\n",
      "Starting 5-th embedding cycle..."
     ]
    },
    {
     "name": "stdout",
     "output_type": "stream",
     "text": [
      "\n",
      "Starting 6-th embedding cycle..."
     ]
    },
    {
     "name": "stdout",
     "output_type": "stream",
     "text": [
      "\n",
      "Starting 7-th embedding cycle...\n"
     ]
    },
    {
     "name": "stdout",
     "output_type": "stream",
     "text": [
      "Starting 8-th embedding cycle...\n"
     ]
    },
    {
     "name": "stdout",
     "output_type": "stream",
     "text": [
      "Algorithm stopped due to increasing L-values. VALID embedding achieved ✓.\n",
      "[0, 6, 3, 13, 10, 8, 18, 4][-0.038805073065994525, -0.03223909542291187, -0.04939230945626658, -0.04860850683015408, -0.03275924556559073, -0.03890220090097461, -0.004529612629893098]\n"
     ]
    },
    {
     "name": "stdout",
     "output_type": "stream",
     "text": [
      "Initializing PECUZAL algorithm for multivariate input...\n",
      "Starting 1-th embedding cycle...\n"
     ]
    },
    {
     "name": "stdout",
     "output_type": "stream",
     "text": [
      "Starting 2-th embedding cycle...\n"
     ]
    },
    {
     "name": "stdout",
     "output_type": "stream",
     "text": [
      "Starting 3-th embedding cycle...\n"
     ]
    },
    {
     "name": "stdout",
     "output_type": "stream",
     "text": [
      "Starting 4-th embedding cycle...\n"
     ]
    },
    {
     "name": "stdout",
     "output_type": "stream",
     "text": [
      "Starting 5-th embedding cycle...\n"
     ]
    },
    {
     "name": "stdout",
     "output_type": "stream",
     "text": [
      "Starting 6-th embedding cycle...\n"
     ]
    },
    {
     "name": "stdout",
     "output_type": "stream",
     "text": [
      "Starting 7-th embedding cycle...\n"
     ]
    },
    {
     "name": "stdout",
     "output_type": "stream",
     "text": [
      "Starting 8-th embedding cycle...\n"
     ]
    },
    {
     "name": "stdout",
     "output_type": "stream",
     "text": [
      "Algorithm stopped due to increasing L-values. VALID embedding achieved ✓.\n",
      "[0, 6, 3, 13, 10, 8, 19, 4][-0.07968387910107558, -0.023102265164043068, -0.05647465218490378, -0.040026792047011706, -0.03157799678979864, -0.02571059919920579, -0.0033864089841996736]\n"
     ]
    },
    {
     "name": "stdout",
     "output_type": "stream",
     "text": [
      "Initializing PECUZAL algorithm for multivariate input...\n",
      "Starting 1-th embedding cycle...\n"
     ]
    },
    {
     "name": "stdout",
     "output_type": "stream",
     "text": [
      "Starting 2-th embedding cycle...\n"
     ]
    },
    {
     "name": "stdout",
     "output_type": "stream",
     "text": [
      "Starting 3-th embedding cycle..."
     ]
    },
    {
     "name": "stdout",
     "output_type": "stream",
     "text": [
      "\n",
      "Starting 4-th embedding cycle...\n"
     ]
    },
    {
     "name": "stdout",
     "output_type": "stream",
     "text": [
      "Starting 5-th embedding cycle...\n"
     ]
    },
    {
     "name": "stdout",
     "output_type": "stream",
     "text": [
      "Starting 6-th embedding cycle..."
     ]
    },
    {
     "name": "stdout",
     "output_type": "stream",
     "text": [
      "\n",
      "Starting 7-th embedding cycle...\n"
     ]
    },
    {
     "name": "stdout",
     "output_type": "stream",
     "text": [
      "Starting 8-th embedding cycle...\n"
     ]
    },
    {
     "name": "stdout",
     "output_type": "stream",
     "text": [
      "Starting 9-th embedding cycle..."
     ]
    },
    {
     "name": "stdout",
     "output_type": "stream",
     "text": [
      "\n",
      "Starting 10-th embedding cycle...\n"
     ]
    },
    {
     "name": "stdout",
     "output_type": "stream",
     "text": [
      "Starting 11-th embedding cycle...\n"
     ]
    },
    {
     "name": "stdout",
     "output_type": "stream",
     "text": [
      "Starting 12-th embedding cycle...\n"
     ]
    },
    {
     "name": "stdout",
     "output_type": "stream",
     "text": [
      "Starting 13-th embedding cycle...\n"
     ]
    },
    {
     "name": "stdout",
     "output_type": "stream",
     "text": [
      "Starting 14-th embedding cycle...\n"
     ]
    },
    {
     "name": "stdout",
     "output_type": "stream",
     "text": [
      "Algorithm stopped due to increasing L-values. VALID embedding achieved ✓.\n",
      "[0, 6, 3, 14, 10, 12, 8, 4, 39, 30, 25, 21, 17, 23][-0.026768888134912572, -0.04545272146096588, -0.03912788093391039, -0.08537390763285324, -0.033619300026954124, -0.027774952021017374, -0.0008980870292593923, -0.0016945803093521422, -0.008267208469083395, -0.010949374482570572, -0.00772097190132166, -0.003323940842779559, -0.001094364765262472]\n",
      "Initializing PECUZAL algorithm for multivariate input..."
     ]
    },
    {
     "name": "stdout",
     "output_type": "stream",
     "text": [
      "\n",
      "Starting 1-th embedding cycle...\n"
     ]
    },
    {
     "name": "stdout",
     "output_type": "stream",
     "text": [
      "Starting 2-th embedding cycle...\n"
     ]
    },
    {
     "name": "stdout",
     "output_type": "stream",
     "text": [
      "Starting 3-th embedding cycle...\n"
     ]
    },
    {
     "name": "stdout",
     "output_type": "stream",
     "text": [
      "Starting 4-th embedding cycle...\n"
     ]
    },
    {
     "name": "stdout",
     "output_type": "stream",
     "text": [
      "Starting 5-th embedding cycle...\n"
     ]
    },
    {
     "name": "stdout",
     "output_type": "stream",
     "text": [
      "Starting 6-th embedding cycle...\n"
     ]
    },
    {
     "name": "stdout",
     "output_type": "stream",
     "text": [
      "Starting 7-th embedding cycle...\n"
     ]
    },
    {
     "name": "stdout",
     "output_type": "stream",
     "text": [
      "Starting 8-th embedding cycle...\n"
     ]
    },
    {
     "name": "stdout",
     "output_type": "stream",
     "text": [
      "Starting 9-th embedding cycle...\n"
     ]
    },
    {
     "name": "stdout",
     "output_type": "stream",
     "text": [
      "Starting 10-th embedding cycle...\n"
     ]
    },
    {
     "name": "stdout",
     "output_type": "stream",
     "text": [
      "Algorithm stopped due to increasing L-values. VALID embedding achieved ✓.\n",
      "[0, 6, 3, 14, 10, 12, 8, 20, 4, 38][-0.03434750410046819, -0.03318649046430039, -0.049515037887814625, -0.07813915462082487, -0.032364869358475906, -0.025674228917043518, -0.030749967884014823, -0.000954337456817389, -0.0006658983210623137]\n"
     ]
    },
    {
     "name": "stdout",
     "output_type": "stream",
     "text": [
      "Initializing PECUZAL algorithm for multivariate input...\n",
      "Starting 1-th embedding cycle...\n"
     ]
    },
    {
     "name": "stdout",
     "output_type": "stream",
     "text": [
      "Starting 2-th embedding cycle..."
     ]
    },
    {
     "name": "stdout",
     "output_type": "stream",
     "text": [
      "\n",
      "Starting 3-th embedding cycle..."
     ]
    },
    {
     "name": "stdout",
     "output_type": "stream",
     "text": [
      "\n",
      "Starting 4-th embedding cycle...\n"
     ]
    },
    {
     "name": "stdout",
     "output_type": "stream",
     "text": [
      "Starting 5-th embedding cycle...\n"
     ]
    },
    {
     "name": "stdout",
     "output_type": "stream",
     "text": [
      "Starting 6-th embedding cycle...\n"
     ]
    },
    {
     "name": "stdout",
     "output_type": "stream",
     "text": [
      "Starting 7-th embedding cycle...\n"
     ]
    },
    {
     "name": "stdout",
     "output_type": "stream",
     "text": [
      "Starting 8-th embedding cycle...\n"
     ]
    },
    {
     "name": "stdout",
     "output_type": "stream",
     "text": [
      "Starting 9-th embedding cycle...\n"
     ]
    },
    {
     "name": "stdout",
     "output_type": "stream",
     "text": [
      "Starting 10-th embedding cycle...\n"
     ]
    },
    {
     "name": "stdout",
     "output_type": "stream",
     "text": [
      "Starting 11-th embedding cycle...\n"
     ]
    },
    {
     "name": "stdout",
     "output_type": "stream",
     "text": [
      "Starting 12-th embedding cycle...\n"
     ]
    },
    {
     "name": "stdout",
     "output_type": "stream",
     "text": [
      "Starting 13-th embedding cycle...\n"
     ]
    },
    {
     "name": "stdout",
     "output_type": "stream",
     "text": [
      "Starting 14-th embedding cycle...\n"
     ]
    },
    {
     "name": "stdout",
     "output_type": "stream",
     "text": [
      "Starting 15-th embedding cycle...\n"
     ]
    },
    {
     "name": "stdout",
     "output_type": "stream",
     "text": [
      "Algorithm stopped due to increasing L-values. VALID embedding achieved ✓.\n",
      "[0, 6, 3, 14, 10, 12, 8, 20, 4, 30, 26, 28, 17, 44, 37][-0.05524061893427598, -0.03790540818832283, -0.048884461185125905, -0.0722864277032918, -0.033668707059124836, -0.02334593096225207, -0.030442238948335004, -0.0016994838636102405, -0.002545775165798528, -0.0035549706332880736, -0.004692543937358837, -0.0017349577240698254, -0.000756834291904207, -0.00039193944455356844]\n"
     ]
    },
    {
     "name": "stdout",
     "output_type": "stream",
     "text": [
      "Initializing PECUZAL algorithm for multivariate input...\n",
      "Starting 1-th embedding cycle..."
     ]
    },
    {
     "name": "stdout",
     "output_type": "stream",
     "text": [
      "\n",
      "Starting 2-th embedding cycle...\n"
     ]
    },
    {
     "name": "stdout",
     "output_type": "stream",
     "text": [
      "Starting 3-th embedding cycle...\n"
     ]
    },
    {
     "name": "stdout",
     "output_type": "stream",
     "text": [
      "Starting 4-th embedding cycle...\n"
     ]
    },
    {
     "name": "stdout",
     "output_type": "stream",
     "text": [
      "Starting 5-th embedding cycle..."
     ]
    },
    {
     "name": "stdout",
     "output_type": "stream",
     "text": [
      "\n",
      "Starting 6-th embedding cycle...\n"
     ]
    },
    {
     "name": "stdout",
     "output_type": "stream",
     "text": [
      "Starting 7-th embedding cycle...\n"
     ]
    },
    {
     "name": "stdout",
     "output_type": "stream",
     "text": [
      "Starting 8-th embedding cycle...\n"
     ]
    },
    {
     "name": "stdout",
     "output_type": "stream",
     "text": [
      "Algorithm stopped due to increasing L-values. VALID embedding achieved ✓.\n",
      "[0, 6, 3, 13, 10, 8, 18, 4][-0.05151563512393503, -0.03250544240737804, -0.06518655079388824, -0.043276059972369996, -0.03305281488388734, -0.032102051177354526, -0.002954659026803197]"
     ]
    },
    {
     "name": "stdout",
     "output_type": "stream",
     "text": [
      "\n",
      "Initializing PECUZAL algorithm for multivariate input...\n",
      "Starting 1-th embedding cycle...\n"
     ]
    },
    {
     "name": "stdout",
     "output_type": "stream",
     "text": [
      "Starting 2-th embedding cycle...\n"
     ]
    },
    {
     "name": "stdout",
     "output_type": "stream",
     "text": [
      "Starting 3-th embedding cycle...\n"
     ]
    },
    {
     "name": "stdout",
     "output_type": "stream",
     "text": [
      "Starting 4-th embedding cycle...\n"
     ]
    },
    {
     "name": "stdout",
     "output_type": "stream",
     "text": [
      "Starting 5-th embedding cycle...\n"
     ]
    },
    {
     "name": "stdout",
     "output_type": "stream",
     "text": [
      "Starting 6-th embedding cycle...\n"
     ]
    },
    {
     "name": "stdout",
     "output_type": "stream",
     "text": [
      "Starting 7-th embedding cycle...\n"
     ]
    },
    {
     "name": "stdout",
     "output_type": "stream",
     "text": [
      "Starting 8-th embedding cycle...\n"
     ]
    },
    {
     "name": "stdout",
     "output_type": "stream",
     "text": [
      "Algorithm stopped due to increasing L-values. VALID embedding achieved ✓.\n",
      "[0, 6, 3, 13, 10, 8, 18, 4][-0.05413323470234549, -0.0330014073519746, -0.03988753199590171, -0.047112279231098037, -0.03264103963558296, -0.031266615182440324, -0.003083132303787456]\n"
     ]
    },
    {
     "name": "stdout",
     "output_type": "stream",
     "text": [
      "Initializing PECUZAL algorithm for multivariate input...\n",
      "Starting 1-th embedding cycle...\n"
     ]
    },
    {
     "name": "stdout",
     "output_type": "stream",
     "text": [
      "Starting 2-th embedding cycle...\n"
     ]
    },
    {
     "name": "stdout",
     "output_type": "stream",
     "text": [
      "Starting 3-th embedding cycle...\n"
     ]
    },
    {
     "name": "stdout",
     "output_type": "stream",
     "text": [
      "Starting 4-th embedding cycle...\n"
     ]
    },
    {
     "name": "stdout",
     "output_type": "stream",
     "text": [
      "Starting 5-th embedding cycle...\n"
     ]
    },
    {
     "name": "stdout",
     "output_type": "stream",
     "text": [
      "Starting 6-th embedding cycle...\n"
     ]
    },
    {
     "name": "stdout",
     "output_type": "stream",
     "text": [
      "Starting 7-th embedding cycle...\n"
     ]
    },
    {
     "name": "stdout",
     "output_type": "stream",
     "text": [
      "Starting 8-th embedding cycle...\n"
     ]
    },
    {
     "name": "stdout",
     "output_type": "stream",
     "text": [
      "Starting 9-th embedding cycle...\n"
     ]
    },
    {
     "name": "stdout",
     "output_type": "stream",
     "text": [
      "Starting 10-th embedding cycle...\n"
     ]
    },
    {
     "name": "stdout",
     "output_type": "stream",
     "text": [
      "Starting 11-th embedding cycle...\n"
     ]
    },
    {
     "name": "stdout",
     "output_type": "stream",
     "text": [
      "Starting 12-th embedding cycle...\n"
     ]
    },
    {
     "name": "stdout",
     "output_type": "stream",
     "text": [
      "Starting 13-th embedding cycle...\n"
     ]
    },
    {
     "name": "stdout",
     "output_type": "stream",
     "text": [
      "Starting 14-th embedding cycle...\n"
     ]
    },
    {
     "name": "stdout",
     "output_type": "stream",
     "text": [
      "Starting 15-th embedding cycle...\n"
     ]
    },
    {
     "name": "stdout",
     "output_type": "stream",
     "text": [
      "Algorithm stopped due to increasing L-values. VALID embedding achieved ✓.\n",
      "[0, 6, 3, 14, 10, 12, 8, 4, 31, 22, 18, 16, 20, 48, 27][-0.04001127299689358, -0.04661438851988081, -0.04667689326735598, -0.08196167526368231, -0.03312890269274665, -0.026898509832644024, -0.0033329173716029614, -0.0032343499722914046, -0.02140417010993013, -0.022259114232547658, -0.005100073281418843, -0.00209153161485065, -0.003612720880677933, -0.0014178621389596413]\n"
     ]
    },
    {
     "name": "stdout",
     "output_type": "stream",
     "text": [
      "Initializing PECUZAL algorithm for multivariate input...\n",
      "Starting 1-th embedding cycle...\n"
     ]
    },
    {
     "name": "stdout",
     "output_type": "stream",
     "text": [
      "Starting 2-th embedding cycle...\n"
     ]
    },
    {
     "name": "stdout",
     "output_type": "stream",
     "text": [
      "Starting 3-th embedding cycle..."
     ]
    },
    {
     "name": "stdout",
     "output_type": "stream",
     "text": [
      "\n",
      "Starting 4-th embedding cycle...\n"
     ]
    },
    {
     "name": "stdout",
     "output_type": "stream",
     "text": [
      "Starting 5-th embedding cycle..."
     ]
    },
    {
     "name": "stdout",
     "output_type": "stream",
     "text": [
      "\n",
      "Starting 6-th embedding cycle...\n"
     ]
    },
    {
     "name": "stdout",
     "output_type": "stream",
     "text": [
      "Starting 7-th embedding cycle...\n"
     ]
    },
    {
     "name": "stdout",
     "output_type": "stream",
     "text": [
      "Starting 8-th embedding cycle...\n"
     ]
    },
    {
     "name": "stdout",
     "output_type": "stream",
     "text": [
      "Algorithm stopped due to increasing L-values. VALID embedding achieved ✓.\n",
      "[0, 6, 3, 12, 9, 17, 15, 13][-0.04241278805855933, -0.03013566068226667, -0.056697092040268446, -0.016920839360389878, -0.036449830897723204, -0.007502675912856749, -0.004752040435620053]"
     ]
    },
    {
     "name": "stdout",
     "output_type": "stream",
     "text": [
      "\n",
      "Initializing PECUZAL algorithm for multivariate input...\n",
      "Starting 1-th embedding cycle...\n"
     ]
    },
    {
     "name": "stdout",
     "output_type": "stream",
     "text": [
      "Starting 2-th embedding cycle...\n"
     ]
    },
    {
     "name": "stdout",
     "output_type": "stream",
     "text": [
      "Starting 3-th embedding cycle...\n"
     ]
    },
    {
     "name": "stdout",
     "output_type": "stream",
     "text": [
      "Starting 4-th embedding cycle...\n"
     ]
    },
    {
     "name": "stdout",
     "output_type": "stream",
     "text": [
      "Starting 5-th embedding cycle...\n"
     ]
    },
    {
     "name": "stdout",
     "output_type": "stream",
     "text": [
      "Starting 6-th embedding cycle...\n"
     ]
    },
    {
     "name": "stdout",
     "output_type": "stream",
     "text": [
      "Starting 7-th embedding cycle...\n"
     ]
    },
    {
     "name": "stdout",
     "output_type": "stream",
     "text": [
      "Starting 8-th embedding cycle...\n"
     ]
    },
    {
     "name": "stdout",
     "output_type": "stream",
     "text": [
      "Algorithm stopped due to increasing L-values. VALID embedding achieved ✓.\n",
      "[0, 6, 3, 13, 10, 8, 19, 4][-0.05876472817522327, -0.03678689312538291, -0.05314228298526929, -0.03793884996338848, -0.031740459041079666, -0.021292118451207938, -0.004142937134616248]"
     ]
    },
    {
     "name": "stdout",
     "output_type": "stream",
     "text": [
      "\n",
      "Initializing PECUZAL algorithm for multivariate input...\n",
      "Starting 1-th embedding cycle..."
     ]
    },
    {
     "name": "stdout",
     "output_type": "stream",
     "text": [
      "\n",
      "Starting 2-th embedding cycle...\n"
     ]
    },
    {
     "name": "stdout",
     "output_type": "stream",
     "text": [
      "Starting 3-th embedding cycle...\n"
     ]
    },
    {
     "name": "stdout",
     "output_type": "stream",
     "text": [
      "Starting 4-th embedding cycle...\n"
     ]
    },
    {
     "name": "stdout",
     "output_type": "stream",
     "text": [
      "Starting 5-th embedding cycle...\n"
     ]
    },
    {
     "name": "stdout",
     "output_type": "stream",
     "text": [
      "Starting 6-th embedding cycle...\n"
     ]
    },
    {
     "name": "stdout",
     "output_type": "stream",
     "text": [
      "Starting 7-th embedding cycle...\n"
     ]
    },
    {
     "name": "stdout",
     "output_type": "stream",
     "text": [
      "Starting 8-th embedding cycle...\n"
     ]
    },
    {
     "name": "stdout",
     "output_type": "stream",
     "text": [
      "Algorithm stopped due to increasing L-values. VALID embedding achieved ✓.\n",
      "[0, 6, 3, 12, 9, 17, 15, 13][-0.04782271635834377, -0.03152898835783244, -0.0570750731636406, -0.017942731679276486, -0.03271881843482294, -0.008217780988984347, -0.0007889633415978092]\n"
     ]
    },
    {
     "name": "stdout",
     "output_type": "stream",
     "text": [
      "Initializing PECUZAL algorithm for multivariate input...\n",
      "Starting 1-th embedding cycle...\n"
     ]
    },
    {
     "name": "stdout",
     "output_type": "stream",
     "text": [
      "Starting 2-th embedding cycle...\n"
     ]
    },
    {
     "name": "stdout",
     "output_type": "stream",
     "text": [
      "Starting 3-th embedding cycle...\n"
     ]
    },
    {
     "name": "stdout",
     "output_type": "stream",
     "text": [
      "Starting 4-th embedding cycle...\n"
     ]
    },
    {
     "name": "stdout",
     "output_type": "stream",
     "text": [
      "Starting 5-th embedding cycle...\n"
     ]
    },
    {
     "name": "stdout",
     "output_type": "stream",
     "text": [
      "Starting 6-th embedding cycle...\n"
     ]
    },
    {
     "name": "stdout",
     "output_type": "stream",
     "text": [
      "Starting 7-th embedding cycle...\n"
     ]
    },
    {
     "name": "stdout",
     "output_type": "stream",
     "text": [
      "Starting 8-th embedding cycle...\n"
     ]
    },
    {
     "name": "stdout",
     "output_type": "stream",
     "text": [
      "Starting 9-th embedding cycle...\n"
     ]
    },
    {
     "name": "stdout",
     "output_type": "stream",
     "text": [
      "Starting 10-th embedding cycle...\n"
     ]
    },
    {
     "name": "stdout",
     "output_type": "stream",
     "text": [
      "Algorithm stopped due to increasing L-values. VALID embedding achieved ✓.\n",
      "[0, 6, 3, 13, 10, 8, 18, 16, 12, 4][-0.05015656185665887, -0.04236502345717327, -0.05563412582663927, -0.04034579323769641, -0.03263983608189744, -0.032947049281887644, -0.0028920678787842935, -0.0027628012110666456, -3.105097607658536e-5]"
     ]
    },
    {
     "name": "stdout",
     "output_type": "stream",
     "text": [
      "\n",
      "Initializing PECUZAL algorithm for multivariate input...\n",
      "Starting 1-th embedding cycle...\n"
     ]
    },
    {
     "name": "stdout",
     "output_type": "stream",
     "text": [
      "Starting 2-th embedding cycle...\n"
     ]
    },
    {
     "name": "stdout",
     "output_type": "stream",
     "text": [
      "Starting 3-th embedding cycle...\n"
     ]
    },
    {
     "name": "stdout",
     "output_type": "stream",
     "text": [
      "Starting 4-th embedding cycle..."
     ]
    },
    {
     "name": "stdout",
     "output_type": "stream",
     "text": [
      "\n",
      "Starting 5-th embedding cycle...\n"
     ]
    },
    {
     "name": "stdout",
     "output_type": "stream",
     "text": [
      "Starting 6-th embedding cycle...\n"
     ]
    },
    {
     "name": "stdout",
     "output_type": "stream",
     "text": [
      "Starting 7-th embedding cycle...\n"
     ]
    },
    {
     "name": "stdout",
     "output_type": "stream",
     "text": [
      "Starting 8-th embedding cycle...\n"
     ]
    },
    {
     "name": "stdout",
     "output_type": "stream",
     "text": [
      "Starting 9-th embedding cycle...\n"
     ]
    },
    {
     "name": "stdout",
     "output_type": "stream",
     "text": [
      "Starting 10-th embedding cycle...\n"
     ]
    },
    {
     "name": "stdout",
     "output_type": "stream",
     "text": [
      "Starting 11-th embedding cycle...\n"
     ]
    },
    {
     "name": "stdout",
     "output_type": "stream",
     "text": [
      "Starting 12-th embedding cycle...\n"
     ]
    },
    {
     "name": "stdout",
     "output_type": "stream",
     "text": [
      "Algorithm stopped due to increasing L-values. VALID embedding achieved ✓.\n",
      "[0, 6, 3, 13, 10, 8, 18, 16, 26, 22, 24, 20][-0.02445442641423584, -0.036236682387268015, -0.05195786381758516, -0.05093806286773159, -0.03240082789260476, -0.02934972713907999, -0.0036185734806174763, -0.00646270535201449, -0.015810660228582907, -0.006913716082291146, -0.003990729810121496]\n"
     ]
    },
    {
     "name": "stdout",
     "output_type": "stream",
     "text": [
      "Initializing PECUZAL algorithm for multivariate input...\n",
      "Starting 1-th embedding cycle...\n"
     ]
    },
    {
     "name": "stdout",
     "output_type": "stream",
     "text": [
      "Starting 2-th embedding cycle...\n"
     ]
    },
    {
     "name": "stdout",
     "output_type": "stream",
     "text": [
      "Starting 3-th embedding cycle...\n"
     ]
    },
    {
     "name": "stdout",
     "output_type": "stream",
     "text": [
      "Starting 4-th embedding cycle...\n"
     ]
    },
    {
     "name": "stdout",
     "output_type": "stream",
     "text": [
      "Starting 5-th embedding cycle...\n"
     ]
    },
    {
     "name": "stdout",
     "output_type": "stream",
     "text": [
      "Starting 6-th embedding cycle...\n"
     ]
    },
    {
     "name": "stdout",
     "output_type": "stream",
     "text": [
      "Starting 7-th embedding cycle...\n"
     ]
    },
    {
     "name": "stdout",
     "output_type": "stream",
     "text": [
      "Starting 8-th embedding cycle...\n"
     ]
    },
    {
     "name": "stdout",
     "output_type": "stream",
     "text": [
      "Starting 9-th embedding cycle...\n"
     ]
    },
    {
     "name": "stdout",
     "output_type": "stream",
     "text": [
      "Starting 10-th embedding cycle...\n"
     ]
    },
    {
     "name": "stdout",
     "output_type": "stream",
     "text": [
      "Algorithm stopped due to increasing L-values. VALID embedding achieved ✓.\n",
      "[0, 6, 3, 13, 10, 8, 18, 4, 16, 12][-0.041738596042307785, -0.037861216983182316, -0.05213174049606535, -0.04820325594546543, -0.029655107418396554, -0.03589285614881006, -0.0028008178062701727, -0.00022871464045204348, -0.0018800358024970432]\n"
     ]
    },
    {
     "name": "stdout",
     "output_type": "stream",
     "text": [
      "Initializing PECUZAL algorithm for multivariate input...\n",
      "Starting 1-th embedding cycle...\n"
     ]
    },
    {
     "name": "stdout",
     "output_type": "stream",
     "text": [
      "Starting 2-th embedding cycle...\n"
     ]
    },
    {
     "name": "stdout",
     "output_type": "stream",
     "text": [
      "Starting 3-th embedding cycle...\n"
     ]
    },
    {
     "name": "stdout",
     "output_type": "stream",
     "text": [
      "Starting 4-th embedding cycle...\n"
     ]
    },
    {
     "name": "stdout",
     "output_type": "stream",
     "text": [
      "Starting 5-th embedding cycle...\n"
     ]
    },
    {
     "name": "stdout",
     "output_type": "stream",
     "text": [
      "Starting 6-th embedding cycle...\n"
     ]
    },
    {
     "name": "stdout",
     "output_type": "stream",
     "text": [
      "Starting 7-th embedding cycle...\n"
     ]
    },
    {
     "name": "stdout",
     "output_type": "stream",
     "text": [
      "Starting 8-th embedding cycle...\n"
     ]
    },
    {
     "name": "stdout",
     "output_type": "stream",
     "text": [
      "Algorithm stopped due to increasing L-values. VALID embedding achieved ✓.\n",
      "[0, 6, 3, 13, 10, 8, 18, 4][-0.022587603635825876, -0.033835194517292444, -0.049128277970122945, -0.04155642116888322, -0.030416427740703134, -0.030831696379676546, -0.004097183309212132]\n"
     ]
    },
    {
     "name": "stdout",
     "output_type": "stream",
     "text": [
      "Initializing PECUZAL algorithm for multivariate input...\n",
      "Starting 1-th embedding cycle...\n"
     ]
    },
    {
     "name": "stdout",
     "output_type": "stream",
     "text": [
      "Starting 2-th embedding cycle...\n"
     ]
    },
    {
     "name": "stdout",
     "output_type": "stream",
     "text": [
      "Starting 3-th embedding cycle...\n"
     ]
    },
    {
     "name": "stdout",
     "output_type": "stream",
     "text": [
      "Starting 4-th embedding cycle...\n"
     ]
    },
    {
     "name": "stdout",
     "output_type": "stream",
     "text": [
      "Starting 5-th embedding cycle...\n"
     ]
    },
    {
     "name": "stdout",
     "output_type": "stream",
     "text": [
      "Starting 6-th embedding cycle...\n"
     ]
    },
    {
     "name": "stdout",
     "output_type": "stream",
     "text": [
      "Starting 7-th embedding cycle...\n"
     ]
    },
    {
     "name": "stdout",
     "output_type": "stream",
     "text": [
      "Starting 8-th embedding cycle...\n"
     ]
    },
    {
     "name": "stdout",
     "output_type": "stream",
     "text": [
      "Starting 9-th embedding cycle...\n"
     ]
    },
    {
     "name": "stdout",
     "output_type": "stream",
     "text": [
      "Starting 10-th embedding cycle..."
     ]
    },
    {
     "name": "stdout",
     "output_type": "stream",
     "text": [
      "\n",
      "Starting 11-th embedding cycle...\n",
      "Starting 12-th embedding cycle..."
     ]
    },
    {
     "name": "stdout",
     "output_type": "stream",
     "text": [
      "\n"
     ]
    },
    {
     "name": "stdout",
     "output_type": "stream",
     "text": [
      "Starting 13-th embedding cycle...\n"
     ]
    },
    {
     "name": "stdout",
     "output_type": "stream",
     "text": [
      "Starting 14-th embedding cycle...\n"
     ]
    },
    {
     "name": "stdout",
     "output_type": "stream",
     "text": [
      "Starting 15-th embedding cycle...\n"
     ]
    },
    {
     "name": "stdout",
     "output_type": "stream",
     "text": [
      "Algorithm stopped due to increasing L-values. VALID embedding achieved ✓.\n",
      "[0, 6, 3, 14, 10, 12, 8, 4, 38, 30, 26, 22, 18, 28, 34][-0.0765334524170748, -0.03536118323121998, -0.04939788023952196, -0.08019230772439567, -0.03131590421175673, -0.026823549073244884, -0.0016661769569189522, -0.0036640817833800965, -0.009422567698553319, -0.015293592529299502, -0.01770825343935267, -0.009275914089030737, -0.001615382588728377, -0.004972168680994989]\n"
     ]
    },
    {
     "name": "stdout",
     "output_type": "stream",
     "text": [
      "Initializing PECUZAL algorithm for multivariate input...\n",
      "Starting 1-th embedding cycle...\n"
     ]
    },
    {
     "name": "stdout",
     "output_type": "stream",
     "text": [
      "Starting 2-th embedding cycle..."
     ]
    },
    {
     "name": "stdout",
     "output_type": "stream",
     "text": [
      "\n",
      "Starting 3-th embedding cycle..."
     ]
    },
    {
     "name": "stdout",
     "output_type": "stream",
     "text": [
      "\n",
      "Starting 4-th embedding cycle..."
     ]
    },
    {
     "name": "stdout",
     "output_type": "stream",
     "text": [
      "\n",
      "Starting 5-th embedding cycle...\n"
     ]
    },
    {
     "name": "stdout",
     "output_type": "stream",
     "text": [
      "Starting 6-th embedding cycle...\n"
     ]
    },
    {
     "name": "stdout",
     "output_type": "stream",
     "text": [
      "Starting 7-th embedding cycle...\n"
     ]
    },
    {
     "name": "stdout",
     "output_type": "stream",
     "text": [
      "Starting 8-th embedding cycle...\n"
     ]
    },
    {
     "name": "stdout",
     "output_type": "stream",
     "text": [
      "Starting 9-th embedding cycle...\n"
     ]
    },
    {
     "name": "stdout",
     "output_type": "stream",
     "text": [
      "Starting 10-th embedding cycle...\n"
     ]
    },
    {
     "name": "stdout",
     "output_type": "stream",
     "text": [
      "Starting 11-th embedding cycle...\n"
     ]
    },
    {
     "name": "stdout",
     "output_type": "stream",
     "text": [
      "Starting 12-th embedding cycle...\n"
     ]
    },
    {
     "name": "stdout",
     "output_type": "stream",
     "text": [
      "Starting 13-th embedding cycle...\n"
     ]
    },
    {
     "name": "stdout",
     "output_type": "stream",
     "text": [
      "Algorithm stopped due to increasing L-values. VALID embedding achieved ✓.\n",
      "[0, 6, 3, 14, 10, 12, 8, 4, 29, 25, 20, 27, 17][-0.06553881117654344, -0.03726086317084462, -0.051809977629449104, -0.07601133407759467, -0.032513660380472875, -0.025471148302974922, -0.005038272305529445, -0.006168566084236417, -0.007127669883946537, -0.026776503200190614, -0.0038491147015145694, -0.0040810597311313115]\n"
     ]
    },
    {
     "name": "stdout",
     "output_type": "stream",
     "text": [
      "Initializing PECUZAL algorithm for multivariate input...\n",
      "Starting 1-th embedding cycle...\n"
     ]
    },
    {
     "name": "stdout",
     "output_type": "stream",
     "text": [
      "Starting 2-th embedding cycle...\n"
     ]
    },
    {
     "name": "stdout",
     "output_type": "stream",
     "text": [
      "Starting 3-th embedding cycle...\n"
     ]
    },
    {
     "name": "stdout",
     "output_type": "stream",
     "text": [
      "Starting 4-th embedding cycle...\n",
      "Starting 5-th embedding cycle..."
     ]
    },
    {
     "name": "stdout",
     "output_type": "stream",
     "text": [
      "\n"
     ]
    },
    {
     "name": "stdout",
     "output_type": "stream",
     "text": [
      "Starting 6-th embedding cycle...\n"
     ]
    },
    {
     "name": "stdout",
     "output_type": "stream",
     "text": [
      "Starting 7-th embedding cycle...\n"
     ]
    },
    {
     "name": "stdout",
     "output_type": "stream",
     "text": [
      "Starting 8-th embedding cycle...\n"
     ]
    },
    {
     "name": "stdout",
     "output_type": "stream",
     "text": [
      "Starting 9-th embedding cycle..."
     ]
    },
    {
     "name": "stdout",
     "output_type": "stream",
     "text": [
      "\n",
      "Starting 10-th embedding cycle...\n"
     ]
    },
    {
     "name": "stdout",
     "output_type": "stream",
     "text": [
      "Starting 11-th embedding cycle...\n"
     ]
    },
    {
     "name": "stdout",
     "output_type": "stream",
     "text": [
      "Starting 12-th embedding cycle...\n"
     ]
    },
    {
     "name": "stdout",
     "output_type": "stream",
     "text": [
      "Starting 13-th embedding cycle...\n"
     ]
    },
    {
     "name": "stdout",
     "output_type": "stream",
     "text": [
      "Starting 14-th embedding cycle...\n"
     ]
    },
    {
     "name": "stdout",
     "output_type": "stream",
     "text": [
      "Starting 15-th embedding cycle...\n"
     ]
    },
    {
     "name": "stdout",
     "output_type": "stream",
     "text": [
      "Starting 16-th embedding cycle...\n"
     ]
    },
    {
     "name": "stdout",
     "output_type": "stream",
     "text": [
      "Algorithm stopped due to increasing L-values. VALID embedding achieved ✓.\n",
      "[0, 6, 3, 13, 10, 8, 18, 4, 16, 12, 35, 43, 39, 31, 27, 23][-0.03387118893807814, -0.033564221820263224, -0.041499780708390284, -0.04295997898833892, -0.030498557615686622, -0.03228109020881874, -0.00460620270704562, -0.0017154421565073463, -0.0022403687154669005, -0.002508508473727647, -0.0028388522694628437, -0.0065606904080227416, -0.004999330209721944, -0.009422785467685602, -0.0016725826516814368]\n"
     ]
    },
    {
     "name": "stdout",
     "output_type": "stream",
     "text": [
      "Initializing PECUZAL algorithm for multivariate input...\n",
      "Starting 1-th embedding cycle...\n"
     ]
    },
    {
     "name": "stdout",
     "output_type": "stream",
     "text": [
      "Starting 2-th embedding cycle...\n"
     ]
    },
    {
     "name": "stdout",
     "output_type": "stream",
     "text": [
      "Starting 3-th embedding cycle...\n"
     ]
    },
    {
     "name": "stdout",
     "output_type": "stream",
     "text": [
      "Starting 4-th embedding cycle...\n"
     ]
    },
    {
     "name": "stdout",
     "output_type": "stream",
     "text": [
      "Starting 5-th embedding cycle...\n"
     ]
    },
    {
     "name": "stdout",
     "output_type": "stream",
     "text": [
      "Starting 6-th embedding cycle...\n"
     ]
    },
    {
     "name": "stdout",
     "output_type": "stream",
     "text": [
      "Starting 7-th embedding cycle...\n"
     ]
    },
    {
     "name": "stdout",
     "output_type": "stream",
     "text": [
      "Algorithm stopped due to increasing L-values. VALID embedding achieved ✓.\n",
      "[0, 6, 3, 12, 9, 17, 14][-0.029547566879550208, -0.04303544417528046, -0.05368326559812881, -0.014542802483167527, -0.03635017569303117, -0.008392748973953257]\n"
     ]
    },
    {
     "name": "stdout",
     "output_type": "stream",
     "text": [
      "Initializing PECUZAL algorithm for multivariate input...\n",
      "Starting 1-th embedding cycle...\n"
     ]
    },
    {
     "name": "stdout",
     "output_type": "stream",
     "text": [
      "Starting 2-th embedding cycle...\n"
     ]
    },
    {
     "name": "stdout",
     "output_type": "stream",
     "text": [
      "Starting 3-th embedding cycle...\n"
     ]
    },
    {
     "name": "stdout",
     "output_type": "stream",
     "text": [
      "Starting 4-th embedding cycle...\n"
     ]
    },
    {
     "name": "stdout",
     "output_type": "stream",
     "text": [
      "Starting 5-th embedding cycle...\n"
     ]
    },
    {
     "name": "stdout",
     "output_type": "stream",
     "text": [
      "Starting 6-th embedding cycle..."
     ]
    },
    {
     "name": "stdout",
     "output_type": "stream",
     "text": [
      "\n",
      "Starting 7-th embedding cycle...\n"
     ]
    },
    {
     "name": "stdout",
     "output_type": "stream",
     "text": [
      "Starting 8-th embedding cycle...\n"
     ]
    },
    {
     "name": "stdout",
     "output_type": "stream",
     "text": [
      "Starting 9-th embedding cycle...\n"
     ]
    },
    {
     "name": "stdout",
     "output_type": "stream",
     "text": [
      "Starting 10-th embedding cycle...\n"
     ]
    },
    {
     "name": "stdout",
     "output_type": "stream",
     "text": [
      "Starting 11-th embedding cycle...\n"
     ]
    },
    {
     "name": "stdout",
     "output_type": "stream",
     "text": [
      "Starting 12-th embedding cycle...\n"
     ]
    },
    {
     "name": "stdout",
     "output_type": "stream",
     "text": [
      "Starting 13-th embedding cycle...\n"
     ]
    },
    {
     "name": "stdout",
     "output_type": "stream",
     "text": [
      "Starting 14-th embedding cycle...\n"
     ]
    },
    {
     "name": "stdout",
     "output_type": "stream",
     "text": [
      "Algorithm stopped due to increasing L-values. VALID embedding achieved ✓.\n",
      "[0, 6, 3, 13, 10, 8, 18, 4, 16, 12, 33, 29, 25, 21][-0.10207009147132845, -0.03334945688278587, -0.04440813085575445, -0.04666321228605627, -0.03146852581883808, -0.03080362761241469, -0.004832483937631471, -0.00197227116160667, -0.0021879322347251873, -0.00211114402100121, -0.0042017458264521634, -0.004575256599610719, -0.00407349365025355]\n"
     ]
    },
    {
     "name": "stdout",
     "output_type": "stream",
     "text": [
      "Initializing PECUZAL algorithm for multivariate input...\n",
      "Starting 1-th embedding cycle...\n"
     ]
    },
    {
     "name": "stdout",
     "output_type": "stream",
     "text": [
      "Starting 2-th embedding cycle...\n"
     ]
    },
    {
     "name": "stdout",
     "output_type": "stream",
     "text": [
      "Starting 3-th embedding cycle...\n"
     ]
    },
    {
     "name": "stdout",
     "output_type": "stream",
     "text": [
      "Starting 4-th embedding cycle..."
     ]
    },
    {
     "name": "stdout",
     "output_type": "stream",
     "text": [
      "\n",
      "Starting 5-th embedding cycle...\n"
     ]
    },
    {
     "name": "stdout",
     "output_type": "stream",
     "text": [
      "Starting 6-th embedding cycle...\n"
     ]
    },
    {
     "name": "stdout",
     "output_type": "stream",
     "text": [
      "Starting 7-th embedding cycle...\n"
     ]
    },
    {
     "name": "stdout",
     "output_type": "stream",
     "text": [
      "Starting 8-th embedding cycle...\n"
     ]
    },
    {
     "name": "stdout",
     "output_type": "stream",
     "text": [
      "Starting 9-th embedding cycle...\n"
     ]
    },
    {
     "name": "stdout",
     "output_type": "stream",
     "text": [
      "Starting 10-th embedding cycle...\n"
     ]
    },
    {
     "name": "stdout",
     "output_type": "stream",
     "text": [
      "Starting 11-th embedding cycle...\n"
     ]
    },
    {
     "name": "stdout",
     "output_type": "stream",
     "text": [
      "Starting 12-th embedding cycle...\n"
     ]
    },
    {
     "name": "stdout",
     "output_type": "stream",
     "text": [
      "Starting 13-th embedding cycle...\n"
     ]
    },
    {
     "name": "stdout",
     "output_type": "stream",
     "text": [
      "Starting 14-th embedding cycle...\n"
     ]
    },
    {
     "name": "stdout",
     "output_type": "stream",
     "text": [
      "Algorithm stopped due to increasing L-values. VALID embedding achieved ✓.\n",
      "[0, 6, 3, 14, 10, 12, 8, 4, 31, 19, 27, 29, 23, 17][-0.0351615320791748, -0.03778751214939843, -0.04892712166727798, -0.07884012323441647, -0.033352750841590756, -0.027077708005024487, -0.0013216169076568918, -0.0025210190489383943, -0.031729749122446804, -0.00047749265426590484, -0.006881262802943225, -0.0028289363825158564, -0.0005950529738190217]\n"
     ]
    },
    {
     "name": "stdout",
     "output_type": "stream",
     "text": [
      "Initializing PECUZAL algorithm for multivariate input...\n",
      "Starting 1-th embedding cycle...\n"
     ]
    },
    {
     "name": "stdout",
     "output_type": "stream",
     "text": [
      "Starting 2-th embedding cycle..."
     ]
    },
    {
     "name": "stdout",
     "output_type": "stream",
     "text": [
      "\n",
      "Starting 3-th embedding cycle...\n"
     ]
    },
    {
     "name": "stdout",
     "output_type": "stream",
     "text": [
      "Starting 4-th embedding cycle...\n"
     ]
    },
    {
     "name": "stdout",
     "output_type": "stream",
     "text": [
      "Starting 5-th embedding cycle...\n"
     ]
    },
    {
     "name": "stdout",
     "output_type": "stream",
     "text": [
      "Starting 6-th embedding cycle...\n"
     ]
    },
    {
     "name": "stdout",
     "output_type": "stream",
     "text": [
      "Starting 7-th embedding cycle...\n"
     ]
    },
    {
     "name": "stdout",
     "output_type": "stream",
     "text": [
      "Starting 8-th embedding cycle..."
     ]
    },
    {
     "name": "stdout",
     "output_type": "stream",
     "text": [
      "\n",
      "Algorithm stopped due to increasing L-values. VALID embedding achieved ✓.\n",
      "[0, 6, 3, 12, 9, 17, 15, 13][-0.03310170928445205, -0.041554606764578506, -0.06080741609390724, -0.015813436206677245, -0.03328818888889267, -0.009258846199934417, -0.0032747814121271146]\n"
     ]
    },
    {
     "name": "stdout",
     "output_type": "stream",
     "text": [
      "Initializing PECUZAL algorithm for multivariate input...\n",
      "Starting 1-th embedding cycle...\n"
     ]
    },
    {
     "name": "stdout",
     "output_type": "stream",
     "text": [
      "Starting 2-th embedding cycle...\n"
     ]
    },
    {
     "name": "stdout",
     "output_type": "stream",
     "text": [
      "Starting 3-th embedding cycle...\n"
     ]
    },
    {
     "name": "stdout",
     "output_type": "stream",
     "text": [
      "Starting 4-th embedding cycle..."
     ]
    },
    {
     "name": "stdout",
     "output_type": "stream",
     "text": [
      "\n",
      "Starting 5-th embedding cycle..."
     ]
    },
    {
     "name": "stdout",
     "output_type": "stream",
     "text": [
      "\n",
      "Starting 6-th embedding cycle...\n"
     ]
    },
    {
     "name": "stdout",
     "output_type": "stream",
     "text": [
      "Starting 7-th embedding cycle...\n"
     ]
    },
    {
     "name": "stdout",
     "output_type": "stream",
     "text": [
      "Starting 8-th embedding cycle...\n"
     ]
    },
    {
     "name": "stdout",
     "output_type": "stream",
     "text": [
      "Starting 9-th embedding cycle...\n"
     ]
    },
    {
     "name": "stdout",
     "output_type": "stream",
     "text": [
      "Starting 10-th embedding cycle...\n"
     ]
    },
    {
     "name": "stdout",
     "output_type": "stream",
     "text": [
      "Starting 11-th embedding cycle...\n"
     ]
    },
    {
     "name": "stdout",
     "output_type": "stream",
     "text": [
      "Starting 12-th embedding cycle...\n"
     ]
    },
    {
     "name": "stdout",
     "output_type": "stream",
     "text": [
      "Starting 13-th embedding cycle...\n"
     ]
    },
    {
     "name": "stdout",
     "output_type": "stream",
     "text": [
      "Starting 14-th embedding cycle...\n"
     ]
    },
    {
     "name": "stdout",
     "output_type": "stream",
     "text": [
      "Starting 15-th embedding cycle...\n"
     ]
    },
    {
     "name": "stdout",
     "output_type": "stream",
     "text": [
      "Algorithm stopped due to increasing L-values. VALID embedding achieved ✓.\n",
      "[0, 6, 3, 14, 10, 12, 20, 8, 4, 38, 30, 34, 26, 32, 44][-0.08502048113247612, -0.04472607406728449, -0.05178314967893472, -0.0795100101246034, -0.03210246114769713, -0.024780416001319153, -0.014917039585663344, -0.002033547847878875, -0.002817098140942248, -0.005702618774458629, -0.007611261092045671, -0.0022041112070453894, -0.0001812602878972433, -0.0009498058115609553]"
     ]
    },
    {
     "name": "stdout",
     "output_type": "stream",
     "text": [
      "\n",
      "Initializing PECUZAL algorithm for multivariate input...\n",
      "Starting 1-th embedding cycle..."
     ]
    },
    {
     "name": "stdout",
     "output_type": "stream",
     "text": [
      "\n",
      "Starting 2-th embedding cycle...\n"
     ]
    },
    {
     "name": "stdout",
     "output_type": "stream",
     "text": [
      "Starting 3-th embedding cycle..."
     ]
    },
    {
     "name": "stdout",
     "output_type": "stream",
     "text": [
      "\n",
      "Starting 4-th embedding cycle...\n"
     ]
    },
    {
     "name": "stdout",
     "output_type": "stream",
     "text": [
      "Starting 5-th embedding cycle..."
     ]
    },
    {
     "name": "stdout",
     "output_type": "stream",
     "text": [
      "\n",
      "Starting 6-th embedding cycle...\n"
     ]
    },
    {
     "name": "stdout",
     "output_type": "stream",
     "text": [
      "Starting 7-th embedding cycle...\n"
     ]
    },
    {
     "name": "stdout",
     "output_type": "stream",
     "text": [
      "Starting 8-th embedding cycle...\n"
     ]
    },
    {
     "name": "stdout",
     "output_type": "stream",
     "text": [
      "Starting 9-th embedding cycle...\n"
     ]
    },
    {
     "name": "stdout",
     "output_type": "stream",
     "text": [
      "Starting 10-th embedding cycle...\n"
     ]
    },
    {
     "name": "stdout",
     "output_type": "stream",
     "text": [
      "Starting 11-th embedding cycle...\n"
     ]
    },
    {
     "name": "stdout",
     "output_type": "stream",
     "text": [
      "Starting 12-th embedding cycle..."
     ]
    },
    {
     "name": "stdout",
     "output_type": "stream",
     "text": [
      "\n",
      "Starting 13-th embedding cycle...\n"
     ]
    },
    {
     "name": "stdout",
     "output_type": "stream",
     "text": [
      "Starting 14-th embedding cycle...\n"
     ]
    },
    {
     "name": "stdout",
     "output_type": "stream",
     "text": [
      "Starting 15-th embedding cycle...\n"
     ]
    },
    {
     "name": "stdout",
     "output_type": "stream",
     "text": [
      "Starting 16-th embedding cycle...\n"
     ]
    },
    {
     "name": "stdout",
     "output_type": "stream",
     "text": [
      "Algorithm stopped due to increasing L-values. VALID embedding achieved ✓.\n",
      "[0, 6, 3, 14, 10, 12, 8, 4, 39, 30, 26, 22, 18, 28, 24, 16][-0.02954094193578874, -0.023251100138720088, -0.05094075491366995, -0.0801512591251611, -0.03229609648118567, -0.026581876942414512, -0.002088843781623939, -0.006360651207271695, -0.00949951557372343, -0.014742551775651258, -0.016034754914329114, -0.012743450350654335, -0.0019922752011817535, -0.00025045227547763893, -0.0001393879032835759]\n"
     ]
    },
    {
     "name": "stdout",
     "output_type": "stream",
     "text": [
      "Initializing PECUZAL algorithm for multivariate input...\n",
      "Starting 1-th embedding cycle...\n"
     ]
    },
    {
     "name": "stdout",
     "output_type": "stream",
     "text": [
      "Starting 2-th embedding cycle...\n"
     ]
    },
    {
     "name": "stdout",
     "output_type": "stream",
     "text": [
      "Starting 3-th embedding cycle...\n"
     ]
    },
    {
     "name": "stdout",
     "output_type": "stream",
     "text": [
      "Starting 4-th embedding cycle...\n"
     ]
    },
    {
     "name": "stdout",
     "output_type": "stream",
     "text": [
      "Starting 5-th embedding cycle...\n"
     ]
    },
    {
     "name": "stdout",
     "output_type": "stream",
     "text": [
      "Starting 6-th embedding cycle...\n"
     ]
    },
    {
     "name": "stdout",
     "output_type": "stream",
     "text": [
      "Starting 7-th embedding cycle..."
     ]
    },
    {
     "name": "stdout",
     "output_type": "stream",
     "text": [
      "\n",
      "Starting 8-th embedding cycle..."
     ]
    },
    {
     "name": "stdout",
     "output_type": "stream",
     "text": [
      "\n",
      "Starting 9-th embedding cycle...\n"
     ]
    },
    {
     "name": "stdout",
     "output_type": "stream",
     "text": [
      "Starting 10-th embedding cycle...\n"
     ]
    },
    {
     "name": "stdout",
     "output_type": "stream",
     "text": [
      "Starting 11-th embedding cycle...\n"
     ]
    },
    {
     "name": "stdout",
     "output_type": "stream",
     "text": [
      "Starting 12-th embedding cycle..."
     ]
    },
    {
     "name": "stdout",
     "output_type": "stream",
     "text": [
      "\n",
      "Starting 13-th embedding cycle...\n"
     ]
    },
    {
     "name": "stdout",
     "output_type": "stream",
     "text": [
      "Algorithm stopped due to increasing L-values. VALID embedding achieved ✓.\n",
      "[0, 6, 3, 14, 10, 12, 8, 27, 22, 18, 20, 16, 46][-0.026953678295016353, -0.03265785872417837, -0.04900478160282196, -0.07871378138873689, -0.03134072581607761, -0.025650798903169653, -0.0069140759173413335, -0.016287905150493113, -0.029029202784993026, -0.005274411591548067, -0.0040266571073945545, -0.0007585043447133621]\n"
     ]
    },
    {
     "name": "stdout",
     "output_type": "stream",
     "text": [
      "Initializing PECUZAL algorithm for multivariate input...\n",
      "Starting 1-th embedding cycle..."
     ]
    },
    {
     "name": "stdout",
     "output_type": "stream",
     "text": [
      "\n",
      "Starting 2-th embedding cycle..."
     ]
    },
    {
     "name": "stdout",
     "output_type": "stream",
     "text": [
      "\n",
      "Starting 3-th embedding cycle...\n"
     ]
    },
    {
     "name": "stdout",
     "output_type": "stream",
     "text": [
      "Starting 4-th embedding cycle...\n"
     ]
    },
    {
     "name": "stdout",
     "output_type": "stream",
     "text": [
      "Starting 5-th embedding cycle...\n"
     ]
    },
    {
     "name": "stdout",
     "output_type": "stream",
     "text": [
      "Starting 6-th embedding cycle...\n"
     ]
    },
    {
     "name": "stdout",
     "output_type": "stream",
     "text": [
      "Starting 7-th embedding cycle...\n"
     ]
    },
    {
     "name": "stdout",
     "output_type": "stream",
     "text": [
      "Starting 8-th embedding cycle...\n"
     ]
    },
    {
     "name": "stdout",
     "output_type": "stream",
     "text": [
      "Algorithm stopped due to increasing L-values. VALID embedding achieved ✓.\n",
      "[0, 6, 3, 12, 17, 15, 9, 13][-0.027544444430039422, -0.03627245591573516, -0.06195302063581285, -0.024217287107419883, -0.01658090029038098, -0.012774169285263759, -0.004168366574944182]"
     ]
    },
    {
     "name": "stdout",
     "output_type": "stream",
     "text": [
      "\n",
      "Initializing PECUZAL algorithm for multivariate input...\n",
      "Starting 1-th embedding cycle..."
     ]
    },
    {
     "name": "stdout",
     "output_type": "stream",
     "text": [
      "\n",
      "Starting 2-th embedding cycle...\n"
     ]
    },
    {
     "name": "stdout",
     "output_type": "stream",
     "text": [
      "Starting 3-th embedding cycle..."
     ]
    },
    {
     "name": "stdout",
     "output_type": "stream",
     "text": [
      "\n",
      "Starting 4-th embedding cycle...\n"
     ]
    },
    {
     "name": "stdout",
     "output_type": "stream",
     "text": [
      "Starting 5-th embedding cycle...\n"
     ]
    },
    {
     "name": "stdout",
     "output_type": "stream",
     "text": [
      "Starting 6-th embedding cycle...\n"
     ]
    },
    {
     "name": "stdout",
     "output_type": "stream",
     "text": [
      "Starting 7-th embedding cycle...\n"
     ]
    },
    {
     "name": "stdout",
     "output_type": "stream",
     "text": [
      "Starting 8-th embedding cycle...\n"
     ]
    },
    {
     "name": "stdout",
     "output_type": "stream",
     "text": [
      "Starting 9-th embedding cycle...\n"
     ]
    },
    {
     "name": "stdout",
     "output_type": "stream",
     "text": [
      "Starting 10-th embedding cycle..."
     ]
    },
    {
     "name": "stdout",
     "output_type": "stream",
     "text": [
      "\n",
      "Algorithm stopped due to increasing L-values. VALID embedding achieved ✓.\n",
      "[0, 6, 3, 13, 10, 8, 18, 4, 16, 12][-0.021465480311957275, -0.03874696210618525, -0.05593688061219782, -0.04584068498655397, -0.030499385868766576, -0.03412208847835155, -0.0043580223671276785, -0.000759093022985935, -0.0030167691658752604]\n"
     ]
    },
    {
     "name": "stdout",
     "output_type": "stream",
     "text": [
      "Initializing PECUZAL algorithm for multivariate input...\n",
      "Starting 1-th embedding cycle..."
     ]
    },
    {
     "name": "stdout",
     "output_type": "stream",
     "text": [
      "\n",
      "Starting 2-th embedding cycle...\n"
     ]
    },
    {
     "name": "stdout",
     "output_type": "stream",
     "text": [
      "Starting 3-th embedding cycle...\n"
     ]
    },
    {
     "name": "stdout",
     "output_type": "stream",
     "text": [
      "Starting 4-th embedding cycle...\n"
     ]
    },
    {
     "name": "stdout",
     "output_type": "stream",
     "text": [
      "Starting 5-th embedding cycle...\n"
     ]
    },
    {
     "name": "stdout",
     "output_type": "stream",
     "text": [
      "Starting 6-th embedding cycle...\n"
     ]
    },
    {
     "name": "stdout",
     "output_type": "stream",
     "text": [
      "Starting 7-th embedding cycle...\n"
     ]
    },
    {
     "name": "stdout",
     "output_type": "stream",
     "text": [
      "Starting 8-th embedding cycle..."
     ]
    },
    {
     "name": "stdout",
     "output_type": "stream",
     "text": [
      "\n",
      "Algorithm stopped due to increasing L-values. VALID embedding achieved ✓.\n",
      "[0, 6, 3, 13, 10, 8, 18, 4][-0.07102045086562024, -0.03672201302010342, -0.05221953106387269, -0.042188649319840704, -0.030899997902378074, -0.034622098679087096, -0.002792372594278336]\n"
     ]
    },
    {
     "name": "stdout",
     "output_type": "stream",
     "text": [
      "Initializing PECUZAL algorithm for multivariate input...\n",
      "Starting 1-th embedding cycle...\n"
     ]
    },
    {
     "name": "stdout",
     "output_type": "stream",
     "text": [
      "Starting 2-th embedding cycle...\n"
     ]
    },
    {
     "name": "stdout",
     "output_type": "stream",
     "text": [
      "Starting 3-th embedding cycle...\n"
     ]
    },
    {
     "name": "stdout",
     "output_type": "stream",
     "text": [
      "Starting 4-th embedding cycle...\n"
     ]
    },
    {
     "name": "stdout",
     "output_type": "stream",
     "text": [
      "Starting 5-th embedding cycle..."
     ]
    },
    {
     "name": "stdout",
     "output_type": "stream",
     "text": [
      "\n",
      "Starting 6-th embedding cycle...\n"
     ]
    },
    {
     "name": "stdout",
     "output_type": "stream",
     "text": [
      "Starting 7-th embedding cycle...\n",
      "Starting 8-th embedding cycle..."
     ]
    },
    {
     "name": "stdout",
     "output_type": "stream",
     "text": [
      "\n"
     ]
    },
    {
     "name": "stdout",
     "output_type": "stream",
     "text": [
      "Algorithm stopped due to increasing L-values. VALID embedding achieved ✓.\n",
      "[0, 6, 3, 13, 10, 8, 18, 4][-0.037949297161533196, -0.03841416710346052, -0.055544215207635854, -0.04057407523303411, -0.03313241681764473, -0.030946231181327957, -0.003122872031608992]\n"
     ]
    },
    {
     "name": "stdout",
     "output_type": "stream",
     "text": [
      "Initializing PECUZAL algorithm for multivariate input...\n",
      "Starting 1-th embedding cycle...\n"
     ]
    },
    {
     "name": "stdout",
     "output_type": "stream",
     "text": [
      "Starting 2-th embedding cycle...\n"
     ]
    },
    {
     "name": "stdout",
     "output_type": "stream",
     "text": [
      "Starting 3-th embedding cycle...\n"
     ]
    },
    {
     "name": "stdout",
     "output_type": "stream",
     "text": [
      "Starting 4-th embedding cycle...\n"
     ]
    },
    {
     "name": "stdout",
     "output_type": "stream",
     "text": [
      "Starting 5-th embedding cycle..."
     ]
    },
    {
     "name": "stdout",
     "output_type": "stream",
     "text": [
      "\n",
      "Starting 6-th embedding cycle...\n"
     ]
    },
    {
     "name": "stdout",
     "output_type": "stream",
     "text": [
      "Starting 7-th embedding cycle...\n"
     ]
    },
    {
     "name": "stdout",
     "output_type": "stream",
     "text": [
      "Starting 8-th embedding cycle...\n"
     ]
    },
    {
     "name": "stdout",
     "output_type": "stream",
     "text": [
      "Algorithm stopped due to increasing L-values. VALID embedding achieved ✓.\n",
      "[0, 6, 3, 12, 17, 14, 9, 10][-0.061975468139859796, -0.029351960086512557, -0.057816321172067885, -0.023481843596958693, -0.012408904917456248, -0.011463136235356344, -0.0037709841326490634]"
     ]
    },
    {
     "name": "stdout",
     "output_type": "stream",
     "text": [
      "\n",
      "Initializing PECUZAL algorithm for multivariate input...\n",
      "Starting 1-th embedding cycle...\n"
     ]
    },
    {
     "name": "stdout",
     "output_type": "stream",
     "text": [
      "Starting 2-th embedding cycle...\n"
     ]
    },
    {
     "name": "stdout",
     "output_type": "stream",
     "text": [
      "Starting 3-th embedding cycle...\n"
     ]
    },
    {
     "name": "stdout",
     "output_type": "stream",
     "text": [
      "Starting 4-th embedding cycle...\n"
     ]
    },
    {
     "name": "stdout",
     "output_type": "stream",
     "text": [
      "Starting 5-th embedding cycle...\n"
     ]
    },
    {
     "name": "stdout",
     "output_type": "stream",
     "text": [
      "Starting 6-th embedding cycle...\n"
     ]
    },
    {
     "name": "stdout",
     "output_type": "stream",
     "text": [
      "Starting 7-th embedding cycle...\n"
     ]
    },
    {
     "name": "stdout",
     "output_type": "stream",
     "text": [
      "Starting 8-th embedding cycle...\n"
     ]
    },
    {
     "name": "stdout",
     "output_type": "stream",
     "text": [
      "Starting 9-th embedding cycle...\n"
     ]
    },
    {
     "name": "stdout",
     "output_type": "stream",
     "text": [
      "Starting 10-th embedding cycle...\n"
     ]
    },
    {
     "name": "stdout",
     "output_type": "stream",
     "text": [
      "Starting 11-th embedding cycle...\n"
     ]
    },
    {
     "name": "stdout",
     "output_type": "stream",
     "text": [
      "Starting 12-th embedding cycle...\n"
     ]
    },
    {
     "name": "stdout",
     "output_type": "stream",
     "text": [
      "Starting 13-th embedding cycle...\n"
     ]
    },
    {
     "name": "stdout",
     "output_type": "stream",
     "text": [
      "Starting 14-th embedding cycle...\n"
     ]
    },
    {
     "name": "stdout",
     "output_type": "stream",
     "text": [
      "Starting 15-th embedding cycle...\n"
     ]
    },
    {
     "name": "stdout",
     "output_type": "stream",
     "text": [
      "Algorithm stopped due to increasing L-values. VALID embedding achieved ✓.\n",
      "[0, 6, 3, 15, 11, 13, 9, 7, 39, 30, 26, 22, 19, 24, 28][-0.0517698785193849, -0.04249402581445472, -0.03672256215553864, -0.07094698698817963, -0.03181205361122752, -0.015161666770691695, -0.002845839008943002, -0.0014373762924494438, -0.005426372850684716, -0.010481996334797385, -0.012160693888816057, -0.0037628872175862983, -0.0005840107434315761, -0.0001928727136310815]\n"
     ]
    },
    {
     "name": "stdout",
     "output_type": "stream",
     "text": [
      "Initializing PECUZAL algorithm for multivariate input...\n",
      "Starting 1-th embedding cycle...\n"
     ]
    },
    {
     "name": "stdout",
     "output_type": "stream",
     "text": [
      "Starting 2-th embedding cycle...\n"
     ]
    },
    {
     "name": "stdout",
     "output_type": "stream",
     "text": [
      "Starting 3-th embedding cycle...\n"
     ]
    },
    {
     "name": "stdout",
     "output_type": "stream",
     "text": [
      "Starting 4-th embedding cycle...\n"
     ]
    },
    {
     "name": "stdout",
     "output_type": "stream",
     "text": [
      "Starting 5-th embedding cycle...\n"
     ]
    },
    {
     "name": "stdout",
     "output_type": "stream",
     "text": [
      "Starting 6-th embedding cycle...\n"
     ]
    },
    {
     "name": "stdout",
     "output_type": "stream",
     "text": [
      "Starting 7-th embedding cycle...\n"
     ]
    },
    {
     "name": "stdout",
     "output_type": "stream",
     "text": [
      "Starting 8-th embedding cycle...\n"
     ]
    },
    {
     "name": "stdout",
     "output_type": "stream",
     "text": [
      "Starting 9-th embedding cycle...\n"
     ]
    },
    {
     "name": "stdout",
     "output_type": "stream",
     "text": [
      "Starting 10-th embedding cycle...\n"
     ]
    },
    {
     "name": "stdout",
     "output_type": "stream",
     "text": [
      "Starting 11-th embedding cycle...\n"
     ]
    },
    {
     "name": "stdout",
     "output_type": "stream",
     "text": [
      "Starting 12-th embedding cycle...\n"
     ]
    },
    {
     "name": "stdout",
     "output_type": "stream",
     "text": [
      "Algorithm stopped due to increasing L-values. VALID embedding achieved ✓.\n",
      "[0, 6, 3, 12, 9, 17, 15, 13, 31, 24, 21, 19][-0.04034609540251696, -0.03195988071323064, -0.05919759551441837, -0.014813196356351116, -0.0365729836969881, -0.0069144443585511806, -0.002582431670477253, -0.0007748537785070495, -0.012515687130043095, -0.00751415314595346, -0.003637726598308827]\n"
     ]
    },
    {
     "name": "stdout",
     "output_type": "stream",
     "text": [
      "Initializing PECUZAL algorithm for multivariate input...\n",
      "Starting 1-th embedding cycle..."
     ]
    },
    {
     "name": "stdout",
     "output_type": "stream",
     "text": [
      "\n",
      "Starting 2-th embedding cycle..."
     ]
    },
    {
     "name": "stdout",
     "output_type": "stream",
     "text": [
      "\n",
      "Starting 3-th embedding cycle..."
     ]
    },
    {
     "name": "stdout",
     "output_type": "stream",
     "text": [
      "\n",
      "Starting 4-th embedding cycle..."
     ]
    },
    {
     "name": "stdout",
     "output_type": "stream",
     "text": [
      "\n",
      "Starting 5-th embedding cycle..."
     ]
    },
    {
     "name": "stdout",
     "output_type": "stream",
     "text": [
      "\n",
      "Starting 6-th embedding cycle...\n"
     ]
    },
    {
     "name": "stdout",
     "output_type": "stream",
     "text": [
      "Starting 7-th embedding cycle...\n"
     ]
    },
    {
     "name": "stdout",
     "output_type": "stream",
     "text": [
      "Starting 8-th embedding cycle...\n"
     ]
    },
    {
     "name": "stdout",
     "output_type": "stream",
     "text": [
      "Algorithm stopped due to increasing L-values. VALID embedding achieved ✓.\n",
      "[0, 6, 3, 13, 10, 8, 19, 4][-0.007736750949771831, -0.031337912093208714, -0.054827321636515075, -0.049474713564349904, -0.0343040037526442, -0.025728214801476794, -0.0042265542439968995]\n"
     ]
    },
    {
     "name": "stdout",
     "output_type": "stream",
     "text": [
      "Initializing PECUZAL algorithm for multivariate input...\n",
      "Starting 1-th embedding cycle..."
     ]
    },
    {
     "name": "stdout",
     "output_type": "stream",
     "text": [
      "\n",
      "Starting 2-th embedding cycle...\n"
     ]
    },
    {
     "name": "stdout",
     "output_type": "stream",
     "text": [
      "Starting 3-th embedding cycle...\n"
     ]
    },
    {
     "name": "stdout",
     "output_type": "stream",
     "text": [
      "Starting 4-th embedding cycle...\n"
     ]
    },
    {
     "name": "stdout",
     "output_type": "stream",
     "text": [
      "Starting 5-th embedding cycle..."
     ]
    },
    {
     "name": "stdout",
     "output_type": "stream",
     "text": [
      "\n",
      "Starting 6-th embedding cycle...\n"
     ]
    },
    {
     "name": "stdout",
     "output_type": "stream",
     "text": [
      "Starting 7-th embedding cycle...\n"
     ]
    },
    {
     "name": "stdout",
     "output_type": "stream",
     "text": [
      "Starting 8-th embedding cycle..."
     ]
    },
    {
     "name": "stdout",
     "output_type": "stream",
     "text": [
      "\n",
      "Algorithm stopped due to increasing L-values. VALID embedding achieved ✓.\n",
      "[0, 6, 3, 12, 17, 14, 9, 10][-0.02811091127918705, -0.03172603882328978, -0.057014321175297734, -0.016958132509249588, -0.019695724664580444, -0.010667370892213743, -0.0035104536059443747]"
     ]
    },
    {
     "name": "stdout",
     "output_type": "stream",
     "text": [
      "\n",
      "Initializing PECUZAL algorithm for multivariate input...\n",
      "Starting 1-th embedding cycle...\n"
     ]
    },
    {
     "name": "stdout",
     "output_type": "stream",
     "text": [
      "Starting 2-th embedding cycle...\n"
     ]
    },
    {
     "name": "stdout",
     "output_type": "stream",
     "text": [
      "Starting 3-th embedding cycle...\n",
      "Starting 4-th embedding cycle..."
     ]
    },
    {
     "name": "stdout",
     "output_type": "stream",
     "text": [
      "\n",
      "Starting 5-th embedding cycle...\n"
     ]
    },
    {
     "name": "stdout",
     "output_type": "stream",
     "text": [
      "Starting 6-th embedding cycle..."
     ]
    },
    {
     "name": "stdout",
     "output_type": "stream",
     "text": [
      "\n",
      "Starting 7-th embedding cycle...\n"
     ]
    },
    {
     "name": "stdout",
     "output_type": "stream",
     "text": [
      "Starting 8-th embedding cycle...\n"
     ]
    },
    {
     "name": "stdout",
     "output_type": "stream",
     "text": [
      "Algorithm stopped due to increasing L-values. VALID embedding achieved ✓.\n",
      "[0, 6, 3, 13, 10, 8, 19, 4][-0.06252392702585896, -0.026970949972647623, -0.057271261419159, -0.04383414736707447, -0.030285055354927648, -0.02703537491384289, -0.0028979603750552974]\n"
     ]
    },
    {
     "name": "stdout",
     "output_type": "stream",
     "text": [
      "Initializing PECUZAL algorithm for multivariate input...\n",
      "Starting 1-th embedding cycle...\n"
     ]
    },
    {
     "name": "stdout",
     "output_type": "stream",
     "text": [
      "Starting 2-th embedding cycle...\n"
     ]
    },
    {
     "name": "stdout",
     "output_type": "stream",
     "text": [
      "Starting 3-th embedding cycle..."
     ]
    },
    {
     "name": "stdout",
     "output_type": "stream",
     "text": [
      "\n",
      "Starting 4-th embedding cycle...\n"
     ]
    },
    {
     "name": "stdout",
     "output_type": "stream",
     "text": [
      "Starting 5-th embedding cycle...\n"
     ]
    },
    {
     "name": "stdout",
     "output_type": "stream",
     "text": [
      "Starting 6-th embedding cycle...\n"
     ]
    },
    {
     "name": "stdout",
     "output_type": "stream",
     "text": [
      "Starting 7-th embedding cycle...\n"
     ]
    },
    {
     "name": "stdout",
     "output_type": "stream",
     "text": [
      "Starting 8-th embedding cycle...\n"
     ]
    },
    {
     "name": "stdout",
     "output_type": "stream",
     "text": [
      "Starting 9-th embedding cycle...\n"
     ]
    },
    {
     "name": "stdout",
     "output_type": "stream",
     "text": [
      "Starting 10-th embedding cycle...\n"
     ]
    },
    {
     "name": "stdout",
     "output_type": "stream",
     "text": [
      "Starting 11-th embedding cycle...\n"
     ]
    },
    {
     "name": "stdout",
     "output_type": "stream",
     "text": [
      "Starting 12-th embedding cycle...\n",
      "Starting 13-th embedding cycle...\n"
     ]
    },
    {
     "name": "stdout",
     "output_type": "stream",
     "text": [
      "Starting 14-th embedding cycle...\n"
     ]
    },
    {
     "name": "stdout",
     "output_type": "stream",
     "text": [
      "Algorithm stopped due to increasing L-values. VALID embedding achieved ✓.\n",
      "[0, 6, 3, 13, 10, 8, 18, 4, 15, 35, 30, 25, 22, 20][-0.07235364495287772, -0.023552178350401798, -0.0571750872256404, -0.04506367900826461, -0.03288530830214992, -0.03242576473554139, -0.004721145148993744, -3.7939190614677543e-6, -0.0007895958337027914, -0.0027512656188613677, -0.008115146571407916, -0.0013847307860338116, -0.0010245915491063143]\n"
     ]
    },
    {
     "name": "stdout",
     "output_type": "stream",
     "text": [
      "Initializing PECUZAL algorithm for multivariate input...\n",
      "Starting 1-th embedding cycle...\n"
     ]
    },
    {
     "name": "stdout",
     "output_type": "stream",
     "text": [
      "Starting 2-th embedding cycle...\n"
     ]
    },
    {
     "name": "stdout",
     "output_type": "stream",
     "text": [
      "Starting 3-th embedding cycle...\n"
     ]
    },
    {
     "name": "stdout",
     "output_type": "stream",
     "text": [
      "Starting 4-th embedding cycle...\n"
     ]
    },
    {
     "name": "stdout",
     "output_type": "stream",
     "text": [
      "Starting 5-th embedding cycle...\n"
     ]
    },
    {
     "name": "stdout",
     "output_type": "stream",
     "text": [
      "Starting 6-th embedding cycle...\n",
      "Starting 7-th embedding cycle..."
     ]
    },
    {
     "name": "stdout",
     "output_type": "stream",
     "text": [
      "\n"
     ]
    },
    {
     "name": "stdout",
     "output_type": "stream",
     "text": [
      "Starting 8-th embedding cycle...\n"
     ]
    },
    {
     "name": "stdout",
     "output_type": "stream",
     "text": [
      "Algorithm stopped due to increasing L-values. VALID embedding achieved ✓.\n",
      "[0, 6, 3, 12, 17, 14, 9, 10][-0.03884981647027552, -0.030965802196173564, -0.05761618428841447, -0.022891617128405775, -0.018451018628041882, -0.013250075088469926, -0.003274864502401137]\n"
     ]
    }
   ],
   "source": [
    "for i = 1:100\n",
    "    fid = h5open(\"E:/LearningEmbedding/data_collection/Lorenz96/noisy_lorenz96_N8_no\"*string(i)*\".h5\", \"r\")\n",
    "    Y = Array(fid[\"xM\"])\n",
    "\n",
    "    inds = [2,6] # input timeseries = x2-component and x6-component of Lorenz\n",
    "    theiler1 = estimate_delay(Y[:,inds[1]], \"mi_min\") # estimate a Theiler window\n",
    "    theiler2 = estimate_delay(Y[:,inds[2]], \"mi_min\")\n",
    "    w = maximum(hcat(theiler1, theiler2))\n",
    "    Tmax = 50 # maximum possible delay\n",
    "    close(fid)\n",
    "\n",
    "    Recon_pec, τ_vals, ts_vals, Ls, εs = pecuzal_embedding(Dataset(Y[:,inds]); τs = 0:Tmax , w = w, L_threshold=0.0, econ = true)\n",
    "    println(τ_vals, Ls)\n",
    "    ff = h5open(\"e:/LearningEmbedding/results/PECUZAL/Lorenz96-multi/noisy_lorenz96_multi_no\"*string(i)*\".h5\", \"w\")\n",
    "    N = size(Recon_pec,1)\n",
    "    if length(size(Recon_pec)) > 1\n",
    "        ff[\"Embedding\"] = Matrix(Recon_pec)\n",
    "    else\n",
    "        Recon_pec = reshape(Recon_pec,N,1)\n",
    "        ff[\"Embedding\"] = Matrix(Recon_pec)\n",
    "    end\n",
    "    ff[\"delays\"] = τ_vals\n",
    "    ff[\"variables\"] = ts_vals\n",
    "    close(ff)\n",
    "    \n",
    "end"
   ]
  },
  {
   "cell_type": "code",
   "execution_count": 4,
   "metadata": {},
   "outputs": [
    {
     "name": "stdout",
     "output_type": "stream",
     "text": [
      "Algorithm stopped due to rising FNNs. Valid embedding achieved ✓.\n",
      "[0, 1, 1, 0][2, 1, 2, 1]\n"
     ]
    },
    {
     "name": "stdout",
     "output_type": "stream",
     "text": [
      "Algorithm stopped due to rising FNNs. Valid embedding achieved ✓.\n",
      "[0, 1, 1, 0][1, 2, 1, 2]"
     ]
    },
    {
     "name": "stdout",
     "output_type": "stream",
     "text": [
      "\n",
      "Algorithm stopped due to rising FNNs. Valid embedding achieved ✓.\n",
      "[0, 1, 1, 0][2, 1, 2, 1]\n"
     ]
    },
    {
     "name": "stdout",
     "output_type": "stream",
     "text": [
      "Algorithm stopped due to rising FNNs. Valid embedding achieved ✓.\n",
      "[0, 1, 0, 1][1, 2, 2, 1]\n"
     ]
    },
    {
     "name": "stdout",
     "output_type": "stream",
     "text": [
      "Algorithm stopped due to rising FNNs. Valid embedding achieved ✓.\n",
      "[0, 1, 1, 0][1, 2, 1, 2]\n"
     ]
    },
    {
     "name": "stdout",
     "output_type": "stream",
     "text": [
      "Algorithm stopped due to rising FNNs. Valid embedding achieved ✓.\n",
      "[0, 1, 1, 0][1, 2, 1, 2]\n"
     ]
    },
    {
     "name": "stdout",
     "output_type": "stream",
     "text": [
      "Algorithm stopped due to rising FNNs. Valid embedding achieved ✓.\n",
      "[0, 0, 1, 1][2, 1, 1, 2]\n"
     ]
    },
    {
     "name": "stdout",
     "output_type": "stream",
     "text": [
      "Algorithm stopped due to rising FNNs. Valid embedding achieved ✓.\n",
      "[0, 1, 1, 0][2, 1, 2, 1]\n"
     ]
    },
    {
     "name": "stdout",
     "output_type": "stream",
     "text": [
      "Algorithm stopped due to rising FNNs. Valid embedding achieved ✓.\n",
      "[0, 0, 1, 1][2, 1, 2, 1]\n"
     ]
    },
    {
     "name": "stdout",
     "output_type": "stream",
     "text": [
      "Algorithm stopped due to rising FNNs. Valid embedding achieved ✓.\n",
      "[0, 1, 1, 0][2, 1, 2, 1]\n"
     ]
    },
    {
     "name": "stdout",
     "output_type": "stream",
     "text": [
      "Algorithm stopped due to rising FNNs. Valid embedding achieved ✓.\n",
      "[0, 1, 0, 1][2, 1, 1, 2]\n"
     ]
    },
    {
     "name": "stdout",
     "output_type": "stream",
     "text": [
      "Algorithm stopped due to rising FNNs. Valid embedding achieved ✓.\n",
      "[0, 1, 0, 1][1, 2, 2, 1]\n"
     ]
    },
    {
     "name": "stdout",
     "output_type": "stream",
     "text": [
      "Algorithm stopped due to rising FNNs. Valid embedding achieved ✓.\n",
      "[0, 0, 1, 1][2, 1, 2, 1]\n"
     ]
    },
    {
     "name": "stdout",
     "output_type": "stream",
     "text": [
      "Algorithm stopped due to rising FNNs. Valid embedding achieved ✓.\n",
      "[0, 0, 1, 1][2, 1, 1, 2]\n"
     ]
    },
    {
     "name": "stdout",
     "output_type": "stream",
     "text": [
      "Algorithm stopped due to rising FNNs. Valid embedding achieved ✓.\n",
      "[0, 1, 1, 0][1, 2, 1, 2]"
     ]
    },
    {
     "name": "stdout",
     "output_type": "stream",
     "text": [
      "\n",
      "Algorithm stopped due to rising FNNs. Valid embedding achieved ✓.\n",
      "[0, 1, 0, 1][1, 2, 2, 1]\n"
     ]
    },
    {
     "name": "stdout",
     "output_type": "stream",
     "text": [
      "Algorithm stopped due to rising FNNs. Valid embedding achieved ✓.\n",
      "[0, 1, 1, 0][1, 2, 1, 2]\n"
     ]
    },
    {
     "name": "stdout",
     "output_type": "stream",
     "text": [
      "Algorithm stopped due to rising FNNs. Valid embedding achieved ✓.\n",
      "[0, 1, 1, 0][2, 1, 2, 1]\n"
     ]
    },
    {
     "name": "stdout",
     "output_type": "stream",
     "text": [
      "Algorithm stopped due to rising FNNs. Valid embedding achieved ✓.\n",
      "[0, 1, 1, 0][2, 1, 2, 1]\n"
     ]
    },
    {
     "name": "stdout",
     "output_type": "stream",
     "text": [
      "Algorithm stopped due to rising FNNs. Valid embedding achieved ✓.\n",
      "[0, 1, 0, 1][1, 2, 2, 1]\n"
     ]
    },
    {
     "name": "stdout",
     "output_type": "stream",
     "text": [
      "Algorithm stopped due to rising FNNs. Valid embedding achieved ✓.\n",
      "[0, 0, 1, 1][2, 1, 2, 1]\n"
     ]
    },
    {
     "name": "stdout",
     "output_type": "stream",
     "text": [
      "Algorithm stopped due to rising FNNs. Valid embedding achieved ✓.\n",
      "[0, 1, 1, 0][2, 1, 2, 1]\n"
     ]
    },
    {
     "name": "stdout",
     "output_type": "stream",
     "text": [
      "Algorithm stopped due to rising FNNs. Valid embedding achieved ✓.\n",
      "[0, 1, 1, 0][2, 1, 2, 1]\n"
     ]
    },
    {
     "name": "stdout",
     "output_type": "stream",
     "text": [
      "Algorithm stopped due to rising FNNs. Valid embedding achieved ✓.\n",
      "[0, 1, 1, 0][1, 2, 1, 2]"
     ]
    },
    {
     "name": "stdout",
     "output_type": "stream",
     "text": [
      "\n",
      "Algorithm stopped due to rising FNNs. Valid embedding achieved ✓.\n",
      "[0, 1, 1, 0][2, 1, 2, 1]"
     ]
    },
    {
     "name": "stdout",
     "output_type": "stream",
     "text": [
      "\n",
      "Algorithm stopped due to rising FNNs. Valid embedding achieved ✓.\n",
      "[0, 1, 1, 0][1, 2, 1, 2]\n"
     ]
    },
    {
     "name": "stdout",
     "output_type": "stream",
     "text": [
      "Algorithm stopped due to rising FNNs. Valid embedding achieved ✓.\n",
      "[0, 1, 0, 1][1, 2, 2, 1]"
     ]
    },
    {
     "name": "stdout",
     "output_type": "stream",
     "text": [
      "\n",
      "Algorithm stopped due to rising FNNs. Valid embedding achieved ✓.\n",
      "[0, 1, 1, 0][1, 2, 1, 2]\n"
     ]
    },
    {
     "name": "stdout",
     "output_type": "stream",
     "text": [
      "Algorithm stopped due to rising FNNs. Valid embedding achieved ✓.\n",
      "[0, 1, 0, 1][1, 2, 2, 1]\n"
     ]
    },
    {
     "name": "stdout",
     "output_type": "stream",
     "text": [
      "Algorithm stopped due to rising FNNs. Valid embedding achieved ✓.\n",
      "[0, 1, 0, 1][1, 2, 2, 1]"
     ]
    },
    {
     "name": "stdout",
     "output_type": "stream",
     "text": [
      "\n",
      "Algorithm stopped due to rising FNNs. Valid embedding achieved ✓.\n",
      "[0, 1, 0, 1][2, 1, 1, 2]\n"
     ]
    },
    {
     "name": "stdout",
     "output_type": "stream",
     "text": [
      "Algorithm stopped due to rising FNNs. Valid embedding achieved ✓.\n",
      "[0, 1, 0, 1][1, 2, 2, 1]\n"
     ]
    },
    {
     "name": "stdout",
     "output_type": "stream",
     "text": [
      "Algorithm stopped due to rising FNNs. Valid embedding achieved ✓.\n",
      "[0, 1, 0, 1][1, 2, 2, 1]\n"
     ]
    },
    {
     "name": "stdout",
     "output_type": "stream",
     "text": [
      "Algorithm stopped due to rising FNNs. Valid embedding achieved ✓.\n",
      "[0, 1, 1, 0][1, 2, 1, 2]\n"
     ]
    },
    {
     "name": "stdout",
     "output_type": "stream",
     "text": [
      "Algorithm stopped due to rising FNNs. Valid embedding achieved ✓.\n",
      "[0, 1, 0, 1][2, 1, 1, 2]\n"
     ]
    },
    {
     "name": "stdout",
     "output_type": "stream",
     "text": [
      "Algorithm stopped due to rising FNNs. Valid embedding achieved ✓.\n",
      "[0, 1, 0, 1][2, 1, 1, 2]\n"
     ]
    },
    {
     "name": "stdout",
     "output_type": "stream",
     "text": [
      "Algorithm stopped due to rising FNNs. Valid embedding achieved ✓.\n",
      "[0, 1, 1, 0][2, 1, 2, 1]\n"
     ]
    },
    {
     "name": "stdout",
     "output_type": "stream",
     "text": [
      "Algorithm stopped due to rising FNNs. Valid embedding achieved ✓.\n",
      "[0, 1, 1, 0][1, 2, 1, 2]"
     ]
    },
    {
     "name": "stdout",
     "output_type": "stream",
     "text": [
      "\n",
      "Algorithm stopped due to rising FNNs. Valid embedding achieved ✓.\n",
      "[0, 1, 1, 0][2, 1, 2, 1]\n"
     ]
    },
    {
     "name": "stdout",
     "output_type": "stream",
     "text": [
      "Algorithm stopped due to rising FNNs. Valid embedding achieved ✓.\n",
      "[0, 1, 1, 0][1, 2, 1, 2]\n"
     ]
    },
    {
     "name": "stdout",
     "output_type": "stream",
     "text": [
      "Algorithm stopped due to rising FNNs. Valid embedding achieved ✓.\n",
      "[0, 1, 0, 1][1, 2, 2, 1]\n"
     ]
    },
    {
     "name": "stdout",
     "output_type": "stream",
     "text": [
      "Algorithm stopped due to rising FNNs. Valid embedding achieved ✓.\n",
      "[0, 0, 1, 1][2, 1, 1, 2]"
     ]
    },
    {
     "name": "stdout",
     "output_type": "stream",
     "text": [
      "\n",
      "Algorithm stopped due to rising FNNs. Valid embedding achieved ✓.\n",
      "[0, 1, 1, 0][2, 1, 2, 1]\n"
     ]
    },
    {
     "name": "stdout",
     "output_type": "stream",
     "text": [
      "Algorithm stopped due to rising FNNs. Valid embedding achieved ✓.\n",
      "[0, 1, 1, 0][2, 1, 2, 1]\n"
     ]
    },
    {
     "name": "stdout",
     "output_type": "stream",
     "text": [
      "Algorithm stopped due to rising FNNs. Valid embedding achieved ✓.\n",
      "[0, 1, 0, 1][2, 1, 1, 2]\n"
     ]
    },
    {
     "name": "stdout",
     "output_type": "stream",
     "text": [
      "Algorithm stopped due to rising FNNs. Valid embedding achieved ✓.\n",
      "[0, 1, 1, 0][1, 2, 1, 2]\n"
     ]
    },
    {
     "name": "stdout",
     "output_type": "stream",
     "text": [
      "Algorithm stopped due to rising FNNs. Valid embedding achieved ✓.\n",
      "[0, 1, 0, 1][2, 1, 1, 2]"
     ]
    },
    {
     "name": "stdout",
     "output_type": "stream",
     "text": [
      "\n",
      "Algorithm stopped due to rising FNNs. Valid embedding achieved ✓.\n",
      "[0, 1, 0, 1][2, 1, 1, 2]\n"
     ]
    },
    {
     "name": "stdout",
     "output_type": "stream",
     "text": [
      "Algorithm stopped due to rising FNNs. Valid embedding achieved ✓.\n",
      "[0, 1, 0, 1][2, 1, 1, 2]\n"
     ]
    },
    {
     "name": "stdout",
     "output_type": "stream",
     "text": [
      "Algorithm stopped due to rising FNNs. Valid embedding achieved ✓.\n",
      "[0, 1, 0, 1][2, 1, 1, 2]\n"
     ]
    },
    {
     "name": "stdout",
     "output_type": "stream",
     "text": [
      "Algorithm stopped due to rising FNNs. Valid embedding achieved ✓.\n",
      "[0, 1, 1, 0][2, 1, 2, 1]"
     ]
    },
    {
     "name": "stdout",
     "output_type": "stream",
     "text": [
      "\n",
      "Algorithm stopped due to rising FNNs. Valid embedding achieved ✓.\n",
      "[0, 1, 1, 0][1, 2, 1, 2]"
     ]
    },
    {
     "name": "stdout",
     "output_type": "stream",
     "text": [
      "\n",
      "Algorithm stopped due to rising FNNs. Valid embedding achieved ✓.\n",
      "[0, 0, 1, 1][2, 1, 2, 1]\n"
     ]
    },
    {
     "name": "stdout",
     "output_type": "stream",
     "text": [
      "Algorithm stopped due to rising FNNs. Valid embedding achieved ✓.\n",
      "[0, 1, 0, 1][1, 2, 2, 1]\n"
     ]
    },
    {
     "name": "stdout",
     "output_type": "stream",
     "text": [
      "Algorithm stopped due to rising FNNs. Valid embedding achieved ✓.\n",
      "[0, 1, 1, 0][2, 1, 2, 1]"
     ]
    },
    {
     "name": "stdout",
     "output_type": "stream",
     "text": [
      "\n",
      "Algorithm stopped due to rising FNNs. Valid embedding achieved ✓.\n",
      "[0, 1, 1, 0][1, 2, 1, 2]\n"
     ]
    },
    {
     "name": "stdout",
     "output_type": "stream",
     "text": [
      "Algorithm stopped due to rising FNNs. Valid embedding achieved ✓.\n",
      "[0, 1, 1, 0][1, 2, 1, 2]\n"
     ]
    },
    {
     "name": "stdout",
     "output_type": "stream",
     "text": [
      "Algorithm stopped due to rising FNNs. Valid embedding achieved ✓.\n",
      "[0, 1, 1, 0][2, 1, 2, 1]\n"
     ]
    },
    {
     "name": "stdout",
     "output_type": "stream",
     "text": [
      "Algorithm stopped due to rising FNNs. Valid embedding achieved ✓.\n",
      "[0, 1, 0, 1][1, 2, 2, 1]"
     ]
    },
    {
     "name": "stdout",
     "output_type": "stream",
     "text": [
      "\n",
      "Algorithm stopped due to rising FNNs. Valid embedding achieved ✓.\n",
      "[0, 1, 1, 0][1, 2, 1, 2]\n"
     ]
    },
    {
     "name": "stdout",
     "output_type": "stream",
     "text": [
      "Algorithm stopped due to rising FNNs. Valid embedding achieved ✓.\n",
      "[0, 1, 0, 1][2, 1, 1, 2]\n"
     ]
    },
    {
     "name": "stdout",
     "output_type": "stream",
     "text": [
      "Algorithm stopped due to rising FNNs. Valid embedding achieved ✓.\n",
      "[0, 1, 1, 0][2, 1, 2, 1]\n"
     ]
    },
    {
     "name": "stdout",
     "output_type": "stream",
     "text": [
      "Algorithm stopped due to rising FNNs. Valid embedding achieved ✓.\n",
      "[0, 1, 0, 1][1, 2, 2, 1]\n"
     ]
    },
    {
     "name": "stdout",
     "output_type": "stream",
     "text": [
      "Algorithm stopped due to rising FNNs. Valid embedding achieved ✓.\n",
      "[0, 1, 1, 0][1, 2, 1, 2]\n"
     ]
    },
    {
     "name": "stdout",
     "output_type": "stream",
     "text": [
      "Algorithm stopped due to rising FNNs. Valid embedding achieved ✓.\n",
      "[0, 1, 1, 0][2, 1, 2, 1]"
     ]
    },
    {
     "name": "stdout",
     "output_type": "stream",
     "text": [
      "\n",
      "Algorithm stopped due to rising FNNs. Valid embedding achieved ✓.\n",
      "[0, 1, 0, 1][1, 2, 2, 1]\n"
     ]
    },
    {
     "name": "stdout",
     "output_type": "stream",
     "text": [
      "Algorithm stopped due to rising FNNs. Valid embedding achieved ✓.\n",
      "[0, 0, 1, 1][1, 2, 2, 1]\n"
     ]
    },
    {
     "name": "stdout",
     "output_type": "stream",
     "text": [
      "Algorithm stopped due to rising FNNs. Valid embedding achieved ✓.\n",
      "[0, 0, 1, 1][2, 1, 1, 2]\n"
     ]
    },
    {
     "name": "stdout",
     "output_type": "stream",
     "text": [
      "Algorithm stopped due to rising FNNs. Valid embedding achieved ✓.\n",
      "[0, 1, 1, 0][1, 2, 1, 2]"
     ]
    },
    {
     "name": "stdout",
     "output_type": "stream",
     "text": [
      "\n",
      "Algorithm stopped due to rising FNNs. Valid embedding achieved ✓.\n",
      "[0, 1, 0, 1][2, 1, 1, 2]\n"
     ]
    },
    {
     "name": "stdout",
     "output_type": "stream",
     "text": [
      "Algorithm stopped due to rising FNNs. Valid embedding achieved ✓.\n",
      "[0, 1, 0, 1][2, 1, 1, 2]\n"
     ]
    },
    {
     "name": "stdout",
     "output_type": "stream",
     "text": [
      "Algorithm stopped due to rising FNNs. Valid embedding achieved ✓.\n",
      "[0, 1, 1, 0][2, 1, 2, 1]"
     ]
    },
    {
     "name": "stdout",
     "output_type": "stream",
     "text": [
      "\n",
      "Algorithm stopped due to rising FNNs. Valid embedding achieved ✓.\n",
      "[0, 1, 1, 0][1, 2, 1, 2]\n"
     ]
    },
    {
     "name": "stdout",
     "output_type": "stream",
     "text": [
      "Algorithm stopped due to rising FNNs. Valid embedding achieved ✓.\n",
      "[0, 1, 0, 1][2, 1, 1, 2]\n"
     ]
    },
    {
     "name": "stdout",
     "output_type": "stream",
     "text": [
      "Algorithm stopped due to rising FNNs. Valid embedding achieved ✓.\n",
      "[0, 1, 1, 0][1, 2, 1, 2]\n"
     ]
    },
    {
     "name": "stdout",
     "output_type": "stream",
     "text": [
      "Algorithm stopped due to rising FNNs. Valid embedding achieved ✓.\n",
      "[0, 1, 1, 0][1, 2, 1, 2]"
     ]
    },
    {
     "name": "stdout",
     "output_type": "stream",
     "text": [
      "\n",
      "Algorithm stopped due to rising FNNs. Valid embedding achieved ✓.\n",
      "[0, 1, 1, 0][2, 1, 2, 1]\n"
     ]
    },
    {
     "name": "stdout",
     "output_type": "stream",
     "text": [
      "Algorithm stopped due to rising FNNs. Valid embedding achieved ✓.\n",
      "[0, 1, 0, 1][1, 2, 2, 1]\n"
     ]
    },
    {
     "name": "stdout",
     "output_type": "stream",
     "text": [
      "Algorithm stopped due to rising FNNs. Valid embedding achieved ✓.\n",
      "[0, 0, 1, 1][1, 2, 1, 2]\n"
     ]
    },
    {
     "name": "stdout",
     "output_type": "stream",
     "text": [
      "Algorithm stopped due to rising FNNs. Valid embedding achieved ✓.\n",
      "[0, 0, 1, 1][1, 2, 2, 1]\n"
     ]
    },
    {
     "name": "stdout",
     "output_type": "stream",
     "text": [
      "Algorithm stopped due to rising FNNs. Valid embedding achieved ✓.\n",
      "[0, 1, 0, 1][2, 1, 1, 2]"
     ]
    },
    {
     "name": "stdout",
     "output_type": "stream",
     "text": [
      "\n",
      "Algorithm stopped due to rising FNNs. Valid embedding achieved ✓.\n",
      "[0, 1, 0, 1][2, 1, 1, 2]"
     ]
    },
    {
     "name": "stdout",
     "output_type": "stream",
     "text": [
      "\n",
      "Algorithm stopped due to rising FNNs. Valid embedding achieved ✓.\n",
      "[0, 0, 1, 1][2, 1, 1, 2]\n"
     ]
    },
    {
     "name": "stdout",
     "output_type": "stream",
     "text": [
      "Algorithm stopped due to rising FNNs. Valid embedding achieved ✓.\n",
      "[0, 1, 0, 1][1, 2, 2, 1]\n"
     ]
    },
    {
     "name": "stdout",
     "output_type": "stream",
     "text": [
      "Algorithm stopped due to rising FNNs. Valid embedding achieved ✓.\n",
      "[0, 1, 1, 0][2, 1, 2, 1]\n"
     ]
    },
    {
     "name": "stdout",
     "output_type": "stream",
     "text": [
      "Algorithm stopped due to rising FNNs. Valid embedding achieved ✓.\n",
      "[0, 0, 1, 1][1, 2, 1, 2]\n"
     ]
    },
    {
     "name": "stdout",
     "output_type": "stream",
     "text": [
      "Algorithm stopped due to rising FNNs. Valid embedding achieved ✓.\n",
      "[0, 1, 0, 1][1, 2, 2, 1]\n"
     ]
    },
    {
     "name": "stdout",
     "output_type": "stream",
     "text": [
      "Algorithm stopped due to rising FNNs. Valid embedding achieved ✓.\n",
      "[0, 1, 0, 1][2, 1, 1, 2]\n"
     ]
    },
    {
     "name": "stdout",
     "output_type": "stream",
     "text": [
      "Algorithm stopped due to rising FNNs. Valid embedding achieved ✓.\n",
      "[0, 1, 1, 0][1, 2, 1, 2]\n"
     ]
    },
    {
     "name": "stdout",
     "output_type": "stream",
     "text": [
      "Algorithm stopped due to rising FNNs. Valid embedding achieved ✓.\n",
      "[0, 0, 1, 1][2, 1, 2, 1]\n"
     ]
    },
    {
     "name": "stdout",
     "output_type": "stream",
     "text": [
      "Algorithm stopped due to rising FNNs. Valid embedding achieved ✓.\n",
      "[0, 1, 1, 0][1, 2, 1, 2]\n"
     ]
    },
    {
     "name": "stdout",
     "output_type": "stream",
     "text": [
      "Algorithm stopped due to rising FNNs. Valid embedding achieved ✓.\n",
      "[0, 1, 0, 1][1, 2, 2, 1]\n"
     ]
    },
    {
     "name": "stdout",
     "output_type": "stream",
     "text": [
      "Algorithm stopped due to rising FNNs. Valid embedding achieved ✓.\n",
      "[0, 0, 1, 1][1, 2, 2, 1]\n"
     ]
    },
    {
     "name": "stdout",
     "output_type": "stream",
     "text": [
      "Algorithm stopped due to rising FNNs. Valid embedding achieved ✓.\n",
      "[0, 1, 1, 0][1, 2, 1, 2]\n"
     ]
    },
    {
     "name": "stdout",
     "output_type": "stream",
     "text": [
      "Algorithm stopped due to rising FNNs. Valid embedding achieved ✓.\n",
      "[0, 0, 1, 1][2, 1, 1, 2]\n"
     ]
    },
    {
     "name": "stdout",
     "output_type": "stream",
     "text": [
      "Algorithm stopped due to rising FNNs. Valid embedding achieved ✓.\n",
      "[0, 1, 0, 1][2, 1, 1, 2]\n"
     ]
    },
    {
     "name": "stdout",
     "output_type": "stream",
     "text": [
      "Algorithm stopped due to rising FNNs. Valid embedding achieved ✓.\n",
      "[0, 1, 1, 0][1, 2, 1, 2]\n"
     ]
    },
    {
     "name": "stdout",
     "output_type": "stream",
     "text": [
      "Algorithm stopped due to rising FNNs. Valid embedding achieved ✓.\n",
      "[0, 1, 1, 0][2, 1, 2, 1]"
     ]
    },
    {
     "name": "stdout",
     "output_type": "stream",
     "text": [
      "\n",
      "Algorithm stopped due to rising FNNs. Valid embedding achieved ✓.\n",
      "[0, 1, 1, 0][1, 2, 1, 2]\n"
     ]
    },
    {
     "name": "stdout",
     "output_type": "stream",
     "text": [
      "Algorithm stopped due to rising FNNs. Valid embedding achieved ✓.\n",
      "[0, 1, 1, 0][2, 1, 2, 1]\n"
     ]
    }
   ],
   "source": [
    "for i = 1:100\n",
    "    fid = h5open(\"E:/LearningEmbedding/data_collection/Lorenz96/noisy_lorenz96_N8_no\"*string(i)*\".h5\", \"r\")\n",
    "    Y = Array(fid[\"xM\"])\n",
    "\n",
    "    inds = [2,6] # input timeseries = x2-component and x6-component of Lorenz\n",
    "    theiler1 = estimate_delay(Y[:,inds[1]], \"mi_min\") # estimate a Theiler window\n",
    "    theiler2 = estimate_delay(Y[:,inds[2]], \"mi_min\")\n",
    "    w = maximum(hcat(theiler1, theiler2))\n",
    "    tw1 = mdop_maximum_delay(Y[:,inds[1]]) #\n",
    "    tw2 = mdop_maximum_delay(Y[:,inds[2]]) #\n",
    "    lm1 = findlocalminima(tw1[2])\n",
    "    lm2 = findlocalminima(tw2[2])\n",
    "    # println(lm)\n",
    "    if lm1[1] ≤ 2\n",
    "        lmm1 = try lm1[2]\n",
    "        catch\n",
    "            lm1[1]\n",
    "        end\n",
    "    else\n",
    "        lmm1 = lm1[1]\n",
    "    end\n",
    "    if lm2[1] ≤ 2\n",
    "        lmm2 = try lm2[2]\n",
    "        catch\n",
    "            lm2[1]\n",
    "        end\n",
    "    else\n",
    "        lmm2 = lm2[1]\n",
    "    end\n",
    "    lmm = maximum(hcat(lmm1, lmm2))\n",
    "    taus_mdop = 0:lmm\n",
    "    # taus_mdop = 1:50\n",
    "    # println(lm)\n",
    "    close(fid)\n",
    "\n",
    "    Recon_mdop, τ_vals_mdop, ts_vals_mdop, FNNs_mdop , βs_mdop = mdop_embedding(Dataset(Y[:,inds]); τs = taus_mdop , w = w)\n",
    "    println(τ_vals_mdop, ts_vals_mdop)\n",
    "    ff = h5open(\"e:/LearningEmbedding/results/MDOP/Lorenz96-multi/noisy_lorenz96_multi_no\"*string(i)*\".h5\", \"cw\")\n",
    "    N = size(Recon_mdop,1)\n",
    "    if length(size(Recon_mdop)) > 1\n",
    "        ff[\"Embedding\"] = Matrix(Recon_mdop)\n",
    "    else\n",
    "        Recon_mdop = reshape(Recon_mdop,N,1)\n",
    "        ff[\"Embedding\"] = Matrix(Recon_mdop)\n",
    "    end\n",
    "    ff[\"delays\"] = τ_vals_mdop\n",
    "    ff[\"variables\"] = ts_vals_mdop\n",
    "    close(ff)\n",
    "    close(fid)\n",
    "end"
   ]
  },
  {
   "cell_type": "code",
   "execution_count": 2,
   "metadata": {},
   "outputs": [
    {
     "name": "stdout",
     "output_type": "stream",
     "text": [
      "Algorithm stopped due to sufficiently small FNNs. Valid embedding achieved ✓.\n"
     ]
    },
    {
     "name": "stdout",
     "output_type": "stream",
     "text": [
      "[0, 1, 1, 7, 4, 2][1, 1, 2, 2, 1, 2]\n"
     ]
    },
    {
     "name": "stdout",
     "output_type": "stream",
     "text": [
      "Algorithm stopped due to sufficiently small FNNs. Valid embedding achieved ✓.\n",
      "[0, 1, 6, 3, 1, 2][1, 2, 1, 1, 1, 1]\n"
     ]
    },
    {
     "name": "stdout",
     "output_type": "stream",
     "text": [
      "Algorithm stopped due to sufficiently small FNNs. Valid embedding achieved ✓.\n",
      "[0, 2, 6, 2, 1, 3][1, 2, 1, 1, 1, 1]\n"
     ]
    },
    {
     "name": "stdout",
     "output_type": "stream",
     "text": [
      "Algorithm stopped due to sufficiently small FNNs. Valid embedding achieved ✓.\n",
      "[0, 2, 6, 2, 1, 3][1, 2, 1, 1, 1, 1]"
     ]
    },
    {
     "name": "stdout",
     "output_type": "stream",
     "text": [
      "\n",
      "Algorithm stopped due to rising FNNs. Valid embedding achieved ✓.\n",
      "[0, 1, 4, 7][1, 1, 2, 2]"
     ]
    },
    {
     "name": "stdout",
     "output_type": "stream",
     "text": [
      "\n",
      "Algorithm stopped due to rising FNNs. Valid embedding achieved ✓.\n",
      "[0, 3, 2, 1, 2, 8][1, 1, 2, 1, 1, 1]\n"
     ]
    },
    {
     "name": "stdout",
     "output_type": "stream",
     "text": [
      "Algorithm stopped due to sufficiently small FNNs. Valid embedding achieved ✓.\n",
      "[0, 2, 6, 2, 1, 4][1, 2, 1, 1, 1, 1]\n"
     ]
    },
    {
     "name": "stdout",
     "output_type": "stream",
     "text": [
      "Algorithm stopped due to rising FNNs. Valid embedding achieved ✓.\n",
      "[0, 2, 1, 1, 7][1, 1, 2, 1, 1]\n"
     ]
    },
    {
     "name": "stdout",
     "output_type": "stream",
     "text": [
      "Algorithm stopped due to sufficiently small FNNs. Valid embedding achieved ✓.\n",
      "[0, 1, 6, 3, 1, 2][1, 2, 1, 1, 1, 1]\n"
     ]
    }
   ],
   "source": [
    "for i = 92:100\n",
    "    fid = h5open(\"E:/LearningEmbedding/data_collection/Lorenz96/noisy_lorenz96_N8_no\"*string(i)*\".h5\", \"r\")\n",
    "    Y = Array(fid[\"xM\"])\n",
    "\n",
    "    inds = [2,6] # input timeseries = x2-component and x6-component of Lorenz\n",
    "    theiler1 = estimate_delay(Y[:,inds[1]], \"mi_min\") # estimate a Theiler window\n",
    "    theiler2 = estimate_delay(Y[:,inds[2]], \"mi_min\")\n",
    "    w = maximum(hcat(theiler1, theiler2))\n",
    "    Tmax = 50 # maximum possible delay\n",
    "\n",
    "\n",
    "    Recon_GA, τ_vals_GA, ts_vals_GA, FNNs_GA , ns_GA = garcia_almeida_embedding(Dataset(Y[:,inds]); τs = 0:Tmax , w = w, T = w)\n",
    "    println(τ_vals_GA, ts_vals_GA)\n",
    "    ff = h5open(\"e:/LearningEmbedding/results/GA/Lorenz96-multi/noisy_lorenz96_multi_no\"*string(i)*\".h5\", \"cw\")\n",
    "    N = size(Recon_GA,1)\n",
    "    if length(size(Recon_GA)) > 1\n",
    "        ff[\"Embedding\"] = Matrix(Recon_GA)\n",
    "    else\n",
    "        Recon_GA = reshape(Recon_GA,N,1)\n",
    "        ff[\"Embedding\"] = Matrix(Recon_GA)\n",
    "    end\n",
    "    ff[\"delays\"] = τ_vals_GA\n",
    "    ff[\"variables\"] = ts_vals_GA\n",
    "    close(ff)\n",
    "    close(fid)\n",
    "end\n"
   ]
  },
  {
   "cell_type": "markdown",
   "metadata": {},
   "source": [
    "### Variable selection + Multivariate embedding"
   ]
  },
  {
   "cell_type": "markdown",
   "metadata": {},
   "source": [
    "#### Already measured:  \n",
    "x-component, y-component from Chaotic Rossler system and x1-component, x2-component from Lorenz96 system\n",
    "#### Task:  \n",
    "Reconstruct the state space of Chaotic Rossler system "
   ]
  },
  {
   "cell_type": "code",
   "execution_count": 5,
   "metadata": {},
   "outputs": [
    {
     "name": "stdout",
     "output_type": "stream",
     "text": [
      "Initializing PECUZAL algorithm for multivariate input...\n",
      "Starting 1-th embedding cycle...\n"
     ]
    },
    {
     "name": "stdout",
     "output_type": "stream",
     "text": [
      "Starting 2-th embedding cycle..."
     ]
    },
    {
     "name": "stdout",
     "output_type": "stream",
     "text": [
      "\n",
      "Starting 3-th embedding cycle...\n"
     ]
    },
    {
     "name": "stdout",
     "output_type": "stream",
     "text": [
      "Algorithm stopped due to increasing L-values. VALID embedding achieved ✓.\n",
      "[0, 0, 18][4, 3, 3]\n",
      "Initializing PECUZAL algorithm for multivariate input...\n",
      "Starting 1-th embedding cycle..."
     ]
    },
    {
     "name": "stdout",
     "output_type": "stream",
     "text": [
      "\n",
      "Starting 2-th embedding cycle..."
     ]
    },
    {
     "name": "stdout",
     "output_type": "stream",
     "text": [
      "\n",
      "Starting 3-th embedding cycle...\n"
     ]
    },
    {
     "name": "stdout",
     "output_type": "stream",
     "text": [
      "Algorithm stopped due to increasing L-values. VALID embedding achieved ✓.\n",
      "[0, 0, 18][4, 3, 3]\n",
      "Initializing PECUZAL algorithm for multivariate input...\n",
      "Starting 1-th embedding cycle..."
     ]
    },
    {
     "name": "stdout",
     "output_type": "stream",
     "text": [
      "\n",
      "Starting 2-th embedding cycle...\n"
     ]
    },
    {
     "name": "stdout",
     "output_type": "stream",
     "text": [
      "Starting 3-th embedding cycle...\n"
     ]
    },
    {
     "name": "stdout",
     "output_type": "stream",
     "text": [
      "Algorithm stopped due to increasing L-values. VALID embedding achieved ✓.\n",
      "[0, 0, 18][4, 3, 3]\n",
      "Initializing PECUZAL algorithm for multivariate input...\n",
      "Starting 1-th embedding cycle...\n"
     ]
    },
    {
     "name": "stdout",
     "output_type": "stream",
     "text": [
      "Starting 2-th embedding cycle...\n"
     ]
    },
    {
     "name": "stdout",
     "output_type": "stream",
     "text": [
      "Starting 3-th embedding cycle..."
     ]
    },
    {
     "name": "stdout",
     "output_type": "stream",
     "text": [
      "\n",
      "Algorithm stopped due to increasing L-values. VALID embedding achieved ✓.\n",
      "[0, 0, 18][4, 3, 3]\n",
      "Initializing PECUZAL algorithm for multivariate input...\n",
      "Starting 1-th embedding cycle..."
     ]
    },
    {
     "name": "stdout",
     "output_type": "stream",
     "text": [
      "\n",
      "Starting 2-th embedding cycle...\n",
      "Starting 3-th embedding cycle..."
     ]
    },
    {
     "name": "stdout",
     "output_type": "stream",
     "text": [
      "\n"
     ]
    },
    {
     "name": "stdout",
     "output_type": "stream",
     "text": [
      "Algorithm stopped due to increasing L-values. VALID embedding achieved ✓.\n",
      "[0, 0, 18][4, 3, 3]\n",
      "Initializing PECUZAL algorithm for multivariate input...\n",
      "Starting 1-th embedding cycle...\n"
     ]
    },
    {
     "name": "stdout",
     "output_type": "stream",
     "text": [
      "Starting 2-th embedding cycle..."
     ]
    },
    {
     "name": "stdout",
     "output_type": "stream",
     "text": [
      "\n",
      "Starting 3-th embedding cycle...\n"
     ]
    },
    {
     "name": "stdout",
     "output_type": "stream",
     "text": [
      "Algorithm stopped due to increasing L-values. VALID embedding achieved ✓.\n",
      "[0, 0, 18][4, 3, 3]\n",
      "Initializing PECUZAL algorithm for multivariate input...\n",
      "Starting 1-th embedding cycle..."
     ]
    },
    {
     "name": "stdout",
     "output_type": "stream",
     "text": [
      "\n",
      "Starting 2-th embedding cycle...\n"
     ]
    },
    {
     "name": "stdout",
     "output_type": "stream",
     "text": [
      "Starting 3-th embedding cycle..."
     ]
    },
    {
     "name": "stdout",
     "output_type": "stream",
     "text": [
      "\n",
      "Algorithm stopped due to increasing L-values. VALID embedding achieved ✓.\n",
      "[0, 0, 18][4, 3, 3]\n",
      "Initializing PECUZAL algorithm for multivariate input...\n",
      "Starting 1-th embedding cycle...\n"
     ]
    },
    {
     "name": "stdout",
     "output_type": "stream",
     "text": [
      "Starting 2-th embedding cycle...\n"
     ]
    },
    {
     "name": "stdout",
     "output_type": "stream",
     "text": [
      "Starting 3-th embedding cycle...\n"
     ]
    },
    {
     "name": "stdout",
     "output_type": "stream",
     "text": [
      "Algorithm stopped due to increasing L-values. VALID embedding achieved ✓.\n",
      "[0, 6, 18][3, 4, 3]\n",
      "Initializing PECUZAL algorithm for multivariate input...\n",
      "Starting 1-th embedding cycle..."
     ]
    },
    {
     "name": "stdout",
     "output_type": "stream",
     "text": [
      "\n",
      "Starting 2-th embedding cycle...\n"
     ]
    },
    {
     "name": "stdout",
     "output_type": "stream",
     "text": [
      "Starting 3-th embedding cycle...\n"
     ]
    },
    {
     "name": "stdout",
     "output_type": "stream",
     "text": [
      "Algorithm stopped due to increasing L-values. VALID embedding achieved ✓.\n",
      "[0, 0, 18][4, 3, 3]\n",
      "Initializing PECUZAL algorithm for multivariate input...\n",
      "Starting 1-th embedding cycle..."
     ]
    },
    {
     "name": "stdout",
     "output_type": "stream",
     "text": [
      "\n",
      "Starting 2-th embedding cycle...\n"
     ]
    },
    {
     "name": "stdout",
     "output_type": "stream",
     "text": [
      "Starting 3-th embedding cycle...\n"
     ]
    },
    {
     "name": "stdout",
     "output_type": "stream",
     "text": [
      "Algorithm stopped due to increasing L-values. VALID embedding achieved ✓.\n",
      "[0, 0, 18][4, 3, 3]\n",
      "Initializing PECUZAL algorithm for multivariate input...\n",
      "Starting 1-th embedding cycle...\n"
     ]
    },
    {
     "name": "stdout",
     "output_type": "stream",
     "text": [
      "Starting 2-th embedding cycle...\n"
     ]
    },
    {
     "name": "stdout",
     "output_type": "stream",
     "text": [
      "Starting 3-th embedding cycle..."
     ]
    },
    {
     "name": "stdout",
     "output_type": "stream",
     "text": [
      "\n",
      "Algorithm stopped due to increasing L-values. VALID embedding achieved ✓.\n",
      "[0, 0, 18][4, 3, 3]\n",
      "Initializing PECUZAL algorithm for multivariate input...\n",
      "Starting 1-th embedding cycle..."
     ]
    },
    {
     "name": "stdout",
     "output_type": "stream",
     "text": [
      "\n",
      "Starting 2-th embedding cycle...\n"
     ]
    },
    {
     "name": "stdout",
     "output_type": "stream",
     "text": [
      "Starting 3-th embedding cycle...\n"
     ]
    },
    {
     "name": "stdout",
     "output_type": "stream",
     "text": [
      "Algorithm stopped due to increasing L-values. VALID embedding achieved ✓.\n",
      "[0, 0, 18][4, 3, 3]\n",
      "Initializing PECUZAL algorithm for multivariate input...\n",
      "Starting 1-th embedding cycle..."
     ]
    },
    {
     "name": "stdout",
     "output_type": "stream",
     "text": [
      "\n",
      "Starting 2-th embedding cycle...\n"
     ]
    },
    {
     "name": "stdout",
     "output_type": "stream",
     "text": [
      "Starting 3-th embedding cycle...\n",
      "Algorithm stopped due to increasing L-values. VALID embedding achieved ✓.\n",
      "[0, 0, 18][4, 3, 3]\n",
      "Initializing PECUZAL algorithm for multivariate input...\n",
      "Starting 1-th embedding cycle...\n"
     ]
    },
    {
     "name": "stdout",
     "output_type": "stream",
     "text": [
      "Starting 2-th embedding cycle...\n"
     ]
    },
    {
     "name": "stdout",
     "output_type": "stream",
     "text": [
      "Starting 3-th embedding cycle...\n"
     ]
    },
    {
     "name": "stdout",
     "output_type": "stream",
     "text": [
      "Algorithm stopped due to increasing L-values. VALID embedding achieved ✓.\n",
      "[0, 0, 18][4, 3, 3]\n",
      "Initializing PECUZAL algorithm for multivariate input...\n",
      "Starting 1-th embedding cycle...\n"
     ]
    },
    {
     "name": "stdout",
     "output_type": "stream",
     "text": [
      "Starting 2-th embedding cycle...\n"
     ]
    },
    {
     "name": "stdout",
     "output_type": "stream",
     "text": [
      "Starting 3-th embedding cycle...\n"
     ]
    },
    {
     "name": "stdout",
     "output_type": "stream",
     "text": [
      "Algorithm stopped due to increasing L-values. VALID embedding achieved ✓.\n",
      "[0, 0, 18][4, 3, 3]\n",
      "Initializing PECUZAL algorithm for multivariate input...\n",
      "Starting 1-th embedding cycle...\n"
     ]
    },
    {
     "name": "stdout",
     "output_type": "stream",
     "text": [
      "Starting 2-th embedding cycle...\n"
     ]
    },
    {
     "name": "stdout",
     "output_type": "stream",
     "text": [
      "Starting 3-th embedding cycle..."
     ]
    },
    {
     "name": "stdout",
     "output_type": "stream",
     "text": [
      "\n",
      "Algorithm stopped due to increasing L-values. VALID embedding achieved ✓.\n",
      "[0, 0, 18][4, 3, 3]\n",
      "Initializing PECUZAL algorithm for multivariate input...\n",
      "Starting 1-th embedding cycle...\n"
     ]
    },
    {
     "name": "stdout",
     "output_type": "stream",
     "text": [
      "Starting 2-th embedding cycle...\n"
     ]
    },
    {
     "name": "stdout",
     "output_type": "stream",
     "text": [
      "Starting 3-th embedding cycle...\n"
     ]
    },
    {
     "name": "stdout",
     "output_type": "stream",
     "text": [
      "Algorithm stopped due to increasing L-values. VALID embedding achieved ✓.\n",
      "[0, 0, 18][4, 3, 3]\n",
      "Initializing PECUZAL algorithm for multivariate input...\n",
      "Starting 1-th embedding cycle...\n"
     ]
    },
    {
     "name": "stdout",
     "output_type": "stream",
     "text": [
      "Starting 2-th embedding cycle...\n"
     ]
    },
    {
     "name": "stdout",
     "output_type": "stream",
     "text": [
      "Starting 3-th embedding cycle...\n"
     ]
    },
    {
     "name": "stdout",
     "output_type": "stream",
     "text": [
      "Algorithm stopped due to increasing L-values. VALID embedding achieved ✓.\n",
      "[0, 0, 18][4, 3, 3]\n",
      "Initializing PECUZAL algorithm for multivariate input...\n",
      "Starting 1-th embedding cycle..."
     ]
    },
    {
     "name": "stdout",
     "output_type": "stream",
     "text": [
      "\n",
      "Starting 2-th embedding cycle...\n"
     ]
    },
    {
     "name": "stdout",
     "output_type": "stream",
     "text": [
      "Starting 3-th embedding cycle...\n"
     ]
    },
    {
     "name": "stdout",
     "output_type": "stream",
     "text": [
      "Algorithm stopped due to increasing L-values. VALID embedding achieved ✓.\n",
      "[0, 0, 18][4, 3, 3]\n",
      "Initializing PECUZAL algorithm for multivariate input...\n",
      "Starting 1-th embedding cycle...\n"
     ]
    },
    {
     "name": "stdout",
     "output_type": "stream",
     "text": [
      "Starting 2-th embedding cycle...\n"
     ]
    },
    {
     "name": "stdout",
     "output_type": "stream",
     "text": [
      "Starting 3-th embedding cycle...\n"
     ]
    },
    {
     "name": "stdout",
     "output_type": "stream",
     "text": [
      "Algorithm stopped due to increasing L-values. VALID embedding achieved ✓.\n",
      "[0, 0, 18][4, 3, 3]\n",
      "Initializing PECUZAL algorithm for multivariate input...\n",
      "Starting 1-th embedding cycle..."
     ]
    },
    {
     "name": "stdout",
     "output_type": "stream",
     "text": [
      "\n",
      "Starting 2-th embedding cycle..."
     ]
    },
    {
     "name": "stdout",
     "output_type": "stream",
     "text": [
      "\n",
      "Starting 3-th embedding cycle...\n",
      "Algorithm stopped due to increasing L-values. VALID embedding achieved ✓."
     ]
    },
    {
     "name": "stdout",
     "output_type": "stream",
     "text": [
      "\n",
      "[0, 0, 18][4, 3, 3]\n",
      "Initializing PECUZAL algorithm for multivariate input...\n",
      "Starting 1-th embedding cycle..."
     ]
    },
    {
     "name": "stdout",
     "output_type": "stream",
     "text": [
      "\n",
      "Starting 2-th embedding cycle...\n"
     ]
    },
    {
     "name": "stdout",
     "output_type": "stream",
     "text": [
      "Starting 3-th embedding cycle...\n"
     ]
    },
    {
     "name": "stdout",
     "output_type": "stream",
     "text": [
      "Algorithm stopped due to increasing L-values. VALID embedding achieved ✓.\n",
      "[0, 0, 18][4, 3, 3]\n",
      "Initializing PECUZAL algorithm for multivariate input...\n",
      "Starting 1-th embedding cycle..."
     ]
    },
    {
     "name": "stdout",
     "output_type": "stream",
     "text": [
      "\n",
      "Starting 2-th embedding cycle...\n"
     ]
    },
    {
     "name": "stdout",
     "output_type": "stream",
     "text": [
      "Starting 3-th embedding cycle...\n"
     ]
    },
    {
     "name": "stdout",
     "output_type": "stream",
     "text": [
      "Algorithm stopped due to increasing L-values. VALID embedding achieved ✓.\n",
      "[0, 0, 18][4, 3, 3]\n",
      "Initializing PECUZAL algorithm for multivariate input...\n",
      "Starting 1-th embedding cycle..."
     ]
    },
    {
     "name": "stdout",
     "output_type": "stream",
     "text": [
      "\n",
      "Starting 2-th embedding cycle...\n"
     ]
    },
    {
     "name": "stdout",
     "output_type": "stream",
     "text": [
      "Starting 3-th embedding cycle...\n"
     ]
    },
    {
     "name": "stdout",
     "output_type": "stream",
     "text": [
      "Algorithm stopped due to increasing L-values. VALID embedding achieved ✓.\n",
      "[0, 0, 18][4, 3, 3]\n",
      "Initializing PECUZAL algorithm for multivariate input...\n",
      "Starting 1-th embedding cycle..."
     ]
    },
    {
     "name": "stdout",
     "output_type": "stream",
     "text": [
      "\n",
      "Starting 2-th embedding cycle...\n"
     ]
    },
    {
     "name": "stdout",
     "output_type": "stream",
     "text": [
      "Starting 3-th embedding cycle...\n"
     ]
    },
    {
     "name": "stdout",
     "output_type": "stream",
     "text": [
      "Algorithm stopped due to increasing L-values. VALID embedding achieved ✓.\n",
      "[0, 0, 18][4, 3, 3]\n",
      "Initializing PECUZAL algorithm for multivariate input...\n",
      "Starting 1-th embedding cycle...\n"
     ]
    },
    {
     "name": "stdout",
     "output_type": "stream",
     "text": [
      "Starting 2-th embedding cycle...\n"
     ]
    },
    {
     "name": "stdout",
     "output_type": "stream",
     "text": [
      "Starting 3-th embedding cycle..."
     ]
    },
    {
     "name": "stdout",
     "output_type": "stream",
     "text": [
      "\n",
      "Algorithm stopped due to increasing L-values. VALID embedding achieved ✓.\n",
      "[0, 0, 18][4, 3, 3]\n",
      "Initializing PECUZAL algorithm for multivariate input...\n",
      "Starting 1-th embedding cycle...\n"
     ]
    },
    {
     "name": "stdout",
     "output_type": "stream",
     "text": [
      "Starting 2-th embedding cycle...\n"
     ]
    },
    {
     "name": "stdout",
     "output_type": "stream",
     "text": [
      "Starting 3-th embedding cycle..."
     ]
    },
    {
     "name": "stdout",
     "output_type": "stream",
     "text": [
      "\n",
      "Algorithm stopped due to increasing L-values. VALID embedding achieved ✓.\n",
      "[0, 0, 18][4, 3, 3]\n",
      "Initializing PECUZAL algorithm for multivariate input...\n",
      "Starting 1-th embedding cycle..."
     ]
    },
    {
     "name": "stdout",
     "output_type": "stream",
     "text": [
      "\n",
      "Starting 2-th embedding cycle...\n"
     ]
    },
    {
     "name": "stdout",
     "output_type": "stream",
     "text": [
      "Starting 3-th embedding cycle...\n"
     ]
    },
    {
     "name": "stdout",
     "output_type": "stream",
     "text": [
      "Algorithm stopped due to increasing L-values. VALID embedding achieved ✓.\n",
      "[0, 6, 18][3, 4, 3]\n",
      "Initializing PECUZAL algorithm for multivariate input...\n",
      "Starting 1-th embedding cycle..."
     ]
    },
    {
     "name": "stdout",
     "output_type": "stream",
     "text": [
      "\n",
      "Starting 2-th embedding cycle..."
     ]
    },
    {
     "name": "stdout",
     "output_type": "stream",
     "text": [
      "\n",
      "Starting 3-th embedding cycle...\n"
     ]
    },
    {
     "name": "stdout",
     "output_type": "stream",
     "text": [
      "Algorithm stopped due to increasing L-values. VALID embedding achieved ✓.\n",
      "[0, 0, 18][4, 3, 3]\n",
      "Initializing PECUZAL algorithm for multivariate input...\n",
      "Starting 1-th embedding cycle...\n"
     ]
    },
    {
     "name": "stdout",
     "output_type": "stream",
     "text": [
      "Starting 2-th embedding cycle...\n"
     ]
    },
    {
     "name": "stdout",
     "output_type": "stream",
     "text": [
      "Starting 3-th embedding cycle...\n"
     ]
    },
    {
     "name": "stdout",
     "output_type": "stream",
     "text": [
      "Algorithm stopped due to increasing L-values. VALID embedding achieved ✓.\n",
      "[0, 0, 18][4, 3, 3]\n",
      "Initializing PECUZAL algorithm for multivariate input...\n",
      "Starting 1-th embedding cycle..."
     ]
    },
    {
     "name": "stdout",
     "output_type": "stream",
     "text": [
      "\n",
      "Starting 2-th embedding cycle...\n"
     ]
    },
    {
     "name": "stdout",
     "output_type": "stream",
     "text": [
      "Starting 3-th embedding cycle...\n"
     ]
    },
    {
     "name": "stdout",
     "output_type": "stream",
     "text": [
      "Algorithm stopped due to increasing L-values. VALID embedding achieved ✓.\n",
      "[0, 0, 17][4, 3, 3]\n",
      "Initializing PECUZAL algorithm for multivariate input...\n",
      "Starting 1-th embedding cycle..."
     ]
    },
    {
     "name": "stdout",
     "output_type": "stream",
     "text": [
      "\n"
     ]
    },
    {
     "name": "stdout",
     "output_type": "stream",
     "text": [
      "Starting 2-th embedding cycle...\n",
      "Starting 3-th embedding cycle...\n"
     ]
    },
    {
     "name": "stdout",
     "output_type": "stream",
     "text": [
      "Algorithm stopped due to increasing L-values. VALID embedding achieved ✓.\n",
      "[0, 0, 18][4, 3, 3]\n",
      "Initializing PECUZAL algorithm for multivariate input...\n",
      "Starting 1-th embedding cycle...\n"
     ]
    },
    {
     "name": "stdout",
     "output_type": "stream",
     "text": [
      "Starting 2-th embedding cycle...\n"
     ]
    },
    {
     "name": "stdout",
     "output_type": "stream",
     "text": [
      "Starting 3-th embedding cycle...\n"
     ]
    },
    {
     "name": "stdout",
     "output_type": "stream",
     "text": [
      "Algorithm stopped due to increasing L-values. VALID embedding achieved ✓.\n",
      "[0, 0, 17][4, 3, 3]\n",
      "Initializing PECUZAL algorithm for multivariate input...\n",
      "Starting 1-th embedding cycle..."
     ]
    },
    {
     "name": "stdout",
     "output_type": "stream",
     "text": [
      "\n",
      "Starting 2-th embedding cycle...\n"
     ]
    },
    {
     "name": "stdout",
     "output_type": "stream",
     "text": [
      "Starting 3-th embedding cycle..."
     ]
    },
    {
     "name": "stdout",
     "output_type": "stream",
     "text": [
      "\n",
      "Algorithm stopped due to increasing L-values. VALID embedding achieved ✓.\n",
      "[0, 0, 18][4, 3, 3]\n",
      "Initializing PECUZAL algorithm for multivariate input...\n",
      "Starting 1-th embedding cycle..."
     ]
    },
    {
     "name": "stdout",
     "output_type": "stream",
     "text": [
      "\n",
      "Starting 2-th embedding cycle...\n"
     ]
    },
    {
     "name": "stdout",
     "output_type": "stream",
     "text": [
      "Starting 3-th embedding cycle..."
     ]
    },
    {
     "name": "stdout",
     "output_type": "stream",
     "text": [
      "\n",
      "Algorithm stopped due to increasing L-values. VALID embedding achieved ✓.\n",
      "[0, 0, 18][4, 3, 3]\n",
      "Initializing PECUZAL algorithm for multivariate input...\n",
      "Starting 1-th embedding cycle..."
     ]
    },
    {
     "name": "stdout",
     "output_type": "stream",
     "text": [
      "\n",
      "Starting 2-th embedding cycle...\n",
      "Starting 3-th embedding cycle..."
     ]
    },
    {
     "name": "stdout",
     "output_type": "stream",
     "text": [
      "\n",
      "Algorithm stopped due to increasing L-values. VALID embedding achieved ✓.\n",
      "[0, 0, 18][4, 3, 3]\n",
      "Initializing PECUZAL algorithm for multivariate input...\n",
      "Starting 1-th embedding cycle..."
     ]
    },
    {
     "name": "stdout",
     "output_type": "stream",
     "text": [
      "\n",
      "Starting 2-th embedding cycle...\n"
     ]
    },
    {
     "name": "stdout",
     "output_type": "stream",
     "text": [
      "Starting 3-th embedding cycle...\n"
     ]
    },
    {
     "name": "stdout",
     "output_type": "stream",
     "text": [
      "Algorithm stopped due to increasing L-values. VALID embedding achieved ✓.\n",
      "[0, 0, 18][4, 3, 3]\n",
      "Initializing PECUZAL algorithm for multivariate input...\n",
      "Starting 1-th embedding cycle...\n"
     ]
    },
    {
     "name": "stdout",
     "output_type": "stream",
     "text": [
      "Starting 2-th embedding cycle...\n"
     ]
    },
    {
     "name": "stdout",
     "output_type": "stream",
     "text": [
      "Starting 3-th embedding cycle...\n"
     ]
    },
    {
     "name": "stdout",
     "output_type": "stream",
     "text": [
      "Algorithm stopped due to increasing L-values. VALID embedding achieved ✓.\n",
      "[0, 0, 18][4, 3, 3]\n",
      "Initializing PECUZAL algorithm for multivariate input...\n",
      "Starting 1-th embedding cycle...\n"
     ]
    },
    {
     "name": "stdout",
     "output_type": "stream",
     "text": [
      "Starting 2-th embedding cycle..."
     ]
    },
    {
     "name": "stdout",
     "output_type": "stream",
     "text": [
      "\n",
      "Starting 3-th embedding cycle...\n"
     ]
    },
    {
     "name": "stdout",
     "output_type": "stream",
     "text": [
      "Algorithm stopped due to increasing L-values. VALID embedding achieved ✓.\n",
      "[0, 0, 18][4, 3, 3]\n",
      "Initializing PECUZAL algorithm for multivariate input...\n",
      "Starting 1-th embedding cycle..."
     ]
    },
    {
     "name": "stdout",
     "output_type": "stream",
     "text": [
      "\n",
      "Starting 2-th embedding cycle..."
     ]
    },
    {
     "name": "stdout",
     "output_type": "stream",
     "text": [
      "\n"
     ]
    },
    {
     "name": "stdout",
     "output_type": "stream",
     "text": [
      "Starting 3-th embedding cycle...\n",
      "Algorithm stopped due to increasing L-values. VALID embedding achieved ✓.\n",
      "[0, 0, 18][4, 3, 3]\n",
      "Initializing PECUZAL algorithm for multivariate input...\n",
      "Starting 1-th embedding cycle...\n"
     ]
    },
    {
     "name": "stdout",
     "output_type": "stream",
     "text": [
      "Starting 2-th embedding cycle...\n"
     ]
    },
    {
     "name": "stdout",
     "output_type": "stream",
     "text": [
      "Starting 3-th embedding cycle..."
     ]
    },
    {
     "name": "stdout",
     "output_type": "stream",
     "text": [
      "\n",
      "Algorithm stopped due to increasing L-values. VALID embedding achieved ✓.\n",
      "[0, 6, 19][3, 4, 3]\n",
      "Initializing PECUZAL algorithm for multivariate input...\n",
      "Starting 1-th embedding cycle..."
     ]
    },
    {
     "name": "stdout",
     "output_type": "stream",
     "text": [
      "\n",
      "Starting 2-th embedding cycle..."
     ]
    },
    {
     "name": "stdout",
     "output_type": "stream",
     "text": [
      "\n",
      "Starting 3-th embedding cycle...\n"
     ]
    },
    {
     "name": "stdout",
     "output_type": "stream",
     "text": [
      "Algorithm stopped due to increasing L-values. VALID embedding achieved ✓.\n",
      "[0, 0, 18][4, 3, 3]\n",
      "Initializing PECUZAL algorithm for multivariate input...\n",
      "Starting 1-th embedding cycle..."
     ]
    },
    {
     "name": "stdout",
     "output_type": "stream",
     "text": [
      "\n",
      "Starting 2-th embedding cycle...\n"
     ]
    },
    {
     "name": "stdout",
     "output_type": "stream",
     "text": [
      "Starting 3-th embedding cycle..."
     ]
    },
    {
     "name": "stdout",
     "output_type": "stream",
     "text": [
      "\n",
      "Algorithm stopped due to increasing L-values. VALID embedding achieved ✓.\n",
      "[0, 0, 18][4, 3, 3]\n",
      "Initializing PECUZAL algorithm for multivariate input...\n",
      "Starting 1-th embedding cycle..."
     ]
    },
    {
     "name": "stdout",
     "output_type": "stream",
     "text": [
      "\n",
      "Starting 2-th embedding cycle..."
     ]
    },
    {
     "name": "stdout",
     "output_type": "stream",
     "text": [
      "\n"
     ]
    },
    {
     "name": "stdout",
     "output_type": "stream",
     "text": [
      "Starting 3-th embedding cycle...\n",
      "Algorithm stopped due to increasing L-values. VALID embedding achieved ✓.\n",
      "[0, 6, 18][3, 4, 3]\n",
      "Initializing PECUZAL algorithm for multivariate input...\n",
      "Starting 1-th embedding cycle...\n"
     ]
    },
    {
     "name": "stdout",
     "output_type": "stream",
     "text": [
      "Starting 2-th embedding cycle..."
     ]
    },
    {
     "name": "stdout",
     "output_type": "stream",
     "text": [
      "\n",
      "Starting 3-th embedding cycle...\n"
     ]
    },
    {
     "name": "stdout",
     "output_type": "stream",
     "text": [
      "Algorithm stopped due to increasing L-values. VALID embedding achieved ✓.\n",
      "[0, 0, 18][4, 3, 3]\n",
      "Initializing PECUZAL algorithm for multivariate input...\n",
      "Starting 1-th embedding cycle..."
     ]
    },
    {
     "name": "stdout",
     "output_type": "stream",
     "text": [
      "\n",
      "Starting 2-th embedding cycle...\n"
     ]
    },
    {
     "name": "stdout",
     "output_type": "stream",
     "text": [
      "Starting 3-th embedding cycle...\n"
     ]
    },
    {
     "name": "stdout",
     "output_type": "stream",
     "text": [
      "Algorithm stopped due to increasing L-values. VALID embedding achieved ✓.\n",
      "[0, 0, 18][4, 3, 3]\n",
      "Initializing PECUZAL algorithm for multivariate input...\n",
      "Starting 1-th embedding cycle...\n"
     ]
    },
    {
     "name": "stdout",
     "output_type": "stream",
     "text": [
      "Starting 2-th embedding cycle...\n"
     ]
    },
    {
     "name": "stdout",
     "output_type": "stream",
     "text": [
      "Starting 3-th embedding cycle..."
     ]
    },
    {
     "name": "stdout",
     "output_type": "stream",
     "text": [
      "\n",
      "Algorithm stopped due to increasing L-values. VALID embedding achieved ✓.\n",
      "[0, 0, 18][4, 3, 3]\n",
      "Initializing PECUZAL algorithm for multivariate input...\n",
      "Starting 1-th embedding cycle..."
     ]
    },
    {
     "name": "stdout",
     "output_type": "stream",
     "text": [
      "\n",
      "Starting 2-th embedding cycle..."
     ]
    },
    {
     "name": "stdout",
     "output_type": "stream",
     "text": [
      "\n",
      "Starting 3-th embedding cycle...\n"
     ]
    },
    {
     "name": "stdout",
     "output_type": "stream",
     "text": [
      "Algorithm stopped due to increasing L-values. VALID embedding achieved ✓.\n",
      "[0, 0, 18][4, 3, 3]\n",
      "Initializing PECUZAL algorithm for multivariate input...\n",
      "Starting 1-th embedding cycle..."
     ]
    },
    {
     "name": "stdout",
     "output_type": "stream",
     "text": [
      "\n",
      "Starting 2-th embedding cycle..."
     ]
    },
    {
     "name": "stdout",
     "output_type": "stream",
     "text": [
      "\n",
      "Starting 3-th embedding cycle...\n"
     ]
    },
    {
     "name": "stdout",
     "output_type": "stream",
     "text": [
      "Algorithm stopped due to increasing L-values. VALID embedding achieved ✓.\n",
      "[0, 0, 18][4, 3, 3]\n",
      "Initializing PECUZAL algorithm for multivariate input...\n",
      "Starting 1-th embedding cycle..."
     ]
    },
    {
     "name": "stdout",
     "output_type": "stream",
     "text": [
      "\n",
      "Starting 2-th embedding cycle..."
     ]
    },
    {
     "name": "stdout",
     "output_type": "stream",
     "text": [
      "\n",
      "Starting 3-th embedding cycle...\n"
     ]
    },
    {
     "name": "stdout",
     "output_type": "stream",
     "text": [
      "Algorithm stopped due to increasing L-values. VALID embedding achieved ✓.\n",
      "[0, 0, 18][4, 3, 3]\n",
      "Initializing PECUZAL algorithm for multivariate input...\n",
      "Starting 1-th embedding cycle...\n"
     ]
    },
    {
     "name": "stdout",
     "output_type": "stream",
     "text": [
      "Starting 2-th embedding cycle...\n"
     ]
    },
    {
     "name": "stdout",
     "output_type": "stream",
     "text": [
      "Starting 3-th embedding cycle...\n"
     ]
    },
    {
     "name": "stdout",
     "output_type": "stream",
     "text": [
      "Algorithm stopped due to increasing L-values. VALID embedding achieved ✓.\n",
      "[0, 0, 18][4, 3, 3]\n",
      "Initializing PECUZAL algorithm for multivariate input...\n",
      "Starting 1-th embedding cycle...\n"
     ]
    },
    {
     "name": "stdout",
     "output_type": "stream",
     "text": [
      "Starting 2-th embedding cycle...\n",
      "Starting 3-th embedding cycle..."
     ]
    },
    {
     "name": "stdout",
     "output_type": "stream",
     "text": [
      "\n",
      "Algorithm stopped due to increasing L-values. VALID embedding achieved ✓.\n",
      "[0, 0, 18][4, 3, 3]\n",
      "Initializing PECUZAL algorithm for multivariate input...\n",
      "Starting 1-th embedding cycle...\n"
     ]
    },
    {
     "name": "stdout",
     "output_type": "stream",
     "text": [
      "Starting 2-th embedding cycle...\n"
     ]
    },
    {
     "name": "stdout",
     "output_type": "stream",
     "text": [
      "Starting 3-th embedding cycle...\n"
     ]
    },
    {
     "name": "stdout",
     "output_type": "stream",
     "text": [
      "Algorithm stopped due to increasing L-values. VALID embedding achieved ✓.\n",
      "[0, 6, 18][3, 4, 3]\n",
      "Initializing PECUZAL algorithm for multivariate input...\n",
      "Starting 1-th embedding cycle..."
     ]
    },
    {
     "name": "stdout",
     "output_type": "stream",
     "text": [
      "\n",
      "Starting 2-th embedding cycle..."
     ]
    },
    {
     "name": "stdout",
     "output_type": "stream",
     "text": [
      "\n",
      "Starting 3-th embedding cycle..."
     ]
    },
    {
     "name": "stdout",
     "output_type": "stream",
     "text": [
      "\n",
      "Algorithm stopped due to increasing L-values. VALID embedding achieved ✓.\n",
      "[0, 0, 18][4, 3, 3]\n",
      "Initializing PECUZAL algorithm for multivariate input...\n",
      "Starting 1-th embedding cycle..."
     ]
    },
    {
     "name": "stdout",
     "output_type": "stream",
     "text": [
      "\n",
      "Starting 2-th embedding cycle...\n"
     ]
    },
    {
     "name": "stdout",
     "output_type": "stream",
     "text": [
      "Starting 3-th embedding cycle...\n"
     ]
    },
    {
     "name": "stdout",
     "output_type": "stream",
     "text": [
      "Algorithm stopped due to increasing L-values. VALID embedding achieved ✓.\n",
      "[0, 0, 18][4, 3, 3]\n",
      "Initializing PECUZAL algorithm for multivariate input...\n",
      "Starting 1-th embedding cycle..."
     ]
    },
    {
     "name": "stdout",
     "output_type": "stream",
     "text": [
      "\n",
      "Starting 2-th embedding cycle...\n"
     ]
    },
    {
     "name": "stdout",
     "output_type": "stream",
     "text": [
      "Starting 3-th embedding cycle...\n"
     ]
    },
    {
     "name": "stdout",
     "output_type": "stream",
     "text": [
      "Algorithm stopped due to increasing L-values. VALID embedding achieved ✓.\n",
      "[0, 6, 18][3, 4, 3]\n",
      "Initializing PECUZAL algorithm for multivariate input...\n",
      "Starting 1-th embedding cycle..."
     ]
    },
    {
     "name": "stdout",
     "output_type": "stream",
     "text": [
      "\n",
      "Starting 2-th embedding cycle...\n"
     ]
    },
    {
     "name": "stdout",
     "output_type": "stream",
     "text": [
      "Starting 3-th embedding cycle..."
     ]
    },
    {
     "name": "stdout",
     "output_type": "stream",
     "text": [
      "\n",
      "Algorithm stopped due to increasing L-values. VALID embedding achieved ✓.\n",
      "[0, 0, 18][4, 3, 3]\n",
      "Initializing PECUZAL algorithm for multivariate input...\n",
      "Starting 1-th embedding cycle...\n"
     ]
    },
    {
     "name": "stdout",
     "output_type": "stream",
     "text": [
      "Starting 2-th embedding cycle...\n"
     ]
    },
    {
     "name": "stdout",
     "output_type": "stream",
     "text": [
      "Starting 3-th embedding cycle..."
     ]
    },
    {
     "name": "stdout",
     "output_type": "stream",
     "text": [
      "\n",
      "Algorithm stopped due to increasing L-values. VALID embedding achieved ✓.\n",
      "[0, 0, 18][4, 3, 3]\n",
      "Initializing PECUZAL algorithm for multivariate input...\n",
      "Starting 1-th embedding cycle..."
     ]
    },
    {
     "name": "stdout",
     "output_type": "stream",
     "text": [
      "\n",
      "Starting 2-th embedding cycle..."
     ]
    },
    {
     "name": "stdout",
     "output_type": "stream",
     "text": [
      "\n",
      "Starting 3-th embedding cycle...\n"
     ]
    },
    {
     "name": "stdout",
     "output_type": "stream",
     "text": [
      "Algorithm stopped due to increasing L-values. VALID embedding achieved ✓.\n",
      "[0, 0, 18][4, 3, 3]\n",
      "Initializing PECUZAL algorithm for multivariate input...\n",
      "Starting 1-th embedding cycle..."
     ]
    },
    {
     "name": "stdout",
     "output_type": "stream",
     "text": [
      "\n",
      "Starting 2-th embedding cycle...\n"
     ]
    },
    {
     "name": "stdout",
     "output_type": "stream",
     "text": [
      "Starting 3-th embedding cycle..."
     ]
    },
    {
     "name": "stdout",
     "output_type": "stream",
     "text": [
      "\n",
      "Algorithm stopped due to increasing L-values. VALID embedding achieved ✓.\n",
      "[0, 0, 18][4, 3, 3]\n",
      "Initializing PECUZAL algorithm for multivariate input...\n",
      "Starting 1-th embedding cycle...\n"
     ]
    },
    {
     "name": "stdout",
     "output_type": "stream",
     "text": [
      "Starting 2-th embedding cycle..."
     ]
    },
    {
     "name": "stdout",
     "output_type": "stream",
     "text": [
      "\n",
      "Starting 3-th embedding cycle..."
     ]
    },
    {
     "name": "stdout",
     "output_type": "stream",
     "text": [
      "\n",
      "Algorithm stopped due to increasing L-values. VALID embedding achieved ✓.\n",
      "[0, 0, 18][4, 3, 3]\n",
      "Initializing PECUZAL algorithm for multivariate input...\n",
      "Starting 1-th embedding cycle..."
     ]
    },
    {
     "name": "stdout",
     "output_type": "stream",
     "text": [
      "\n",
      "Starting 2-th embedding cycle..."
     ]
    },
    {
     "name": "stdout",
     "output_type": "stream",
     "text": [
      "\n",
      "Starting 3-th embedding cycle...\n"
     ]
    },
    {
     "name": "stdout",
     "output_type": "stream",
     "text": [
      "Algorithm stopped due to increasing L-values. VALID embedding achieved ✓.\n",
      "[0, 6, 18][3, 4, 3]\n",
      "Initializing PECUZAL algorithm for multivariate input...\n",
      "Starting 1-th embedding cycle...\n"
     ]
    },
    {
     "name": "stdout",
     "output_type": "stream",
     "text": [
      "Starting 2-th embedding cycle...\n"
     ]
    },
    {
     "name": "stdout",
     "output_type": "stream",
     "text": [
      "Starting 3-th embedding cycle...\n"
     ]
    },
    {
     "name": "stdout",
     "output_type": "stream",
     "text": [
      "Algorithm stopped due to increasing L-values. VALID embedding achieved ✓.\n",
      "[0, 0, 18][4, 3, 3]\n",
      "Initializing PECUZAL algorithm for multivariate input...\n",
      "Starting 1-th embedding cycle..."
     ]
    },
    {
     "name": "stdout",
     "output_type": "stream",
     "text": [
      "\n",
      "Starting 2-th embedding cycle..."
     ]
    },
    {
     "name": "stdout",
     "output_type": "stream",
     "text": [
      "\n",
      "Starting 3-th embedding cycle..."
     ]
    },
    {
     "name": "stdout",
     "output_type": "stream",
     "text": [
      "\n",
      "Algorithm stopped due to increasing L-values. VALID embedding achieved ✓.\n",
      "[0, 0, 18][4, 3, 3]\n",
      "Initializing PECUZAL algorithm for multivariate input...\n",
      "Starting 1-th embedding cycle...\n"
     ]
    },
    {
     "name": "stdout",
     "output_type": "stream",
     "text": [
      "Starting 2-th embedding cycle..."
     ]
    },
    {
     "name": "stdout",
     "output_type": "stream",
     "text": [
      "\n",
      "Starting 3-th embedding cycle..."
     ]
    },
    {
     "name": "stdout",
     "output_type": "stream",
     "text": [
      "\n",
      "Algorithm stopped due to increasing L-values. VALID embedding achieved ✓.\n",
      "[0, 6, 18][3, 4, 3]\n",
      "Initializing PECUZAL algorithm for multivariate input...\n",
      "Starting 1-th embedding cycle..."
     ]
    },
    {
     "name": "stdout",
     "output_type": "stream",
     "text": [
      "\n",
      "Starting 2-th embedding cycle..."
     ]
    },
    {
     "name": "stdout",
     "output_type": "stream",
     "text": [
      "\n",
      "Starting 3-th embedding cycle...\n"
     ]
    },
    {
     "name": "stdout",
     "output_type": "stream",
     "text": [
      "Algorithm stopped due to increasing L-values. VALID embedding achieved ✓.\n",
      "[0, 0, 18][4, 3, 3]\n",
      "Initializing PECUZAL algorithm for multivariate input...\n",
      "Starting 1-th embedding cycle..."
     ]
    },
    {
     "name": "stdout",
     "output_type": "stream",
     "text": [
      "\n",
      "Starting 2-th embedding cycle...\n"
     ]
    },
    {
     "name": "stdout",
     "output_type": "stream",
     "text": [
      "Starting 3-th embedding cycle..."
     ]
    },
    {
     "name": "stdout",
     "output_type": "stream",
     "text": [
      "\n",
      "Algorithm stopped due to increasing L-values. VALID embedding achieved ✓.\n",
      "[0, 0, 18][4, 3, 3]\n",
      "Initializing PECUZAL algorithm for multivariate input...\n",
      "Starting 1-th embedding cycle...\n"
     ]
    },
    {
     "name": "stdout",
     "output_type": "stream",
     "text": [
      "Starting 2-th embedding cycle...\n"
     ]
    },
    {
     "name": "stdout",
     "output_type": "stream",
     "text": [
      "Starting 3-th embedding cycle..."
     ]
    },
    {
     "name": "stdout",
     "output_type": "stream",
     "text": [
      "\n",
      "Algorithm stopped due to increasing L-values. VALID embedding achieved ✓.\n",
      "[0, 0, 17][4, 3, 3]\n",
      "Initializing PECUZAL algorithm for multivariate input...\n",
      "Starting 1-th embedding cycle..."
     ]
    },
    {
     "name": "stdout",
     "output_type": "stream",
     "text": [
      "\n",
      "Starting 2-th embedding cycle..."
     ]
    },
    {
     "name": "stdout",
     "output_type": "stream",
     "text": [
      "\n",
      "Starting 3-th embedding cycle...\n"
     ]
    },
    {
     "name": "stdout",
     "output_type": "stream",
     "text": [
      "Algorithm stopped due to increasing L-values. VALID embedding achieved ✓.\n",
      "[0, 6, 18][3, 4, 3]\n",
      "Initializing PECUZAL algorithm for multivariate input...\n",
      "Starting 1-th embedding cycle..."
     ]
    },
    {
     "name": "stdout",
     "output_type": "stream",
     "text": [
      "\n",
      "Starting 2-th embedding cycle..."
     ]
    },
    {
     "name": "stdout",
     "output_type": "stream",
     "text": [
      "\n",
      "Starting 3-th embedding cycle...\n"
     ]
    },
    {
     "name": "stdout",
     "output_type": "stream",
     "text": [
      "Algorithm stopped due to increasing L-values. VALID embedding achieved ✓.\n",
      "[0, 0, 18][4, 3, 3]\n",
      "Initializing PECUZAL algorithm for multivariate input...\n",
      "Starting 1-th embedding cycle..."
     ]
    },
    {
     "name": "stdout",
     "output_type": "stream",
     "text": [
      "\n",
      "Starting 2-th embedding cycle...\n"
     ]
    },
    {
     "name": "stdout",
     "output_type": "stream",
     "text": [
      "Starting 3-th embedding cycle...\n"
     ]
    },
    {
     "name": "stdout",
     "output_type": "stream",
     "text": [
      "Algorithm stopped due to increasing L-values. VALID embedding achieved ✓.\n",
      "[0, 0, 17][4, 3, 3]\n",
      "Initializing PECUZAL algorithm for multivariate input...\n",
      "Starting 1-th embedding cycle..."
     ]
    },
    {
     "name": "stdout",
     "output_type": "stream",
     "text": [
      "\n",
      "Starting 2-th embedding cycle...\n"
     ]
    },
    {
     "name": "stdout",
     "output_type": "stream",
     "text": [
      "Starting 3-th embedding cycle...\n"
     ]
    },
    {
     "name": "stdout",
     "output_type": "stream",
     "text": [
      "Algorithm stopped due to increasing L-values. VALID embedding achieved ✓.\n",
      "[0, 0, 18][4, 3, 3]\n",
      "Initializing PECUZAL algorithm for multivariate input...\n",
      "Starting 1-th embedding cycle..."
     ]
    },
    {
     "name": "stdout",
     "output_type": "stream",
     "text": [
      "\n",
      "Starting 2-th embedding cycle...\n"
     ]
    },
    {
     "name": "stdout",
     "output_type": "stream",
     "text": [
      "Starting 3-th embedding cycle...\n"
     ]
    },
    {
     "name": "stdout",
     "output_type": "stream",
     "text": [
      "Algorithm stopped due to increasing L-values. VALID embedding achieved ✓.\n",
      "[0, 0, 18][4, 3, 3]\n",
      "Initializing PECUZAL algorithm for multivariate input...\n",
      "Starting 1-th embedding cycle..."
     ]
    },
    {
     "name": "stdout",
     "output_type": "stream",
     "text": [
      "\n",
      "Starting 2-th embedding cycle...\n"
     ]
    },
    {
     "name": "stdout",
     "output_type": "stream",
     "text": [
      "Starting 3-th embedding cycle...\n"
     ]
    },
    {
     "name": "stdout",
     "output_type": "stream",
     "text": [
      "Algorithm stopped due to increasing L-values. VALID embedding achieved ✓.\n",
      "[0, 0, 17][4, 3, 3]\n",
      "Initializing PECUZAL algorithm for multivariate input...\n",
      "Starting 1-th embedding cycle..."
     ]
    },
    {
     "name": "stdout",
     "output_type": "stream",
     "text": [
      "\n",
      "Starting 2-th embedding cycle...\n"
     ]
    },
    {
     "name": "stdout",
     "output_type": "stream",
     "text": [
      "Starting 3-th embedding cycle..."
     ]
    },
    {
     "name": "stdout",
     "output_type": "stream",
     "text": [
      "\n",
      "Algorithm stopped due to increasing L-values. VALID embedding achieved ✓.\n",
      "[0, 6, 19][3, 4, 3]\n",
      "Initializing PECUZAL algorithm for multivariate input...\n",
      "Starting 1-th embedding cycle...\n"
     ]
    },
    {
     "name": "stdout",
     "output_type": "stream",
     "text": [
      "Starting 2-th embedding cycle...\n"
     ]
    },
    {
     "name": "stdout",
     "output_type": "stream",
     "text": [
      "Starting 3-th embedding cycle..."
     ]
    },
    {
     "name": "stdout",
     "output_type": "stream",
     "text": [
      "\n",
      "Algorithm stopped due to increasing L-values. VALID embedding achieved ✓.\n",
      "[0, 0, 18][4, 3, 3]\n",
      "Initializing PECUZAL algorithm for multivariate input...\n",
      "Starting 1-th embedding cycle..."
     ]
    },
    {
     "name": "stdout",
     "output_type": "stream",
     "text": [
      "\n",
      "Starting 2-th embedding cycle...\n"
     ]
    },
    {
     "name": "stdout",
     "output_type": "stream",
     "text": [
      "Starting 3-th embedding cycle..."
     ]
    },
    {
     "name": "stdout",
     "output_type": "stream",
     "text": [
      "\n",
      "Algorithm stopped due to increasing L-values. VALID embedding achieved ✓.\n",
      "[0, 0, 18][4, 3, 3]\n",
      "Initializing PECUZAL algorithm for multivariate input...\n",
      "Starting 1-th embedding cycle..."
     ]
    },
    {
     "name": "stdout",
     "output_type": "stream",
     "text": [
      "\n",
      "Starting 2-th embedding cycle..."
     ]
    },
    {
     "name": "stdout",
     "output_type": "stream",
     "text": [
      "\n",
      "Starting 3-th embedding cycle..."
     ]
    },
    {
     "name": "stdout",
     "output_type": "stream",
     "text": [
      "\n",
      "Algorithm stopped due to increasing L-values. VALID embedding achieved ✓.\n",
      "[0, 0, 18][4, 3, 3]\n",
      "Initializing PECUZAL algorithm for multivariate input...\n",
      "Starting 1-th embedding cycle...\n"
     ]
    },
    {
     "name": "stdout",
     "output_type": "stream",
     "text": [
      "Starting 2-th embedding cycle...\n"
     ]
    },
    {
     "name": "stdout",
     "output_type": "stream",
     "text": [
      "Starting 3-th embedding cycle..."
     ]
    },
    {
     "name": "stdout",
     "output_type": "stream",
     "text": [
      "\n",
      "Algorithm stopped due to increasing L-values. VALID embedding achieved ✓.\n",
      "[0, 6, 19][3, 4, 3]\n",
      "Initializing PECUZAL algorithm for multivariate input...\n",
      "Starting 1-th embedding cycle..."
     ]
    },
    {
     "name": "stdout",
     "output_type": "stream",
     "text": [
      "\n",
      "Starting 2-th embedding cycle...\n"
     ]
    },
    {
     "name": "stdout",
     "output_type": "stream",
     "text": [
      "Starting 3-th embedding cycle...\n"
     ]
    },
    {
     "name": "stdout",
     "output_type": "stream",
     "text": [
      "Algorithm stopped due to increasing L-values. VALID embedding achieved ✓.\n",
      "[0, 0, 18][4, 3, 3]\n",
      "Initializing PECUZAL algorithm for multivariate input...\n",
      "Starting 1-th embedding cycle..."
     ]
    },
    {
     "name": "stdout",
     "output_type": "stream",
     "text": [
      "\n",
      "Starting 2-th embedding cycle...\n"
     ]
    },
    {
     "name": "stdout",
     "output_type": "stream",
     "text": [
      "Starting 3-th embedding cycle...\n"
     ]
    },
    {
     "name": "stdout",
     "output_type": "stream",
     "text": [
      "Algorithm stopped due to increasing L-values. VALID embedding achieved ✓.\n",
      "[0, 0, 17][4, 3, 3]\n",
      "Initializing PECUZAL algorithm for multivariate input...\n",
      "Starting 1-th embedding cycle...\n"
     ]
    },
    {
     "name": "stdout",
     "output_type": "stream",
     "text": [
      "Starting 2-th embedding cycle...\n"
     ]
    },
    {
     "name": "stdout",
     "output_type": "stream",
     "text": [
      "Starting 3-th embedding cycle...\n"
     ]
    },
    {
     "name": "stdout",
     "output_type": "stream",
     "text": [
      "Algorithm stopped due to increasing L-values. VALID embedding achieved ✓.\n",
      "[0, 0, 18][4, 3, 3]\n",
      "Initializing PECUZAL algorithm for multivariate input...\n",
      "Starting 1-th embedding cycle..."
     ]
    },
    {
     "name": "stdout",
     "output_type": "stream",
     "text": [
      "\n",
      "Starting 2-th embedding cycle..."
     ]
    },
    {
     "name": "stdout",
     "output_type": "stream",
     "text": [
      "\n",
      "Starting 3-th embedding cycle...\n"
     ]
    },
    {
     "name": "stdout",
     "output_type": "stream",
     "text": [
      "Algorithm stopped due to increasing L-values. VALID embedding achieved ✓.\n",
      "[0, 0, 18][4, 3, 3]\n",
      "Initializing PECUZAL algorithm for multivariate input...\n",
      "Starting 1-th embedding cycle..."
     ]
    },
    {
     "name": "stdout",
     "output_type": "stream",
     "text": [
      "\n",
      "Starting 2-th embedding cycle..."
     ]
    },
    {
     "name": "stdout",
     "output_type": "stream",
     "text": [
      "\n",
      "Starting 3-th embedding cycle...\n"
     ]
    },
    {
     "name": "stdout",
     "output_type": "stream",
     "text": [
      "Algorithm stopped due to increasing L-values. VALID embedding achieved ✓.\n",
      "[0, 0, 18][4, 3, 3]\n",
      "Initializing PECUZAL algorithm for multivariate input...\n",
      "Starting 1-th embedding cycle..."
     ]
    },
    {
     "name": "stdout",
     "output_type": "stream",
     "text": [
      "\n",
      "Starting 2-th embedding cycle..."
     ]
    },
    {
     "name": "stdout",
     "output_type": "stream",
     "text": [
      "\n",
      "Starting 3-th embedding cycle...\n"
     ]
    },
    {
     "name": "stdout",
     "output_type": "stream",
     "text": [
      "Algorithm stopped due to increasing L-values. VALID embedding achieved ✓.\n",
      "[0, 0, 18][4, 3, 3]\n",
      "Initializing PECUZAL algorithm for multivariate input...\n",
      "Starting 1-th embedding cycle..."
     ]
    },
    {
     "name": "stdout",
     "output_type": "stream",
     "text": [
      "\n",
      "Starting 2-th embedding cycle..."
     ]
    },
    {
     "name": "stdout",
     "output_type": "stream",
     "text": [
      "\n",
      "Starting 3-th embedding cycle...\n"
     ]
    },
    {
     "name": "stdout",
     "output_type": "stream",
     "text": [
      "Algorithm stopped due to increasing L-values. VALID embedding achieved ✓.\n",
      "[0, 6, 18][3, 4, 3]\n",
      "Initializing PECUZAL algorithm for multivariate input...\n",
      "Starting 1-th embedding cycle..."
     ]
    },
    {
     "name": "stdout",
     "output_type": "stream",
     "text": [
      "\n",
      "Starting 2-th embedding cycle...\n"
     ]
    },
    {
     "name": "stdout",
     "output_type": "stream",
     "text": [
      "Starting 3-th embedding cycle...\n"
     ]
    },
    {
     "name": "stdout",
     "output_type": "stream",
     "text": [
      "Algorithm stopped due to increasing L-values. VALID embedding achieved ✓.\n",
      "[0, 0, 17][4, 3, 3]\n",
      "Initializing PECUZAL algorithm for multivariate input...\n",
      "Starting 1-th embedding cycle...\n"
     ]
    },
    {
     "name": "stdout",
     "output_type": "stream",
     "text": [
      "Starting 2-th embedding cycle...\n"
     ]
    },
    {
     "name": "stdout",
     "output_type": "stream",
     "text": [
      "Starting 3-th embedding cycle..."
     ]
    },
    {
     "name": "stdout",
     "output_type": "stream",
     "text": [
      "\n",
      "Algorithm stopped due to increasing L-values. VALID embedding achieved ✓.\n",
      "[0, 0, 18][4, 3, 3]\n",
      "Initializing PECUZAL algorithm for multivariate input...\n",
      "Starting 1-th embedding cycle..."
     ]
    },
    {
     "name": "stdout",
     "output_type": "stream",
     "text": [
      "\n",
      "Starting 2-th embedding cycle...\n"
     ]
    },
    {
     "name": "stdout",
     "output_type": "stream",
     "text": [
      "Starting 3-th embedding cycle...\n"
     ]
    },
    {
     "name": "stdout",
     "output_type": "stream",
     "text": [
      "Algorithm stopped due to increasing L-values. VALID embedding achieved ✓.\n",
      "[0, 0, 18][4, 3, 3]\n",
      "Initializing PECUZAL algorithm for multivariate input...\n",
      "Starting 1-th embedding cycle...\n"
     ]
    },
    {
     "name": "stdout",
     "output_type": "stream",
     "text": [
      "Starting 2-th embedding cycle...\n"
     ]
    },
    {
     "name": "stdout",
     "output_type": "stream",
     "text": [
      "Starting 3-th embedding cycle...\n"
     ]
    },
    {
     "name": "stdout",
     "output_type": "stream",
     "text": [
      "Algorithm stopped due to increasing L-values. VALID embedding achieved ✓.\n",
      "[0, 0, 18][4, 3, 3]\n",
      "Initializing PECUZAL algorithm for multivariate input...\n",
      "Starting 1-th embedding cycle..."
     ]
    },
    {
     "name": "stdout",
     "output_type": "stream",
     "text": [
      "\n",
      "Starting 2-th embedding cycle..."
     ]
    },
    {
     "name": "stdout",
     "output_type": "stream",
     "text": [
      "\n",
      "Starting 3-th embedding cycle...\n"
     ]
    },
    {
     "name": "stdout",
     "output_type": "stream",
     "text": [
      "Algorithm stopped due to increasing L-values. VALID embedding achieved ✓.\n",
      "[0, 0, 18][4, 3, 3]\n",
      "Initializing PECUZAL algorithm for multivariate input...\n",
      "Starting 1-th embedding cycle...\n"
     ]
    },
    {
     "name": "stdout",
     "output_type": "stream",
     "text": [
      "Starting 2-th embedding cycle...\n",
      "Starting 3-th embedding cycle...\n"
     ]
    },
    {
     "name": "stdout",
     "output_type": "stream",
     "text": [
      "Algorithm stopped due to increasing L-values. VALID embedding achieved ✓.\n",
      "[0, 0, 17][4, 3, 3]\n",
      "Initializing PECUZAL algorithm for multivariate input...\n",
      "Starting 1-th embedding cycle..."
     ]
    },
    {
     "name": "stdout",
     "output_type": "stream",
     "text": [
      "\n",
      "Starting 2-th embedding cycle...\n"
     ]
    },
    {
     "name": "stdout",
     "output_type": "stream",
     "text": [
      "Starting 3-th embedding cycle...\n"
     ]
    },
    {
     "name": "stdout",
     "output_type": "stream",
     "text": [
      "Algorithm stopped due to increasing L-values. VALID embedding achieved ✓.\n",
      "[0, 0, 18][4, 3, 3]\n",
      "Initializing PECUZAL algorithm for multivariate input...\n",
      "Starting 1-th embedding cycle...\n"
     ]
    },
    {
     "name": "stdout",
     "output_type": "stream",
     "text": [
      "Starting 2-th embedding cycle...\n"
     ]
    },
    {
     "name": "stdout",
     "output_type": "stream",
     "text": [
      "Starting 3-th embedding cycle...\n"
     ]
    },
    {
     "name": "stdout",
     "output_type": "stream",
     "text": [
      "Algorithm stopped due to increasing L-values. VALID embedding achieved ✓.\n",
      "[0, 6, 18][3, 4, 3]\n",
      "Initializing PECUZAL algorithm for multivariate input...\n",
      "Starting 1-th embedding cycle...\n"
     ]
    },
    {
     "name": "stdout",
     "output_type": "stream",
     "text": [
      "Starting 2-th embedding cycle...\n"
     ]
    },
    {
     "name": "stdout",
     "output_type": "stream",
     "text": [
      "Starting 3-th embedding cycle...\n"
     ]
    },
    {
     "name": "stdout",
     "output_type": "stream",
     "text": [
      "Algorithm stopped due to increasing L-values. VALID embedding achieved ✓.\n",
      "[0, 0, 18][4, 3, 3]\n",
      "Initializing PECUZAL algorithm for multivariate input...\n",
      "Starting 1-th embedding cycle..."
     ]
    },
    {
     "name": "stdout",
     "output_type": "stream",
     "text": [
      "\n",
      "Starting 2-th embedding cycle...\n"
     ]
    },
    {
     "name": "stdout",
     "output_type": "stream",
     "text": [
      "Starting 3-th embedding cycle..."
     ]
    },
    {
     "name": "stdout",
     "output_type": "stream",
     "text": [
      "\n",
      "Algorithm stopped due to increasing L-values. VALID embedding achieved ✓.\n",
      "[0, 0, 18][4, 3, 3]\n",
      "Initializing PECUZAL algorithm for multivariate input...\n",
      "Starting 1-th embedding cycle..."
     ]
    },
    {
     "name": "stdout",
     "output_type": "stream",
     "text": [
      "\n"
     ]
    },
    {
     "name": "stdout",
     "output_type": "stream",
     "text": [
      "Starting 2-th embedding cycle...\n",
      "Starting 3-th embedding cycle...\n"
     ]
    },
    {
     "name": "stdout",
     "output_type": "stream",
     "text": [
      "Algorithm stopped due to increasing L-values. VALID embedding achieved ✓.\n",
      "[0, 0, 18][4, 3, 3]\n",
      "Initializing PECUZAL algorithm for multivariate input...\n",
      "Starting 1-th embedding cycle...\n"
     ]
    },
    {
     "name": "stdout",
     "output_type": "stream",
     "text": [
      "Starting 2-th embedding cycle...\n"
     ]
    },
    {
     "name": "stdout",
     "output_type": "stream",
     "text": [
      "Starting 3-th embedding cycle...\n"
     ]
    },
    {
     "name": "stdout",
     "output_type": "stream",
     "text": [
      "Algorithm stopped due to increasing L-values. VALID embedding achieved ✓.\n",
      "[0, 0, 18][4, 3, 3]\n",
      "Initializing PECUZAL algorithm for multivariate input...\n",
      "Starting 1-th embedding cycle...\n"
     ]
    },
    {
     "name": "stdout",
     "output_type": "stream",
     "text": [
      "Starting 2-th embedding cycle...\n"
     ]
    },
    {
     "name": "stdout",
     "output_type": "stream",
     "text": [
      "Starting 3-th embedding cycle...\n"
     ]
    },
    {
     "name": "stdout",
     "output_type": "stream",
     "text": [
      "Algorithm stopped due to increasing L-values. VALID embedding achieved ✓.\n",
      "[0, 0, 18][4, 3, 3]\n",
      "Initializing PECUZAL algorithm for multivariate input...\n",
      "Starting 1-th embedding cycle..."
     ]
    },
    {
     "name": "stdout",
     "output_type": "stream",
     "text": [
      "\n",
      "Starting 2-th embedding cycle...\n"
     ]
    },
    {
     "name": "stdout",
     "output_type": "stream",
     "text": [
      "Starting 3-th embedding cycle...\n"
     ]
    },
    {
     "name": "stdout",
     "output_type": "stream",
     "text": [
      "Algorithm stopped due to increasing L-values. VALID embedding achieved ✓.\n",
      "[0, 6, 18][3, 4, 3]\n"
     ]
    }
   ],
   "source": [
    "global theiler\n",
    "for i = 1:100\n",
    "    fid1 = h5open(\"E:/LearningEmbedding/data_collection/Rossler/rossler_no\"*string(i)*\".h5\", \"r\")\n",
    "    fid2 = h5open(\"E:/LearningEmbedding/data_collection/Rossler-analo/rossler_no\"*string(i)*\".h5\", \"r\")\n",
    "    Y_ro = Array(fid1[\"xM\"])\n",
    "    Y_ro2 = Array(fid2[\"xM\"])\n",
    "\n",
    "    inds = [1,2] # input timeseries = the first and the second component of Rossler/Lorenz96\n",
    "    if i == 1\n",
    "        theiler1 = estimate_delay(Y_ro[:,inds[1]], \"mi_min\") # estimate a Theiler window\n",
    "        theiler2 = estimate_delay(Y_ro[:,inds[2]], \"mi_min\")\n",
    "        theiler3 = estimate_delay(Y_ro2[:,inds[1]], \"mi_min\") # estimate a Theiler window\n",
    "        theiler4 = estimate_delay(Y_ro2[:,inds[2]], \"mi_min\")\n",
    "        theiler = maximum(hcat(theiler1, theiler2, theiler3, theiler4))\n",
    "    end\n",
    "    Y = hcat(Y_ro[:,[1,2]], Y_ro2[:,[1,2]])\n",
    "    Tmax = 50 # maximum possible delay\n",
    "    # println(Y[:,inds])\n",
    "    Recon_pec, τ_vals, ts_vals, Ls, εs = pecuzal_embedding(Dataset(Y); τs = 0:Tmax , w = theiler, L_threshold=0, econ = true)\n",
    "    println(τ_vals, ts_vals)\n",
    "    ff = h5open(\"e:/LearningEmbedding/results/PECUZAL/Rossler-multi-mixed/rossler_multi_no\"*string(i)*\".h5\", \"w\")\n",
    "    ff[\"Embedding\"] = Matrix(Recon_pec)\n",
    "    ff[\"delays\"] = τ_vals\n",
    "    ff[\"variables\"] = ts_vals\n",
    "    close(ff)\n",
    "    close(fid1)\n",
    "    close(fid2)\n",
    "end"
   ]
  },
  {
   "cell_type": "code",
   "execution_count": 4,
   "metadata": {},
   "outputs": [
    {
     "data": {
      "text/plain": [
       "10000×8 Matrix{Float64}:\n",
       "  2.72953    5.45781     3.50486    …   3.22993    -1.368     1.27691\n",
       "  3.8526     5.73443     1.77077        2.96906    -1.32649   1.55526\n",
       "  4.96026    5.21072    -0.340861       2.73131    -1.23079   1.64189\n",
       "  5.79197    3.63745    -2.03355        2.38193    -1.13605   1.59206\n",
       "  6.19731    1.42133    -2.68998        1.92464    -1.06617   1.46036\n",
       "  6.21573   -0.606974   -2.18819    …   1.59239    -0.993904  1.30595\n",
       "  6.0124    -1.74143    -0.796703       1.52675    -0.911701  1.19196\n",
       "  5.75808   -1.7952      0.7558         1.48964    -0.841836  1.1408\n",
       "  5.56192   -1.08751     1.8055         1.14675    -0.734925  1.13236\n",
       "  5.4626    -0.0707655   2.26383        0.436842   -0.472034  1.17512\n",
       "  ⋮                                 ⋱   ⋮                     \n",
       "  3.57216   -1.20627     0.0944553     -1.39001     2.10965   5.07203\n",
       "  1.68008   -1.96751     0.435946      -1.1368      2.09099   5.79791\n",
       " -0.301575  -1.68974     0.328607      -0.983928    2.0293    6.00564\n",
       " -1.63379   -0.533272    0.222686      -0.888424    1.97875   5.83705\n",
       " -2.00982    0.892405    0.740878   …  -0.810236    1.96012   5.50993\n",
       " -1.64078    1.95734     1.91061       -0.700568    1.96391   5.20467\n",
       " -0.914413   2.50967     3.2768        -0.456141    1.99214   5.0044\n",
       " -0.116813   2.75544     4.3783        -0.0377239   2.11988   4.90483\n",
       "  0.586382   2.91796     4.94263        0.38697     2.44121   4.87865"
      ]
     },
     "metadata": {},
     "output_type": "display_data"
    }
   ],
   "source": [
    "i = 1\n",
    "fid1 = h5open(\"E:/LearningEmbedding/data_collection/Rossler/rossler_no\"*string(i)*\".h5\", \"r\")\n",
    "fid2 = h5open(\"E:/LearningEmbedding/data_collection/Lorenz96/lorenz96_N8_no\"*string(i)*\".h5\", \"r\")\n",
    "Y_ro = Array(fid1[\"xM\"])\n",
    "Y_lo = Array(fid2[\"xM\"])"
   ]
  },
  {
   "cell_type": "code",
   "execution_count": 6,
   "metadata": {},
   "outputs": [],
   "source": [
    "Y = hcat(Y_ro[:,[1,2]], Y_lo[:,[1,2]])\n",
    "close(fid1)\n",
    "close(fid2)"
   ]
  }
 ],
 "metadata": {
  "kernelspec": {
   "display_name": "Julia 1.9.3",
   "language": "julia",
   "name": "julia-1.9"
  },
  "language_info": {
   "file_extension": ".jl",
   "mimetype": "application/julia",
   "name": "julia",
   "version": "1.9.3"
  }
 },
 "nbformat": 4,
 "nbformat_minor": 2
}
