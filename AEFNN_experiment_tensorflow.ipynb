{
 "cells": [
  {
   "cell_type": "code",
   "execution_count": 1,
   "metadata": {},
   "outputs": [],
   "source": [
    "import tensorflow as tf\n",
    "import fnn\n",
    "import h5py as h5\n",
    "from fnn.models import LSTMEmbedding\n",
    "from fnn.regularizers import FNN"
   ]
  },
  {
   "cell_type": "markdown",
   "metadata": {},
   "source": [
    "# Lorenz"
   ]
  },
  {
   "cell_type": "code",
   "execution_count": null,
   "metadata": {},
   "outputs": [],
   "source": [
    "for i in range(1,101):\n",
    "    # fr = h5.File(\"./data/Rossler/rossler_no\"+str(i)+\".h5\", mode=\"r\")\n",
    "    fr = h5.File(\"./data/3D-lorenz/lorenz_no\"+str(i)+\".h5\", mode=\"r\")\n",
    "    # fr = h5.File(\"./data/Lorenz96/lorenz96_N8_no\"+str(i)+\".h5\", mode=\"r\")\n",
    "    tr = fr[\"xM\"][()].transpose()\n",
    "\n",
    "    lstm_model = LSTMEmbedding(10, time_window=10, latent_regularizer=FNN(5), n_features=1, random_state=2024)\n",
    "    coords = lstm_model.fit_transform(tr[:,1], learning_rate=1e-2, batch_size=1024, train_steps=200, early_stopping=True)\n",
    "    # print(coords.std(axis=0)>0.01)\n",
    "\n",
    "    # save the univariate reconstruction results\n",
    "    h5f = h5.File('./results/AE-FNN/3D-lorenz/lorenz_uni_no'+str(i)+'.h5', 'w')\n",
    "    dset = h5f.create_dataset(\"Embedding\", coords.shape, dtype='f')\n",
    "    dset[...] = coords \n",
    "    h5f.close()\n",
    "\n",
    "for i in range(1,101):\n",
    "    # fr = h5.File(\"./data/Rossler/rossler_no\"+str(i)+\".h5\", mode=\"r\")\n",
    "    fr = h5.File(\"./data/3D-lorenz/lorenz_no\"+str(i)+\".h5\", mode=\"r\")\n",
    "    # fr = h5.File(\"./data/Lorenz96/lorenz96_N8_no\"+str(i)+\".h5\", mode=\"r\")\n",
    "    tr = fr[\"xM\"][()].transpose()\n",
    "\n",
    "    lstm_model = LSTMEmbedding(10, time_window=10, latent_regularizer=FNN(2), n_features=2, random_state=2024)\n",
    "    coords = lstm_model.fit_transform(tr[:,[1,2]], learning_rate=1e-2, batch_size=1024, train_steps=200, early_stopping=True)\n",
    "    # print(coords.std(axis=0)>0.01)\n",
    "\n",
    "    # save the multivariate reconstruction results\n",
    "    h5f = h5.File('./results/AE-FNN/3D-lorenz-multi/lorenz_multi_no'+str(i)+'.h5', 'w')\n",
    "    dset = h5f.create_dataset(\"Embedding\", coords.shape, dtype='f')\n",
    "    dset[...] = coords \n",
    "    h5f.close()"
   ]
  },
  {
   "cell_type": "markdown",
   "metadata": {},
   "source": [
    "# Rössler"
   ]
  },
  {
   "cell_type": "code",
   "execution_count": null,
   "metadata": {},
   "outputs": [],
   "source": [
    "for i in range(1,101):\n",
    "    fr = h5.File(\"./data/Rossler/rossler_no\"+str(i)+\".h5\", mode=\"r\")\n",
    "    # fr = h5.File(\"./data/3D-lorenz/lorenz_no\"+str(i)+\".h5\", mode=\"r\")\n",
    "    # fr = h5.File(\"./data/Lorenz96/lorenz96_N8_no\"+str(i)+\".h5\", mode=\"r\")\n",
    "    tr = fr[\"xM\"][()].transpose()\n",
    "\n",
    "    lstm_model = LSTMEmbedding(10, time_window=50, latent_regularizer=FNN(5), n_features=1, random_state=2024)\n",
    "    coords = lstm_model.fit_transform(tr[:,1], learning_rate=1e-2, batch_size=1024, train_steps=200, early_stopping=True)\n",
    "    print(coords.std(axis=0)>0.01)\n",
    "\n",
    "    # save the univariate reconstruction results\n",
    "    h5f = h5.File('./results/AE-FNN/Rossler/rossler_uni_no'+str(i)+'.h5', 'w')\n",
    "    dset = h5f.create_dataset(\"Embedding\", coords.shape, dtype='f')\n",
    "    dset[...] = coords \n",
    "    h5f.close()\n",
    "\n",
    "for i in range(1,101):\n",
    "    fr = h5.File(\"./data/Rossler/rossler_no\"+str(i)+\".h5\", mode=\"r\")\n",
    "    # fr = h5.File(\"./data/3D-lorenz/lorenz_no\"+str(i)+\".h5\", mode=\"r\")\n",
    "    # fr = h5.File(\"./data/Lorenz96/lorenz96_N8_no\"+str(i)+\".h5\", mode=\"r\")\n",
    "    tr = fr[\"xM\"][()].transpose()\n",
    "\n",
    "    lstm_model = LSTMEmbedding(10, time_window=50, latent_regularizer=FNN(1), n_features=2, random_state=2024)\n",
    "    coords = lstm_model.fit_transform(tr[:,[0,1]], learning_rate=1e-2, batch_size=1024, train_steps=200, early_stopping=True)\n",
    "    print(coords.std(axis=0)>0.01)\n",
    "\n",
    "    # save the multivariate reconstruction results\n",
    "    h5f = h5.File('./results/AE-FNN/Rossler-multi/rossler_multi_no'+str(i)+'.h5', 'w')\n",
    "    dset = h5f.create_dataset(\"Embedding\", coords.shape, dtype='f')\n",
    "    dset[...] = coords \n",
    "    h5f.close()"
   ]
  },
  {
   "cell_type": "markdown",
   "metadata": {},
   "source": [
    "# Lorenz96"
   ]
  },
  {
   "cell_type": "code",
   "execution_count": null,
   "metadata": {},
   "outputs": [],
   "source": [
    "for i in range(1,101):\n",
    "    # fr = h5.File(\"./data/Rossler/rossler_no\"+str(i)+\".h5\", mode=\"r\")\n",
    "    # fr = h5.File(\"./data/3D-lorenz/lorenz_no\"+str(i)+\".h5\", mode=\"r\")\n",
    "    fr = h5.File(\"./data/Lorenz96/lorenz96_N8_no\"+str(i)+\".h5\", mode=\"r\")\n",
    "    tr = fr[\"xM\"][()].transpose()\n",
    "\n",
    "    lstm_model = LSTMEmbedding(10, time_window=20, latent_regularizer=FNN(4), n_features=1, random_state=2024)\n",
    "    coords = lstm_model.fit_transform(tr[:,1], learning_rate=1e-2, batch_size=1024, train_steps=200, early_stopping=True)\n",
    "    # print(coords.std(axis=0)>0.01)\n",
    "\n",
    "    # save the univariate reconstruction results\n",
    "    h5f = h5.File('./results/AE-FNN/Lorenz96/lorenz96_uni_no'+str(i)+'.h5', 'w')\n",
    "    dset = h5f.create_dataset(\"Embedding\", coords.shape, dtype='f')\n",
    "    dset[...] = coords \n",
    "    h5f.close()\n",
    "\n",
    "for i in range(1,101):\n",
    "    # fr = h5.File(\"./data/Rossler/rossler_no\"+str(i)+\".h5\", mode=\"r\")\n",
    "    # fr = h5.File(\"./data/3D-lorenz/lorenz_no\"+str(i)+\".h5\", mode=\"r\")\n",
    "    fr = h5.File(\"./data/Lorenz96/lorenz96_N8_no\"+str(i)+\".h5\", mode=\"r\")\n",
    "    tr = fr[\"xM\"][()].transpose()\n",
    "\n",
    "    lstm_model = LSTMEmbedding(10, time_window=20, latent_regularizer=FNN(1), n_features=2, random_state=2024)\n",
    "    coords = lstm_model.fit_transform(tr[:,[1,5]], learning_rate=1e-2, batch_size=512, train_steps=200, early_stopping=True)\n",
    "    # print(coords.std(axis=0)>0.01)\n",
    "\n",
    "    # save the multivariate reconstruction results\n",
    "    h5f = h5.File('./results/AE-FNN/Lorenz96-multi/lorenz96_multi_no'+str(i)+'.h5', 'w')\n",
    "    dset = h5f.create_dataset(\"Embedding\", coords.shape, dtype='f')\n",
    "    dset[...] = coords \n",
    "    h5f.close()"
   ]
  },
  {
   "cell_type": "code",
   "execution_count": null,
   "metadata": {},
   "outputs": [],
   "source": [
    "pwd"
   ]
  },
  {
   "cell_type": "code",
   "execution_count": 6,
   "metadata": {},
   "outputs": [
    {
     "name": "stdout",
     "output_type": "stream",
     "text": [
      "[6.2872920e+00 6.9236751e+00 2.9976499e+00 1.5399039e+00 1.2720706e+00\n",
      " 3.9301117e-04 1.1609127e-03 1.8890105e+00 1.1141518e+00 1.0254118e+00]\n"
     ]
    }
   ],
   "source": [
    "import h5py as h5\n",
    "\n",
    "h5f = h5.File('./results/AE-FNN/Lorenz96-multi/lorenz96_multi_no'+str(1)+'.h5', 'r')\n",
    "# dset = h5f.create_dataset(\"Embedding\", coords.shape, dtype='f')\n",
    "coords = h5f[\"Embedding\"][()]\n",
    "print(coords.std(axis=0))\n",
    "h5f.close()"
   ]
  }
 ],
 "metadata": {
  "kernelspec": {
   "display_name": "tensorflow",
   "language": "python",
   "name": "python3"
  },
  "language_info": {
   "codemirror_mode": {
    "name": "ipython",
    "version": 3
   },
   "file_extension": ".py",
   "mimetype": "text/x-python",
   "name": "python",
   "nbconvert_exporter": "python",
   "pygments_lexer": "ipython3",
   "version": "3.7.6"
  }
 },
 "nbformat": 4,
 "nbformat_minor": 2
}
